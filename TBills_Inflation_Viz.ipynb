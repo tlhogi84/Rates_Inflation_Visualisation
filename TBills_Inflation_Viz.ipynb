{
 "cells": [
  {
   "cell_type": "code",
   "execution_count": 1,
   "id": "31e464e3-fe9d-46d3-bcb7-71ff5f4e9779",
   "metadata": {},
   "outputs": [],
   "source": [
    "#References:\n",
    "#https://opendatascience.com/embedding-interactive-python-plots-on-the-web/?utm_campaign=Newsletters&utm_medium=email&_hsmi=2&_hsenc=p2ANqtz--9ju4h651J6NaK1pLkn9DCiyfX8TLk0l5HUxfxVJxin81YXEHMvIGH2_K5Y8VxQMxwDM0ZUVk3J8ulwIFLh4x4WOdNVA&utm_content=2&utm_source=hs_email"
   ]
  },
  {
   "cell_type": "code",
   "execution_count": 46,
   "id": "3962d736-6c36-4d1f-b2f4-2c22de78982d",
   "metadata": {
    "tags": []
   },
   "outputs": [
    {
     "data": {
      "text/html": [
       "        <script type=\"text/javascript\">\n",
       "        window.PlotlyConfig = {MathJaxConfig: 'local'};\n",
       "        if (window.MathJax && window.MathJax.Hub && window.MathJax.Hub.Config) {window.MathJax.Hub.Config({SVG: {font: \"STIX-Web\"}});}\n",
       "        if (typeof require !== 'undefined') {\n",
       "        require.undef(\"plotly\");\n",
       "        requirejs.config({\n",
       "            paths: {\n",
       "                'plotly': ['https://cdn.plot.ly/plotly-2.25.2.min']\n",
       "            }\n",
       "        });\n",
       "        require(['plotly'], function(Plotly) {\n",
       "            window._Plotly = Plotly;\n",
       "        });\n",
       "        }\n",
       "        </script>\n",
       "        "
      ]
     },
     "metadata": {},
     "output_type": "display_data"
    }
   ],
   "source": [
    "import pandas as pd\n",
    "import numpy as np\n",
    "import os\n",
    "\n",
    "import matplotlib.pyplot as plt\n",
    "import plotly.express as px\n",
    "import plotly.graph_objects as go\n",
    "\n",
    "import plotly.io as pio\n",
    "pio.renderers.default = 'notebook'\n",
    "\n",
    "import plotly.offline as pyo\n",
    "pyo.init_notebook_mode(connected=True)\n",
    "\n",
    "import math\n"
   ]
  },
  {
   "cell_type": "code",
   "execution_count": 47,
   "id": "b5c167a1-59a7-4976-9367-1ba15070ab1e",
   "metadata": {
    "tags": []
   },
   "outputs": [],
   "source": [
    "set_wd = os.chdir(r\"C:\\Users\\Tlhogi\\Documents\\Grace\\Investment Work\\6. MM and Cash\\Risk-Free Rates\\Github\")"
   ]
  },
  {
   "cell_type": "code",
   "execution_count": 50,
   "id": "d250f7c8-3008-4590-9b32-5c6b2ecbaecc",
   "metadata": {
    "tags": []
   },
   "outputs": [
    {
     "name": "stdout",
     "output_type": "stream",
     "text": [
      "<class 'pandas.core.frame.DataFrame'>\n",
      "RangeIndex: 27031 entries, 0 to 27030\n",
      "Data columns (total 7 columns):\n",
      " #   Column     Non-Null Count  Dtype  \n",
      "---  ------     --------------  -----  \n",
      " 0   LOCATION   27031 non-null  object \n",
      " 1   INDICATOR  27031 non-null  object \n",
      " 2   SUBJECT    27031 non-null  object \n",
      " 3   MEASURE    27031 non-null  object \n",
      " 4   FREQUENCY  27031 non-null  object \n",
      " 5   TIME       27031 non-null  object \n",
      " 6   Value      27031 non-null  float64\n",
      "dtypes: float64(1), object(6)\n",
      "memory usage: 1.4+ MB\n",
      "<class 'pandas.core.frame.DataFrame'>\n",
      "RangeIndex: 292989 entries, 0 to 292988\n",
      "Data columns (total 7 columns):\n",
      " #   Column     Non-Null Count   Dtype  \n",
      "---  ------     --------------   -----  \n",
      " 0   LOCATION   292989 non-null  object \n",
      " 1   INDICATOR  292989 non-null  object \n",
      " 2   SUBJECT    292989 non-null  object \n",
      " 3   MEASURE    292989 non-null  object \n",
      " 4   FREQUENCY  292989 non-null  object \n",
      " 5   TIME       292989 non-null  object \n",
      " 6   Value      292989 non-null  float64\n",
      "dtypes: float64(1), object(6)\n",
      "memory usage: 15.6+ MB\n",
      "<class 'pandas.core.frame.DataFrame'>\n",
      "RangeIndex: 43 entries, 0 to 42\n",
      "Data columns (total 2 columns):\n",
      " #   Column  Non-Null Count  Dtype \n",
      "---  ------  --------------  ----- \n",
      " 0   Year    43 non-null     int64 \n",
      " 1   Text    43 non-null     object\n",
      "dtypes: int64(1), object(1)\n",
      "memory usage: 816.0+ bytes\n",
      "<class 'pandas.core.frame.DataFrame'>\n",
      "RangeIndex: 55 entries, 0 to 54\n",
      "Data columns (total 5 columns):\n",
      " #   Column        Non-Null Count  Dtype \n",
      "---  ------        --------------  ----- \n",
      " 0   Unnamed: 0    55 non-null     int64 \n",
      " 1   LOCATION      55 non-null     object\n",
      " 2   COUNTRY_NAME  49 non-null     object\n",
      " 3   Region        49 non-null     object\n",
      " 4   SIZE_tag      55 non-null     int64 \n",
      "dtypes: int64(2), object(3)\n",
      "memory usage: 2.3+ KB\n"
     ]
    }
   ],
   "source": [
    "# Load the data\n",
    "df_rates   = pd.read_csv('OECD_Short Interest Rates.csv')\n",
    "df_CPI     = pd.read_csv('OECD_CPI.csv')\n",
    "titles     = pd.read_csv('Titles.csv')\n",
    "data_tags  = pd.read_csv('Data_tags.csv')\n",
    "\n",
    "# Remove the unnecessary columns\n",
    "df_rates = df_rates.drop(columns=['Flag Codes'])\n",
    "df_CPI   = df_CPI.drop(columns=['Flag Codes'])\n",
    "\n",
    "df_rates.info()\n",
    "df_CPI.info()\n",
    "titles.info()\n",
    "data_tags.info()"
   ]
  },
  {
   "cell_type": "code",
   "execution_count": 34,
   "id": "855ff283-c39f-4472-8faf-81f680396839",
   "metadata": {
    "tags": []
   },
   "outputs": [
    {
     "name": "stdout",
     "output_type": "stream",
     "text": [
      "<class 'pandas.core.frame.DataFrame'>\n",
      "Index: 1538 entries, 562 to 26022\n",
      "Data columns (total 7 columns):\n",
      " #   Column     Non-Null Count  Dtype  \n",
      "---  ------     --------------  -----  \n",
      " 0   LOCATION   1538 non-null   object \n",
      " 1   INDICATOR  1538 non-null   object \n",
      " 2   SUBJECT    1538 non-null   object \n",
      " 3   MEASURE    1538 non-null   object \n",
      " 4   FREQUENCY  1538 non-null   object \n",
      " 5   TIME       1538 non-null   object \n",
      " 6   Value      1538 non-null   float64\n",
      "dtypes: float64(1), object(6)\n",
      "memory usage: 96.1+ KB\n",
      "<class 'pandas.core.frame.DataFrame'>\n",
      "Index: 2760 entries, 118 to 290255\n",
      "Data columns (total 7 columns):\n",
      " #   Column     Non-Null Count  Dtype  \n",
      "---  ------     --------------  -----  \n",
      " 0   LOCATION   2760 non-null   object \n",
      " 1   INDICATOR  2760 non-null   object \n",
      " 2   SUBJECT    2760 non-null   object \n",
      " 3   MEASURE    2760 non-null   object \n",
      " 4   FREQUENCY  2760 non-null   object \n",
      " 5   TIME       2760 non-null   object \n",
      " 6   Value      2760 non-null   float64\n",
      "dtypes: float64(1), object(6)\n",
      "memory usage: 172.5+ KB\n"
     ]
    }
   ],
   "source": [
    "# Filter the data based on conditions\n",
    "df_rates_annual = df_rates[df_rates['FREQUENCY'] == 'A']\n",
    "df_CPI_annual = df_CPI[(df_CPI['FREQUENCY'] == 'A') & (df_CPI['SUBJECT'] == 'TOT') & (df_CPI['MEASURE'] == 'AGRWTH')]\n",
    "\n",
    "df_rates_annual.info()\n",
    "df_CPI_annual.info()"
   ]
  },
  {
   "cell_type": "code",
   "execution_count": 35,
   "id": "fcfb4125-e87e-4e41-ac5d-172d364d796f",
   "metadata": {
    "tags": []
   },
   "outputs": [
    {
     "name": "stdout",
     "output_type": "stream",
     "text": [
      "<class 'pandas.core.frame.DataFrame'>\n",
      "Index: 1460 entries, 191 to 1459\n",
      "Data columns (total 11 columns):\n",
      " #   Column           Non-Null Count  Dtype  \n",
      "---  ------           --------------  -----  \n",
      " 0   LOCATION         1460 non-null   object \n",
      " 1   INDICATOR_rates  1460 non-null   object \n",
      " 2   SUBJECT_rates    1460 non-null   object \n",
      " 3   MEASURE_rates    1460 non-null   object \n",
      " 4   FREQUENCY        1460 non-null   object \n",
      " 5   TIME             1460 non-null   object \n",
      " 6   Value_rates      1460 non-null   float64\n",
      " 7   INDICATOR_cpi    1460 non-null   object \n",
      " 8   SUBJECT_cpi      1460 non-null   object \n",
      " 9   MEASURE_cpi      1460 non-null   object \n",
      " 10  Value_cpi        1460 non-null   float64\n",
      "dtypes: float64(2), object(9)\n",
      "memory usage: 136.9+ KB\n"
     ]
    }
   ],
   "source": [
    "#Join the dataframes\n",
    "merged_df = df_rates_annual.merge(df_CPI_annual, on=['LOCATION', 'TIME', \"FREQUENCY\"], suffixes=('_rates', '_cpi'))\n",
    "merged_df = merged_df.sort_values(by='TIME')\n",
    "merged_df.info()"
   ]
  },
  {
   "cell_type": "code",
   "execution_count": 36,
   "id": "616f4c87-ff2e-4e04-a195-12db35b2834d",
   "metadata": {
    "tags": []
   },
   "outputs": [
    {
     "name": "stdout",
     "output_type": "stream",
     "text": [
      "['1981' '1982' '1983' '1984' '1985' '1986' '1987' '1988' '1989' '1990'\n",
      " '1991' '1992' '1993' '1994' '1995' '1996' '1997' '1998' '1999' '2000'\n",
      " '2001' '2002' '2003' '2004' '2005' '2006' '2007' '2008' '2009' '2010'\n",
      " '2011' '2012' '2013' '2014' '2015' '2016' '2017' '2018' '2019' '2020'\n",
      " '2021' '2022']\n",
      "['CAN' 'BEL' 'DEU' 'USA' 'AUS' 'FRA' 'NZL' 'ESP' 'ITA' 'NOR' 'ZAF' 'NLD'\n",
      " 'SWE' 'IRL' 'GBR' 'PRT' 'COL' 'DNK' 'FIN' 'ISL' 'AUT' 'HUN' 'KOR' 'POL'\n",
      " 'ISR' 'CZE' 'GRC' 'SVK' 'MEX' 'RUS' 'EST' 'LVA' 'CHL' 'IDN' 'CHN' 'LUX'\n",
      " 'LTU' 'CHE' 'SVN' 'JPN' 'IND' 'CRI']\n"
     ]
    }
   ],
   "source": [
    "# Identify the years with data for ZAF\n",
    "zaf_years = merged_df[merged_df['LOCATION'] == 'ZAF']['TIME'].unique()\n",
    "\n",
    "# Create a list of all unique countries\n",
    "all_countries = merged_df['LOCATION'].unique()\n",
    "\n",
    "print(zaf_years.view())\n",
    "print(all_countries.view())"
   ]
  },
  {
   "cell_type": "code",
   "execution_count": 37,
   "id": "d410adea-3138-4a06-bb0a-58b74522939d",
   "metadata": {
    "tags": []
   },
   "outputs": [
    {
     "data": {
      "text/html": [
       "<div>\n",
       "<style scoped>\n",
       "    .dataframe tbody tr th:only-of-type {\n",
       "        vertical-align: middle;\n",
       "    }\n",
       "\n",
       "    .dataframe tbody tr th {\n",
       "        vertical-align: top;\n",
       "    }\n",
       "\n",
       "    .dataframe thead th {\n",
       "        text-align: right;\n",
       "    }\n",
       "</style>\n",
       "<table border=\"1\" class=\"dataframe\">\n",
       "  <thead>\n",
       "    <tr style=\"text-align: right;\">\n",
       "      <th></th>\n",
       "      <th>LOCATION</th>\n",
       "      <th>TIME</th>\n",
       "      <th>Value_cpi</th>\n",
       "      <th>Value_rates</th>\n",
       "    </tr>\n",
       "  </thead>\n",
       "  <tbody>\n",
       "    <tr>\n",
       "      <th>423</th>\n",
       "      <td>CHL</td>\n",
       "      <td>2020</td>\n",
       "      <td>-100.0</td>\n",
       "      <td>-100.0</td>\n",
       "    </tr>\n",
       "    <tr>\n",
       "      <th>424</th>\n",
       "      <td>RUS</td>\n",
       "      <td>2020</td>\n",
       "      <td>-100.0</td>\n",
       "      <td>-100.0</td>\n",
       "    </tr>\n",
       "    <tr>\n",
       "      <th>425</th>\n",
       "      <td>CHN</td>\n",
       "      <td>2022</td>\n",
       "      <td>-100.0</td>\n",
       "      <td>-100.0</td>\n",
       "    </tr>\n",
       "    <tr>\n",
       "      <th>426</th>\n",
       "      <td>CRI</td>\n",
       "      <td>2022</td>\n",
       "      <td>-100.0</td>\n",
       "      <td>-100.0</td>\n",
       "    </tr>\n",
       "    <tr>\n",
       "      <th>427</th>\n",
       "      <td>RUS</td>\n",
       "      <td>2022</td>\n",
       "      <td>-100.0</td>\n",
       "      <td>-100.0</td>\n",
       "    </tr>\n",
       "  </tbody>\n",
       "</table>\n",
       "</div>"
      ],
      "text/plain": [
       "    LOCATION  TIME  Value_cpi  Value_rates\n",
       "423      CHL  2020     -100.0       -100.0\n",
       "424      RUS  2020     -100.0       -100.0\n",
       "425      CHN  2022     -100.0       -100.0\n",
       "426      CRI  2022     -100.0       -100.0\n",
       "427      RUS  2022     -100.0       -100.0"
      ]
     },
     "execution_count": 37,
     "metadata": {},
     "output_type": "execute_result"
    }
   ],
   "source": [
    "# Create a new DataFrame with nonsensical data for years without ZAF data\n",
    "# This is because I want to retain the country data for the years where it is available\n",
    "# Plotly otherwise eliminates the full record of country data, reducing the sample of countries visible over time\n",
    "\n",
    "nonsensical_data = []\n",
    "for year in zaf_years:\n",
    "    if year in merged_df['TIME'].unique():\n",
    "        locations_with_data = merged_df[merged_df['TIME'] == year]['LOCATION'].unique()\n",
    "        locations_without_data = np.setdiff1d(all_countries, locations_with_data)\n",
    "        \n",
    "        for location in locations_without_data:\n",
    "            nonsensical_data.append({'LOCATION': location, 'TIME': year, 'Value_cpi': -100.0, 'Value_rates': -100.0})\n",
    "\n",
    "nonsensical_df = pd.DataFrame(nonsensical_data)\n",
    "nonsensical_df.tail()"
   ]
  },
  {
   "cell_type": "code",
   "execution_count": 38,
   "id": "506b9aeb-dcce-48fc-b693-185b9fc670cd",
   "metadata": {
    "tags": []
   },
   "outputs": [
    {
     "data": {
      "text/html": [
       "<div>\n",
       "<style scoped>\n",
       "    .dataframe tbody tr th:only-of-type {\n",
       "        vertical-align: middle;\n",
       "    }\n",
       "\n",
       "    .dataframe tbody tr th {\n",
       "        vertical-align: top;\n",
       "    }\n",
       "\n",
       "    .dataframe thead th {\n",
       "        text-align: right;\n",
       "    }\n",
       "</style>\n",
       "<table border=\"1\" class=\"dataframe\">\n",
       "  <thead>\n",
       "    <tr style=\"text-align: right;\">\n",
       "      <th></th>\n",
       "      <th>LOCATION</th>\n",
       "      <th>INDICATOR_rates</th>\n",
       "      <th>SUBJECT_rates</th>\n",
       "      <th>MEASURE_rates</th>\n",
       "      <th>FREQUENCY</th>\n",
       "      <th>TIME</th>\n",
       "      <th>Value_rates</th>\n",
       "      <th>INDICATOR_cpi</th>\n",
       "      <th>SUBJECT_cpi</th>\n",
       "      <th>MEASURE_cpi</th>\n",
       "      <th>Value_cpi</th>\n",
       "    </tr>\n",
       "  </thead>\n",
       "  <tbody>\n",
       "    <tr>\n",
       "      <th>1883</th>\n",
       "      <td>CHL</td>\n",
       "      <td>NaN</td>\n",
       "      <td>NaN</td>\n",
       "      <td>NaN</td>\n",
       "      <td>NaN</td>\n",
       "      <td>2020</td>\n",
       "      <td>-100.0</td>\n",
       "      <td>NaN</td>\n",
       "      <td>NaN</td>\n",
       "      <td>NaN</td>\n",
       "      <td>-100.0</td>\n",
       "    </tr>\n",
       "    <tr>\n",
       "      <th>1884</th>\n",
       "      <td>RUS</td>\n",
       "      <td>NaN</td>\n",
       "      <td>NaN</td>\n",
       "      <td>NaN</td>\n",
       "      <td>NaN</td>\n",
       "      <td>2020</td>\n",
       "      <td>-100.0</td>\n",
       "      <td>NaN</td>\n",
       "      <td>NaN</td>\n",
       "      <td>NaN</td>\n",
       "      <td>-100.0</td>\n",
       "    </tr>\n",
       "    <tr>\n",
       "      <th>1885</th>\n",
       "      <td>CHN</td>\n",
       "      <td>NaN</td>\n",
       "      <td>NaN</td>\n",
       "      <td>NaN</td>\n",
       "      <td>NaN</td>\n",
       "      <td>2022</td>\n",
       "      <td>-100.0</td>\n",
       "      <td>NaN</td>\n",
       "      <td>NaN</td>\n",
       "      <td>NaN</td>\n",
       "      <td>-100.0</td>\n",
       "    </tr>\n",
       "    <tr>\n",
       "      <th>1886</th>\n",
       "      <td>CRI</td>\n",
       "      <td>NaN</td>\n",
       "      <td>NaN</td>\n",
       "      <td>NaN</td>\n",
       "      <td>NaN</td>\n",
       "      <td>2022</td>\n",
       "      <td>-100.0</td>\n",
       "      <td>NaN</td>\n",
       "      <td>NaN</td>\n",
       "      <td>NaN</td>\n",
       "      <td>-100.0</td>\n",
       "    </tr>\n",
       "    <tr>\n",
       "      <th>1887</th>\n",
       "      <td>RUS</td>\n",
       "      <td>NaN</td>\n",
       "      <td>NaN</td>\n",
       "      <td>NaN</td>\n",
       "      <td>NaN</td>\n",
       "      <td>2022</td>\n",
       "      <td>-100.0</td>\n",
       "      <td>NaN</td>\n",
       "      <td>NaN</td>\n",
       "      <td>NaN</td>\n",
       "      <td>-100.0</td>\n",
       "    </tr>\n",
       "  </tbody>\n",
       "</table>\n",
       "</div>"
      ],
      "text/plain": [
       "     LOCATION INDICATOR_rates SUBJECT_rates MEASURE_rates FREQUENCY  TIME   \n",
       "1883      CHL             NaN           NaN           NaN       NaN  2020  \\\n",
       "1884      RUS             NaN           NaN           NaN       NaN  2020   \n",
       "1885      CHN             NaN           NaN           NaN       NaN  2022   \n",
       "1886      CRI             NaN           NaN           NaN       NaN  2022   \n",
       "1887      RUS             NaN           NaN           NaN       NaN  2022   \n",
       "\n",
       "      Value_rates INDICATOR_cpi SUBJECT_cpi MEASURE_cpi  Value_cpi  \n",
       "1883       -100.0           NaN         NaN         NaN     -100.0  \n",
       "1884       -100.0           NaN         NaN         NaN     -100.0  \n",
       "1885       -100.0           NaN         NaN         NaN     -100.0  \n",
       "1886       -100.0           NaN         NaN         NaN     -100.0  \n",
       "1887       -100.0           NaN         NaN         NaN     -100.0  "
      ]
     },
     "execution_count": 38,
     "metadata": {},
     "output_type": "execute_result"
    }
   ],
   "source": [
    "# Combine the nonsensical data with the original filtered data\n",
    "new_merge_df = pd.concat([merged_df, nonsensical_df], ignore_index=True)\n",
    "new_merge_df = new_merge_df[new_merge_df['TIME'].isin(zaf_years)]  # Filter out non-ZAF years\n",
    "new_merge_df.tail()\n",
    "#new_merge_df.to_csv(\"new_merge_df.csv\")"
   ]
  },
  {
   "cell_type": "code",
   "execution_count": 39,
   "id": "3ee20533-17a2-4996-a02e-ecc5d5119152",
   "metadata": {
    "tags": []
   },
   "outputs": [
    {
     "data": {
      "text/plain": [
       "LOCATION\n",
       "AUS      3.790000\n",
       "AUT      3.090986\n",
       "BEL      3.090986\n",
       "BGR      1.265333\n",
       "CAN      4.865049\n",
       "CHE      1.283333\n",
       "CHL     11.240000\n",
       "CHN      2.928333\n",
       "COL     13.307143\n",
       "CRI      5.935000\n",
       "CZE      7.175714\n",
       "DEU      3.090986\n",
       "DNK      3.215573\n",
       "EA19     3.090986\n",
       "ESP      3.090986\n",
       "EST      3.090986\n",
       "FIN      3.090986\n",
       "FRA      3.090986\n",
       "GBR      4.625714\n",
       "GRC      3.090986\n",
       "HRV      3.090986\n",
       "HUN     15.393229\n",
       "IDN      6.742857\n",
       "IND      6.738333\n",
       "IRL      3.090986\n",
       "ISL      8.243333\n",
       "ISR      4.230000\n",
       "ITA      3.090986\n",
       "JPN     -0.006000\n",
       "KOR      3.652857\n",
       "LTU      3.090986\n",
       "LUX      3.090986\n",
       "LVA      3.090986\n",
       "MEX     11.422857\n",
       "NLD      3.090986\n",
       "NOR      3.848571\n",
       "NZL      5.354286\n",
       "POL      6.891429\n",
       "PRT      3.090986\n",
       "ROU      6.821214\n",
       "SVK      3.090986\n",
       "SVN      3.090986\n",
       "SWE      3.300857\n",
       "USA      5.001429\n",
       "ZAF      7.565315\n",
       "Name: Value, dtype: float64"
      ]
     },
     "execution_count": 39,
     "metadata": {},
     "output_type": "execute_result"
    }
   ],
   "source": [
    "df_rates_monthly = df_rates[df_rates['FREQUENCY'] == 'M']\n",
    "average_rates_2023 = df_rates_monthly[df_rates_monthly['TIME'].str.endswith('-23')].groupby('LOCATION')['Value'].mean()\n",
    "average_rates_2023[:]"
   ]
  },
  {
   "cell_type": "code",
   "execution_count": 40,
   "id": "3c6600e1-503e-4dc1-8538-7183a2eba4f7",
   "metadata": {
    "tags": []
   },
   "outputs": [
    {
     "data": {
      "text/plain": [
       "LOCATION\n",
       "ARG          107.381182\n",
       "AUT            9.632401\n",
       "BEL            5.774873\n",
       "BRA            4.550629\n",
       "CAN            1.451093\n",
       "CHE            2.519953\n",
       "CHL            9.720827\n",
       "CHN            0.683333\n",
       "COL           12.710429\n",
       "CZE           13.061081\n",
       "DEU            7.220192\n",
       "DNK            5.117183\n",
       "ESP            3.818338\n",
       "EST           13.116846\n",
       "EU27_2020      8.300000\n",
       "FIN            7.698069\n",
       "FRA            5.584939\n",
       "G-20           6.877370\n",
       "G-7            5.401457\n",
       "GBR            8.316667\n",
       "GRC            3.962918\n",
       "HUN           22.785714\n",
       "IDN            4.378288\n",
       "IND            5.531690\n",
       "IRL            7.312082\n",
       "ISL            9.403308\n",
       "ISR            4.904847\n",
       "ITA            7.837540\n",
       "JPN            3.466667\n",
       "KOR            3.741812\n",
       "LTU           14.003855\n",
       "LUX            3.853866\n",
       "LVA           14.364172\n",
       "MEX            6.329660\n",
       "NLD            5.921972\n",
       "NOR            6.387559\n",
       "OECD           7.534789\n",
       "OECDE         11.949205\n",
       "POL           15.050000\n",
       "PRT            5.742516\n",
       "SAU            2.876779\n",
       "SVK           13.655135\n",
       "SVN            8.660030\n",
       "SWE           10.620355\n",
       "TUR           47.475635\n",
       "USA            4.896307\n",
       "ZAF            6.859463\n",
       "Name: Value, dtype: float64"
      ]
     },
     "execution_count": 40,
     "metadata": {},
     "output_type": "execute_result"
    }
   ],
   "source": [
    "df_CPI_monthly   = df_CPI[(df_CPI['FREQUENCY'] == 'M') & (df_CPI['SUBJECT'] == 'TOT') & (df_CPI['MEASURE'] == 'AGRWTH')]\n",
    "average_CPI_2023 = df_CPI_monthly[df_CPI_monthly['TIME'].str.endswith('-23')].groupby('LOCATION')['Value'].mean()\n",
    "average_CPI_2023[:]"
   ]
  },
  {
   "cell_type": "code",
   "execution_count": 41,
   "id": "4b869478-6121-43eb-87b7-1136e79966cf",
   "metadata": {
    "tags": []
   },
   "outputs": [
    {
     "data": {
      "text/html": [
       "<div>\n",
       "<style scoped>\n",
       "    .dataframe tbody tr th:only-of-type {\n",
       "        vertical-align: middle;\n",
       "    }\n",
       "\n",
       "    .dataframe tbody tr th {\n",
       "        vertical-align: top;\n",
       "    }\n",
       "\n",
       "    .dataframe thead th {\n",
       "        text-align: right;\n",
       "    }\n",
       "</style>\n",
       "<table border=\"1\" class=\"dataframe\">\n",
       "  <thead>\n",
       "    <tr style=\"text-align: right;\">\n",
       "      <th></th>\n",
       "      <th>LOCATION</th>\n",
       "      <th>TIME</th>\n",
       "      <th>Value_rates</th>\n",
       "      <th>Value_cpi</th>\n",
       "    </tr>\n",
       "  </thead>\n",
       "  <tbody>\n",
       "    <tr>\n",
       "      <th>0</th>\n",
       "      <td>CAN</td>\n",
       "      <td>1981</td>\n",
       "      <td>18.375630</td>\n",
       "      <td>12.471610</td>\n",
       "    </tr>\n",
       "    <tr>\n",
       "      <th>1</th>\n",
       "      <td>ESP</td>\n",
       "      <td>1981</td>\n",
       "      <td>16.177660</td>\n",
       "      <td>14.549350</td>\n",
       "    </tr>\n",
       "    <tr>\n",
       "      <th>2</th>\n",
       "      <td>DEU</td>\n",
       "      <td>1981</td>\n",
       "      <td>12.105000</td>\n",
       "      <td>6.344242</td>\n",
       "    </tr>\n",
       "    <tr>\n",
       "      <th>3</th>\n",
       "      <td>FRA</td>\n",
       "      <td>1981</td>\n",
       "      <td>15.259170</td>\n",
       "      <td>13.314400</td>\n",
       "    </tr>\n",
       "    <tr>\n",
       "      <th>4</th>\n",
       "      <td>ZAF</td>\n",
       "      <td>1981</td>\n",
       "      <td>9.723521</td>\n",
       "      <td>15.254240</td>\n",
       "    </tr>\n",
       "    <tr>\n",
       "      <th>...</th>\n",
       "      <td>...</td>\n",
       "      <td>...</td>\n",
       "      <td>...</td>\n",
       "      <td>...</td>\n",
       "    </tr>\n",
       "    <tr>\n",
       "      <th>27363</th>\n",
       "      <td>CRI</td>\n",
       "      <td>2023</td>\n",
       "      <td>5.935000</td>\n",
       "      <td>-100.000000</td>\n",
       "    </tr>\n",
       "    <tr>\n",
       "      <th>27546</th>\n",
       "      <td>IND</td>\n",
       "      <td>2023</td>\n",
       "      <td>6.738333</td>\n",
       "      <td>5.531690</td>\n",
       "    </tr>\n",
       "    <tr>\n",
       "      <th>27742</th>\n",
       "      <td>BGR</td>\n",
       "      <td>2023</td>\n",
       "      <td>1.265333</td>\n",
       "      <td>-100.000000</td>\n",
       "    </tr>\n",
       "    <tr>\n",
       "      <th>27760</th>\n",
       "      <td>ROU</td>\n",
       "      <td>2023</td>\n",
       "      <td>6.821214</td>\n",
       "      <td>-100.000000</td>\n",
       "    </tr>\n",
       "    <tr>\n",
       "      <th>28208</th>\n",
       "      <td>HRV</td>\n",
       "      <td>2023</td>\n",
       "      <td>3.090986</td>\n",
       "      <td>-100.000000</td>\n",
       "    </tr>\n",
       "  </tbody>\n",
       "</table>\n",
       "<p>1810 rows × 4 columns</p>\n",
       "</div>"
      ],
      "text/plain": [
       "      LOCATION  TIME  Value_rates   Value_cpi\n",
       "0          CAN  1981    18.375630   12.471610\n",
       "1          ESP  1981    16.177660   14.549350\n",
       "2          DEU  1981    12.105000    6.344242\n",
       "3          FRA  1981    15.259170   13.314400\n",
       "4          ZAF  1981     9.723521   15.254240\n",
       "...        ...   ...          ...         ...\n",
       "27363      CRI  2023     5.935000 -100.000000\n",
       "27546      IND  2023     6.738333    5.531690\n",
       "27742      BGR  2023     1.265333 -100.000000\n",
       "27760      ROU  2023     6.821214 -100.000000\n",
       "28208      HRV  2023     3.090986 -100.000000\n",
       "\n",
       "[1810 rows x 4 columns]"
      ]
     },
     "execution_count": 41,
     "metadata": {},
     "output_type": "execute_result"
    }
   ],
   "source": [
    "# Create new rows for 2023 in new_merge_df\n",
    "new_rows_2023 = []\n",
    "for location in df_rates['LOCATION']:\n",
    "    new_row = {\n",
    "        'LOCATION'     : location,\n",
    "        'TIME'         : '2023',\n",
    "        'Value_rates'  : average_rates_2023.get(location, -100.0),   # Set default value if location not found\n",
    "        'Value_cpi'    : average_CPI_2023.get(location, -100.0)       # Set default value if location not found\n",
    "    }\n",
    "    new_rows_2023.append(new_row)\n",
    "\n",
    "# Create a DataFrame from the new rows\n",
    "new_rows_df = pd.DataFrame(new_rows_2023)\n",
    "    \n",
    "# Append new rows to new_merge_df\n",
    "final_df = pd.concat([new_merge_df, new_rows_df], ignore_index=True)\n",
    "\n",
    "#Keeping only the required columns:\n",
    "final_df = final_df[['LOCATION', 'TIME', 'Value_rates', 'Value_cpi']]\n",
    "\n",
    "# Remove duplicate rows based on specified columns\n",
    "final_df = final_df.drop_duplicates(subset=['LOCATION', 'TIME', 'Value_rates', 'Value_cpi'])\n",
    "\n",
    "final_df[:]"
   ]
  },
  {
   "cell_type": "code",
   "execution_count": 42,
   "id": "e6d72aee-0b88-402a-a0ba-3eecee126e08",
   "metadata": {
    "tags": []
   },
   "outputs": [
    {
     "data": {
      "text/html": [
       "<div>\n",
       "<style scoped>\n",
       "    .dataframe tbody tr th:only-of-type {\n",
       "        vertical-align: middle;\n",
       "    }\n",
       "\n",
       "    .dataframe tbody tr th {\n",
       "        vertical-align: top;\n",
       "    }\n",
       "\n",
       "    .dataframe thead th {\n",
       "        text-align: right;\n",
       "    }\n",
       "</style>\n",
       "<table border=\"1\" class=\"dataframe\">\n",
       "  <thead>\n",
       "    <tr style=\"text-align: right;\">\n",
       "      <th></th>\n",
       "      <th>Unnamed: 0</th>\n",
       "      <th>LOCATION</th>\n",
       "      <th>COUNTRY_NAME</th>\n",
       "      <th>Region</th>\n",
       "      <th>SIZE_tag</th>\n",
       "    </tr>\n",
       "  </thead>\n",
       "  <tbody>\n",
       "    <tr>\n",
       "      <th>40</th>\n",
       "      <td>41</td>\n",
       "      <td>EST</td>\n",
       "      <td>Estonia</td>\n",
       "      <td>EM_Other</td>\n",
       "      <td>50</td>\n",
       "    </tr>\n",
       "    <tr>\n",
       "      <th>41</th>\n",
       "      <td>42</td>\n",
       "      <td>CHN</td>\n",
       "      <td>China</td>\n",
       "      <td>EM_Other</td>\n",
       "      <td>50</td>\n",
       "    </tr>\n",
       "    <tr>\n",
       "      <th>42</th>\n",
       "      <td>43</td>\n",
       "      <td>CRI</td>\n",
       "      <td>Costa Rica</td>\n",
       "      <td>EM_Other</td>\n",
       "      <td>50</td>\n",
       "    </tr>\n",
       "    <tr>\n",
       "      <th>43</th>\n",
       "      <td>44</td>\n",
       "      <td>TUR</td>\n",
       "      <td>Turkey</td>\n",
       "      <td>EM_Other</td>\n",
       "      <td>50</td>\n",
       "    </tr>\n",
       "    <tr>\n",
       "      <th>44</th>\n",
       "      <td>45</td>\n",
       "      <td>SAU</td>\n",
       "      <td>Saudi Arabia</td>\n",
       "      <td>EM_Other</td>\n",
       "      <td>50</td>\n",
       "    </tr>\n",
       "    <tr>\n",
       "      <th>45</th>\n",
       "      <td>46</td>\n",
       "      <td>RUS</td>\n",
       "      <td>Russia</td>\n",
       "      <td>EM_Other</td>\n",
       "      <td>50</td>\n",
       "    </tr>\n",
       "    <tr>\n",
       "      <th>46</th>\n",
       "      <td>47</td>\n",
       "      <td>ROU</td>\n",
       "      <td>Romania</td>\n",
       "      <td>EM_Other</td>\n",
       "      <td>50</td>\n",
       "    </tr>\n",
       "    <tr>\n",
       "      <th>47</th>\n",
       "      <td>48</td>\n",
       "      <td>HRV</td>\n",
       "      <td>Croatia</td>\n",
       "      <td>EM_Other</td>\n",
       "      <td>50</td>\n",
       "    </tr>\n",
       "    <tr>\n",
       "      <th>48</th>\n",
       "      <td>49</td>\n",
       "      <td>ARG</td>\n",
       "      <td>Argentina</td>\n",
       "      <td>EM_Other</td>\n",
       "      <td>50</td>\n",
       "    </tr>\n",
       "  </tbody>\n",
       "</table>\n",
       "</div>"
      ],
      "text/plain": [
       "    Unnamed: 0 LOCATION  COUNTRY_NAME    Region  SIZE_tag\n",
       "40          41      EST       Estonia  EM_Other        50\n",
       "41          42      CHN         China  EM_Other        50\n",
       "42          43      CRI    Costa Rica  EM_Other        50\n",
       "43          44      TUR        Turkey  EM_Other        50\n",
       "44          45      SAU  Saudi Arabia  EM_Other        50\n",
       "45          46      RUS        Russia  EM_Other        50\n",
       "46          47      ROU       Romania  EM_Other        50\n",
       "47          48      HRV       Croatia  EM_Other        50\n",
       "48          49      ARG     Argentina  EM_Other        50"
      ]
     },
     "execution_count": 42,
     "metadata": {},
     "output_type": "execute_result"
    }
   ],
   "source": [
    "#Drop the non-country data from index data\n",
    "country_index = data_tags.dropna(subset=['COUNTRY_NAME'])\n",
    "country_index[40:]"
   ]
  },
  {
   "cell_type": "code",
   "execution_count": 43,
   "id": "c92aeda4-d6c5-4b0c-bad3-f14a89075c48",
   "metadata": {
    "tags": []
   },
   "outputs": [
    {
     "data": {
      "text/html": [
       "<div>\n",
       "<style scoped>\n",
       "    .dataframe tbody tr th:only-of-type {\n",
       "        vertical-align: middle;\n",
       "    }\n",
       "\n",
       "    .dataframe tbody tr th {\n",
       "        vertical-align: top;\n",
       "    }\n",
       "\n",
       "    .dataframe thead th {\n",
       "        text-align: right;\n",
       "    }\n",
       "</style>\n",
       "<table border=\"1\" class=\"dataframe\">\n",
       "  <thead>\n",
       "    <tr style=\"text-align: right;\">\n",
       "      <th></th>\n",
       "      <th>LOCATION</th>\n",
       "      <th>TIME</th>\n",
       "      <th>Value_rates</th>\n",
       "      <th>Value_cpi</th>\n",
       "      <th>Region</th>\n",
       "      <th>COUNTRY_NAME</th>\n",
       "      <th>SIZE_tag</th>\n",
       "    </tr>\n",
       "  </thead>\n",
       "  <tbody>\n",
       "    <tr>\n",
       "      <th>10</th>\n",
       "      <td>USA</td>\n",
       "      <td>1981</td>\n",
       "      <td>15.910830</td>\n",
       "      <td>10.334710</td>\n",
       "      <td>United States</td>\n",
       "      <td>United States</td>\n",
       "      <td>200.0</td>\n",
       "    </tr>\n",
       "    <tr>\n",
       "      <th>4</th>\n",
       "      <td>ZAF</td>\n",
       "      <td>1981</td>\n",
       "      <td>9.723521</td>\n",
       "      <td>15.254240</td>\n",
       "      <td>South Africa</td>\n",
       "      <td>South Africa</td>\n",
       "      <td>400.0</td>\n",
       "    </tr>\n",
       "    <tr>\n",
       "      <th>0</th>\n",
       "      <td>CAN</td>\n",
       "      <td>1981</td>\n",
       "      <td>18.375630</td>\n",
       "      <td>12.471610</td>\n",
       "      <td>G7_ex US</td>\n",
       "      <td>Canada</td>\n",
       "      <td>50.0</td>\n",
       "    </tr>\n",
       "    <tr>\n",
       "      <th>2</th>\n",
       "      <td>DEU</td>\n",
       "      <td>1981</td>\n",
       "      <td>12.105000</td>\n",
       "      <td>6.344242</td>\n",
       "      <td>G7_ex US</td>\n",
       "      <td>Germany</td>\n",
       "      <td>50.0</td>\n",
       "    </tr>\n",
       "    <tr>\n",
       "      <th>3</th>\n",
       "      <td>FRA</td>\n",
       "      <td>1981</td>\n",
       "      <td>15.259170</td>\n",
       "      <td>13.314400</td>\n",
       "      <td>G7_ex US</td>\n",
       "      <td>France</td>\n",
       "      <td>50.0</td>\n",
       "    </tr>\n",
       "    <tr>\n",
       "      <th>...</th>\n",
       "      <td>...</td>\n",
       "      <td>...</td>\n",
       "      <td>...</td>\n",
       "      <td>...</td>\n",
       "      <td>...</td>\n",
       "      <td>...</td>\n",
       "      <td>...</td>\n",
       "    </tr>\n",
       "    <tr>\n",
       "      <th>1777</th>\n",
       "      <td>DNK</td>\n",
       "      <td>2023</td>\n",
       "      <td>3.215573</td>\n",
       "      <td>5.117183</td>\n",
       "      <td>DM_Europe</td>\n",
       "      <td>Denmark</td>\n",
       "      <td>50.0</td>\n",
       "    </tr>\n",
       "    <tr>\n",
       "      <th>1782</th>\n",
       "      <td>ESP</td>\n",
       "      <td>2023</td>\n",
       "      <td>3.090986</td>\n",
       "      <td>3.818338</td>\n",
       "      <td>DM_Europe</td>\n",
       "      <td>Spain</td>\n",
       "      <td>50.0</td>\n",
       "    </tr>\n",
       "    <tr>\n",
       "      <th>1790</th>\n",
       "      <td>AUT</td>\n",
       "      <td>2023</td>\n",
       "      <td>3.090986</td>\n",
       "      <td>9.632401</td>\n",
       "      <td>DM_Europe</td>\n",
       "      <td>Austria</td>\n",
       "      <td>50.0</td>\n",
       "    </tr>\n",
       "    <tr>\n",
       "      <th>1797</th>\n",
       "      <td>NLD</td>\n",
       "      <td>2023</td>\n",
       "      <td>3.090986</td>\n",
       "      <td>5.921972</td>\n",
       "      <td>DM_Europe</td>\n",
       "      <td>Netherlands</td>\n",
       "      <td>50.0</td>\n",
       "    </tr>\n",
       "    <tr>\n",
       "      <th>1798</th>\n",
       "      <td>PRT</td>\n",
       "      <td>2023</td>\n",
       "      <td>3.090986</td>\n",
       "      <td>5.742516</td>\n",
       "      <td>DM_Europe</td>\n",
       "      <td>Portugal</td>\n",
       "      <td>50.0</td>\n",
       "    </tr>\n",
       "  </tbody>\n",
       "</table>\n",
       "<p>1809 rows × 7 columns</p>\n",
       "</div>"
      ],
      "text/plain": [
       "     LOCATION  TIME  Value_rates  Value_cpi         Region   COUNTRY_NAME   \n",
       "10        USA  1981    15.910830  10.334710  United States  United States  \\\n",
       "4         ZAF  1981     9.723521  15.254240   South Africa   South Africa   \n",
       "0         CAN  1981    18.375630  12.471610       G7_ex US         Canada   \n",
       "2         DEU  1981    12.105000   6.344242       G7_ex US        Germany   \n",
       "3         FRA  1981    15.259170  13.314400       G7_ex US         France   \n",
       "...       ...   ...          ...        ...            ...            ...   \n",
       "1777      DNK  2023     3.215573   5.117183      DM_Europe        Denmark   \n",
       "1782      ESP  2023     3.090986   3.818338      DM_Europe          Spain   \n",
       "1790      AUT  2023     3.090986   9.632401      DM_Europe        Austria   \n",
       "1797      NLD  2023     3.090986   5.921972      DM_Europe    Netherlands   \n",
       "1798      PRT  2023     3.090986   5.742516      DM_Europe       Portugal   \n",
       "\n",
       "      SIZE_tag  \n",
       "10       200.0  \n",
       "4        400.0  \n",
       "0         50.0  \n",
       "2         50.0  \n",
       "3         50.0  \n",
       "...        ...  \n",
       "1777      50.0  \n",
       "1782      50.0  \n",
       "1790      50.0  \n",
       "1797      50.0  \n",
       "1798      50.0  \n",
       "\n",
       "[1809 rows x 7 columns]"
      ]
     },
     "execution_count": 43,
     "metadata": {},
     "output_type": "execute_result"
    }
   ],
   "source": [
    "# Perform a left merge to incorporate COLOUR_tag and SIZE_tag columns from countries_index into final_df\n",
    "tagged_df = final_df.merge(country_index[['LOCATION', 'Region', 'COUNTRY_NAME', 'SIZE_tag']], on='LOCATION', how='left')\n",
    "tagged_df = tagged_df.dropna()\n",
    "tagged_df.sort_values(by=['TIME', 'Region'], ascending=[True, False], inplace=True)\n",
    "tagged_df[:]"
   ]
  },
  {
   "cell_type": "code",
   "execution_count": 44,
   "id": "74cf076c-f4b8-4012-8a2f-e7c0ee00764c",
   "metadata": {
    "tags": []
   },
   "outputs": [
    {
     "name": "stdout",
     "output_type": "stream",
     "text": [
      "Minimum Inflation    =  -5\n",
      "Maximum Inflation    =  90\n",
      "Minimum Nominal Rate =  -5\n",
      "Minimum Nominal Rate =  50\n"
     ]
    }
   ],
   "source": [
    "# Calculate minimum and maximum values for the graph axes excluding -100 values\n",
    "min_value_x = math.floor(merged_df[merged_df['Value_cpi'] != -100]['Value_cpi'].min())\n",
    "max_value_x = math.ceil(merged_df[merged_df['Value_cpi'] != -100]['Value_cpi'].max())\n",
    "min_value_y = math.floor(merged_df[merged_df['Value_rates'] != -100]['Value_rates'].min())\n",
    "max_value_y = math.ceil(merged_df[merged_df['Value_rates'] != -100]['Value_rates'].max())\n",
    "\n",
    "# Round to the nearest multiple of 5\n",
    "min_value_x = min_value_x - (min_value_x % 5)\n",
    "max_value_x = max_value_x + (5 - max_value_x % 5)\n",
    "min_value_y = min_value_y - (min_value_y % 5)\n",
    "max_value_y = max_value_y + (5 - max_value_y % 5)\n",
    "\n",
    "print(\"Minimum Inflation    = \" , min_value_x)\n",
    "print(\"Maximum Inflation    = \" , max_value_x)\n",
    "print(\"Minimum Nominal Rate = \" , min_value_y)\n",
    "print(\"Minimum Nominal Rate = \" , max_value_y)"
   ]
  },
  {
   "cell_type": "code",
   "execution_count": 51,
   "id": "014cafa4-4d81-4935-a7bc-292920f7d284",
   "metadata": {
    "tags": []
   },
   "outputs": [
    {
     "data": {
      "application/vnd.plotly.v1+json": {
       "config": {
        "plotlyServerURL": "https://plot.ly"
       },
       "data": [
        {
         "hovertemplate": "<b>%{hovertext}</b><br><br>Region=United States<br>TIME=2023<br>Inflation Rate=%{x}<br>Nominal Interest Rate (3m T-Bill)=%{y}<br>size=%{marker.size}<extra></extra>",
         "hovertext": [
          "United States"
         ],
         "ids": [
          "USA"
         ],
         "legendgroup": "United States",
         "marker": {
          "color": "#636efa",
          "opacity": 0.7,
          "size": [
           200
          ],
          "sizemode": "area",
          "sizeref": 0.16,
          "symbol": "circle"
         },
         "mode": "markers",
         "name": "United States",
         "orientation": "v",
         "showlegend": true,
         "type": "scatter",
         "x": [
          4.896306833333333
         ],
         "xaxis": "x",
         "y": [
          5.001428571428571
         ],
         "yaxis": "y"
        },
        {
         "hovertemplate": "<b>%{hovertext}</b><br><br>Region=South Africa<br>TIME=2023<br>Inflation Rate=%{x}<br>Nominal Interest Rate (3m T-Bill)=%{y}<br>size=%{marker.size}<extra></extra>",
         "hovertext": [
          "South Africa"
         ],
         "ids": [
          "ZAF"
         ],
         "legendgroup": "South Africa",
         "marker": {
          "color": "#EF553B",
          "opacity": 0.7,
          "size": [
           400
          ],
          "sizemode": "area",
          "sizeref": 0.16,
          "symbol": "circle"
         },
         "mode": "markers",
         "name": "South Africa",
         "orientation": "v",
         "showlegend": true,
         "type": "scatter",
         "x": [
          6.859463000000001
         ],
         "xaxis": "x",
         "y": [
          7.565315
         ],
         "yaxis": "y"
        },
        {
         "hovertemplate": "<b>%{hovertext}</b><br><br>Region=G7_ex US<br>TIME=2023<br>Inflation Rate=%{x}<br>Nominal Interest Rate (3m T-Bill)=%{y}<br>size=%{marker.size}<extra></extra>",
         "hovertext": [
          "France",
          "Canada",
          "United Kingdom",
          "Japan",
          "Italy",
          "Germany"
         ],
         "ids": [
          "FRA",
          "CAN",
          "GBR",
          "JPN",
          "ITA",
          "DEU"
         ],
         "legendgroup": "G7_ex US",
         "marker": {
          "color": "#00cc96",
          "opacity": 0.7,
          "size": [
           50,
           50,
           50,
           50,
           50,
           50
          ],
          "sizemode": "area",
          "sizeref": 0.16,
          "symbol": "circle"
         },
         "mode": "markers",
         "name": "G7_ex US",
         "orientation": "v",
         "showlegend": true,
         "type": "scatter",
         "x": [
          5.584939333333334,
          1.4510933888888888,
          8.316666666666666,
          3.466666666666667,
          7.837540142857144,
          7.220191857142857
         ],
         "xaxis": "x",
         "y": [
          3.0909857142857144,
          4.865049285714286,
          4.625714285714286,
          -0.006000000000000001,
          3.0909857142857144,
          3.0909857142857144
         ],
         "yaxis": "y"
        },
        {
         "hovertemplate": "<b>%{hovertext}</b><br><br>Region=EM_Peer<br>TIME=2023<br>Inflation Rate=%{x}<br>Nominal Interest Rate (3m T-Bill)=%{y}<br>size=%{marker.size}<extra></extra>",
         "hovertext": [
          "Chile",
          "Indonesia",
          "Hungary",
          "Mexico",
          "Colombia",
          "India"
         ],
         "ids": [
          "CHL",
          "IDN",
          "HUN",
          "MEX",
          "COL",
          "IND"
         ],
         "legendgroup": "EM_Peer",
         "marker": {
          "color": "#ab63fa",
          "opacity": 0.7,
          "size": [
           100,
           100,
           100,
           100,
           100,
           100
          ],
          "sizemode": "area",
          "sizeref": 0.16,
          "symbol": "circle"
         },
         "mode": "markers",
         "name": "EM_Peer",
         "orientation": "v",
         "showlegend": true,
         "type": "scatter",
         "x": [
          9.720826714285716,
          4.3782882857142855,
          22.785714285714285,
          6.329660428571429,
          12.71042857142857,
          5.531690333333334
         ],
         "xaxis": "x",
         "y": [
          11.24,
          6.742857142857143,
          15.39322857142857,
          11.422857142857142,
          13.307142857142859,
          6.738333333333333
         ],
         "yaxis": "y"
        },
        {
         "hovertemplate": "<b>%{hovertext}</b><br><br>Region=EM_Other<br>TIME=2023<br>Inflation Rate=%{x}<br>Nominal Interest Rate (3m T-Bill)=%{y}<br>size=%{marker.size}<extra></extra>",
         "hovertext": [
          "Russia",
          "Iceland",
          "Estonia",
          "Ireland",
          "Greece",
          "Slovak Republic",
          "Slovenia",
          "Czech Republic",
          "China",
          "Latvia",
          "Lithuania",
          "Costa Rica",
          "Bulgaria",
          "Romania",
          "Croatia"
         ],
         "ids": [
          "RUS",
          "ISL",
          "EST",
          "IRL",
          "GRC",
          "SVK",
          "SVN",
          "CZE",
          "CHN",
          "LVA",
          "LTU",
          "CRI",
          "BGR",
          "ROU",
          "HRV"
         ],
         "legendgroup": "EM_Other",
         "marker": {
          "color": "#FFA15A",
          "opacity": 0.7,
          "size": [
           50,
           50,
           50,
           50,
           50,
           50,
           50,
           50,
           50,
           50,
           50,
           50,
           50,
           50,
           50
          ],
          "sizemode": "area",
          "sizeref": 0.16,
          "symbol": "circle"
         },
         "mode": "markers",
         "name": "EM_Other",
         "orientation": "v",
         "showlegend": true,
         "type": "scatter",
         "x": [
          -100,
          9.403308142857142,
          13.116846142857144,
          7.312082166666666,
          3.9629177142857146,
          13.655135,
          8.66003,
          13.061080571428572,
          0.6833333333333332,
          14.364172,
          14.003855285714286,
          -100,
          -100,
          -100,
          -100
         ],
         "xaxis": "x",
         "y": [
          -100,
          8.243333333333334,
          3.0909857142857144,
          3.0909857142857144,
          3.0909857142857144,
          3.0909857142857144,
          3.0909857142857144,
          7.175714285714286,
          2.9283333333333332,
          3.0909857142857144,
          3.0909857142857144,
          5.935,
          1.2653333333333332,
          6.8212142857142855,
          3.0909857142857144
         ],
         "yaxis": "y"
        },
        {
         "hovertemplate": "<b>%{hovertext}</b><br><br>Region=DM_Other<br>TIME=2023<br>Inflation Rate=%{x}<br>Nominal Interest Rate (3m T-Bill)=%{y}<br>size=%{marker.size}<extra></extra>",
         "hovertext": [
          "Israel",
          "New Zealand",
          "Norway",
          "South Korea",
          "Poland",
          "Australia"
         ],
         "ids": [
          "ISR",
          "NZL",
          "NOR",
          "KOR",
          "POL",
          "AUS"
         ],
         "legendgroup": "DM_Other",
         "marker": {
          "color": "#19d3f3",
          "opacity": 0.7,
          "size": [
           50,
           50,
           50,
           50,
           50,
           50
          ],
          "sizemode": "area",
          "sizeref": 0.16,
          "symbol": "circle"
         },
         "mode": "markers",
         "name": "DM_Other",
         "orientation": "v",
         "showlegend": true,
         "type": "scatter",
         "x": [
          4.9048475,
          -100,
          6.387558571428571,
          3.741811857142857,
          15.049999999999999,
          -100
         ],
         "xaxis": "x",
         "y": [
          4.2299999999999995,
          5.354285714285714,
          3.8485714285714283,
          3.652857142857143,
          6.8914285714285715,
          3.79
         ],
         "yaxis": "y"
        },
        {
         "hovertemplate": "<b>%{hovertext}</b><br><br>Region=DM_Europe<br>TIME=2023<br>Inflation Rate=%{x}<br>Nominal Interest Rate (3m T-Bill)=%{y}<br>size=%{marker.size}<extra></extra>",
         "hovertext": [
          "Switzerland",
          "Finland",
          "Sweden",
          "Luxembourg",
          "Belgium",
          "Denmark",
          "Spain",
          "Austria",
          "Netherlands",
          "Portugal"
         ],
         "ids": [
          "CHE",
          "FIN",
          "SWE",
          "LUX",
          "BEL",
          "DNK",
          "ESP",
          "AUT",
          "NLD",
          "PRT"
         ],
         "legendgroup": "DM_Europe",
         "marker": {
          "color": "#FF6692",
          "opacity": 0.7,
          "size": [
           50,
           50,
           50,
           50,
           50,
           50,
           50,
           50,
           50,
           50
          ],
          "sizemode": "area",
          "sizeref": 0.16,
          "symbol": "circle"
         },
         "mode": "markers",
         "name": "DM_Europe",
         "orientation": "v",
         "showlegend": true,
         "type": "scatter",
         "x": [
          2.519953,
          7.698068500000001,
          10.620354666666666,
          3.8538664285714286,
          5.774872714285714,
          5.117183428571429,
          3.818338142857143,
          9.632401333333334,
          5.921972285714285,
          5.742516285714286
         ],
         "xaxis": "x",
         "y": [
          1.2833333333333334,
          3.0909857142857144,
          3.300857142857143,
          3.0909857142857144,
          3.0909857142857144,
          3.215572857142857,
          3.0909857142857144,
          3.0909857142857144,
          3.0909857142857144,
          3.0909857142857144
         ],
         "yaxis": "y"
        }
       ],
       "frames": [
        {
         "data": [
          {
           "hovertemplate": "<b>%{hovertext}</b><br><br>Region=United States<br>TIME=1981<br>Inflation Rate=%{x}<br>Nominal Interest Rate (3m T-Bill)=%{y}<br>size=%{marker.size}<extra></extra>",
           "hovertext": [
            "United States"
           ],
           "ids": [
            "USA"
           ],
           "legendgroup": "United States",
           "marker": {
            "color": "#636efa",
            "size": [
             200
            ],
            "sizemode": "area",
            "sizeref": 0.16,
            "symbol": "circle"
           },
           "mode": "markers",
           "name": "United States",
           "orientation": "v",
           "showlegend": true,
           "type": "scatter",
           "x": [
            10.33471
           ],
           "xaxis": "x",
           "y": [
            15.91083
           ],
           "yaxis": "y"
          },
          {
           "hovertemplate": "<b>%{hovertext}</b><br><br>Region=South Africa<br>TIME=1981<br>Inflation Rate=%{x}<br>Nominal Interest Rate (3m T-Bill)=%{y}<br>size=%{marker.size}<extra></extra>",
           "hovertext": [
            "South Africa"
           ],
           "ids": [
            "ZAF"
           ],
           "legendgroup": "South Africa",
           "marker": {
            "color": "#EF553B",
            "size": [
             400
            ],
            "sizemode": "area",
            "sizeref": 0.16,
            "symbol": "circle"
           },
           "mode": "markers",
           "name": "South Africa",
           "orientation": "v",
           "showlegend": true,
           "type": "scatter",
           "x": [
            15.25424
           ],
           "xaxis": "x",
           "y": [
            9.723521
           ],
           "yaxis": "y"
          },
          {
           "hovertemplate": "<b>%{hovertext}</b><br><br>Region=G7_ex US<br>TIME=1981<br>Inflation Rate=%{x}<br>Nominal Interest Rate (3m T-Bill)=%{y}<br>size=%{marker.size}<extra></extra>",
           "hovertext": [
            "Canada",
            "Germany",
            "France",
            "Italy",
            "United Kingdom",
            "Japan"
           ],
           "ids": [
            "CAN",
            "DEU",
            "FRA",
            "ITA",
            "GBR",
            "JPN"
           ],
           "legendgroup": "G7_ex US",
           "marker": {
            "color": "#00cc96",
            "size": [
             50,
             50,
             50,
             50,
             50,
             50
            ],
            "sizemode": "area",
            "sizeref": 0.16,
            "symbol": "circle"
           },
           "mode": "markers",
           "name": "G7_ex US",
           "orientation": "v",
           "showlegend": true,
           "type": "scatter",
           "x": [
            12.47161,
            6.344242,
            13.3144,
            17.9693,
            -100,
            -100
           ],
           "xaxis": "x",
           "y": [
            18.37563,
            12.105,
            15.25917,
            19.23167,
            -100,
            -100
           ],
           "yaxis": "y"
          },
          {
           "hovertemplate": "<b>%{hovertext}</b><br><br>Region=EM_Peer<br>TIME=1981<br>Inflation Rate=%{x}<br>Nominal Interest Rate (3m T-Bill)=%{y}<br>size=%{marker.size}<extra></extra>",
           "hovertext": [
            "Chile",
            "Colombia",
            "Hungary",
            "Indonesia",
            "India",
            "Mexico"
           ],
           "ids": [
            "CHL",
            "COL",
            "HUN",
            "IDN",
            "IND",
            "MEX"
           ],
           "legendgroup": "EM_Peer",
           "marker": {
            "color": "#ab63fa",
            "size": [
             100,
             100,
             100,
             100,
             100,
             100
            ],
            "sizemode": "area",
            "sizeref": 0.16,
            "symbol": "circle"
           },
           "mode": "markers",
           "name": "EM_Peer",
           "orientation": "v",
           "showlegend": true,
           "type": "scatter",
           "x": [
            -100,
            -100,
            -100,
            -100,
            -100,
            -100
           ],
           "xaxis": "x",
           "y": [
            -100,
            -100,
            -100,
            -100,
            -100,
            -100
           ],
           "yaxis": "y"
          },
          {
           "hovertemplate": "<b>%{hovertext}</b><br><br>Region=EM_Other<br>TIME=1981<br>Inflation Rate=%{x}<br>Nominal Interest Rate (3m T-Bill)=%{y}<br>size=%{marker.size}<extra></extra>",
           "hovertext": [
            "China",
            "Costa Rica",
            "Czech Republic",
            "Estonia",
            "Greece",
            "Ireland",
            "Iceland",
            "Lithuania",
            "Latvia",
            "Russia",
            "Slovak Republic",
            "Slovenia"
           ],
           "ids": [
            "CHN",
            "CRI",
            "CZE",
            "EST",
            "GRC",
            "IRL",
            "ISL",
            "LTU",
            "LVA",
            "RUS",
            "SVK",
            "SVN"
           ],
           "legendgroup": "EM_Other",
           "marker": {
            "color": "#FFA15A",
            "size": [
             50,
             50,
             50,
             50,
             50,
             50,
             50,
             50,
             50,
             50,
             50,
             50
            ],
            "sizemode": "area",
            "sizeref": 0.16,
            "symbol": "circle"
           },
           "mode": "markers",
           "name": "EM_Other",
           "orientation": "v",
           "showlegend": true,
           "type": "scatter",
           "x": [
            -100,
            -100,
            -100,
            -100,
            -100,
            -100,
            -100,
            -100,
            -100,
            -100,
            -100,
            -100
           ],
           "xaxis": "x",
           "y": [
            -100,
            -100,
            -100,
            -100,
            -100,
            -100,
            -100,
            -100,
            -100,
            -100,
            -100,
            -100
           ],
           "yaxis": "y"
          },
          {
           "hovertemplate": "<b>%{hovertext}</b><br><br>Region=DM_Other<br>TIME=1981<br>Inflation Rate=%{x}<br>Nominal Interest Rate (3m T-Bill)=%{y}<br>size=%{marker.size}<extra></extra>",
           "hovertext": [
            "New Zealand",
            "Australia",
            "Norway",
            "Israel",
            "South Korea",
            "Poland"
           ],
           "ids": [
            "NZL",
            "AUS",
            "NOR",
            "ISR",
            "KOR",
            "POL"
           ],
           "legendgroup": "DM_Other",
           "marker": {
            "color": "#19d3f3",
            "size": [
             50,
             50,
             50,
             50,
             50,
             50
            ],
            "sizemode": "area",
            "sizeref": 0.16,
            "symbol": "circle"
           },
           "mode": "markers",
           "name": "DM_Other",
           "orientation": "v",
           "showlegend": true,
           "type": "scatter",
           "x": [
            15.37015,
            9.487666,
            13.64296,
            -100,
            -100,
            -100
           ],
           "xaxis": "x",
           "y": [
            15.2575,
            15.03833,
            13.125,
            -100,
            -100,
            -100
           ],
           "yaxis": "y"
          },
          {
           "hovertemplate": "<b>%{hovertext}</b><br><br>Region=DM_Europe<br>TIME=1981<br>Inflation Rate=%{x}<br>Nominal Interest Rate (3m T-Bill)=%{y}<br>size=%{marker.size}<extra></extra>",
           "hovertext": [
            "Spain",
            "Belgium",
            "Austria",
            "Switzerland",
            "Denmark",
            "Finland",
            "Luxembourg",
            "Netherlands",
            "Portugal",
            "Sweden"
           ],
           "ids": [
            "ESP",
            "BEL",
            "AUT",
            "CHE",
            "DNK",
            "FIN",
            "LUX",
            "NLD",
            "PRT",
            "SWE"
           ],
           "legendgroup": "DM_Europe",
           "marker": {
            "color": "#FF6692",
            "size": [
             50,
             50,
             50,
             50,
             50,
             50,
             50,
             50,
             50,
             50
            ],
            "sizemode": "area",
            "sizeref": 0.16,
            "symbol": "circle"
           },
           "mode": "markers",
           "name": "DM_Europe",
           "orientation": "v",
           "showlegend": true,
           "type": "scatter",
           "x": [
            14.54935,
            7.627487,
            -100,
            -100,
            -100,
            -100,
            -100,
            -100,
            -100,
            -100
           ],
           "xaxis": "x",
           "y": [
            16.17766,
            15.27083,
            -100,
            -100,
            -100,
            -100,
            -100,
            -100,
            -100,
            -100
           ],
           "yaxis": "y"
          }
         ],
         "layout": {
          "title": {
           "text": "1981 : Short-term rates in South Africa are lower than those in many other markets"
          }
         },
         "name": "1981"
        },
        {
         "data": [
          {
           "hovertemplate": "<b>%{hovertext}</b><br><br>Region=United States<br>TIME=1982<br>Inflation Rate=%{x}<br>Nominal Interest Rate (3m T-Bill)=%{y}<br>size=%{marker.size}<extra></extra>",
           "hovertext": [
            "United States"
           ],
           "ids": [
            "USA"
           ],
           "legendgroup": "United States",
           "marker": {
            "color": "#636efa",
            "size": [
             200
            ],
            "sizemode": "area",
            "sizeref": 0.16,
            "symbol": "circle"
           },
           "mode": "markers",
           "name": "United States",
           "orientation": "v",
           "showlegend": true,
           "type": "scatter",
           "x": [
            6.131427
           ],
           "xaxis": "x",
           "y": [
            12.27083
           ],
           "yaxis": "y"
          },
          {
           "hovertemplate": "<b>%{hovertext}</b><br><br>Region=South Africa<br>TIME=1982<br>Inflation Rate=%{x}<br>Nominal Interest Rate (3m T-Bill)=%{y}<br>size=%{marker.size}<extra></extra>",
           "hovertext": [
            "South Africa"
           ],
           "ids": [
            "ZAF"
           ],
           "legendgroup": "South Africa",
           "marker": {
            "color": "#EF553B",
            "size": [
             400
            ],
            "sizemode": "area",
            "sizeref": 0.16,
            "symbol": "circle"
           },
           "mode": "markers",
           "name": "South Africa",
           "orientation": "v",
           "showlegend": true,
           "type": "scatter",
           "x": [
            14.63904
           ],
           "xaxis": "x",
           "y": [
            15.57974
           ],
           "yaxis": "y"
          },
          {
           "hovertemplate": "<b>%{hovertext}</b><br><br>Region=G7_ex US<br>TIME=1982<br>Inflation Rate=%{x}<br>Nominal Interest Rate (3m T-Bill)=%{y}<br>size=%{marker.size}<extra></extra>",
           "hovertext": [
            "Canada",
            "Germany",
            "France",
            "Italy",
            "United Kingdom",
            "Japan"
           ],
           "ids": [
            "CAN",
            "DEU",
            "FRA",
            "ITA",
            "GBR",
            "JPN"
           ],
           "legendgroup": "G7_ex US",
           "marker": {
            "color": "#00cc96",
            "size": [
             50,
             50,
             50,
             50,
             50,
             50
            ],
            "sizemode": "area",
            "sizeref": 0.16,
            "symbol": "circle"
           },
           "mode": "markers",
           "name": "G7_ex US",
           "orientation": "v",
           "showlegend": true,
           "type": "scatter",
           "x": [
            10.76897,
            5.241046,
            11.97848,
            16.48041,
            -100,
            -100
           ],
           "xaxis": "x",
           "y": [
            14.37521,
            8.878333,
            14.61583,
            19.90528,
            -100,
            -100
           ],
           "yaxis": "y"
          },
          {
           "hovertemplate": "<b>%{hovertext}</b><br><br>Region=EM_Peer<br>TIME=1982<br>Inflation Rate=%{x}<br>Nominal Interest Rate (3m T-Bill)=%{y}<br>size=%{marker.size}<extra></extra>",
           "hovertext": [
            "Chile",
            "Colombia",
            "Hungary",
            "Indonesia",
            "India",
            "Mexico"
           ],
           "ids": [
            "CHL",
            "COL",
            "HUN",
            "IDN",
            "IND",
            "MEX"
           ],
           "legendgroup": "EM_Peer",
           "marker": {
            "color": "#ab63fa",
            "size": [
             100,
             100,
             100,
             100,
             100,
             100
            ],
            "sizemode": "area",
            "sizeref": 0.16,
            "symbol": "circle"
           },
           "mode": "markers",
           "name": "EM_Peer",
           "orientation": "v",
           "showlegend": true,
           "type": "scatter",
           "x": [
            -100,
            -100,
            -100,
            -100,
            -100,
            -100
           ],
           "xaxis": "x",
           "y": [
            -100,
            -100,
            -100,
            -100,
            -100,
            -100
           ],
           "yaxis": "y"
          },
          {
           "hovertemplate": "<b>%{hovertext}</b><br><br>Region=EM_Other<br>TIME=1982<br>Inflation Rate=%{x}<br>Nominal Interest Rate (3m T-Bill)=%{y}<br>size=%{marker.size}<extra></extra>",
           "hovertext": [
            "China",
            "Costa Rica",
            "Czech Republic",
            "Estonia",
            "Greece",
            "Ireland",
            "Iceland",
            "Lithuania",
            "Latvia",
            "Russia",
            "Slovak Republic",
            "Slovenia"
           ],
           "ids": [
            "CHN",
            "CRI",
            "CZE",
            "EST",
            "GRC",
            "IRL",
            "ISL",
            "LTU",
            "LVA",
            "RUS",
            "SVK",
            "SVN"
           ],
           "legendgroup": "EM_Other",
           "marker": {
            "color": "#FFA15A",
            "size": [
             50,
             50,
             50,
             50,
             50,
             50,
             50,
             50,
             50,
             50,
             50,
             50
            ],
            "sizemode": "area",
            "sizeref": 0.16,
            "symbol": "circle"
           },
           "mode": "markers",
           "name": "EM_Other",
           "orientation": "v",
           "showlegend": true,
           "type": "scatter",
           "x": [
            -100,
            -100,
            -100,
            -100,
            -100,
            -100,
            -100,
            -100,
            -100,
            -100,
            -100,
            -100
           ],
           "xaxis": "x",
           "y": [
            -100,
            -100,
            -100,
            -100,
            -100,
            -100,
            -100,
            -100,
            -100,
            -100,
            -100,
            -100
           ],
           "yaxis": "y"
          },
          {
           "hovertemplate": "<b>%{hovertext}</b><br><br>Region=DM_Other<br>TIME=1982<br>Inflation Rate=%{x}<br>Nominal Interest Rate (3m T-Bill)=%{y}<br>size=%{marker.size}<extra></extra>",
           "hovertext": [
            "Norway",
            "New Zealand",
            "Australia",
            "Israel",
            "South Korea",
            "Poland"
           ],
           "ids": [
            "NOR",
            "NZL",
            "AUS",
            "ISR",
            "KOR",
            "POL"
           ],
           "legendgroup": "DM_Other",
           "marker": {
            "color": "#19d3f3",
            "size": [
             50,
             50,
             50,
             50,
             50,
             50
            ],
            "sizemode": "area",
            "sizeref": 0.16,
            "symbol": "circle"
           },
           "mode": "markers",
           "name": "DM_Other",
           "orientation": "v",
           "showlegend": true,
           "type": "scatter",
           "x": [
            11.341,
            16.16369,
            11.35182,
            -100,
            -100,
            -100
           ],
           "xaxis": "x",
           "y": [
            15.36667,
            17.0075,
            16.83417,
            -100,
            -100,
            -100
           ],
           "yaxis": "y"
          },
          {
           "hovertemplate": "<b>%{hovertext}</b><br><br>Region=DM_Europe<br>TIME=1982<br>Inflation Rate=%{x}<br>Nominal Interest Rate (3m T-Bill)=%{y}<br>size=%{marker.size}<extra></extra>",
           "hovertext": [
            "Netherlands",
            "Belgium",
            "Spain",
            "Sweden",
            "Austria",
            "Switzerland",
            "Denmark",
            "Finland",
            "Luxembourg",
            "Portugal"
           ],
           "ids": [
            "NLD",
            "BEL",
            "ESP",
            "SWE",
            "AUT",
            "CHE",
            "DNK",
            "FIN",
            "LUX",
            "PRT"
           ],
           "legendgroup": "DM_Europe",
           "marker": {
            "color": "#FF6692",
            "size": [
             50,
             50,
             50,
             50,
             50,
             50,
             50,
             50,
             50,
             50
            ],
            "sizemode": "area",
            "sizeref": 0.16,
            "symbol": "circle"
           },
           "mode": "markers",
           "name": "DM_Europe",
           "orientation": "v",
           "showlegend": true,
           "type": "scatter",
           "x": [
            5.911094,
            8.726549,
            14.41499,
            8.589185,
            -100,
            -100,
            -100,
            -100,
            -100,
            -100
           ],
           "xaxis": "x",
           "y": [
            8.374166,
            13.97083,
            16.2815,
            13.25,
            -100,
            -100,
            -100,
            -100,
            -100,
            -100
           ],
           "yaxis": "y"
          }
         ],
         "layout": {
          "title": {
           "text": "1982 : Global recession, decline gold price and severe drought quickly reverse this"
          }
         },
         "name": "1982"
        },
        {
         "data": [
          {
           "hovertemplate": "<b>%{hovertext}</b><br><br>Region=United States<br>TIME=1983<br>Inflation Rate=%{x}<br>Nominal Interest Rate (3m T-Bill)=%{y}<br>size=%{marker.size}<extra></extra>",
           "hovertext": [
            "United States"
           ],
           "ids": [
            "USA"
           ],
           "legendgroup": "United States",
           "marker": {
            "color": "#636efa",
            "size": [
             200
            ],
            "sizemode": "area",
            "sizeref": 0.16,
            "symbol": "circle"
           },
           "mode": "markers",
           "name": "United States",
           "orientation": "v",
           "showlegend": true,
           "type": "scatter",
           "x": [
            3.212435
           ],
           "xaxis": "x",
           "y": [
            9.066667
           ],
           "yaxis": "y"
          },
          {
           "hovertemplate": "<b>%{hovertext}</b><br><br>Region=South Africa<br>TIME=1983<br>Inflation Rate=%{x}<br>Nominal Interest Rate (3m T-Bill)=%{y}<br>size=%{marker.size}<extra></extra>",
           "hovertext": [
            "South Africa"
           ],
           "ids": [
            "ZAF"
           ],
           "legendgroup": "South Africa",
           "marker": {
            "color": "#EF553B",
            "size": [
             400
            ],
            "sizemode": "area",
            "sizeref": 0.16,
            "symbol": "circle"
           },
           "mode": "markers",
           "name": "South Africa",
           "orientation": "v",
           "showlegend": true,
           "type": "scatter",
           "x": [
            12.30321
           ],
           "xaxis": "x",
           "y": [
            13.39076
           ],
           "yaxis": "y"
          },
          {
           "hovertemplate": "<b>%{hovertext}</b><br><br>Region=G7_ex US<br>TIME=1983<br>Inflation Rate=%{x}<br>Nominal Interest Rate (3m T-Bill)=%{y}<br>size=%{marker.size}<extra></extra>",
           "hovertext": [
            "France",
            "Germany",
            "Canada",
            "Italy",
            "United Kingdom",
            "Japan"
           ],
           "ids": [
            "FRA",
            "DEU",
            "CAN",
            "ITA",
            "GBR",
            "JPN"
           ],
           "legendgroup": "G7_ex US",
           "marker": {
            "color": "#00cc96",
            "size": [
             50,
             50,
             50,
             50,
             50,
             50
            ],
            "sizemode": "area",
            "sizeref": 0.16,
            "symbol": "circle"
           },
           "mode": "markers",
           "name": "G7_ex US",
           "orientation": "v",
           "showlegend": true,
           "type": "scatter",
           "x": [
            9.459548,
            3.293413,
            5.863588,
            14.64659,
            -100,
            -100
           ],
           "xaxis": "x",
           "y": [
            12.4675,
            5.776667,
            9.465834,
            18.30862,
            -100,
            -100
           ],
           "yaxis": "y"
          },
          {
           "hovertemplate": "<b>%{hovertext}</b><br><br>Region=EM_Peer<br>TIME=1983<br>Inflation Rate=%{x}<br>Nominal Interest Rate (3m T-Bill)=%{y}<br>size=%{marker.size}<extra></extra>",
           "hovertext": [
            "Chile",
            "Colombia",
            "Hungary",
            "Indonesia",
            "India",
            "Mexico"
           ],
           "ids": [
            "CHL",
            "COL",
            "HUN",
            "IDN",
            "IND",
            "MEX"
           ],
           "legendgroup": "EM_Peer",
           "marker": {
            "color": "#ab63fa",
            "size": [
             100,
             100,
             100,
             100,
             100,
             100
            ],
            "sizemode": "area",
            "sizeref": 0.16,
            "symbol": "circle"
           },
           "mode": "markers",
           "name": "EM_Peer",
           "orientation": "v",
           "showlegend": true,
           "type": "scatter",
           "x": [
            -100,
            -100,
            -100,
            -100,
            -100,
            -100
           ],
           "xaxis": "x",
           "y": [
            -100,
            -100,
            -100,
            -100,
            -100,
            -100
           ],
           "yaxis": "y"
          },
          {
           "hovertemplate": "<b>%{hovertext}</b><br><br>Region=EM_Other<br>TIME=1983<br>Inflation Rate=%{x}<br>Nominal Interest Rate (3m T-Bill)=%{y}<br>size=%{marker.size}<extra></extra>",
           "hovertext": [
            "China",
            "Costa Rica",
            "Czech Republic",
            "Estonia",
            "Greece",
            "Ireland",
            "Iceland",
            "Lithuania",
            "Latvia",
            "Russia",
            "Slovak Republic",
            "Slovenia"
           ],
           "ids": [
            "CHN",
            "CRI",
            "CZE",
            "EST",
            "GRC",
            "IRL",
            "ISL",
            "LTU",
            "LVA",
            "RUS",
            "SVK",
            "SVN"
           ],
           "legendgroup": "EM_Other",
           "marker": {
            "color": "#FFA15A",
            "size": [
             50,
             50,
             50,
             50,
             50,
             50,
             50,
             50,
             50,
             50,
             50,
             50
            ],
            "sizemode": "area",
            "sizeref": 0.16,
            "symbol": "circle"
           },
           "mode": "markers",
           "name": "EM_Other",
           "orientation": "v",
           "showlegend": true,
           "type": "scatter",
           "x": [
            -100,
            -100,
            -100,
            -100,
            -100,
            -100,
            -100,
            -100,
            -100,
            -100,
            -100,
            -100
           ],
           "xaxis": "x",
           "y": [
            -100,
            -100,
            -100,
            -100,
            -100,
            -100,
            -100,
            -100,
            -100,
            -100,
            -100,
            -100
           ],
           "yaxis": "y"
          },
          {
           "hovertemplate": "<b>%{hovertext}</b><br><br>Region=DM_Other<br>TIME=1983<br>Inflation Rate=%{x}<br>Nominal Interest Rate (3m T-Bill)=%{y}<br>size=%{marker.size}<extra></extra>",
           "hovertext": [
            "Norway",
            "Australia",
            "New Zealand",
            "Israel",
            "South Korea",
            "Poland"
           ],
           "ids": [
            "NOR",
            "AUS",
            "NZL",
            "ISR",
            "KOR",
            "POL"
           ],
           "legendgroup": "DM_Other",
           "marker": {
            "color": "#19d3f3",
            "size": [
             50,
             50,
             50,
             50,
             50,
             50
            ],
            "sizemode": "area",
            "sizeref": 0.16,
            "symbol": "circle"
           },
           "mode": "markers",
           "name": "DM_Other",
           "orientation": "v",
           "showlegend": true,
           "type": "scatter",
           "x": [
            8.465244,
            10.03891,
            7.341074,
            -100,
            -100,
            -100
           ],
           "xaxis": "x",
           "y": [
            13.3,
            12.19917,
            13.08583,
            -100,
            -100,
            -100
           ],
           "yaxis": "y"
          },
          {
           "hovertemplate": "<b>%{hovertext}</b><br><br>Region=DM_Europe<br>TIME=1983<br>Inflation Rate=%{x}<br>Nominal Interest Rate (3m T-Bill)=%{y}<br>size=%{marker.size}<extra></extra>",
           "hovertext": [
            "Netherlands",
            "Belgium",
            "Spain",
            "Sweden",
            "Austria",
            "Switzerland",
            "Denmark",
            "Finland",
            "Luxembourg",
            "Portugal"
           ],
           "ids": [
            "NLD",
            "BEL",
            "ESP",
            "SWE",
            "AUT",
            "CHE",
            "DNK",
            "FIN",
            "LUX",
            "PRT"
           ],
           "legendgroup": "DM_Europe",
           "marker": {
            "color": "#FF6692",
            "size": [
             50,
             50,
             50,
             50,
             50,
             50,
             50,
             50,
             50,
             50
            ],
            "sizemode": "area",
            "sizeref": 0.16,
            "symbol": "circle"
           },
           "mode": "markers",
           "name": "DM_Europe",
           "orientation": "v",
           "showlegend": true,
           "type": "scatter",
           "x": [
            2.740841,
            7.66161,
            12.17408,
            8.873021,
            -100,
            -100,
            -100,
            -100,
            -100,
            -100
           ],
           "xaxis": "x",
           "y": [
            5.648334,
            10.4,
            20.04957,
            11.41083,
            -100,
            -100,
            -100,
            -100,
            -100,
            -100
           ],
           "yaxis": "y"
          }
         ],
         "layout": {
          "title": {
           "text": "1983 : Signs of economic recovery in the US and other industrial nations bouy sentiment"
          }
         },
         "name": "1983"
        },
        {
         "data": [
          {
           "hovertemplate": "<b>%{hovertext}</b><br><br>Region=United States<br>TIME=1984<br>Inflation Rate=%{x}<br>Nominal Interest Rate (3m T-Bill)=%{y}<br>size=%{marker.size}<extra></extra>",
           "hovertext": [
            "United States"
           ],
           "ids": [
            "USA"
           ],
           "legendgroup": "United States",
           "marker": {
            "color": "#636efa",
            "size": [
             200
            ],
            "sizemode": "area",
            "sizeref": 0.16,
            "symbol": "circle"
           },
           "mode": "markers",
           "name": "United States",
           "orientation": "v",
           "showlegend": true,
           "type": "scatter",
           "x": [
            4.300536
           ],
           "xaxis": "x",
           "y": [
            10.365
           ],
           "yaxis": "y"
          },
          {
           "hovertemplate": "<b>%{hovertext}</b><br><br>Region=South Africa<br>TIME=1984<br>Inflation Rate=%{x}<br>Nominal Interest Rate (3m T-Bill)=%{y}<br>size=%{marker.size}<extra></extra>",
           "hovertext": [
            "South Africa"
           ],
           "ids": [
            "ZAF"
           ],
           "legendgroup": "South Africa",
           "marker": {
            "color": "#EF553B",
            "size": [
             400
            ],
            "sizemode": "area",
            "sizeref": 0.16,
            "symbol": "circle"
           },
           "mode": "markers",
           "name": "South Africa",
           "orientation": "v",
           "showlegend": true,
           "type": "scatter",
           "x": [
            11.52648
           ],
           "xaxis": "x",
           "y": [
            19.30536
           ],
           "yaxis": "y"
          },
          {
           "hovertemplate": "<b>%{hovertext}</b><br><br>Region=G7_ex US<br>TIME=1984<br>Inflation Rate=%{x}<br>Nominal Interest Rate (3m T-Bill)=%{y}<br>size=%{marker.size}<extra></extra>",
           "hovertext": [
            "France",
            "Germany",
            "Italy",
            "Canada",
            "United Kingdom",
            "Japan"
           ],
           "ids": [
            "FRA",
            "DEU",
            "ITA",
            "CAN",
            "GBR",
            "JPN"
           ],
           "legendgroup": "G7_ex US",
           "marker": {
            "color": "#00cc96",
            "size": [
             50,
             50,
             50,
             50,
             50,
             50
            ],
            "sizemode": "area",
            "sizeref": 0.16,
            "symbol": "circle"
           },
           "mode": "markers",
           "name": "G7_ex US",
           "orientation": "v",
           "showlegend": true,
           "type": "scatter",
           "x": [
            7.673803,
            2.405797,
            10.79449,
            4.304778,
            -100,
            -100
           ],
           "xaxis": "x",
           "y": [
            11.7025,
            5.985833,
            17.26847,
            11.22208,
            -100,
            -100
           ],
           "yaxis": "y"
          },
          {
           "hovertemplate": "<b>%{hovertext}</b><br><br>Region=EM_Peer<br>TIME=1984<br>Inflation Rate=%{x}<br>Nominal Interest Rate (3m T-Bill)=%{y}<br>size=%{marker.size}<extra></extra>",
           "hovertext": [
            "Chile",
            "Colombia",
            "Hungary",
            "Indonesia",
            "India",
            "Mexico"
           ],
           "ids": [
            "CHL",
            "COL",
            "HUN",
            "IDN",
            "IND",
            "MEX"
           ],
           "legendgroup": "EM_Peer",
           "marker": {
            "color": "#ab63fa",
            "size": [
             100,
             100,
             100,
             100,
             100,
             100
            ],
            "sizemode": "area",
            "sizeref": 0.16,
            "symbol": "circle"
           },
           "mode": "markers",
           "name": "EM_Peer",
           "orientation": "v",
           "showlegend": true,
           "type": "scatter",
           "x": [
            -100,
            -100,
            -100,
            -100,
            -100,
            -100
           ],
           "xaxis": "x",
           "y": [
            -100,
            -100,
            -100,
            -100,
            -100,
            -100
           ],
           "yaxis": "y"
          },
          {
           "hovertemplate": "<b>%{hovertext}</b><br><br>Region=EM_Other<br>TIME=1984<br>Inflation Rate=%{x}<br>Nominal Interest Rate (3m T-Bill)=%{y}<br>size=%{marker.size}<extra></extra>",
           "hovertext": [
            "Ireland",
            "China",
            "Costa Rica",
            "Czech Republic",
            "Estonia",
            "Greece",
            "Iceland",
            "Lithuania",
            "Latvia",
            "Russia",
            "Slovak Republic",
            "Slovenia"
           ],
           "ids": [
            "IRL",
            "CHN",
            "CRI",
            "CZE",
            "EST",
            "GRC",
            "ISL",
            "LTU",
            "LVA",
            "RUS",
            "SVK",
            "SVN"
           ],
           "legendgroup": "EM_Other",
           "marker": {
            "color": "#FFA15A",
            "size": [
             50,
             50,
             50,
             50,
             50,
             50,
             50,
             50,
             50,
             50,
             50,
             50
            ],
            "sizemode": "area",
            "sizeref": 0.16,
            "symbol": "circle"
           },
           "mode": "markers",
           "name": "EM_Other",
           "orientation": "v",
           "showlegend": true,
           "type": "scatter",
           "x": [
            8.65111,
            -100,
            -100,
            -100,
            -100,
            -100,
            -100,
            -100,
            -100,
            -100,
            -100,
            -100
           ],
           "xaxis": "x",
           "y": [
            13.23083,
            -100,
            -100,
            -100,
            -100,
            -100,
            -100,
            -100,
            -100,
            -100,
            -100,
            -100
           ],
           "yaxis": "y"
          },
          {
           "hovertemplate": "<b>%{hovertext}</b><br><br>Region=DM_Other<br>TIME=1984<br>Inflation Rate=%{x}<br>Nominal Interest Rate (3m T-Bill)=%{y}<br>size=%{marker.size}<extra></extra>",
           "hovertext": [
            "Australia",
            "New Zealand",
            "Norway",
            "Israel",
            "South Korea",
            "Poland"
           ],
           "ids": [
            "AUS",
            "NZL",
            "NOR",
            "ISR",
            "KOR",
            "POL"
           ],
           "legendgroup": "DM_Other",
           "marker": {
            "color": "#19d3f3",
            "size": [
             50,
             50,
             50,
             50,
             50,
             50
            ],
            "sizemode": "area",
            "sizeref": 0.16,
            "symbol": "circle"
           },
           "mode": "markers",
           "name": "DM_Other",
           "orientation": "v",
           "showlegend": true,
           "type": "scatter",
           "x": [
            3.960396,
            6.17125,
            6.218274,
            -100,
            -100,
            -100
           ],
           "xaxis": "x",
           "y": [
            12.1,
            15.0225,
            13.01667,
            -100,
            -100,
            -100
           ],
           "yaxis": "y"
          },
          {
           "hovertemplate": "<b>%{hovertext}</b><br><br>Region=DM_Europe<br>TIME=1984<br>Inflation Rate=%{x}<br>Nominal Interest Rate (3m T-Bill)=%{y}<br>size=%{marker.size}<extra></extra>",
           "hovertext": [
            "Belgium",
            "Sweden",
            "Netherlands",
            "Spain",
            "Austria",
            "Switzerland",
            "Denmark",
            "Finland",
            "Luxembourg",
            "Portugal"
           ],
           "ids": [
            "BEL",
            "SWE",
            "NLD",
            "ESP",
            "AUT",
            "CHE",
            "DNK",
            "FIN",
            "LUX",
            "PRT"
           ],
           "legendgroup": "DM_Europe",
           "marker": {
            "color": "#FF6692",
            "size": [
             50,
             50,
             50,
             50,
             50,
             50,
             50,
             50,
             50,
             50
            ],
            "sizemode": "area",
            "sizeref": 0.16,
            "symbol": "circle"
           },
           "mode": "markers",
           "name": "DM_Europe",
           "orientation": "v",
           "showlegend": true,
           "type": "scatter",
           "x": [
            6.341776,
            8.044243,
            3.301638,
            11.28027,
            -100,
            -100,
            -100,
            -100,
            -100,
            -100
           ],
           "xaxis": "x",
           "y": [
            11.42083,
            11.93083,
            6.1275,
            14.89783,
            -100,
            -100,
            -100,
            -100,
            -100,
            -100
           ],
           "yaxis": "y"
          }
         ],
         "layout": {
          "title": {
           "text": "1984 : The recovery falters and developing nations grapple with mounting debt burdens"
          }
         },
         "name": "1984"
        },
        {
         "data": [
          {
           "hovertemplate": "<b>%{hovertext}</b><br><br>Region=United States<br>TIME=1985<br>Inflation Rate=%{x}<br>Nominal Interest Rate (3m T-Bill)=%{y}<br>size=%{marker.size}<extra></extra>",
           "hovertext": [
            "United States"
           ],
           "ids": [
            "USA"
           ],
           "legendgroup": "United States",
           "marker": {
            "color": "#636efa",
            "size": [
             200
            ],
            "sizemode": "area",
            "sizeref": 0.16,
            "symbol": "circle"
           },
           "mode": "markers",
           "name": "United States",
           "orientation": "v",
           "showlegend": true,
           "type": "scatter",
           "x": [
            3.545644
           ],
           "xaxis": "x",
           "y": [
            8.0475
           ],
           "yaxis": "y"
          },
          {
           "hovertemplate": "<b>%{hovertext}</b><br><br>Region=South Africa<br>TIME=1985<br>Inflation Rate=%{x}<br>Nominal Interest Rate (3m T-Bill)=%{y}<br>size=%{marker.size}<extra></extra>",
           "hovertext": [
            "South Africa"
           ],
           "ids": [
            "ZAF"
           ],
           "legendgroup": "South Africa",
           "marker": {
            "color": "#EF553B",
            "size": [
             400
            ],
            "sizemode": "area",
            "sizeref": 0.16,
            "symbol": "circle"
           },
           "mode": "markers",
           "name": "South Africa",
           "orientation": "v",
           "showlegend": true,
           "type": "scatter",
           "x": [
            16.29423
           ],
           "xaxis": "x",
           "y": [
            17.72245
           ],
           "yaxis": "y"
          },
          {
           "hovertemplate": "<b>%{hovertext}</b><br><br>Region=G7_ex US<br>TIME=1985<br>Inflation Rate=%{x}<br>Nominal Interest Rate (3m T-Bill)=%{y}<br>size=%{marker.size}<extra></extra>",
           "hovertext": [
            "France",
            "Germany",
            "Canada",
            "Italy",
            "United Kingdom",
            "Japan"
           ],
           "ids": [
            "FRA",
            "DEU",
            "CAN",
            "ITA",
            "GBR",
            "JPN"
           ],
           "legendgroup": "G7_ex US",
           "marker": {
            "color": "#00cc96",
            "size": [
             50,
             50,
             50,
             50,
             50,
             50
            ],
            "sizemode": "area",
            "sizeref": 0.16,
            "symbol": "circle"
           },
           "mode": "markers",
           "name": "G7_ex US",
           "orientation": "v",
           "showlegend": true,
           "type": "scatter",
           "x": [
            5.831099,
            2.066233,
            3.962031,
            9.205993,
            -100,
            -100
           ],
           "xaxis": "x",
           "y": [
            9.943334,
            5.448333,
            9.596042,
            15.24693,
            -100,
            -100
           ],
           "yaxis": "y"
          },
          {
           "hovertemplate": "<b>%{hovertext}</b><br><br>Region=EM_Peer<br>TIME=1985<br>Inflation Rate=%{x}<br>Nominal Interest Rate (3m T-Bill)=%{y}<br>size=%{marker.size}<extra></extra>",
           "hovertext": [
            "Chile",
            "Colombia",
            "Hungary",
            "Indonesia",
            "India",
            "Mexico"
           ],
           "ids": [
            "CHL",
            "COL",
            "HUN",
            "IDN",
            "IND",
            "MEX"
           ],
           "legendgroup": "EM_Peer",
           "marker": {
            "color": "#ab63fa",
            "size": [
             100,
             100,
             100,
             100,
             100,
             100
            ],
            "sizemode": "area",
            "sizeref": 0.16,
            "symbol": "circle"
           },
           "mode": "markers",
           "name": "EM_Peer",
           "orientation": "v",
           "showlegend": true,
           "type": "scatter",
           "x": [
            -100,
            -100,
            -100,
            -100,
            -100,
            -100
           ],
           "xaxis": "x",
           "y": [
            -100,
            -100,
            -100,
            -100,
            -100,
            -100
           ],
           "yaxis": "y"
          },
          {
           "hovertemplate": "<b>%{hovertext}</b><br><br>Region=EM_Other<br>TIME=1985<br>Inflation Rate=%{x}<br>Nominal Interest Rate (3m T-Bill)=%{y}<br>size=%{marker.size}<extra></extra>",
           "hovertext": [
            "Ireland",
            "China",
            "Costa Rica",
            "Czech Republic",
            "Estonia",
            "Greece",
            "Iceland",
            "Lithuania",
            "Latvia",
            "Russia",
            "Slovak Republic",
            "Slovenia"
           ],
           "ids": [
            "IRL",
            "CHN",
            "CRI",
            "CZE",
            "EST",
            "GRC",
            "ISL",
            "LTU",
            "LVA",
            "RUS",
            "SVK",
            "SVN"
           ],
           "legendgroup": "EM_Other",
           "marker": {
            "color": "#FFA15A",
            "size": [
             50,
             50,
             50,
             50,
             50,
             50,
             50,
             50,
             50,
             50,
             50,
             50
            ],
            "sizemode": "area",
            "sizeref": 0.16,
            "symbol": "circle"
           },
           "mode": "markers",
           "name": "EM_Other",
           "orientation": "v",
           "showlegend": true,
           "type": "scatter",
           "x": [
            5.395495,
            -100,
            -100,
            -100,
            -100,
            -100,
            -100,
            -100,
            -100,
            -100,
            -100,
            -100
           ],
           "xaxis": "x",
           "y": [
            11.925,
            -100,
            -100,
            -100,
            -100,
            -100,
            -100,
            -100,
            -100,
            -100,
            -100,
            -100
           ],
           "yaxis": "y"
          },
          {
           "hovertemplate": "<b>%{hovertext}</b><br><br>Region=DM_Other<br>TIME=1985<br>Inflation Rate=%{x}<br>Nominal Interest Rate (3m T-Bill)=%{y}<br>size=%{marker.size}<extra></extra>",
           "hovertext": [
            "New Zealand",
            "Norway",
            "Australia",
            "Israel",
            "South Korea",
            "Poland"
           ],
           "ids": [
            "NZL",
            "NOR",
            "AUS",
            "ISR",
            "KOR",
            "POL"
           ],
           "legendgroup": "DM_Other",
           "marker": {
            "color": "#19d3f3",
            "size": [
             50,
             50,
             50,
             50,
             50,
             50
            ],
            "sizemode": "area",
            "sizeref": 0.16,
            "symbol": "circle"
           },
           "mode": "markers",
           "name": "DM_Other",
           "orientation": "v",
           "showlegend": true,
           "type": "scatter",
           "x": [
            15.41766,
            5.714855,
            6.734694,
            -100,
            -100,
            -100
           ],
           "xaxis": "x",
           "y": [
            23.305,
            12.525,
            15.9825,
            -100,
            -100,
            -100
           ],
           "yaxis": "y"
          },
          {
           "hovertemplate": "<b>%{hovertext}</b><br><br>Region=DM_Europe<br>TIME=1985<br>Inflation Rate=%{x}<br>Nominal Interest Rate (3m T-Bill)=%{y}<br>size=%{marker.size}<extra></extra>",
           "hovertext": [
            "Sweden",
            "Netherlands",
            "Belgium",
            "Spain",
            "Austria",
            "Switzerland",
            "Denmark",
            "Finland",
            "Luxembourg",
            "Portugal"
           ],
           "ids": [
            "SWE",
            "NLD",
            "BEL",
            "ESP",
            "AUT",
            "CHE",
            "DNK",
            "FIN",
            "LUX",
            "PRT"
           ],
           "legendgroup": "DM_Europe",
           "marker": {
            "color": "#FF6692",
            "size": [
             50,
             50,
             50,
             50,
             50,
             50,
             50,
             50,
             50,
             50
            ],
            "sizemode": "area",
            "sizeref": 0.16,
            "symbol": "circle"
           },
           "mode": "markers",
           "name": "DM_Europe",
           "orientation": "v",
           "showlegend": true,
           "type": "scatter",
           "x": [
            7.372575,
            2.258587,
            4.86873,
            8.814454,
            -100,
            -100,
            -100,
            -100,
            -100,
            -100
           ],
           "xaxis": "x",
           "y": [
            14.17417,
            6.355834,
            9.516666,
            12.22442,
            -100,
            -100,
            -100,
            -100,
            -100,
            -100
           ],
           "yaxis": "y"
          }
         ],
         "layout": {
          "title": {
           "text": "1985 : South Africa - political unrest, foreign disinvestment, and partial sanctions"
          }
         },
         "name": "1985"
        },
        {
         "data": [
          {
           "hovertemplate": "<b>%{hovertext}</b><br><br>Region=United States<br>TIME=1986<br>Inflation Rate=%{x}<br>Nominal Interest Rate (3m T-Bill)=%{y}<br>size=%{marker.size}<extra></extra>",
           "hovertext": [
            "United States"
           ],
           "ids": [
            "USA"
           ],
           "legendgroup": "United States",
           "marker": {
            "color": "#636efa",
            "size": [
             200
            ],
            "sizemode": "area",
            "sizeref": 0.16,
            "symbol": "circle"
           },
           "mode": "markers",
           "name": "United States",
           "orientation": "v",
           "showlegend": true,
           "type": "scatter",
           "x": [
            1.898048
           ],
           "xaxis": "x",
           "y": [
            6.518333
           ],
           "yaxis": "y"
          },
          {
           "hovertemplate": "<b>%{hovertext}</b><br><br>Region=South Africa<br>TIME=1986<br>Inflation Rate=%{x}<br>Nominal Interest Rate (3m T-Bill)=%{y}<br>size=%{marker.size}<extra></extra>",
           "hovertext": [
            "South Africa"
           ],
           "ids": [
            "ZAF"
           ],
           "legendgroup": "South Africa",
           "marker": {
            "color": "#EF553B",
            "size": [
             400
            ],
            "sizemode": "area",
            "sizeref": 0.16,
            "symbol": "circle"
           },
           "mode": "markers",
           "name": "South Africa",
           "orientation": "v",
           "showlegend": true,
           "type": "scatter",
           "x": [
            18.65492
           ],
           "xaxis": "x",
           "y": [
            10.51779
           ],
           "yaxis": "y"
          },
          {
           "hovertemplate": "<b>%{hovertext}</b><br><br>Region=G7_ex US<br>TIME=1986<br>Inflation Rate=%{x}<br>Nominal Interest Rate (3m T-Bill)=%{y}<br>size=%{marker.size}<extra></extra>",
           "hovertext": [
            "France",
            "United Kingdom",
            "Germany",
            "Canada",
            "Italy",
            "Japan"
           ],
           "ids": [
            "FRA",
            "GBR",
            "DEU",
            "CAN",
            "ITA",
            "JPN"
           ],
           "legendgroup": "G7_ex US",
           "marker": {
            "color": "#00cc96",
            "size": [
             50,
             50,
             50,
             50,
             50,
             50
            ],
            "sizemode": "area",
            "sizeref": 0.16,
            "symbol": "circle"
           },
           "mode": "markers",
           "name": "G7_ex US",
           "orientation": "v",
           "showlegend": true,
           "type": "scatter",
           "x": [
            2.538527,
            3.427615,
            -0.1294139,
            4.194786,
            5.823544,
            -100
           ],
           "xaxis": "x",
           "y": [
            7.7095,
            10.99677,
            4.635,
            9.187917,
            13.39334,
            -100
           ],
           "yaxis": "y"
          },
          {
           "hovertemplate": "<b>%{hovertext}</b><br><br>Region=EM_Peer<br>TIME=1986<br>Inflation Rate=%{x}<br>Nominal Interest Rate (3m T-Bill)=%{y}<br>size=%{marker.size}<extra></extra>",
           "hovertext": [
            "Colombia",
            "Chile",
            "Hungary",
            "Indonesia",
            "India",
            "Mexico"
           ],
           "ids": [
            "COL",
            "CHL",
            "HUN",
            "IDN",
            "IND",
            "MEX"
           ],
           "legendgroup": "EM_Peer",
           "marker": {
            "color": "#ab63fa",
            "size": [
             100,
             100,
             100,
             100,
             100,
             100
            ],
            "sizemode": "area",
            "sizeref": 0.16,
            "symbol": "circle"
           },
           "mode": "markers",
           "name": "EM_Peer",
           "orientation": "v",
           "showlegend": true,
           "type": "scatter",
           "x": [
            18.84246,
            -100,
            -100,
            -100,
            -100,
            -100
           ],
           "xaxis": "x",
           "y": [
            31.36167,
            -100,
            -100,
            -100,
            -100,
            -100
           ],
           "yaxis": "y"
          },
          {
           "hovertemplate": "<b>%{hovertext}</b><br><br>Region=EM_Other<br>TIME=1986<br>Inflation Rate=%{x}<br>Nominal Interest Rate (3m T-Bill)=%{y}<br>size=%{marker.size}<extra></extra>",
           "hovertext": [
            "Ireland",
            "China",
            "Costa Rica",
            "Czech Republic",
            "Estonia",
            "Greece",
            "Iceland",
            "Lithuania",
            "Latvia",
            "Russia",
            "Slovak Republic",
            "Slovenia"
           ],
           "ids": [
            "IRL",
            "CHN",
            "CRI",
            "CZE",
            "EST",
            "GRC",
            "ISL",
            "LTU",
            "LVA",
            "RUS",
            "SVK",
            "SVN"
           ],
           "legendgroup": "EM_Other",
           "marker": {
            "color": "#FFA15A",
            "size": [
             50,
             50,
             50,
             50,
             50,
             50,
             50,
             50,
             50,
             50,
             50,
             50
            ],
            "sizemode": "area",
            "sizeref": 0.16,
            "symbol": "circle"
           },
           "mode": "markers",
           "name": "EM_Other",
           "orientation": "v",
           "showlegend": true,
           "type": "scatter",
           "x": [
            3.827038,
            -100,
            -100,
            -100,
            -100,
            -100,
            -100,
            -100,
            -100,
            -100,
            -100,
            -100
           ],
           "xaxis": "x",
           "y": [
            12.52083,
            -100,
            -100,
            -100,
            -100,
            -100,
            -100,
            -100,
            -100,
            -100,
            -100,
            -100
           ],
           "yaxis": "y"
          },
          {
           "hovertemplate": "<b>%{hovertext}</b><br><br>Region=DM_Other<br>TIME=1986<br>Inflation Rate=%{x}<br>Nominal Interest Rate (3m T-Bill)=%{y}<br>size=%{marker.size}<extra></extra>",
           "hovertext": [
            "New Zealand",
            "Australia",
            "Norway",
            "Israel",
            "South Korea",
            "Poland"
           ],
           "ids": [
            "NZL",
            "AUS",
            "NOR",
            "ISR",
            "KOR",
            "POL"
           ],
           "legendgroup": "DM_Other",
           "marker": {
            "color": "#19d3f3",
            "size": [
             50,
             50,
             50,
             50,
             50,
             50
            ],
            "sizemode": "area",
            "sizeref": 0.16,
            "symbol": "circle"
           },
           "mode": "markers",
           "name": "DM_Other",
           "orientation": "v",
           "showlegend": true,
           "type": "scatter",
           "x": [
            13.2134,
            9.05035,
            7.176493,
            -100,
            -100,
            -100
           ],
           "xaxis": "x",
           "y": [
            19.075,
            16.45167,
            14.39167,
            -100,
            -100,
            -100
           ],
           "yaxis": "y"
          },
          {
           "hovertemplate": "<b>%{hovertext}</b><br><br>Region=DM_Europe<br>TIME=1986<br>Inflation Rate=%{x}<br>Nominal Interest Rate (3m T-Bill)=%{y}<br>size=%{marker.size}<extra></extra>",
           "hovertext": [
            "Belgium",
            "Spain",
            "Portugal",
            "Sweden",
            "Netherlands",
            "Austria",
            "Switzerland",
            "Denmark",
            "Finland",
            "Luxembourg"
           ],
           "ids": [
            "BEL",
            "ESP",
            "PRT",
            "SWE",
            "NLD",
            "AUT",
            "CHE",
            "DNK",
            "FIN",
            "LUX"
           ],
           "legendgroup": "DM_Europe",
           "marker": {
            "color": "#FF6692",
            "size": [
             50,
             50,
             50,
             50,
             50,
             50,
             50,
             50,
             50,
             50
            ],
            "sizemode": "area",
            "sizeref": 0.16,
            "symbol": "circle"
           },
           "mode": "markers",
           "name": "DM_Europe",
           "orientation": "v",
           "showlegend": true,
           "type": "scatter",
           "x": [
            1.294371,
            8.794939,
            12.33133,
            4.23591,
            0.08334722,
            -100,
            -100,
            -100,
            -100,
            -100
           ],
           "xaxis": "x",
           "y": [
            8.083333,
            11.65775,
            15.5625,
            9.830833,
            5.681667,
            -100,
            -100,
            -100,
            -100,
            -100
           ],
           "yaxis": "y"
          }
         ],
         "layout": {
          "title": {
           "text": "1986 : South Africa continues to grapple with economic isolation and international pressure"
          }
         },
         "name": "1986"
        },
        {
         "data": [
          {
           "hovertemplate": "<b>%{hovertext}</b><br><br>Region=United States<br>TIME=1987<br>Inflation Rate=%{x}<br>Nominal Interest Rate (3m T-Bill)=%{y}<br>size=%{marker.size}<extra></extra>",
           "hovertext": [
            "United States"
           ],
           "ids": [
            "USA"
           ],
           "legendgroup": "United States",
           "marker": {
            "color": "#636efa",
            "size": [
             200
            ],
            "sizemode": "area",
            "sizeref": 0.16,
            "symbol": "circle"
           },
           "mode": "markers",
           "name": "United States",
           "orientation": "v",
           "showlegend": true,
           "type": "scatter",
           "x": [
            3.664563
           ],
           "xaxis": "x",
           "y": [
            6.860833
           ],
           "yaxis": "y"
          },
          {
           "hovertemplate": "<b>%{hovertext}</b><br><br>Region=South Africa<br>TIME=1987<br>Inflation Rate=%{x}<br>Nominal Interest Rate (3m T-Bill)=%{y}<br>size=%{marker.size}<extra></extra>",
           "hovertext": [
            "South Africa"
           ],
           "ids": [
            "ZAF"
           ],
           "legendgroup": "South Africa",
           "marker": {
            "color": "#EF553B",
            "size": [
             400
            ],
            "sizemode": "area",
            "sizeref": 0.16,
            "symbol": "circle"
           },
           "mode": "markers",
           "name": "South Africa",
           "orientation": "v",
           "showlegend": true,
           "type": "scatter",
           "x": [
            16.16059
           ],
           "xaxis": "x",
           "y": [
            8.783848
           ],
           "yaxis": "y"
          },
          {
           "hovertemplate": "<b>%{hovertext}</b><br><br>Region=G7_ex US<br>TIME=1987<br>Inflation Rate=%{x}<br>Nominal Interest Rate (3m T-Bill)=%{y}<br>size=%{marker.size}<extra></extra>",
           "hovertext": [
            "United Kingdom",
            "Canada",
            "Italy",
            "France",
            "Germany",
            "Japan"
           ],
           "ids": [
            "GBR",
            "CAN",
            "ITA",
            "FRA",
            "DEU",
            "JPN"
           ],
           "legendgroup": "G7_ex US",
           "marker": {
            "color": "#00cc96",
            "size": [
             50,
             50,
             50,
             50,
             50,
             50
            ],
            "sizemode": "area",
            "sizeref": 0.16,
            "symbol": "circle"
           },
           "mode": "markers",
           "name": "G7_ex US",
           "orientation": "v",
           "showlegend": true,
           "type": "scatter",
           "x": [
            4.148918,
            4.356109,
            4.747284,
            3.288898,
            0.2499074,
            -100
           ],
           "xaxis": "x",
           "y": [
            9.682077,
            8.409583,
            11.33361,
            8.268942,
            4.0325,
            -100
           ],
           "yaxis": "y"
          },
          {
           "hovertemplate": "<b>%{hovertext}</b><br><br>Region=EM_Peer<br>TIME=1987<br>Inflation Rate=%{x}<br>Nominal Interest Rate (3m T-Bill)=%{y}<br>size=%{marker.size}<extra></extra>",
           "hovertext": [
            "Colombia",
            "Chile",
            "Hungary",
            "Indonesia",
            "India",
            "Mexico"
           ],
           "ids": [
            "COL",
            "CHL",
            "HUN",
            "IDN",
            "IND",
            "MEX"
           ],
           "legendgroup": "EM_Peer",
           "marker": {
            "color": "#ab63fa",
            "size": [
             100,
             100,
             100,
             100,
             100,
             100
            ],
            "sizemode": "area",
            "sizeref": 0.16,
            "symbol": "circle"
           },
           "mode": "markers",
           "name": "EM_Peer",
           "orientation": "v",
           "showlegend": true,
           "type": "scatter",
           "x": [
            23.30203,
            -100,
            -100,
            -100,
            -100,
            -100
           ],
           "xaxis": "x",
           "y": [
            30.79,
            -100,
            -100,
            -100,
            -100,
            -100
           ],
           "yaxis": "y"
          },
          {
           "hovertemplate": "<b>%{hovertext}</b><br><br>Region=EM_Other<br>TIME=1987<br>Inflation Rate=%{x}<br>Nominal Interest Rate (3m T-Bill)=%{y}<br>size=%{marker.size}<extra></extra>",
           "hovertext": [
            "Ireland",
            "China",
            "Costa Rica",
            "Czech Republic",
            "Estonia",
            "Greece",
            "Iceland",
            "Lithuania",
            "Latvia",
            "Russia",
            "Slovak Republic",
            "Slovenia"
           ],
           "ids": [
            "IRL",
            "CHN",
            "CRI",
            "CZE",
            "EST",
            "GRC",
            "ISL",
            "LTU",
            "LVA",
            "RUS",
            "SVK",
            "SVN"
           ],
           "legendgroup": "EM_Other",
           "marker": {
            "color": "#FFA15A",
            "size": [
             50,
             50,
             50,
             50,
             50,
             50,
             50,
             50,
             50,
             50,
             50,
             50
            ],
            "sizemode": "area",
            "sizeref": 0.16,
            "symbol": "circle"
           },
           "mode": "markers",
           "name": "EM_Other",
           "orientation": "v",
           "showlegend": true,
           "type": "scatter",
           "x": [
            3.159406,
            -100,
            -100,
            -100,
            -100,
            -100,
            -100,
            -100,
            -100,
            -100,
            -100,
            -100
           ],
           "xaxis": "x",
           "y": [
            10.83333,
            -100,
            -100,
            -100,
            -100,
            -100,
            -100,
            -100,
            -100,
            -100,
            -100,
            -100
           ],
           "yaxis": "y"
          },
          {
           "hovertemplate": "<b>%{hovertext}</b><br><br>Region=DM_Other<br>TIME=1987<br>Inflation Rate=%{x}<br>Nominal Interest Rate (3m T-Bill)=%{y}<br>size=%{marker.size}<extra></extra>",
           "hovertext": [
            "Australia",
            "New Zealand",
            "Norway",
            "Israel",
            "South Korea",
            "Poland"
           ],
           "ids": [
            "AUS",
            "NZL",
            "NOR",
            "ISR",
            "KOR",
            "POL"
           ],
           "legendgroup": "DM_Other",
           "marker": {
            "color": "#19d3f3",
            "size": [
             50,
             50,
             50,
             50,
             50,
             50
            ],
            "sizemode": "area",
            "sizeref": 0.16,
            "symbol": "circle"
           },
           "mode": "markers",
           "name": "DM_Other",
           "orientation": "v",
           "showlegend": true,
           "type": "scatter",
           "x": [
            8.533022,
            15.74429,
            8.717048,
            -100,
            -100,
            -100
           ],
           "xaxis": "x",
           "y": [
            13.75,
            21.11,
            14.7125,
            -100,
            -100,
            -100
           ],
           "yaxis": "y"
          },
          {
           "hovertemplate": "<b>%{hovertext}</b><br><br>Region=DM_Europe<br>TIME=1987<br>Inflation Rate=%{x}<br>Nominal Interest Rate (3m T-Bill)=%{y}<br>size=%{marker.size}<extra></extra>",
           "hovertext": [
            "Denmark",
            "Spain",
            "Finland",
            "Netherlands",
            "Sweden",
            "Belgium",
            "Austria",
            "Switzerland",
            "Luxembourg",
            "Portugal"
           ],
           "ids": [
            "DNK",
            "ESP",
            "FIN",
            "NLD",
            "SWE",
            "BEL",
            "AUT",
            "CHE",
            "LUX",
            "PRT"
           ],
           "legendgroup": "DM_Europe",
           "marker": {
            "color": "#FF6692",
            "size": [
             50,
             50,
             50,
             50,
             50,
             50,
             50,
             50,
             50,
             50
            ],
            "sizemode": "area",
            "sizeref": 0.16,
            "symbol": "circle"
           },
           "mode": "markers",
           "name": "DM_Europe",
           "orientation": "v",
           "showlegend": true,
           "type": "scatter",
           "x": [
            4.01999,
            5.248024,
            4.113027,
            -0.6912059,
            4.188571,
            1.55338,
            -100,
            -100,
            -100,
            -100
           ],
           "xaxis": "x",
           "y": [
            10.10833,
            15.82208,
            10.0325,
            5.359167,
            9.390833,
            7.054167,
            -100,
            -100,
            -100,
            -100
           ],
           "yaxis": "y"
          }
         ],
         "layout": {
          "title": {
           "text": "1987 : South African inflation remains stubbornly high amidst a national State of Emergency"
          }
         },
         "name": "1987"
        },
        {
         "data": [
          {
           "hovertemplate": "<b>%{hovertext}</b><br><br>Region=United States<br>TIME=1988<br>Inflation Rate=%{x}<br>Nominal Interest Rate (3m T-Bill)=%{y}<br>size=%{marker.size}<extra></extra>",
           "hovertext": [
            "United States"
           ],
           "ids": [
            "USA"
           ],
           "legendgroup": "United States",
           "marker": {
            "color": "#636efa",
            "size": [
             200
            ],
            "sizemode": "area",
            "sizeref": 0.16,
            "symbol": "circle"
           },
           "mode": "markers",
           "name": "United States",
           "orientation": "v",
           "showlegend": true,
           "type": "scatter",
           "x": [
            4.077741
           ],
           "xaxis": "x",
           "y": [
            7.7275
           ],
           "yaxis": "y"
          },
          {
           "hovertemplate": "<b>%{hovertext}</b><br><br>Region=South Africa<br>TIME=1988<br>Inflation Rate=%{x}<br>Nominal Interest Rate (3m T-Bill)=%{y}<br>size=%{marker.size}<extra></extra>",
           "hovertext": [
            "South Africa"
           ],
           "ids": [
            "ZAF"
           ],
           "legendgroup": "South Africa",
           "marker": {
            "color": "#EF553B",
            "size": [
             400
            ],
            "sizemode": "area",
            "sizeref": 0.16,
            "symbol": "circle"
           },
           "mode": "markers",
           "name": "South Africa",
           "orientation": "v",
           "showlegend": true,
           "type": "scatter",
           "x": [
            12.77955
           ],
           "xaxis": "x",
           "y": [
            12.24384
           ],
           "yaxis": "y"
          },
          {
           "hovertemplate": "<b>%{hovertext}</b><br><br>Region=G7_ex US<br>TIME=1988<br>Inflation Rate=%{x}<br>Nominal Interest Rate (3m T-Bill)=%{y}<br>size=%{marker.size}<extra></extra>",
           "hovertext": [
            "Italy",
            "Canada",
            "United Kingdom",
            "France",
            "Germany",
            "Japan"
           ],
           "ids": [
            "ITA",
            "CAN",
            "GBR",
            "FRA",
            "DEU",
            "JPN"
           ],
           "legendgroup": "G7_ex US",
           "marker": {
            "color": "#00cc96",
            "size": [
             50,
             50,
             50,
             50,
             50,
             50
            ],
            "sizemode": "area",
            "sizeref": 0.16,
            "symbol": "circle"
           },
           "mode": "markers",
           "name": "G7_ex US",
           "orientation": "v",
           "showlegend": true,
           "type": "scatter",
           "x": [
            5.058249,
            4.028234,
            4.2094,
            2.700817,
            1.274121,
            -100
           ],
           "xaxis": "x",
           "y": [
            10.81765,
            9.61,
            10.35268,
            7.942167,
            4.330833,
            -100
           ],
           "yaxis": "y"
          },
          {
           "hovertemplate": "<b>%{hovertext}</b><br><br>Region=EM_Peer<br>TIME=1988<br>Inflation Rate=%{x}<br>Nominal Interest Rate (3m T-Bill)=%{y}<br>size=%{marker.size}<extra></extra>",
           "hovertext": [
            "Colombia",
            "Chile",
            "Hungary",
            "Indonesia",
            "India",
            "Mexico"
           ],
           "ids": [
            "COL",
            "CHL",
            "HUN",
            "IDN",
            "IND",
            "MEX"
           ],
           "legendgroup": "EM_Peer",
           "marker": {
            "color": "#ab63fa",
            "size": [
             100,
             100,
             100,
             100,
             100,
             100
            ],
            "sizemode": "area",
            "sizeref": 0.16,
            "symbol": "circle"
           },
           "mode": "markers",
           "name": "EM_Peer",
           "orientation": "v",
           "showlegend": true,
           "type": "scatter",
           "x": [
            28.10839,
            -100,
            -100,
            -100,
            -100,
            -100
           ],
           "xaxis": "x",
           "y": [
            33.45917,
            -100,
            -100,
            -100,
            -100,
            -100
           ],
           "yaxis": "y"
          },
          {
           "hovertemplate": "<b>%{hovertext}</b><br><br>Region=EM_Other<br>TIME=1988<br>Inflation Rate=%{x}<br>Nominal Interest Rate (3m T-Bill)=%{y}<br>size=%{marker.size}<extra></extra>",
           "hovertext": [
            "Iceland",
            "Ireland",
            "China",
            "Costa Rica",
            "Czech Republic",
            "Estonia",
            "Greece",
            "Lithuania",
            "Latvia",
            "Russia",
            "Slovak Republic",
            "Slovenia"
           ],
           "ids": [
            "ISL",
            "IRL",
            "CHN",
            "CRI",
            "CZE",
            "EST",
            "GRC",
            "LTU",
            "LVA",
            "RUS",
            "SVK",
            "SVN"
           ],
           "legendgroup": "EM_Other",
           "marker": {
            "color": "#FFA15A",
            "size": [
             50,
             50,
             50,
             50,
             50,
             50,
             50,
             50,
             50,
             50,
             50,
             50
            ],
            "sizemode": "area",
            "sizeref": 0.16,
            "symbol": "circle"
           },
           "mode": "markers",
           "name": "EM_Other",
           "orientation": "v",
           "showlegend": true,
           "type": "scatter",
           "x": [
            25.72551,
            2.134571,
            -100,
            -100,
            -100,
            -100,
            -100,
            -100,
            -100,
            -100,
            -100,
            -100
           ],
           "xaxis": "x",
           "y": [
            31.025,
            8.045834,
            -100,
            -100,
            -100,
            -100,
            -100,
            -100,
            -100,
            -100,
            -100,
            -100
           ],
           "yaxis": "y"
          },
          {
           "hovertemplate": "<b>%{hovertext}</b><br><br>Region=DM_Other<br>TIME=1988<br>Inflation Rate=%{x}<br>Nominal Interest Rate (3m T-Bill)=%{y}<br>size=%{marker.size}<extra></extra>",
           "hovertext": [
            "Norway",
            "Australia",
            "New Zealand",
            "Israel",
            "South Korea",
            "Poland"
           ],
           "ids": [
            "NOR",
            "AUS",
            "NZL",
            "ISR",
            "KOR",
            "POL"
           ],
           "legendgroup": "DM_Other",
           "marker": {
            "color": "#19d3f3",
            "size": [
             50,
             50,
             50,
             50,
             50,
             50
            ],
            "sizemode": "area",
            "sizeref": 0.16,
            "symbol": "circle"
           },
           "mode": "markers",
           "name": "DM_Other",
           "orientation": "v",
           "showlegend": true,
           "type": "scatter",
           "x": [
            6.676366,
            7.21594,
            6.375257,
            -100,
            -100,
            -100
           ],
           "xaxis": "x",
           "y": [
            13.51,
            12.8,
            15.3925,
            -100,
            -100,
            -100
           ],
           "yaxis": "y"
          },
          {
           "hovertemplate": "<b>%{hovertext}</b><br><br>Region=DM_Europe<br>TIME=1988<br>Inflation Rate=%{x}<br>Nominal Interest Rate (3m T-Bill)=%{y}<br>size=%{marker.size}<extra></extra>",
           "hovertext": [
            "Finland",
            "Sweden",
            "Portugal",
            "Denmark",
            "Spain",
            "Netherlands",
            "Belgium",
            "Austria",
            "Switzerland",
            "Luxembourg"
           ],
           "ids": [
            "FIN",
            "SWE",
            "PRT",
            "DNK",
            "ESP",
            "NLD",
            "BEL",
            "AUT",
            "CHE",
            "LUX"
           ],
           "legendgroup": "DM_Europe",
           "marker": {
            "color": "#FF6692",
            "size": [
             50,
             50,
             50,
             50,
             50,
             50,
             50,
             50,
             50,
             50
            ],
            "sizemode": "area",
            "sizeref": 0.16,
            "symbol": "circle"
           },
           "mode": "markers",
           "name": "DM_Europe",
           "orientation": "v",
           "showlegend": true,
           "type": "scatter",
           "x": [
            5.085932,
            5.824899,
            10.10163,
            4.535135,
            4.837267,
            0.7379455,
            1.160936,
            -100,
            -100,
            -100
           ],
           "xaxis": "x",
           "y": [
            9.965834,
            10.08333,
            12.96833,
            8.591598,
            11.65033,
            4.816667,
            6.729167,
            -100,
            -100,
            -100
           ],
           "yaxis": "y"
          }
         ],
         "layout": {
          "title": {
           "text": "1988 : SARB is less accommodative though double-digit inflation seems entrenched"
          }
         },
         "name": "1988"
        },
        {
         "data": [
          {
           "hovertemplate": "<b>%{hovertext}</b><br><br>Region=United States<br>TIME=1989<br>Inflation Rate=%{x}<br>Nominal Interest Rate (3m T-Bill)=%{y}<br>size=%{marker.size}<extra></extra>",
           "hovertext": [
            "United States"
           ],
           "ids": [
            "USA"
           ],
           "legendgroup": "United States",
           "marker": {
            "color": "#636efa",
            "size": [
             200
            ],
            "sizemode": "area",
            "sizeref": 0.16,
            "symbol": "circle"
           },
           "mode": "markers",
           "name": "United States",
           "orientation": "v",
           "showlegend": true,
           "type": "scatter",
           "x": [
            4.827003
           ],
           "xaxis": "x",
           "y": [
            9.085
           ],
           "yaxis": "y"
          },
          {
           "hovertemplate": "<b>%{hovertext}</b><br><br>Region=South Africa<br>TIME=1989<br>Inflation Rate=%{x}<br>Nominal Interest Rate (3m T-Bill)=%{y}<br>size=%{marker.size}<extra></extra>",
           "hovertext": [
            "South Africa"
           ],
           "ids": [
            "ZAF"
           ],
           "legendgroup": "South Africa",
           "marker": {
            "color": "#EF553B",
            "size": [
             400
            ],
            "sizemode": "area",
            "sizeref": 0.16,
            "symbol": "circle"
           },
           "mode": "markers",
           "name": "South Africa",
           "orientation": "v",
           "showlegend": true,
           "type": "scatter",
           "x": [
            14.73088
           ],
           "xaxis": "x",
           "y": [
            16.93361
           ],
           "yaxis": "y"
          },
          {
           "hovertemplate": "<b>%{hovertext}</b><br><br>Region=G7_ex US<br>TIME=1989<br>Inflation Rate=%{x}<br>Nominal Interest Rate (3m T-Bill)=%{y}<br>size=%{marker.size}<extra></extra>",
           "hovertext": [
            "Italy",
            "Germany",
            "Canada",
            "United Kingdom",
            "France",
            "Japan"
           ],
           "ids": [
            "ITA",
            "DEU",
            "CAN",
            "GBR",
            "FRA",
            "JPN"
           ],
           "legendgroup": "G7_ex US",
           "marker": {
            "color": "#00cc96",
            "size": [
             50,
             50,
             50,
             50,
             50,
             50
            ],
            "sizemode": "area",
            "sizeref": 0.16,
            "symbol": "circle"
           },
           "mode": "markers",
           "name": "G7_ex US",
           "orientation": "v",
           "showlegend": true,
           "type": "scatter",
           "x": [
            6.259837,
            2.780563,
            4.983622,
            5.7,
            3.498302,
            -100
           ],
           "xaxis": "x",
           "y": [
            12.62011,
            7.118333,
            12.17675,
            13.93177,
            9.398808,
            -100
           ],
           "yaxis": "y"
          },
          {
           "hovertemplate": "<b>%{hovertext}</b><br><br>Region=EM_Peer<br>TIME=1989<br>Inflation Rate=%{x}<br>Nominal Interest Rate (3m T-Bill)=%{y}<br>size=%{marker.size}<extra></extra>",
           "hovertext": [
            "Colombia",
            "Chile",
            "Hungary",
            "Indonesia",
            "India",
            "Mexico"
           ],
           "ids": [
            "COL",
            "CHL",
            "HUN",
            "IDN",
            "IND",
            "MEX"
           ],
           "legendgroup": "EM_Peer",
           "marker": {
            "color": "#ab63fa",
            "size": [
             100,
             100,
             100,
             100,
             100,
             100
            ],
            "sizemode": "area",
            "sizeref": 0.16,
            "symbol": "circle"
           },
           "mode": "markers",
           "name": "EM_Peer",
           "orientation": "v",
           "showlegend": true,
           "type": "scatter",
           "x": [
            25.86755,
            -100,
            -100,
            -100,
            -100,
            -100
           ],
           "xaxis": "x",
           "y": [
            33.7275,
            -100,
            -100,
            -100,
            -100,
            -100
           ],
           "yaxis": "y"
          },
          {
           "hovertemplate": "<b>%{hovertext}</b><br><br>Region=EM_Other<br>TIME=1989<br>Inflation Rate=%{x}<br>Nominal Interest Rate (3m T-Bill)=%{y}<br>size=%{marker.size}<extra></extra>",
           "hovertext": [
            "Ireland",
            "Iceland",
            "China",
            "Costa Rica",
            "Czech Republic",
            "Estonia",
            "Greece",
            "Lithuania",
            "Latvia",
            "Russia",
            "Slovak Republic",
            "Slovenia"
           ],
           "ids": [
            "IRL",
            "ISL",
            "CHN",
            "CRI",
            "CZE",
            "EST",
            "GRC",
            "LTU",
            "LVA",
            "RUS",
            "SVK",
            "SVN"
           ],
           "legendgroup": "EM_Other",
           "marker": {
            "color": "#FFA15A",
            "size": [
             50,
             50,
             50,
             50,
             50,
             50,
             50,
             50,
             50,
             50,
             50,
             50
            ],
            "sizemode": "area",
            "sizeref": 0.16,
            "symbol": "circle"
           },
           "mode": "markers",
           "name": "EM_Other",
           "orientation": "v",
           "showlegend": true,
           "type": "scatter",
           "x": [
            4.08905,
            20.7582,
            -100,
            -100,
            -100,
            -100,
            -100,
            -100,
            -100,
            -100,
            -100,
            -100
           ],
           "xaxis": "x",
           "y": [
            10.035,
            27.88333,
            -100,
            -100,
            -100,
            -100,
            -100,
            -100,
            -100,
            -100,
            -100,
            -100
           ],
           "yaxis": "y"
          },
          {
           "hovertemplate": "<b>%{hovertext}</b><br><br>Region=DM_Other<br>TIME=1989<br>Inflation Rate=%{x}<br>Nominal Interest Rate (3m T-Bill)=%{y}<br>size=%{marker.size}<extra></extra>",
           "hovertext": [
            "New Zealand",
            "Norway",
            "Australia",
            "Israel",
            "South Korea",
            "Poland"
           ],
           "ids": [
            "NZL",
            "NOR",
            "AUS",
            "ISR",
            "KOR",
            "POL"
           ],
           "legendgroup": "DM_Other",
           "marker": {
            "color": "#19d3f3",
            "size": [
             50,
             50,
             50,
             50,
             50,
             50
            ],
            "sizemode": "area",
            "sizeref": 0.16,
            "symbol": "circle"
           },
           "mode": "markers",
           "name": "DM_Other",
           "orientation": "v",
           "showlegend": true,
           "type": "scatter",
           "x": [
            5.715991,
            4.546144,
            7.533903,
            -100,
            -100,
            -100
           ],
           "xaxis": "x",
           "y": [
            13.53917,
            11.37917,
            17.61167,
            -100,
            -100,
            -100
           ],
           "yaxis": "y"
          },
          {
           "hovertemplate": "<b>%{hovertext}</b><br><br>Region=DM_Europe<br>TIME=1989<br>Inflation Rate=%{x}<br>Nominal Interest Rate (3m T-Bill)=%{y}<br>size=%{marker.size}<extra></extra>",
           "hovertext": [
            "Spain",
            "Portugal",
            "Denmark",
            "Netherlands",
            "Finland",
            "Belgium",
            "Sweden",
            "Austria",
            "Switzerland",
            "Luxembourg"
           ],
           "ids": [
            "ESP",
            "PRT",
            "DNK",
            "NLD",
            "FIN",
            "BEL",
            "SWE",
            "AUT",
            "CHE",
            "LUX"
           ],
           "legendgroup": "DM_Europe",
           "marker": {
            "color": "#FF6692",
            "size": [
             50,
             50,
             50,
             50,
             50,
             50,
             50,
             50,
             50,
             50
            ],
            "sizemode": "area",
            "sizeref": 0.16,
            "symbol": "circle"
           },
           "mode": "markers",
           "name": "DM_Europe",
           "orientation": "v",
           "showlegend": true,
           "type": "scatter",
           "x": [
            6.791436,
            12.6863,
            4.772727,
            1.082161,
            6.592911,
            3.107053,
            6.443276,
            -100,
            -100,
            -100
           ],
           "xaxis": "x",
           "y": [
            15.03633,
            14.82727,
            9.402513,
            7.388333,
            12.55667,
            8.8,
            11.49917,
            -100,
            -100,
            -100
           ],
           "yaxis": "y"
          }
         ],
         "layout": {
          "title": {
           "text": "1989 : Collapse of Soviet communism and the end of the Cold War \"globalises capitalism\""
          }
         },
         "name": "1989"
        },
        {
         "data": [
          {
           "hovertemplate": "<b>%{hovertext}</b><br><br>Region=United States<br>TIME=1990<br>Inflation Rate=%{x}<br>Nominal Interest Rate (3m T-Bill)=%{y}<br>size=%{marker.size}<extra></extra>",
           "hovertext": [
            "United States"
           ],
           "ids": [
            "USA"
           ],
           "legendgroup": "United States",
           "marker": {
            "color": "#636efa",
            "size": [
             200
            ],
            "sizemode": "area",
            "sizeref": 0.16,
            "symbol": "circle"
           },
           "mode": "markers",
           "name": "United States",
           "orientation": "v",
           "showlegend": true,
           "type": "scatter",
           "x": [
            5.397956
           ],
           "xaxis": "x",
           "y": [
            8.1475
           ],
           "yaxis": "y"
          },
          {
           "hovertemplate": "<b>%{hovertext}</b><br><br>Region=South Africa<br>TIME=1990<br>Inflation Rate=%{x}<br>Nominal Interest Rate (3m T-Bill)=%{y}<br>size=%{marker.size}<extra></extra>",
           "hovertext": [
            "South Africa"
           ],
           "ids": [
            "ZAF"
           ],
           "legendgroup": "South Africa",
           "marker": {
            "color": "#EF553B",
            "size": [
             400
            ],
            "sizemode": "area",
            "sizeref": 0.16,
            "symbol": "circle"
           },
           "mode": "markers",
           "name": "South Africa",
           "orientation": "v",
           "showlegend": true,
           "type": "scatter",
           "x": [
            14.32099
           ],
           "xaxis": "x",
           "y": [
            17.80655
           ],
           "yaxis": "y"
          },
          {
           "hovertemplate": "<b>%{hovertext}</b><br><br>Region=G7_ex US<br>TIME=1990<br>Inflation Rate=%{x}<br>Nominal Interest Rate (3m T-Bill)=%{y}<br>size=%{marker.size}<extra></extra>",
           "hovertext": [
            "France",
            "United Kingdom",
            "Italy",
            "Germany",
            "Canada",
            "Japan"
           ],
           "ids": [
            "FRA",
            "GBR",
            "ITA",
            "DEU",
            "CAN",
            "JPN"
           ],
           "legendgroup": "G7_ex US",
           "marker": {
            "color": "#00cc96",
            "size": [
             50,
             50,
             50,
             50,
             50,
             50
            ],
            "sizemode": "area",
            "sizeref": 0.16,
            "symbol": "circle"
           },
           "mode": "markers",
           "name": "G7_ex US",
           "orientation": "v",
           "showlegend": true,
           "type": "scatter",
           "x": [
            3.194282,
            8,
            6.456608,
            2.69647,
            4.780477,
            -100
           ],
           "xaxis": "x",
           "y": [
            10.3214,
            14.80897,
            12.22985,
            8.488334,
            13.02129,
            -100
           ],
           "yaxis": "y"
          },
          {
           "hovertemplate": "<b>%{hovertext}</b><br><br>Region=EM_Peer<br>TIME=1990<br>Inflation Rate=%{x}<br>Nominal Interest Rate (3m T-Bill)=%{y}<br>size=%{marker.size}<extra></extra>",
           "hovertext": [
            "Colombia",
            "Chile",
            "Hungary",
            "Indonesia",
            "India",
            "Mexico"
           ],
           "ids": [
            "COL",
            "CHL",
            "HUN",
            "IDN",
            "IND",
            "MEX"
           ],
           "legendgroup": "EM_Peer",
           "marker": {
            "color": "#ab63fa",
            "size": [
             100,
             100,
             100,
             100,
             100,
             100
            ],
            "sizemode": "area",
            "sizeref": 0.16,
            "symbol": "circle"
           },
           "mode": "markers",
           "name": "EM_Peer",
           "orientation": "v",
           "showlegend": true,
           "type": "scatter",
           "x": [
            29.15202,
            -100,
            -100,
            -100,
            -100,
            -100
           ],
           "xaxis": "x",
           "y": [
            36.44083,
            -100,
            -100,
            -100,
            -100,
            -100
           ],
           "yaxis": "y"
          },
          {
           "hovertemplate": "<b>%{hovertext}</b><br><br>Region=EM_Other<br>TIME=1990<br>Inflation Rate=%{x}<br>Nominal Interest Rate (3m T-Bill)=%{y}<br>size=%{marker.size}<extra></extra>",
           "hovertext": [
            "Iceland",
            "Ireland",
            "China",
            "Costa Rica",
            "Czech Republic",
            "Estonia",
            "Greece",
            "Lithuania",
            "Latvia",
            "Russia",
            "Slovak Republic",
            "Slovenia"
           ],
           "ids": [
            "ISL",
            "IRL",
            "CHN",
            "CRI",
            "CZE",
            "EST",
            "GRC",
            "LTU",
            "LVA",
            "RUS",
            "SVK",
            "SVN"
           ],
           "legendgroup": "EM_Other",
           "marker": {
            "color": "#FFA15A",
            "size": [
             50,
             50,
             50,
             50,
             50,
             50,
             50,
             50,
             50,
             50,
             50,
             50
            ],
            "sizemode": "area",
            "sizeref": 0.16,
            "symbol": "circle"
           },
           "mode": "markers",
           "name": "EM_Other",
           "orientation": "v",
           "showlegend": true,
           "type": "scatter",
           "x": [
            15.51072,
            3.317329,
            -100,
            -100,
            -100,
            -100,
            -100,
            -100,
            -100,
            -100,
            -100,
            -100
           ],
           "xaxis": "x",
           "y": [
            14.83333,
            11.30667,
            -100,
            -100,
            -100,
            -100,
            -100,
            -100,
            -100,
            -100,
            -100,
            -100
           ],
           "yaxis": "y"
          },
          {
           "hovertemplate": "<b>%{hovertext}</b><br><br>Region=DM_Other<br>TIME=1990<br>Inflation Rate=%{x}<br>Nominal Interest Rate (3m T-Bill)=%{y}<br>size=%{marker.size}<extra></extra>",
           "hovertext": [
            "Norway",
            "Australia",
            "New Zealand",
            "Israel",
            "South Korea",
            "Poland"
           ],
           "ids": [
            "NOR",
            "AUS",
            "NZL",
            "ISR",
            "KOR",
            "POL"
           ],
           "legendgroup": "DM_Other",
           "marker": {
            "color": "#19d3f3",
            "size": [
             50,
             50,
             50,
             50,
             50,
             50
            ],
            "sizemode": "area",
            "sizeref": 0.16,
            "symbol": "circle"
           },
           "mode": "markers",
           "name": "DM_Other",
           "orientation": "v",
           "showlegend": true,
           "type": "scatter",
           "x": [
            4.131033,
            7.333022,
            6.098439,
            -100,
            -100,
            -100
           ],
           "xaxis": "x",
           "y": [
            11.53917,
            14.54333,
            13.8925,
            -100,
            -100,
            -100
           ],
           "yaxis": "y"
          },
          {
           "hovertemplate": "<b>%{hovertext}</b><br><br>Region=DM_Europe<br>TIME=1990<br>Inflation Rate=%{x}<br>Nominal Interest Rate (3m T-Bill)=%{y}<br>size=%{marker.size}<extra></extra>",
           "hovertext": [
            "Austria",
            "Belgium",
            "Portugal",
            "Sweden",
            "Spain",
            "Netherlands",
            "Denmark",
            "Finland",
            "Switzerland",
            "Luxembourg"
           ],
           "ids": [
            "AUT",
            "BEL",
            "PRT",
            "SWE",
            "ESP",
            "NLD",
            "DNK",
            "FIN",
            "CHE",
            "LUX"
           ],
           "legendgroup": "DM_Europe",
           "marker": {
            "color": "#FF6692",
            "size": [
             50,
             50,
             50,
             50,
             50,
             50,
             50,
             50,
             50,
             50
            ],
            "sizemode": "area",
            "sizeref": 0.16,
            "symbol": "circle"
           },
           "mode": "markers",
           "name": "DM_Europe",
           "orientation": "v",
           "showlegend": true,
           "type": "scatter",
           "x": [
            3.261872,
            3.44831,
            13.63057,
            10.36655,
            6.721821,
            2.454089,
            2.6416,
            6.149561,
            -100,
            -100
           ],
           "xaxis": "x",
           "y": [
            8.964167,
            9.633333,
            16.9025,
            13.6675,
            15.15158,
            8.6825,
            11.17801,
            13.99667,
            -100,
            -100
           ],
           "yaxis": "y"
          }
         ],
         "layout": {
          "title": {
           "text": "1990 : The 1990 oil price shock causes inflation to surge"
          }
         },
         "name": "1990"
        },
        {
         "data": [
          {
           "hovertemplate": "<b>%{hovertext}</b><br><br>Region=United States<br>TIME=1991<br>Inflation Rate=%{x}<br>Nominal Interest Rate (3m T-Bill)=%{y}<br>size=%{marker.size}<extra></extra>",
           "hovertext": [
            "United States"
           ],
           "ids": [
            "USA"
           ],
           "legendgroup": "United States",
           "marker": {
            "color": "#636efa",
            "size": [
             200
            ],
            "sizemode": "area",
            "sizeref": 0.16,
            "symbol": "circle"
           },
           "mode": "markers",
           "name": "United States",
           "orientation": "v",
           "showlegend": true,
           "type": "scatter",
           "x": [
            4.234964
           ],
           "xaxis": "x",
           "y": [
            5.835
           ],
           "yaxis": "y"
          },
          {
           "hovertemplate": "<b>%{hovertext}</b><br><br>Region=South Africa<br>TIME=1991<br>Inflation Rate=%{x}<br>Nominal Interest Rate (3m T-Bill)=%{y}<br>size=%{marker.size}<extra></extra>",
           "hovertext": [
            "South Africa"
           ],
           "ids": [
            "ZAF"
           ],
           "legendgroup": "South Africa",
           "marker": {
            "color": "#EF553B",
            "size": [
             400
            ],
            "sizemode": "area",
            "sizeref": 0.16,
            "symbol": "circle"
           },
           "mode": "markers",
           "name": "South Africa",
           "orientation": "v",
           "showlegend": true,
           "type": "scatter",
           "x": [
            15.33477
           ],
           "xaxis": "x",
           "y": [
            16.68785
           ],
           "yaxis": "y"
          },
          {
           "hovertemplate": "<b>%{hovertext}</b><br><br>Region=G7_ex US<br>TIME=1991<br>Inflation Rate=%{x}<br>Nominal Interest Rate (3m T-Bill)=%{y}<br>size=%{marker.size}<extra></extra>",
           "hovertext": [
            "United Kingdom",
            "Germany",
            "Canada",
            "France",
            "Italy",
            "Japan"
           ],
           "ids": [
            "GBR",
            "DEU",
            "CAN",
            "FRA",
            "ITA",
            "JPN"
           ],
           "legendgroup": "G7_ex US",
           "marker": {
            "color": "#00cc96",
            "size": [
             50,
             50,
             50,
             50,
             50,
             50
            ],
            "sizemode": "area",
            "sizeref": 0.16,
            "symbol": "circle"
           },
           "mode": "markers",
           "name": "G7_ex US",
           "orientation": "v",
           "showlegend": true,
           "type": "scatter",
           "x": [
            7.5,
            4.047034,
            5.625864,
            3.213407,
            6.25,
            -100
           ],
           "xaxis": "x",
           "y": [
            11.57342,
            9.246667,
            9.110209,
            9.615025,
            12.20833,
            -100
           ],
           "yaxis": "y"
          },
          {
           "hovertemplate": "<b>%{hovertext}</b><br><br>Region=EM_Peer<br>TIME=1991<br>Inflation Rate=%{x}<br>Nominal Interest Rate (3m T-Bill)=%{y}<br>size=%{marker.size}<extra></extra>",
           "hovertext": [
            "Hungary",
            "Colombia",
            "Chile",
            "Indonesia",
            "India",
            "Mexico"
           ],
           "ids": [
            "HUN",
            "COL",
            "CHL",
            "IDN",
            "IND",
            "MEX"
           ],
           "legendgroup": "EM_Peer",
           "marker": {
            "color": "#ab63fa",
            "size": [
             100,
             100,
             100,
             100,
             100,
             100
            ],
            "sizemode": "area",
            "sizeref": 0.16,
            "symbol": "circle"
           },
           "mode": "markers",
           "name": "EM_Peer",
           "orientation": "v",
           "showlegend": true,
           "type": "scatter",
           "x": [
            34.81754,
            30.38782,
            -100,
            -100,
            -100,
            -100
           ],
           "xaxis": "x",
           "y": [
            34.48333,
            37.225,
            -100,
            -100,
            -100,
            -100
           ],
           "yaxis": "y"
          },
          {
           "hovertemplate": "<b>%{hovertext}</b><br><br>Region=EM_Other<br>TIME=1991<br>Inflation Rate=%{x}<br>Nominal Interest Rate (3m T-Bill)=%{y}<br>size=%{marker.size}<extra></extra>",
           "hovertext": [
            "Ireland",
            "Iceland",
            "China",
            "Costa Rica",
            "Czech Republic",
            "Estonia",
            "Greece",
            "Lithuania",
            "Latvia",
            "Russia",
            "Slovak Republic",
            "Slovenia"
           ],
           "ids": [
            "IRL",
            "ISL",
            "CHN",
            "CRI",
            "CZE",
            "EST",
            "GRC",
            "LTU",
            "LVA",
            "RUS",
            "SVK",
            "SVN"
           ],
           "legendgroup": "EM_Other",
           "marker": {
            "color": "#FFA15A",
            "size": [
             50,
             50,
             50,
             50,
             50,
             50,
             50,
             50,
             50,
             50,
             50,
             50
            ],
            "sizemode": "area",
            "sizeref": 0.16,
            "symbol": "circle"
           },
           "mode": "markers",
           "name": "EM_Other",
           "orientation": "v",
           "showlegend": true,
           "type": "scatter",
           "x": [
            3.210815,
            6.80878,
            -100,
            -100,
            -100,
            -100,
            -100,
            -100,
            -100,
            -100,
            -100,
            -100
           ],
           "xaxis": "x",
           "y": [
            10.4275,
            14.64167,
            -100,
            -100,
            -100,
            -100,
            -100,
            -100,
            -100,
            -100,
            -100,
            -100
           ],
           "yaxis": "y"
          },
          {
           "hovertemplate": "<b>%{hovertext}</b><br><br>Region=DM_Other<br>TIME=1991<br>Inflation Rate=%{x}<br>Nominal Interest Rate (3m T-Bill)=%{y}<br>size=%{marker.size}<extra></extra>",
           "hovertext": [
            "South Korea",
            "Norway",
            "Australia",
            "New Zealand",
            "Israel",
            "Poland"
           ],
           "ids": [
            "KOR",
            "NOR",
            "AUS",
            "NZL",
            "ISR",
            "POL"
           ],
           "legendgroup": "DM_Other",
           "marker": {
            "color": "#19d3f3",
            "size": [
             50,
             50,
             50,
             50,
             50,
             50
            ],
            "sizemode": "area",
            "sizeref": 0.16,
            "symbol": "circle"
           },
           "mode": "markers",
           "name": "DM_Other",
           "orientation": "v",
           "showlegend": true,
           "type": "scatter",
           "x": [
            9.33279,
            3.438196,
            3.176675,
            2.602399,
            -100,
            -100
           ],
           "xaxis": "x",
           "y": [
            18.30083,
            10.56417,
            10.22583,
            9.965834,
            -100,
            -100
           ],
           "yaxis": "y"
          },
          {
           "hovertemplate": "<b>%{hovertext}</b><br><br>Region=DM_Europe<br>TIME=1991<br>Inflation Rate=%{x}<br>Nominal Interest Rate (3m T-Bill)=%{y}<br>size=%{marker.size}<extra></extra>",
           "hovertext": [
            "Denmark",
            "Netherlands",
            "Sweden",
            "Portugal",
            "Belgium",
            "Spain",
            "Finland",
            "Austria",
            "Switzerland",
            "Luxembourg"
           ],
           "ids": [
            "DNK",
            "NLD",
            "SWE",
            "PRT",
            "BEL",
            "ESP",
            "FIN",
            "AUT",
            "CHE",
            "LUX"
           ],
           "legendgroup": "DM_Europe",
           "marker": {
            "color": "#FF6692",
            "size": [
             50,
             50,
             50,
             50,
             50,
             50,
             50,
             50,
             50,
             50
            ],
            "sizemode": "area",
            "sizeref": 0.16,
            "symbol": "circle"
           },
           "mode": "markers",
           "name": "DM_Europe",
           "orientation": "v",
           "showlegend": true,
           "type": "scatter",
           "x": [
            2.395153,
            3.158203,
            9.444628,
            11.84948,
            3.215311,
            5.934214,
            4.310215,
            3.337426,
            -100,
            -100
           ],
           "xaxis": "x",
           "y": [
            9.91804,
            9.281667,
            11.59333,
            17.7375,
            9.3825,
            13.22675,
            13.07917,
            9.463333,
            -100,
            -100
           ],
           "yaxis": "y"
          }
         ],
         "layout": {
          "title": {
           "text": "1991 : Most central banks tighten monetary policy in response"
          }
         },
         "name": "1991"
        },
        {
         "data": [
          {
           "hovertemplate": "<b>%{hovertext}</b><br><br>Region=United States<br>TIME=1992<br>Inflation Rate=%{x}<br>Nominal Interest Rate (3m T-Bill)=%{y}<br>size=%{marker.size}<extra></extra>",
           "hovertext": [
            "United States"
           ],
           "ids": [
            "USA"
           ],
           "legendgroup": "United States",
           "marker": {
            "color": "#636efa",
            "size": [
             200
            ],
            "sizemode": "area",
            "sizeref": 0.16,
            "symbol": "circle"
           },
           "mode": "markers",
           "name": "United States",
           "orientation": "v",
           "showlegend": true,
           "type": "scatter",
           "x": [
            3.02882
           ],
           "xaxis": "x",
           "y": [
            3.681667
           ],
           "yaxis": "y"
          },
          {
           "hovertemplate": "<b>%{hovertext}</b><br><br>Region=South Africa<br>TIME=1992<br>Inflation Rate=%{x}<br>Nominal Interest Rate (3m T-Bill)=%{y}<br>size=%{marker.size}<extra></extra>",
           "hovertext": [
            "South Africa"
           ],
           "ids": [
            "ZAF"
           ],
           "legendgroup": "South Africa",
           "marker": {
            "color": "#EF553B",
            "size": [
             400
            ],
            "sizemode": "area",
            "sizeref": 0.16,
            "symbol": "circle"
           },
           "mode": "markers",
           "name": "South Africa",
           "orientation": "v",
           "showlegend": true,
           "type": "scatter",
           "x": [
            13.8747
           ],
           "xaxis": "x",
           "y": [
            13.7697
           ],
           "yaxis": "y"
          },
          {
           "hovertemplate": "<b>%{hovertext}</b><br><br>Region=G7_ex US<br>TIME=1992<br>Inflation Rate=%{x}<br>Nominal Interest Rate (3m T-Bill)=%{y}<br>size=%{marker.size}<extra></extra>",
           "hovertext": [
            "Italy",
            "United Kingdom",
            "Germany",
            "France",
            "Canada",
            "Japan"
           ],
           "ids": [
            "ITA",
            "GBR",
            "DEU",
            "FRA",
            "CAN",
            "JPN"
           ],
           "legendgroup": "G7_ex US",
           "marker": {
            "color": "#00cc96",
            "size": [
             50,
             50,
             50,
             50,
             50,
             50
            ],
            "sizemode": "area",
            "sizeref": 0.16,
            "symbol": "circle"
           },
           "mode": "markers",
           "name": "G7_ex US",
           "orientation": "v",
           "showlegend": true,
           "type": "scatter",
           "x": [
            5.270588,
            4.6,
            5.05698,
            2.36376,
            1.490133,
            -100
           ],
           "xaxis": "x",
           "y": [
            14.01333,
            9.680578,
            9.5175,
            10.34462,
            6.677083,
            -100
           ],
           "yaxis": "y"
          },
          {
           "hovertemplate": "<b>%{hovertext}</b><br><br>Region=EM_Peer<br>TIME=1992<br>Inflation Rate=%{x}<br>Nominal Interest Rate (3m T-Bill)=%{y}<br>size=%{marker.size}<extra></extra>",
           "hovertext": [
            "Hungary",
            "Colombia",
            "Chile",
            "Indonesia",
            "India",
            "Mexico"
           ],
           "ids": [
            "HUN",
            "COL",
            "CHL",
            "IDN",
            "IND",
            "MEX"
           ],
           "legendgroup": "EM_Peer",
           "marker": {
            "color": "#ab63fa",
            "size": [
             100,
             100,
             100,
             100,
             100,
             100
            ],
            "sizemode": "area",
            "sizeref": 0.16,
            "symbol": "circle"
           },
           "mode": "markers",
           "name": "EM_Peer",
           "orientation": "v",
           "showlegend": true,
           "type": "scatter",
           "x": [
            23.65572,
            27.01063,
            -100,
            -100,
            -100,
            -100
           ],
           "xaxis": "x",
           "y": [
            22.725,
            26.67167,
            -100,
            -100,
            -100,
            -100
           ],
           "yaxis": "y"
          },
          {
           "hovertemplate": "<b>%{hovertext}</b><br><br>Region=EM_Other<br>TIME=1992<br>Inflation Rate=%{x}<br>Nominal Interest Rate (3m T-Bill)=%{y}<br>size=%{marker.size}<extra></extra>",
           "hovertext": [
            "Ireland",
            "Iceland",
            "China",
            "Costa Rica",
            "Czech Republic",
            "Estonia",
            "Greece",
            "Lithuania",
            "Latvia",
            "Russia",
            "Slovak Republic",
            "Slovenia"
           ],
           "ids": [
            "IRL",
            "ISL",
            "CHN",
            "CRI",
            "CZE",
            "EST",
            "GRC",
            "LTU",
            "LVA",
            "RUS",
            "SVK",
            "SVN"
           ],
           "legendgroup": "EM_Other",
           "marker": {
            "color": "#FFA15A",
            "size": [
             50,
             50,
             50,
             50,
             50,
             50,
             50,
             50,
             50,
             50,
             50,
             50
            ],
            "sizemode": "area",
            "sizeref": 0.16,
            "symbol": "circle"
           },
           "mode": "markers",
           "name": "EM_Other",
           "orientation": "v",
           "showlegend": true,
           "type": "scatter",
           "x": [
            3.069996,
            3.947712,
            -100,
            -100,
            -100,
            -100,
            -100,
            -100,
            -100,
            -100,
            -100,
            -100
           ],
           "xaxis": "x",
           "y": [
            14.31833,
            10.4975,
            -100,
            -100,
            -100,
            -100,
            -100,
            -100,
            -100,
            -100,
            -100,
            -100
           ],
           "yaxis": "y"
          },
          {
           "hovertemplate": "<b>%{hovertext}</b><br><br>Region=DM_Other<br>TIME=1992<br>Inflation Rate=%{x}<br>Nominal Interest Rate (3m T-Bill)=%{y}<br>size=%{marker.size}<extra></extra>",
           "hovertext": [
            "Poland",
            "South Korea",
            "Australia",
            "New Zealand",
            "Norway",
            "Israel"
           ],
           "ids": [
            "POL",
            "KOR",
            "AUS",
            "NZL",
            "NOR",
            "ISR"
           ],
           "legendgroup": "DM_Other",
           "marker": {
            "color": "#19d3f3",
            "size": [
             50,
             50,
             50,
             50,
             50,
             50
            ],
            "sizemode": "area",
            "sizeref": 0.16,
            "symbol": "circle"
           },
           "mode": "markers",
           "name": "DM_Other",
           "orientation": "v",
           "showlegend": true,
           "type": "scatter",
           "x": [
            42.85,
            6.213282,
            1.012231,
            1.014557,
            2.328085,
            12.01569
           ],
           "xaxis": "x",
           "y": [
            45.475,
            16.4125,
            6.465833,
            6.73,
            11.8325,
            11.87024
           ],
           "yaxis": "y"
          },
          {
           "hovertemplate": "<b>%{hovertext}</b><br><br>Region=DM_Europe<br>TIME=1992<br>Inflation Rate=%{x}<br>Nominal Interest Rate (3m T-Bill)=%{y}<br>size=%{marker.size}<extra></extra>",
           "hovertext": [
            "Spain",
            "Portugal",
            "Denmark",
            "Sweden",
            "Netherlands",
            "Finland",
            "Austria",
            "Belgium",
            "Switzerland",
            "Luxembourg"
           ],
           "ids": [
            "ESP",
            "PRT",
            "DNK",
            "SWE",
            "NLD",
            "FIN",
            "AUT",
            "BEL",
            "CHE",
            "LUX"
           ],
           "legendgroup": "DM_Europe",
           "marker": {
            "color": "#FF6692",
            "size": [
             50,
             50,
             50,
             50,
             50,
             50,
             50,
             50,
             50,
             50
            ],
            "sizemode": "area",
            "sizeref": 0.16,
            "symbol": "circle"
           },
           "mode": "markers",
           "name": "DM_Europe",
           "orientation": "v",
           "showlegend": true,
           "type": "scatter",
           "x": [
            5.924531,
            9.55926,
            2.096042,
            2.374367,
            3.183581,
            2.919323,
            4.020847,
            2.427956,
            -100,
            -100
           ],
           "xaxis": "x",
           "y": [
            13.342,
            16.70575,
            11.69776,
            12.85833,
            9.3525,
            13.25167,
            9.46,
            9.370833,
            -100,
            -100
           ],
           "yaxis": "y"
          }
         ],
         "layout": {
          "title": {
           "text": "1992 : Global growth slows due to restrictive monetary policy"
          }
         },
         "name": "1992"
        },
        {
         "data": [
          {
           "hovertemplate": "<b>%{hovertext}</b><br><br>Region=United States<br>TIME=1993<br>Inflation Rate=%{x}<br>Nominal Interest Rate (3m T-Bill)=%{y}<br>size=%{marker.size}<extra></extra>",
           "hovertext": [
            "United States"
           ],
           "ids": [
            "USA"
           ],
           "legendgroup": "United States",
           "marker": {
            "color": "#636efa",
            "size": [
             200
            ],
            "sizemode": "area",
            "sizeref": 0.16,
            "symbol": "circle"
           },
           "mode": "markers",
           "name": "United States",
           "orientation": "v",
           "showlegend": true,
           "type": "scatter",
           "x": [
            2.951657
           ],
           "xaxis": "x",
           "y": [
            3.174167
           ],
           "yaxis": "y"
          },
          {
           "hovertemplate": "<b>%{hovertext}</b><br><br>Region=South Africa<br>TIME=1993<br>Inflation Rate=%{x}<br>Nominal Interest Rate (3m T-Bill)=%{y}<br>size=%{marker.size}<extra></extra>",
           "hovertext": [
            "South Africa"
           ],
           "ids": [
            "ZAF"
           ],
           "legendgroup": "South Africa",
           "marker": {
            "color": "#EF553B",
            "size": [
             400
            ],
            "sizemode": "area",
            "sizeref": 0.16,
            "symbol": "circle"
           },
           "mode": "markers",
           "name": "South Africa",
           "orientation": "v",
           "showlegend": true,
           "type": "scatter",
           "x": [
            9.717446
           ],
           "xaxis": "x",
           "y": [
            11.32278
           ],
           "yaxis": "y"
          },
          {
           "hovertemplate": "<b>%{hovertext}</b><br><br>Region=G7_ex US<br>TIME=1993<br>Inflation Rate=%{x}<br>Nominal Interest Rate (3m T-Bill)=%{y}<br>size=%{marker.size}<extra></extra>",
           "hovertext": [
            "United Kingdom",
            "Germany",
            "Canada",
            "France",
            "Italy",
            "Japan"
           ],
           "ids": [
            "GBR",
            "DEU",
            "CAN",
            "FRA",
            "ITA",
            "JPN"
           ],
           "legendgroup": "G7_ex US",
           "marker": {
            "color": "#00cc96",
            "size": [
             50,
             50,
             50,
             50,
             50,
             50
            ],
            "sizemode": "area",
            "sizeref": 0.16,
            "symbol": "circle"
           },
           "mode": "markers",
           "name": "G7_ex US",
           "orientation": "v",
           "showlegend": true,
           "type": "scatter",
           "x": [
            2.6,
            4.474576,
            1.865079,
            2.104463,
            4.626732,
            -100
           ],
           "xaxis": "x",
           "y": [
            5.995641,
            7.295,
            5.102958,
            8.586859,
            10.19917,
            -100
           ],
           "yaxis": "y"
          },
          {
           "hovertemplate": "<b>%{hovertext}</b><br><br>Region=EM_Peer<br>TIME=1993<br>Inflation Rate=%{x}<br>Nominal Interest Rate (3m T-Bill)=%{y}<br>size=%{marker.size}<extra></extra>",
           "hovertext": [
            "Hungary",
            "Colombia",
            "Chile",
            "Indonesia",
            "India",
            "Mexico"
           ],
           "ids": [
            "HUN",
            "COL",
            "CHL",
            "IDN",
            "IND",
            "MEX"
           ],
           "legendgroup": "EM_Peer",
           "marker": {
            "color": "#ab63fa",
            "size": [
             100,
             100,
             100,
             100,
             100,
             100
            ],
            "sizemode": "area",
            "sizeref": 0.16,
            "symbol": "circle"
           },
           "mode": "markers",
           "name": "EM_Peer",
           "orientation": "v",
           "showlegend": true,
           "type": "scatter",
           "x": [
            22.46424,
            22.44248,
            -100,
            -100,
            -100,
            -100
           ],
           "xaxis": "x",
           "y": [
            17.21667,
            25.8325,
            -100,
            -100,
            -100,
            -100
           ],
           "yaxis": "y"
          },
          {
           "hovertemplate": "<b>%{hovertext}</b><br><br>Region=EM_Other<br>TIME=1993<br>Inflation Rate=%{x}<br>Nominal Interest Rate (3m T-Bill)=%{y}<br>size=%{marker.size}<extra></extra>",
           "hovertext": [
            "Iceland",
            "Ireland",
            "Czech Republic",
            "China",
            "Costa Rica",
            "Estonia",
            "Greece",
            "Lithuania",
            "Latvia",
            "Russia",
            "Slovak Republic",
            "Slovenia"
           ],
           "ids": [
            "ISL",
            "IRL",
            "CZE",
            "CHN",
            "CRI",
            "EST",
            "GRC",
            "LTU",
            "LVA",
            "RUS",
            "SVK",
            "SVN"
           ],
           "legendgroup": "EM_Other",
           "marker": {
            "color": "#FFA15A",
            "size": [
             50,
             50,
             50,
             50,
             50,
             50,
             50,
             50,
             50,
             50,
             50,
             50
            ],
            "sizemode": "area",
            "sizeref": 0.16,
            "symbol": "circle"
           },
           "mode": "markers",
           "name": "EM_Other",
           "orientation": "v",
           "showlegend": true,
           "type": "scatter",
           "x": [
            4.04285,
            1.46942,
            20.81303,
            -100,
            -100,
            -100,
            -100,
            -100,
            -100,
            -100,
            -100,
            -100
           ],
           "xaxis": "x",
           "y": [
            8.783334,
            9.119166,
            13.15,
            -100,
            -100,
            -100,
            -100,
            -100,
            -100,
            -100,
            -100,
            -100
           ],
           "yaxis": "y"
          },
          {
           "hovertemplate": "<b>%{hovertext}</b><br><br>Region=DM_Other<br>TIME=1993<br>Inflation Rate=%{x}<br>Nominal Interest Rate (3m T-Bill)=%{y}<br>size=%{marker.size}<extra></extra>",
           "hovertext": [
            "South Korea",
            "Norway",
            "Israel",
            "New Zealand",
            "Poland",
            "Australia"
           ],
           "ids": [
            "KOR",
            "NOR",
            "ISR",
            "NZL",
            "POL",
            "AUS"
           ],
           "legendgroup": "DM_Other",
           "marker": {
            "color": "#19d3f3",
            "size": [
             50,
             50,
             50,
             50,
             50,
             50
            ],
            "sizemode": "area",
            "sizeref": 0.16,
            "symbol": "circle"
           },
           "mode": "markers",
           "name": "DM_Other",
           "orientation": "v",
           "showlegend": true,
           "type": "scatter",
           "x": [
            4.800997,
            2.288269,
            10.92382,
            1.28821,
            35.475,
            1.753653
           ],
           "xaxis": "x",
           "y": [
            12.96167,
            7.265,
            11.09246,
            6.33,
            34.875,
            5.151667
           ],
           "yaxis": "y"
          },
          {
           "hovertemplate": "<b>%{hovertext}</b><br><br>Region=DM_Europe<br>TIME=1993<br>Inflation Rate=%{x}<br>Nominal Interest Rate (3m T-Bill)=%{y}<br>size=%{marker.size}<extra></extra>",
           "hovertext": [
            "Sweden",
            "Finland",
            "Netherlands",
            "Austria",
            "Spain",
            "Denmark",
            "Belgium",
            "Portugal",
            "Switzerland",
            "Luxembourg"
           ],
           "ids": [
            "SWE",
            "FIN",
            "NLD",
            "AUT",
            "ESP",
            "DNK",
            "BEL",
            "PRT",
            "CHE",
            "LUX"
           ],
           "legendgroup": "DM_Europe",
           "marker": {
            "color": "#FF6692",
            "size": [
             50,
             50,
             50,
             50,
             50,
             50,
             50,
             50,
             50,
             50
            ],
            "sizemode": "area",
            "sizeref": 0.16,
            "symbol": "circle"
           },
           "mode": "markers",
           "name": "DM_Europe",
           "orientation": "v",
           "showlegend": true,
           "type": "scatter",
           "x": [
            4.728173,
            2.190654,
            2.584182,
            3.631786,
            4.569072,
            1.257862,
            2.754426,
            6.78378,
            -100,
            -100
           ],
           "xaxis": "x",
           "y": [
            8.351666,
            7.773334,
            6.854167,
            7.023334,
            11.68808,
            10.86824,
            8.224167,
            13.24508,
            -100,
            -100
           ],
           "yaxis": "y"
          }
         ],
         "layout": {
          "title": {
           "text": "1993 : Oil Prices slump, driving global inflation down "
          }
         },
         "name": "1993"
        },
        {
         "data": [
          {
           "hovertemplate": "<b>%{hovertext}</b><br><br>Region=United States<br>TIME=1994<br>Inflation Rate=%{x}<br>Nominal Interest Rate (3m T-Bill)=%{y}<br>size=%{marker.size}<extra></extra>",
           "hovertext": [
            "United States"
           ],
           "ids": [
            "USA"
           ],
           "legendgroup": "United States",
           "marker": {
            "color": "#636efa",
            "size": [
             200
            ],
            "sizemode": "area",
            "sizeref": 0.16,
            "symbol": "circle"
           },
           "mode": "markers",
           "name": "United States",
           "orientation": "v",
           "showlegend": true,
           "type": "scatter",
           "x": [
            2.607442
           ],
           "xaxis": "x",
           "y": [
            4.629167
           ],
           "yaxis": "y"
          },
          {
           "hovertemplate": "<b>%{hovertext}</b><br><br>Region=South Africa<br>TIME=1994<br>Inflation Rate=%{x}<br>Nominal Interest Rate (3m T-Bill)=%{y}<br>size=%{marker.size}<extra></extra>",
           "hovertext": [
            "South Africa"
           ],
           "ids": [
            "ZAF"
           ],
           "legendgroup": "South Africa",
           "marker": {
            "color": "#EF553B",
            "size": [
             400
            ],
            "sizemode": "area",
            "sizeref": 0.16,
            "symbol": "circle"
           },
           "mode": "markers",
           "name": "South Africa",
           "orientation": "v",
           "showlegend": true,
           "type": "scatter",
           "x": [
            8.938547
           ],
           "xaxis": "x",
           "y": [
            10.92272
           ],
           "yaxis": "y"
          },
          {
           "hovertemplate": "<b>%{hovertext}</b><br><br>Region=G7_ex US<br>TIME=1994<br>Inflation Rate=%{x}<br>Nominal Interest Rate (3m T-Bill)=%{y}<br>size=%{marker.size}<extra></extra>",
           "hovertext": [
            "Canada",
            "France",
            "Italy",
            "United Kingdom",
            "Germany",
            "Japan"
           ],
           "ids": [
            "CAN",
            "FRA",
            "ITA",
            "GBR",
            "DEU",
            "JPN"
           ],
           "legendgroup": "G7_ex US",
           "marker": {
            "color": "#00cc96",
            "size": [
             50,
             50,
             50,
             50,
             50,
             50
            ],
            "sizemode": "area",
            "sizeref": 0.16,
            "symbol": "circle"
           },
           "mode": "markers",
           "name": "G7_ex US",
           "orientation": "v",
           "showlegend": true,
           "type": "scatter",
           "x": [
            0.1655629,
            1.655515,
            4.051841,
            2.2,
            2.693056,
            -100
           ],
           "xaxis": "x",
           "y": [
            5.487709,
            5.846675,
            8.5075,
            5.564841,
            5.364167,
            -100
           ],
           "yaxis": "y"
          },
          {
           "hovertemplate": "<b>%{hovertext}</b><br><br>Region=EM_Peer<br>TIME=1994<br>Inflation Rate=%{x}<br>Nominal Interest Rate (3m T-Bill)=%{y}<br>size=%{marker.size}<extra></extra>",
           "hovertext": [
            "Colombia",
            "Hungary",
            "Chile",
            "Indonesia",
            "India",
            "Mexico"
           ],
           "ids": [
            "COL",
            "HUN",
            "CHL",
            "IDN",
            "IND",
            "MEX"
           ],
           "legendgroup": "EM_Peer",
           "marker": {
            "color": "#ab63fa",
            "size": [
             100,
             100,
             100,
             100,
             100,
             100
            ],
            "sizemode": "area",
            "sizeref": 0.16,
            "symbol": "circle"
           },
           "mode": "markers",
           "name": "EM_Peer",
           "orientation": "v",
           "showlegend": true,
           "type": "scatter",
           "x": [
            22.84624,
            18.86808,
            -100,
            -100,
            -100,
            -100
           ],
           "xaxis": "x",
           "y": [
            29.41583,
            26.93333,
            -100,
            -100,
            -100,
            -100
           ],
           "yaxis": "y"
          },
          {
           "hovertemplate": "<b>%{hovertext}</b><br><br>Region=EM_Other<br>TIME=1994<br>Inflation Rate=%{x}<br>Nominal Interest Rate (3m T-Bill)=%{y}<br>size=%{marker.size}<extra></extra>",
           "hovertext": [
            "Ireland",
            "Czech Republic",
            "Iceland",
            "China",
            "Costa Rica",
            "Estonia",
            "Greece",
            "Lithuania",
            "Latvia",
            "Russia",
            "Slovak Republic",
            "Slovenia"
           ],
           "ids": [
            "IRL",
            "CZE",
            "ISL",
            "CHN",
            "CRI",
            "EST",
            "GRC",
            "LTU",
            "LVA",
            "RUS",
            "SVK",
            "SVN"
           ],
           "legendgroup": "EM_Other",
           "marker": {
            "color": "#FFA15A",
            "size": [
             50,
             50,
             50,
             50,
             50,
             50,
             50,
             50,
             50,
             50,
             50,
             50
            ],
            "sizemode": "area",
            "sizeref": 0.16,
            "symbol": "circle"
           },
           "mode": "markers",
           "name": "EM_Other",
           "orientation": "v",
           "showlegend": true,
           "type": "scatter",
           "x": [
            2.309198,
            10.03942,
            1.552657,
            -100,
            -100,
            -100,
            -100,
            -100,
            -100,
            -100,
            -100,
            -100
           ],
           "xaxis": "x",
           "y": [
            5.93,
            9.1075,
            4.891667,
            -100,
            -100,
            -100,
            -100,
            -100,
            -100,
            -100,
            -100,
            -100
           ],
           "yaxis": "y"
          },
          {
           "hovertemplate": "<b>%{hovertext}</b><br><br>Region=DM_Other<br>TIME=1994<br>Inflation Rate=%{x}<br>Nominal Interest Rate (3m T-Bill)=%{y}<br>size=%{marker.size}<extra></extra>",
           "hovertext": [
            "New Zealand",
            "South Korea",
            "Norway",
            "Israel",
            "Australia",
            "Poland"
           ],
           "ids": [
            "NZL",
            "KOR",
            "NOR",
            "ISR",
            "AUS",
            "POL"
           ],
           "legendgroup": "DM_Other",
           "marker": {
            "color": "#19d3f3",
            "size": [
             50,
             50,
             50,
             50,
             50,
             50
            ],
            "sizemode": "area",
            "sizeref": 0.16,
            "symbol": "circle"
           },
           "mode": "markers",
           "name": "DM_Other",
           "orientation": "v",
           "showlegend": true,
           "type": "scatter",
           "x": [
            1.745376,
            6.26586,
            1.375675,
            12.27551,
            1.969635,
            32.19167
           ],
           "xaxis": "x",
           "y": [
            6.735,
            13.2875,
            5.850833,
            12.80345,
            5.656667,
            31.75667
           ],
           "yaxis": "y"
          },
          {
           "hovertemplate": "<b>%{hovertext}</b><br><br>Region=DM_Europe<br>TIME=1994<br>Inflation Rate=%{x}<br>Nominal Interest Rate (3m T-Bill)=%{y}<br>size=%{marker.size}<extra></extra>",
           "hovertext": [
            "Finland",
            "Netherlands",
            "Portugal",
            "Austria",
            "Spain",
            "Belgium",
            "Sweden",
            "Denmark",
            "Switzerland",
            "Luxembourg"
           ],
           "ids": [
            "FIN",
            "NLD",
            "PRT",
            "AUT",
            "ESP",
            "BEL",
            "SWE",
            "DNK",
            "CHE",
            "LUX"
           ],
           "legendgroup": "DM_Europe",
           "marker": {
            "color": "#FF6692",
            "size": [
             50,
             50,
             50,
             50,
             50,
             50,
             50,
             50,
             50,
             50
            ],
            "sizemode": "area",
            "sizeref": 0.16,
            "symbol": "circle"
           },
           "mode": "markers",
           "name": "DM_Europe",
           "orientation": "v",
           "showlegend": true,
           "type": "scatter",
           "x": [
            1.088558,
            2.801527,
            5.42044,
            2.953407,
            4.718413,
            2.377545,
            2.158138,
            1.992014,
            -100,
            -100
           ],
           "xaxis": "x",
           "y": [
            5.35,
            5.176667,
            11.10667,
            5.1175,
            8.0085,
            5.695,
            7.400833,
            6.302278,
            -100,
            -100
           ],
           "yaxis": "y"
          }
         ],
         "layout": {
          "title": {
           "text": "1994 : This leads to a broad decline in short-term interest rates"
          }
         },
         "name": "1994"
        },
        {
         "data": [
          {
           "hovertemplate": "<b>%{hovertext}</b><br><br>Region=United States<br>TIME=1995<br>Inflation Rate=%{x}<br>Nominal Interest Rate (3m T-Bill)=%{y}<br>size=%{marker.size}<extra></extra>",
           "hovertext": [
            "United States"
           ],
           "ids": [
            "USA"
           ],
           "legendgroup": "United States",
           "marker": {
            "color": "#636efa",
            "size": [
             200
            ],
            "sizemode": "area",
            "sizeref": 0.16,
            "symbol": "circle"
           },
           "mode": "markers",
           "name": "United States",
           "orientation": "v",
           "showlegend": true,
           "type": "scatter",
           "x": [
            2.80542
           ],
           "xaxis": "x",
           "y": [
            5.916667
           ],
           "yaxis": "y"
          },
          {
           "hovertemplate": "<b>%{hovertext}</b><br><br>Region=South Africa<br>TIME=1995<br>Inflation Rate=%{x}<br>Nominal Interest Rate (3m T-Bill)=%{y}<br>size=%{marker.size}<extra></extra>",
           "hovertext": [
            "South Africa"
           ],
           "ids": [
            "ZAF"
           ],
           "legendgroup": "South Africa",
           "marker": {
            "color": "#EF553B",
            "size": [
             400
            ],
            "sizemode": "area",
            "sizeref": 0.16,
            "symbol": "circle"
           },
           "mode": "markers",
           "name": "South Africa",
           "orientation": "v",
           "showlegend": true,
           "type": "scatter",
           "x": [
            8.680426
           ],
           "xaxis": "x",
           "y": [
            13.52714
           ],
           "yaxis": "y"
          },
          {
           "hovertemplate": "<b>%{hovertext}</b><br><br>Region=G7_ex US<br>TIME=1995<br>Inflation Rate=%{x}<br>Nominal Interest Rate (3m T-Bill)=%{y}<br>size=%{marker.size}<extra></extra>",
           "hovertext": [
            "France",
            "Italy",
            "Canada",
            "United Kingdom",
            "Germany",
            "Japan"
           ],
           "ids": [
            "FRA",
            "ITA",
            "CAN",
            "GBR",
            "DEU",
            "JPN"
           ],
           "legendgroup": "G7_ex US",
           "marker": {
            "color": "#00cc96",
            "size": [
             50,
             50,
             50,
             50,
             50,
             50
            ],
            "sizemode": "area",
            "sizeref": 0.16,
            "symbol": "circle"
           },
           "mode": "markers",
           "name": "G7_ex US",
           "orientation": "v",
           "showlegend": true,
           "type": "scatter",
           "x": [
            1.796481,
            5.235423,
            2.14876,
            2.7,
            1.706161,
            -100
           ],
           "xaxis": "x",
           "y": [
            6.578183,
            10.45667,
            7.130799,
            6.752587,
            4.531667,
            -100
           ],
           "yaxis": "y"
          },
          {
           "hovertemplate": "<b>%{hovertext}</b><br><br>Region=EM_Peer<br>TIME=1995<br>Inflation Rate=%{x}<br>Nominal Interest Rate (3m T-Bill)=%{y}<br>size=%{marker.size}<extra></extra>",
           "hovertext": [
            "Hungary",
            "Colombia",
            "Chile",
            "Indonesia",
            "India",
            "Mexico"
           ],
           "ids": [
            "HUN",
            "COL",
            "CHL",
            "IDN",
            "IND",
            "MEX"
           ],
           "legendgroup": "EM_Peer",
           "marker": {
            "color": "#ab63fa",
            "size": [
             100,
             100,
             100,
             100,
             100,
             100
            ],
            "sizemode": "area",
            "sizeref": 0.16,
            "symbol": "circle"
           },
           "mode": "markers",
           "name": "EM_Peer",
           "orientation": "v",
           "showlegend": true,
           "type": "scatter",
           "x": [
            28.30546,
            20.8918,
            -100,
            -100,
            -100,
            -100
           ],
           "xaxis": "x",
           "y": [
            32.04167,
            32.33833,
            -100,
            -100,
            -100,
            -100
           ],
           "yaxis": "y"
          },
          {
           "hovertemplate": "<b>%{hovertext}</b><br><br>Region=EM_Other<br>TIME=1995<br>Inflation Rate=%{x}<br>Nominal Interest Rate (3m T-Bill)=%{y}<br>size=%{marker.size}<extra></extra>",
           "hovertext": [
            "Czech Republic",
            "Iceland",
            "Greece",
            "Ireland",
            "China",
            "Costa Rica",
            "Estonia",
            "Lithuania",
            "Latvia",
            "Russia",
            "Slovak Republic",
            "Slovenia"
           ],
           "ids": [
            "CZE",
            "ISL",
            "GRC",
            "IRL",
            "CHN",
            "CRI",
            "EST",
            "LTU",
            "LVA",
            "RUS",
            "SVK",
            "SVN"
           ],
           "legendgroup": "EM_Other",
           "marker": {
            "color": "#FFA15A",
            "size": [
             50,
             50,
             50,
             50,
             50,
             50,
             50,
             50,
             50,
             50,
             50,
             50
            ],
            "sizemode": "area",
            "sizeref": 0.16,
            "symbol": "circle"
           },
           "mode": "markers",
           "name": "EM_Other",
           "orientation": "v",
           "showlegend": true,
           "type": "scatter",
           "x": [
            8.990531,
            1.651232,
            8.934514,
            2.524866,
            -100,
            -100,
            -100,
            -100,
            -100,
            -100,
            -100,
            -100
           ],
           "xaxis": "x",
           "y": [
            10.94583,
            7.004167,
            16.40415,
            6.2475,
            -100,
            -100,
            -100,
            -100,
            -100,
            -100,
            -100,
            -100
           ],
           "yaxis": "y"
          },
          {
           "hovertemplate": "<b>%{hovertext}</b><br><br>Region=DM_Other<br>TIME=1995<br>Inflation Rate=%{x}<br>Nominal Interest Rate (3m T-Bill)=%{y}<br>size=%{marker.size}<extra></extra>",
           "hovertext": [
            "Norway",
            "Poland",
            "Israel",
            "Australia",
            "New Zealand",
            "South Korea"
           ],
           "ids": [
            "NOR",
            "POL",
            "ISR",
            "AUS",
            "NZL",
            "KOR"
           ],
           "legendgroup": "DM_Other",
           "marker": {
            "color": "#19d3f3",
            "size": [
             50,
             50,
             50,
             50,
             50,
             50
            ],
            "sizemode": "area",
            "sizeref": 0.16,
            "symbol": "circle"
           },
           "mode": "markers",
           "name": "DM_Other",
           "orientation": "v",
           "showlegend": true,
           "type": "scatter",
           "x": [
            2.460368,
            28.125,
            9.931447,
            4.627767,
            3.754941,
            4.480741
           ],
           "xaxis": "x",
           "y": [
            5.478333,
            27.69,
            14.70411,
            7.725833,
            9.008333,
            14.05417
           ],
           "yaxis": "y"
          },
          {
           "hovertemplate": "<b>%{hovertext}</b><br><br>Region=DM_Europe<br>TIME=1995<br>Inflation Rate=%{x}<br>Nominal Interest Rate (3m T-Bill)=%{y}<br>size=%{marker.size}<extra></extra>",
           "hovertext": [
            "Netherlands",
            "Spain",
            "Austria",
            "Belgium",
            "Portugal",
            "Sweden",
            "Finland",
            "Denmark",
            "Switzerland",
            "Luxembourg"
           ],
           "ids": [
            "NLD",
            "ESP",
            "AUT",
            "BEL",
            "PRT",
            "SWE",
            "FIN",
            "DNK",
            "CHE",
            "LUX"
           ],
           "legendgroup": "DM_Europe",
           "marker": {
            "color": "#FF6692",
            "size": [
             50,
             50,
             50,
             50,
             50,
             50,
             50,
             50,
             50,
             50
            ],
            "sizemode": "area",
            "sizeref": 0.16,
            "symbol": "circle"
           },
           "mode": "markers",
           "name": "DM_Europe",
           "orientation": "v",
           "showlegend": true,
           "type": "scatter",
           "x": [
            1.92322,
            4.673804,
            2.243364,
            1.467961,
            4.222816,
            2.455149,
            0.7912362,
            2.083605,
            -100,
            -100
           ],
           "xaxis": "x",
           "y": [
            4.3725,
            9.355166,
            4.568333,
            4.783333,
            9.786667,
            8.745833,
            5.75,
            6.202783,
            -100,
            -100
           ],
           "yaxis": "y"
          }
         ],
         "layout": {
          "title": {
           "text": "1995 : The start of the Information Age faciliates a global economic rebound"
          }
         },
         "name": "1995"
        },
        {
         "data": [
          {
           "hovertemplate": "<b>%{hovertext}</b><br><br>Region=United States<br>TIME=1996<br>Inflation Rate=%{x}<br>Nominal Interest Rate (3m T-Bill)=%{y}<br>size=%{marker.size}<extra></extra>",
           "hovertext": [
            "United States"
           ],
           "ids": [
            "USA"
           ],
           "legendgroup": "United States",
           "marker": {
            "color": "#636efa",
            "size": [
             200
            ],
            "sizemode": "area",
            "sizeref": 0.16,
            "symbol": "circle"
           },
           "mode": "markers",
           "name": "United States",
           "orientation": "v",
           "showlegend": true,
           "type": "scatter",
           "x": [
            2.931204
           ],
           "xaxis": "x",
           "y": [
            5.39
           ],
           "yaxis": "y"
          },
          {
           "hovertemplate": "<b>%{hovertext}</b><br><br>Region=South Africa<br>TIME=1996<br>Inflation Rate=%{x}<br>Nominal Interest Rate (3m T-Bill)=%{y}<br>size=%{marker.size}<extra></extra>",
           "hovertext": [
            "South Africa"
           ],
           "ids": [
            "ZAF"
           ],
           "legendgroup": "South Africa",
           "marker": {
            "color": "#EF553B",
            "size": [
             400
            ],
            "sizemode": "area",
            "sizeref": 0.16,
            "symbol": "circle"
           },
           "mode": "markers",
           "name": "South Africa",
           "orientation": "v",
           "showlegend": true,
           "type": "scatter",
           "x": [
            7.354126
           ],
           "xaxis": "x",
           "y": [
            15.03607
           ],
           "yaxis": "y"
          },
          {
           "hovertemplate": "<b>%{hovertext}</b><br><br>Region=G7_ex US<br>TIME=1996<br>Inflation Rate=%{x}<br>Nominal Interest Rate (3m T-Bill)=%{y}<br>size=%{marker.size}<extra></extra>",
           "hovertext": [
            "Italy",
            "Canada",
            "Germany",
            "France",
            "United Kingdom",
            "Japan"
           ],
           "ids": [
            "ITA",
            "CAN",
            "DEU",
            "FRA",
            "GBR",
            "JPN"
           ],
           "legendgroup": "G7_ex US",
           "marker": {
            "color": "#00cc96",
            "size": [
             50,
             50,
             50,
             50,
             50,
             50
            ],
            "sizemode": "area",
            "sizeref": 0.16,
            "symbol": "circle"
           },
           "mode": "markers",
           "name": "G7_ex US",
           "orientation": "v",
           "showlegend": true,
           "type": "scatter",
           "x": [
            4.00698,
            1.570531,
            1.449726,
            1.982884,
            2.9,
            -100
           ],
           "xaxis": "x",
           "y": [
            8.82,
            4.449064,
            3.305,
            3.935625,
            6.110596,
            -100
           ],
           "yaxis": "y"
          },
          {
           "hovertemplate": "<b>%{hovertext}</b><br><br>Region=EM_Peer<br>TIME=1996<br>Inflation Rate=%{x}<br>Nominal Interest Rate (3m T-Bill)=%{y}<br>size=%{marker.size}<extra></extra>",
           "hovertext": [
            "Hungary",
            "Colombia",
            "Chile",
            "Indonesia",
            "India",
            "Mexico"
           ],
           "ids": [
            "HUN",
            "COL",
            "CHL",
            "IDN",
            "IND",
            "MEX"
           ],
           "legendgroup": "EM_Peer",
           "marker": {
            "color": "#ab63fa",
            "size": [
             100,
             100,
             100,
             100,
             100,
             100
            ],
            "sizemode": "area",
            "sizeref": 0.16,
            "symbol": "circle"
           },
           "mode": "markers",
           "name": "EM_Peer",
           "orientation": "v",
           "showlegend": true,
           "type": "scatter",
           "x": [
            23.46903,
            20.79756,
            -100,
            -100,
            -100,
            -100
           ],
           "xaxis": "x",
           "y": [
            23.95833,
            31.13833,
            -100,
            -100,
            -100,
            -100
           ],
           "yaxis": "y"
          },
          {
           "hovertemplate": "<b>%{hovertext}</b><br><br>Region=EM_Other<br>TIME=1996<br>Inflation Rate=%{x}<br>Nominal Interest Rate (3m T-Bill)=%{y}<br>size=%{marker.size}<extra></extra>",
           "hovertext": [
            "Czech Republic",
            "Greece",
            "Ireland",
            "Slovak Republic",
            "Iceland",
            "China",
            "Costa Rica",
            "Estonia",
            "Lithuania",
            "Latvia",
            "Russia",
            "Slovenia"
           ],
           "ids": [
            "CZE",
            "GRC",
            "IRL",
            "SVK",
            "ISL",
            "CHN",
            "CRI",
            "EST",
            "LTU",
            "LVA",
            "RUS",
            "SVN"
           ],
           "legendgroup": "EM_Other",
           "marker": {
            "color": "#FFA15A",
            "size": [
             50,
             50,
             50,
             50,
             50,
             50,
             50,
             50,
             50,
             50,
             50,
             50
            ],
            "sizemode": "area",
            "sizeref": 0.16,
            "symbol": "circle"
           },
           "mode": "markers",
           "name": "EM_Other",
           "orientation": "v",
           "showlegend": true,
           "type": "scatter",
           "x": [
            8.758775,
            8.194549,
            1.753731,
            5.775833,
            2.260421,
            -100,
            -100,
            -100,
            -100,
            -100,
            -100,
            -100
           ],
           "xaxis": "x",
           "y": [
            12.015,
            13.78157,
            5.418334,
            11.515,
            6.991667,
            -100,
            -100,
            -100,
            -100,
            -100,
            -100,
            -100
           ],
           "yaxis": "y"
          },
          {
           "hovertemplate": "<b>%{hovertext}</b><br><br>Region=DM_Other<br>TIME=1996<br>Inflation Rate=%{x}<br>Nominal Interest Rate (3m T-Bill)=%{y}<br>size=%{marker.size}<extra></extra>",
           "hovertext": [
            "Poland",
            "Australia",
            "South Korea",
            "New Zealand",
            "Norway",
            "Israel"
           ],
           "ids": [
            "POL",
            "AUS",
            "KOR",
            "NZL",
            "NOR",
            "ISR"
           ],
           "legendgroup": "DM_Other",
           "marker": {
            "color": "#19d3f3",
            "size": [
             50,
             50,
             50,
             50,
             50,
             50
            ],
            "sizemode": "area",
            "sizeref": 0.16,
            "symbol": "circle"
           },
           "mode": "markers",
           "name": "DM_Other",
           "orientation": "v",
           "showlegend": true,
           "type": "scatter",
           "x": [
            19.90833,
            2.615385,
            4.924543,
            2.285714,
            1.262532,
            11.41669
           ],
           "xaxis": "x",
           "y": [
            21.33333,
            7.151667,
            12.63417,
            9.300834,
            4.893333,
            15.66679
           ],
           "yaxis": "y"
          },
          {
           "hovertemplate": "<b>%{hovertext}</b><br><br>Region=DM_Europe<br>TIME=1996<br>Inflation Rate=%{x}<br>Nominal Interest Rate (3m T-Bill)=%{y}<br>size=%{marker.size}<extra></extra>",
           "hovertext": [
            "Portugal",
            "Belgium",
            "Austria",
            "Spain",
            "Denmark",
            "Sweden",
            "Netherlands",
            "Finland",
            "Switzerland",
            "Luxembourg"
           ],
           "ids": [
            "PRT",
            "BEL",
            "AUT",
            "ESP",
            "DNK",
            "SWE",
            "NLD",
            "FIN",
            "CHE",
            "LUX"
           ],
           "legendgroup": "DM_Europe",
           "marker": {
            "color": "#FF6692",
            "size": [
             50,
             50,
             50,
             50,
             50,
             50,
             50,
             50,
             50,
             50
            ],
            "sizemode": "area",
            "sizeref": 0.16,
            "symbol": "circle"
           },
           "mode": "markers",
           "name": "DM_Europe",
           "orientation": "v",
           "showlegend": true,
           "type": "scatter",
           "x": [
            3.068977,
            2.077025,
            1.860974,
            3.558843,
            2.1263,
            0.533132,
            1.949368,
            0.6291981,
            -100,
            -100
           ],
           "xaxis": "x",
           "y": [
            7.366667,
            3.216667,
            3.373333,
            7.495,
            3.983449,
            5.79,
            2.9975,
            3.625,
            -100,
            -100
           ],
           "yaxis": "y"
          }
         ],
         "layout": {
          "title": {
           "text": "1996 : SARB increases rates to safeguard currency as power politics wreak havoc"
          }
         },
         "name": "1996"
        },
        {
         "data": [
          {
           "hovertemplate": "<b>%{hovertext}</b><br><br>Region=United States<br>TIME=1997<br>Inflation Rate=%{x}<br>Nominal Interest Rate (3m T-Bill)=%{y}<br>size=%{marker.size}<extra></extra>",
           "hovertext": [
            "United States"
           ],
           "ids": [
            "USA"
           ],
           "legendgroup": "United States",
           "marker": {
            "color": "#636efa",
            "size": [
             200
            ],
            "sizemode": "area",
            "sizeref": 0.16,
            "symbol": "circle"
           },
           "mode": "markers",
           "name": "United States",
           "orientation": "v",
           "showlegend": true,
           "type": "scatter",
           "x": [
            2.33769
           ],
           "xaxis": "x",
           "y": [
            5.615833
           ],
           "yaxis": "y"
          },
          {
           "hovertemplate": "<b>%{hovertext}</b><br><br>Region=South Africa<br>TIME=1997<br>Inflation Rate=%{x}<br>Nominal Interest Rate (3m T-Bill)=%{y}<br>size=%{marker.size}<extra></extra>",
           "hovertext": [
            "South Africa"
           ],
           "ids": [
            "ZAF"
           ],
           "legendgroup": "South Africa",
           "marker": {
            "color": "#EF553B",
            "size": [
             400
            ],
            "sizemode": "area",
            "sizeref": 0.16,
            "symbol": "circle"
           },
           "mode": "markers",
           "name": "South Africa",
           "orientation": "v",
           "showlegend": true,
           "type": "scatter",
           "x": [
            8.59777
           ],
           "xaxis": "x",
           "y": [
            15.25681
           ],
           "yaxis": "y"
          },
          {
           "hovertemplate": "<b>%{hovertext}</b><br><br>Region=G7_ex US<br>TIME=1997<br>Inflation Rate=%{x}<br>Nominal Interest Rate (3m T-Bill)=%{y}<br>size=%{marker.size}<extra></extra>",
           "hovertext": [
            "Canada",
            "United Kingdom",
            "Italy",
            "Germany",
            "France",
            "Japan"
           ],
           "ids": [
            "CAN",
            "GBR",
            "ITA",
            "DEU",
            "FRA",
            "JPN"
           ],
           "legendgroup": "G7_ex US",
           "marker": {
            "color": "#00cc96",
            "size": [
             50,
             50,
             50,
             50,
             50,
             50
            ],
            "sizemode": "area",
            "sizeref": 0.16,
            "symbol": "circle"
           },
           "mode": "markers",
           "name": "G7_ex US",
           "orientation": "v",
           "showlegend": true,
           "type": "scatter",
           "x": [
            1.621216,
            2.2,
            2.043106,
            1.939369,
            1.203943,
            -100
           ],
           "xaxis": "x",
           "y": [
            3.557645,
            6.911723,
            6.875834,
            3.325,
            3.462833,
            -100
           ],
           "yaxis": "y"
          },
          {
           "hovertemplate": "<b>%{hovertext}</b><br><br>Region=EM_Peer<br>TIME=1997<br>Inflation Rate=%{x}<br>Nominal Interest Rate (3m T-Bill)=%{y}<br>size=%{marker.size}<extra></extra>",
           "hovertext": [
            "Hungary",
            "Mexico",
            "Colombia",
            "Chile",
            "Indonesia",
            "India"
           ],
           "ids": [
            "HUN",
            "MEX",
            "COL",
            "CHL",
            "IDN",
            "IND"
           ],
           "legendgroup": "EM_Peer",
           "marker": {
            "color": "#ab63fa",
            "size": [
             100,
             100,
             100,
             100,
             100,
             100
            ],
            "sizemode": "area",
            "sizeref": 0.16,
            "symbol": "circle"
           },
           "mode": "markers",
           "name": "EM_Peer",
           "orientation": "v",
           "showlegend": true,
           "type": "scatter",
           "x": [
            18.30508,
            20.62563,
            18.47003,
            -100,
            -100,
            -100
           ],
           "xaxis": "x",
           "y": [
            20.13333,
            22.29417,
            24.12833,
            -100,
            -100,
            -100
           ],
           "yaxis": "y"
          },
          {
           "hovertemplate": "<b>%{hovertext}</b><br><br>Region=EM_Other<br>TIME=1997<br>Inflation Rate=%{x}<br>Nominal Interest Rate (3m T-Bill)=%{y}<br>size=%{marker.size}<extra></extra>",
           "hovertext": [
            "Greece",
            "Czech Republic",
            "Ireland",
            "Russia",
            "Iceland",
            "China",
            "Costa Rica",
            "Estonia",
            "Lithuania",
            "Latvia",
            "Slovak Republic",
            "Slovenia"
           ],
           "ids": [
            "GRC",
            "CZE",
            "IRL",
            "RUS",
            "ISL",
            "CHN",
            "CRI",
            "EST",
            "LTU",
            "LVA",
            "SVK",
            "SVN"
           ],
           "legendgroup": "EM_Other",
           "marker": {
            "color": "#FFA15A",
            "size": [
             50,
             50,
             50,
             50,
             50,
             50,
             50,
             50,
             50,
             50,
             50,
             50
            ],
            "sizemode": "area",
            "sizeref": 0.16,
            "symbol": "circle"
           },
           "mode": "markers",
           "name": "EM_Other",
           "orientation": "v",
           "showlegend": true,
           "type": "scatter",
           "x": [
            5.536003,
            8.596157,
            1.525605,
            14.76132,
            1.815431,
            -100,
            -100,
            -100,
            -100,
            -100,
            -100,
            -100
           ],
           "xaxis": "x",
           "y": [
            12.88379,
            15.99917,
            6.091667,
            25.375,
            7.066667,
            -100,
            -100,
            -100,
            -100,
            -100,
            -100,
            -100
           ],
           "yaxis": "y"
          },
          {
           "hovertemplate": "<b>%{hovertext}</b><br><br>Region=DM_Other<br>TIME=1997<br>Inflation Rate=%{x}<br>Nominal Interest Rate (3m T-Bill)=%{y}<br>size=%{marker.size}<extra></extra>",
           "hovertext": [
            "Israel",
            "New Zealand",
            "Poland",
            "Norway",
            "South Korea",
            "Australia"
           ],
           "ids": [
            "ISR",
            "NZL",
            "POL",
            "NOR",
            "KOR",
            "AUS"
           ],
           "legendgroup": "DM_Other",
           "marker": {
            "color": "#19d3f3",
            "size": [
             50,
             50,
             50,
             50,
             50,
             50
            ],
            "sizemode": "area",
            "sizeref": 0.16,
            "symbol": "circle"
           },
           "mode": "markers",
           "name": "DM_Other",
           "orientation": "v",
           "showlegend": true,
           "type": "scatter",
           "x": [
            8.969575,
            1.187151,
            14.95,
            2.566923,
            4.438932,
            0.2248875
           ],
           "xaxis": "x",
           "y": [
            13.76988,
            7.659167,
            23.11,
            3.7325,
            13.38167,
            5.395833
           ],
           "yaxis": "y"
          },
          {
           "hovertemplate": "<b>%{hovertext}</b><br><br>Region=DM_Europe<br>TIME=1997<br>Inflation Rate=%{x}<br>Nominal Interest Rate (3m T-Bill)=%{y}<br>size=%{marker.size}<extra></extra>",
           "hovertext": [
            "Finland",
            "Austria",
            "Sweden",
            "Spain",
            "Portugal",
            "Netherlands",
            "Belgium",
            "Denmark",
            "Switzerland",
            "Luxembourg"
           ],
           "ids": [
            "FIN",
            "AUT",
            "SWE",
            "ESP",
            "PRT",
            "NLD",
            "BEL",
            "DNK",
            "CHE",
            "LUX"
           ],
           "legendgroup": "DM_Europe",
           "marker": {
            "color": "#FF6692",
            "size": [
             50,
             50,
             50,
             50,
             50,
             50,
             50,
             50,
             50,
             50
            ],
            "sizemode": "area",
            "sizeref": 0.16,
            "symbol": "circle"
           },
           "mode": "markers",
           "name": "DM_Europe",
           "orientation": "v",
           "showlegend": true,
           "type": "scatter",
           "x": [
            1.192557,
            1.305983,
            0.6584103,
            1.971078,
            2.336863,
            2.109246,
            1.62816,
            2.182167,
            -100,
            -100
           ],
           "xaxis": "x",
           "y": [
            3.231667,
            3.4975,
            4.1075,
            5.373333,
            5.741667,
            3.334167,
            3.436667,
            3.731128,
            -100,
            -100
           ],
           "yaxis": "y"
          }
         ],
         "layout": {
          "title": {
           "text": "1997 : Asian financial crisis - developed market rates down as investors seek refuge"
          }
         },
         "name": "1997"
        },
        {
         "data": [
          {
           "hovertemplate": "<b>%{hovertext}</b><br><br>Region=United States<br>TIME=1998<br>Inflation Rate=%{x}<br>Nominal Interest Rate (3m T-Bill)=%{y}<br>size=%{marker.size}<extra></extra>",
           "hovertext": [
            "United States"
           ],
           "ids": [
            "USA"
           ],
           "legendgroup": "United States",
           "marker": {
            "color": "#636efa",
            "size": [
             200
            ],
            "sizemode": "area",
            "sizeref": 0.16,
            "symbol": "circle"
           },
           "mode": "markers",
           "name": "United States",
           "orientation": "v",
           "showlegend": true,
           "type": "scatter",
           "x": [
            1.552279
           ],
           "xaxis": "x",
           "y": [
            5.466667
           ],
           "yaxis": "y"
          },
          {
           "hovertemplate": "<b>%{hovertext}</b><br><br>Region=South Africa<br>TIME=1998<br>Inflation Rate=%{x}<br>Nominal Interest Rate (3m T-Bill)=%{y}<br>size=%{marker.size}<extra></extra>",
           "hovertext": [
            "South Africa"
           ],
           "ids": [
            "ZAF"
           ],
           "legendgroup": "South Africa",
           "marker": {
            "color": "#EF553B",
            "size": [
             400
            ],
            "sizemode": "area",
            "sizeref": 0.16,
            "symbol": "circle"
           },
           "mode": "markers",
           "name": "South Africa",
           "orientation": "v",
           "showlegend": true,
           "type": "scatter",
           "x": [
            6.880553
           ],
           "xaxis": "x",
           "y": [
            16.53383
           ],
           "yaxis": "y"
          },
          {
           "hovertemplate": "<b>%{hovertext}</b><br><br>Region=G7_ex US<br>TIME=1998<br>Inflation Rate=%{x}<br>Nominal Interest Rate (3m T-Bill)=%{y}<br>size=%{marker.size}<extra></extra>",
           "hovertext": [
            "United Kingdom",
            "France",
            "Canada",
            "Germany",
            "Italy",
            "Japan"
           ],
           "ids": [
            "GBR",
            "FRA",
            "CAN",
            "DEU",
            "ITA",
            "JPN"
           ],
           "legendgroup": "G7_ex US",
           "marker": {
            "color": "#00cc96",
            "size": [
             50,
             50,
             50,
             50,
             50,
             50
            ],
            "sizemode": "area",
            "sizeref": 0.16,
            "symbol": "circle"
           },
           "mode": "markers",
           "name": "G7_ex US",
           "orientation": "v",
           "showlegend": true,
           "type": "scatter",
           "x": [
            1.8,
            0.6511269,
            0.9959425,
            0.9111845,
            1.955088,
            -100
           ],
           "xaxis": "x",
           "y": [
            7.424256,
            3.557108,
            5.068404,
            3.544167,
            4.991667,
            -100
           ],
           "yaxis": "y"
          },
          {
           "hovertemplate": "<b>%{hovertext}</b><br><br>Region=EM_Peer<br>TIME=1998<br>Inflation Rate=%{x}<br>Nominal Interest Rate (3m T-Bill)=%{y}<br>size=%{marker.size}<extra></extra>",
           "hovertext": [
            "Hungary",
            "Colombia",
            "Chile",
            "Mexico",
            "Indonesia",
            "India"
           ],
           "ids": [
            "HUN",
            "COL",
            "CHL",
            "MEX",
            "IDN",
            "IND"
           ],
           "legendgroup": "EM_Peer",
           "marker": {
            "color": "#ab63fa",
            "size": [
             100,
             100,
             100,
             100,
             100,
             100
            ],
            "sizemode": "area",
            "sizeref": 0.16,
            "symbol": "circle"
           },
           "mode": "markers",
           "name": "EM_Peer",
           "orientation": "v",
           "showlegend": true,
           "type": "scatter",
           "x": [
            14.15379,
            18.67698,
            5.110244,
            15.92839,
            58.45105,
            -100
           ],
           "xaxis": "x",
           "y": [
            17.99167,
            32.58333,
            16.41208,
            27.14167,
            39.06667,
            -100
           ],
           "yaxis": "y"
          },
          {
           "hovertemplate": "<b>%{hovertext}</b><br><br>Region=EM_Other<br>TIME=1998<br>Inflation Rate=%{x}<br>Nominal Interest Rate (3m T-Bill)=%{y}<br>size=%{marker.size}<extra></extra>",
           "hovertext": [
            "Russia",
            "Greece",
            "Estonia",
            "Iceland",
            "Czech Republic",
            "Latvia",
            "Ireland",
            "China",
            "Costa Rica",
            "Lithuania",
            "Slovak Republic",
            "Slovenia"
           ],
           "ids": [
            "RUS",
            "GRC",
            "EST",
            "ISL",
            "CZE",
            "LVA",
            "IRL",
            "CHN",
            "CRI",
            "LTU",
            "SVK",
            "SVN"
           ],
           "legendgroup": "EM_Other",
           "marker": {
            "color": "#FFA15A",
            "size": [
             50,
             50,
             50,
             50,
             50,
             50,
             50,
             50,
             50,
             50,
             50,
             50
            ],
            "sizemode": "area",
            "sizeref": 0.16,
            "symbol": "circle"
           },
           "mode": "markers",
           "name": "EM_Other",
           "orientation": "v",
           "showlegend": true,
           "type": "scatter",
           "x": [
            27.68569,
            4.766226,
            8.744751,
            1.659237,
            10.69837,
            4.644212,
            2.415518,
            -0.8,
            -100,
            -100,
            -100,
            -100
           ],
           "xaxis": "x",
           "y": [
            29.875,
            13.91549,
            13.87167,
            7.457833,
            14.33333,
            8.388333,
            5.425833,
            6.854908,
            -100,
            -100,
            -100,
            -100
           ],
           "yaxis": "y"
          },
          {
           "hovertemplate": "<b>%{hovertext}</b><br><br>Region=DM_Other<br>TIME=1998<br>Inflation Rate=%{x}<br>Nominal Interest Rate (3m T-Bill)=%{y}<br>size=%{marker.size}<extra></extra>",
           "hovertext": [
            "Norway",
            "Poland",
            "Australia",
            "New Zealand",
            "Israel",
            "South Korea"
           ],
           "ids": [
            "NOR",
            "POL",
            "AUS",
            "NZL",
            "ISR",
            "KOR"
           ],
           "legendgroup": "DM_Other",
           "marker": {
            "color": "#19d3f3",
            "size": [
             50,
             50,
             50,
             50,
             50,
             50
            ],
            "sizemode": "area",
            "sizeref": 0.16,
            "symbol": "circle"
           },
           "mode": "markers",
           "name": "DM_Other",
           "orientation": "v",
           "showlegend": true,
           "type": "scatter",
           "x": [
            2.252413,
            11.86667,
            0.8601346,
            1.26524,
            5.4919,
            7.51358
           ],
           "xaxis": "x",
           "y": [
            5.785,
            19.905,
            5.001667,
            7.349167,
            11.94115,
            15.22
           ],
           "yaxis": "y"
          },
          {
           "hovertemplate": "<b>%{hovertext}</b><br><br>Region=DM_Europe<br>TIME=1998<br>Inflation Rate=%{x}<br>Nominal Interest Rate (3m T-Bill)=%{y}<br>size=%{marker.size}<extra></extra>",
           "hovertext": [
            "Denmark",
            "Austria",
            "Sweden",
            "Portugal",
            "Spain",
            "Finland",
            "Belgium",
            "Netherlands",
            "Switzerland",
            "Luxembourg"
           ],
           "ids": [
            "DNK",
            "AUT",
            "SWE",
            "PRT",
            "ESP",
            "FIN",
            "BEL",
            "NLD",
            "CHE",
            "LUX"
           ],
           "legendgroup": "DM_Europe",
           "marker": {
            "color": "#FF6692",
            "size": [
             50,
             50,
             50,
             50,
             50,
             50,
             50,
             50,
             50,
             50
            ],
            "sizemode": "area",
            "sizeref": 0.16,
            "symbol": "circle"
           },
           "mode": "markers",
           "name": "DM_Europe",
           "orientation": "v",
           "showlegend": true,
           "type": "scatter",
           "x": [
            1.845651,
            0.9224669,
            -0.2671327,
            2.572752,
            1.83433,
            1.399471,
            0.9492503,
            1.959136,
            -100,
            -100
           ],
           "xaxis": "x",
           "y": [
            4.272079,
            3.600833,
            4.1875,
            4.308333,
            4.242,
            3.568333,
            3.558333,
            3.455,
            -100,
            -100
           ],
           "yaxis": "y"
          }
         ],
         "layout": {
          "title": {
           "text": "1998 : Russian financial crisis and debt default cause EM rates and inflation to rise"
          }
         },
         "name": "1998"
        },
        {
         "data": [
          {
           "hovertemplate": "<b>%{hovertext}</b><br><br>Region=United States<br>TIME=1999<br>Inflation Rate=%{x}<br>Nominal Interest Rate (3m T-Bill)=%{y}<br>size=%{marker.size}<extra></extra>",
           "hovertext": [
            "United States"
           ],
           "ids": [
            "USA"
           ],
           "legendgroup": "United States",
           "marker": {
            "color": "#636efa",
            "size": [
             200
            ],
            "sizemode": "area",
            "sizeref": 0.16,
            "symbol": "circle"
           },
           "mode": "markers",
           "name": "United States",
           "orientation": "v",
           "showlegend": true,
           "type": "scatter",
           "x": [
            2.188027
           ],
           "xaxis": "x",
           "y": [
            5.33
           ],
           "yaxis": "y"
          },
          {
           "hovertemplate": "<b>%{hovertext}</b><br><br>Region=South Africa<br>TIME=1999<br>Inflation Rate=%{x}<br>Nominal Interest Rate (3m T-Bill)=%{y}<br>size=%{marker.size}<extra></extra>",
           "hovertext": [
            "South Africa"
           ],
           "ids": [
            "ZAF"
           ],
           "legendgroup": "South Africa",
           "marker": {
            "color": "#EF553B",
            "size": [
             400
            ],
            "sizemode": "area",
            "sizeref": 0.16,
            "symbol": "circle"
           },
           "mode": "markers",
           "name": "South Africa",
           "orientation": "v",
           "showlegend": true,
           "type": "scatter",
           "x": [
            5.181491
           ],
           "xaxis": "x",
           "y": [
            12.85226
           ],
           "yaxis": "y"
          },
          {
           "hovertemplate": "<b>%{hovertext}</b><br><br>Region=G7_ex US<br>TIME=1999<br>Inflation Rate=%{x}<br>Nominal Interest Rate (3m T-Bill)=%{y}<br>size=%{marker.size}<extra></extra>",
           "hovertext": [
            "Italy",
            "Canada",
            "Germany",
            "France",
            "United Kingdom",
            "Japan"
           ],
           "ids": [
            "ITA",
            "CAN",
            "DEU",
            "FRA",
            "GBR",
            "JPN"
           ],
           "legendgroup": "G7_ex US",
           "marker": {
            "color": "#00cc96",
            "size": [
             50,
             50,
             50,
             50,
             50,
             50
            ],
            "sizemode": "area",
            "sizeref": 0.16,
            "symbol": "circle"
           },
           "mode": "markers",
           "name": "G7_ex US",
           "orientation": "v",
           "showlegend": true,
           "type": "scatter",
           "x": [
            1.663458,
            1.734843,
            0.5854336,
            0.5371416,
            1.7,
            -100
           ],
           "xaxis": "x",
           "y": [
            2.9635,
            4.915108,
            2.9635,
            2.9635,
            5.545774,
            -100
           ],
           "yaxis": "y"
          },
          {
           "hovertemplate": "<b>%{hovertext}</b><br><br>Region=EM_Peer<br>TIME=1999<br>Inflation Rate=%{x}<br>Nominal Interest Rate (3m T-Bill)=%{y}<br>size=%{marker.size}<extra></extra>",
           "hovertext": [
            "Colombia",
            "Hungary",
            "Mexico",
            "Indonesia",
            "Chile",
            "India"
           ],
           "ids": [
            "COL",
            "HUN",
            "MEX",
            "IDN",
            "CHL",
            "IND"
           ],
           "legendgroup": "EM_Peer",
           "marker": {
            "color": "#ab63fa",
            "size": [
             100,
             100,
             100,
             100,
             100,
             100
            ],
            "sizemode": "area",
            "sizeref": 0.16,
            "symbol": "circle"
           },
           "mode": "markers",
           "name": "EM_Peer",
           "orientation": "v",
           "showlegend": true,
           "type": "scatter",
           "x": [
            10.87369,
            9.997744,
            16.58562,
            20.47783,
            3.336883,
            -100
           ],
           "xaxis": "x",
           "y": [
            21.32833,
            14.65083,
            24.62667,
            25.7375,
            10.955,
            -100
           ],
           "yaxis": "y"
          },
          {
           "hovertemplate": "<b>%{hovertext}</b><br><br>Region=EM_Other<br>TIME=1999<br>Inflation Rate=%{x}<br>Nominal Interest Rate (3m T-Bill)=%{y}<br>size=%{marker.size}<extra></extra>",
           "hovertext": [
            "Greece",
            "Slovak Republic",
            "Czech Republic",
            "Ireland",
            "Latvia",
            "Russia",
            "Estonia",
            "China",
            "Iceland",
            "Lithuania",
            "Costa Rica",
            "Slovenia"
           ],
           "ids": [
            "GRC",
            "SVK",
            "CZE",
            "IRL",
            "LVA",
            "RUS",
            "EST",
            "CHN",
            "ISL",
            "LTU",
            "CRI",
            "SVN"
           ],
           "legendgroup": "EM_Other",
           "marker": {
            "color": "#FFA15A",
            "size": [
             50,
             50,
             50,
             50,
             50,
             50,
             50,
             50,
             50,
             50,
             50,
             50
            ],
            "sizemode": "area",
            "sizeref": 0.16,
            "symbol": "circle"
           },
           "mode": "markers",
           "name": "EM_Other",
           "orientation": "v",
           "showlegend": true,
           "type": "scatter",
           "x": [
            2.636638,
            10.57045,
            2.135448,
            1.631924,
            2.364815,
            85.74649,
            3.296111,
            -1.4,
            3.231831,
            0.7275506,
            -100,
            -100
           ],
           "xaxis": "x",
           "y": [
            10.31317,
            14.74454,
            6.853333,
            2.9635,
            8.45,
            22.96667,
            7.829167,
            3.658417,
            9.334,
            13.87182,
            -100,
            -100
           ],
           "yaxis": "y"
          },
          {
           "hovertemplate": "<b>%{hovertext}</b><br><br>Region=DM_Other<br>TIME=1999<br>Inflation Rate=%{x}<br>Nominal Interest Rate (3m T-Bill)=%{y}<br>size=%{marker.size}<extra></extra>",
           "hovertext": [
            "South Korea",
            "New Zealand",
            "Israel",
            "Poland",
            "Norway",
            "Australia"
           ],
           "ids": [
            "KOR",
            "NZL",
            "ISR",
            "POL",
            "NOR",
            "AUS"
           ],
           "legendgroup": "DM_Other",
           "marker": {
            "color": "#19d3f3",
            "size": [
             50,
             50,
             50,
             50,
             50,
             50
            ],
            "sizemode": "area",
            "sizeref": 0.16,
            "symbol": "circle"
           },
           "mode": "markers",
           "name": "DM_Other",
           "orientation": "v",
           "showlegend": true,
           "type": "scatter",
           "x": [
            0.8129572,
            -0.1142663,
            5.181024,
            7.258333,
            2.365967,
            1.483129
           ],
           "xaxis": "x",
           "y": [
            6.809166,
            4.83,
            12.03709,
            14.67833,
            6.538333,
            5.011667
           ],
           "yaxis": "y"
          },
          {
           "hovertemplate": "<b>%{hovertext}</b><br><br>Region=DM_Europe<br>TIME=1999<br>Inflation Rate=%{x}<br>Nominal Interest Rate (3m T-Bill)=%{y}<br>size=%{marker.size}<extra></extra>",
           "hovertext": [
            "Denmark",
            "Sweden",
            "Luxembourg",
            "Finland",
            "Spain",
            "Netherlands",
            "Portugal",
            "Belgium",
            "Austria",
            "Switzerland"
           ],
           "ids": [
            "DNK",
            "SWE",
            "LUX",
            "FIN",
            "ESP",
            "NLD",
            "PRT",
            "BEL",
            "AUT",
            "CHE"
           ],
           "legendgroup": "DM_Europe",
           "marker": {
            "color": "#FF6692",
            "size": [
             50,
             50,
             50,
             50,
             50,
             50,
             50,
             50,
             50,
             50
            ],
            "sizemode": "area",
            "sizeref": 0.16,
            "symbol": "circle"
           },
           "mode": "markers",
           "name": "DM_Europe",
           "orientation": "v",
           "showlegend": true,
           "type": "scatter",
           "x": [
            2.497795,
            0.4621758,
            1.025194,
            1.162237,
            2.310345,
            2.157179,
            2.340095,
            1.120848,
            0.5689865,
            -100
           ],
           "xaxis": "x",
           "y": [
            3.437819,
            3.115,
            2.9635,
            2.9635,
            2.9635,
            2.9635,
            2.9635,
            2.9635,
            2.9635,
            -100
           ],
           "yaxis": "y"
          }
         ],
         "layout": {
          "title": {
           "text": "1999 : Low interest rates aid global economic rebound (ex-Russia)"
          }
         },
         "name": "1999"
        },
        {
         "data": [
          {
           "hovertemplate": "<b>%{hovertext}</b><br><br>Region=United States<br>TIME=2000<br>Inflation Rate=%{x}<br>Nominal Interest Rate (3m T-Bill)=%{y}<br>size=%{marker.size}<extra></extra>",
           "hovertext": [
            "United States"
           ],
           "ids": [
            "USA"
           ],
           "legendgroup": "United States",
           "marker": {
            "color": "#636efa",
            "size": [
             200
            ],
            "sizemode": "area",
            "sizeref": 0.16,
            "symbol": "circle"
           },
           "mode": "markers",
           "name": "United States",
           "orientation": "v",
           "showlegend": true,
           "type": "scatter",
           "x": [
            3.376857
           ],
           "xaxis": "x",
           "y": [
            6.455833
           ],
           "yaxis": "y"
          },
          {
           "hovertemplate": "<b>%{hovertext}</b><br><br>Region=South Africa<br>TIME=2000<br>Inflation Rate=%{x}<br>Nominal Interest Rate (3m T-Bill)=%{y}<br>size=%{marker.size}<extra></extra>",
           "hovertext": [
            "South Africa"
           ],
           "ids": [
            "ZAF"
           ],
           "legendgroup": "South Africa",
           "marker": {
            "color": "#EF553B",
            "size": [
             400
            ],
            "sizemode": "area",
            "sizeref": 0.16,
            "symbol": "circle"
           },
           "mode": "markers",
           "name": "South Africa",
           "orientation": "v",
           "showlegend": true,
           "type": "scatter",
           "x": [
            5.338953
           ],
           "xaxis": "x",
           "y": [
            10.11052
           ],
           "yaxis": "y"
          },
          {
           "hovertemplate": "<b>%{hovertext}</b><br><br>Region=G7_ex US<br>TIME=2000<br>Inflation Rate=%{x}<br>Nominal Interest Rate (3m T-Bill)=%{y}<br>size=%{marker.size}<extra></extra>",
           "hovertext": [
            "France",
            "Canada",
            "Germany",
            "Italy",
            "United Kingdom",
            "Japan"
           ],
           "ids": [
            "FRA",
            "CAN",
            "DEU",
            "ITA",
            "GBR",
            "JPN"
           ],
           "legendgroup": "G7_ex US",
           "marker": {
            "color": "#00cc96",
            "size": [
             50,
             50,
             50,
             50,
             50,
             50
            ],
            "sizemode": "area",
            "sizeref": 0.16,
            "symbol": "circle"
           },
           "mode": "markers",
           "name": "G7_ex US",
           "orientation": "v",
           "showlegend": true,
           "type": "scatter",
           "x": [
            1.67596,
            2.71944,
            1.440268,
            2.537687,
            1.2,
            -100
           ],
           "xaxis": "x",
           "y": [
            4.391767,
            5.698482,
            4.391767,
            4.391767,
            6.187457,
            -100
           ],
           "yaxis": "y"
          },
          {
           "hovertemplate": "<b>%{hovertext}</b><br><br>Region=EM_Peer<br>TIME=2000<br>Inflation Rate=%{x}<br>Nominal Interest Rate (3m T-Bill)=%{y}<br>size=%{marker.size}<extra></extra>",
           "hovertext": [
            "Colombia",
            "Indonesia",
            "Chile",
            "Hungary",
            "Mexico",
            "India"
           ],
           "ids": [
            "COL",
            "IDN",
            "CHL",
            "HUN",
            "MEX",
            "IND"
           ],
           "legendgroup": "EM_Peer",
           "marker": {
            "color": "#ab63fa",
            "size": [
             100,
             100,
             100,
             100,
             100,
             100
            ],
            "sizemode": "area",
            "sizeref": 0.16,
            "symbol": "circle"
           },
           "mode": "markers",
           "name": "EM_Peer",
           "orientation": "v",
           "showlegend": true,
           "type": "scatter",
           "x": [
            9.225347,
            3.688618,
            3.843273,
            9.803608,
            9.49156,
            -100
           ],
           "xaxis": "x",
           "y": [
            12.14667,
            12.50333,
            10.7575,
            11.38833,
            17.23167,
            -100
           ],
           "yaxis": "y"
          },
          {
           "hovertemplate": "<b>%{hovertext}</b><br><br>Region=EM_Other<br>TIME=2000<br>Inflation Rate=%{x}<br>Nominal Interest Rate (3m T-Bill)=%{y}<br>size=%{marker.size}<extra></extra>",
           "hovertext": [
            "Russia",
            "Greece",
            "Slovak Republic",
            "China",
            "Latvia",
            "Czech Republic",
            "Ireland",
            "Lithuania",
            "Estonia",
            "Iceland",
            "Costa Rica",
            "Slovenia"
           ],
           "ids": [
            "RUS",
            "GRC",
            "SVK",
            "CHN",
            "LVA",
            "CZE",
            "IRL",
            "LTU",
            "EST",
            "ISL",
            "CRI",
            "SVN"
           ],
           "legendgroup": "EM_Other",
           "marker": {
            "color": "#FFA15A",
            "size": [
             50,
             50,
             50,
             50,
             50,
             50,
             50,
             50,
             50,
             50,
             50,
             50
            ],
            "sizemode": "area",
            "sizeref": 0.16,
            "symbol": "circle"
           },
           "mode": "markers",
           "name": "EM_Other",
           "orientation": "v",
           "showlegend": true,
           "type": "scatter",
           "x": [
            20.79877,
            3.151177,
            12.03578,
            0.4,
            2.654253,
            3.775388,
            5.590717,
            0.9816155,
            4.018489,
            5.136475,
            -100,
            -100
           ],
           "xaxis": "x",
           "y": [
            12.825,
            7.884648,
            8.1725,
            2.600983,
            5.4025,
            5.365833,
            4.391767,
            8.64284,
            5.678333,
            11.21225,
            -100,
            -100
           ],
           "yaxis": "y"
          },
          {
           "hovertemplate": "<b>%{hovertext}</b><br><br>Region=DM_Other<br>TIME=2000<br>Inflation Rate=%{x}<br>Nominal Interest Rate (3m T-Bill)=%{y}<br>size=%{marker.size}<extra></extra>",
           "hovertext": [
            "South Korea",
            "Australia",
            "Norway",
            "Poland",
            "Israel",
            "New Zealand"
           ],
           "ids": [
            "KOR",
            "AUS",
            "NOR",
            "POL",
            "ISR",
            "NZL"
           ],
           "legendgroup": "DM_Other",
           "marker": {
            "color": "#19d3f3",
            "size": [
             50,
             50,
             50,
             50,
             50,
             50
            ],
            "sizemode": "area",
            "sizeref": 0.16,
            "symbol": "circle"
           },
           "mode": "markers",
           "name": "DM_Other",
           "orientation": "v",
           "showlegend": true,
           "type": "scatter",
           "x": [
            2.259166,
            4.457435,
            3.085506,
            10.09167,
            1.032641,
            2.615233
           ],
           "xaxis": "x",
           "y": [
            7.078333,
            6.1775,
            6.745833,
            18.875,
            9.045343,
            6.52
           ],
           "yaxis": "y"
          },
          {
           "hovertemplate": "<b>%{hovertext}</b><br><br>Region=DM_Europe<br>TIME=2000<br>Inflation Rate=%{x}<br>Nominal Interest Rate (3m T-Bill)=%{y}<br>size=%{marker.size}<extra></extra>",
           "hovertext": [
            "Belgium",
            "Denmark",
            "Portugal",
            "Switzerland",
            "Netherlands",
            "Spain",
            "Finland",
            "Luxembourg",
            "Austria",
            "Sweden"
           ],
           "ids": [
            "BEL",
            "DNK",
            "PRT",
            "CHE",
            "NLD",
            "ESP",
            "FIN",
            "LUX",
            "AUT",
            "SWE"
           ],
           "legendgroup": "DM_Europe",
           "marker": {
            "color": "#FF6692",
            "size": [
             50,
             50,
             50,
             50,
             50,
             50,
             50,
             50,
             50,
             50
            ],
            "sizemode": "area",
            "sizeref": 0.16,
            "symbol": "circle"
           },
           "mode": "markers",
           "name": "DM_Europe",
           "orientation": "v",
           "showlegend": true,
           "type": "scatter",
           "x": [
            2.544518,
            2.903277,
            2.85303,
            1.558529,
            2.360522,
            3.433517,
            3.042096,
            3.150768,
            2.344868,
            0.8991438
           ],
           "xaxis": "x",
           "y": [
            4.391767,
            4.997201,
            4.391767,
            3.034037,
            4.391767,
            4.391767,
            4.391767,
            4.391767,
            4.391767,
            3.954167
           ],
           "yaxis": "y"
          }
         ],
         "layout": {
          "title": {
           "text": "2000 : EM's recover, inflation and rates fall and the \"commodity super-cycle\" begins"
          }
         },
         "name": "2000"
        },
        {
         "data": [
          {
           "hovertemplate": "<b>%{hovertext}</b><br><br>Region=United States<br>TIME=2001<br>Inflation Rate=%{x}<br>Nominal Interest Rate (3m T-Bill)=%{y}<br>size=%{marker.size}<extra></extra>",
           "hovertext": [
            "United States"
           ],
           "ids": [
            "USA"
           ],
           "legendgroup": "United States",
           "marker": {
            "color": "#636efa",
            "size": [
             200
            ],
            "sizemode": "area",
            "sizeref": 0.16,
            "symbol": "circle"
           },
           "mode": "markers",
           "name": "United States",
           "orientation": "v",
           "showlegend": true,
           "type": "scatter",
           "x": [
            2.826171
           ],
           "xaxis": "x",
           "y": [
            3.686667
           ],
           "yaxis": "y"
          },
          {
           "hovertemplate": "<b>%{hovertext}</b><br><br>Region=South Africa<br>TIME=2001<br>Inflation Rate=%{x}<br>Nominal Interest Rate (3m T-Bill)=%{y}<br>size=%{marker.size}<extra></extra>",
           "hovertext": [
            "South Africa"
           ],
           "ids": [
            "ZAF"
           ],
           "legendgroup": "South Africa",
           "marker": {
            "color": "#EF553B",
            "size": [
             400
            ],
            "sizemode": "area",
            "sizeref": 0.16,
            "symbol": "circle"
           },
           "mode": "markers",
           "name": "South Africa",
           "orientation": "v",
           "showlegend": true,
           "type": "scatter",
           "x": [
            5.7019
           ],
           "xaxis": "x",
           "y": [
            9.676273
           ],
           "yaxis": "y"
          },
          {
           "hovertemplate": "<b>%{hovertext}</b><br><br>Region=G7_ex US<br>TIME=2001<br>Inflation Rate=%{x}<br>Nominal Interest Rate (3m T-Bill)=%{y}<br>size=%{marker.size}<extra></extra>",
           "hovertext": [
            "United Kingdom",
            "France",
            "Canada",
            "Germany",
            "Italy",
            "Japan"
           ],
           "ids": [
            "GBR",
            "FRA",
            "CAN",
            "DEU",
            "ITA",
            "JPN"
           ],
           "legendgroup": "G7_ex US",
           "marker": {
            "color": "#00cc96",
            "size": [
             50,
             50,
             50,
             50,
             50,
             50
            ],
            "sizemode": "area",
            "sizeref": 0.16,
            "symbol": "circle"
           },
           "mode": "markers",
           "name": "G7_ex US",
           "orientation": "v",
           "showlegend": true,
           "type": "scatter",
           "x": [
            1.6,
            1.634781,
            2.52512,
            1.983857,
            2.785166,
            -100
           ],
           "xaxis": "x",
           "y": [
            5.04343,
            4.261783,
            4.003615,
            4.261783,
            4.261783,
            -100
           ],
           "yaxis": "y"
          },
          {
           "hovertemplate": "<b>%{hovertext}</b><br><br>Region=EM_Peer<br>TIME=2001<br>Inflation Rate=%{x}<br>Nominal Interest Rate (3m T-Bill)=%{y}<br>size=%{marker.size}<extra></extra>",
           "hovertext": [
            "Mexico",
            "Indonesia",
            "Chile",
            "Colombia",
            "Hungary",
            "India"
           ],
           "ids": [
            "MEX",
            "IDN",
            "CHL",
            "COL",
            "HUN",
            "IND"
           ],
           "legendgroup": "EM_Peer",
           "marker": {
            "color": "#ab63fa",
            "size": [
             100,
             100,
             100,
             100,
             100,
             100
            ],
            "sizemode": "area",
            "sizeref": 0.16,
            "symbol": "circle"
           },
           "mode": "markers",
           "name": "EM_Peer",
           "orientation": "v",
           "showlegend": true,
           "type": "scatter",
           "x": [
            6.367737,
            11.50012,
            3.569101,
            7.965562,
            9.116809,
            -100
           ],
           "xaxis": "x",
           "y": [
            13.42667,
            15.48167,
            7.233333,
            12.435,
            10.86667,
            -100
           ],
           "yaxis": "y"
          },
          {
           "hovertemplate": "<b>%{hovertext}</b><br><br>Region=EM_Other<br>TIME=2001<br>Inflation Rate=%{x}<br>Nominal Interest Rate (3m T-Bill)=%{y}<br>size=%{marker.size}<extra></extra>",
           "hovertext": [
            "Russia",
            "Lithuania",
            "Iceland",
            "Estonia",
            "Greece",
            "China",
            "Ireland",
            "Slovak Republic",
            "Czech Republic",
            "Latvia",
            "Costa Rica",
            "Slovenia"
           ],
           "ids": [
            "RUS",
            "LTU",
            "ISL",
            "EST",
            "GRC",
            "CHN",
            "IRL",
            "SVK",
            "CZE",
            "LVA",
            "CRI",
            "SVN"
           ],
           "legendgroup": "EM_Other",
           "marker": {
            "color": "#FFA15A",
            "size": [
             50,
             50,
             50,
             50,
             50,
             50,
             50,
             50,
             50,
             50,
             50,
             50
            ],
            "sizemode": "area",
            "sizeref": 0.16,
            "symbol": "circle"
           },
           "mode": "markers",
           "name": "EM_Other",
           "orientation": "v",
           "showlegend": true,
           "type": "scatter",
           "x": [
            21.47701,
            1.36712,
            6.405086,
            5.74828,
            3.373966,
            0.7,
            4.872905,
            7.329631,
            4.662675,
            2.487044,
            -100,
            -100
           ],
           "xaxis": "x",
           "y": [
            9.983334,
            5.935413,
            11.9875,
            5.313334,
            4.261783,
            2.521183,
            4.261783,
            7.488333,
            5.173333,
            6.861667,
            -100,
            -100
           ],
           "yaxis": "y"
          },
          {
           "hovertemplate": "<b>%{hovertext}</b><br><br>Region=DM_Other<br>TIME=2001<br>Inflation Rate=%{x}<br>Nominal Interest Rate (3m T-Bill)=%{y}<br>size=%{marker.size}<extra></extra>",
           "hovertext": [
            "New Zealand",
            "Norway",
            "Australia",
            "South Korea",
            "Poland",
            "Israel"
           ],
           "ids": [
            "NZL",
            "NOR",
            "AUS",
            "KOR",
            "POL",
            "ISR"
           ],
           "legendgroup": "DM_Other",
           "marker": {
            "color": "#19d3f3",
            "size": [
             50,
             50,
             50,
             50,
             50,
             50
            ],
            "sizemode": "area",
            "sizeref": 0.16,
            "symbol": "circle"
           },
           "mode": "markers",
           "name": "DM_Other",
           "orientation": "v",
           "showlegend": true,
           "type": "scatter",
           "x": [
            2.625821,
            3.004197,
            4.407135,
            4.066576,
            5.475,
            1.151316
           ],
           "xaxis": "x",
           "y": [
            5.7425,
            7.226666,
            4.899167,
            5.3175,
            15.71583,
            6.531512
           ],
           "yaxis": "y"
          },
          {
           "hovertemplate": "<b>%{hovertext}</b><br><br>Region=DM_Europe<br>TIME=2001<br>Inflation Rate=%{x}<br>Nominal Interest Rate (3m T-Bill)=%{y}<br>size=%{marker.size}<extra></extra>",
           "hovertext": [
            "Austria",
            "Spain",
            "Switzerland",
            "Luxembourg",
            "Sweden",
            "Belgium",
            "Portugal",
            "Denmark",
            "Finland",
            "Netherlands"
           ],
           "ids": [
            "AUT",
            "ESP",
            "CHE",
            "LUX",
            "SWE",
            "BEL",
            "PRT",
            "DNK",
            "FIN",
            "NLD"
           ],
           "legendgroup": "DM_Europe",
           "marker": {
            "color": "#FF6692",
            "size": [
             50,
             50,
             50,
             50,
             50,
             50,
             50,
             50,
             50,
             50
            ],
            "sizemode": "area",
            "sizeref": 0.16,
            "symbol": "circle"
           },
           "mode": "markers",
           "name": "DM_Europe",
           "orientation": "v",
           "showlegend": true,
           "type": "scatter",
           "x": [
            2.65,
            3.589833,
            0.9890203,
            2.663822,
            2.405958,
            2.469258,
            4.369903,
            2.337875,
            2.578441,
            4.155841
           ],
           "xaxis": "x",
           "y": [
            4.261783,
            4.261783,
            2.731143,
            4.261783,
            4.032727,
            4.261783,
            4.261783,
            4.702664,
            4.261783,
            4.261783
           ],
           "yaxis": "y"
          }
         ],
         "layout": {
          "title": {
           "text": "2001 : US \"Dot-Com Crash\" triggers a global economic slowdown"
          }
         },
         "name": "2001"
        },
        {
         "data": [
          {
           "hovertemplate": "<b>%{hovertext}</b><br><br>Region=United States<br>TIME=2002<br>Inflation Rate=%{x}<br>Nominal Interest Rate (3m T-Bill)=%{y}<br>size=%{marker.size}<extra></extra>",
           "hovertext": [
            "United States"
           ],
           "ids": [
            "USA"
           ],
           "legendgroup": "United States",
           "marker": {
            "color": "#636efa",
            "size": [
             200
            ],
            "sizemode": "area",
            "sizeref": 0.16,
            "symbol": "circle"
           },
           "mode": "markers",
           "name": "United States",
           "orientation": "v",
           "showlegend": true,
           "type": "scatter",
           "x": [
            1.586032
           ],
           "xaxis": "x",
           "y": [
            1.725833
           ],
           "yaxis": "y"
          },
          {
           "hovertemplate": "<b>%{hovertext}</b><br><br>Region=South Africa<br>TIME=2002<br>Inflation Rate=%{x}<br>Nominal Interest Rate (3m T-Bill)=%{y}<br>size=%{marker.size}<extra></extra>",
           "hovertext": [
            "South Africa"
           ],
           "ids": [
            "ZAF"
           ],
           "legendgroup": "South Africa",
           "marker": {
            "color": "#EF553B",
            "size": [
             400
            ],
            "sizemode": "area",
            "sizeref": 0.16,
            "symbol": "circle"
           },
           "mode": "markers",
           "name": "South Africa",
           "orientation": "v",
           "showlegend": true,
           "type": "scatter",
           "x": [
            9.49471
           ],
           "xaxis": "x",
           "y": [
            11.16127
           ],
           "yaxis": "y"
          },
          {
           "hovertemplate": "<b>%{hovertext}</b><br><br>Region=G7_ex US<br>TIME=2002<br>Inflation Rate=%{x}<br>Nominal Interest Rate (3m T-Bill)=%{y}<br>size=%{marker.size}<extra></extra>",
           "hovertext": [
            "Canada",
            "Germany",
            "United Kingdom",
            "Italy",
            "France",
            "Japan"
           ],
           "ids": [
            "CAN",
            "DEU",
            "GBR",
            "ITA",
            "FRA",
            "JPN"
           ],
           "legendgroup": "G7_ex US",
           "marker": {
            "color": "#00cc96",
            "size": [
             50,
             50,
             50,
             50,
             50,
             50
            ],
            "sizemode": "area",
            "sizeref": 0.16,
            "symbol": "circle"
           },
           "mode": "markers",
           "name": "G7_ex US",
           "orientation": "v",
           "showlegend": true,
           "type": "scatter",
           "x": [
            2.258394,
            1.420807,
            1.5,
            2.46532,
            1.923412,
            -100
           ],
           "xaxis": "x",
           "y": [
            2.623688,
            3.318592,
            4.060289,
            3.318592,
            3.318592,
            -100
           ],
           "yaxis": "y"
          },
          {
           "hovertemplate": "<b>%{hovertext}</b><br><br>Region=EM_Peer<br>TIME=2002<br>Inflation Rate=%{x}<br>Nominal Interest Rate (3m T-Bill)=%{y}<br>size=%{marker.size}<extra></extra>",
           "hovertext": [
            "Chile",
            "Mexico",
            "Indonesia",
            "Hungary",
            "Colombia",
            "India"
           ],
           "ids": [
            "CHL",
            "MEX",
            "IDN",
            "HUN",
            "COL",
            "IND"
           ],
           "legendgroup": "EM_Peer",
           "marker": {
            "color": "#ab63fa",
            "size": [
             100,
             100,
             100,
             100,
             100,
             100
            ],
            "sizemode": "area",
            "sizeref": 0.16,
            "symbol": "circle"
           },
           "mode": "markers",
           "name": "EM_Peer",
           "orientation": "v",
           "showlegend": true,
           "type": "scatter",
           "x": [
            2.489398,
            5.030733,
            11.90012,
            5.265448,
            6.351508,
            -100
           ],
           "xaxis": "x",
           "y": [
            3.925,
            8.45,
            15.5025,
            9.208333,
            8.938334,
            -100
           ],
           "yaxis": "y"
          },
          {
           "hovertemplate": "<b>%{hovertext}</b><br><br>Region=EM_Other<br>TIME=2002<br>Inflation Rate=%{x}<br>Nominal Interest Rate (3m T-Bill)=%{y}<br>size=%{marker.size}<extra></extra>",
           "hovertext": [
            "Iceland",
            "Ireland",
            "Czech Republic",
            "Lithuania",
            "Estonia",
            "China",
            "Slovenia",
            "Slovak Republic",
            "Latvia",
            "Russia",
            "Greece",
            "Costa Rica"
           ],
           "ids": [
            "ISL",
            "IRL",
            "CZE",
            "LTU",
            "EST",
            "CHN",
            "SVN",
            "SVK",
            "LVA",
            "RUS",
            "GRC",
            "CRI"
           ],
           "legendgroup": "EM_Other",
           "marker": {
            "color": "#FFA15A",
            "size": [
             50,
             50,
             50,
             50,
             50,
             50,
             50,
             50,
             50,
             50,
             50,
             50
            ],
            "sizemode": "area",
            "sizeref": 0.16,
            "symbol": "circle"
           },
           "mode": "markers",
           "name": "EM_Other",
           "orientation": "v",
           "showlegend": true,
           "type": "scatter",
           "x": [
            5.197023,
            4.614733,
            1.902981,
            0.2815066,
            3.571913,
            -0.8,
            7.480778,
            3.127133,
            1.938879,
            15.78873,
            3.629363,
            -100
           ],
           "xaxis": "x",
           "y": [
            8.974334,
            3.318592,
            3.549167,
            3.746735,
            3.88,
            2.152058,
            8.025833,
            7.499166,
            4.354167,
            12.39167,
            3.318592,
            -100
           ],
           "yaxis": "y"
          },
          {
           "hovertemplate": "<b>%{hovertext}</b><br><br>Region=DM_Other<br>TIME=2002<br>Inflation Rate=%{x}<br>Nominal Interest Rate (3m T-Bill)=%{y}<br>size=%{marker.size}<extra></extra>",
           "hovertext": [
            "Australia",
            "New Zealand",
            "Israel",
            "South Korea",
            "Poland",
            "Norway"
           ],
           "ids": [
            "AUS",
            "NZL",
            "ISR",
            "KOR",
            "POL",
            "NOR"
           ],
           "legendgroup": "DM_Other",
           "marker": {
            "color": "#19d3f3",
            "size": [
             50,
             50,
             50,
             50,
             50,
             50
            ],
            "sizemode": "area",
            "sizeref": 0.16,
            "symbol": "circle"
           },
           "mode": "markers",
           "name": "DM_Other",
           "orientation": "v",
           "showlegend": true,
           "type": "scatter",
           "x": [
            2.981575,
            2.677091,
            5.772358,
            2.762262,
            1.941667,
            1.286725
           ],
           "xaxis": "x",
           "y": [
            4.746666,
            5.666667,
            7.167583,
            4.805,
            8.7725,
            6.9075
           ],
           "yaxis": "y"
          },
          {
           "hovertemplate": "<b>%{hovertext}</b><br><br>Region=DM_Europe<br>TIME=2002<br>Inflation Rate=%{x}<br>Nominal Interest Rate (3m T-Bill)=%{y}<br>size=%{marker.size}<extra></extra>",
           "hovertext": [
            "Switzerland",
            "Spain",
            "Luxembourg",
            "Austria",
            "Netherlands",
            "Finland",
            "Belgium",
            "Sweden",
            "Denmark",
            "Portugal"
           ],
           "ids": [
            "CHE",
            "ESP",
            "LUX",
            "AUT",
            "NLD",
            "FIN",
            "BEL",
            "SWE",
            "DNK",
            "PRT"
           ],
           "legendgroup": "DM_Europe",
           "marker": {
            "color": "#FF6692",
            "size": [
             50,
             50,
             50,
             50,
             50,
             50,
             50,
             50,
             50,
             50
            ],
            "sizemode": "area",
            "sizeref": 0.16,
            "symbol": "circle"
           },
           "mode": "markers",
           "name": "DM_Europe",
           "orientation": "v",
           "showlegend": true,
           "type": "scatter",
           "x": [
            0.6427115,
            3.065657,
            2.074089,
            1.810359,
            3.287531,
            1.571221,
            1.645214,
            2.158482,
            2.424437,
            3.600347
           ],
           "xaxis": "x",
           "y": [
            0.9987352,
            3.318592,
            3.318592,
            3.318592,
            3.318592,
            3.318592,
            3.318592,
            4.065834,
            3.543719,
            3.318592
           ],
           "yaxis": "y"
          }
         ],
         "layout": {
          "title": {
           "text": "2002 : Sudden collapse in the Rand towards end of 2001 results in inflation pressures"
          }
         },
         "name": "2002"
        },
        {
         "data": [
          {
           "hovertemplate": "<b>%{hovertext}</b><br><br>Region=United States<br>TIME=2003<br>Inflation Rate=%{x}<br>Nominal Interest Rate (3m T-Bill)=%{y}<br>size=%{marker.size}<extra></extra>",
           "hovertext": [
            "United States"
           ],
           "ids": [
            "USA"
           ],
           "legendgroup": "United States",
           "marker": {
            "color": "#636efa",
            "size": [
             200
            ],
            "sizemode": "area",
            "sizeref": 0.16,
            "symbol": "circle"
           },
           "mode": "markers",
           "name": "United States",
           "orientation": "v",
           "showlegend": true,
           "type": "scatter",
           "x": [
            2.270095
           ],
           "xaxis": "x",
           "y": [
            1.150833
           ],
           "yaxis": "y"
          },
          {
           "hovertemplate": "<b>%{hovertext}</b><br><br>Region=South Africa<br>TIME=2003<br>Inflation Rate=%{x}<br>Nominal Interest Rate (3m T-Bill)=%{y}<br>size=%{marker.size}<extra></extra>",
           "hovertext": [
            "South Africa"
           ],
           "ids": [
            "ZAF"
           ],
           "legendgroup": "South Africa",
           "marker": {
            "color": "#EF553B",
            "size": [
             400
            ],
            "sizemode": "area",
            "sizeref": 0.16,
            "symbol": "circle"
           },
           "mode": "markers",
           "name": "South Africa",
           "orientation": "v",
           "showlegend": true,
           "type": "scatter",
           "x": [
            5.679419
           ],
           "xaxis": "x",
           "y": [
            10.66587
           ],
           "yaxis": "y"
          },
          {
           "hovertemplate": "<b>%{hovertext}</b><br><br>Region=G7_ex US<br>TIME=2003<br>Inflation Rate=%{x}<br>Nominal Interest Rate (3m T-Bill)=%{y}<br>size=%{marker.size}<extra></extra>",
           "hovertext": [
            "Italy",
            "Germany",
            "Japan",
            "Canada",
            "United Kingdom",
            "France"
           ],
           "ids": [
            "ITA",
            "DEU",
            "JPN",
            "CAN",
            "GBR",
            "FRA"
           ],
           "legendgroup": "G7_ex US",
           "marker": {
            "color": "#00cc96",
            "size": [
             50,
             50,
             50,
             50,
             50,
             50
            ],
            "sizemode": "area",
            "sizeref": 0.16,
            "symbol": "circle"
           },
           "mode": "markers",
           "name": "G7_ex US",
           "orientation": "v",
           "showlegend": true,
           "type": "scatter",
           "x": [
            2.672559,
            1.034223,
            -0.25,
            2.758563,
            1.4,
            2.098472
           ],
           "xaxis": "x",
           "y": [
            2.333467,
            2.333467,
            0.08833333,
            2.964421,
            3.735161,
            2.333467
           ],
           "yaxis": "y"
          },
          {
           "hovertemplate": "<b>%{hovertext}</b><br><br>Region=EM_Peer<br>TIME=2003<br>Inflation Rate=%{x}<br>Nominal Interest Rate (3m T-Bill)=%{y}<br>size=%{marker.size}<extra></extra>",
           "hovertext": [
            "Chile",
            "Indonesia",
            "Colombia",
            "Hungary",
            "Mexico",
            "India"
           ],
           "ids": [
            "CHL",
            "IDN",
            "COL",
            "HUN",
            "MEX",
            "IND"
           ],
           "legendgroup": "EM_Peer",
           "marker": {
            "color": "#ab63fa",
            "size": [
             100,
             100,
             100,
             100,
             100,
             100
            ],
            "sizemode": "area",
            "sizeref": 0.16,
            "symbol": "circle"
           },
           "mode": "markers",
           "name": "EM_Peer",
           "orientation": "v",
           "showlegend": true,
           "type": "scatter",
           "x": [
            2.810177,
            6.757316,
            7.129788,
            4.661017,
            4.546898,
            -100
           ],
           "xaxis": "x",
           "y": [
            2.7675,
            10.59,
            7.803333,
            8.485833,
            7.164166,
            -100
           ],
           "yaxis": "y"
          },
          {
           "hovertemplate": "<b>%{hovertext}</b><br><br>Region=EM_Other<br>TIME=2003<br>Inflation Rate=%{x}<br>Nominal Interest Rate (3m T-Bill)=%{y}<br>size=%{marker.size}<extra></extra>",
           "hovertext": [
            "Russia",
            "Slovak Republic",
            "Slovenia",
            "Latvia",
            "Lithuania",
            "China",
            "Greece",
            "Iceland",
            "Ireland",
            "Czech Republic",
            "Estonia",
            "Costa Rica"
           ],
           "ids": [
            "RUS",
            "SVK",
            "SVN",
            "LVA",
            "LTU",
            "CHN",
            "GRC",
            "ISL",
            "IRL",
            "CZE",
            "EST",
            "CRI"
           ],
           "legendgroup": "EM_Other",
           "marker": {
            "color": "#FFA15A",
            "size": [
             50,
             50,
             50,
             50,
             50,
             50,
             50,
             50,
             50,
             50,
             50,
             50
            ],
            "sizemode": "area",
            "sizeref": 0.16,
            "symbol": "circle"
           },
           "mode": "markers",
           "name": "EM_Other",
           "orientation": "v",
           "showlegend": true,
           "type": "scatter",
           "x": [
            13.66329,
            8.554143,
            5.544164,
            2.942643,
            -1.134309,
            1.2,
            3.530651,
            2.055662,
            3.49049,
            0.1187392,
            1.334991,
            -100
           ],
           "xaxis": "x",
           "y": [
            8.125,
            5.89,
            6.781667,
            3.835,
            2.840528,
            2.618333,
            2.333467,
            5.349916,
            2.333467,
            2.275833,
            2.9125,
            -100
           ],
           "yaxis": "y"
          },
          {
           "hovertemplate": "<b>%{hovertext}</b><br><br>Region=DM_Other<br>TIME=2003<br>Inflation Rate=%{x}<br>Nominal Interest Rate (3m T-Bill)=%{y}<br>size=%{marker.size}<extra></extra>",
           "hovertext": [
            "Australia",
            "Israel",
            "New Zealand",
            "Poland",
            "South Korea",
            "Norway"
           ],
           "ids": [
            "AUS",
            "ISR",
            "NZL",
            "POL",
            "KOR",
            "NOR"
           ],
           "legendgroup": "DM_Other",
           "marker": {
            "color": "#19d3f3",
            "size": [
             50,
             50,
             50,
             50,
             50,
             50
            ],
            "sizemode": "area",
            "sizeref": 0.16,
            "symbol": "circle"
           },
           "mode": "markers",
           "name": "DM_Other",
           "orientation": "v",
           "showlegend": true,
           "type": "scatter",
           "x": [
            2.732596,
            0.7027561,
            1.753576,
            0.8416666,
            3.514874,
            2.487826
           ],
           "xaxis": "x",
           "y": [
            4.895833,
            6.611959,
            5.423333,
            5.688334,
            4.305833,
            4.098333
           ],
           "yaxis": "y"
          },
          {
           "hovertemplate": "<b>%{hovertext}</b><br><br>Region=DM_Europe<br>TIME=2003<br>Inflation Rate=%{x}<br>Nominal Interest Rate (3m T-Bill)=%{y}<br>size=%{marker.size}<extra></extra>",
           "hovertext": [
            "Finland",
            "Spain",
            "Belgium",
            "Portugal",
            "Austria",
            "Luxembourg",
            "Sweden",
            "Denmark",
            "Switzerland",
            "Netherlands"
           ],
           "ids": [
            "FIN",
            "ESP",
            "BEL",
            "PRT",
            "AUT",
            "LUX",
            "SWE",
            "DNK",
            "CHE",
            "NLD"
           ],
           "legendgroup": "DM_Europe",
           "marker": {
            "color": "#FF6692",
            "size": [
             50,
             50,
             50,
             50,
             50,
             50,
             50,
             50,
             50,
             50
            ],
            "sizemode": "area",
            "sizeref": 0.16,
            "symbol": "circle"
           },
           "mode": "markers",
           "name": "DM_Europe",
           "orientation": "v",
           "showlegend": true,
           "type": "scatter",
           "x": [
            0.8774385,
            3.038888,
            1.588964,
            3.218991,
            1.355554,
            2.04984,
            1.925655,
            2.075078,
            0.6382729,
            2.091998
           ],
           "xaxis": "x",
           "y": [
            2.333467,
            2.333467,
            2.333467,
            2.333467,
            2.333467,
            2.333467,
            3.026667,
            2.423354,
            0.2079853,
            2.333467
           ],
           "yaxis": "y"
          }
         ],
         "layout": {
          "title": {
           "text": "2003 : Global markets rebound, only to crash once more"
          }
         },
         "name": "2003"
        },
        {
         "data": [
          {
           "hovertemplate": "<b>%{hovertext}</b><br><br>Region=United States<br>TIME=2004<br>Inflation Rate=%{x}<br>Nominal Interest Rate (3m T-Bill)=%{y}<br>size=%{marker.size}<extra></extra>",
           "hovertext": [
            "United States"
           ],
           "ids": [
            "USA"
           ],
           "legendgroup": "United States",
           "marker": {
            "color": "#636efa",
            "size": [
             200
            ],
            "sizemode": "area",
            "sizeref": 0.16,
            "symbol": "circle"
           },
           "mode": "markers",
           "name": "United States",
           "orientation": "v",
           "showlegend": true,
           "type": "scatter",
           "x": [
            2.677237
           ],
           "xaxis": "x",
           "y": [
            1.563333
           ],
           "yaxis": "y"
          },
          {
           "hovertemplate": "<b>%{hovertext}</b><br><br>Region=South Africa<br>TIME=2004<br>Inflation Rate=%{x}<br>Nominal Interest Rate (3m T-Bill)=%{y}<br>size=%{marker.size}<extra></extra>",
           "hovertext": [
            "South Africa"
           ],
           "ids": [
            "ZAF"
           ],
           "legendgroup": "South Africa",
           "marker": {
            "color": "#EF553B",
            "size": [
             400
            ],
            "sizemode": "area",
            "sizeref": 0.16,
            "symbol": "circle"
           },
           "mode": "markers",
           "name": "South Africa",
           "orientation": "v",
           "showlegend": true,
           "type": "scatter",
           "x": [
            -0.692031
           ],
           "xaxis": "x",
           "y": [
            7.533075
           ],
           "yaxis": "y"
          },
          {
           "hovertemplate": "<b>%{hovertext}</b><br><br>Region=G7_ex US<br>TIME=2004<br>Inflation Rate=%{x}<br>Nominal Interest Rate (3m T-Bill)=%{y}<br>size=%{marker.size}<extra></extra>",
           "hovertext": [
            "France",
            "Italy",
            "United Kingdom",
            "Japan",
            "Canada",
            "Germany"
           ],
           "ids": [
            "FRA",
            "ITA",
            "GBR",
            "JPN",
            "CAN",
            "DEU"
           ],
           "legendgroup": "G7_ex US",
           "marker": {
            "color": "#00cc96",
            "size": [
             50,
             50,
             50,
             50,
             50,
             50
            ],
            "sizemode": "area",
            "sizeref": 0.16,
            "symbol": "circle"
           },
           "mode": "markers",
           "name": "G7_ex US",
           "orientation": "v",
           "showlegend": true,
           "type": "scatter",
           "x": [
            2.14209,
            2.206736,
            1.4,
            -0.008333334,
            1.857259,
            1.665736
           ],
           "xaxis": "x",
           "y": [
            2.106325,
            2.106325,
            4.637821,
            0.08833333,
            2.311883,
            2.106325
           ],
           "yaxis": "y"
          },
          {
           "hovertemplate": "<b>%{hovertext}</b><br><br>Region=EM_Peer<br>TIME=2004<br>Inflation Rate=%{x}<br>Nominal Interest Rate (3m T-Bill)=%{y}<br>size=%{marker.size}<extra></extra>",
           "hovertext": [
            "Colombia",
            "Indonesia",
            "Mexico",
            "Chile",
            "Hungary",
            "India"
           ],
           "ids": [
            "COL",
            "IDN",
            "MEX",
            "CHL",
            "HUN",
            "IND"
           ],
           "legendgroup": "EM_Peer",
           "marker": {
            "color": "#ab63fa",
            "size": [
             100,
             100,
             100,
             100,
             100,
             100
            ],
            "sizemode": "area",
            "sizeref": 0.16,
            "symbol": "circle"
           },
           "mode": "markers",
           "name": "EM_Peer",
           "orientation": "v",
           "showlegend": true,
           "type": "scatter",
           "x": [
            5.904022,
            6.06406,
            4.688407,
            1.054739,
            -100,
            -100
           ],
           "xaxis": "x",
           "y": [
            7.798333,
            6.443333,
            7.4425,
            1.83,
            -100,
            -100
           ],
           "yaxis": "y"
          },
          {
           "hovertemplate": "<b>%{hovertext}</b><br><br>Region=EM_Other<br>TIME=2004<br>Inflation Rate=%{x}<br>Nominal Interest Rate (3m T-Bill)=%{y}<br>size=%{marker.size}<extra></extra>",
           "hovertext": [
            "Latvia",
            "Greece",
            "Czech Republic",
            "Slovak Republic",
            "Ireland",
            "Lithuania",
            "Estonia",
            "China",
            "Russia",
            "Slovenia",
            "Iceland",
            "Costa Rica"
           ],
           "ids": [
            "LVA",
            "GRC",
            "CZE",
            "SVK",
            "IRL",
            "LTU",
            "EST",
            "CHN",
            "RUS",
            "SVN",
            "ISL",
            "CRI"
           ],
           "legendgroup": "EM_Other",
           "marker": {
            "color": "#FFA15A",
            "size": [
             50,
             50,
             50,
             50,
             50,
             50,
             50,
             50,
             50,
             50,
             50,
             50
            ],
            "sizemode": "area",
            "sizeref": 0.16,
            "symbol": "circle"
           },
           "mode": "markers",
           "name": "EM_Other",
           "orientation": "v",
           "showlegend": true,
           "type": "scatter",
           "x": [
            6.192384,
            2.898848,
            2.760108,
            7.548501,
            2.199629,
            1.164103,
            3.048111,
            3.9,
            10.88861,
            3.592976,
            3.158195,
            -100
           ],
           "xaxis": "x",
           "y": [
            4.231875,
            2.106325,
            2.361667,
            4.384167,
            2.106325,
            2.681834,
            2.495833,
            2.7925,
            7.105,
            4.663333,
            6.288417,
            -100
           ],
           "yaxis": "y"
          },
          {
           "hovertemplate": "<b>%{hovertext}</b><br><br>Region=DM_Other<br>TIME=2004<br>Inflation Rate=%{x}<br>Nominal Interest Rate (3m T-Bill)=%{y}<br>size=%{marker.size}<extra></extra>",
           "hovertext": [
            "Norway",
            "Poland",
            "New Zealand",
            "South Korea",
            "Israel",
            "Australia"
           ],
           "ids": [
            "NOR",
            "POL",
            "NZL",
            "KOR",
            "ISR",
            "AUS"
           ],
           "legendgroup": "DM_Other",
           "marker": {
            "color": "#19d3f3",
            "size": [
             50,
             50,
             50,
             50,
             50,
             50
            ],
            "sizemode": "area",
            "sizeref": 0.16,
            "symbol": "circle"
           },
           "mode": "markers",
           "name": "DM_Other",
           "orientation": "v",
           "showlegend": true,
           "type": "scatter",
           "x": [
            0.4544985,
            3.491667,
            2.290249,
            3.590663,
            -0.3816378,
            2.343255
           ],
           "xaxis": "x",
           "y": [
            2.006667,
            6.243333,
            6.129167,
            3.7875,
            4.26229,
            5.478333
           ],
           "yaxis": "y"
          },
          {
           "hovertemplate": "<b>%{hovertext}</b><br><br>Region=DM_Europe<br>TIME=2004<br>Inflation Rate=%{x}<br>Nominal Interest Rate (3m T-Bill)=%{y}<br>size=%{marker.size}<extra></extra>",
           "hovertext": [
            "Denmark",
            "Belgium",
            "Portugal",
            "Sweden",
            "Netherlands",
            "Finland",
            "Austria",
            "Spain",
            "Luxembourg",
            "Switzerland"
           ],
           "ids": [
            "DNK",
            "BEL",
            "PRT",
            "SWE",
            "NLD",
            "FIN",
            "AUT",
            "ESP",
            "LUX",
            "CHE"
           ],
           "legendgroup": "DM_Europe",
           "marker": {
            "color": "#FF6692",
            "size": [
             50,
             50,
             50,
             50,
             50,
             50,
             50,
             50,
             50,
             50
            ],
            "sizemode": "area",
            "sizeref": 0.16,
            "symbol": "circle"
           },
           "mode": "markers",
           "name": "DM_Europe",
           "orientation": "v",
           "showlegend": true,
           "type": "scatter",
           "x": [
            1.154357,
            2.097283,
            2.365362,
            0.3736598,
            1.263647,
            0.1871234,
            2.061207,
            3.039249,
            2.225681,
            0.8029087
           ],
           "xaxis": "x",
           "y": [
            2.195047,
            2.106325,
            2.106325,
            2.114167,
            2.106325,
            2.106325,
            2.106325,
            2.106325,
            2.106325,
            0.3918192
           ],
           "yaxis": "y"
          }
         ],
         "layout": {
          "title": {
           "text": "2004 : South African Rand strengthens -  inflation rate hits lowest point in democratic era"
          }
         },
         "name": "2004"
        },
        {
         "data": [
          {
           "hovertemplate": "<b>%{hovertext}</b><br><br>Region=United States<br>TIME=2005<br>Inflation Rate=%{x}<br>Nominal Interest Rate (3m T-Bill)=%{y}<br>size=%{marker.size}<extra></extra>",
           "hovertext": [
            "United States"
           ],
           "ids": [
            "USA"
           ],
           "legendgroup": "United States",
           "marker": {
            "color": "#636efa",
            "size": [
             200
            ],
            "sizemode": "area",
            "sizeref": 0.16,
            "symbol": "circle"
           },
           "mode": "markers",
           "name": "United States",
           "orientation": "v",
           "showlegend": true,
           "type": "scatter",
           "x": [
            3.392747
           ],
           "xaxis": "x",
           "y": [
            3.511667
           ],
           "yaxis": "y"
          },
          {
           "hovertemplate": "<b>%{hovertext}</b><br><br>Region=South Africa<br>TIME=2005<br>Inflation Rate=%{x}<br>Nominal Interest Rate (3m T-Bill)=%{y}<br>size=%{marker.size}<extra></extra>",
           "hovertext": [
            "South Africa"
           ],
           "ids": [
            "ZAF"
           ],
           "legendgroup": "South Africa",
           "marker": {
            "color": "#EF553B",
            "size": [
             400
            ],
            "sizemode": "area",
            "sizeref": 0.16,
            "symbol": "circle"
           },
           "mode": "markers",
           "name": "South Africa",
           "orientation": "v",
           "showlegend": true,
           "type": "scatter",
           "x": [
            2.06285
           ],
           "xaxis": "x",
           "y": [
            6.905032
           ],
           "yaxis": "y"
          },
          {
           "hovertemplate": "<b>%{hovertext}</b><br><br>Region=G7_ex US<br>TIME=2005<br>Inflation Rate=%{x}<br>Nominal Interest Rate (3m T-Bill)=%{y}<br>size=%{marker.size}<extra></extra>",
           "hovertext": [
            "Germany",
            "United Kingdom",
            "Italy",
            "Japan",
            "Canada",
            "France"
           ],
           "ids": [
            "DEU",
            "GBR",
            "ITA",
            "JPN",
            "CAN",
            "FRA"
           ],
           "legendgroup": "G7_ex US",
           "marker": {
            "color": "#00cc96",
            "size": [
             50,
             50,
             50,
             50,
             50,
             50
            ],
            "sizemode": "area",
            "sizeref": 0.16,
            "symbol": "circle"
           },
           "mode": "markers",
           "name": "G7_ex US",
           "orientation": "v",
           "showlegend": true,
           "type": "scatter",
           "x": [
            1.546911,
            2.1,
            1.985294,
            -0.2833333,
            2.213552,
            1.745869
           ],
           "xaxis": "x",
           "y": [
            2.184675,
            4.760168,
            2.184675,
            0.09,
            2.806772,
            2.184675
           ],
           "yaxis": "y"
          },
          {
           "hovertemplate": "<b>%{hovertext}</b><br><br>Region=EM_Peer<br>TIME=2005<br>Inflation Rate=%{x}<br>Nominal Interest Rate (3m T-Bill)=%{y}<br>size=%{marker.size}<extra></extra>",
           "hovertext": [
            "Colombia",
            "Chile",
            "Mexico",
            "Indonesia",
            "Hungary",
            "India"
           ],
           "ids": [
            "COL",
            "CHL",
            "MEX",
            "IDN",
            "HUN",
            "IND"
           ],
           "legendgroup": "EM_Peer",
           "marker": {
            "color": "#ab63fa",
            "size": [
             100,
             100,
             100,
             100,
             100,
             100
            ],
            "sizemode": "area",
            "sizeref": 0.16,
            "symbol": "circle"
           },
           "mode": "markers",
           "name": "EM_Peer",
           "orientation": "v",
           "showlegend": true,
           "type": "scatter",
           "x": [
            5.051016,
            3.052574,
            3.988061,
            10.4532,
            -100,
            -100
           ],
           "xaxis": "x",
           "y": [
            7.014167,
            3.530833,
            9.631667,
            8.079166,
            -100,
            -100
           ],
           "yaxis": "y"
          },
          {
           "hovertemplate": "<b>%{hovertext}</b><br><br>Region=EM_Other<br>TIME=2005<br>Inflation Rate=%{x}<br>Nominal Interest Rate (3m T-Bill)=%{y}<br>size=%{marker.size}<extra></extra>",
           "hovertext": [
            "Ireland",
            "Greece",
            "Russia",
            "Latvia",
            "Slovenia",
            "Czech Republic",
            "China",
            "Estonia",
            "Lithuania",
            "Iceland",
            "Slovak Republic",
            "Costa Rica"
           ],
           "ids": [
            "IRL",
            "GRC",
            "RUS",
            "LVA",
            "SVN",
            "CZE",
            "CHN",
            "EST",
            "LTU",
            "ISL",
            "SVK",
            "CRI"
           ],
           "legendgroup": "EM_Other",
           "marker": {
            "color": "#FFA15A",
            "size": [
             50,
             50,
             50,
             50,
             50,
             50,
             50,
             50,
             50,
             50,
             50,
             50
            ],
            "sizemode": "area",
            "sizeref": 0.16,
            "symbol": "circle"
           },
           "mode": "markers",
           "name": "EM_Other",
           "orientation": "v",
           "showlegend": true,
           "type": "scatter",
           "x": [
            2.429692,
            3.545073,
            12.68531,
            6.748452,
            2.451501,
            1.857098,
            1.8,
            4.079714,
            2.658485,
            3.987048,
            2.709085,
            -100
           ],
           "xaxis": "x",
           "y": [
            2.184675,
            2.184675,
            5.8375,
            3.0725,
            4.034167,
            2.009167,
            1.8575,
            2.378333,
            2.428321,
            9.35875,
            2.643333,
            -100
           ],
           "yaxis": "y"
          },
          {
           "hovertemplate": "<b>%{hovertext}</b><br><br>Region=DM_Other<br>TIME=2005<br>Inflation Rate=%{x}<br>Nominal Interest Rate (3m T-Bill)=%{y}<br>size=%{marker.size}<extra></extra>",
           "hovertext": [
            "South Korea",
            "Poland",
            "Israel",
            "New Zealand",
            "Norway",
            "Australia"
           ],
           "ids": [
            "KOR",
            "POL",
            "ISR",
            "NZL",
            "NOR",
            "AUS"
           ],
           "legendgroup": "DM_Other",
           "marker": {
            "color": "#19d3f3",
            "size": [
             50,
             50,
             50,
             50,
             50,
             50
            ],
            "sizemode": "area",
            "sizeref": 0.16,
            "symbol": "circle"
           },
           "mode": "markers",
           "name": "DM_Other",
           "orientation": "v",
           "showlegend": true,
           "type": "scatter",
           "x": [
            2.753792,
            2.133333,
            1.313485,
            3.037021,
            1.532134,
            2.691832
           ],
           "xaxis": "x",
           "y": [
            3.649167,
            5.198333,
            3.88125,
            7.111667,
            2.211667,
            5.644166
           ],
           "yaxis": "y"
          },
          {
           "hovertemplate": "<b>%{hovertext}</b><br><br>Region=DM_Europe<br>TIME=2005<br>Inflation Rate=%{x}<br>Nominal Interest Rate (3m T-Bill)=%{y}<br>size=%{marker.size}<extra></extra>",
           "hovertext": [
            "Sweden",
            "Denmark",
            "Finland",
            "Netherlands",
            "Luxembourg",
            "Austria",
            "Belgium",
            "Spain",
            "Switzerland",
            "Portugal"
           ],
           "ids": [
            "SWE",
            "DNK",
            "FIN",
            "NLD",
            "LUX",
            "AUT",
            "BEL",
            "ESP",
            "CHE",
            "PRT"
           ],
           "legendgroup": "DM_Europe",
           "marker": {
            "color": "#FF6692",
            "size": [
             50,
             50,
             50,
             50,
             50,
             50,
             50,
             50,
             50,
             50
            ],
            "sizemode": "area",
            "sizeref": 0.16,
            "symbol": "circle"
           },
           "mode": "markers",
           "name": "DM_Europe",
           "orientation": "v",
           "showlegend": true,
           "type": "scatter",
           "x": [
            0.4531709,
            1.817815,
            0.6238712,
            1.68813,
            2.487693,
            2.299138,
            2.781433,
            3.368814,
            1.171954,
            2.277164
           ],
           "xaxis": "x",
           "y": [
            1.716667,
            2.224245,
            2.184675,
            2.184675,
            2.184675,
            2.184675,
            2.184675,
            2.184675,
            0.7244314,
            2.184675
           ],
           "yaxis": "y"
          }
         ],
         "layout": {
          "title": {
           "text": "2005 : Geopolitical uncertainties cause oil prices to rise - global inflation rises"
          }
         },
         "name": "2005"
        },
        {
         "data": [
          {
           "hovertemplate": "<b>%{hovertext}</b><br><br>Region=United States<br>TIME=2006<br>Inflation Rate=%{x}<br>Nominal Interest Rate (3m T-Bill)=%{y}<br>size=%{marker.size}<extra></extra>",
           "hovertext": [
            "United States"
           ],
           "ids": [
            "USA"
           ],
           "legendgroup": "United States",
           "marker": {
            "color": "#636efa",
            "size": [
             200
            ],
            "sizemode": "area",
            "sizeref": 0.16,
            "symbol": "circle"
           },
           "mode": "markers",
           "name": "United States",
           "orientation": "v",
           "showlegend": true,
           "type": "scatter",
           "x": [
            3.225944
           ],
           "xaxis": "x",
           "y": [
            5.153333
           ],
           "yaxis": "y"
          },
          {
           "hovertemplate": "<b>%{hovertext}</b><br><br>Region=South Africa<br>TIME=2006<br>Inflation Rate=%{x}<br>Nominal Interest Rate (3m T-Bill)=%{y}<br>size=%{marker.size}<extra></extra>",
           "hovertext": [
            "South Africa"
           ],
           "ids": [
            "ZAF"
           ],
           "legendgroup": "South Africa",
           "marker": {
            "color": "#EF553B",
            "size": [
             400
            ],
            "sizemode": "area",
            "sizeref": 0.16,
            "symbol": "circle"
           },
           "mode": "markers",
           "name": "South Africa",
           "orientation": "v",
           "showlegend": true,
           "type": "scatter",
           "x": [
            3.243906
           ],
           "xaxis": "x",
           "y": [
            7.338825
           ],
           "yaxis": "y"
          },
          {
           "hovertemplate": "<b>%{hovertext}</b><br><br>Region=G7_ex US<br>TIME=2006<br>Inflation Rate=%{x}<br>Nominal Interest Rate (3m T-Bill)=%{y}<br>size=%{marker.size}<extra></extra>",
           "hovertext": [
            "Japan",
            "United Kingdom",
            "Italy",
            "Germany",
            "Canada",
            "France"
           ],
           "ids": [
            "JPN",
            "GBR",
            "ITA",
            "DEU",
            "CAN",
            "FRA"
           ],
           "legendgroup": "G7_ex US",
           "marker": {
            "color": "#00cc96",
            "size": [
             50,
             50,
             50,
             50,
             50,
             50
            ],
            "sizemode": "area",
            "sizeref": 0.16,
            "symbol": "circle"
           },
           "mode": "markers",
           "name": "G7_ex US",
           "orientation": "v",
           "showlegend": true,
           "type": "scatter",
           "x": [
            0.2416667,
            2.5,
            2.090843,
            1.577429,
            2.002025,
            1.675125
           ],
           "xaxis": "x",
           "y": [
            0.324675,
            4.849209,
            3.079225,
            3.079225,
            4.177135,
            3.079225
           ],
           "yaxis": "y"
          },
          {
           "hovertemplate": "<b>%{hovertext}</b><br><br>Region=EM_Peer<br>TIME=2006<br>Inflation Rate=%{x}<br>Nominal Interest Rate (3m T-Bill)=%{y}<br>size=%{marker.size}<extra></extra>",
           "hovertext": [
            "Chile",
            "Indonesia",
            "Mexico",
            "Colombia",
            "Hungary",
            "India"
           ],
           "ids": [
            "CHL",
            "IDN",
            "MEX",
            "COL",
            "HUN",
            "IND"
           ],
           "legendgroup": "EM_Peer",
           "marker": {
            "color": "#ab63fa",
            "size": [
             100,
             100,
             100,
             100,
             100,
             100
            ],
            "sizemode": "area",
            "sizeref": 0.16,
            "symbol": "circle"
           },
           "mode": "markers",
           "name": "EM_Peer",
           "orientation": "v",
           "showlegend": true,
           "type": "scatter",
           "x": [
            3.392019,
            13.10867,
            3.629463,
            4.293426,
            -100,
            -100
           ],
           "xaxis": "x",
           "y": [
            4.825833,
            11.41083,
            7.69,
            6.274167,
            -100,
            -100
           ],
           "yaxis": "y"
          },
          {
           "hovertemplate": "<b>%{hovertext}</b><br><br>Region=EM_Other<br>TIME=2006<br>Inflation Rate=%{x}<br>Nominal Interest Rate (3m T-Bill)=%{y}<br>size=%{marker.size}<extra></extra>",
           "hovertext": [
            "Lithuania",
            "Latvia",
            "Iceland",
            "China",
            "Slovenia",
            "Estonia",
            "Slovak Republic",
            "Czech Republic",
            "Russia",
            "Greece",
            "Ireland",
            "Costa Rica"
           ],
           "ids": [
            "LTU",
            "LVA",
            "ISL",
            "CHN",
            "SVN",
            "EST",
            "SVK",
            "CZE",
            "RUS",
            "GRC",
            "IRL",
            "CRI"
           ],
           "legendgroup": "EM_Other",
           "marker": {
            "color": "#FFA15A",
            "size": [
             50,
             50,
             50,
             50,
             50,
             50,
             50,
             50,
             50,
             50,
             50,
             50
            ],
            "sizemode": "area",
            "sizeref": 0.16,
            "symbol": "circle"
           },
           "mode": "markers",
           "name": "EM_Other",
           "orientation": "v",
           "showlegend": true,
           "type": "scatter",
           "x": [
            3.73912,
            6.536199,
            6.687074,
            1.5,
            2.457924,
            4.437621,
            4.483331,
            2.533993,
            9.668655,
            3.195946,
            3.93164,
            -100
           ],
           "xaxis": "x",
           "y": [
            3.108458,
            4.371666,
            12.35417,
            2.536364,
            3.580833,
            3.160833,
            4.0825,
            2.3,
            6.035,
            3.079225,
            3.079225,
            -100
           ],
           "yaxis": "y"
          },
          {
           "hovertemplate": "<b>%{hovertext}</b><br><br>Region=DM_Other<br>TIME=2006<br>Inflation Rate=%{x}<br>Nominal Interest Rate (3m T-Bill)=%{y}<br>size=%{marker.size}<extra></extra>",
           "hovertext": [
            "Norway",
            "Israel",
            "New Zealand",
            "Australia",
            "Poland",
            "South Korea"
           ],
           "ids": [
            "NOR",
            "ISR",
            "NZL",
            "AUS",
            "POL",
            "KOR"
           ],
           "legendgroup": "DM_Other",
           "marker": {
            "color": "#19d3f3",
            "size": [
             50,
             50,
             50,
             50,
             50,
             50
            ],
            "sizemode": "area",
            "sizeref": 0.16,
            "symbol": "circle"
           },
           "mode": "markers",
           "name": "DM_Other",
           "orientation": "v",
           "showlegend": true,
           "type": "scatter",
           "x": [
            2.32935,
            2.063526,
            3.365404,
            3.555288,
            1.033333,
            2.24234
           ],
           "xaxis": "x",
           "y": [
            3.099167,
            5.462432,
            7.545833,
            5.988333,
            4.200833,
            4.475833
           ],
           "yaxis": "y"
          },
          {
           "hovertemplate": "<b>%{hovertext}</b><br><br>Region=DM_Europe<br>TIME=2006<br>Inflation Rate=%{x}<br>Nominal Interest Rate (3m T-Bill)=%{y}<br>size=%{marker.size}<extra></extra>",
           "hovertext": [
            "Denmark",
            "Finland",
            "Belgium",
            "Netherlands",
            "Switzerland",
            "Luxembourg",
            "Spain",
            "Austria",
            "Portugal",
            "Sweden"
           ],
           "ids": [
            "DNK",
            "FIN",
            "BEL",
            "NLD",
            "CHE",
            "LUX",
            "ESP",
            "AUT",
            "PRT",
            "SWE"
           ],
           "legendgroup": "DM_Europe",
           "marker": {
            "color": "#FF6692",
            "size": [
             50,
             50,
             50,
             50,
             50,
             50,
             50,
             50,
             50,
             50
            ],
            "sizemode": "area",
            "sizeref": 0.16,
            "symbol": "circle"
           },
           "mode": "markers",
           "name": "DM_Europe",
           "orientation": "v",
           "showlegend": true,
           "type": "scatter",
           "x": [
            1.924221,
            1.566667,
            1.791208,
            1.101501,
            1.059509,
            2.666315,
            3.515576,
            1.441547,
            3.107666,
            1.360215
           ],
           "xaxis": "x",
           "y": [
            3.180477,
            3.079225,
            3.079225,
            3.079225,
            1.456766,
            3.079225,
            3.079225,
            3.079225,
            3.079225,
            2.331667
           ],
           "yaxis": "y"
          }
         ],
         "layout": {
          "title": {
           "text": "2006 : Global growth moderates, with the US economy being the main engine for economic growth"
          }
         },
         "name": "2006"
        },
        {
         "data": [
          {
           "hovertemplate": "<b>%{hovertext}</b><br><br>Region=United States<br>TIME=2007<br>Inflation Rate=%{x}<br>Nominal Interest Rate (3m T-Bill)=%{y}<br>size=%{marker.size}<extra></extra>",
           "hovertext": [
            "United States"
           ],
           "ids": [
            "USA"
           ],
           "legendgroup": "United States",
           "marker": {
            "color": "#636efa",
            "size": [
             200
            ],
            "sizemode": "area",
            "sizeref": 0.16,
            "symbol": "circle"
           },
           "mode": "markers",
           "name": "United States",
           "orientation": "v",
           "showlegend": true,
           "type": "scatter",
           "x": [
            2.852673
           ],
           "xaxis": "x",
           "y": [
            5.268333
           ],
           "yaxis": "y"
          },
          {
           "hovertemplate": "<b>%{hovertext}</b><br><br>Region=South Africa<br>TIME=2007<br>Inflation Rate=%{x}<br>Nominal Interest Rate (3m T-Bill)=%{y}<br>size=%{marker.size}<extra></extra>",
           "hovertext": [
            "South Africa"
           ],
           "ids": [
            "ZAF"
           ],
           "legendgroup": "South Africa",
           "marker": {
            "color": "#EF553B",
            "size": [
             400
            ],
            "sizemode": "area",
            "sizeref": 0.16,
            "symbol": "circle"
           },
           "mode": "markers",
           "name": "South Africa",
           "orientation": "v",
           "showlegend": true,
           "type": "scatter",
           "x": [
            6.177805
           ],
           "xaxis": "x",
           "y": [
            9.113696
           ],
           "yaxis": "y"
          },
          {
           "hovertemplate": "<b>%{hovertext}</b><br><br>Region=G7_ex US<br>TIME=2007<br>Inflation Rate=%{x}<br>Nominal Interest Rate (3m T-Bill)=%{y}<br>size=%{marker.size}<extra></extra>",
           "hovertext": [
            "Italy",
            "Canada",
            "Japan",
            "Germany",
            "France",
            "United Kingdom"
           ],
           "ids": [
            "ITA",
            "CAN",
            "JPN",
            "DEU",
            "FRA",
            "GBR"
           ],
           "legendgroup": "G7_ex US",
           "marker": {
            "color": "#00cc96",
            "size": [
             50,
             50,
             50,
             50,
             50,
             50
            ],
            "sizemode": "area",
            "sizeref": 0.16,
            "symbol": "circle"
           },
           "mode": "markers",
           "name": "G7_ex US",
           "orientation": "v",
           "showlegend": true,
           "type": "scatter",
           "x": [
            1.829738,
            2.138384,
            0.05833333,
            2.298341,
            1.487998,
            2.4
           ],
           "xaxis": "x",
           "y": [
            4.277608,
            4.625115,
            0.7458333,
            4.277608,
            4.277608,
            6.002207
           ],
           "yaxis": "y"
          },
          {
           "hovertemplate": "<b>%{hovertext}</b><br><br>Region=EM_Peer<br>TIME=2007<br>Inflation Rate=%{x}<br>Nominal Interest Rate (3m T-Bill)=%{y}<br>size=%{marker.size}<extra></extra>",
           "hovertext": [
            "Colombia",
            "Chile",
            "Mexico",
            "Indonesia",
            "Hungary",
            "India"
           ],
           "ids": [
            "COL",
            "CHL",
            "MEX",
            "IDN",
            "HUN",
            "IND"
           ],
           "legendgroup": "EM_Peer",
           "marker": {
            "color": "#ab63fa",
            "size": [
             100,
             100,
             100,
             100,
             100,
             100
            ],
            "sizemode": "area",
            "sizeref": 0.16,
            "symbol": "circle"
           },
           "mode": "markers",
           "name": "EM_Peer",
           "orientation": "v",
           "showlegend": true,
           "type": "scatter",
           "x": [
            5.544385,
            4.407798,
            3.96685,
            6.406562,
            -100,
            -100
           ],
           "xaxis": "x",
           "y": [
            8.014167,
            5.179167,
            7.784167,
            7.975833,
            -100,
            -100
           ],
           "yaxis": "y"
          },
          {
           "hovertemplate": "<b>%{hovertext}</b><br><br>Region=EM_Other<br>TIME=2007<br>Inflation Rate=%{x}<br>Nominal Interest Rate (3m T-Bill)=%{y}<br>size=%{marker.size}<extra></extra>",
           "hovertext": [
            "Slovenia",
            "Czech Republic",
            "Estonia",
            "China",
            "Greece",
            "Latvia",
            "Lithuania",
            "Ireland",
            "Iceland",
            "Slovak Republic",
            "Russia",
            "Costa Rica"
           ],
           "ids": [
            "SVN",
            "CZE",
            "EST",
            "CHN",
            "GRC",
            "LVA",
            "LTU",
            "IRL",
            "ISL",
            "SVK",
            "RUS",
            "CRI"
           ],
           "legendgroup": "EM_Other",
           "marker": {
            "color": "#FFA15A",
            "size": [
             50,
             50,
             50,
             50,
             50,
             50,
             50,
             50,
             50,
             50,
             50,
             50
            ],
            "sizemode": "area",
            "sizeref": 0.16,
            "symbol": "circle"
           },
           "mode": "markers",
           "name": "EM_Other",
           "orientation": "v",
           "showlegend": true,
           "type": "scatter",
           "x": [
            3.657496,
            2.853124,
            6.601326,
            4.8,
            2.895001,
            10.09298,
            5.737174,
            4.897116,
            5.051564,
            2.756724,
            9.007296,
            -100
           ],
           "xaxis": "x",
           "y": [
            4.277608,
            3.0975,
            4.87,
            3.511667,
            4.277608,
            8.671667,
            5.103236,
            4.277608,
            14.29067,
            4.025,
            6.660833,
            -100
           ],
           "yaxis": "y"
          },
          {
           "hovertemplate": "<b>%{hovertext}</b><br><br>Region=DM_Other<br>TIME=2007<br>Inflation Rate=%{x}<br>Nominal Interest Rate (3m T-Bill)=%{y}<br>size=%{marker.size}<extra></extra>",
           "hovertext": [
            "Norway",
            "New Zealand",
            "Australia",
            "Israel",
            "South Korea",
            "Poland"
           ],
           "ids": [
            "NOR",
            "NZL",
            "AUS",
            "ISR",
            "KOR",
            "POL"
           ],
           "legendgroup": "DM_Other",
           "marker": {
            "color": "#19d3f3",
            "size": [
             50,
             50,
             50,
             50,
             50,
             50
            ],
            "sizemode": "area",
            "sizeref": 0.16,
            "symbol": "circle"
           },
           "mode": "markers",
           "name": "DM_Other",
           "orientation": "v",
           "showlegend": true,
           "type": "scatter",
           "x": [
            0.7125891,
            2.376143,
            2.327611,
            0.455171,
            2.534574,
            2.491667
           ],
           "xaxis": "x",
           "y": [
            4.9575,
            8.333333,
            6.6675,
            4.255372,
            5.160833,
            4.769583
           ],
           "yaxis": "y"
          },
          {
           "hovertemplate": "<b>%{hovertext}</b><br><br>Region=DM_Europe<br>TIME=2007<br>Inflation Rate=%{x}<br>Nominal Interest Rate (3m T-Bill)=%{y}<br>size=%{marker.size}<extra></extra>",
           "hovertext": [
            "Spain",
            "Luxembourg",
            "Austria",
            "Switzerland",
            "Netherlands",
            "Portugal",
            "Sweden",
            "Belgium",
            "Denmark",
            "Finland"
           ],
           "ids": [
            "ESP",
            "LUX",
            "AUT",
            "CHE",
            "NLD",
            "PRT",
            "SWE",
            "BEL",
            "DNK",
            "FIN"
           ],
           "legendgroup": "DM_Europe",
           "marker": {
            "color": "#FF6692",
            "size": [
             50,
             50,
             50,
             50,
             50,
             50,
             50,
             50,
             50,
             50
            ],
            "sizemode": "area",
            "sizeref": 0.16,
            "symbol": "circle"
           },
           "mode": "markers",
           "name": "DM_Europe",
           "orientation": "v",
           "showlegend": true,
           "type": "scatter",
           "x": [
            2.786798,
            2.312459,
            2.168556,
            0.7323506,
            1.613859,
            2.453965,
            2.212169,
            1.823056,
            1.693266,
            2.510666
           ],
           "xaxis": "x",
           "y": [
            4.277608,
            4.277608,
            4.277608,
            2.352159,
            4.277608,
            4.277608,
            3.5525,
            4.277608,
            4.441652,
            4.277608
           ],
           "yaxis": "y"
          }
         ],
         "layout": {
          "title": {
           "text": "2007 : US Subprime Mortage crisis begins and signs of economic strain begin to emerge"
          }
         },
         "name": "2007"
        },
        {
         "data": [
          {
           "hovertemplate": "<b>%{hovertext}</b><br><br>Region=United States<br>TIME=2008<br>Inflation Rate=%{x}<br>Nominal Interest Rate (3m T-Bill)=%{y}<br>size=%{marker.size}<extra></extra>",
           "hovertext": [
            "United States"
           ],
           "ids": [
            "USA"
           ],
           "legendgroup": "United States",
           "marker": {
            "color": "#636efa",
            "size": [
             200
            ],
            "sizemode": "area",
            "sizeref": 0.16,
            "symbol": "circle"
           },
           "mode": "markers",
           "name": "United States",
           "orientation": "v",
           "showlegend": true,
           "type": "scatter",
           "x": [
            3.8391
           ],
           "xaxis": "x",
           "y": [
            2.965
           ],
           "yaxis": "y"
          },
          {
           "hovertemplate": "<b>%{hovertext}</b><br><br>Region=South Africa<br>TIME=2008<br>Inflation Rate=%{x}<br>Nominal Interest Rate (3m T-Bill)=%{y}<br>size=%{marker.size}<extra></extra>",
           "hovertext": [
            "South Africa"
           ],
           "ids": [
            "ZAF"
           ],
           "legendgroup": "South Africa",
           "marker": {
            "color": "#EF553B",
            "size": [
             400
            ],
            "sizemode": "area",
            "sizeref": 0.16,
            "symbol": "circle"
           },
           "mode": "markers",
           "name": "South Africa",
           "orientation": "v",
           "showlegend": true,
           "type": "scatter",
           "x": [
            10.07458
           ],
           "xaxis": "x",
           "y": [
            10.80735
           ],
           "yaxis": "y"
          },
          {
           "hovertemplate": "<b>%{hovertext}</b><br><br>Region=G7_ex US<br>TIME=2008<br>Inflation Rate=%{x}<br>Nominal Interest Rate (3m T-Bill)=%{y}<br>size=%{marker.size}<extra></extra>",
           "hovertext": [
            "United Kingdom",
            "Italy",
            "Germany",
            "Japan",
            "Canada",
            "France"
           ],
           "ids": [
            "GBR",
            "ITA",
            "DEU",
            "JPN",
            "CAN",
            "FRA"
           ],
           "legendgroup": "G7_ex US",
           "marker": {
            "color": "#00cc96",
            "size": [
             50,
             50,
             50,
             50,
             50,
             50
            ],
            "sizemode": "area",
            "sizeref": 0.16,
            "symbol": "circle"
           },
           "mode": "markers",
           "name": "G7_ex US",
           "orientation": "v",
           "showlegend": true,
           "type": "scatter",
           "x": [
            3.5,
            3.347834,
            2.628383,
            1.383333,
            2.370271,
            2.812862
           ],
           "xaxis": "x",
           "y": [
            5.511412,
            4.634233,
            4.634233,
            0.8466667,
            3.340618,
            4.634233
           ],
           "yaxis": "y"
          },
          {
           "hovertemplate": "<b>%{hovertext}</b><br><br>Region=EM_Peer<br>TIME=2008<br>Inflation Rate=%{x}<br>Nominal Interest Rate (3m T-Bill)=%{y}<br>size=%{marker.size}<extra></extra>",
           "hovertext": [
            "Indonesia",
            "Mexico",
            "Chile",
            "Colombia",
            "Hungary",
            "India"
           ],
           "ids": [
            "IDN",
            "MEX",
            "CHL",
            "COL",
            "HUN",
            "IND"
           ],
           "legendgroup": "EM_Peer",
           "marker": {
            "color": "#ab63fa",
            "size": [
             100,
             100,
             100,
             100,
             100,
             100
            ],
            "sizemode": "area",
            "sizeref": 0.16,
            "symbol": "circle"
           },
           "mode": "markers",
           "name": "EM_Peer",
           "orientation": "v",
           "showlegend": true,
           "type": "scatter",
           "x": [
            10.22667,
            5.124982,
            8.716269,
            6.996882,
            6.042512,
            -100
           ],
           "xaxis": "x",
           "y": [
            8.4925,
            8.3525,
            7.236667,
            9.741667,
            9.019226,
            -100
           ],
           "yaxis": "y"
          },
          {
           "hovertemplate": "<b>%{hovertext}</b><br><br>Region=EM_Other<br>TIME=2008<br>Inflation Rate=%{x}<br>Nominal Interest Rate (3m T-Bill)=%{y}<br>size=%{marker.size}<extra></extra>",
           "hovertext": [
            "Slovak Republic",
            "Ireland",
            "Slovenia",
            "Lithuania",
            "Greece",
            "Iceland",
            "Latvia",
            "Russia",
            "Czech Republic",
            "Estonia",
            "China",
            "Costa Rica"
           ],
           "ids": [
            "SVK",
            "IRL",
            "SVN",
            "LTU",
            "GRC",
            "ISL",
            "LVA",
            "RUS",
            "CZE",
            "EST",
            "CHN",
            "CRI"
           ],
           "legendgroup": "EM_Other",
           "marker": {
            "color": "#FFA15A",
            "size": [
             50,
             50,
             50,
             50,
             50,
             50,
             50,
             50,
             50,
             50,
             50,
             50
            ],
            "sizemode": "area",
            "sizeref": 0.16,
            "symbol": "circle"
           },
           "mode": "markers",
           "name": "EM_Other",
           "orientation": "v",
           "showlegend": true,
           "type": "scatter",
           "x": [
            4.59818,
            4.060305,
            5.647424,
            10.92589,
            4.152796,
            12.6944,
            15.40232,
            14.11077,
            6.358664,
            10.36236,
            5.9,
            -100
           ],
           "xaxis": "x",
           "y": [
            3.854167,
            4.634233,
            4.634233,
            6.039039,
            4.634233,
            15.82383,
            7.989167,
            10.77167,
            4.0375,
            6.664166,
            4.033333,
            -100
           ],
           "yaxis": "y"
          },
          {
           "hovertemplate": "<b>%{hovertext}</b><br><br>Region=DM_Other<br>TIME=2008<br>Inflation Rate=%{x}<br>Nominal Interest Rate (3m T-Bill)=%{y}<br>size=%{marker.size}<extra></extra>",
           "hovertext": [
            "South Korea",
            "Israel",
            "Poland",
            "New Zealand",
            "Australia",
            "Norway"
           ],
           "ids": [
            "KOR",
            "ISR",
            "POL",
            "NZL",
            "AUS",
            "NOR"
           ],
           "legendgroup": "DM_Other",
           "marker": {
            "color": "#19d3f3",
            "size": [
             50,
             50,
             50,
             50,
             50,
             50
            ],
            "sizemode": "area",
            "sizeref": 0.16,
            "symbol": "circle"
           },
           "mode": "markers",
           "name": "DM_Other",
           "orientation": "v",
           "showlegend": true,
           "type": "scatter",
           "x": [
            4.673897,
            4.55216,
            4.216667,
            3.958944,
            4.350298,
            3.753931
           ],
           "xaxis": "x",
           "y": [
            5.4875,
            3.561983,
            6.349167,
            8.021667,
            6.973333,
            6.218333
           ],
           "yaxis": "y"
          },
          {
           "hovertemplate": "<b>%{hovertext}</b><br><br>Region=DM_Europe<br>TIME=2008<br>Inflation Rate=%{x}<br>Nominal Interest Rate (3m T-Bill)=%{y}<br>size=%{marker.size}<extra></extra>",
           "hovertext": [
            "Austria",
            "Belgium",
            "Spain",
            "Sweden",
            "Denmark",
            "Finland",
            "Netherlands",
            "Portugal",
            "Switzerland",
            "Luxembourg"
           ],
           "ids": [
            "AUT",
            "BEL",
            "ESP",
            "SWE",
            "DNK",
            "FIN",
            "NLD",
            "PRT",
            "CHE",
            "LUX"
           ],
           "legendgroup": "DM_Europe",
           "marker": {
            "color": "#FF6692",
            "size": [
             50,
             50,
             50,
             50,
             50,
             50,
             50,
             50,
             50,
             50
            ],
            "sizemode": "area",
            "sizeref": 0.16,
            "symbol": "circle"
           },
           "mode": "markers",
           "name": "DM_Europe",
           "orientation": "v",
           "showlegend": true,
           "type": "scatter",
           "x": [
            3.215951,
            4.489444,
            4.075343,
            3.437049,
            3.416268,
            4.065952,
            2.486502,
            2.588506,
            2.426041,
            3.40188
           ],
           "xaxis": "x",
           "y": [
            4.634233,
            4.634233,
            4.634233,
            3.905,
            5.262557,
            4.634233,
            4.634233,
            4.634233,
            1.747376,
            4.634233
           ],
           "yaxis": "y"
          }
         ],
         "layout": {
          "title": {
           "text": "2008 : Global financial crisis echoes the 1930's Great Depression"
          }
         },
         "name": "2008"
        },
        {
         "data": [
          {
           "hovertemplate": "<b>%{hovertext}</b><br><br>Region=United States<br>TIME=2009<br>Inflation Rate=%{x}<br>Nominal Interest Rate (3m T-Bill)=%{y}<br>size=%{marker.size}<extra></extra>",
           "hovertext": [
            "United States"
           ],
           "ids": [
            "USA"
           ],
           "legendgroup": "United States",
           "marker": {
            "color": "#636efa",
            "size": [
             200
            ],
            "sizemode": "area",
            "sizeref": 0.16,
            "symbol": "circle"
           },
           "mode": "markers",
           "name": "United States",
           "orientation": "v",
           "showlegend": true,
           "type": "scatter",
           "x": [
            -0.3555463
           ],
           "xaxis": "x",
           "y": [
            0.5558333
           ],
           "yaxis": "y"
          },
          {
           "hovertemplate": "<b>%{hovertext}</b><br><br>Region=South Africa<br>TIME=2009<br>Inflation Rate=%{x}<br>Nominal Interest Rate (3m T-Bill)=%{y}<br>size=%{marker.size}<extra></extra>",
           "hovertext": [
            "South Africa"
           ],
           "ids": [
            "ZAF"
           ],
           "legendgroup": "South Africa",
           "marker": {
            "color": "#EF553B",
            "size": [
             400
            ],
            "sizemode": "area",
            "sizeref": 0.16,
            "symbol": "circle"
           },
           "mode": "markers",
           "name": "South Africa",
           "orientation": "v",
           "showlegend": true,
           "type": "scatter",
           "x": [
            7.215314
           ],
           "xaxis": "x",
           "y": [
            7.848801
           ],
           "yaxis": "y"
          },
          {
           "hovertemplate": "<b>%{hovertext}</b><br><br>Region=G7_ex US<br>TIME=2009<br>Inflation Rate=%{x}<br>Nominal Interest Rate (3m T-Bill)=%{y}<br>size=%{marker.size}<extra></extra>",
           "hovertext": [
            "France",
            "Italy",
            "United Kingdom",
            "Canada",
            "Germany",
            "Japan"
           ],
           "ids": [
            "FRA",
            "ITA",
            "GBR",
            "CAN",
            "DEU",
            "JPN"
           ],
           "legendgroup": "G7_ex US",
           "marker": {
            "color": "#00cc96",
            "size": [
             50,
             50,
             50,
             50,
             50,
             50
            ],
            "sizemode": "area",
            "sizeref": 0.16,
            "symbol": "circle"
           },
           "mode": "markers",
           "name": "G7_ex US",
           "orientation": "v",
           "showlegend": true,
           "type": "scatter",
           "x": [
            0.08762048,
            0.7747682,
            2,
            0.2994668,
            0.3127377,
            -1.341667
           ],
           "xaxis": "x",
           "y": [
            1.228358,
            1.228358,
            1.213653,
            0.6938224,
            1.228358,
            0.5783333
           ],
           "yaxis": "y"
          },
          {
           "hovertemplate": "<b>%{hovertext}</b><br><br>Region=EM_Peer<br>TIME=2009<br>Inflation Rate=%{x}<br>Nominal Interest Rate (3m T-Bill)=%{y}<br>size=%{marker.size}<extra></extra>",
           "hovertext": [
            "Chile",
            "Colombia",
            "Mexico",
            "Indonesia",
            "Hungary",
            "India"
           ],
           "ids": [
            "CHL",
            "COL",
            "MEX",
            "IDN",
            "HUN",
            "IND"
           ],
           "legendgroup": "EM_Peer",
           "marker": {
            "color": "#ab63fa",
            "size": [
             100,
             100,
             100,
             100,
             100,
             100
            ],
            "sizemode": "area",
            "sizeref": 0.16,
            "symbol": "circle"
           },
           "mode": "markers",
           "name": "EM_Peer",
           "orientation": "v",
           "showlegend": true,
           "type": "scatter",
           "x": [
            0.3530467,
            4.202518,
            5.297357,
            4.386416,
            -100,
            -100
           ],
           "xaxis": "x",
           "y": [
            1.746667,
            6.144166,
            5.929167,
            9.278334,
            -100,
            -100
           ],
           "yaxis": "y"
          },
          {
           "hovertemplate": "<b>%{hovertext}</b><br><br>Region=EM_Other<br>TIME=2009<br>Inflation Rate=%{x}<br>Nominal Interest Rate (3m T-Bill)=%{y}<br>size=%{marker.size}<extra></extra>",
           "hovertext": [
            "Slovak Republic",
            "Ireland",
            "Greece",
            "Czech Republic",
            "China",
            "Estonia",
            "Slovenia",
            "Lithuania",
            "Russia",
            "Iceland",
            "Latvia",
            "Costa Rica"
           ],
           "ids": [
            "SVK",
            "IRL",
            "GRC",
            "CZE",
            "CHN",
            "EST",
            "SVN",
            "LTU",
            "RUS",
            "ISL",
            "LVA",
            "CRI"
           ],
           "legendgroup": "EM_Other",
           "marker": {
            "color": "#FFA15A",
            "size": [
             50,
             50,
             50,
             50,
             50,
             50,
             50,
             50,
             50,
             50,
             50,
             50
            ],
            "sizemode": "area",
            "sizeref": 0.16,
            "symbol": "circle"
           },
           "mode": "markers",
           "name": "EM_Other",
           "orientation": "v",
           "showlegend": true,
           "type": "scatter",
           "x": [
            1.615105,
            -4.478103,
            1.210074,
            1.019377,
            -0.7,
            -0.07840831,
            0.8392622,
            4.453044,
            11.64733,
            12.00312,
            3.534107,
            -100
           ],
           "xaxis": "x",
           "y": [
            1.228358,
            1.228358,
            1.228358,
            2.191667,
            1.585833,
            5.926667,
            1.228358,
            7.06797,
            13.05,
            11.28167,
            13.08417,
            -100
           ],
           "yaxis": "y"
          },
          {
           "hovertemplate": "<b>%{hovertext}</b><br><br>Region=DM_Other<br>TIME=2009<br>Inflation Rate=%{x}<br>Nominal Interest Rate (3m T-Bill)=%{y}<br>size=%{marker.size}<extra></extra>",
           "hovertext": [
            "Australia",
            "Norway",
            "Poland",
            "South Korea",
            "New Zealand",
            "Israel"
           ],
           "ids": [
            "AUS",
            "NOR",
            "POL",
            "KOR",
            "NZL",
            "ISR"
           ],
           "legendgroup": "DM_Other",
           "marker": {
            "color": "#19d3f3",
            "size": [
             50,
             50,
             50,
             50,
             50,
             50
            ],
            "sizemode": "area",
            "sizeref": 0.16,
            "symbol": "circle"
           },
           "mode": "markers",
           "name": "DM_Other",
           "orientation": "v",
           "showlegend": true,
           "type": "scatter",
           "x": [
            1.771117,
            2.197386,
            3.45,
            2.756496,
            2.115656,
            3.356178
           ],
           "xaxis": "x",
           "y": [
            3.434167,
            2.463333,
            4.339167,
            2.628333,
            3.035833,
            0.6394031
           ],
           "yaxis": "y"
          },
          {
           "hovertemplate": "<b>%{hovertext}</b><br><br>Region=DM_Europe<br>TIME=2009<br>Inflation Rate=%{x}<br>Nominal Interest Rate (3m T-Bill)=%{y}<br>size=%{marker.size}<extra></extra>",
           "hovertext": [
            "Spain",
            "Switzerland",
            "Sweden",
            "Portugal",
            "Belgium",
            "Luxembourg",
            "Austria",
            "Netherlands",
            "Finland",
            "Denmark"
           ],
           "ids": [
            "ESP",
            "CHE",
            "SWE",
            "PRT",
            "BEL",
            "LUX",
            "AUT",
            "NLD",
            "FIN",
            "DNK"
           ],
           "legendgroup": "DM_Europe",
           "marker": {
            "color": "#FF6692",
            "size": [
             50,
             50,
             50,
             50,
             50,
             50,
             50,
             50,
             50,
             50
            ],
            "sizemode": "area",
            "sizeref": 0.16,
            "symbol": "circle"
           },
           "mode": "markers",
           "name": "DM_Europe",
           "orientation": "v",
           "showlegend": true,
           "type": "scatter",
           "x": [
            -0.2878131,
            -0.4804819,
            -0.4944606,
            -0.83553,
            -0.05314567,
            0.368042,
            0.5063094,
            1.189777,
            -1.22217e-14,
            1.30471
           ],
           "xaxis": "x",
           "y": [
            1.228358,
            0.09388217,
            0.3983333,
            1.228358,
            1.228358,
            1.228358,
            1.228358,
            1.228358,
            1.228358,
            2.499274
           ],
           "yaxis": "y"
          }
         ],
         "layout": {
          "title": {
           "text": "2009 : Widespread rate cuts and the emergence of negative interest rates"
          }
         },
         "name": "2009"
        },
        {
         "data": [
          {
           "hovertemplate": "<b>%{hovertext}</b><br><br>Region=United States<br>TIME=2010<br>Inflation Rate=%{x}<br>Nominal Interest Rate (3m T-Bill)=%{y}<br>size=%{marker.size}<extra></extra>",
           "hovertext": [
            "United States"
           ],
           "ids": [
            "USA"
           ],
           "legendgroup": "United States",
           "marker": {
            "color": "#636efa",
            "size": [
             200
            ],
            "sizemode": "area",
            "sizeref": 0.16,
            "symbol": "circle"
           },
           "mode": "markers",
           "name": "United States",
           "orientation": "v",
           "showlegend": true,
           "type": "scatter",
           "x": [
            1.640043
           ],
           "xaxis": "x",
           "y": [
            0.3116667
           ],
           "yaxis": "y"
          },
          {
           "hovertemplate": "<b>%{hovertext}</b><br><br>Region=South Africa<br>TIME=2010<br>Inflation Rate=%{x}<br>Nominal Interest Rate (3m T-Bill)=%{y}<br>size=%{marker.size}<extra></extra>",
           "hovertext": [
            "South Africa"
           ],
           "ids": [
            "ZAF"
           ],
           "legendgroup": "South Africa",
           "marker": {
            "color": "#EF553B",
            "size": [
             400
            ],
            "sizemode": "area",
            "sizeref": 0.16,
            "symbol": "circle"
           },
           "mode": "markers",
           "name": "South Africa",
           "orientation": "v",
           "showlegend": true,
           "type": "scatter",
           "x": [
            4.08973
           ],
           "xaxis": "x",
           "y": [
            6.419063
           ],
           "yaxis": "y"
          },
          {
           "hovertemplate": "<b>%{hovertext}</b><br><br>Region=G7_ex US<br>TIME=2010<br>Inflation Rate=%{x}<br>Nominal Interest Rate (3m T-Bill)=%{y}<br>size=%{marker.size}<extra></extra>",
           "hovertext": [
            "Germany",
            "Japan",
            "Canada",
            "France",
            "United Kingdom",
            "Italy"
           ],
           "ids": [
            "DEU",
            "JPN",
            "CAN",
            "FRA",
            "GBR",
            "ITA"
           ],
           "legendgroup": "G7_ex US",
           "marker": {
            "color": "#00cc96",
            "size": [
             50,
             50,
             50,
             50,
             50,
             50
            ],
            "sizemode": "area",
            "sizeref": 0.16,
            "symbol": "circle"
           },
           "mode": "markers",
           "name": "G7_ex US",
           "orientation": "v",
           "showlegend": true,
           "type": "scatter",
           "x": [
            1.103809,
            -0.7,
            1.776872,
            1.531123,
            2.5,
            1.525516
           ],
           "xaxis": "x",
           "y": [
            0.81095,
            0.3833333,
            0.7758598,
            0.81095,
            0.6997741,
            0.81095
           ],
           "yaxis": "y"
          },
          {
           "hovertemplate": "<b>%{hovertext}</b><br><br>Region=EM_Peer<br>TIME=2010<br>Inflation Rate=%{x}<br>Nominal Interest Rate (3m T-Bill)=%{y}<br>size=%{marker.size}<extra></extra>",
           "hovertext": [
            "Chile",
            "Colombia",
            "Indonesia",
            "Hungary",
            "Mexico",
            "India"
           ],
           "ids": [
            "CHL",
            "COL",
            "IDN",
            "HUN",
            "MEX",
            "IND"
           ],
           "legendgroup": "EM_Peer",
           "marker": {
            "color": "#ab63fa",
            "size": [
             100,
             100,
             100,
             100,
             100,
             100
            ],
            "sizemode": "area",
            "sizeref": 0.16,
            "symbol": "circle"
           },
           "mode": "markers",
           "name": "EM_Peer",
           "orientation": "v",
           "showlegend": true,
           "type": "scatter",
           "x": [
            1.410711,
            2.272003,
            5.134203,
            4.855558,
            4.156728,
            -100
           ],
           "xaxis": "x",
           "y": [
            2.07,
            3.661667,
            7.016667,
            6.179417,
            5,
            -100
           ],
           "yaxis": "y"
          },
          {
           "hovertemplate": "<b>%{hovertext}</b><br><br>Region=EM_Other<br>TIME=2010<br>Inflation Rate=%{x}<br>Nominal Interest Rate (3m T-Bill)=%{y}<br>size=%{marker.size}<extra></extra>",
           "hovertext": [
            "China",
            "Ireland",
            "Slovenia",
            "Lithuania",
            "Slovak Republic",
            "Latvia",
            "Czech Republic",
            "Russia",
            "Estonia",
            "Greece",
            "Iceland",
            "Costa Rica"
           ],
           "ids": [
            "CHN",
            "IRL",
            "SVN",
            "LTU",
            "SVK",
            "LVA",
            "CZE",
            "RUS",
            "EST",
            "GRC",
            "ISL",
            "CRI"
           ],
           "legendgroup": "EM_Other",
           "marker": {
            "color": "#FFA15A",
            "size": [
             50,
             50,
             50,
             50,
             50,
             50,
             50,
             50,
             50,
             50,
             50,
             50
            ],
            "sizemode": "area",
            "sizeref": 0.16,
            "symbol": "circle"
           },
           "mode": "markers",
           "name": "EM_Other",
           "orientation": "v",
           "showlegend": true,
           "type": "scatter",
           "x": [
            3.3,
            -0.9220958,
            1.80117,
            1.319214,
            0.9570181,
            -1.084636,
            1.472727,
            6.849392,
            2.972045,
            4.712982,
            5.396732,
            -100
           ],
           "xaxis": "x",
           "y": [
            2.640833,
            0.81095,
            0.81095,
            1.804456,
            0.81095,
            1.996667,
            1.313333,
            5.158333,
            1.57,
            0.81095,
            6.789166,
            -100
           ],
           "yaxis": "y"
          },
          {
           "hovertemplate": "<b>%{hovertext}</b><br><br>Region=DM_Other<br>TIME=2010<br>Inflation Rate=%{x}<br>Nominal Interest Rate (3m T-Bill)=%{y}<br>size=%{marker.size}<extra></extra>",
           "hovertext": [
            "Australia",
            "Israel",
            "South Korea",
            "Norway",
            "New Zealand",
            "Poland"
           ],
           "ids": [
            "AUS",
            "ISR",
            "KOR",
            "NOR",
            "NZL",
            "POL"
           ],
           "legendgroup": "DM_Other",
           "marker": {
            "color": "#19d3f3",
            "size": [
             50,
             50,
             50,
             50,
             50,
             50
            ],
            "sizemode": "area",
            "sizeref": 0.16,
            "symbol": "circle"
           },
           "mode": "markers",
           "name": "DM_Other",
           "orientation": "v",
           "showlegend": true,
           "type": "scatter",
           "x": [
            2.91834,
            2.69137,
            2.939286,
            2.418906,
            2.302026,
            2.583333
           ],
           "xaxis": "x",
           "y": [
            4.683333,
            1.642191,
            2.671667,
            2.501667,
            3.000833,
            3.931667
           ],
           "yaxis": "y"
          },
          {
           "hovertemplate": "<b>%{hovertext}</b><br><br>Region=DM_Europe<br>TIME=2010<br>Inflation Rate=%{x}<br>Nominal Interest Rate (3m T-Bill)=%{y}<br>size=%{marker.size}<extra></extra>",
           "hovertext": [
            "Switzerland",
            "Denmark",
            "Netherlands",
            "Spain",
            "Luxembourg",
            "Austria",
            "Sweden",
            "Portugal",
            "Finland",
            "Belgium"
           ],
           "ids": [
            "CHE",
            "DNK",
            "NLD",
            "ESP",
            "LUX",
            "AUT",
            "SWE",
            "PRT",
            "FIN",
            "BEL"
           ],
           "legendgroup": "DM_Europe",
           "marker": {
            "color": "#FF6692",
            "size": [
             50,
             50,
             50,
             50,
             50,
             50,
             50,
             50,
             50,
             50
            ],
            "sizemode": "area",
            "sizeref": 0.16,
            "symbol": "circle"
           },
           "mode": "markers",
           "name": "DM_Europe",
           "orientation": "v",
           "showlegend": true,
           "type": "scatter",
           "x": [
            0.6882387,
            2.310924,
            1.275306,
            1.799865,
            2.273679,
            1.813532,
            1.157988,
            1.402573,
            1.184135,
            2.189299
           ],
           "xaxis": "x",
           "y": [
            0.1670194,
            1.248442,
            0.81095,
            0.81095,
            0.81095,
            0.81095,
            0.5041667,
            0.81095,
            0.81095,
            0.81095
           ],
           "yaxis": "y"
          }
         ],
         "layout": {
          "title": {
           "text": "2010 : Sluggish recovery post-recession keeps rates and inflation depressed"
          }
         },
         "name": "2010"
        },
        {
         "data": [
          {
           "hovertemplate": "<b>%{hovertext}</b><br><br>Region=United States<br>TIME=2011<br>Inflation Rate=%{x}<br>Nominal Interest Rate (3m T-Bill)=%{y}<br>size=%{marker.size}<extra></extra>",
           "hovertext": [
            "United States"
           ],
           "ids": [
            "USA"
           ],
           "legendgroup": "United States",
           "marker": {
            "color": "#636efa",
            "size": [
             200
            ],
            "sizemode": "area",
            "sizeref": 0.16,
            "symbol": "circle"
           },
           "mode": "markers",
           "name": "United States",
           "orientation": "v",
           "showlegend": true,
           "type": "scatter",
           "x": [
            3.156842
           ],
           "xaxis": "x",
           "y": [
            0.3033333
           ],
           "yaxis": "y"
          },
          {
           "hovertemplate": "<b>%{hovertext}</b><br><br>Region=South Africa<br>TIME=2011<br>Inflation Rate=%{x}<br>Nominal Interest Rate (3m T-Bill)=%{y}<br>size=%{marker.size}<extra></extra>",
           "hovertext": [
            "South Africa"
           ],
           "ids": [
            "ZAF"
           ],
           "legendgroup": "South Africa",
           "marker": {
            "color": "#EF553B",
            "size": [
             400
            ],
            "sizemode": "area",
            "sizeref": 0.16,
            "symbol": "circle"
           },
           "mode": "markers",
           "name": "South Africa",
           "orientation": "v",
           "showlegend": true,
           "type": "scatter",
           "x": [
            4.999267
           ],
           "xaxis": "x",
           "y": [
            5.487752
           ],
           "yaxis": "y"
          },
          {
           "hovertemplate": "<b>%{hovertext}</b><br><br>Region=G7_ex US<br>TIME=2011<br>Inflation Rate=%{x}<br>Nominal Interest Rate (3m T-Bill)=%{y}<br>size=%{marker.size}<extra></extra>",
           "hovertext": [
            "France",
            "Germany",
            "Canada",
            "United Kingdom",
            "Japan",
            "Italy"
           ],
           "ids": [
            "FRA",
            "DEU",
            "CAN",
            "GBR",
            "JPN",
            "ITA"
           ],
           "legendgroup": "G7_ex US",
           "marker": {
            "color": "#00cc96",
            "size": [
             50,
             50,
             50,
             50,
             50,
             50
            ],
            "sizemode": "area",
            "sizeref": 0.16,
            "symbol": "circle"
           },
           "mode": "markers",
           "name": "G7_ex US",
           "orientation": "v",
           "showlegend": true,
           "type": "scatter",
           "x": [
            2.111598,
            2.075173,
            2.912135,
            3.8,
            -0.275,
            2.780633
           ],
           "xaxis": "x",
           "y": [
            1.3906,
            1.3906,
            1.169322,
            0.87458,
            0.3325967,
            1.3906
           ],
           "yaxis": "y"
          },
          {
           "hovertemplate": "<b>%{hovertext}</b><br><br>Region=EM_Peer<br>TIME=2011<br>Inflation Rate=%{x}<br>Nominal Interest Rate (3m T-Bill)=%{y}<br>size=%{marker.size}<extra></extra>",
           "hovertext": [
            "Indonesia",
            "Chile",
            "Hungary",
            "Mexico",
            "Colombia",
            "India"
           ],
           "ids": [
            "IDN",
            "CHL",
            "HUN",
            "MEX",
            "COL",
            "IND"
           ],
           "legendgroup": "EM_Peer",
           "marker": {
            "color": "#ab63fa",
            "size": [
             100,
             100,
             100,
             100,
             100,
             100
            ],
            "sizemode": "area",
            "sizeref": 0.16,
            "symbol": "circle"
           },
           "mode": "markers",
           "name": "EM_Peer",
           "orientation": "v",
           "showlegend": true,
           "type": "scatter",
           "x": [
            5.356048,
            3.341217,
            3.929921,
            3.40738,
            3.415032,
            -100
           ],
           "xaxis": "x",
           "y": [
            6.93,
            4.93625,
            6.576007,
            4.855,
            4.206666,
            -100
           ],
           "yaxis": "y"
          },
          {
           "hovertemplate": "<b>%{hovertext}</b><br><br>Region=EM_Other<br>TIME=2011<br>Inflation Rate=%{x}<br>Nominal Interest Rate (3m T-Bill)=%{y}<br>size=%{marker.size}<extra></extra>",
           "hovertext": [
            "Slovenia",
            "Ireland",
            "Lithuania",
            "Iceland",
            "China",
            "Latvia",
            "Estonia",
            "Czech Republic",
            "Russia",
            "Greece",
            "Slovak Republic",
            "Costa Rica"
           ],
           "ids": [
            "SVN",
            "IRL",
            "LTU",
            "ISL",
            "CHN",
            "LVA",
            "EST",
            "CZE",
            "RUS",
            "GRC",
            "SVK",
            "CRI"
           ],
           "legendgroup": "EM_Other",
           "marker": {
            "color": "#FFA15A",
            "size": [
             50,
             50,
             50,
             50,
             50,
             50,
             50,
             50,
             50,
             50,
             50,
             50
            ],
            "sizemode": "area",
            "sizeref": 0.16,
            "symbol": "circle"
           },
           "mode": "markers",
           "name": "EM_Other",
           "orientation": "v",
           "showlegend": true,
           "type": "scatter",
           "x": [
            1.802852,
            2.557189,
            4.130276,
            4.001026,
            5.4,
            4.370736,
            4.981901,
            1.917219,
            8.440471,
            3.32987,
            3.919286,
            -100
           ],
           "xaxis": "x",
           "y": [
            1.3906,
            1.3906,
            1.672635,
            4.256667,
            5.139167,
            0.9616666,
            1.3906,
            1.19,
            5.491167,
            1.3906,
            1.3906,
            -100
           ],
           "yaxis": "y"
          },
          {
           "hovertemplate": "<b>%{hovertext}</b><br><br>Region=DM_Other<br>TIME=2011<br>Inflation Rate=%{x}<br>Nominal Interest Rate (3m T-Bill)=%{y}<br>size=%{marker.size}<extra></extra>",
           "hovertext": [
            "South Korea",
            "New Zealand",
            "Israel",
            "Poland",
            "Australia",
            "Norway"
           ],
           "ids": [
            "KOR",
            "NZL",
            "ISR",
            "POL",
            "AUS",
            "NOR"
           ],
           "legendgroup": "DM_Other",
           "marker": {
            "color": "#19d3f3",
            "size": [
             50,
             50,
             50,
             50,
             50,
             50
            ],
            "sizemode": "area",
            "sizeref": 0.16,
            "symbol": "circle"
           },
           "mode": "markers",
           "name": "DM_Other",
           "orientation": "v",
           "showlegend": true,
           "type": "scatter",
           "x": [
            4.025965,
            4.027903,
            3.484949,
            4.266667,
            3.30385,
            1.284952
           ],
           "xaxis": "x",
           "y": [
            3.4375,
            2.8,
            2.799283,
            4.578333,
            4.848333,
            2.871667
           ],
           "yaxis": "y"
          },
          {
           "hovertemplate": "<b>%{hovertext}</b><br><br>Region=DM_Europe<br>TIME=2011<br>Inflation Rate=%{x}<br>Nominal Interest Rate (3m T-Bill)=%{y}<br>size=%{marker.size}<extra></extra>",
           "hovertext": [
            "Switzerland",
            "Austria",
            "Luxembourg",
            "Netherlands",
            "Denmark",
            "Finland",
            "Portugal",
            "Spain",
            "Belgium",
            "Sweden"
           ],
           "ids": [
            "CHE",
            "AUT",
            "LUX",
            "NLD",
            "DNK",
            "FIN",
            "PRT",
            "ESP",
            "BEL",
            "SWE"
           ],
           "legendgroup": "DM_Europe",
           "marker": {
            "color": "#FF6692",
            "size": [
             50,
             50,
             50,
             50,
             50,
             50,
             50,
             50,
             50,
             50
            ],
            "sizemode": "area",
            "sizeref": 0.16,
            "symbol": "circle"
           },
           "mode": "markers",
           "name": "DM_Europe",
           "orientation": "v",
           "showlegend": true,
           "type": "scatter",
           "x": [
            0.2313492,
            3.286583,
            3.410683,
            2.34107,
            2.758682,
            3.416809,
            3.653011,
            3.196102,
            3.532082,
            2.961151
           ],
           "xaxis": "x",
           "y": [
            -0.006584417,
            1.3906,
            1.3906,
            1.3906,
            1.383979,
            1.3906,
            1.3906,
            1.3906,
            1.3906,
            1.6575
           ],
           "yaxis": "y"
          }
         ],
         "layout": {
          "title": {
           "text": "2011 : Flight to safety: nominal interest rates held low by investor demand for treasuries"
          }
         },
         "name": "2011"
        },
        {
         "data": [
          {
           "hovertemplate": "<b>%{hovertext}</b><br><br>Region=United States<br>TIME=2012<br>Inflation Rate=%{x}<br>Nominal Interest Rate (3m T-Bill)=%{y}<br>size=%{marker.size}<extra></extra>",
           "hovertext": [
            "United States"
           ],
           "ids": [
            "USA"
           ],
           "legendgroup": "United States",
           "marker": {
            "color": "#636efa",
            "size": [
             200
            ],
            "sizemode": "area",
            "sizeref": 0.16,
            "symbol": "circle"
           },
           "mode": "markers",
           "name": "United States",
           "orientation": "v",
           "showlegend": true,
           "type": "scatter",
           "x": [
            2.069337
           ],
           "xaxis": "x",
           "y": [
            0.2825
           ],
           "yaxis": "y"
          },
          {
           "hovertemplate": "<b>%{hovertext}</b><br><br>Region=South Africa<br>TIME=2012<br>Inflation Rate=%{x}<br>Nominal Interest Rate (3m T-Bill)=%{y}<br>size=%{marker.size}<extra></extra>",
           "hovertext": [
            "South Africa"
           ],
           "ids": [
            "ZAF"
           ],
           "legendgroup": "South Africa",
           "marker": {
            "color": "#EF553B",
            "size": [
             400
            ],
            "sizemode": "area",
            "sizeref": 0.16,
            "symbol": "circle"
           },
           "mode": "markers",
           "name": "South Africa",
           "orientation": "v",
           "showlegend": true,
           "type": "scatter",
           "x": [
            5.724658
           ],
           "xaxis": "x",
           "y": [
            5.287186
           ],
           "yaxis": "y"
          },
          {
           "hovertemplate": "<b>%{hovertext}</b><br><br>Region=G7_ex US<br>TIME=2012<br>Inflation Rate=%{x}<br>Nominal Interest Rate (3m T-Bill)=%{y}<br>size=%{marker.size}<extra></extra>",
           "hovertext": [
            "Japan",
            "France",
            "United Kingdom",
            "Canada",
            "Italy",
            "Germany"
           ],
           "ids": [
            "JPN",
            "FRA",
            "GBR",
            "CAN",
            "ITA",
            "DEU"
           ],
           "legendgroup": "G7_ex US",
           "marker": {
            "color": "#00cc96",
            "size": [
             50,
             50,
             50,
             50,
             50,
             50
            ],
            "sizemode": "area",
            "sizeref": 0.16,
            "symbol": "circle"
           },
           "mode": "markers",
           "name": "G7_ex US",
           "orientation": "v",
           "showlegend": true,
           "type": "scatter",
           "x": [
            -0.04166667,
            1.954195,
            2.6,
            1.515678,
            3.041363,
            2.008491
           ],
           "xaxis": "x",
           "y": [
            0.3272108,
            0.5731834,
            0.8272508,
            1.159862,
            0.5731834,
            0.5731834
           ],
           "yaxis": "y"
          },
          {
           "hovertemplate": "<b>%{hovertext}</b><br><br>Region=EM_Peer<br>TIME=2012<br>Inflation Rate=%{x}<br>Nominal Interest Rate (3m T-Bill)=%{y}<br>size=%{marker.size}<extra></extra>",
           "hovertext": [
            "India",
            "Indonesia",
            "Colombia",
            "Mexico",
            "Chile",
            "Hungary"
           ],
           "ids": [
            "IND",
            "IDN",
            "COL",
            "MEX",
            "CHL",
            "HUN"
           ],
           "legendgroup": "EM_Peer",
           "marker": {
            "color": "#ab63fa",
            "size": [
             100,
             100,
             100,
             100,
             100,
             100
            ],
            "sizemode": "area",
            "sizeref": 0.16,
            "symbol": "circle"
           },
           "mode": "markers",
           "name": "EM_Peer",
           "orientation": "v",
           "showlegend": true,
           "type": "scatter",
           "x": [
            9.312446,
            4.279512,
            3.169303,
            4.111508,
            -100,
            -100
           ],
           "xaxis": "x",
           "y": [
            8.402875,
            5.946667,
            5.354167,
            4.806667,
            -100,
            -100
           ],
           "yaxis": "y"
          },
          {
           "hovertemplate": "<b>%{hovertext}</b><br><br>Region=EM_Other<br>TIME=2012<br>Inflation Rate=%{x}<br>Nominal Interest Rate (3m T-Bill)=%{y}<br>size=%{marker.size}<extra></extra>",
           "hovertext": [
            "Greece",
            "Latvia",
            "Estonia",
            "Czech Republic",
            "Slovak Republic",
            "Lithuania",
            "Russia",
            "Slovenia",
            "Iceland",
            "China",
            "Ireland",
            "Costa Rica"
           ],
           "ids": [
            "GRC",
            "LVA",
            "EST",
            "CZE",
            "SVK",
            "LTU",
            "RUS",
            "SVN",
            "ISL",
            "CHN",
            "IRL",
            "CRI"
           ],
           "legendgroup": "EM_Other",
           "marker": {
            "color": "#FFA15A",
            "size": [
             50,
             50,
             50,
             50,
             50,
             50,
             50,
             50,
             50,
             50,
             50,
             50
            ],
            "sizemode": "area",
            "sizeref": 0.16,
            "symbol": "circle"
           },
           "mode": "markers",
           "name": "EM_Other",
           "orientation": "v",
           "showlegend": true,
           "type": "scatter",
           "x": [
            1.50152,
            2.257789,
            3.9334,
            3.287623,
            3.606103,
            3.089983,
            5.074733,
            2.597414,
            5.1859,
            2.6,
            1.696209,
            -100
           ],
           "xaxis": "x",
           "y": [
            0.5731834,
            0.8883333,
            0.5731834,
            0.9975,
            0.5731834,
            1.081989,
            7.290417,
            0.5731834,
            5.513333,
            4.310833,
            0.5731834,
            -100
           ],
           "yaxis": "y"
          },
          {
           "hovertemplate": "<b>%{hovertext}</b><br><br>Region=DM_Other<br>TIME=2012<br>Inflation Rate=%{x}<br>Nominal Interest Rate (3m T-Bill)=%{y}<br>size=%{marker.size}<extra></extra>",
           "hovertext": [
            "Australia",
            "New Zealand",
            "Poland",
            "Norway",
            "Israel",
            "South Korea"
           ],
           "ids": [
            "AUS",
            "NZL",
            "POL",
            "NOR",
            "ISR",
            "KOR"
           ],
           "legendgroup": "DM_Other",
           "marker": {
            "color": "#19d3f3",
            "size": [
             50,
             50,
             50,
             50,
             50,
             50
            ],
            "sizemode": "area",
            "sizeref": 0.16,
            "symbol": "circle"
           },
           "mode": "markers",
           "name": "DM_Other",
           "orientation": "v",
           "showlegend": true,
           "type": "scatter",
           "x": [
            1.76278,
            1.059918,
            3.7,
            0.6968641,
            1.679207,
            2.187071
           ],
           "xaxis": "x",
           "y": [
            3.728333,
            2.671667,
            4.874558,
            2.235,
            2.251945,
            3.2975
           ],
           "yaxis": "y"
          },
          {
           "hovertemplate": "<b>%{hovertext}</b><br><br>Region=DM_Europe<br>TIME=2012<br>Inflation Rate=%{x}<br>Nominal Interest Rate (3m T-Bill)=%{y}<br>size=%{marker.size}<extra></extra>",
           "hovertext": [
            "Portugal",
            "Denmark",
            "Netherlands",
            "Spain",
            "Belgium",
            "Finland",
            "Sweden",
            "Switzerland",
            "Luxembourg",
            "Austria"
           ],
           "ids": [
            "PRT",
            "DNK",
            "NLD",
            "ESP",
            "BEL",
            "FIN",
            "SWE",
            "CHE",
            "LUX",
            "AUT"
           ],
           "legendgroup": "DM_Europe",
           "marker": {
            "color": "#FF6692",
            "size": [
             50,
             50,
             50,
             50,
             50,
             50,
             50,
             50,
             50,
             50
            ],
            "sizemode": "area",
            "sizeref": 0.16,
            "symbol": "circle"
           },
           "mode": "markers",
           "name": "DM_Europe",
           "orientation": "v",
           "showlegend": true,
           "type": "scatter",
           "x": [
            2.773339,
            2.397915,
            2.455548,
            2.446128,
            2.839664,
            2.808332,
            0.8883775,
            -0.692552,
            2.662842,
            2.485675
           ],
           "xaxis": "x",
           "y": [
            0.5731834,
            0.6200195,
            0.5731834,
            0.5731834,
            0.5731834,
            0.5731834,
            1.253333,
            -0.04468375,
            0.5731834,
            0.5731834
           ],
           "yaxis": "y"
          }
         ],
         "layout": {
          "title": {
           "text": "2012 : European sovereign debt crisis intensifies as US dollar strengthens"
          }
         },
         "name": "2012"
        },
        {
         "data": [
          {
           "hovertemplate": "<b>%{hovertext}</b><br><br>Region=United States<br>TIME=2013<br>Inflation Rate=%{x}<br>Nominal Interest Rate (3m T-Bill)=%{y}<br>size=%{marker.size}<extra></extra>",
           "hovertext": [
            "United States"
           ],
           "ids": [
            "USA"
           ],
           "legendgroup": "United States",
           "marker": {
            "color": "#636efa",
            "size": [
             200
            ],
            "sizemode": "area",
            "sizeref": 0.16,
            "symbol": "circle"
           },
           "mode": "markers",
           "name": "United States",
           "orientation": "v",
           "showlegend": true,
           "type": "scatter",
           "x": [
            1.464833
           ],
           "xaxis": "x",
           "y": [
            0.1666667
           ],
           "yaxis": "y"
          },
          {
           "hovertemplate": "<b>%{hovertext}</b><br><br>Region=South Africa<br>TIME=2013<br>Inflation Rate=%{x}<br>Nominal Interest Rate (3m T-Bill)=%{y}<br>size=%{marker.size}<extra></extra>",
           "hovertext": [
            "South Africa"
           ],
           "ids": [
            "ZAF"
           ],
           "legendgroup": "South Africa",
           "marker": {
            "color": "#EF553B",
            "size": [
             400
            ],
            "sizemode": "area",
            "sizeref": 0.16,
            "symbol": "circle"
           },
           "mode": "markers",
           "name": "South Africa",
           "orientation": "v",
           "showlegend": true,
           "type": "scatter",
           "x": [
            5.784469
           ],
           "xaxis": "x",
           "y": [
            5.078237
           ],
           "yaxis": "y"
          },
          {
           "hovertemplate": "<b>%{hovertext}</b><br><br>Region=G7_ex US<br>TIME=2013<br>Inflation Rate=%{x}<br>Nominal Interest Rate (3m T-Bill)=%{y}<br>size=%{marker.size}<extra></extra>",
           "hovertext": [
            "United Kingdom",
            "Italy",
            "Canada",
            "Germany",
            "France",
            "Japan"
           ],
           "ids": [
            "GBR",
            "ITA",
            "CAN",
            "DEU",
            "FRA",
            "JPN"
           ],
           "legendgroup": "G7_ex US",
           "marker": {
            "color": "#00cc96",
            "size": [
             50,
             50,
             50,
             50,
             50,
             50
            ],
            "sizemode": "area",
            "sizeref": 0.16,
            "symbol": "circle"
           },
           "mode": "markers",
           "name": "G7_ex US",
           "orientation": "v",
           "showlegend": true,
           "type": "scatter",
           "x": [
            2.3,
            1.219992,
            0.9382919,
            1.504722,
            0.8637155,
            0.35
           ],
           "xaxis": "x",
           "y": [
            0.5126609,
            0.2206667,
            1.164424,
            0.2206667,
            0.2206667,
            0.2367042
           ],
           "yaxis": "y"
          },
          {
           "hovertemplate": "<b>%{hovertext}</b><br><br>Region=EM_Peer<br>TIME=2013<br>Inflation Rate=%{x}<br>Nominal Interest Rate (3m T-Bill)=%{y}<br>size=%{marker.size}<extra></extra>",
           "hovertext": [
            "Mexico",
            "India",
            "Colombia",
            "Indonesia",
            "Chile",
            "Hungary"
           ],
           "ids": [
            "MEX",
            "IND",
            "COL",
            "IDN",
            "CHL",
            "HUN"
           ],
           "legendgroup": "EM_Peer",
           "marker": {
            "color": "#ab63fa",
            "size": [
             100,
             100,
             100,
             100,
             100,
             100
            ],
            "sizemode": "area",
            "sizeref": 0.16,
            "symbol": "circle"
           },
           "mode": "markers",
           "name": "EM_Peer",
           "orientation": "v",
           "showlegend": true,
           "type": "scatter",
           "x": [
            3.80639,
            10.90764,
            2.016993,
            6.4125,
            -100,
            -100
           ],
           "xaxis": "x",
           "y": [
            4.285833,
            8.644139,
            4.239167,
            6.2625,
            -100,
            -100
           ],
           "yaxis": "y"
          },
          {
           "hovertemplate": "<b>%{hovertext}</b><br><br>Region=EM_Other<br>TIME=2013<br>Inflation Rate=%{x}<br>Nominal Interest Rate (3m T-Bill)=%{y}<br>size=%{marker.size}<extra></extra>",
           "hovertext": [
            "Costa Rica",
            "Estonia",
            "Czech Republic",
            "Ireland",
            "Slovak Republic",
            "Lithuania",
            "Russia",
            "Greece",
            "Iceland",
            "China",
            "Latvia",
            "Slovenia"
           ],
           "ids": [
            "CRI",
            "EST",
            "CZE",
            "IRL",
            "SVK",
            "LTU",
            "RUS",
            "GRC",
            "ISL",
            "CHN",
            "LVA",
            "SVN"
           ],
           "legendgroup": "EM_Other",
           "marker": {
            "color": "#FFA15A",
            "size": [
             50,
             50,
             50,
             50,
             50,
             50,
             50,
             50,
             50,
             50,
             50,
             50
            ],
            "sizemode": "area",
            "sizeref": 0.16,
            "symbol": "circle"
           },
           "mode": "markers",
           "name": "EM_Other",
           "orientation": "v",
           "showlegend": true,
           "type": "scatter",
           "x": [
            5.231336,
            2.780567,
            1.438298,
            0.5087149,
            1.400474,
            1.047479,
            6.753717,
            -0.9212719,
            3.872275,
            2.6,
            -0.02945478,
            1.769201
           ],
           "xaxis": "x",
           "y": [
            5.564312,
            0.2206667,
            0.4566667,
            0.2206667,
            0.2206667,
            0.5098846,
            7.489417,
            0.2206667,
            6.188334,
            4.976666,
            0.3625,
            0.2206667
           ],
           "yaxis": "y"
          },
          {
           "hovertemplate": "<b>%{hovertext}</b><br><br>Region=DM_Other<br>TIME=2013<br>Inflation Rate=%{x}<br>Nominal Interest Rate (3m T-Bill)=%{y}<br>size=%{marker.size}<extra></extra>",
           "hovertext": [
            "Norway",
            "Poland",
            "South Korea",
            "Australia",
            "New Zealand",
            "Israel"
           ],
           "ids": [
            "NOR",
            "POL",
            "KOR",
            "AUS",
            "NZL",
            "ISR"
           ],
           "legendgroup": "DM_Other",
           "marker": {
            "color": "#19d3f3",
            "size": [
             50,
             50,
             50,
             50,
             50,
             50
            ],
            "sizemode": "area",
            "sizeref": 0.16,
            "symbol": "circle"
           },
           "mode": "markers",
           "name": "DM_Other",
           "orientation": "v",
           "showlegend": true,
           "type": "scatter",
           "x": [
            2.120486,
            0.9,
            1.301347,
            2.449889,
            1.134418,
            1.570255
           ],
           "xaxis": "x",
           "y": [
            1.755068,
            2.975833,
            2.7225,
            2.7775,
            2.656667,
            1.320039
           ],
           "yaxis": "y"
          },
          {
           "hovertemplate": "<b>%{hovertext}</b><br><br>Region=DM_Europe<br>TIME=2013<br>Inflation Rate=%{x}<br>Nominal Interest Rate (3m T-Bill)=%{y}<br>size=%{marker.size}<extra></extra>",
           "hovertext": [
            "Belgium",
            "Spain",
            "Netherlands",
            "Switzerland",
            "Denmark",
            "Sweden",
            "Finland",
            "Luxembourg",
            "Austria",
            "Portugal"
           ],
           "ids": [
            "BEL",
            "ESP",
            "NLD",
            "CHE",
            "DNK",
            "SWE",
            "FIN",
            "LUX",
            "AUT",
            "PRT"
           ],
           "legendgroup": "DM_Europe",
           "marker": {
            "color": "#FF6692",
            "size": [
             50,
             50,
             50,
             50,
             50,
             50,
             50,
             50,
             50,
             50
            ],
            "sizemode": "area",
            "sizeref": 0.16,
            "symbol": "circle"
           },
           "mode": "markers",
           "name": "DM_Europe",
           "orientation": "v",
           "showlegend": true,
           "type": "scatter",
           "x": [
            1.113096,
            1.408581,
            2.506899,
            -0.2173232,
            0.7890718,
            -0.04429297,
            1.478288,
            1.73404,
            2.000158,
            0.2744167
           ],
           "xaxis": "x",
           "y": [
            0.2206667,
            0.2206667,
            0.2206667,
            -0.04866817,
            0.2713604,
            0.9258333,
            0.2206667,
            0.2206667,
            0.2206667,
            0.2206667
           ],
           "yaxis": "y"
          }
         ],
         "layout": {
          "title": {
           "text": "2013 : Euro area emerges from recession, but low interest rates persist"
          }
         },
         "name": "2013"
        },
        {
         "data": [
          {
           "hovertemplate": "<b>%{hovertext}</b><br><br>Region=United States<br>TIME=2014<br>Inflation Rate=%{x}<br>Nominal Interest Rate (3m T-Bill)=%{y}<br>size=%{marker.size}<extra></extra>",
           "hovertext": [
            "United States"
           ],
           "ids": [
            "USA"
           ],
           "legendgroup": "United States",
           "marker": {
            "color": "#636efa",
            "size": [
             200
            ],
            "sizemode": "area",
            "sizeref": 0.16,
            "symbol": "circle"
           },
           "mode": "markers",
           "name": "United States",
           "orientation": "v",
           "showlegend": true,
           "type": "scatter",
           "x": [
            1.622223
           ],
           "xaxis": "x",
           "y": [
            0.1241667
           ],
           "yaxis": "y"
          },
          {
           "hovertemplate": "<b>%{hovertext}</b><br><br>Region=South Africa<br>TIME=2014<br>Inflation Rate=%{x}<br>Nominal Interest Rate (3m T-Bill)=%{y}<br>size=%{marker.size}<extra></extra>",
           "hovertext": [
            "South Africa"
           ],
           "ids": [
            "ZAF"
           ],
           "legendgroup": "South Africa",
           "marker": {
            "color": "#EF553B",
            "size": [
             400
            ],
            "sizemode": "area",
            "sizeref": 0.16,
            "symbol": "circle"
           },
           "mode": "markers",
           "name": "South Africa",
           "orientation": "v",
           "showlegend": true,
           "type": "scatter",
           "x": [
            6.129838
           ],
           "xaxis": "x",
           "y": [
            5.798091
           ],
           "yaxis": "y"
          },
          {
           "hovertemplate": "<b>%{hovertext}</b><br><br>Region=G7_ex US<br>TIME=2014<br>Inflation Rate=%{x}<br>Nominal Interest Rate (3m T-Bill)=%{y}<br>size=%{marker.size}<extra></extra>",
           "hovertext": [
            "Italy",
            "Germany",
            "United Kingdom",
            "Japan",
            "Canada",
            "France"
           ],
           "ids": [
            "ITA",
            "DEU",
            "GBR",
            "JPN",
            "CAN",
            "FRA"
           ],
           "legendgroup": "G7_ex US",
           "marker": {
            "color": "#00cc96",
            "size": [
             50,
             50,
             50,
             50,
             50,
             50
            ],
            "sizemode": "area",
            "sizeref": 0.16,
            "symbol": "circle"
           },
           "mode": "markers",
           "name": "G7_ex US",
           "orientation": "v",
           "showlegend": true,
           "type": "scatter",
           "x": [
            0.2410575,
            0.9067971,
            1.5,
            2.733333,
            1.906636,
            0.5077588
           ],
           "xaxis": "x",
           "y": [
            0.2099333,
            0.2099333,
            0.5429491,
            0.2049167,
            1.172978,
            0.2099333
           ],
           "yaxis": "y"
          },
          {
           "hovertemplate": "<b>%{hovertext}</b><br><br>Region=EM_Peer<br>TIME=2014<br>Inflation Rate=%{x}<br>Nominal Interest Rate (3m T-Bill)=%{y}<br>size=%{marker.size}<extra></extra>",
           "hovertext": [
            "Mexico",
            "Colombia",
            "Indonesia",
            "Hungary",
            "India",
            "Chile"
           ],
           "ids": [
            "MEX",
            "COL",
            "IDN",
            "HUN",
            "IND",
            "CHL"
           ],
           "legendgroup": "EM_Peer",
           "marker": {
            "color": "#ab63fa",
            "size": [
             100,
             100,
             100,
             100,
             100,
             100
            ],
            "sizemode": "area",
            "sizeref": 0.16,
            "symbol": "circle"
           },
           "mode": "markers",
           "name": "EM_Peer",
           "orientation": "v",
           "showlegend": true,
           "type": "scatter",
           "x": [
            4.018617,
            2.898838,
            6.394926,
            -0.2275663,
            6.353195,
            -100
           ],
           "xaxis": "x",
           "y": [
            3.525833,
            4.068333,
            8.756667,
            2.493558,
            8.668041,
            -100
           ],
           "yaxis": "y"
          },
          {
           "hovertemplate": "<b>%{hovertext}</b><br><br>Region=EM_Other<br>TIME=2014<br>Inflation Rate=%{x}<br>Nominal Interest Rate (3m T-Bill)=%{y}<br>size=%{marker.size}<extra></extra>",
           "hovertext": [
            "Slovenia",
            "Russia",
            "Slovak Republic",
            "Estonia",
            "Latvia",
            "Costa Rica",
            "Czech Republic",
            "Lithuania",
            "Greece",
            "Iceland",
            "China",
            "Ireland"
           ],
           "ids": [
            "SVN",
            "RUS",
            "SVK",
            "EST",
            "LVA",
            "CRI",
            "CZE",
            "LTU",
            "GRC",
            "ISL",
            "CHN",
            "IRL"
           ],
           "legendgroup": "EM_Other",
           "marker": {
            "color": "#FFA15A",
            "size": [
             50,
             50,
             50,
             50,
             50,
             50,
             50,
             50,
             50,
             50,
             50,
             50
            ],
            "sizemode": "area",
            "sizeref": 0.16,
            "symbol": "circle"
           },
           "mode": "markers",
           "name": "EM_Other",
           "orientation": "v",
           "showlegend": true,
           "type": "scatter",
           "x": [
            0.1993438,
            7.823416,
            -0.07616533,
            -0.1061751,
            0.6204923,
            4.519201,
            0.3439886,
            0.103758,
            -1.312242,
            2.044619,
            2,
            0.1825423
           ],
           "xaxis": "x",
           "y": [
            0.2099333,
            9.435917,
            0.2099333,
            0.2099333,
            0.2099333,
            5.326087,
            0.3566667,
            0.3267963,
            0.2099333,
            6.0525,
            4.804167,
            0.2099333
           ],
           "yaxis": "y"
          },
          {
           "hovertemplate": "<b>%{hovertext}</b><br><br>Region=DM_Other<br>TIME=2014<br>Inflation Rate=%{x}<br>Nominal Interest Rate (3m T-Bill)=%{y}<br>size=%{marker.size}<extra></extra>",
           "hovertext": [
            "Poland",
            "Israel",
            "Norway",
            "Australia",
            "South Korea",
            "New Zealand"
           ],
           "ids": [
            "POL",
            "ISR",
            "NOR",
            "AUS",
            "KOR",
            "NZL"
           ],
           "legendgroup": "DM_Other",
           "marker": {
            "color": "#19d3f3",
            "size": [
             50,
             50,
             50,
             50,
             50,
             50
            ],
            "sizemode": "area",
            "sizeref": 0.16,
            "symbol": "circle"
           },
           "mode": "markers",
           "name": "DM_Other",
           "orientation": "v",
           "showlegend": true,
           "type": "scatter",
           "x": [
            -0.025,
            0.4797868,
            2.041703,
            2.487923,
            1.274774,
            1.227513
           ],
           "xaxis": "x",
           "y": [
            2.489167,
            0.5465347,
            1.69904,
            2.6775,
            2.491667,
            3.424167
           ],
           "yaxis": "y"
          },
          {
           "hovertemplate": "<b>%{hovertext}</b><br><br>Region=DM_Europe<br>TIME=2014<br>Inflation Rate=%{x}<br>Nominal Interest Rate (3m T-Bill)=%{y}<br>size=%{marker.size}<extra></extra>",
           "hovertext": [
            "Switzerland",
            "Sweden",
            "Spain",
            "Finland",
            "Denmark",
            "Portugal",
            "Netherlands",
            "Belgium",
            "Austria",
            "Luxembourg"
           ],
           "ids": [
            "CHE",
            "SWE",
            "ESP",
            "FIN",
            "DNK",
            "PRT",
            "NLD",
            "BEL",
            "AUT",
            "LUX"
           ],
           "legendgroup": "DM_Europe",
           "marker": {
            "color": "#FF6692",
            "size": [
             50,
             50,
             50,
             50,
             50,
             50,
             50,
             50,
             50,
             50
            ],
            "sizemode": "area",
            "sizeref": 0.16,
            "symbol": "circle"
           },
           "mode": "markers",
           "name": "DM_Europe",
           "orientation": "v",
           "showlegend": true,
           "type": "scatter",
           "x": [
            -0.01320254,
            -0.1796385,
            -0.1511148,
            1.0412,
            0.5640205,
            -0.2781534,
            0.9760351,
            0.3400028,
            1.605806,
            0.628544
           ],
           "xaxis": "x",
           "y": [
            0.0036705,
            0.4208333,
            0.2099333,
            0.2099333,
            0.3149578,
            0.2099333,
            0.2099333,
            0.2099333,
            0.2099333,
            0.2099333
           ],
           "yaxis": "y"
          }
         ],
         "layout": {
          "title": {
           "text": "2014 : US ends quantitative easing"
          }
         },
         "name": "2014"
        },
        {
         "data": [
          {
           "hovertemplate": "<b>%{hovertext}</b><br><br>Region=United States<br>TIME=2015<br>Inflation Rate=%{x}<br>Nominal Interest Rate (3m T-Bill)=%{y}<br>size=%{marker.size}<extra></extra>",
           "hovertext": [
            "United States"
           ],
           "ids": [
            "USA"
           ],
           "legendgroup": "United States",
           "marker": {
            "color": "#636efa",
            "size": [
             200
            ],
            "sizemode": "area",
            "sizeref": 0.16,
            "symbol": "circle"
           },
           "mode": "markers",
           "name": "United States",
           "orientation": "v",
           "showlegend": true,
           "type": "scatter",
           "x": [
            0.1186271
           ],
           "xaxis": "x",
           "y": [
            0.2266667
           ],
           "yaxis": "y"
          },
          {
           "hovertemplate": "<b>%{hovertext}</b><br><br>Region=South Africa<br>TIME=2015<br>Inflation Rate=%{x}<br>Nominal Interest Rate (3m T-Bill)=%{y}<br>size=%{marker.size}<extra></extra>",
           "hovertext": [
            "South Africa"
           ],
           "ids": [
            "ZAF"
           ],
           "legendgroup": "South Africa",
           "marker": {
            "color": "#EF553B",
            "size": [
             400
            ],
            "sizemode": "area",
            "sizeref": 0.16,
            "symbol": "circle"
           },
           "mode": "markers",
           "name": "South Africa",
           "orientation": "v",
           "showlegend": true,
           "type": "scatter",
           "x": [
            4.540642
           ],
           "xaxis": "x",
           "y": [
            6.052203
           ],
           "yaxis": "y"
          },
          {
           "hovertemplate": "<b>%{hovertext}</b><br><br>Region=G7_ex US<br>TIME=2015<br>Inflation Rate=%{x}<br>Nominal Interest Rate (3m T-Bill)=%{y}<br>size=%{marker.size}<extra></extra>",
           "hovertext": [
            "Germany",
            "Japan",
            "France",
            "Canada",
            "United Kingdom",
            "Italy"
           ],
           "ids": [
            "DEU",
            "JPN",
            "FRA",
            "CAN",
            "GBR",
            "ITA"
           ],
           "legendgroup": "G7_ex US",
           "marker": {
            "color": "#00cc96",
            "size": [
             50,
             50,
             50,
             50,
             50,
             50
            ],
            "sizemode": "area",
            "sizeref": 0.16,
            "symbol": "circle"
           },
           "mode": "markers",
           "name": "G7_ex US",
           "orientation": "v",
           "showlegend": true,
           "type": "scatter",
           "x": [
            0.514421,
            0.8,
            0.03751438,
            1.125241,
            0.4,
            0.03878675
           ],
           "xaxis": "x",
           "y": [
            -0.01936667,
            0.1696667,
            -0.01936667,
            0.822647,
            0.5741492,
            -0.01936667
           ],
           "yaxis": "y"
          },
          {
           "hovertemplate": "<b>%{hovertext}</b><br><br>Region=EM_Peer<br>TIME=2015<br>Inflation Rate=%{x}<br>Nominal Interest Rate (3m T-Bill)=%{y}<br>size=%{marker.size}<extra></extra>",
           "hovertext": [
            "Colombia",
            "Mexico",
            "Hungary",
            "India",
            "Indonesia",
            "Chile"
           ],
           "ids": [
            "COL",
            "MEX",
            "HUN",
            "IND",
            "IDN",
            "CHL"
           ],
           "legendgroup": "EM_Peer",
           "marker": {
            "color": "#ab63fa",
            "size": [
             100,
             100,
             100,
             100,
             100,
             100
            ],
            "sizemode": "area",
            "sizeref": 0.16,
            "symbol": "circle"
           },
           "mode": "markers",
           "name": "EM_Peer",
           "orientation": "v",
           "showlegend": true,
           "type": "scatter",
           "x": [
            4.989829,
            2.720641,
            -0.06164468,
            5.872427,
            6.363121,
            -100
           ],
           "xaxis": "x",
           "y": [
            4.578333,
            3.3425,
            1.491292,
            7.677819,
            8.336667,
            -100
           ],
           "yaxis": "y"
          },
          {
           "hovertemplate": "<b>%{hovertext}</b><br><br>Region=EM_Other<br>TIME=2015<br>Inflation Rate=%{x}<br>Nominal Interest Rate (3m T-Bill)=%{y}<br>size=%{marker.size}<extra></extra>",
           "hovertext": [
            "Iceland",
            "Lithuania",
            "Russia",
            "Latvia",
            "Estonia",
            "Ireland",
            "Czech Republic",
            "Slovenia",
            "China",
            "Slovak Republic",
            "Greece",
            "Costa Rica"
           ],
           "ids": [
            "ISL",
            "LTU",
            "RUS",
            "LVA",
            "EST",
            "IRL",
            "CZE",
            "SVN",
            "CHN",
            "SVK",
            "GRC",
            "CRI"
           ],
           "legendgroup": "EM_Other",
           "marker": {
            "color": "#FFA15A",
            "size": [
             50,
             50,
             50,
             50,
             50,
             50,
             50,
             50,
             50,
             50,
             50,
             50
            ],
            "sizemode": "area",
            "sizeref": 0.16,
            "symbol": "circle"
           },
           "mode": "markers",
           "name": "EM_Other",
           "orientation": "v",
           "showlegend": true,
           "type": "scatter",
           "x": [
            1.633058,
            -0.8840974,
            15.5344,
            0.1742414,
            -0.492326,
            -0.2898791,
            0.3093646,
            -0.5255523,
            1.4,
            -0.3252198,
            -1.735902,
            0.801982
           ],
           "xaxis": "x",
           "y": [
            5.891667,
            -0.01936667,
            14.75667,
            -0.01936667,
            -0.01936667,
            -0.01936667,
            0.3083333,
            -0.01936667,
            3.730833,
            -0.01936667,
            -0.01936667,
            5.130435
           ],
           "yaxis": "y"
          },
          {
           "hovertemplate": "<b>%{hovertext}</b><br><br>Region=DM_Other<br>TIME=2015<br>Inflation Rate=%{x}<br>Nominal Interest Rate (3m T-Bill)=%{y}<br>size=%{marker.size}<extra></extra>",
           "hovertext": [
            "Israel",
            "South Korea",
            "Australia",
            "New Zealand",
            "Norway",
            "Poland"
           ],
           "ids": [
            "ISR",
            "KOR",
            "AUS",
            "NZL",
            "NOR",
            "POL"
           ],
           "legendgroup": "DM_Other",
           "marker": {
            "color": "#19d3f3",
            "size": [
             50,
             50,
             50,
             50,
             50,
             50
            ],
            "sizemode": "area",
            "sizeref": 0.16,
            "symbol": "circle"
           },
           "mode": "markers",
           "name": "DM_Other",
           "orientation": "v",
           "showlegend": true,
           "type": "scatter",
           "x": [
            -0.601291,
            0.7063318,
            1.508367,
            0.2927033,
            2.171137,
            -0.9333333
           ],
           "xaxis": "x",
           "y": [
            0.1230249,
            1.77,
            2.255833,
            3.240833,
            1.290675,
            1.738333
           ],
           "yaxis": "y"
          },
          {
           "hovertemplate": "<b>%{hovertext}</b><br><br>Region=DM_Europe<br>TIME=2015<br>Inflation Rate=%{x}<br>Nominal Interest Rate (3m T-Bill)=%{y}<br>size=%{marker.size}<extra></extra>",
           "hovertext": [
            "Denmark",
            "Netherlands",
            "Luxembourg",
            "Finland",
            "Sweden",
            "Spain",
            "Austria",
            "Belgium",
            "Portugal",
            "Switzerland"
           ],
           "ids": [
            "DNK",
            "NLD",
            "LUX",
            "FIN",
            "SWE",
            "ESP",
            "AUT",
            "BEL",
            "PRT",
            "CHE"
           ],
           "legendgroup": "DM_Europe",
           "marker": {
            "color": "#FF6692",
            "size": [
             50,
             50,
             50,
             50,
             50,
             50,
             50,
             50,
             50,
             50
            ],
            "sizemode": "area",
            "sizeref": 0.16,
            "symbol": "circle"
           },
           "mode": "markers",
           "name": "DM_Europe",
           "orientation": "v",
           "showlegend": true,
           "type": "scatter",
           "x": [
            0.4520341,
            0.6002482,
            0.4747432,
            -0.207932,
            -0.04678474,
            -0.5003657,
            0.8965653,
            0.5614291,
            0.4879386,
            -1.143909
           ],
           "xaxis": "x",
           "y": [
            -0.1233188,
            -0.01936667,
            -0.01936667,
            -0.01936667,
            -0.2891667,
            -0.01936667,
            -0.01936667,
            -0.01936667,
            -0.01936667,
            -0.7307373
           ],
           "yaxis": "y"
          }
         ],
         "layout": {
          "title": {
           "text": "2015 : Dramatic oil price drop spurs widespread lower inflation trends"
          }
         },
         "name": "2015"
        },
        {
         "data": [
          {
           "hovertemplate": "<b>%{hovertext}</b><br><br>Region=United States<br>TIME=2016<br>Inflation Rate=%{x}<br>Nominal Interest Rate (3m T-Bill)=%{y}<br>size=%{marker.size}<extra></extra>",
           "hovertext": [
            "United States"
           ],
           "ids": [
            "USA"
           ],
           "legendgroup": "United States",
           "marker": {
            "color": "#636efa",
            "size": [
             200
            ],
            "sizemode": "area",
            "sizeref": 0.16,
            "symbol": "circle"
           },
           "mode": "markers",
           "name": "United States",
           "orientation": "v",
           "showlegend": true,
           "type": "scatter",
           "x": [
            1.261583
           ],
           "xaxis": "x",
           "y": [
            0.6441666
           ],
           "yaxis": "y"
          },
          {
           "hovertemplate": "<b>%{hovertext}</b><br><br>Region=South Africa<br>TIME=2016<br>Inflation Rate=%{x}<br>Nominal Interest Rate (3m T-Bill)=%{y}<br>size=%{marker.size}<extra></extra>",
           "hovertext": [
            "South Africa"
           ],
           "ids": [
            "ZAF"
           ],
           "legendgroup": "South Africa",
           "marker": {
            "color": "#EF553B",
            "size": [
             400
            ],
            "sizemode": "area",
            "sizeref": 0.16,
            "symbol": "circle"
           },
           "mode": "markers",
           "name": "South Africa",
           "orientation": "v",
           "showlegend": true,
           "type": "scatter",
           "x": [
            6.571396
           ],
           "xaxis": "x",
           "y": [
            7.22808
           ],
           "yaxis": "y"
          },
          {
           "hovertemplate": "<b>%{hovertext}</b><br><br>Region=G7_ex US<br>TIME=2016<br>Inflation Rate=%{x}<br>Nominal Interest Rate (3m T-Bill)=%{y}<br>size=%{marker.size}<extra></extra>",
           "hovertext": [
            "Japan",
            "United Kingdom",
            "Italy",
            "France",
            "Germany",
            "Canada"
           ],
           "ids": [
            "JPN",
            "GBR",
            "ITA",
            "FRA",
            "DEU",
            "CAN"
           ],
           "legendgroup": "G7_ex US",
           "marker": {
            "color": "#00cc96",
            "size": [
             50,
             50,
             50,
             50,
             50,
             50
            ],
            "sizemode": "area",
            "sizeref": 0.16,
            "symbol": "circle"
           },
           "mode": "markers",
           "name": "G7_ex US",
           "orientation": "v",
           "showlegend": true,
           "type": "scatter",
           "x": [
            -0.1333333,
            1,
            -0.0940214,
            0.1833349,
            0.4917486,
            1.42876
           ],
           "xaxis": "x",
           "y": [
            0.07366667,
            0.4989917,
            -0.2636917,
            -0.2636917,
            -0.2636917,
            0.8163781
           ],
           "yaxis": "y"
          },
          {
           "hovertemplate": "<b>%{hovertext}</b><br><br>Region=EM_Peer<br>TIME=2016<br>Inflation Rate=%{x}<br>Nominal Interest Rate (3m T-Bill)=%{y}<br>size=%{marker.size}<extra></extra>",
           "hovertext": [
            "Hungary",
            "Chile",
            "Indonesia",
            "Colombia",
            "India",
            "Mexico"
           ],
           "ids": [
            "HUN",
            "CHL",
            "IDN",
            "COL",
            "IND",
            "MEX"
           ],
           "legendgroup": "EM_Peer",
           "marker": {
            "color": "#ab63fa",
            "size": [
             100,
             100,
             100,
             100,
             100,
             100
            ],
            "sizemode": "area",
            "sizeref": 0.16,
            "symbol": "circle"
           },
           "mode": "markers",
           "name": "EM_Peer",
           "orientation": "v",
           "showlegend": true,
           "type": "scatter",
           "x": [
            0.3947693,
            3.786194,
            3.525805,
            7.513461,
            4.941027,
            2.821708
           ],
           "xaxis": "x",
           "y": [
            0.9523166,
            3.528889,
            7.165833,
            6.781667,
            6.441417,
            4.568333
           ],
           "yaxis": "y"
          },
          {
           "hovertemplate": "<b>%{hovertext}</b><br><br>Region=EM_Other<br>TIME=2016<br>Inflation Rate=%{x}<br>Nominal Interest Rate (3m T-Bill)=%{y}<br>size=%{marker.size}<extra></extra>",
           "hovertext": [
            "Ireland",
            "Lithuania",
            "China",
            "Greece",
            "Latvia",
            "Slovak Republic",
            "Slovenia",
            "Iceland",
            "Russia",
            "Czech Republic",
            "Costa Rica",
            "Estonia"
           ],
           "ids": [
            "IRL",
            "LTU",
            "CHN",
            "GRC",
            "LVA",
            "SVK",
            "SVN",
            "ISL",
            "RUS",
            "CZE",
            "CRI",
            "EST"
           ],
           "legendgroup": "EM_Other",
           "marker": {
            "color": "#FFA15A",
            "size": [
             50,
             50,
             50,
             50,
             50,
             50,
             50,
             50,
             50,
             50,
             50,
             50
            ],
            "sizemode": "area",
            "sizeref": 0.16,
            "symbol": "circle"
           },
           "mode": "markers",
           "name": "EM_Other",
           "orientation": "v",
           "showlegend": true,
           "type": "scatter",
           "x": [
            0.008306338,
            0.9055251,
            2,
            -0.8256576,
            0.1406308,
            -0.5200102,
            -0.05499954,
            1.69693,
            7.042436,
            0.6835042,
            -0.01747885,
            0.1486849
           ],
           "xaxis": "x",
           "y": [
            -0.2636917,
            -0.2636917,
            3.091667,
            -0.2636917,
            -0.2636917,
            -0.2636917,
            -0.2636917,
            6.279167,
            11.6025,
            0.2891667,
            4.123492,
            -0.2636917
           ],
           "yaxis": "y"
          },
          {
           "hovertemplate": "<b>%{hovertext}</b><br><br>Region=DM_Other<br>TIME=2016<br>Inflation Rate=%{x}<br>Nominal Interest Rate (3m T-Bill)=%{y}<br>size=%{marker.size}<extra></extra>",
           "hovertext": [
            "Norway",
            "Australia",
            "New Zealand",
            "South Korea",
            "Israel",
            "Poland"
           ],
           "ids": [
            "NOR",
            "AUS",
            "NZL",
            "KOR",
            "ISR",
            "POL"
           ],
           "legendgroup": "DM_Other",
           "marker": {
            "color": "#19d3f3",
            "size": [
             50,
             50,
             50,
             50,
             50,
             50
            ],
            "sizemode": "area",
            "sizeref": 0.16,
            "symbol": "circle"
           },
           "mode": "markers",
           "name": "DM_Other",
           "orientation": "v",
           "showlegend": true,
           "type": "scatter",
           "x": [
            3.55,
            1.276991,
            0.6462373,
            0.9716858,
            -0.5515524,
            -0.5833333
           ],
           "xaxis": "x",
           "y": [
            1.066667,
            1.986667,
            2.33,
            1.493333,
            0.1064319,
            1.701667
           ],
           "yaxis": "y"
          },
          {
           "hovertemplate": "<b>%{hovertext}</b><br><br>Region=DM_Europe<br>TIME=2016<br>Inflation Rate=%{x}<br>Nominal Interest Rate (3m T-Bill)=%{y}<br>size=%{marker.size}<extra></extra>",
           "hovertext": [
            "Spain",
            "Portugal",
            "Netherlands",
            "Belgium",
            "Finland",
            "Sweden",
            "Austria",
            "Luxembourg",
            "Switzerland",
            "Denmark"
           ],
           "ids": [
            "ESP",
            "PRT",
            "NLD",
            "BEL",
            "FIN",
            "SWE",
            "AUT",
            "LUX",
            "CHE",
            "DNK"
           ],
           "legendgroup": "DM_Europe",
           "marker": {
            "color": "#FF6692",
            "size": [
             50,
             50,
             50,
             50,
             50,
             50,
             50,
             50,
             50,
             50
            ],
            "sizemode": "area",
            "sizeref": 0.16,
            "symbol": "circle"
           },
           "mode": "markers",
           "name": "DM_Europe",
           "orientation": "v",
           "showlegend": true,
           "type": "scatter",
           "x": [
            -0.202598,
            0.6073971,
            0.3166667,
            1.973853,
            0.3566845,
            0.9842693,
            0.8915924,
            0.2908333,
            -0.4346187,
            0.25
           ],
           "xaxis": "x",
           "y": [
            -0.2636917,
            -0.2636917,
            -0.2636917,
            -0.2636917,
            -0.2636917,
            -0.655,
            -0.2636917,
            -0.2636917,
            -0.8043817,
            -0.1442461
           ],
           "yaxis": "y"
          }
         ],
         "layout": {
          "title": {
           "text": "2016 : Oil price rebound sparks inflationary pressure"
          }
         },
         "name": "2016"
        },
        {
         "data": [
          {
           "hovertemplate": "<b>%{hovertext}</b><br><br>Region=United States<br>TIME=2017<br>Inflation Rate=%{x}<br>Nominal Interest Rate (3m T-Bill)=%{y}<br>size=%{marker.size}<extra></extra>",
           "hovertext": [
            "United States"
           ],
           "ids": [
            "USA"
           ],
           "legendgroup": "United States",
           "marker": {
            "color": "#636efa",
            "size": [
             200
            ],
            "sizemode": "area",
            "sizeref": 0.16,
            "symbol": "circle"
           },
           "mode": "markers",
           "name": "United States",
           "orientation": "v",
           "showlegend": true,
           "type": "scatter",
           "x": [
            2.13011
           ],
           "xaxis": "x",
           "y": [
            1.1525
           ],
           "yaxis": "y"
          },
          {
           "hovertemplate": "<b>%{hovertext}</b><br><br>Region=South Africa<br>TIME=2017<br>Inflation Rate=%{x}<br>Nominal Interest Rate (3m T-Bill)=%{y}<br>size=%{marker.size}<extra></extra>",
           "hovertext": [
            "South Africa"
           ],
           "ids": [
            "ZAF"
           ],
           "legendgroup": "South Africa",
           "marker": {
            "color": "#EF553B",
            "size": [
             400
            ],
            "sizemode": "area",
            "sizeref": 0.16,
            "symbol": "circle"
           },
           "mode": "markers",
           "name": "South Africa",
           "orientation": "v",
           "showlegend": true,
           "type": "scatter",
           "x": [
            5.184247
           ],
           "xaxis": "x",
           "y": [
            7.331863
           ],
           "yaxis": "y"
          },
          {
           "hovertemplate": "<b>%{hovertext}</b><br><br>Region=G7_ex US<br>TIME=2017<br>Inflation Rate=%{x}<br>Nominal Interest Rate (3m T-Bill)=%{y}<br>size=%{marker.size}<extra></extra>",
           "hovertext": [
            "Canada",
            "Italy",
            "Germany",
            "United Kingdom",
            "Japan",
            "France"
           ],
           "ids": [
            "CAN",
            "ITA",
            "DEU",
            "GBR",
            "JPN",
            "FRA"
           ],
           "legendgroup": "G7_ex US",
           "marker": {
            "color": "#00cc96",
            "size": [
             50,
             50,
             50,
             50,
             50,
             50
            ],
            "sizemode": "area",
            "sizeref": 0.16,
            "symbol": "circle"
           },
           "mode": "markers",
           "name": "G7_ex US",
           "orientation": "v",
           "showlegend": true,
           "type": "scatter",
           "x": [
            1.596884,
            1.226533,
            1.509497,
            2.6,
            0.475,
            1.032283
           ],
           "xaxis": "x",
           "y": [
            1.061357,
            -0.32905,
            -0.32905,
            0.3589517,
            0.05933333,
            -0.32905
           ],
           "yaxis": "y"
          },
          {
           "hovertemplate": "<b>%{hovertext}</b><br><br>Region=EM_Peer<br>TIME=2017<br>Inflation Rate=%{x}<br>Nominal Interest Rate (3m T-Bill)=%{y}<br>size=%{marker.size}<extra></extra>",
           "hovertext": [
            "Chile",
            "Colombia",
            "India",
            "Hungary",
            "Mexico",
            "Indonesia"
           ],
           "ids": [
            "CHL",
            "COL",
            "IND",
            "HUN",
            "MEX",
            "IDN"
           ],
           "legendgroup": "EM_Peer",
           "marker": {
            "color": "#ab63fa",
            "size": [
             100,
             100,
             100,
             100,
             100,
             100
            ],
            "sizemode": "area",
            "sizeref": 0.16,
            "symbol": "circle"
           },
           "mode": "markers",
           "name": "EM_Peer",
           "orientation": "v",
           "showlegend": true,
           "type": "scatter",
           "x": [
            2.182719,
            4.314313,
            2.490887,
            2.348243,
            6.041456,
            3.808798
           ],
           "xaxis": "x",
           "y": [
            2.516111,
            5.989167,
            6.154333,
            0.2189083,
            7.120833,
            6.518333
           ],
           "yaxis": "y"
          },
          {
           "hovertemplate": "<b>%{hovertext}</b><br><br>Region=EM_Other<br>TIME=2017<br>Inflation Rate=%{x}<br>Nominal Interest Rate (3m T-Bill)=%{y}<br>size=%{marker.size}<extra></extra>",
           "hovertext": [
            "Costa Rica",
            "Slovak Republic",
            "Estonia",
            "Lithuania",
            "Russia",
            "Greece",
            "Latvia",
            "Slovenia",
            "Iceland",
            "China",
            "Ireland",
            "Czech Republic"
           ],
           "ids": [
            "CRI",
            "SVK",
            "EST",
            "LTU",
            "RUS",
            "GRC",
            "LVA",
            "SVN",
            "ISL",
            "CHN",
            "IRL",
            "CZE"
           ],
           "legendgroup": "EM_Other",
           "marker": {
            "color": "#FFA15A",
            "size": [
             50,
             50,
             50,
             50,
             50,
             50,
             50,
             50,
             50,
             50,
             50,
             50
            ],
            "sizemode": "area",
            "sizeref": 0.16,
            "symbol": "circle"
           },
           "mode": "markers",
           "name": "EM_Other",
           "orientation": "v",
           "showlegend": true,
           "type": "scatter",
           "x": [
            1.625907,
            1.311946,
            3.417236,
            3.722889,
            3.683334,
            1.121259,
            2.930369,
            1.429107,
            1.760413,
            1.6,
            0.3405316,
            2.450534
           ],
           "xaxis": "x",
           "y": [
            5.471797,
            -0.32905,
            -0.32905,
            -0.32905,
            9.120833,
            -0.32905,
            -0.32905,
            -0.32905,
            5.063334,
            4.813334,
            -0.32905,
            0.4075
           ],
           "yaxis": "y"
          },
          {
           "hovertemplate": "<b>%{hovertext}</b><br><br>Region=DM_Other<br>TIME=2017<br>Inflation Rate=%{x}<br>Nominal Interest Rate (3m T-Bill)=%{y}<br>size=%{marker.size}<extra></extra>",
           "hovertext": [
            "New Zealand",
            "Australia",
            "Norway",
            "Poland",
            "Israel",
            "South Korea"
           ],
           "ids": [
            "NZL",
            "AUS",
            "NOR",
            "POL",
            "ISR",
            "KOR"
           ],
           "legendgroup": "DM_Other",
           "marker": {
            "color": "#19d3f3",
            "size": [
             50,
             50,
             50,
             50,
             50,
             50
            ],
            "sizemode": "area",
            "sizeref": 0.16,
            "symbol": "circle"
           },
           "mode": "markers",
           "name": "DM_Other",
           "orientation": "v",
           "showlegend": true,
           "type": "scatter",
           "x": [
            1.850787,
            1.948647,
            1.875101,
            1.975,
            0.259415,
            1.944332
           ],
           "xaxis": "x",
           "y": [
            1.9575,
            1.74,
            0.89,
            1.729167,
            0.115293,
            1.443333
           ],
           "yaxis": "y"
          },
          {
           "hovertemplate": "<b>%{hovertext}</b><br><br>Region=DM_Europe<br>TIME=2017<br>Inflation Rate=%{x}<br>Nominal Interest Rate (3m T-Bill)=%{y}<br>size=%{marker.size}<extra></extra>",
           "hovertext": [
            "Belgium",
            "Spain",
            "Sweden",
            "Austria",
            "Netherlands",
            "Portugal",
            "Denmark",
            "Switzerland",
            "Finland",
            "Luxembourg"
           ],
           "ids": [
            "BEL",
            "ESP",
            "SWE",
            "AUT",
            "NLD",
            "PRT",
            "DNK",
            "CHE",
            "FIN",
            "LUX"
           ],
           "legendgroup": "DM_Europe",
           "marker": {
            "color": "#FF6692",
            "size": [
             50,
             50,
             50,
             50,
             50,
             50,
             50,
             50,
             50,
             50
            ],
            "sizemode": "area",
            "sizeref": 0.16,
            "symbol": "circle"
           },
           "mode": "markers",
           "name": "DM_Europe",
           "orientation": "v",
           "showlegend": true,
           "type": "scatter",
           "x": [
            2.125971,
            1.956076,
            1.794499,
            2.081269,
            1.381459,
            1.368614,
            1.147132,
            0.5337878,
            0.754015,
            1.7308
           ],
           "xaxis": "x",
           "y": [
            -0.32905,
            -0.32905,
            -0.695,
            -0.32905,
            -0.32905,
            -0.32905,
            -0.2637579,
            -0.8191667,
            -0.32905,
            -0.32905
           ],
           "yaxis": "y"
          }
         ],
         "layout": {
          "title": {
           "text": "2017 : Global secular stagnation - inflation and real interest rates remain low"
          }
         },
         "name": "2017"
        },
        {
         "data": [
          {
           "hovertemplate": "<b>%{hovertext}</b><br><br>Region=United States<br>TIME=2018<br>Inflation Rate=%{x}<br>Nominal Interest Rate (3m T-Bill)=%{y}<br>size=%{marker.size}<extra></extra>",
           "hovertext": [
            "United States"
           ],
           "ids": [
            "USA"
           ],
           "legendgroup": "United States",
           "marker": {
            "color": "#636efa",
            "size": [
             200
            ],
            "sizemode": "area",
            "sizeref": 0.16,
            "symbol": "circle"
           },
           "mode": "markers",
           "name": "United States",
           "orientation": "v",
           "showlegend": true,
           "type": "scatter",
           "x": [
            2.442583
           ],
           "xaxis": "x",
           "y": [
            2.188333
           ],
           "yaxis": "y"
          },
          {
           "hovertemplate": "<b>%{hovertext}</b><br><br>Region=South Africa<br>TIME=2018<br>Inflation Rate=%{x}<br>Nominal Interest Rate (3m T-Bill)=%{y}<br>size=%{marker.size}<extra></extra>",
           "hovertext": [
            "South Africa"
           ],
           "ids": [
            "ZAF"
           ],
           "legendgroup": "South Africa",
           "marker": {
            "color": "#EF553B",
            "size": [
             400
            ],
            "sizemode": "area",
            "sizeref": 0.16,
            "symbol": "circle"
           },
           "mode": "markers",
           "name": "South Africa",
           "orientation": "v",
           "showlegend": true,
           "type": "scatter",
           "x": [
            4.517165
           ],
           "xaxis": "x",
           "y": [
            7.155443
           ],
           "yaxis": "y"
          },
          {
           "hovertemplate": "<b>%{hovertext}</b><br><br>Region=G7_ex US<br>TIME=2018<br>Inflation Rate=%{x}<br>Nominal Interest Rate (3m T-Bill)=%{y}<br>size=%{marker.size}<extra></extra>",
           "hovertext": [
            "Japan",
            "Germany",
            "France",
            "Italy",
            "Canada",
            "United Kingdom"
           ],
           "ids": [
            "JPN",
            "DEU",
            "FRA",
            "ITA",
            "CAN",
            "GBR"
           ],
           "legendgroup": "G7_ex US",
           "marker": {
            "color": "#00cc96",
            "size": [
             50,
             50,
             50,
             50,
             50,
             50
            ],
            "sizemode": "area",
            "sizeref": 0.16,
            "symbol": "circle"
           },
           "mode": "markers",
           "name": "G7_ex US",
           "orientation": "v",
           "showlegend": true,
           "type": "scatter",
           "x": [
            0.9916667,
            1.732168,
            1.850815,
            1.137488,
            2.268226,
            2.3
           ],
           "xaxis": "x",
           "y": [
            0.07233334,
            -0.3220917,
            -0.3220917,
            -0.3220917,
            1.790603,
            0.7228358
           ],
           "yaxis": "y"
          },
          {
           "hovertemplate": "<b>%{hovertext}</b><br><br>Region=EM_Peer<br>TIME=2018<br>Inflation Rate=%{x}<br>Nominal Interest Rate (3m T-Bill)=%{y}<br>size=%{marker.size}<extra></extra>",
           "hovertext": [
            "Mexico",
            "Indonesia",
            "Chile",
            "Colombia",
            "Hungary",
            "India"
           ],
           "ids": [
            "MEX",
            "IDN",
            "CHL",
            "COL",
            "HUN",
            "IND"
           ],
           "legendgroup": "EM_Peer",
           "marker": {
            "color": "#ab63fa",
            "size": [
             100,
             100,
             100,
             100,
             100,
             100
            ],
            "sizemode": "area",
            "sizeref": 0.16,
            "symbol": "circle"
           },
           "mode": "markers",
           "name": "EM_Peer",
           "orientation": "v",
           "showlegend": true,
           "type": "scatter",
           "x": [
            4.899351,
            3.198346,
            2.43489,
            3.24057,
            2.850248,
            4.8607
           ],
           "xaxis": "x",
           "y": [
            8.055833,
            6.129167,
            2.657917,
            4.709167,
            0.1161,
            6.560958
           ],
           "yaxis": "y"
          },
          {
           "hovertemplate": "<b>%{hovertext}</b><br><br>Region=EM_Other<br>TIME=2018<br>Inflation Rate=%{x}<br>Nominal Interest Rate (3m T-Bill)=%{y}<br>size=%{marker.size}<extra></extra>",
           "hovertext": [
            "Czech Republic",
            "Russia",
            "Estonia",
            "Slovenia",
            "Slovak Republic",
            "China",
            "Latvia",
            "Costa Rica",
            "Ireland",
            "Greece",
            "Lithuania",
            "Iceland"
           ],
           "ids": [
            "CZE",
            "RUS",
            "EST",
            "SVN",
            "SVK",
            "CHN",
            "LVA",
            "CRI",
            "IRL",
            "GRC",
            "LTU",
            "ISL"
           ],
           "legendgroup": "EM_Other",
           "marker": {
            "color": "#FFA15A",
            "size": [
             50,
             50,
             50,
             50,
             50,
             50,
             50,
             50,
             50,
             50,
             50,
             50
            ],
            "sizemode": "area",
            "sizeref": 0.16,
            "symbol": "circle"
           },
           "mode": "markers",
           "name": "EM_Other",
           "orientation": "v",
           "showlegend": true,
           "type": "scatter",
           "x": [
            2.149495,
            2.878305,
            3.436327,
            1.738609,
            2.514037,
            2.1,
            2.53446,
            2.221115,
            0.4883702,
            0.6256205,
            2.697928,
            2.682915
           ],
           "xaxis": "x",
           "y": [
            1.269167,
            7.559166,
            -0.3220917,
            -0.3220917,
            -0.3220917,
            4.035,
            -0.3220917,
            6.54185,
            -0.3220917,
            -0.3220917,
            -0.3220917,
            4.7225
           ],
           "yaxis": "y"
          },
          {
           "hovertemplate": "<b>%{hovertext}</b><br><br>Region=DM_Other<br>TIME=2018<br>Inflation Rate=%{x}<br>Nominal Interest Rate (3m T-Bill)=%{y}<br>size=%{marker.size}<extra></extra>",
           "hovertext": [
            "South Korea",
            "Australia",
            "Israel",
            "Norway",
            "Poland",
            "New Zealand"
           ],
           "ids": [
            "KOR",
            "AUS",
            "ISR",
            "NOR",
            "POL",
            "NZL"
           ],
           "legendgroup": "DM_Other",
           "marker": {
            "color": "#19d3f3",
            "size": [
             50,
             50,
             50,
             50,
             50,
             50
            ],
            "sizemode": "area",
            "sizeref": 0.16,
            "symbol": "circle"
           },
           "mode": "markers",
           "name": "DM_Other",
           "orientation": "v",
           "showlegend": true,
           "type": "scatter",
           "x": [
            1.475839,
            1.911401,
            0.7940757,
            2.764831,
            1.666667,
            1.598298
           ],
           "xaxis": "x",
           "y": [
            1.68,
            1.948333,
            0.1385781,
            1.066667,
            1.710833,
            1.946667
           ],
           "yaxis": "y"
          },
          {
           "hovertemplate": "<b>%{hovertext}</b><br><br>Region=DM_Europe<br>TIME=2018<br>Inflation Rate=%{x}<br>Nominal Interest Rate (3m T-Bill)=%{y}<br>size=%{marker.size}<extra></extra>",
           "hovertext": [
            "Austria",
            "Spain",
            "Denmark",
            "Switzerland",
            "Netherlands",
            "Belgium",
            "Portugal",
            "Sweden",
            "Luxembourg",
            "Finland"
           ],
           "ids": [
            "AUT",
            "ESP",
            "DNK",
            "CHE",
            "NLD",
            "BEL",
            "PRT",
            "SWE",
            "LUX",
            "FIN"
           ],
           "legendgroup": "DM_Europe",
           "marker": {
            "color": "#FF6692",
            "size": [
             50,
             50,
             50,
             50,
             50,
             50,
             50,
             50,
             50,
             50
            ],
            "sizemode": "area",
            "sizeref": 0.16,
            "symbol": "circle"
           },
           "mode": "markers",
           "name": "DM_Europe",
           "orientation": "v",
           "showlegend": true,
           "type": "scatter",
           "x": [
            1.998382,
            1.674981,
            0.8136095,
            0.9363354,
            1.703498,
            2.053165,
            0.9937157,
            1.953535,
            1.528195,
            1.083821
           ],
           "xaxis": "x",
           "y": [
            -0.3220917,
            -0.3220917,
            -0.2992443,
            -0.7846233,
            -0.3220917,
            -0.3220917,
            -0.3220917,
            -0.6858333,
            -0.3220917,
            -0.3220917
           ],
           "yaxis": "y"
          }
         ],
         "layout": {
          "title": {
           "text": "2018 : South African recession spurs inflation retreat within target range"
          }
         },
         "name": "2018"
        },
        {
         "data": [
          {
           "hovertemplate": "<b>%{hovertext}</b><br><br>Region=United States<br>TIME=2019<br>Inflation Rate=%{x}<br>Nominal Interest Rate (3m T-Bill)=%{y}<br>size=%{marker.size}<extra></extra>",
           "hovertext": [
            "United States"
           ],
           "ids": [
            "USA"
           ],
           "legendgroup": "United States",
           "marker": {
            "color": "#636efa",
            "size": [
             200
            ],
            "sizemode": "area",
            "sizeref": 0.16,
            "symbol": "circle"
           },
           "mode": "markers",
           "name": "United States",
           "orientation": "v",
           "showlegend": true,
           "type": "scatter",
           "x": [
            1.81221
           ],
           "xaxis": "x",
           "y": [
            2.2075
           ],
           "yaxis": "y"
          },
          {
           "hovertemplate": "<b>%{hovertext}</b><br><br>Region=South Africa<br>TIME=2019<br>Inflation Rate=%{x}<br>Nominal Interest Rate (3m T-Bill)=%{y}<br>size=%{marker.size}<extra></extra>",
           "hovertext": [
            "South Africa"
           ],
           "ids": [
            "ZAF"
           ],
           "legendgroup": "South Africa",
           "marker": {
            "color": "#EF553B",
            "size": [
             400
            ],
            "sizemode": "area",
            "sizeref": 0.16,
            "symbol": "circle"
           },
           "mode": "markers",
           "name": "South Africa",
           "orientation": "v",
           "showlegend": true,
           "type": "scatter",
           "x": [
            4.120246
           ],
           "xaxis": "x",
           "y": [
            7.084257
           ],
           "yaxis": "y"
          },
          {
           "hovertemplate": "<b>%{hovertext}</b><br><br>Region=G7_ex US<br>TIME=2019<br>Inflation Rate=%{x}<br>Nominal Interest Rate (3m T-Bill)=%{y}<br>size=%{marker.size}<extra></extra>",
           "hovertext": [
            "Italy",
            "Germany",
            "Japan",
            "France",
            "United Kingdom",
            "Canada"
           ],
           "ids": [
            "ITA",
            "DEU",
            "JPN",
            "FRA",
            "GBR",
            "CAN"
           ],
           "legendgroup": "G7_ex US",
           "marker": {
            "color": "#00cc96",
            "size": [
             50,
             50,
             50,
             50,
             50,
             50
            ],
            "sizemode": "area",
            "sizeref": 0.16,
            "symbol": "circle"
           },
           "mode": "markers",
           "name": "G7_ex US",
           "orientation": "v",
           "showlegend": true,
           "type": "scatter",
           "x": [
            0.6112469,
            1.445667,
            0.475,
            1.108255,
            1.7,
            1.949269
           ],
           "xaxis": "x",
           "y": [
            -0.3563333,
            -0.3563333,
            0.03108333,
            -0.3563333,
            0.80785,
            1.890311
           ],
           "yaxis": "y"
          },
          {
           "hovertemplate": "<b>%{hovertext}</b><br><br>Region=EM_Peer<br>TIME=2019<br>Inflation Rate=%{x}<br>Nominal Interest Rate (3m T-Bill)=%{y}<br>size=%{marker.size}<extra></extra>",
           "hovertext": [
            "Indonesia",
            "India",
            "Hungary",
            "Colombia",
            "Mexico",
            "Chile"
           ],
           "ids": [
            "IDN",
            "IND",
            "HUN",
            "COL",
            "MEX",
            "CHL"
           ],
           "legendgroup": "EM_Peer",
           "marker": {
            "color": "#ab63fa",
            "size": [
             100,
             100,
             100,
             100,
             100,
             100
            ],
            "sizemode": "area",
            "sizeref": 0.16,
            "symbol": "circle"
           },
           "mode": "markers",
           "name": "EM_Peer",
           "orientation": "v",
           "showlegend": true,
           "type": "scatter",
           "x": [
            3.030587,
            7.659695,
            3.338586,
            3.52302,
            3.635961,
            2.557545
           ],
           "xaxis": "x",
           "y": [
            6.688334,
            5.834667,
            0.1866917,
            4.498333,
            8.273334,
            2.678333
           ],
           "yaxis": "y"
          },
          {
           "hovertemplate": "<b>%{hovertext}</b><br><br>Region=EM_Other<br>TIME=2019<br>Inflation Rate=%{x}<br>Nominal Interest Rate (3m T-Bill)=%{y}<br>size=%{marker.size}<extra></extra>",
           "hovertext": [
            "Slovenia",
            "Latvia",
            "Slovak Republic",
            "Estonia",
            "Russia",
            "Iceland",
            "Costa Rica",
            "Czech Republic",
            "Ireland",
            "China",
            "Lithuania",
            "Greece"
           ],
           "ids": [
            "SVN",
            "LVA",
            "SVK",
            "EST",
            "RUS",
            "ISL",
            "CRI",
            "CZE",
            "IRL",
            "CHN",
            "LTU",
            "GRC"
           ],
           "legendgroup": "EM_Other",
           "marker": {
            "color": "#FFA15A",
            "size": [
             50,
             50,
             50,
             50,
             50,
             50,
             50,
             50,
             50,
             50,
             50,
             50
            ],
            "sizemode": "area",
            "sizeref": 0.16,
            "symbol": "circle"
           },
           "mode": "markers",
           "name": "EM_Other",
           "orientation": "v",
           "showlegend": true,
           "type": "scatter",
           "x": [
            1.630523,
            2.811403,
            2.664561,
            2.277259,
            4.470367,
            3.013977,
            2.096046,
            2.847876,
            0.9390445,
            2.9,
            2.334509,
            0.2529927
           ],
           "xaxis": "x",
           "y": [
            -0.3563333,
            -0.3563333,
            -0.3563333,
            -0.3563333,
            7.688334,
            4.393333,
            6.57614,
            2.116667,
            -0.3563333,
            3.235833,
            -0.3563333,
            -0.3563333
           ],
           "yaxis": "y"
          },
          {
           "hovertemplate": "<b>%{hovertext}</b><br><br>Region=DM_Other<br>TIME=2019<br>Inflation Rate=%{x}<br>Nominal Interest Rate (3m T-Bill)=%{y}<br>size=%{marker.size}<extra></extra>",
           "hovertext": [
            "Poland",
            "Israel",
            "New Zealand",
            "Australia",
            "South Korea",
            "Norway"
           ],
           "ids": [
            "POL",
            "ISR",
            "NZL",
            "AUS",
            "KOR",
            "NOR"
           ],
           "legendgroup": "DM_Other",
           "marker": {
            "color": "#19d3f3",
            "size": [
             50,
             50,
             50,
             50,
             50,
             50
            ],
            "sizemode": "area",
            "sizeref": 0.16,
            "symbol": "circle"
           },
           "mode": "markers",
           "name": "DM_Other",
           "orientation": "v",
           "showlegend": true,
           "type": "scatter",
           "x": [
            2.308333,
            0.8497831,
            1.619632,
            1.610768,
            0.3830003,
            2.16773
           ],
           "xaxis": "x",
           "y": [
            1.7175,
            0.2335173,
            1.519167,
            1.344167,
            1.696667,
            1.5525
           ],
           "yaxis": "y"
          },
          {
           "hovertemplate": "<b>%{hovertext}</b><br><br>Region=DM_Europe<br>TIME=2019<br>Inflation Rate=%{x}<br>Nominal Interest Rate (3m T-Bill)=%{y}<br>size=%{marker.size}<extra></extra>",
           "hovertext": [
            "Luxembourg",
            "Sweden",
            "Denmark",
            "Finland",
            "Austria",
            "Portugal",
            "Spain",
            "Switzerland",
            "Belgium",
            "Netherlands"
           ],
           "ids": [
            "LUX",
            "SWE",
            "DNK",
            "FIN",
            "AUT",
            "PRT",
            "ESP",
            "CHE",
            "BEL",
            "NLD"
           ],
           "legendgroup": "DM_Europe",
           "marker": {
            "color": "#FF6692",
            "size": [
             50,
             50,
             50,
             50,
             50,
             50,
             50,
             50,
             50,
             50
            ],
            "sizemode": "area",
            "sizeref": 0.16,
            "symbol": "circle"
           },
           "mode": "markers",
           "name": "DM_Europe",
           "orientation": "v",
           "showlegend": true,
           "type": "scatter",
           "x": [
            1.743321,
            1.784151,
            0.7581316,
            1.024094,
            1.530896,
            0.3381784,
            0.699519,
            0.3628862,
            1.43682,
            2.633699
           ],
           "xaxis": "x",
           "y": [
            -0.3563333,
            -0.4196333,
            -0.3719969,
            -0.3563333,
            -0.3563333,
            -0.3563333,
            -0.3563333,
            -0.7520567,
            -0.3563333,
            -0.3563333
           ],
           "yaxis": "y"
          }
         ],
         "layout": {
          "title": {
           "text": "2019 : Global rates remain near zero, challenging conventional monetary policy"
          }
         },
         "name": "2019"
        },
        {
         "data": [
          {
           "hovertemplate": "<b>%{hovertext}</b><br><br>Region=United States<br>TIME=2020<br>Inflation Rate=%{x}<br>Nominal Interest Rate (3m T-Bill)=%{y}<br>size=%{marker.size}<extra></extra>",
           "hovertext": [
            "United States"
           ],
           "ids": [
            "USA"
           ],
           "legendgroup": "United States",
           "marker": {
            "color": "#636efa",
            "size": [
             200
            ],
            "sizemode": "area",
            "sizeref": 0.16,
            "symbol": "circle"
           },
           "mode": "markers",
           "name": "United States",
           "orientation": "v",
           "showlegend": true,
           "type": "scatter",
           "x": [
            1.233584
           ],
           "xaxis": "x",
           "y": [
            0.5336364
           ],
           "yaxis": "y"
          },
          {
           "hovertemplate": "<b>%{hovertext}</b><br><br>Region=South Africa<br>TIME=2020<br>Inflation Rate=%{x}<br>Nominal Interest Rate (3m T-Bill)=%{y}<br>size=%{marker.size}<extra></extra>",
           "hovertext": [
            "South Africa"
           ],
           "ids": [
            "ZAF"
           ],
           "legendgroup": "South Africa",
           "marker": {
            "color": "#EF553B",
            "size": [
             400
            ],
            "sizemode": "area",
            "sizeref": 0.16,
            "symbol": "circle"
           },
           "mode": "markers",
           "name": "South Africa",
           "orientation": "v",
           "showlegend": true,
           "type": "scatter",
           "x": [
            3.210036
           ],
           "xaxis": "x",
           "y": [
            4.545619
           ],
           "yaxis": "y"
          },
          {
           "hovertemplate": "<b>%{hovertext}</b><br><br>Region=G7_ex US<br>TIME=2020<br>Inflation Rate=%{x}<br>Nominal Interest Rate (3m T-Bill)=%{y}<br>size=%{marker.size}<extra></extra>",
           "hovertext": [
            "Italy",
            "Germany",
            "United Kingdom",
            "Canada",
            "France",
            "Japan"
           ],
           "ids": [
            "ITA",
            "DEU",
            "GBR",
            "CAN",
            "FRA",
            "JPN"
           ],
           "legendgroup": "G7_ex US",
           "marker": {
            "color": "#00cc96",
            "size": [
             50,
             50,
             50,
             50,
             50,
             50
            ],
            "sizemode": "area",
            "sizeref": 0.16,
            "symbol": "circle"
           },
           "mode": "markers",
           "name": "G7_ex US",
           "orientation": "v",
           "showlegend": true,
           "type": "scatter",
           "x": [
            -0.1377076,
            0.1448705,
            1,
            0.7169997,
            0.4764988,
            -0.01666667
           ],
           "xaxis": "x",
           "y": [
            -0.42515,
            -0.42515,
            0.295,
            0.6354551,
            -0.42515,
            -0.03541667
           ],
           "yaxis": "y"
          },
          {
           "hovertemplate": "<b>%{hovertext}</b><br><br>Region=EM_Peer<br>TIME=2020<br>Inflation Rate=%{x}<br>Nominal Interest Rate (3m T-Bill)=%{y}<br>size=%{marker.size}<extra></extra>",
           "hovertext": [
            "Mexico",
            "Hungary",
            "Indonesia",
            "India",
            "Colombia",
            "Chile"
           ],
           "ids": [
            "MEX",
            "HUN",
            "IDN",
            "IND",
            "COL",
            "CHL"
           ],
           "legendgroup": "EM_Peer",
           "marker": {
            "color": "#ab63fa",
            "size": [
             100,
             100,
             100,
             100,
             100,
             100
            ],
            "sizemode": "area",
            "sizeref": 0.16,
            "symbol": "circle"
           },
           "mode": "markers",
           "name": "EM_Peer",
           "orientation": "v",
           "showlegend": true,
           "type": "scatter",
           "x": [
            3.396834,
            3.326744,
            1.920968,
            5.561349,
            2.52662,
            -100
           ],
           "xaxis": "x",
           "y": [
            5.673333,
            0.7022583,
            5.504167,
            3.765,
            3.378333,
            -100
           ],
           "yaxis": "y"
          },
          {
           "hovertemplate": "<b>%{hovertext}</b><br><br>Region=EM_Other<br>TIME=2020<br>Inflation Rate=%{x}<br>Nominal Interest Rate (3m T-Bill)=%{y}<br>size=%{marker.size}<extra></extra>",
           "hovertext": [
            "Ireland",
            "Slovak Republic",
            "Estonia",
            "Iceland",
            "China",
            "Greece",
            "Latvia",
            "Lithuania",
            "Slovenia",
            "Czech Republic",
            "Costa Rica",
            "Russia"
           ],
           "ids": [
            "IRL",
            "SVK",
            "EST",
            "ISL",
            "CHN",
            "GRC",
            "LVA",
            "LTU",
            "SVN",
            "CZE",
            "CRI",
            "RUS"
           ],
           "legendgroup": "EM_Other",
           "marker": {
            "color": "#FFA15A",
            "size": [
             50,
             50,
             50,
             50,
             50,
             50,
             50,
             50,
             50,
             50,
             50,
             50
            ],
            "sizemode": "area",
            "sizeref": 0.16,
            "symbol": "circle"
           },
           "mode": "markers",
           "name": "EM_Other",
           "orientation": "v",
           "showlegend": true,
           "type": "scatter",
           "x": [
            -0.3345846,
            1.936941,
            -0.4445311,
            2.847919,
            2.5,
            -1.247972,
            0.2190611,
            1.199894,
            -0.05485681,
            3.161295,
            0.7249115,
            -100
           ],
           "xaxis": "x",
           "y": [
            -0.42515,
            -0.42515,
            -0.42515,
            2.006667,
            2.915,
            -0.42515,
            -0.42515,
            -0.42515,
            -0.42515,
            0.8575,
            4.131198,
            -100
           ],
           "yaxis": "y"
          },
          {
           "hovertemplate": "<b>%{hovertext}</b><br><br>Region=DM_Other<br>TIME=2020<br>Inflation Rate=%{x}<br>Nominal Interest Rate (3m T-Bill)=%{y}<br>size=%{marker.size}<extra></extra>",
           "hovertext": [
            "Australia",
            "South Korea",
            "Poland",
            "Israel",
            "Norway",
            "New Zealand"
           ],
           "ids": [
            "AUS",
            "KOR",
            "POL",
            "ISR",
            "NOR",
            "NZL"
           ],
           "legendgroup": "DM_Other",
           "marker": {
            "color": "#19d3f3",
            "size": [
             50,
             50,
             50,
             50,
             50,
             50
            ],
            "sizemode": "area",
            "sizeref": 0.16,
            "symbol": "circle"
           },
           "mode": "markers",
           "name": "DM_Other",
           "orientation": "v",
           "showlegend": true,
           "type": "scatter",
           "x": [
            0.8469055,
            0.537288,
            3.4,
            -0.6144124,
            1.286585,
            1.714562
           ],
           "xaxis": "x",
           "y": [
            0.2566667,
            0.9233333,
            0.595,
            0.085,
            0.6991667,
            0.4816667
           ],
           "yaxis": "y"
          },
          {
           "hovertemplate": "<b>%{hovertext}</b><br><br>Region=DM_Europe<br>TIME=2020<br>Inflation Rate=%{x}<br>Nominal Interest Rate (3m T-Bill)=%{y}<br>size=%{marker.size}<extra></extra>",
           "hovertext": [
            "Netherlands",
            "Switzerland",
            "Austria",
            "Belgium",
            "Sweden",
            "Spain",
            "Luxembourg",
            "Portugal",
            "Denmark",
            "Finland"
           ],
           "ids": [
            "NLD",
            "CHE",
            "AUT",
            "BEL",
            "SWE",
            "ESP",
            "LUX",
            "PRT",
            "DNK",
            "FIN"
           ],
           "legendgroup": "DM_Europe",
           "marker": {
            "color": "#FF6692",
            "size": [
             50,
             50,
             50,
             50,
             50,
             50,
             50,
             50,
             50,
             50
            ],
            "sizemode": "area",
            "sizeref": 0.16,
            "symbol": "circle"
           },
           "mode": "markers",
           "name": "DM_Europe",
           "orientation": "v",
           "showlegend": true,
           "type": "scatter",
           "x": [
            1.27246,
            -0.725875,
            1.381909,
            0.7407918,
            0.4973673,
            -0.322753,
            0.8199573,
            -0.01243833,
            0.420712,
            0.2905546
           ],
           "xaxis": "x",
           "y": [
            -0.42515,
            -0.6932642,
            -0.42515,
            -0.42515,
            -0.1368417,
            -0.42515,
            -0.42515,
            -0.42515,
            -0.2405625,
            -0.42515
           ],
           "yaxis": "y"
          }
         ],
         "layout": {
          "title": {
           "text": "2020 : COVID-19 pandemic triggers stock market crash, economic uncertainty, and  rate cuts"
          }
         },
         "name": "2020"
        },
        {
         "data": [
          {
           "hovertemplate": "<b>%{hovertext}</b><br><br>Region=United States<br>TIME=2021<br>Inflation Rate=%{x}<br>Nominal Interest Rate (3m T-Bill)=%{y}<br>size=%{marker.size}<extra></extra>",
           "hovertext": [
            "United States"
           ],
           "ids": [
            "USA"
           ],
           "legendgroup": "United States",
           "marker": {
            "color": "#636efa",
            "size": [
             200
            ],
            "sizemode": "area",
            "sizeref": 0.16,
            "symbol": "circle"
           },
           "mode": "markers",
           "name": "United States",
           "orientation": "v",
           "showlegend": true,
           "type": "scatter",
           "x": [
            4.697859
           ],
           "xaxis": "x",
           "y": [
            0.1141667
           ],
           "yaxis": "y"
          },
          {
           "hovertemplate": "<b>%{hovertext}</b><br><br>Region=South Africa<br>TIME=2021<br>Inflation Rate=%{x}<br>Nominal Interest Rate (3m T-Bill)=%{y}<br>size=%{marker.size}<extra></extra>",
           "hovertext": [
            "South Africa"
           ],
           "ids": [
            "ZAF"
           ],
           "legendgroup": "South Africa",
           "marker": {
            "color": "#EF553B",
            "size": [
             400
            ],
            "sizemode": "area",
            "sizeref": 0.16,
            "symbol": "circle"
           },
           "mode": "markers",
           "name": "South Africa",
           "orientation": "v",
           "showlegend": true,
           "type": "scatter",
           "x": [
            4.611672
           ],
           "xaxis": "x",
           "y": [
            3.78381
           ],
           "yaxis": "y"
          },
          {
           "hovertemplate": "<b>%{hovertext}</b><br><br>Region=G7_ex US<br>TIME=2021<br>Inflation Rate=%{x}<br>Nominal Interest Rate (3m T-Bill)=%{y}<br>size=%{marker.size}<extra></extra>",
           "hovertext": [
            "Italy",
            "United Kingdom",
            "Canada",
            "France",
            "Japan",
            "Germany"
           ],
           "ids": [
            "ITA",
            "GBR",
            "CAN",
            "FRA",
            "JPN",
            "DEU"
           ],
           "legendgroup": "G7_ex US",
           "marker": {
            "color": "#00cc96",
            "size": [
             50,
             50,
             50,
             50,
             50,
             50
            ],
            "sizemode": "area",
            "sizeref": 0.16,
            "symbol": "circle"
           },
           "mode": "markers",
           "name": "G7_ex US",
           "orientation": "v",
           "showlegend": true,
           "type": "scatter",
           "x": [
            1.873783,
            2.5,
            3.395193,
            1.642331,
            -0.25,
            3.066667
           ],
           "xaxis": "x",
           "y": [
            -0.5487667,
            0.09,
            0.2092456,
            -0.5487667,
            -0.0655,
            -0.5487667
           ],
           "yaxis": "y"
          },
          {
           "hovertemplate": "<b>%{hovertext}</b><br><br>Region=EM_Peer<br>TIME=2021<br>Inflation Rate=%{x}<br>Nominal Interest Rate (3m T-Bill)=%{y}<br>size=%{marker.size}<extra></extra>",
           "hovertext": [
            "Chile",
            "Indonesia",
            "Mexico",
            "Colombia",
            "Hungary",
            "India"
           ],
           "ids": [
            "CHL",
            "IDN",
            "MEX",
            "COL",
            "HUN",
            "IND"
           ],
           "legendgroup": "EM_Peer",
           "marker": {
            "color": "#ab63fa",
            "size": [
             100,
             100,
             100,
             100,
             100,
             100
            ],
            "sizemode": "area",
            "sizeref": 0.16,
            "symbol": "circle"
           },
           "mode": "markers",
           "name": "EM_Peer",
           "orientation": "v",
           "showlegend": true,
           "type": "scatter",
           "x": [
            4.524569,
            1.560136,
            5.689209,
            3.495073,
            5.110965,
            4.890086
           ],
           "xaxis": "x",
           "y": [
            1.836667,
            3.665833,
            4.655833,
            2.0725,
            1.367225,
            3.363333
           ],
           "yaxis": "y"
          },
          {
           "hovertemplate": "<b>%{hovertext}</b><br><br>Region=EM_Other<br>TIME=2021<br>Inflation Rate=%{x}<br>Nominal Interest Rate (3m T-Bill)=%{y}<br>size=%{marker.size}<extra></extra>",
           "hovertext": [
            "Latvia",
            "Ireland",
            "China",
            "Slovenia",
            "Czech Republic",
            "Lithuania",
            "Estonia",
            "Iceland",
            "Costa Rica",
            "Slovak Republic",
            "Russia",
            "Greece"
           ],
           "ids": [
            "LVA",
            "IRL",
            "CHN",
            "SVN",
            "CZE",
            "LTU",
            "EST",
            "ISL",
            "CRI",
            "SVK",
            "RUS",
            "GRC"
           ],
           "legendgroup": "EM_Other",
           "marker": {
            "color": "#FFA15A",
            "size": [
             50,
             50,
             50,
             50,
             50,
             50,
             50,
             50,
             50,
             50,
             50,
             50
            ],
            "sizemode": "area",
            "sizeref": 0.16,
            "symbol": "circle"
           },
           "mode": "markers",
           "name": "EM_Other",
           "orientation": "v",
           "showlegend": true,
           "type": "scatter",
           "x": [
            3.275814,
            2.358143,
            0.9,
            1.917065,
            3.839845,
            4.683544,
            4.653167,
            4.444243,
            1.726478,
            3.149606,
            6.694456,
            1.223826
           ],
           "xaxis": "x",
           "y": [
            -0.5487667,
            -0.5487667,
            2.925833,
            -0.5487667,
            1.126667,
            -0.5487667,
            -0.5487667,
            1.789167,
            2.120833,
            -0.5487667,
            6.41,
            -0.5487667
           ],
           "yaxis": "y"
          },
          {
           "hovertemplate": "<b>%{hovertext}</b><br><br>Region=DM_Other<br>TIME=2021<br>Inflation Rate=%{x}<br>Nominal Interest Rate (3m T-Bill)=%{y}<br>size=%{marker.size}<extra></extra>",
           "hovertext": [
            "Norway",
            "Israel",
            "South Korea",
            "Australia",
            "Poland",
            "New Zealand"
           ],
           "ids": [
            "NOR",
            "ISR",
            "KOR",
            "AUS",
            "POL",
            "NZL"
           ],
           "legendgroup": "DM_Other",
           "marker": {
            "color": "#19d3f3",
            "size": [
             50,
             50,
             50,
             50,
             50,
             50
            ],
            "sizemode": "area",
            "sizeref": 0.16,
            "symbol": "circle"
           },
           "mode": "markers",
           "name": "DM_Other",
           "orientation": "v",
           "showlegend": true,
           "type": "scatter",
           "x": [
            3.483881,
            1.510201,
            2.498333,
            2.86391,
            5.1,
            3.941121
           ],
           "xaxis": "x",
           "y": [
            0.5041667,
            -0.008333334,
            0.85,
            0.02833333,
            0.605,
            0.4883333
           ],
           "yaxis": "y"
          },
          {
           "hovertemplate": "<b>%{hovertext}</b><br><br>Region=DM_Europe<br>TIME=2021<br>Inflation Rate=%{x}<br>Nominal Interest Rate (3m T-Bill)=%{y}<br>size=%{marker.size}<extra></extra>",
           "hovertext": [
            "Finland",
            "Switzerland",
            "Luxembourg",
            "Portugal",
            "Spain",
            "Netherlands",
            "Sweden",
            "Austria",
            "Belgium",
            "Denmark"
           ],
           "ids": [
            "FIN",
            "CHE",
            "LUX",
            "PRT",
            "ESP",
            "NLD",
            "SWE",
            "AUT",
            "BEL",
            "DNK"
           ],
           "legendgroup": "DM_Europe",
           "marker": {
            "color": "#FF6692",
            "size": [
             50,
             50,
             50,
             50,
             50,
             50,
             50,
             50,
             50,
             50
            ],
            "sizemode": "area",
            "sizeref": 0.16,
            "symbol": "circle"
           },
           "mode": "markers",
           "name": "DM_Europe",
           "orientation": "v",
           "showlegend": true,
           "type": "scatter",
           "x": [
            2.194574,
            0.5818142,
            2.52692,
            1.265657,
            3.093135,
            2.67572,
            2.163197,
            2.766667,
            2.440248,
            1.853045
           ],
           "xaxis": "x",
           "y": [
            -0.5487667,
            -0.7393333,
            -0.5487667,
            -0.5487667,
            -0.5487667,
            -0.5487667,
            -0.1943333,
            -0.5487667,
            -0.5487667,
            -0.2300674
           ],
           "yaxis": "y"
          }
         ],
         "layout": {
          "title": {
           "text": "2021 : Global inflation surges amid supply chain disruptions"
          }
         },
         "name": "2021"
        },
        {
         "data": [
          {
           "hovertemplate": "<b>%{hovertext}</b><br><br>Region=United States<br>TIME=2022<br>Inflation Rate=%{x}<br>Nominal Interest Rate (3m T-Bill)=%{y}<br>size=%{marker.size}<extra></extra>",
           "hovertext": [
            "United States"
           ],
           "ids": [
            "USA"
           ],
           "legendgroup": "United States",
           "marker": {
            "color": "#636efa",
            "size": [
             200
            ],
            "sizemode": "area",
            "sizeref": 0.16,
            "symbol": "circle"
           },
           "mode": "markers",
           "name": "United States",
           "orientation": "v",
           "showlegend": true,
           "type": "scatter",
           "x": [
            8.0028
           ],
           "xaxis": "x",
           "y": [
            2.2275
           ],
           "yaxis": "y"
          },
          {
           "hovertemplate": "<b>%{hovertext}</b><br><br>Region=South Africa<br>TIME=2022<br>Inflation Rate=%{x}<br>Nominal Interest Rate (3m T-Bill)=%{y}<br>size=%{marker.size}<extra></extra>",
           "hovertext": [
            "South Africa"
           ],
           "ids": [
            "ZAF"
           ],
           "legendgroup": "South Africa",
           "marker": {
            "color": "#EF553B",
            "size": [
             400
            ],
            "sizemode": "area",
            "sizeref": 0.16,
            "symbol": "circle"
           },
           "mode": "markers",
           "name": "South Africa",
           "orientation": "v",
           "showlegend": true,
           "type": "scatter",
           "x": [
            7.039727
           ],
           "xaxis": "x",
           "y": [
            5.063748
           ],
           "yaxis": "y"
          },
          {
           "hovertemplate": "<b>%{hovertext}</b><br><br>Region=G7_ex US<br>TIME=2022<br>Inflation Rate=%{x}<br>Nominal Interest Rate (3m T-Bill)=%{y}<br>size=%{marker.size}<extra></extra>",
           "hovertext": [
            "Italy",
            "Germany",
            "Canada",
            "Japan",
            "France",
            "United Kingdom"
           ],
           "ids": [
            "ITA",
            "DEU",
            "CAN",
            "JPN",
            "FRA",
            "GBR"
           ],
           "legendgroup": "G7_ex US",
           "marker": {
            "color": "#00cc96",
            "size": [
             50,
             50,
             50,
             50,
             50,
             50
            ],
            "sizemode": "area",
            "sizeref": 0.16,
            "symbol": "circle"
           },
           "mode": "markers",
           "name": "G7_ex US",
           "orientation": "v",
           "showlegend": true,
           "type": "scatter",
           "x": [
            8.20129,
            6.872574,
            6.802801,
            2.508333,
            5.222367,
            7.9
           ],
           "xaxis": "x",
           "y": [
            0.3415667,
            0.3415667,
            2.557997,
            -0.0295,
            0.3415667,
            2.000833
           ],
           "yaxis": "y"
          },
          {
           "hovertemplate": "<b>%{hovertext}</b><br><br>Region=EM_Peer<br>TIME=2022<br>Inflation Rate=%{x}<br>Nominal Interest Rate (3m T-Bill)=%{y}<br>size=%{marker.size}<extra></extra>",
           "hovertext": [
            "Chile",
            "Indonesia",
            "Hungary",
            "Mexico",
            "Colombia",
            "India"
           ],
           "ids": [
            "CHL",
            "IDN",
            "HUN",
            "MEX",
            "COL",
            "IND"
           ],
           "legendgroup": "EM_Peer",
           "marker": {
            "color": "#ab63fa",
            "size": [
             100,
             100,
             100,
             100,
             100,
             100
            ],
            "sizemode": "area",
            "sizeref": 0.16,
            "symbol": "circle"
           },
           "mode": "markers",
           "name": "EM_Peer",
           "orientation": "v",
           "showlegend": true,
           "type": "scatter",
           "x": [
            11.64387,
            4.209456,
            14.60814,
            7.896276,
            10.17724,
            5.90043
           ],
           "xaxis": "x",
           "y": [
            9.211667,
            3.21,
            9.973392,
            8.1925,
            8.499166,
            5.058333
           ],
           "yaxis": "y"
          },
          {
           "hovertemplate": "<b>%{hovertext}</b><br><br>Region=EM_Other<br>TIME=2022<br>Inflation Rate=%{x}<br>Nominal Interest Rate (3m T-Bill)=%{y}<br>size=%{marker.size}<extra></extra>",
           "hovertext": [
            "Lithuania",
            "Greece",
            "Slovenia",
            "Slovak Republic",
            "Latvia",
            "Iceland",
            "Ireland",
            "Czech Republic",
            "Estonia",
            "China",
            "Costa Rica",
            "Russia"
           ],
           "ids": [
            "LTU",
            "GRC",
            "SVN",
            "SVK",
            "LVA",
            "ISL",
            "IRL",
            "CZE",
            "EST",
            "CHN",
            "CRI",
            "RUS"
           ],
           "legendgroup": "EM_Other",
           "marker": {
            "color": "#FFA15A",
            "size": [
             50,
             50,
             50,
             50,
             50,
             50,
             50,
             50,
             50,
             50,
             50,
             50
            ],
            "sizemode": "area",
            "sizeref": 0.16,
            "symbol": "circle"
           },
           "mode": "markers",
           "name": "EM_Other",
           "orientation": "v",
           "showlegend": true,
           "type": "scatter",
           "x": [
            19.70505,
            9.645261,
            8.833699,
            12.77415,
            17.31029,
            8.308754,
            7.807375,
            15.10017,
            19.39826,
            -100,
            -100,
            -100
           ],
           "xaxis": "x",
           "y": [
            0.3415667,
            0.3415667,
            0.3415667,
            0.3415667,
            0.3415667,
            5.126667,
            0.3415667,
            6.28,
            0.3415667,
            -100,
            -100,
            -100
           ],
           "yaxis": "y"
          },
          {
           "hovertemplate": "<b>%{hovertext}</b><br><br>Region=DM_Other<br>TIME=2022<br>Inflation Rate=%{x}<br>Nominal Interest Rate (3m T-Bill)=%{y}<br>size=%{marker.size}<extra></extra>",
           "hovertext": [
            "South Korea",
            "Israel",
            "Poland",
            "Norway",
            "Australia",
            "New Zealand"
           ],
           "ids": [
            "KOR",
            "ISR",
            "POL",
            "NOR",
            "AUS",
            "NZL"
           ],
           "legendgroup": "DM_Other",
           "marker": {
            "color": "#19d3f3",
            "size": [
             50,
             50,
             50,
             50,
             50,
             50
            ],
            "sizemode": "area",
            "sizeref": 0.16,
            "symbol": "circle"
           },
           "mode": "markers",
           "name": "DM_Other",
           "orientation": "v",
           "showlegend": true,
           "type": "scatter",
           "x": [
            5.087888,
            4.393597,
            14.3,
            5.764123,
            6.594097,
            7.172225
           ],
           "xaxis": "x",
           "y": [
            2.475,
            1.0325,
            6.189167,
            2.138333,
            1.636667,
            2.765833
           ],
           "yaxis": "y"
          },
          {
           "hovertemplate": "<b>%{hovertext}</b><br><br>Region=DM_Europe<br>TIME=2022<br>Inflation Rate=%{x}<br>Nominal Interest Rate (3m T-Bill)=%{y}<br>size=%{marker.size}<extra></extra>",
           "hovertext": [
            "Switzerland",
            "Belgium",
            "Spain",
            "Portugal",
            "Austria",
            "Denmark",
            "Finland",
            "Sweden",
            "Luxembourg",
            "Netherlands"
           ],
           "ids": [
            "CHE",
            "BEL",
            "ESP",
            "PRT",
            "AUT",
            "DNK",
            "FIN",
            "SWE",
            "LUX",
            "NLD"
           ],
           "legendgroup": "DM_Europe",
           "marker": {
            "color": "#FF6692",
            "size": [
             50,
             50,
             50,
             50,
             50,
             50,
             50,
             50,
             50,
             50
            ],
            "sizemode": "area",
            "sizeref": 0.16,
            "symbol": "circle"
           },
           "mode": "markers",
           "name": "DM_Europe",
           "orientation": "v",
           "showlegend": true,
           "type": "scatter",
           "x": [
            2.835028,
            9.597511,
            8.390576,
            7.832691,
            8.54687,
            7.696567,
            7.123507,
            8.369291,
            6.336008,
            10.00121
           ],
           "xaxis": "x",
           "y": [
            -0.1266667,
            0.3415667,
            0.3415667,
            0.3415667,
            0.3415667,
            0.615516,
            0.3415667,
            0.7437167,
            0.3415667,
            0.3415667
           ],
           "yaxis": "y"
          }
         ],
         "layout": {
          "title": {
           "text": "2022 : Inflation rises even more due to post-pandemic consumer demand"
          }
         },
         "name": "2022"
        },
        {
         "data": [
          {
           "hovertemplate": "<b>%{hovertext}</b><br><br>Region=United States<br>TIME=2023<br>Inflation Rate=%{x}<br>Nominal Interest Rate (3m T-Bill)=%{y}<br>size=%{marker.size}<extra></extra>",
           "hovertext": [
            "United States"
           ],
           "ids": [
            "USA"
           ],
           "legendgroup": "United States",
           "marker": {
            "color": "#636efa",
            "size": [
             200
            ],
            "sizemode": "area",
            "sizeref": 0.16,
            "symbol": "circle"
           },
           "mode": "markers",
           "name": "United States",
           "orientation": "v",
           "showlegend": true,
           "type": "scatter",
           "x": [
            4.896306833333333
           ],
           "xaxis": "x",
           "y": [
            5.001428571428571
           ],
           "yaxis": "y"
          },
          {
           "hovertemplate": "<b>%{hovertext}</b><br><br>Region=South Africa<br>TIME=2023<br>Inflation Rate=%{x}<br>Nominal Interest Rate (3m T-Bill)=%{y}<br>size=%{marker.size}<extra></extra>",
           "hovertext": [
            "South Africa"
           ],
           "ids": [
            "ZAF"
           ],
           "legendgroup": "South Africa",
           "marker": {
            "color": "#EF553B",
            "size": [
             400
            ],
            "sizemode": "area",
            "sizeref": 0.16,
            "symbol": "circle"
           },
           "mode": "markers",
           "name": "South Africa",
           "orientation": "v",
           "showlegend": true,
           "type": "scatter",
           "x": [
            6.859463000000001
           ],
           "xaxis": "x",
           "y": [
            7.565315
           ],
           "yaxis": "y"
          },
          {
           "hovertemplate": "<b>%{hovertext}</b><br><br>Region=G7_ex US<br>TIME=2023<br>Inflation Rate=%{x}<br>Nominal Interest Rate (3m T-Bill)=%{y}<br>size=%{marker.size}<extra></extra>",
           "hovertext": [
            "France",
            "Canada",
            "United Kingdom",
            "Japan",
            "Italy",
            "Germany"
           ],
           "ids": [
            "FRA",
            "CAN",
            "GBR",
            "JPN",
            "ITA",
            "DEU"
           ],
           "legendgroup": "G7_ex US",
           "marker": {
            "color": "#00cc96",
            "size": [
             50,
             50,
             50,
             50,
             50,
             50
            ],
            "sizemode": "area",
            "sizeref": 0.16,
            "symbol": "circle"
           },
           "mode": "markers",
           "name": "G7_ex US",
           "orientation": "v",
           "showlegend": true,
           "type": "scatter",
           "x": [
            5.584939333333334,
            1.4510933888888888,
            8.316666666666666,
            3.466666666666667,
            7.837540142857144,
            7.220191857142857
           ],
           "xaxis": "x",
           "y": [
            3.0909857142857144,
            4.865049285714286,
            4.625714285714286,
            -0.006000000000000001,
            3.0909857142857144,
            3.0909857142857144
           ],
           "yaxis": "y"
          },
          {
           "hovertemplate": "<b>%{hovertext}</b><br><br>Region=EM_Peer<br>TIME=2023<br>Inflation Rate=%{x}<br>Nominal Interest Rate (3m T-Bill)=%{y}<br>size=%{marker.size}<extra></extra>",
           "hovertext": [
            "Chile",
            "Indonesia",
            "Hungary",
            "Mexico",
            "Colombia",
            "India"
           ],
           "ids": [
            "CHL",
            "IDN",
            "HUN",
            "MEX",
            "COL",
            "IND"
           ],
           "legendgroup": "EM_Peer",
           "marker": {
            "color": "#ab63fa",
            "size": [
             100,
             100,
             100,
             100,
             100,
             100
            ],
            "sizemode": "area",
            "sizeref": 0.16,
            "symbol": "circle"
           },
           "mode": "markers",
           "name": "EM_Peer",
           "orientation": "v",
           "showlegend": true,
           "type": "scatter",
           "x": [
            9.720826714285716,
            4.3782882857142855,
            22.785714285714285,
            6.329660428571429,
            12.71042857142857,
            5.531690333333334
           ],
           "xaxis": "x",
           "y": [
            11.24,
            6.742857142857143,
            15.39322857142857,
            11.422857142857142,
            13.307142857142859,
            6.738333333333333
           ],
           "yaxis": "y"
          },
          {
           "hovertemplate": "<b>%{hovertext}</b><br><br>Region=EM_Other<br>TIME=2023<br>Inflation Rate=%{x}<br>Nominal Interest Rate (3m T-Bill)=%{y}<br>size=%{marker.size}<extra></extra>",
           "hovertext": [
            "Russia",
            "Iceland",
            "Estonia",
            "Ireland",
            "Greece",
            "Slovak Republic",
            "Slovenia",
            "Czech Republic",
            "China",
            "Latvia",
            "Lithuania",
            "Costa Rica",
            "Bulgaria",
            "Romania",
            "Croatia"
           ],
           "ids": [
            "RUS",
            "ISL",
            "EST",
            "IRL",
            "GRC",
            "SVK",
            "SVN",
            "CZE",
            "CHN",
            "LVA",
            "LTU",
            "CRI",
            "BGR",
            "ROU",
            "HRV"
           ],
           "legendgroup": "EM_Other",
           "marker": {
            "color": "#FFA15A",
            "size": [
             50,
             50,
             50,
             50,
             50,
             50,
             50,
             50,
             50,
             50,
             50,
             50,
             50,
             50,
             50
            ],
            "sizemode": "area",
            "sizeref": 0.16,
            "symbol": "circle"
           },
           "mode": "markers",
           "name": "EM_Other",
           "orientation": "v",
           "showlegend": true,
           "type": "scatter",
           "x": [
            -100,
            9.403308142857142,
            13.116846142857144,
            7.312082166666666,
            3.9629177142857146,
            13.655135,
            8.66003,
            13.061080571428572,
            0.6833333333333332,
            14.364172,
            14.003855285714286,
            -100,
            -100,
            -100,
            -100
           ],
           "xaxis": "x",
           "y": [
            -100,
            8.243333333333334,
            3.0909857142857144,
            3.0909857142857144,
            3.0909857142857144,
            3.0909857142857144,
            3.0909857142857144,
            7.175714285714286,
            2.9283333333333332,
            3.0909857142857144,
            3.0909857142857144,
            5.935,
            1.2653333333333332,
            6.8212142857142855,
            3.0909857142857144
           ],
           "yaxis": "y"
          },
          {
           "hovertemplate": "<b>%{hovertext}</b><br><br>Region=DM_Other<br>TIME=2023<br>Inflation Rate=%{x}<br>Nominal Interest Rate (3m T-Bill)=%{y}<br>size=%{marker.size}<extra></extra>",
           "hovertext": [
            "Israel",
            "New Zealand",
            "Norway",
            "South Korea",
            "Poland",
            "Australia"
           ],
           "ids": [
            "ISR",
            "NZL",
            "NOR",
            "KOR",
            "POL",
            "AUS"
           ],
           "legendgroup": "DM_Other",
           "marker": {
            "color": "#19d3f3",
            "size": [
             50,
             50,
             50,
             50,
             50,
             50
            ],
            "sizemode": "area",
            "sizeref": 0.16,
            "symbol": "circle"
           },
           "mode": "markers",
           "name": "DM_Other",
           "orientation": "v",
           "showlegend": true,
           "type": "scatter",
           "x": [
            4.9048475,
            -100,
            6.387558571428571,
            3.741811857142857,
            15.049999999999999,
            -100
           ],
           "xaxis": "x",
           "y": [
            4.2299999999999995,
            5.354285714285714,
            3.8485714285714283,
            3.652857142857143,
            6.8914285714285715,
            3.79
           ],
           "yaxis": "y"
          },
          {
           "hovertemplate": "<b>%{hovertext}</b><br><br>Region=DM_Europe<br>TIME=2023<br>Inflation Rate=%{x}<br>Nominal Interest Rate (3m T-Bill)=%{y}<br>size=%{marker.size}<extra></extra>",
           "hovertext": [
            "Switzerland",
            "Finland",
            "Sweden",
            "Luxembourg",
            "Belgium",
            "Denmark",
            "Spain",
            "Austria",
            "Netherlands",
            "Portugal"
           ],
           "ids": [
            "CHE",
            "FIN",
            "SWE",
            "LUX",
            "BEL",
            "DNK",
            "ESP",
            "AUT",
            "NLD",
            "PRT"
           ],
           "legendgroup": "DM_Europe",
           "marker": {
            "color": "#FF6692",
            "size": [
             50,
             50,
             50,
             50,
             50,
             50,
             50,
             50,
             50,
             50
            ],
            "sizemode": "area",
            "sizeref": 0.16,
            "symbol": "circle"
           },
           "mode": "markers",
           "name": "DM_Europe",
           "orientation": "v",
           "showlegend": true,
           "type": "scatter",
           "x": [
            2.519953,
            7.698068500000001,
            10.620354666666666,
            3.8538664285714286,
            5.774872714285714,
            5.117183428571429,
            3.818338142857143,
            9.632401333333334,
            5.921972285714285,
            5.742516285714286
           ],
           "xaxis": "x",
           "y": [
            1.2833333333333334,
            3.0909857142857144,
            3.300857142857143,
            3.0909857142857144,
            3.0909857142857144,
            3.215572857142857,
            3.0909857142857144,
            3.0909857142857144,
            3.0909857142857144,
            3.0909857142857144
           ],
           "yaxis": "y"
          }
         ],
         "layout": {
          "title": {
           "text": "2023 : Central banks globally raise rates amid financial turmoil and ongoing global challenges"
          }
         },
         "name": "2023"
        }
       ],
       "layout": {
        "height": 540,
        "legend": {
         "itemsizing": "constant",
         "title": {
          "text": "Region"
         },
         "tracegroupgap": 0
        },
        "sliders": [
         {
          "active": 42,
          "currentvalue": {
           "prefix": "TIME="
          },
          "len": 1,
          "pad": {
           "b": 10,
           "t": 60
          },
          "steps": [
           {
            "args": [
             [
              "1981"
             ],
             {
              "mode": "immediate",
              "redraw": true
             }
            ],
            "label": "1981",
            "method": "animate"
           },
           {
            "args": [
             [
              "1982"
             ],
             {
              "mode": "immediate",
              "redraw": true
             }
            ],
            "label": "1982",
            "method": "animate"
           },
           {
            "args": [
             [
              "1983"
             ],
             {
              "mode": "immediate",
              "redraw": true
             }
            ],
            "label": "1983",
            "method": "animate"
           },
           {
            "args": [
             [
              "1984"
             ],
             {
              "mode": "immediate",
              "redraw": true
             }
            ],
            "label": "1984",
            "method": "animate"
           },
           {
            "args": [
             [
              "1985"
             ],
             {
              "mode": "immediate",
              "redraw": true
             }
            ],
            "label": "1985",
            "method": "animate"
           },
           {
            "args": [
             [
              "1986"
             ],
             {
              "mode": "immediate",
              "redraw": true
             }
            ],
            "label": "1986",
            "method": "animate"
           },
           {
            "args": [
             [
              "1987"
             ],
             {
              "mode": "immediate",
              "redraw": true
             }
            ],
            "label": "1987",
            "method": "animate"
           },
           {
            "args": [
             [
              "1988"
             ],
             {
              "mode": "immediate",
              "redraw": true
             }
            ],
            "label": "1988",
            "method": "animate"
           },
           {
            "args": [
             [
              "1989"
             ],
             {
              "mode": "immediate",
              "redraw": true
             }
            ],
            "label": "1989",
            "method": "animate"
           },
           {
            "args": [
             [
              "1990"
             ],
             {
              "mode": "immediate",
              "redraw": true
             }
            ],
            "label": "1990",
            "method": "animate"
           },
           {
            "args": [
             [
              "1991"
             ],
             {
              "mode": "immediate",
              "redraw": true
             }
            ],
            "label": "1991",
            "method": "animate"
           },
           {
            "args": [
             [
              "1992"
             ],
             {
              "mode": "immediate",
              "redraw": true
             }
            ],
            "label": "1992",
            "method": "animate"
           },
           {
            "args": [
             [
              "1993"
             ],
             {
              "mode": "immediate",
              "redraw": true
             }
            ],
            "label": "1993",
            "method": "animate"
           },
           {
            "args": [
             [
              "1994"
             ],
             {
              "mode": "immediate",
              "redraw": true
             }
            ],
            "label": "1994",
            "method": "animate"
           },
           {
            "args": [
             [
              "1995"
             ],
             {
              "mode": "immediate",
              "redraw": true
             }
            ],
            "label": "1995",
            "method": "animate"
           },
           {
            "args": [
             [
              "1996"
             ],
             {
              "mode": "immediate",
              "redraw": true
             }
            ],
            "label": "1996",
            "method": "animate"
           },
           {
            "args": [
             [
              "1997"
             ],
             {
              "mode": "immediate",
              "redraw": true
             }
            ],
            "label": "1997",
            "method": "animate"
           },
           {
            "args": [
             [
              "1998"
             ],
             {
              "mode": "immediate",
              "redraw": true
             }
            ],
            "label": "1998",
            "method": "animate"
           },
           {
            "args": [
             [
              "1999"
             ],
             {
              "mode": "immediate",
              "redraw": true
             }
            ],
            "label": "1999",
            "method": "animate"
           },
           {
            "args": [
             [
              "2000"
             ],
             {
              "mode": "immediate",
              "redraw": true
             }
            ],
            "label": "2000",
            "method": "animate"
           },
           {
            "args": [
             [
              "2001"
             ],
             {
              "mode": "immediate",
              "redraw": true
             }
            ],
            "label": "2001",
            "method": "animate"
           },
           {
            "args": [
             [
              "2002"
             ],
             {
              "mode": "immediate",
              "redraw": true
             }
            ],
            "label": "2002",
            "method": "animate"
           },
           {
            "args": [
             [
              "2003"
             ],
             {
              "mode": "immediate",
              "redraw": true
             }
            ],
            "label": "2003",
            "method": "animate"
           },
           {
            "args": [
             [
              "2004"
             ],
             {
              "mode": "immediate",
              "redraw": true
             }
            ],
            "label": "2004",
            "method": "animate"
           },
           {
            "args": [
             [
              "2005"
             ],
             {
              "mode": "immediate",
              "redraw": true
             }
            ],
            "label": "2005",
            "method": "animate"
           },
           {
            "args": [
             [
              "2006"
             ],
             {
              "mode": "immediate",
              "redraw": true
             }
            ],
            "label": "2006",
            "method": "animate"
           },
           {
            "args": [
             [
              "2007"
             ],
             {
              "mode": "immediate",
              "redraw": true
             }
            ],
            "label": "2007",
            "method": "animate"
           },
           {
            "args": [
             [
              "2008"
             ],
             {
              "mode": "immediate",
              "redraw": true
             }
            ],
            "label": "2008",
            "method": "animate"
           },
           {
            "args": [
             [
              "2009"
             ],
             {
              "mode": "immediate",
              "redraw": true
             }
            ],
            "label": "2009",
            "method": "animate"
           },
           {
            "args": [
             [
              "2010"
             ],
             {
              "mode": "immediate",
              "redraw": true
             }
            ],
            "label": "2010",
            "method": "animate"
           },
           {
            "args": [
             [
              "2011"
             ],
             {
              "mode": "immediate",
              "redraw": true
             }
            ],
            "label": "2011",
            "method": "animate"
           },
           {
            "args": [
             [
              "2012"
             ],
             {
              "mode": "immediate",
              "redraw": true
             }
            ],
            "label": "2012",
            "method": "animate"
           },
           {
            "args": [
             [
              "2013"
             ],
             {
              "mode": "immediate",
              "redraw": true
             }
            ],
            "label": "2013",
            "method": "animate"
           },
           {
            "args": [
             [
              "2014"
             ],
             {
              "mode": "immediate",
              "redraw": true
             }
            ],
            "label": "2014",
            "method": "animate"
           },
           {
            "args": [
             [
              "2015"
             ],
             {
              "mode": "immediate",
              "redraw": true
             }
            ],
            "label": "2015",
            "method": "animate"
           },
           {
            "args": [
             [
              "2016"
             ],
             {
              "mode": "immediate",
              "redraw": true
             }
            ],
            "label": "2016",
            "method": "animate"
           },
           {
            "args": [
             [
              "2017"
             ],
             {
              "mode": "immediate",
              "redraw": true
             }
            ],
            "label": "2017",
            "method": "animate"
           },
           {
            "args": [
             [
              "2018"
             ],
             {
              "mode": "immediate",
              "redraw": true
             }
            ],
            "label": "2018",
            "method": "animate"
           },
           {
            "args": [
             [
              "2019"
             ],
             {
              "mode": "immediate",
              "redraw": true
             }
            ],
            "label": "2019",
            "method": "animate"
           },
           {
            "args": [
             [
              "2020"
             ],
             {
              "mode": "immediate",
              "redraw": true
             }
            ],
            "label": "2020",
            "method": "animate"
           },
           {
            "args": [
             [
              "2021"
             ],
             {
              "mode": "immediate",
              "redraw": true
             }
            ],
            "label": "2021",
            "method": "animate"
           },
           {
            "args": [
             [
              "2022"
             ],
             {
              "mode": "immediate",
              "redraw": true
             }
            ],
            "label": "2022",
            "method": "animate"
           },
           {
            "args": [
             [
              "2023"
             ],
             {
              "mode": "immediate",
              "redraw": true
             }
            ],
            "label": "2023",
            "method": "animate"
           }
          ],
          "transition": {
           "duration": 0
          },
          "x": 0.1,
          "xanchor": "left",
          "y": 0,
          "yanchor": "top"
         }
        ],
        "template": {
         "data": {
          "bar": [
           {
            "error_x": {
             "color": "#f2f5fa"
            },
            "error_y": {
             "color": "#f2f5fa"
            },
            "marker": {
             "line": {
              "color": "rgb(17,17,17)",
              "width": 0.5
             },
             "pattern": {
              "fillmode": "overlay",
              "size": 10,
              "solidity": 0.2
             }
            },
            "type": "bar"
           }
          ],
          "barpolar": [
           {
            "marker": {
             "line": {
              "color": "rgb(17,17,17)",
              "width": 0.5
             },
             "pattern": {
              "fillmode": "overlay",
              "size": 10,
              "solidity": 0.2
             }
            },
            "type": "barpolar"
           }
          ],
          "carpet": [
           {
            "aaxis": {
             "endlinecolor": "#A2B1C6",
             "gridcolor": "#506784",
             "linecolor": "#506784",
             "minorgridcolor": "#506784",
             "startlinecolor": "#A2B1C6"
            },
            "baxis": {
             "endlinecolor": "#A2B1C6",
             "gridcolor": "#506784",
             "linecolor": "#506784",
             "minorgridcolor": "#506784",
             "startlinecolor": "#A2B1C6"
            },
            "type": "carpet"
           }
          ],
          "choropleth": [
           {
            "colorbar": {
             "outlinewidth": 0,
             "ticks": ""
            },
            "type": "choropleth"
           }
          ],
          "contour": [
           {
            "colorbar": {
             "outlinewidth": 0,
             "ticks": ""
            },
            "colorscale": [
             [
              0,
              "#0d0887"
             ],
             [
              0.1111111111111111,
              "#46039f"
             ],
             [
              0.2222222222222222,
              "#7201a8"
             ],
             [
              0.3333333333333333,
              "#9c179e"
             ],
             [
              0.4444444444444444,
              "#bd3786"
             ],
             [
              0.5555555555555556,
              "#d8576b"
             ],
             [
              0.6666666666666666,
              "#ed7953"
             ],
             [
              0.7777777777777778,
              "#fb9f3a"
             ],
             [
              0.8888888888888888,
              "#fdca26"
             ],
             [
              1,
              "#f0f921"
             ]
            ],
            "type": "contour"
           }
          ],
          "contourcarpet": [
           {
            "colorbar": {
             "outlinewidth": 0,
             "ticks": ""
            },
            "type": "contourcarpet"
           }
          ],
          "heatmap": [
           {
            "colorbar": {
             "outlinewidth": 0,
             "ticks": ""
            },
            "colorscale": [
             [
              0,
              "#0d0887"
             ],
             [
              0.1111111111111111,
              "#46039f"
             ],
             [
              0.2222222222222222,
              "#7201a8"
             ],
             [
              0.3333333333333333,
              "#9c179e"
             ],
             [
              0.4444444444444444,
              "#bd3786"
             ],
             [
              0.5555555555555556,
              "#d8576b"
             ],
             [
              0.6666666666666666,
              "#ed7953"
             ],
             [
              0.7777777777777778,
              "#fb9f3a"
             ],
             [
              0.8888888888888888,
              "#fdca26"
             ],
             [
              1,
              "#f0f921"
             ]
            ],
            "type": "heatmap"
           }
          ],
          "heatmapgl": [
           {
            "colorbar": {
             "outlinewidth": 0,
             "ticks": ""
            },
            "colorscale": [
             [
              0,
              "#0d0887"
             ],
             [
              0.1111111111111111,
              "#46039f"
             ],
             [
              0.2222222222222222,
              "#7201a8"
             ],
             [
              0.3333333333333333,
              "#9c179e"
             ],
             [
              0.4444444444444444,
              "#bd3786"
             ],
             [
              0.5555555555555556,
              "#d8576b"
             ],
             [
              0.6666666666666666,
              "#ed7953"
             ],
             [
              0.7777777777777778,
              "#fb9f3a"
             ],
             [
              0.8888888888888888,
              "#fdca26"
             ],
             [
              1,
              "#f0f921"
             ]
            ],
            "type": "heatmapgl"
           }
          ],
          "histogram": [
           {
            "marker": {
             "pattern": {
              "fillmode": "overlay",
              "size": 10,
              "solidity": 0.2
             }
            },
            "type": "histogram"
           }
          ],
          "histogram2d": [
           {
            "colorbar": {
             "outlinewidth": 0,
             "ticks": ""
            },
            "colorscale": [
             [
              0,
              "#0d0887"
             ],
             [
              0.1111111111111111,
              "#46039f"
             ],
             [
              0.2222222222222222,
              "#7201a8"
             ],
             [
              0.3333333333333333,
              "#9c179e"
             ],
             [
              0.4444444444444444,
              "#bd3786"
             ],
             [
              0.5555555555555556,
              "#d8576b"
             ],
             [
              0.6666666666666666,
              "#ed7953"
             ],
             [
              0.7777777777777778,
              "#fb9f3a"
             ],
             [
              0.8888888888888888,
              "#fdca26"
             ],
             [
              1,
              "#f0f921"
             ]
            ],
            "type": "histogram2d"
           }
          ],
          "histogram2dcontour": [
           {
            "colorbar": {
             "outlinewidth": 0,
             "ticks": ""
            },
            "colorscale": [
             [
              0,
              "#0d0887"
             ],
             [
              0.1111111111111111,
              "#46039f"
             ],
             [
              0.2222222222222222,
              "#7201a8"
             ],
             [
              0.3333333333333333,
              "#9c179e"
             ],
             [
              0.4444444444444444,
              "#bd3786"
             ],
             [
              0.5555555555555556,
              "#d8576b"
             ],
             [
              0.6666666666666666,
              "#ed7953"
             ],
             [
              0.7777777777777778,
              "#fb9f3a"
             ],
             [
              0.8888888888888888,
              "#fdca26"
             ],
             [
              1,
              "#f0f921"
             ]
            ],
            "type": "histogram2dcontour"
           }
          ],
          "mesh3d": [
           {
            "colorbar": {
             "outlinewidth": 0,
             "ticks": ""
            },
            "type": "mesh3d"
           }
          ],
          "parcoords": [
           {
            "line": {
             "colorbar": {
              "outlinewidth": 0,
              "ticks": ""
             }
            },
            "type": "parcoords"
           }
          ],
          "pie": [
           {
            "automargin": true,
            "type": "pie"
           }
          ],
          "scatter": [
           {
            "marker": {
             "line": {
              "color": "#283442"
             }
            },
            "type": "scatter"
           }
          ],
          "scatter3d": [
           {
            "line": {
             "colorbar": {
              "outlinewidth": 0,
              "ticks": ""
             }
            },
            "marker": {
             "colorbar": {
              "outlinewidth": 0,
              "ticks": ""
             }
            },
            "type": "scatter3d"
           }
          ],
          "scattercarpet": [
           {
            "marker": {
             "colorbar": {
              "outlinewidth": 0,
              "ticks": ""
             }
            },
            "type": "scattercarpet"
           }
          ],
          "scattergeo": [
           {
            "marker": {
             "colorbar": {
              "outlinewidth": 0,
              "ticks": ""
             }
            },
            "type": "scattergeo"
           }
          ],
          "scattergl": [
           {
            "marker": {
             "line": {
              "color": "#283442"
             }
            },
            "type": "scattergl"
           }
          ],
          "scattermapbox": [
           {
            "marker": {
             "colorbar": {
              "outlinewidth": 0,
              "ticks": ""
             }
            },
            "type": "scattermapbox"
           }
          ],
          "scatterpolar": [
           {
            "marker": {
             "colorbar": {
              "outlinewidth": 0,
              "ticks": ""
             }
            },
            "type": "scatterpolar"
           }
          ],
          "scatterpolargl": [
           {
            "marker": {
             "colorbar": {
              "outlinewidth": 0,
              "ticks": ""
             }
            },
            "type": "scatterpolargl"
           }
          ],
          "scatterternary": [
           {
            "marker": {
             "colorbar": {
              "outlinewidth": 0,
              "ticks": ""
             }
            },
            "type": "scatterternary"
           }
          ],
          "surface": [
           {
            "colorbar": {
             "outlinewidth": 0,
             "ticks": ""
            },
            "colorscale": [
             [
              0,
              "#0d0887"
             ],
             [
              0.1111111111111111,
              "#46039f"
             ],
             [
              0.2222222222222222,
              "#7201a8"
             ],
             [
              0.3333333333333333,
              "#9c179e"
             ],
             [
              0.4444444444444444,
              "#bd3786"
             ],
             [
              0.5555555555555556,
              "#d8576b"
             ],
             [
              0.6666666666666666,
              "#ed7953"
             ],
             [
              0.7777777777777778,
              "#fb9f3a"
             ],
             [
              0.8888888888888888,
              "#fdca26"
             ],
             [
              1,
              "#f0f921"
             ]
            ],
            "type": "surface"
           }
          ],
          "table": [
           {
            "cells": {
             "fill": {
              "color": "#506784"
             },
             "line": {
              "color": "rgb(17,17,17)"
             }
            },
            "header": {
             "fill": {
              "color": "#2a3f5f"
             },
             "line": {
              "color": "rgb(17,17,17)"
             }
            },
            "type": "table"
           }
          ]
         },
         "layout": {
          "annotationdefaults": {
           "arrowcolor": "#f2f5fa",
           "arrowhead": 0,
           "arrowwidth": 1
          },
          "autotypenumbers": "strict",
          "coloraxis": {
           "colorbar": {
            "outlinewidth": 0,
            "ticks": ""
           }
          },
          "colorscale": {
           "diverging": [
            [
             0,
             "#8e0152"
            ],
            [
             0.1,
             "#c51b7d"
            ],
            [
             0.2,
             "#de77ae"
            ],
            [
             0.3,
             "#f1b6da"
            ],
            [
             0.4,
             "#fde0ef"
            ],
            [
             0.5,
             "#f7f7f7"
            ],
            [
             0.6,
             "#e6f5d0"
            ],
            [
             0.7,
             "#b8e186"
            ],
            [
             0.8,
             "#7fbc41"
            ],
            [
             0.9,
             "#4d9221"
            ],
            [
             1,
             "#276419"
            ]
           ],
           "sequential": [
            [
             0,
             "#0d0887"
            ],
            [
             0.1111111111111111,
             "#46039f"
            ],
            [
             0.2222222222222222,
             "#7201a8"
            ],
            [
             0.3333333333333333,
             "#9c179e"
            ],
            [
             0.4444444444444444,
             "#bd3786"
            ],
            [
             0.5555555555555556,
             "#d8576b"
            ],
            [
             0.6666666666666666,
             "#ed7953"
            ],
            [
             0.7777777777777778,
             "#fb9f3a"
            ],
            [
             0.8888888888888888,
             "#fdca26"
            ],
            [
             1,
             "#f0f921"
            ]
           ],
           "sequentialminus": [
            [
             0,
             "#0d0887"
            ],
            [
             0.1111111111111111,
             "#46039f"
            ],
            [
             0.2222222222222222,
             "#7201a8"
            ],
            [
             0.3333333333333333,
             "#9c179e"
            ],
            [
             0.4444444444444444,
             "#bd3786"
            ],
            [
             0.5555555555555556,
             "#d8576b"
            ],
            [
             0.6666666666666666,
             "#ed7953"
            ],
            [
             0.7777777777777778,
             "#fb9f3a"
            ],
            [
             0.8888888888888888,
             "#fdca26"
            ],
            [
             1,
             "#f0f921"
            ]
           ]
          },
          "colorway": [
           "#636efa",
           "#EF553B",
           "#00cc96",
           "#ab63fa",
           "#FFA15A",
           "#19d3f3",
           "#FF6692",
           "#B6E880",
           "#FF97FF",
           "#FECB52"
          ],
          "font": {
           "color": "#f2f5fa"
          },
          "geo": {
           "bgcolor": "rgb(17,17,17)",
           "lakecolor": "rgb(17,17,17)",
           "landcolor": "rgb(17,17,17)",
           "showlakes": true,
           "showland": true,
           "subunitcolor": "#506784"
          },
          "hoverlabel": {
           "align": "left"
          },
          "hovermode": "closest",
          "mapbox": {
           "style": "dark"
          },
          "paper_bgcolor": "rgb(17,17,17)",
          "plot_bgcolor": "rgb(17,17,17)",
          "polar": {
           "angularaxis": {
            "gridcolor": "#506784",
            "linecolor": "#506784",
            "ticks": ""
           },
           "bgcolor": "rgb(17,17,17)",
           "radialaxis": {
            "gridcolor": "#506784",
            "linecolor": "#506784",
            "ticks": ""
           }
          },
          "scene": {
           "xaxis": {
            "backgroundcolor": "rgb(17,17,17)",
            "gridcolor": "#506784",
            "gridwidth": 2,
            "linecolor": "#506784",
            "showbackground": true,
            "ticks": "",
            "zerolinecolor": "#C8D4E3"
           },
           "yaxis": {
            "backgroundcolor": "rgb(17,17,17)",
            "gridcolor": "#506784",
            "gridwidth": 2,
            "linecolor": "#506784",
            "showbackground": true,
            "ticks": "",
            "zerolinecolor": "#C8D4E3"
           },
           "zaxis": {
            "backgroundcolor": "rgb(17,17,17)",
            "gridcolor": "#506784",
            "gridwidth": 2,
            "linecolor": "#506784",
            "showbackground": true,
            "ticks": "",
            "zerolinecolor": "#C8D4E3"
           }
          },
          "shapedefaults": {
           "line": {
            "color": "#f2f5fa"
           }
          },
          "sliderdefaults": {
           "bgcolor": "#C8D4E3",
           "bordercolor": "rgb(17,17,17)",
           "borderwidth": 1,
           "tickwidth": 0
          },
          "ternary": {
           "aaxis": {
            "gridcolor": "#506784",
            "linecolor": "#506784",
            "ticks": ""
           },
           "baxis": {
            "gridcolor": "#506784",
            "linecolor": "#506784",
            "ticks": ""
           },
           "bgcolor": "rgb(17,17,17)",
           "caxis": {
            "gridcolor": "#506784",
            "linecolor": "#506784",
            "ticks": ""
           }
          },
          "title": {
           "x": 0.05
          },
          "updatemenudefaults": {
           "bgcolor": "#506784",
           "borderwidth": 0
          },
          "xaxis": {
           "automargin": true,
           "gridcolor": "#283442",
           "linecolor": "#506784",
           "ticks": "",
           "title": {
            "standoff": 15
           },
           "zerolinecolor": "#283442",
           "zerolinewidth": 2
          },
          "yaxis": {
           "automargin": true,
           "gridcolor": "#283442",
           "linecolor": "#506784",
           "ticks": "",
           "title": {
            "standoff": 15
           },
           "zerolinecolor": "#283442",
           "zerolinewidth": 2
          }
         }
        },
        "title": {
         "font": {
          "color": "white",
          "size": 18
         },
         "text": "2023 : Central banks globally raise rates amid financial turmoil and ongoing global challenges"
        },
        "updatemenus": [
         {
          "active": 0,
          "buttons": [
           {
            "args": [
             null,
             {
              "frame": {
               "duration": 5000
              },
              "fromcurrent": true,
              "transition": {
               "duration": 0
              }
             }
            ],
            "label": "Play",
            "method": "animate"
           },
           {
            "args": [
             [
              null
             ],
             {
              "frame": {
               "duration": 0
              },
              "mode": "immediate",
              "transition": {
               "duration": 0
              }
             }
            ],
            "label": "Pause",
            "method": "animate"
           }
          ],
          "direction": "left",
          "pad": {
           "r": 10,
           "t": 70
          },
          "showactive": false,
          "type": "buttons",
          "x": 0.1,
          "xanchor": "right",
          "y": 0,
          "yanchor": "top"
         }
        ],
        "width": 960,
        "xaxis": {
         "anchor": "y",
         "domain": [
          0,
          1
         ],
         "range": [
          -5,
          90
         ],
         "title": {
          "text": "Inflation Rate"
         },
         "type": "linear"
        },
        "yaxis": {
         "anchor": "x",
         "domain": [
          0,
          1
         ],
         "range": [
          -5,
          50
         ],
         "title": {
          "text": "Nominal Interest Rate (3m T-Bill)"
         },
         "type": "linear"
        }
       }
      },
      "image/png": "[encoded data removed]",
      "text/html": [
       "<div>                            <div id=\"653b4739-bac6-4930-bfcd-cba1f7dbead2\" class=\"plotly-graph-div\" style=\"height:540px; width:960px;\"></div>            <script type=\"text/javascript\">                require([\"plotly\"], function(Plotly) {                    window.PLOTLYENV=window.PLOTLYENV || {};                                    if (document.getElementById(\"653b4739-bac6-4930-bfcd-cba1f7dbead2\")) {                    Plotly.newPlot(                        \"653b4739-bac6-4930-bfcd-cba1f7dbead2\",                        [{\"hovertemplate\":\"\\u003cb\\u003e%{hovertext}\\u003c\\u002fb\\u003e\\u003cbr\\u003e\\u003cbr\\u003eRegion=United States\\u003cbr\\u003eTIME=1981\\u003cbr\\u003eInflation Rate=%{x}\\u003cbr\\u003eNominal Interest Rate (3m T-Bill)=%{y}\\u003cbr\\u003esize=%{marker.size}\\u003cextra\\u003e\\u003c\\u002fextra\\u003e\",\"hovertext\":[\"United States\"],\"ids\":[\"USA\"],\"legendgroup\":\"United States\",\"marker\":{\"color\":\"#636efa\",\"size\":[200.0],\"sizemode\":\"area\",\"sizeref\":0.16,\"symbol\":\"circle\",\"opacity\":0.7},\"mode\":\"markers\",\"name\":\"United States\",\"orientation\":\"v\",\"showlegend\":true,\"x\":[10.33471],\"xaxis\":\"x\",\"y\":[15.91083],\"yaxis\":\"y\",\"type\":\"scatter\"},{\"hovertemplate\":\"\\u003cb\\u003e%{hovertext}\\u003c\\u002fb\\u003e\\u003cbr\\u003e\\u003cbr\\u003eRegion=South Africa\\u003cbr\\u003eTIME=1981\\u003cbr\\u003eInflation Rate=%{x}\\u003cbr\\u003eNominal Interest Rate (3m T-Bill)=%{y}\\u003cbr\\u003esize=%{marker.size}\\u003cextra\\u003e\\u003c\\u002fextra\\u003e\",\"hovertext\":[\"South Africa\"],\"ids\":[\"ZAF\"],\"legendgroup\":\"South Africa\",\"marker\":{\"color\":\"#EF553B\",\"size\":[400.0],\"sizemode\":\"area\",\"sizeref\":0.16,\"symbol\":\"circle\",\"opacity\":0.7},\"mode\":\"markers\",\"name\":\"South Africa\",\"orientation\":\"v\",\"showlegend\":true,\"x\":[15.25424],\"xaxis\":\"x\",\"y\":[9.723521],\"yaxis\":\"y\",\"type\":\"scatter\"},{\"hovertemplate\":\"\\u003cb\\u003e%{hovertext}\\u003c\\u002fb\\u003e\\u003cbr\\u003e\\u003cbr\\u003eRegion=G7_ex US\\u003cbr\\u003eTIME=1981\\u003cbr\\u003eInflation Rate=%{x}\\u003cbr\\u003eNominal Interest Rate (3m T-Bill)=%{y}\\u003cbr\\u003esize=%{marker.size}\\u003cextra\\u003e\\u003c\\u002fextra\\u003e\",\"hovertext\":[\"Canada\",\"Germany\",\"France\",\"Italy\",\"United Kingdom\",\"Japan\"],\"ids\":[\"CAN\",\"DEU\",\"FRA\",\"ITA\",\"GBR\",\"JPN\"],\"legendgroup\":\"G7_ex US\",\"marker\":{\"color\":\"#00cc96\",\"size\":[50.0,50.0,50.0,50.0,50.0,50.0],\"sizemode\":\"area\",\"sizeref\":0.16,\"symbol\":\"circle\",\"opacity\":0.7},\"mode\":\"markers\",\"name\":\"G7_ex US\",\"orientation\":\"v\",\"showlegend\":true,\"x\":[12.47161,6.344242,13.3144,17.9693,-100.0,-100.0],\"xaxis\":\"x\",\"y\":[18.37563,12.105,15.25917,19.23167,-100.0,-100.0],\"yaxis\":\"y\",\"type\":\"scatter\"},{\"hovertemplate\":\"\\u003cb\\u003e%{hovertext}\\u003c\\u002fb\\u003e\\u003cbr\\u003e\\u003cbr\\u003eRegion=EM_Peer\\u003cbr\\u003eTIME=1981\\u003cbr\\u003eInflation Rate=%{x}\\u003cbr\\u003eNominal Interest Rate (3m T-Bill)=%{y}\\u003cbr\\u003esize=%{marker.size}\\u003cextra\\u003e\\u003c\\u002fextra\\u003e\",\"hovertext\":[\"Chile\",\"Colombia\",\"Hungary\",\"Indonesia\",\"India\",\"Mexico\"],\"ids\":[\"CHL\",\"COL\",\"HUN\",\"IDN\",\"IND\",\"MEX\"],\"legendgroup\":\"EM_Peer\",\"marker\":{\"color\":\"#ab63fa\",\"size\":[100.0,100.0,100.0,100.0,100.0,100.0],\"sizemode\":\"area\",\"sizeref\":0.16,\"symbol\":\"circle\",\"opacity\":0.7},\"mode\":\"markers\",\"name\":\"EM_Peer\",\"orientation\":\"v\",\"showlegend\":true,\"x\":[-100.0,-100.0,-100.0,-100.0,-100.0,-100.0],\"xaxis\":\"x\",\"y\":[-100.0,-100.0,-100.0,-100.0,-100.0,-100.0],\"yaxis\":\"y\",\"type\":\"scatter\"},{\"hovertemplate\":\"\\u003cb\\u003e%{hovertext}\\u003c\\u002fb\\u003e\\u003cbr\\u003e\\u003cbr\\u003eRegion=EM_Other\\u003cbr\\u003eTIME=1981\\u003cbr\\u003eInflation Rate=%{x}\\u003cbr\\u003eNominal Interest Rate (3m T-Bill)=%{y}\\u003cbr\\u003esize=%{marker.size}\\u003cextra\\u003e\\u003c\\u002fextra\\u003e\",\"hovertext\":[\"China\",\"Costa Rica\",\"Czech Republic\",\"Estonia\",\"Greece\",\"Ireland\",\"Iceland\",\"Lithuania\",\"Latvia\",\"Russia\",\"Slovak Republic\",\"Slovenia\"],\"ids\":[\"CHN\",\"CRI\",\"CZE\",\"EST\",\"GRC\",\"IRL\",\"ISL\",\"LTU\",\"LVA\",\"RUS\",\"SVK\",\"SVN\"],\"legendgroup\":\"EM_Other\",\"marker\":{\"color\":\"#FFA15A\",\"size\":[50.0,50.0,50.0,50.0,50.0,50.0,50.0,50.0,50.0,50.0,50.0,50.0],\"sizemode\":\"area\",\"sizeref\":0.16,\"symbol\":\"circle\",\"opacity\":0.7},\"mode\":\"markers\",\"name\":\"EM_Other\",\"orientation\":\"v\",\"showlegend\":true,\"x\":[-100.0,-100.0,-100.0,-100.0,-100.0,-100.0,-100.0,-100.0,-100.0,-100.0,-100.0,-100.0],\"xaxis\":\"x\",\"y\":[-100.0,-100.0,-100.0,-100.0,-100.0,-100.0,-100.0,-100.0,-100.0,-100.0,-100.0,-100.0],\"yaxis\":\"y\",\"type\":\"scatter\"},{\"hovertemplate\":\"\\u003cb\\u003e%{hovertext}\\u003c\\u002fb\\u003e\\u003cbr\\u003e\\u003cbr\\u003eRegion=DM_Other\\u003cbr\\u003eTIME=1981\\u003cbr\\u003eInflation Rate=%{x}\\u003cbr\\u003eNominal Interest Rate (3m T-Bill)=%{y}\\u003cbr\\u003esize=%{marker.size}\\u003cextra\\u003e\\u003c\\u002fextra\\u003e\",\"hovertext\":[\"New Zealand\",\"Australia\",\"Norway\",\"Israel\",\"South Korea\",\"Poland\"],\"ids\":[\"NZL\",\"AUS\",\"NOR\",\"ISR\",\"KOR\",\"POL\"],\"legendgroup\":\"DM_Other\",\"marker\":{\"color\":\"#19d3f3\",\"size\":[50.0,50.0,50.0,50.0,50.0,50.0],\"sizemode\":\"area\",\"sizeref\":0.16,\"symbol\":\"circle\",\"opacity\":0.7},\"mode\":\"markers\",\"name\":\"DM_Other\",\"orientation\":\"v\",\"showlegend\":true,\"x\":[15.37015,9.487666,13.64296,-100.0,-100.0,-100.0],\"xaxis\":\"x\",\"y\":[15.2575,15.03833,13.125,-100.0,-100.0,-100.0],\"yaxis\":\"y\",\"type\":\"scatter\"},{\"hovertemplate\":\"\\u003cb\\u003e%{hovertext}\\u003c\\u002fb\\u003e\\u003cbr\\u003e\\u003cbr\\u003eRegion=DM_Europe\\u003cbr\\u003eTIME=1981\\u003cbr\\u003eInflation Rate=%{x}\\u003cbr\\u003eNominal Interest Rate (3m T-Bill)=%{y}\\u003cbr\\u003esize=%{marker.size}\\u003cextra\\u003e\\u003c\\u002fextra\\u003e\",\"hovertext\":[\"Spain\",\"Belgium\",\"Austria\",\"Switzerland\",\"Denmark\",\"Finland\",\"Luxembourg\",\"Netherlands\",\"Portugal\",\"Sweden\"],\"ids\":[\"ESP\",\"BEL\",\"AUT\",\"CHE\",\"DNK\",\"FIN\",\"LUX\",\"NLD\",\"PRT\",\"SWE\"],\"legendgroup\":\"DM_Europe\",\"marker\":{\"color\":\"#FF6692\",\"size\":[50.0,50.0,50.0,50.0,50.0,50.0,50.0,50.0,50.0,50.0],\"sizemode\":\"area\",\"sizeref\":0.16,\"symbol\":\"circle\",\"opacity\":0.7},\"mode\":\"markers\",\"name\":\"DM_Europe\",\"orientation\":\"v\",\"showlegend\":true,\"x\":[14.54935,7.627487,-100.0,-100.0,-100.0,-100.0,-100.0,-100.0,-100.0,-100.0],\"xaxis\":\"x\",\"y\":[16.17766,15.27083,-100.0,-100.0,-100.0,-100.0,-100.0,-100.0,-100.0,-100.0],\"yaxis\":\"y\",\"type\":\"scatter\"}],                        {\"template\":{\"data\":{\"barpolar\":[{\"marker\":{\"line\":{\"color\":\"rgb(17,17,17)\",\"width\":0.5},\"pattern\":{\"fillmode\":\"overlay\",\"size\":10,\"solidity\":0.2}},\"type\":\"barpolar\"}],\"bar\":[{\"error_x\":{\"color\":\"#f2f5fa\"},\"error_y\":{\"color\":\"#f2f5fa\"},\"marker\":{\"line\":{\"color\":\"rgb(17,17,17)\",\"width\":0.5},\"pattern\":{\"fillmode\":\"overlay\",\"size\":10,\"solidity\":0.2}},\"type\":\"bar\"}],\"carpet\":[{\"aaxis\":{\"endlinecolor\":\"#A2B1C6\",\"gridcolor\":\"#506784\",\"linecolor\":\"#506784\",\"minorgridcolor\":\"#506784\",\"startlinecolor\":\"#A2B1C6\"},\"baxis\":{\"endlinecolor\":\"#A2B1C6\",\"gridcolor\":\"#506784\",\"linecolor\":\"#506784\",\"minorgridcolor\":\"#506784\",\"startlinecolor\":\"#A2B1C6\"},\"type\":\"carpet\"}],\"choropleth\":[{\"colorbar\":{\"outlinewidth\":0,\"ticks\":\"\"},\"type\":\"choropleth\"}],\"contourcarpet\":[{\"colorbar\":{\"outlinewidth\":0,\"ticks\":\"\"},\"type\":\"contourcarpet\"}],\"contour\":[{\"colorbar\":{\"outlinewidth\":0,\"ticks\":\"\"},\"colorscale\":[[0.0,\"#0d0887\"],[0.1111111111111111,\"#46039f\"],[0.2222222222222222,\"#7201a8\"],[0.3333333333333333,\"#9c179e\"],[0.4444444444444444,\"#bd3786\"],[0.5555555555555556,\"#d8576b\"],[0.6666666666666666,\"#ed7953\"],[0.7777777777777778,\"#fb9f3a\"],[0.8888888888888888,\"#fdca26\"],[1.0,\"#f0f921\"]],\"type\":\"contour\"}],\"heatmapgl\":[{\"colorbar\":{\"outlinewidth\":0,\"ticks\":\"\"},\"colorscale\":[[0.0,\"#0d0887\"],[0.1111111111111111,\"#46039f\"],[0.2222222222222222,\"#7201a8\"],[0.3333333333333333,\"#9c179e\"],[0.4444444444444444,\"#bd3786\"],[0.5555555555555556,\"#d8576b\"],[0.6666666666666666,\"#ed7953\"],[0.7777777777777778,\"#fb9f3a\"],[0.8888888888888888,\"#fdca26\"],[1.0,\"#f0f921\"]],\"type\":\"heatmapgl\"}],\"heatmap\":[{\"colorbar\":{\"outlinewidth\":0,\"ticks\":\"\"},\"colorscale\":[[0.0,\"#0d0887\"],[0.1111111111111111,\"#46039f\"],[0.2222222222222222,\"#7201a8\"],[0.3333333333333333,\"#9c179e\"],[0.4444444444444444,\"#bd3786\"],[0.5555555555555556,\"#d8576b\"],[0.6666666666666666,\"#ed7953\"],[0.7777777777777778,\"#fb9f3a\"],[0.8888888888888888,\"#fdca26\"],[1.0,\"#f0f921\"]],\"type\":\"heatmap\"}],\"histogram2dcontour\":[{\"colorbar\":{\"outlinewidth\":0,\"ticks\":\"\"},\"colorscale\":[[0.0,\"#0d0887\"],[0.1111111111111111,\"#46039f\"],[0.2222222222222222,\"#7201a8\"],[0.3333333333333333,\"#9c179e\"],[0.4444444444444444,\"#bd3786\"],[0.5555555555555556,\"#d8576b\"],[0.6666666666666666,\"#ed7953\"],[0.7777777777777778,\"#fb9f3a\"],[0.8888888888888888,\"#fdca26\"],[1.0,\"#f0f921\"]],\"type\":\"histogram2dcontour\"}],\"histogram2d\":[{\"colorbar\":{\"outlinewidth\":0,\"ticks\":\"\"},\"colorscale\":[[0.0,\"#0d0887\"],[0.1111111111111111,\"#46039f\"],[0.2222222222222222,\"#7201a8\"],[0.3333333333333333,\"#9c179e\"],[0.4444444444444444,\"#bd3786\"],[0.5555555555555556,\"#d8576b\"],[0.6666666666666666,\"#ed7953\"],[0.7777777777777778,\"#fb9f3a\"],[0.8888888888888888,\"#fdca26\"],[1.0,\"#f0f921\"]],\"type\":\"histogram2d\"}],\"histogram\":[{\"marker\":{\"pattern\":{\"fillmode\":\"overlay\",\"size\":10,\"solidity\":0.2}},\"type\":\"histogram\"}],\"mesh3d\":[{\"colorbar\":{\"outlinewidth\":0,\"ticks\":\"\"},\"type\":\"mesh3d\"}],\"parcoords\":[{\"line\":{\"colorbar\":{\"outlinewidth\":0,\"ticks\":\"\"}},\"type\":\"parcoords\"}],\"pie\":[{\"automargin\":true,\"type\":\"pie\"}],\"scatter3d\":[{\"line\":{\"colorbar\":{\"outlinewidth\":0,\"ticks\":\"\"}},\"marker\":{\"colorbar\":{\"outlinewidth\":0,\"ticks\":\"\"}},\"type\":\"scatter3d\"}],\"scattercarpet\":[{\"marker\":{\"colorbar\":{\"outlinewidth\":0,\"ticks\":\"\"}},\"type\":\"scattercarpet\"}],\"scattergeo\":[{\"marker\":{\"colorbar\":{\"outlinewidth\":0,\"ticks\":\"\"}},\"type\":\"scattergeo\"}],\"scattergl\":[{\"marker\":{\"line\":{\"color\":\"#283442\"}},\"type\":\"scattergl\"}],\"scattermapbox\":[{\"marker\":{\"colorbar\":{\"outlinewidth\":0,\"ticks\":\"\"}},\"type\":\"scattermapbox\"}],\"scatterpolargl\":[{\"marker\":{\"colorbar\":{\"outlinewidth\":0,\"ticks\":\"\"}},\"type\":\"scatterpolargl\"}],\"scatterpolar\":[{\"marker\":{\"colorbar\":{\"outlinewidth\":0,\"ticks\":\"\"}},\"type\":\"scatterpolar\"}],\"scatter\":[{\"marker\":{\"line\":{\"color\":\"#283442\"}},\"type\":\"scatter\"}],\"scatterternary\":[{\"marker\":{\"colorbar\":{\"outlinewidth\":0,\"ticks\":\"\"}},\"type\":\"scatterternary\"}],\"surface\":[{\"colorbar\":{\"outlinewidth\":0,\"ticks\":\"\"},\"colorscale\":[[0.0,\"#0d0887\"],[0.1111111111111111,\"#46039f\"],[0.2222222222222222,\"#7201a8\"],[0.3333333333333333,\"#9c179e\"],[0.4444444444444444,\"#bd3786\"],[0.5555555555555556,\"#d8576b\"],[0.6666666666666666,\"#ed7953\"],[0.7777777777777778,\"#fb9f3a\"],[0.8888888888888888,\"#fdca26\"],[1.0,\"#f0f921\"]],\"type\":\"surface\"}],\"table\":[{\"cells\":{\"fill\":{\"color\":\"#506784\"},\"line\":{\"color\":\"rgb(17,17,17)\"}},\"header\":{\"fill\":{\"color\":\"#2a3f5f\"},\"line\":{\"color\":\"rgb(17,17,17)\"}},\"type\":\"table\"}]},\"layout\":{\"annotationdefaults\":{\"arrowcolor\":\"#f2f5fa\",\"arrowhead\":0,\"arrowwidth\":1},\"autotypenumbers\":\"strict\",\"coloraxis\":{\"colorbar\":{\"outlinewidth\":0,\"ticks\":\"\"}},\"colorscale\":{\"diverging\":[[0,\"#8e0152\"],[0.1,\"#c51b7d\"],[0.2,\"#de77ae\"],[0.3,\"#f1b6da\"],[0.4,\"#fde0ef\"],[0.5,\"#f7f7f7\"],[0.6,\"#e6f5d0\"],[0.7,\"#b8e186\"],[0.8,\"#7fbc41\"],[0.9,\"#4d9221\"],[1,\"#276419\"]],\"sequential\":[[0.0,\"#0d0887\"],[0.1111111111111111,\"#46039f\"],[0.2222222222222222,\"#7201a8\"],[0.3333333333333333,\"#9c179e\"],[0.4444444444444444,\"#bd3786\"],[0.5555555555555556,\"#d8576b\"],[0.6666666666666666,\"#ed7953\"],[0.7777777777777778,\"#fb9f3a\"],[0.8888888888888888,\"#fdca26\"],[1.0,\"#f0f921\"]],\"sequentialminus\":[[0.0,\"#0d0887\"],[0.1111111111111111,\"#46039f\"],[0.2222222222222222,\"#7201a8\"],[0.3333333333333333,\"#9c179e\"],[0.4444444444444444,\"#bd3786\"],[0.5555555555555556,\"#d8576b\"],[0.6666666666666666,\"#ed7953\"],[0.7777777777777778,\"#fb9f3a\"],[0.8888888888888888,\"#fdca26\"],[1.0,\"#f0f921\"]]},\"colorway\":[\"#636efa\",\"#EF553B\",\"#00cc96\",\"#ab63fa\",\"#FFA15A\",\"#19d3f3\",\"#FF6692\",\"#B6E880\",\"#FF97FF\",\"#FECB52\"],\"font\":{\"color\":\"#f2f5fa\"},\"geo\":{\"bgcolor\":\"rgb(17,17,17)\",\"lakecolor\":\"rgb(17,17,17)\",\"landcolor\":\"rgb(17,17,17)\",\"showlakes\":true,\"showland\":true,\"subunitcolor\":\"#506784\"},\"hoverlabel\":{\"align\":\"left\"},\"hovermode\":\"closest\",\"mapbox\":{\"style\":\"dark\"},\"paper_bgcolor\":\"rgb(17,17,17)\",\"plot_bgcolor\":\"rgb(17,17,17)\",\"polar\":{\"angularaxis\":{\"gridcolor\":\"#506784\",\"linecolor\":\"#506784\",\"ticks\":\"\"},\"bgcolor\":\"rgb(17,17,17)\",\"radialaxis\":{\"gridcolor\":\"#506784\",\"linecolor\":\"#506784\",\"ticks\":\"\"}},\"scene\":{\"xaxis\":{\"backgroundcolor\":\"rgb(17,17,17)\",\"gridcolor\":\"#506784\",\"gridwidth\":2,\"linecolor\":\"#506784\",\"showbackground\":true,\"ticks\":\"\",\"zerolinecolor\":\"#C8D4E3\"},\"yaxis\":{\"backgroundcolor\":\"rgb(17,17,17)\",\"gridcolor\":\"#506784\",\"gridwidth\":2,\"linecolor\":\"#506784\",\"showbackground\":true,\"ticks\":\"\",\"zerolinecolor\":\"#C8D4E3\"},\"zaxis\":{\"backgroundcolor\":\"rgb(17,17,17)\",\"gridcolor\":\"#506784\",\"gridwidth\":2,\"linecolor\":\"#506784\",\"showbackground\":true,\"ticks\":\"\",\"zerolinecolor\":\"#C8D4E3\"}},\"shapedefaults\":{\"line\":{\"color\":\"#f2f5fa\"}},\"sliderdefaults\":{\"bgcolor\":\"#C8D4E3\",\"bordercolor\":\"rgb(17,17,17)\",\"borderwidth\":1,\"tickwidth\":0},\"ternary\":{\"aaxis\":{\"gridcolor\":\"#506784\",\"linecolor\":\"#506784\",\"ticks\":\"\"},\"baxis\":{\"gridcolor\":\"#506784\",\"linecolor\":\"#506784\",\"ticks\":\"\"},\"bgcolor\":\"rgb(17,17,17)\",\"caxis\":{\"gridcolor\":\"#506784\",\"linecolor\":\"#506784\",\"ticks\":\"\"}},\"title\":{\"x\":0.05},\"updatemenudefaults\":{\"bgcolor\":\"#506784\",\"borderwidth\":0},\"xaxis\":{\"automargin\":true,\"gridcolor\":\"#283442\",\"linecolor\":\"#506784\",\"ticks\":\"\",\"title\":{\"standoff\":15},\"zerolinecolor\":\"#283442\",\"zerolinewidth\":2},\"yaxis\":{\"automargin\":true,\"gridcolor\":\"#283442\",\"linecolor\":\"#506784\",\"ticks\":\"\",\"title\":{\"standoff\":15},\"zerolinecolor\":\"#283442\",\"zerolinewidth\":2}}},\"xaxis\":{\"anchor\":\"y\",\"domain\":[0.0,1.0],\"title\":{\"text\":\"Inflation Rate\"},\"range\":[-5,90]},\"yaxis\":{\"anchor\":\"x\",\"domain\":[0.0,1.0],\"title\":{\"text\":\"Nominal Interest Rate (3m T-Bill)\"},\"range\":[-5,50]},\"legend\":{\"title\":{\"text\":\"Region\"},\"tracegroupgap\":0,\"itemsizing\":\"constant\"},\"title\":{\"text\":\"Chronology of Inflation and Nominal Risk-Free Interest Rates\",\"font\":{\"size\":18,\"color\":\"white\"}},\"height\":540,\"width\":960,\"updatemenus\":[{\"buttons\":[{\"args\":[null,{\"frame\":{\"duration\":5000},\"fromcurrent\":true,\"transition\":{\"duration\":0}}],\"label\":\"Play\",\"method\":\"animate\"},{\"args\":[[null],{\"frame\":{\"duration\":0},\"mode\":\"immediate\",\"transition\":{\"duration\":0}}],\"label\":\"Pause\",\"method\":\"animate\"}],\"direction\":\"left\",\"pad\":{\"r\":10,\"t\":70},\"showactive\":false,\"type\":\"buttons\",\"x\":0.1,\"xanchor\":\"right\",\"y\":0,\"yanchor\":\"top\"}],\"sliders\":[{\"active\":0,\"currentvalue\":{\"prefix\":\"TIME=\"},\"len\":1.0,\"pad\":{\"b\":10,\"t\":60},\"steps\":[{\"args\":[[\"1981\"],{\"mode\":\"immediate\",\"redraw\":true}],\"label\":\"1981\",\"method\":\"animate\"},{\"args\":[[\"1982\"],{\"mode\":\"immediate\",\"redraw\":true}],\"label\":\"1982\",\"method\":\"animate\"},{\"args\":[[\"1983\"],{\"mode\":\"immediate\",\"redraw\":true}],\"label\":\"1983\",\"method\":\"animate\"},{\"args\":[[\"1984\"],{\"mode\":\"immediate\",\"redraw\":true}],\"label\":\"1984\",\"method\":\"animate\"},{\"args\":[[\"1985\"],{\"mode\":\"immediate\",\"redraw\":true}],\"label\":\"1985\",\"method\":\"animate\"},{\"args\":[[\"1986\"],{\"mode\":\"immediate\",\"redraw\":true}],\"label\":\"1986\",\"method\":\"animate\"},{\"args\":[[\"1987\"],{\"mode\":\"immediate\",\"redraw\":true}],\"label\":\"1987\",\"method\":\"animate\"},{\"args\":[[\"1988\"],{\"mode\":\"immediate\",\"redraw\":true}],\"label\":\"1988\",\"method\":\"animate\"},{\"args\":[[\"1989\"],{\"mode\":\"immediate\",\"redraw\":true}],\"label\":\"1989\",\"method\":\"animate\"},{\"args\":[[\"1990\"],{\"mode\":\"immediate\",\"redraw\":true}],\"label\":\"1990\",\"method\":\"animate\"},{\"args\":[[\"1991\"],{\"mode\":\"immediate\",\"redraw\":true}],\"label\":\"1991\",\"method\":\"animate\"},{\"args\":[[\"1992\"],{\"mode\":\"immediate\",\"redraw\":true}],\"label\":\"1992\",\"method\":\"animate\"},{\"args\":[[\"1993\"],{\"mode\":\"immediate\",\"redraw\":true}],\"label\":\"1993\",\"method\":\"animate\"},{\"args\":[[\"1994\"],{\"mode\":\"immediate\",\"redraw\":true}],\"label\":\"1994\",\"method\":\"animate\"},{\"args\":[[\"1995\"],{\"mode\":\"immediate\",\"redraw\":true}],\"label\":\"1995\",\"method\":\"animate\"},{\"args\":[[\"1996\"],{\"mode\":\"immediate\",\"redraw\":true}],\"label\":\"1996\",\"method\":\"animate\"},{\"args\":[[\"1997\"],{\"mode\":\"immediate\",\"redraw\":true}],\"label\":\"1997\",\"method\":\"animate\"},{\"args\":[[\"1998\"],{\"mode\":\"immediate\",\"redraw\":true}],\"label\":\"1998\",\"method\":\"animate\"},{\"args\":[[\"1999\"],{\"mode\":\"immediate\",\"redraw\":true}],\"label\":\"1999\",\"method\":\"animate\"},{\"args\":[[\"2000\"],{\"mode\":\"immediate\",\"redraw\":true}],\"label\":\"2000\",\"method\":\"animate\"},{\"args\":[[\"2001\"],{\"mode\":\"immediate\",\"redraw\":true}],\"label\":\"2001\",\"method\":\"animate\"},{\"args\":[[\"2002\"],{\"mode\":\"immediate\",\"redraw\":true}],\"label\":\"2002\",\"method\":\"animate\"},{\"args\":[[\"2003\"],{\"mode\":\"immediate\",\"redraw\":true}],\"label\":\"2003\",\"method\":\"animate\"},{\"args\":[[\"2004\"],{\"mode\":\"immediate\",\"redraw\":true}],\"label\":\"2004\",\"method\":\"animate\"},{\"args\":[[\"2005\"],{\"mode\":\"immediate\",\"redraw\":true}],\"label\":\"2005\",\"method\":\"animate\"},{\"args\":[[\"2006\"],{\"mode\":\"immediate\",\"redraw\":true}],\"label\":\"2006\",\"method\":\"animate\"},{\"args\":[[\"2007\"],{\"mode\":\"immediate\",\"redraw\":true}],\"label\":\"2007\",\"method\":\"animate\"},{\"args\":[[\"2008\"],{\"mode\":\"immediate\",\"redraw\":true}],\"label\":\"2008\",\"method\":\"animate\"},{\"args\":[[\"2009\"],{\"mode\":\"immediate\",\"redraw\":true}],\"label\":\"2009\",\"method\":\"animate\"},{\"args\":[[\"2010\"],{\"mode\":\"immediate\",\"redraw\":true}],\"label\":\"2010\",\"method\":\"animate\"},{\"args\":[[\"2011\"],{\"mode\":\"immediate\",\"redraw\":true}],\"label\":\"2011\",\"method\":\"animate\"},{\"args\":[[\"2012\"],{\"mode\":\"immediate\",\"redraw\":true}],\"label\":\"2012\",\"method\":\"animate\"},{\"args\":[[\"2013\"],{\"mode\":\"immediate\",\"redraw\":true}],\"label\":\"2013\",\"method\":\"animate\"},{\"args\":[[\"2014\"],{\"mode\":\"immediate\",\"redraw\":true}],\"label\":\"2014\",\"method\":\"animate\"},{\"args\":[[\"2015\"],{\"mode\":\"immediate\",\"redraw\":true}],\"label\":\"2015\",\"method\":\"animate\"},{\"args\":[[\"2016\"],{\"mode\":\"immediate\",\"redraw\":true}],\"label\":\"2016\",\"method\":\"animate\"},{\"args\":[[\"2017\"],{\"mode\":\"immediate\",\"redraw\":true}],\"label\":\"2017\",\"method\":\"animate\"},{\"args\":[[\"2018\"],{\"mode\":\"immediate\",\"redraw\":true}],\"label\":\"2018\",\"method\":\"animate\"},{\"args\":[[\"2019\"],{\"mode\":\"immediate\",\"redraw\":true}],\"label\":\"2019\",\"method\":\"animate\"},{\"args\":[[\"2020\"],{\"mode\":\"immediate\",\"redraw\":true}],\"label\":\"2020\",\"method\":\"animate\"},{\"args\":[[\"2021\"],{\"mode\":\"immediate\",\"redraw\":true}],\"label\":\"2021\",\"method\":\"animate\"},{\"args\":[[\"2022\"],{\"mode\":\"immediate\",\"redraw\":true}],\"label\":\"2022\",\"method\":\"animate\"},{\"args\":[[\"2023\"],{\"mode\":\"immediate\",\"redraw\":true}],\"label\":\"2023\",\"method\":\"animate\"}],\"x\":0.1,\"xanchor\":\"left\",\"y\":0,\"yanchor\":\"top\",\"transition\":{\"duration\":0}}]},                        {\"responsive\": true}                    ).then(function(){\n",
       "                            Plotly.addFrames('653b4739-bac6-4930-bfcd-cba1f7dbead2', [{\"data\":[{\"hovertemplate\":\"\\u003cb\\u003e%{hovertext}\\u003c\\u002fb\\u003e\\u003cbr\\u003e\\u003cbr\\u003eRegion=United States\\u003cbr\\u003eTIME=1981\\u003cbr\\u003eInflation Rate=%{x}\\u003cbr\\u003eNominal Interest Rate (3m T-Bill)=%{y}\\u003cbr\\u003esize=%{marker.size}\\u003cextra\\u003e\\u003c\\u002fextra\\u003e\",\"hovertext\":[\"United States\"],\"ids\":[\"USA\"],\"legendgroup\":\"United States\",\"marker\":{\"color\":\"#636efa\",\"size\":[200.0],\"sizemode\":\"area\",\"sizeref\":0.16,\"symbol\":\"circle\"},\"mode\":\"markers\",\"name\":\"United States\",\"orientation\":\"v\",\"showlegend\":true,\"x\":[10.33471],\"xaxis\":\"x\",\"y\":[15.91083],\"yaxis\":\"y\",\"type\":\"scatter\"},{\"hovertemplate\":\"\\u003cb\\u003e%{hovertext}\\u003c\\u002fb\\u003e\\u003cbr\\u003e\\u003cbr\\u003eRegion=South Africa\\u003cbr\\u003eTIME=1981\\u003cbr\\u003eInflation Rate=%{x}\\u003cbr\\u003eNominal Interest Rate (3m T-Bill)=%{y}\\u003cbr\\u003esize=%{marker.size}\\u003cextra\\u003e\\u003c\\u002fextra\\u003e\",\"hovertext\":[\"South Africa\"],\"ids\":[\"ZAF\"],\"legendgroup\":\"South Africa\",\"marker\":{\"color\":\"#EF553B\",\"size\":[400.0],\"sizemode\":\"area\",\"sizeref\":0.16,\"symbol\":\"circle\"},\"mode\":\"markers\",\"name\":\"South Africa\",\"orientation\":\"v\",\"showlegend\":true,\"x\":[15.25424],\"xaxis\":\"x\",\"y\":[9.723521],\"yaxis\":\"y\",\"type\":\"scatter\"},{\"hovertemplate\":\"\\u003cb\\u003e%{hovertext}\\u003c\\u002fb\\u003e\\u003cbr\\u003e\\u003cbr\\u003eRegion=G7_ex US\\u003cbr\\u003eTIME=1981\\u003cbr\\u003eInflation Rate=%{x}\\u003cbr\\u003eNominal Interest Rate (3m T-Bill)=%{y}\\u003cbr\\u003esize=%{marker.size}\\u003cextra\\u003e\\u003c\\u002fextra\\u003e\",\"hovertext\":[\"Canada\",\"Germany\",\"France\",\"Italy\",\"United Kingdom\",\"Japan\"],\"ids\":[\"CAN\",\"DEU\",\"FRA\",\"ITA\",\"GBR\",\"JPN\"],\"legendgroup\":\"G7_ex US\",\"marker\":{\"color\":\"#00cc96\",\"size\":[50.0,50.0,50.0,50.0,50.0,50.0],\"sizemode\":\"area\",\"sizeref\":0.16,\"symbol\":\"circle\"},\"mode\":\"markers\",\"name\":\"G7_ex US\",\"orientation\":\"v\",\"showlegend\":true,\"x\":[12.47161,6.344242,13.3144,17.9693,-100.0,-100.0],\"xaxis\":\"x\",\"y\":[18.37563,12.105,15.25917,19.23167,-100.0,-100.0],\"yaxis\":\"y\",\"type\":\"scatter\"},{\"hovertemplate\":\"\\u003cb\\u003e%{hovertext}\\u003c\\u002fb\\u003e\\u003cbr\\u003e\\u003cbr\\u003eRegion=EM_Peer\\u003cbr\\u003eTIME=1981\\u003cbr\\u003eInflation Rate=%{x}\\u003cbr\\u003eNominal Interest Rate (3m T-Bill)=%{y}\\u003cbr\\u003esize=%{marker.size}\\u003cextra\\u003e\\u003c\\u002fextra\\u003e\",\"hovertext\":[\"Chile\",\"Colombia\",\"Hungary\",\"Indonesia\",\"India\",\"Mexico\"],\"ids\":[\"CHL\",\"COL\",\"HUN\",\"IDN\",\"IND\",\"MEX\"],\"legendgroup\":\"EM_Peer\",\"marker\":{\"color\":\"#ab63fa\",\"size\":[100.0,100.0,100.0,100.0,100.0,100.0],\"sizemode\":\"area\",\"sizeref\":0.16,\"symbol\":\"circle\"},\"mode\":\"markers\",\"name\":\"EM_Peer\",\"orientation\":\"v\",\"showlegend\":true,\"x\":[-100.0,-100.0,-100.0,-100.0,-100.0,-100.0],\"xaxis\":\"x\",\"y\":[-100.0,-100.0,-100.0,-100.0,-100.0,-100.0],\"yaxis\":\"y\",\"type\":\"scatter\"},{\"hovertemplate\":\"\\u003cb\\u003e%{hovertext}\\u003c\\u002fb\\u003e\\u003cbr\\u003e\\u003cbr\\u003eRegion=EM_Other\\u003cbr\\u003eTIME=1981\\u003cbr\\u003eInflation Rate=%{x}\\u003cbr\\u003eNominal Interest Rate (3m T-Bill)=%{y}\\u003cbr\\u003esize=%{marker.size}\\u003cextra\\u003e\\u003c\\u002fextra\\u003e\",\"hovertext\":[\"China\",\"Costa Rica\",\"Czech Republic\",\"Estonia\",\"Greece\",\"Ireland\",\"Iceland\",\"Lithuania\",\"Latvia\",\"Russia\",\"Slovak Republic\",\"Slovenia\"],\"ids\":[\"CHN\",\"CRI\",\"CZE\",\"EST\",\"GRC\",\"IRL\",\"ISL\",\"LTU\",\"LVA\",\"RUS\",\"SVK\",\"SVN\"],\"legendgroup\":\"EM_Other\",\"marker\":{\"color\":\"#FFA15A\",\"size\":[50.0,50.0,50.0,50.0,50.0,50.0,50.0,50.0,50.0,50.0,50.0,50.0],\"sizemode\":\"area\",\"sizeref\":0.16,\"symbol\":\"circle\"},\"mode\":\"markers\",\"name\":\"EM_Other\",\"orientation\":\"v\",\"showlegend\":true,\"x\":[-100.0,-100.0,-100.0,-100.0,-100.0,-100.0,-100.0,-100.0,-100.0,-100.0,-100.0,-100.0],\"xaxis\":\"x\",\"y\":[-100.0,-100.0,-100.0,-100.0,-100.0,-100.0,-100.0,-100.0,-100.0,-100.0,-100.0,-100.0],\"yaxis\":\"y\",\"type\":\"scatter\"},{\"hovertemplate\":\"\\u003cb\\u003e%{hovertext}\\u003c\\u002fb\\u003e\\u003cbr\\u003e\\u003cbr\\u003eRegion=DM_Other\\u003cbr\\u003eTIME=1981\\u003cbr\\u003eInflation Rate=%{x}\\u003cbr\\u003eNominal Interest Rate (3m T-Bill)=%{y}\\u003cbr\\u003esize=%{marker.size}\\u003cextra\\u003e\\u003c\\u002fextra\\u003e\",\"hovertext\":[\"New Zealand\",\"Australia\",\"Norway\",\"Israel\",\"South Korea\",\"Poland\"],\"ids\":[\"NZL\",\"AUS\",\"NOR\",\"ISR\",\"KOR\",\"POL\"],\"legendgroup\":\"DM_Other\",\"marker\":{\"color\":\"#19d3f3\",\"size\":[50.0,50.0,50.0,50.0,50.0,50.0],\"sizemode\":\"area\",\"sizeref\":0.16,\"symbol\":\"circle\"},\"mode\":\"markers\",\"name\":\"DM_Other\",\"orientation\":\"v\",\"showlegend\":true,\"x\":[15.37015,9.487666,13.64296,-100.0,-100.0,-100.0],\"xaxis\":\"x\",\"y\":[15.2575,15.03833,13.125,-100.0,-100.0,-100.0],\"yaxis\":\"y\",\"type\":\"scatter\"},{\"hovertemplate\":\"\\u003cb\\u003e%{hovertext}\\u003c\\u002fb\\u003e\\u003cbr\\u003e\\u003cbr\\u003eRegion=DM_Europe\\u003cbr\\u003eTIME=1981\\u003cbr\\u003eInflation Rate=%{x}\\u003cbr\\u003eNominal Interest Rate (3m T-Bill)=%{y}\\u003cbr\\u003esize=%{marker.size}\\u003cextra\\u003e\\u003c\\u002fextra\\u003e\",\"hovertext\":[\"Spain\",\"Belgium\",\"Austria\",\"Switzerland\",\"Denmark\",\"Finland\",\"Luxembourg\",\"Netherlands\",\"Portugal\",\"Sweden\"],\"ids\":[\"ESP\",\"BEL\",\"AUT\",\"CHE\",\"DNK\",\"FIN\",\"LUX\",\"NLD\",\"PRT\",\"SWE\"],\"legendgroup\":\"DM_Europe\",\"marker\":{\"color\":\"#FF6692\",\"size\":[50.0,50.0,50.0,50.0,50.0,50.0,50.0,50.0,50.0,50.0],\"sizemode\":\"area\",\"sizeref\":0.16,\"symbol\":\"circle\"},\"mode\":\"markers\",\"name\":\"DM_Europe\",\"orientation\":\"v\",\"showlegend\":true,\"x\":[14.54935,7.627487,-100.0,-100.0,-100.0,-100.0,-100.0,-100.0,-100.0,-100.0],\"xaxis\":\"x\",\"y\":[16.17766,15.27083,-100.0,-100.0,-100.0,-100.0,-100.0,-100.0,-100.0,-100.0],\"yaxis\":\"y\",\"type\":\"scatter\"}],\"name\":\"1981\",\"layout\":{\"title\":{\"text\":\"1981 : Short-term rates in South Africa are lower than those in many other markets\"}}},{\"data\":[{\"hovertemplate\":\"\\u003cb\\u003e%{hovertext}\\u003c\\u002fb\\u003e\\u003cbr\\u003e\\u003cbr\\u003eRegion=United States\\u003cbr\\u003eTIME=1982\\u003cbr\\u003eInflation Rate=%{x}\\u003cbr\\u003eNominal Interest Rate (3m T-Bill)=%{y}\\u003cbr\\u003esize=%{marker.size}\\u003cextra\\u003e\\u003c\\u002fextra\\u003e\",\"hovertext\":[\"United States\"],\"ids\":[\"USA\"],\"legendgroup\":\"United States\",\"marker\":{\"color\":\"#636efa\",\"size\":[200.0],\"sizemode\":\"area\",\"sizeref\":0.16,\"symbol\":\"circle\"},\"mode\":\"markers\",\"name\":\"United States\",\"orientation\":\"v\",\"showlegend\":true,\"x\":[6.131427],\"xaxis\":\"x\",\"y\":[12.27083],\"yaxis\":\"y\",\"type\":\"scatter\"},{\"hovertemplate\":\"\\u003cb\\u003e%{hovertext}\\u003c\\u002fb\\u003e\\u003cbr\\u003e\\u003cbr\\u003eRegion=South Africa\\u003cbr\\u003eTIME=1982\\u003cbr\\u003eInflation Rate=%{x}\\u003cbr\\u003eNominal Interest Rate (3m T-Bill)=%{y}\\u003cbr\\u003esize=%{marker.size}\\u003cextra\\u003e\\u003c\\u002fextra\\u003e\",\"hovertext\":[\"South Africa\"],\"ids\":[\"ZAF\"],\"legendgroup\":\"South Africa\",\"marker\":{\"color\":\"#EF553B\",\"size\":[400.0],\"sizemode\":\"area\",\"sizeref\":0.16,\"symbol\":\"circle\"},\"mode\":\"markers\",\"name\":\"South Africa\",\"orientation\":\"v\",\"showlegend\":true,\"x\":[14.63904],\"xaxis\":\"x\",\"y\":[15.57974],\"yaxis\":\"y\",\"type\":\"scatter\"},{\"hovertemplate\":\"\\u003cb\\u003e%{hovertext}\\u003c\\u002fb\\u003e\\u003cbr\\u003e\\u003cbr\\u003eRegion=G7_ex US\\u003cbr\\u003eTIME=1982\\u003cbr\\u003eInflation Rate=%{x}\\u003cbr\\u003eNominal Interest Rate (3m T-Bill)=%{y}\\u003cbr\\u003esize=%{marker.size}\\u003cextra\\u003e\\u003c\\u002fextra\\u003e\",\"hovertext\":[\"Canada\",\"Germany\",\"France\",\"Italy\",\"United Kingdom\",\"Japan\"],\"ids\":[\"CAN\",\"DEU\",\"FRA\",\"ITA\",\"GBR\",\"JPN\"],\"legendgroup\":\"G7_ex US\",\"marker\":{\"color\":\"#00cc96\",\"size\":[50.0,50.0,50.0,50.0,50.0,50.0],\"sizemode\":\"area\",\"sizeref\":0.16,\"symbol\":\"circle\"},\"mode\":\"markers\",\"name\":\"G7_ex US\",\"orientation\":\"v\",\"showlegend\":true,\"x\":[10.76897,5.241046,11.97848,16.48041,-100.0,-100.0],\"xaxis\":\"x\",\"y\":[14.37521,8.878333,14.61583,19.90528,-100.0,-100.0],\"yaxis\":\"y\",\"type\":\"scatter\"},{\"hovertemplate\":\"\\u003cb\\u003e%{hovertext}\\u003c\\u002fb\\u003e\\u003cbr\\u003e\\u003cbr\\u003eRegion=EM_Peer\\u003cbr\\u003eTIME=1982\\u003cbr\\u003eInflation Rate=%{x}\\u003cbr\\u003eNominal Interest Rate (3m T-Bill)=%{y}\\u003cbr\\u003esize=%{marker.size}\\u003cextra\\u003e\\u003c\\u002fextra\\u003e\",\"hovertext\":[\"Chile\",\"Colombia\",\"Hungary\",\"Indonesia\",\"India\",\"Mexico\"],\"ids\":[\"CHL\",\"COL\",\"HUN\",\"IDN\",\"IND\",\"MEX\"],\"legendgroup\":\"EM_Peer\",\"marker\":{\"color\":\"#ab63fa\",\"size\":[100.0,100.0,100.0,100.0,100.0,100.0],\"sizemode\":\"area\",\"sizeref\":0.16,\"symbol\":\"circle\"},\"mode\":\"markers\",\"name\":\"EM_Peer\",\"orientation\":\"v\",\"showlegend\":true,\"x\":[-100.0,-100.0,-100.0,-100.0,-100.0,-100.0],\"xaxis\":\"x\",\"y\":[-100.0,-100.0,-100.0,-100.0,-100.0,-100.0],\"yaxis\":\"y\",\"type\":\"scatter\"},{\"hovertemplate\":\"\\u003cb\\u003e%{hovertext}\\u003c\\u002fb\\u003e\\u003cbr\\u003e\\u003cbr\\u003eRegion=EM_Other\\u003cbr\\u003eTIME=1982\\u003cbr\\u003eInflation Rate=%{x}\\u003cbr\\u003eNominal Interest Rate (3m T-Bill)=%{y}\\u003cbr\\u003esize=%{marker.size}\\u003cextra\\u003e\\u003c\\u002fextra\\u003e\",\"hovertext\":[\"China\",\"Costa Rica\",\"Czech Republic\",\"Estonia\",\"Greece\",\"Ireland\",\"Iceland\",\"Lithuania\",\"Latvia\",\"Russia\",\"Slovak Republic\",\"Slovenia\"],\"ids\":[\"CHN\",\"CRI\",\"CZE\",\"EST\",\"GRC\",\"IRL\",\"ISL\",\"LTU\",\"LVA\",\"RUS\",\"SVK\",\"SVN\"],\"legendgroup\":\"EM_Other\",\"marker\":{\"color\":\"#FFA15A\",\"size\":[50.0,50.0,50.0,50.0,50.0,50.0,50.0,50.0,50.0,50.0,50.0,50.0],\"sizemode\":\"area\",\"sizeref\":0.16,\"symbol\":\"circle\"},\"mode\":\"markers\",\"name\":\"EM_Other\",\"orientation\":\"v\",\"showlegend\":true,\"x\":[-100.0,-100.0,-100.0,-100.0,-100.0,-100.0,-100.0,-100.0,-100.0,-100.0,-100.0,-100.0],\"xaxis\":\"x\",\"y\":[-100.0,-100.0,-100.0,-100.0,-100.0,-100.0,-100.0,-100.0,-100.0,-100.0,-100.0,-100.0],\"yaxis\":\"y\",\"type\":\"scatter\"},{\"hovertemplate\":\"\\u003cb\\u003e%{hovertext}\\u003c\\u002fb\\u003e\\u003cbr\\u003e\\u003cbr\\u003eRegion=DM_Other\\u003cbr\\u003eTIME=1982\\u003cbr\\u003eInflation Rate=%{x}\\u003cbr\\u003eNominal Interest Rate (3m T-Bill)=%{y}\\u003cbr\\u003esize=%{marker.size}\\u003cextra\\u003e\\u003c\\u002fextra\\u003e\",\"hovertext\":[\"Norway\",\"New Zealand\",\"Australia\",\"Israel\",\"South Korea\",\"Poland\"],\"ids\":[\"NOR\",\"NZL\",\"AUS\",\"ISR\",\"KOR\",\"POL\"],\"legendgroup\":\"DM_Other\",\"marker\":{\"color\":\"#19d3f3\",\"size\":[50.0,50.0,50.0,50.0,50.0,50.0],\"sizemode\":\"area\",\"sizeref\":0.16,\"symbol\":\"circle\"},\"mode\":\"markers\",\"name\":\"DM_Other\",\"orientation\":\"v\",\"showlegend\":true,\"x\":[11.341,16.16369,11.35182,-100.0,-100.0,-100.0],\"xaxis\":\"x\",\"y\":[15.36667,17.0075,16.83417,-100.0,-100.0,-100.0],\"yaxis\":\"y\",\"type\":\"scatter\"},{\"hovertemplate\":\"\\u003cb\\u003e%{hovertext}\\u003c\\u002fb\\u003e\\u003cbr\\u003e\\u003cbr\\u003eRegion=DM_Europe\\u003cbr\\u003eTIME=1982\\u003cbr\\u003eInflation Rate=%{x}\\u003cbr\\u003eNominal Interest Rate (3m T-Bill)=%{y}\\u003cbr\\u003esize=%{marker.size}\\u003cextra\\u003e\\u003c\\u002fextra\\u003e\",\"hovertext\":[\"Netherlands\",\"Belgium\",\"Spain\",\"Sweden\",\"Austria\",\"Switzerland\",\"Denmark\",\"Finland\",\"Luxembourg\",\"Portugal\"],\"ids\":[\"NLD\",\"BEL\",\"ESP\",\"SWE\",\"AUT\",\"CHE\",\"DNK\",\"FIN\",\"LUX\",\"PRT\"],\"legendgroup\":\"DM_Europe\",\"marker\":{\"color\":\"#FF6692\",\"size\":[50.0,50.0,50.0,50.0,50.0,50.0,50.0,50.0,50.0,50.0],\"sizemode\":\"area\",\"sizeref\":0.16,\"symbol\":\"circle\"},\"mode\":\"markers\",\"name\":\"DM_Europe\",\"orientation\":\"v\",\"showlegend\":true,\"x\":[5.911094,8.726549,14.41499,8.589185,-100.0,-100.0,-100.0,-100.0,-100.0,-100.0],\"xaxis\":\"x\",\"y\":[8.374166,13.97083,16.2815,13.25,-100.0,-100.0,-100.0,-100.0,-100.0,-100.0],\"yaxis\":\"y\",\"type\":\"scatter\"}],\"name\":\"1982\",\"layout\":{\"title\":{\"text\":\"1982 : Global recession, decline gold price and severe drought quickly reverse this\"}}},{\"data\":[{\"hovertemplate\":\"\\u003cb\\u003e%{hovertext}\\u003c\\u002fb\\u003e\\u003cbr\\u003e\\u003cbr\\u003eRegion=United States\\u003cbr\\u003eTIME=1983\\u003cbr\\u003eInflation Rate=%{x}\\u003cbr\\u003eNominal Interest Rate (3m T-Bill)=%{y}\\u003cbr\\u003esize=%{marker.size}\\u003cextra\\u003e\\u003c\\u002fextra\\u003e\",\"hovertext\":[\"United States\"],\"ids\":[\"USA\"],\"legendgroup\":\"United States\",\"marker\":{\"color\":\"#636efa\",\"size\":[200.0],\"sizemode\":\"area\",\"sizeref\":0.16,\"symbol\":\"circle\"},\"mode\":\"markers\",\"name\":\"United States\",\"orientation\":\"v\",\"showlegend\":true,\"x\":[3.212435],\"xaxis\":\"x\",\"y\":[9.066667],\"yaxis\":\"y\",\"type\":\"scatter\"},{\"hovertemplate\":\"\\u003cb\\u003e%{hovertext}\\u003c\\u002fb\\u003e\\u003cbr\\u003e\\u003cbr\\u003eRegion=South Africa\\u003cbr\\u003eTIME=1983\\u003cbr\\u003eInflation Rate=%{x}\\u003cbr\\u003eNominal Interest Rate (3m T-Bill)=%{y}\\u003cbr\\u003esize=%{marker.size}\\u003cextra\\u003e\\u003c\\u002fextra\\u003e\",\"hovertext\":[\"South Africa\"],\"ids\":[\"ZAF\"],\"legendgroup\":\"South Africa\",\"marker\":{\"color\":\"#EF553B\",\"size\":[400.0],\"sizemode\":\"area\",\"sizeref\":0.16,\"symbol\":\"circle\"},\"mode\":\"markers\",\"name\":\"South Africa\",\"orientation\":\"v\",\"showlegend\":true,\"x\":[12.30321],\"xaxis\":\"x\",\"y\":[13.39076],\"yaxis\":\"y\",\"type\":\"scatter\"},{\"hovertemplate\":\"\\u003cb\\u003e%{hovertext}\\u003c\\u002fb\\u003e\\u003cbr\\u003e\\u003cbr\\u003eRegion=G7_ex US\\u003cbr\\u003eTIME=1983\\u003cbr\\u003eInflation Rate=%{x}\\u003cbr\\u003eNominal Interest Rate (3m T-Bill)=%{y}\\u003cbr\\u003esize=%{marker.size}\\u003cextra\\u003e\\u003c\\u002fextra\\u003e\",\"hovertext\":[\"France\",\"Germany\",\"Canada\",\"Italy\",\"United Kingdom\",\"Japan\"],\"ids\":[\"FRA\",\"DEU\",\"CAN\",\"ITA\",\"GBR\",\"JPN\"],\"legendgroup\":\"G7_ex US\",\"marker\":{\"color\":\"#00cc96\",\"size\":[50.0,50.0,50.0,50.0,50.0,50.0],\"sizemode\":\"area\",\"sizeref\":0.16,\"symbol\":\"circle\"},\"mode\":\"markers\",\"name\":\"G7_ex US\",\"orientation\":\"v\",\"showlegend\":true,\"x\":[9.459548,3.293413,5.863588,14.64659,-100.0,-100.0],\"xaxis\":\"x\",\"y\":[12.4675,5.776667,9.465834,18.30862,-100.0,-100.0],\"yaxis\":\"y\",\"type\":\"scatter\"},{\"hovertemplate\":\"\\u003cb\\u003e%{hovertext}\\u003c\\u002fb\\u003e\\u003cbr\\u003e\\u003cbr\\u003eRegion=EM_Peer\\u003cbr\\u003eTIME=1983\\u003cbr\\u003eInflation Rate=%{x}\\u003cbr\\u003eNominal Interest Rate (3m T-Bill)=%{y}\\u003cbr\\u003esize=%{marker.size}\\u003cextra\\u003e\\u003c\\u002fextra\\u003e\",\"hovertext\":[\"Chile\",\"Colombia\",\"Hungary\",\"Indonesia\",\"India\",\"Mexico\"],\"ids\":[\"CHL\",\"COL\",\"HUN\",\"IDN\",\"IND\",\"MEX\"],\"legendgroup\":\"EM_Peer\",\"marker\":{\"color\":\"#ab63fa\",\"size\":[100.0,100.0,100.0,100.0,100.0,100.0],\"sizemode\":\"area\",\"sizeref\":0.16,\"symbol\":\"circle\"},\"mode\":\"markers\",\"name\":\"EM_Peer\",\"orientation\":\"v\",\"showlegend\":true,\"x\":[-100.0,-100.0,-100.0,-100.0,-100.0,-100.0],\"xaxis\":\"x\",\"y\":[-100.0,-100.0,-100.0,-100.0,-100.0,-100.0],\"yaxis\":\"y\",\"type\":\"scatter\"},{\"hovertemplate\":\"\\u003cb\\u003e%{hovertext}\\u003c\\u002fb\\u003e\\u003cbr\\u003e\\u003cbr\\u003eRegion=EM_Other\\u003cbr\\u003eTIME=1983\\u003cbr\\u003eInflation Rate=%{x}\\u003cbr\\u003eNominal Interest Rate (3m T-Bill)=%{y}\\u003cbr\\u003esize=%{marker.size}\\u003cextra\\u003e\\u003c\\u002fextra\\u003e\",\"hovertext\":[\"China\",\"Costa Rica\",\"Czech Republic\",\"Estonia\",\"Greece\",\"Ireland\",\"Iceland\",\"Lithuania\",\"Latvia\",\"Russia\",\"Slovak Republic\",\"Slovenia\"],\"ids\":[\"CHN\",\"CRI\",\"CZE\",\"EST\",\"GRC\",\"IRL\",\"ISL\",\"LTU\",\"LVA\",\"RUS\",\"SVK\",\"SVN\"],\"legendgroup\":\"EM_Other\",\"marker\":{\"color\":\"#FFA15A\",\"size\":[50.0,50.0,50.0,50.0,50.0,50.0,50.0,50.0,50.0,50.0,50.0,50.0],\"sizemode\":\"area\",\"sizeref\":0.16,\"symbol\":\"circle\"},\"mode\":\"markers\",\"name\":\"EM_Other\",\"orientation\":\"v\",\"showlegend\":true,\"x\":[-100.0,-100.0,-100.0,-100.0,-100.0,-100.0,-100.0,-100.0,-100.0,-100.0,-100.0,-100.0],\"xaxis\":\"x\",\"y\":[-100.0,-100.0,-100.0,-100.0,-100.0,-100.0,-100.0,-100.0,-100.0,-100.0,-100.0,-100.0],\"yaxis\":\"y\",\"type\":\"scatter\"},{\"hovertemplate\":\"\\u003cb\\u003e%{hovertext}\\u003c\\u002fb\\u003e\\u003cbr\\u003e\\u003cbr\\u003eRegion=DM_Other\\u003cbr\\u003eTIME=1983\\u003cbr\\u003eInflation Rate=%{x}\\u003cbr\\u003eNominal Interest Rate (3m T-Bill)=%{y}\\u003cbr\\u003esize=%{marker.size}\\u003cextra\\u003e\\u003c\\u002fextra\\u003e\",\"hovertext\":[\"Norway\",\"Australia\",\"New Zealand\",\"Israel\",\"South Korea\",\"Poland\"],\"ids\":[\"NOR\",\"AUS\",\"NZL\",\"ISR\",\"KOR\",\"POL\"],\"legendgroup\":\"DM_Other\",\"marker\":{\"color\":\"#19d3f3\",\"size\":[50.0,50.0,50.0,50.0,50.0,50.0],\"sizemode\":\"area\",\"sizeref\":0.16,\"symbol\":\"circle\"},\"mode\":\"markers\",\"name\":\"DM_Other\",\"orientation\":\"v\",\"showlegend\":true,\"x\":[8.465244,10.03891,7.341074,-100.0,-100.0,-100.0],\"xaxis\":\"x\",\"y\":[13.3,12.19917,13.08583,-100.0,-100.0,-100.0],\"yaxis\":\"y\",\"type\":\"scatter\"},{\"hovertemplate\":\"\\u003cb\\u003e%{hovertext}\\u003c\\u002fb\\u003e\\u003cbr\\u003e\\u003cbr\\u003eRegion=DM_Europe\\u003cbr\\u003eTIME=1983\\u003cbr\\u003eInflation Rate=%{x}\\u003cbr\\u003eNominal Interest Rate (3m T-Bill)=%{y}\\u003cbr\\u003esize=%{marker.size}\\u003cextra\\u003e\\u003c\\u002fextra\\u003e\",\"hovertext\":[\"Netherlands\",\"Belgium\",\"Spain\",\"Sweden\",\"Austria\",\"Switzerland\",\"Denmark\",\"Finland\",\"Luxembourg\",\"Portugal\"],\"ids\":[\"NLD\",\"BEL\",\"ESP\",\"SWE\",\"AUT\",\"CHE\",\"DNK\",\"FIN\",\"LUX\",\"PRT\"],\"legendgroup\":\"DM_Europe\",\"marker\":{\"color\":\"#FF6692\",\"size\":[50.0,50.0,50.0,50.0,50.0,50.0,50.0,50.0,50.0,50.0],\"sizemode\":\"area\",\"sizeref\":0.16,\"symbol\":\"circle\"},\"mode\":\"markers\",\"name\":\"DM_Europe\",\"orientation\":\"v\",\"showlegend\":true,\"x\":[2.740841,7.66161,12.17408,8.873021,-100.0,-100.0,-100.0,-100.0,-100.0,-100.0],\"xaxis\":\"x\",\"y\":[5.648334,10.4,20.04957,11.41083,-100.0,-100.0,-100.0,-100.0,-100.0,-100.0],\"yaxis\":\"y\",\"type\":\"scatter\"}],\"name\":\"1983\",\"layout\":{\"title\":{\"text\":\"1983 : Signs of economic recovery in the US and other industrial nations bouy sentiment\"}}},{\"data\":[{\"hovertemplate\":\"\\u003cb\\u003e%{hovertext}\\u003c\\u002fb\\u003e\\u003cbr\\u003e\\u003cbr\\u003eRegion=United States\\u003cbr\\u003eTIME=1984\\u003cbr\\u003eInflation Rate=%{x}\\u003cbr\\u003eNominal Interest Rate (3m T-Bill)=%{y}\\u003cbr\\u003esize=%{marker.size}\\u003cextra\\u003e\\u003c\\u002fextra\\u003e\",\"hovertext\":[\"United States\"],\"ids\":[\"USA\"],\"legendgroup\":\"United States\",\"marker\":{\"color\":\"#636efa\",\"size\":[200.0],\"sizemode\":\"area\",\"sizeref\":0.16,\"symbol\":\"circle\"},\"mode\":\"markers\",\"name\":\"United States\",\"orientation\":\"v\",\"showlegend\":true,\"x\":[4.300536],\"xaxis\":\"x\",\"y\":[10.365],\"yaxis\":\"y\",\"type\":\"scatter\"},{\"hovertemplate\":\"\\u003cb\\u003e%{hovertext}\\u003c\\u002fb\\u003e\\u003cbr\\u003e\\u003cbr\\u003eRegion=South Africa\\u003cbr\\u003eTIME=1984\\u003cbr\\u003eInflation Rate=%{x}\\u003cbr\\u003eNominal Interest Rate (3m T-Bill)=%{y}\\u003cbr\\u003esize=%{marker.size}\\u003cextra\\u003e\\u003c\\u002fextra\\u003e\",\"hovertext\":[\"South Africa\"],\"ids\":[\"ZAF\"],\"legendgroup\":\"South Africa\",\"marker\":{\"color\":\"#EF553B\",\"size\":[400.0],\"sizemode\":\"area\",\"sizeref\":0.16,\"symbol\":\"circle\"},\"mode\":\"markers\",\"name\":\"South Africa\",\"orientation\":\"v\",\"showlegend\":true,\"x\":[11.52648],\"xaxis\":\"x\",\"y\":[19.30536],\"yaxis\":\"y\",\"type\":\"scatter\"},{\"hovertemplate\":\"\\u003cb\\u003e%{hovertext}\\u003c\\u002fb\\u003e\\u003cbr\\u003e\\u003cbr\\u003eRegion=G7_ex US\\u003cbr\\u003eTIME=1984\\u003cbr\\u003eInflation Rate=%{x}\\u003cbr\\u003eNominal Interest Rate (3m T-Bill)=%{y}\\u003cbr\\u003esize=%{marker.size}\\u003cextra\\u003e\\u003c\\u002fextra\\u003e\",\"hovertext\":[\"France\",\"Germany\",\"Italy\",\"Canada\",\"United Kingdom\",\"Japan\"],\"ids\":[\"FRA\",\"DEU\",\"ITA\",\"CAN\",\"GBR\",\"JPN\"],\"legendgroup\":\"G7_ex US\",\"marker\":{\"color\":\"#00cc96\",\"size\":[50.0,50.0,50.0,50.0,50.0,50.0],\"sizemode\":\"area\",\"sizeref\":0.16,\"symbol\":\"circle\"},\"mode\":\"markers\",\"name\":\"G7_ex US\",\"orientation\":\"v\",\"showlegend\":true,\"x\":[7.673803,2.405797,10.79449,4.304778,-100.0,-100.0],\"xaxis\":\"x\",\"y\":[11.7025,5.985833,17.26847,11.22208,-100.0,-100.0],\"yaxis\":\"y\",\"type\":\"scatter\"},{\"hovertemplate\":\"\\u003cb\\u003e%{hovertext}\\u003c\\u002fb\\u003e\\u003cbr\\u003e\\u003cbr\\u003eRegion=EM_Peer\\u003cbr\\u003eTIME=1984\\u003cbr\\u003eInflation Rate=%{x}\\u003cbr\\u003eNominal Interest Rate (3m T-Bill)=%{y}\\u003cbr\\u003esize=%{marker.size}\\u003cextra\\u003e\\u003c\\u002fextra\\u003e\",\"hovertext\":[\"Chile\",\"Colombia\",\"Hungary\",\"Indonesia\",\"India\",\"Mexico\"],\"ids\":[\"CHL\",\"COL\",\"HUN\",\"IDN\",\"IND\",\"MEX\"],\"legendgroup\":\"EM_Peer\",\"marker\":{\"color\":\"#ab63fa\",\"size\":[100.0,100.0,100.0,100.0,100.0,100.0],\"sizemode\":\"area\",\"sizeref\":0.16,\"symbol\":\"circle\"},\"mode\":\"markers\",\"name\":\"EM_Peer\",\"orientation\":\"v\",\"showlegend\":true,\"x\":[-100.0,-100.0,-100.0,-100.0,-100.0,-100.0],\"xaxis\":\"x\",\"y\":[-100.0,-100.0,-100.0,-100.0,-100.0,-100.0],\"yaxis\":\"y\",\"type\":\"scatter\"},{\"hovertemplate\":\"\\u003cb\\u003e%{hovertext}\\u003c\\u002fb\\u003e\\u003cbr\\u003e\\u003cbr\\u003eRegion=EM_Other\\u003cbr\\u003eTIME=1984\\u003cbr\\u003eInflation Rate=%{x}\\u003cbr\\u003eNominal Interest Rate (3m T-Bill)=%{y}\\u003cbr\\u003esize=%{marker.size}\\u003cextra\\u003e\\u003c\\u002fextra\\u003e\",\"hovertext\":[\"Ireland\",\"China\",\"Costa Rica\",\"Czech Republic\",\"Estonia\",\"Greece\",\"Iceland\",\"Lithuania\",\"Latvia\",\"Russia\",\"Slovak Republic\",\"Slovenia\"],\"ids\":[\"IRL\",\"CHN\",\"CRI\",\"CZE\",\"EST\",\"GRC\",\"ISL\",\"LTU\",\"LVA\",\"RUS\",\"SVK\",\"SVN\"],\"legendgroup\":\"EM_Other\",\"marker\":{\"color\":\"#FFA15A\",\"size\":[50.0,50.0,50.0,50.0,50.0,50.0,50.0,50.0,50.0,50.0,50.0,50.0],\"sizemode\":\"area\",\"sizeref\":0.16,\"symbol\":\"circle\"},\"mode\":\"markers\",\"name\":\"EM_Other\",\"orientation\":\"v\",\"showlegend\":true,\"x\":[8.65111,-100.0,-100.0,-100.0,-100.0,-100.0,-100.0,-100.0,-100.0,-100.0,-100.0,-100.0],\"xaxis\":\"x\",\"y\":[13.23083,-100.0,-100.0,-100.0,-100.0,-100.0,-100.0,-100.0,-100.0,-100.0,-100.0,-100.0],\"yaxis\":\"y\",\"type\":\"scatter\"},{\"hovertemplate\":\"\\u003cb\\u003e%{hovertext}\\u003c\\u002fb\\u003e\\u003cbr\\u003e\\u003cbr\\u003eRegion=DM_Other\\u003cbr\\u003eTIME=1984\\u003cbr\\u003eInflation Rate=%{x}\\u003cbr\\u003eNominal Interest Rate (3m T-Bill)=%{y}\\u003cbr\\u003esize=%{marker.size}\\u003cextra\\u003e\\u003c\\u002fextra\\u003e\",\"hovertext\":[\"Australia\",\"New Zealand\",\"Norway\",\"Israel\",\"South Korea\",\"Poland\"],\"ids\":[\"AUS\",\"NZL\",\"NOR\",\"ISR\",\"KOR\",\"POL\"],\"legendgroup\":\"DM_Other\",\"marker\":{\"color\":\"#19d3f3\",\"size\":[50.0,50.0,50.0,50.0,50.0,50.0],\"sizemode\":\"area\",\"sizeref\":0.16,\"symbol\":\"circle\"},\"mode\":\"markers\",\"name\":\"DM_Other\",\"orientation\":\"v\",\"showlegend\":true,\"x\":[3.960396,6.17125,6.218274,-100.0,-100.0,-100.0],\"xaxis\":\"x\",\"y\":[12.1,15.0225,13.01667,-100.0,-100.0,-100.0],\"yaxis\":\"y\",\"type\":\"scatter\"},{\"hovertemplate\":\"\\u003cb\\u003e%{hovertext}\\u003c\\u002fb\\u003e\\u003cbr\\u003e\\u003cbr\\u003eRegion=DM_Europe\\u003cbr\\u003eTIME=1984\\u003cbr\\u003eInflation Rate=%{x}\\u003cbr\\u003eNominal Interest Rate (3m T-Bill)=%{y}\\u003cbr\\u003esize=%{marker.size}\\u003cextra\\u003e\\u003c\\u002fextra\\u003e\",\"hovertext\":[\"Belgium\",\"Sweden\",\"Netherlands\",\"Spain\",\"Austria\",\"Switzerland\",\"Denmark\",\"Finland\",\"Luxembourg\",\"Portugal\"],\"ids\":[\"BEL\",\"SWE\",\"NLD\",\"ESP\",\"AUT\",\"CHE\",\"DNK\",\"FIN\",\"LUX\",\"PRT\"],\"legendgroup\":\"DM_Europe\",\"marker\":{\"color\":\"#FF6692\",\"size\":[50.0,50.0,50.0,50.0,50.0,50.0,50.0,50.0,50.0,50.0],\"sizemode\":\"area\",\"sizeref\":0.16,\"symbol\":\"circle\"},\"mode\":\"markers\",\"name\":\"DM_Europe\",\"orientation\":\"v\",\"showlegend\":true,\"x\":[6.341776,8.044243,3.301638,11.28027,-100.0,-100.0,-100.0,-100.0,-100.0,-100.0],\"xaxis\":\"x\",\"y\":[11.42083,11.93083,6.1275,14.89783,-100.0,-100.0,-100.0,-100.0,-100.0,-100.0],\"yaxis\":\"y\",\"type\":\"scatter\"}],\"name\":\"1984\",\"layout\":{\"title\":{\"text\":\"1984 : The recovery falters and developing nations grapple with mounting debt burdens\"}}},{\"data\":[{\"hovertemplate\":\"\\u003cb\\u003e%{hovertext}\\u003c\\u002fb\\u003e\\u003cbr\\u003e\\u003cbr\\u003eRegion=United States\\u003cbr\\u003eTIME=1985\\u003cbr\\u003eInflation Rate=%{x}\\u003cbr\\u003eNominal Interest Rate (3m T-Bill)=%{y}\\u003cbr\\u003esize=%{marker.size}\\u003cextra\\u003e\\u003c\\u002fextra\\u003e\",\"hovertext\":[\"United States\"],\"ids\":[\"USA\"],\"legendgroup\":\"United States\",\"marker\":{\"color\":\"#636efa\",\"size\":[200.0],\"sizemode\":\"area\",\"sizeref\":0.16,\"symbol\":\"circle\"},\"mode\":\"markers\",\"name\":\"United States\",\"orientation\":\"v\",\"showlegend\":true,\"x\":[3.545644],\"xaxis\":\"x\",\"y\":[8.0475],\"yaxis\":\"y\",\"type\":\"scatter\"},{\"hovertemplate\":\"\\u003cb\\u003e%{hovertext}\\u003c\\u002fb\\u003e\\u003cbr\\u003e\\u003cbr\\u003eRegion=South Africa\\u003cbr\\u003eTIME=1985\\u003cbr\\u003eInflation Rate=%{x}\\u003cbr\\u003eNominal Interest Rate (3m T-Bill)=%{y}\\u003cbr\\u003esize=%{marker.size}\\u003cextra\\u003e\\u003c\\u002fextra\\u003e\",\"hovertext\":[\"South Africa\"],\"ids\":[\"ZAF\"],\"legendgroup\":\"South Africa\",\"marker\":{\"color\":\"#EF553B\",\"size\":[400.0],\"sizemode\":\"area\",\"sizeref\":0.16,\"symbol\":\"circle\"},\"mode\":\"markers\",\"name\":\"South Africa\",\"orientation\":\"v\",\"showlegend\":true,\"x\":[16.29423],\"xaxis\":\"x\",\"y\":[17.72245],\"yaxis\":\"y\",\"type\":\"scatter\"},{\"hovertemplate\":\"\\u003cb\\u003e%{hovertext}\\u003c\\u002fb\\u003e\\u003cbr\\u003e\\u003cbr\\u003eRegion=G7_ex US\\u003cbr\\u003eTIME=1985\\u003cbr\\u003eInflation Rate=%{x}\\u003cbr\\u003eNominal Interest Rate (3m T-Bill)=%{y}\\u003cbr\\u003esize=%{marker.size}\\u003cextra\\u003e\\u003c\\u002fextra\\u003e\",\"hovertext\":[\"France\",\"Germany\",\"Canada\",\"Italy\",\"United Kingdom\",\"Japan\"],\"ids\":[\"FRA\",\"DEU\",\"CAN\",\"ITA\",\"GBR\",\"JPN\"],\"legendgroup\":\"G7_ex US\",\"marker\":{\"color\":\"#00cc96\",\"size\":[50.0,50.0,50.0,50.0,50.0,50.0],\"sizemode\":\"area\",\"sizeref\":0.16,\"symbol\":\"circle\"},\"mode\":\"markers\",\"name\":\"G7_ex US\",\"orientation\":\"v\",\"showlegend\":true,\"x\":[5.831099,2.066233,3.962031,9.205993,-100.0,-100.0],\"xaxis\":\"x\",\"y\":[9.943334,5.448333,9.596042,15.24693,-100.0,-100.0],\"yaxis\":\"y\",\"type\":\"scatter\"},{\"hovertemplate\":\"\\u003cb\\u003e%{hovertext}\\u003c\\u002fb\\u003e\\u003cbr\\u003e\\u003cbr\\u003eRegion=EM_Peer\\u003cbr\\u003eTIME=1985\\u003cbr\\u003eInflation Rate=%{x}\\u003cbr\\u003eNominal Interest Rate (3m T-Bill)=%{y}\\u003cbr\\u003esize=%{marker.size}\\u003cextra\\u003e\\u003c\\u002fextra\\u003e\",\"hovertext\":[\"Chile\",\"Colombia\",\"Hungary\",\"Indonesia\",\"India\",\"Mexico\"],\"ids\":[\"CHL\",\"COL\",\"HUN\",\"IDN\",\"IND\",\"MEX\"],\"legendgroup\":\"EM_Peer\",\"marker\":{\"color\":\"#ab63fa\",\"size\":[100.0,100.0,100.0,100.0,100.0,100.0],\"sizemode\":\"area\",\"sizeref\":0.16,\"symbol\":\"circle\"},\"mode\":\"markers\",\"name\":\"EM_Peer\",\"orientation\":\"v\",\"showlegend\":true,\"x\":[-100.0,-100.0,-100.0,-100.0,-100.0,-100.0],\"xaxis\":\"x\",\"y\":[-100.0,-100.0,-100.0,-100.0,-100.0,-100.0],\"yaxis\":\"y\",\"type\":\"scatter\"},{\"hovertemplate\":\"\\u003cb\\u003e%{hovertext}\\u003c\\u002fb\\u003e\\u003cbr\\u003e\\u003cbr\\u003eRegion=EM_Other\\u003cbr\\u003eTIME=1985\\u003cbr\\u003eInflation Rate=%{x}\\u003cbr\\u003eNominal Interest Rate (3m T-Bill)=%{y}\\u003cbr\\u003esize=%{marker.size}\\u003cextra\\u003e\\u003c\\u002fextra\\u003e\",\"hovertext\":[\"Ireland\",\"China\",\"Costa Rica\",\"Czech Republic\",\"Estonia\",\"Greece\",\"Iceland\",\"Lithuania\",\"Latvia\",\"Russia\",\"Slovak Republic\",\"Slovenia\"],\"ids\":[\"IRL\",\"CHN\",\"CRI\",\"CZE\",\"EST\",\"GRC\",\"ISL\",\"LTU\",\"LVA\",\"RUS\",\"SVK\",\"SVN\"],\"legendgroup\":\"EM_Other\",\"marker\":{\"color\":\"#FFA15A\",\"size\":[50.0,50.0,50.0,50.0,50.0,50.0,50.0,50.0,50.0,50.0,50.0,50.0],\"sizemode\":\"area\",\"sizeref\":0.16,\"symbol\":\"circle\"},\"mode\":\"markers\",\"name\":\"EM_Other\",\"orientation\":\"v\",\"showlegend\":true,\"x\":[5.395495,-100.0,-100.0,-100.0,-100.0,-100.0,-100.0,-100.0,-100.0,-100.0,-100.0,-100.0],\"xaxis\":\"x\",\"y\":[11.925,-100.0,-100.0,-100.0,-100.0,-100.0,-100.0,-100.0,-100.0,-100.0,-100.0,-100.0],\"yaxis\":\"y\",\"type\":\"scatter\"},{\"hovertemplate\":\"\\u003cb\\u003e%{hovertext}\\u003c\\u002fb\\u003e\\u003cbr\\u003e\\u003cbr\\u003eRegion=DM_Other\\u003cbr\\u003eTIME=1985\\u003cbr\\u003eInflation Rate=%{x}\\u003cbr\\u003eNominal Interest Rate (3m T-Bill)=%{y}\\u003cbr\\u003esize=%{marker.size}\\u003cextra\\u003e\\u003c\\u002fextra\\u003e\",\"hovertext\":[\"New Zealand\",\"Norway\",\"Australia\",\"Israel\",\"South Korea\",\"Poland\"],\"ids\":[\"NZL\",\"NOR\",\"AUS\",\"ISR\",\"KOR\",\"POL\"],\"legendgroup\":\"DM_Other\",\"marker\":{\"color\":\"#19d3f3\",\"size\":[50.0,50.0,50.0,50.0,50.0,50.0],\"sizemode\":\"area\",\"sizeref\":0.16,\"symbol\":\"circle\"},\"mode\":\"markers\",\"name\":\"DM_Other\",\"orientation\":\"v\",\"showlegend\":true,\"x\":[15.41766,5.714855,6.734694,-100.0,-100.0,-100.0],\"xaxis\":\"x\",\"y\":[23.305,12.525,15.9825,-100.0,-100.0,-100.0],\"yaxis\":\"y\",\"type\":\"scatter\"},{\"hovertemplate\":\"\\u003cb\\u003e%{hovertext}\\u003c\\u002fb\\u003e\\u003cbr\\u003e\\u003cbr\\u003eRegion=DM_Europe\\u003cbr\\u003eTIME=1985\\u003cbr\\u003eInflation Rate=%{x}\\u003cbr\\u003eNominal Interest Rate (3m T-Bill)=%{y}\\u003cbr\\u003esize=%{marker.size}\\u003cextra\\u003e\\u003c\\u002fextra\\u003e\",\"hovertext\":[\"Sweden\",\"Netherlands\",\"Belgium\",\"Spain\",\"Austria\",\"Switzerland\",\"Denmark\",\"Finland\",\"Luxembourg\",\"Portugal\"],\"ids\":[\"SWE\",\"NLD\",\"BEL\",\"ESP\",\"AUT\",\"CHE\",\"DNK\",\"FIN\",\"LUX\",\"PRT\"],\"legendgroup\":\"DM_Europe\",\"marker\":{\"color\":\"#FF6692\",\"size\":[50.0,50.0,50.0,50.0,50.0,50.0,50.0,50.0,50.0,50.0],\"sizemode\":\"area\",\"sizeref\":0.16,\"symbol\":\"circle\"},\"mode\":\"markers\",\"name\":\"DM_Europe\",\"orientation\":\"v\",\"showlegend\":true,\"x\":[7.372575,2.258587,4.86873,8.814454,-100.0,-100.0,-100.0,-100.0,-100.0,-100.0],\"xaxis\":\"x\",\"y\":[14.17417,6.355834,9.516666,12.22442,-100.0,-100.0,-100.0,-100.0,-100.0,-100.0],\"yaxis\":\"y\",\"type\":\"scatter\"}],\"name\":\"1985\",\"layout\":{\"title\":{\"text\":\"1985 : South Africa - political unrest, foreign disinvestment, and partial sanctions\"}}},{\"data\":[{\"hovertemplate\":\"\\u003cb\\u003e%{hovertext}\\u003c\\u002fb\\u003e\\u003cbr\\u003e\\u003cbr\\u003eRegion=United States\\u003cbr\\u003eTIME=1986\\u003cbr\\u003eInflation Rate=%{x}\\u003cbr\\u003eNominal Interest Rate (3m T-Bill)=%{y}\\u003cbr\\u003esize=%{marker.size}\\u003cextra\\u003e\\u003c\\u002fextra\\u003e\",\"hovertext\":[\"United States\"],\"ids\":[\"USA\"],\"legendgroup\":\"United States\",\"marker\":{\"color\":\"#636efa\",\"size\":[200.0],\"sizemode\":\"area\",\"sizeref\":0.16,\"symbol\":\"circle\"},\"mode\":\"markers\",\"name\":\"United States\",\"orientation\":\"v\",\"showlegend\":true,\"x\":[1.898048],\"xaxis\":\"x\",\"y\":[6.518333],\"yaxis\":\"y\",\"type\":\"scatter\"},{\"hovertemplate\":\"\\u003cb\\u003e%{hovertext}\\u003c\\u002fb\\u003e\\u003cbr\\u003e\\u003cbr\\u003eRegion=South Africa\\u003cbr\\u003eTIME=1986\\u003cbr\\u003eInflation Rate=%{x}\\u003cbr\\u003eNominal Interest Rate (3m T-Bill)=%{y}\\u003cbr\\u003esize=%{marker.size}\\u003cextra\\u003e\\u003c\\u002fextra\\u003e\",\"hovertext\":[\"South Africa\"],\"ids\":[\"ZAF\"],\"legendgroup\":\"South Africa\",\"marker\":{\"color\":\"#EF553B\",\"size\":[400.0],\"sizemode\":\"area\",\"sizeref\":0.16,\"symbol\":\"circle\"},\"mode\":\"markers\",\"name\":\"South Africa\",\"orientation\":\"v\",\"showlegend\":true,\"x\":[18.65492],\"xaxis\":\"x\",\"y\":[10.51779],\"yaxis\":\"y\",\"type\":\"scatter\"},{\"hovertemplate\":\"\\u003cb\\u003e%{hovertext}\\u003c\\u002fb\\u003e\\u003cbr\\u003e\\u003cbr\\u003eRegion=G7_ex US\\u003cbr\\u003eTIME=1986\\u003cbr\\u003eInflation Rate=%{x}\\u003cbr\\u003eNominal Interest Rate (3m T-Bill)=%{y}\\u003cbr\\u003esize=%{marker.size}\\u003cextra\\u003e\\u003c\\u002fextra\\u003e\",\"hovertext\":[\"France\",\"United Kingdom\",\"Germany\",\"Canada\",\"Italy\",\"Japan\"],\"ids\":[\"FRA\",\"GBR\",\"DEU\",\"CAN\",\"ITA\",\"JPN\"],\"legendgroup\":\"G7_ex US\",\"marker\":{\"color\":\"#00cc96\",\"size\":[50.0,50.0,50.0,50.0,50.0,50.0],\"sizemode\":\"area\",\"sizeref\":0.16,\"symbol\":\"circle\"},\"mode\":\"markers\",\"name\":\"G7_ex US\",\"orientation\":\"v\",\"showlegend\":true,\"x\":[2.538527,3.427615,-0.1294139,4.194786,5.823544,-100.0],\"xaxis\":\"x\",\"y\":[7.7095,10.99677,4.635,9.187917,13.39334,-100.0],\"yaxis\":\"y\",\"type\":\"scatter\"},{\"hovertemplate\":\"\\u003cb\\u003e%{hovertext}\\u003c\\u002fb\\u003e\\u003cbr\\u003e\\u003cbr\\u003eRegion=EM_Peer\\u003cbr\\u003eTIME=1986\\u003cbr\\u003eInflation Rate=%{x}\\u003cbr\\u003eNominal Interest Rate (3m T-Bill)=%{y}\\u003cbr\\u003esize=%{marker.size}\\u003cextra\\u003e\\u003c\\u002fextra\\u003e\",\"hovertext\":[\"Colombia\",\"Chile\",\"Hungary\",\"Indonesia\",\"India\",\"Mexico\"],\"ids\":[\"COL\",\"CHL\",\"HUN\",\"IDN\",\"IND\",\"MEX\"],\"legendgroup\":\"EM_Peer\",\"marker\":{\"color\":\"#ab63fa\",\"size\":[100.0,100.0,100.0,100.0,100.0,100.0],\"sizemode\":\"area\",\"sizeref\":0.16,\"symbol\":\"circle\"},\"mode\":\"markers\",\"name\":\"EM_Peer\",\"orientation\":\"v\",\"showlegend\":true,\"x\":[18.84246,-100.0,-100.0,-100.0,-100.0,-100.0],\"xaxis\":\"x\",\"y\":[31.36167,-100.0,-100.0,-100.0,-100.0,-100.0],\"yaxis\":\"y\",\"type\":\"scatter\"},{\"hovertemplate\":\"\\u003cb\\u003e%{hovertext}\\u003c\\u002fb\\u003e\\u003cbr\\u003e\\u003cbr\\u003eRegion=EM_Other\\u003cbr\\u003eTIME=1986\\u003cbr\\u003eInflation Rate=%{x}\\u003cbr\\u003eNominal Interest Rate (3m T-Bill)=%{y}\\u003cbr\\u003esize=%{marker.size}\\u003cextra\\u003e\\u003c\\u002fextra\\u003e\",\"hovertext\":[\"Ireland\",\"China\",\"Costa Rica\",\"Czech Republic\",\"Estonia\",\"Greece\",\"Iceland\",\"Lithuania\",\"Latvia\",\"Russia\",\"Slovak Republic\",\"Slovenia\"],\"ids\":[\"IRL\",\"CHN\",\"CRI\",\"CZE\",\"EST\",\"GRC\",\"ISL\",\"LTU\",\"LVA\",\"RUS\",\"SVK\",\"SVN\"],\"legendgroup\":\"EM_Other\",\"marker\":{\"color\":\"#FFA15A\",\"size\":[50.0,50.0,50.0,50.0,50.0,50.0,50.0,50.0,50.0,50.0,50.0,50.0],\"sizemode\":\"area\",\"sizeref\":0.16,\"symbol\":\"circle\"},\"mode\":\"markers\",\"name\":\"EM_Other\",\"orientation\":\"v\",\"showlegend\":true,\"x\":[3.827038,-100.0,-100.0,-100.0,-100.0,-100.0,-100.0,-100.0,-100.0,-100.0,-100.0,-100.0],\"xaxis\":\"x\",\"y\":[12.52083,-100.0,-100.0,-100.0,-100.0,-100.0,-100.0,-100.0,-100.0,-100.0,-100.0,-100.0],\"yaxis\":\"y\",\"type\":\"scatter\"},{\"hovertemplate\":\"\\u003cb\\u003e%{hovertext}\\u003c\\u002fb\\u003e\\u003cbr\\u003e\\u003cbr\\u003eRegion=DM_Other\\u003cbr\\u003eTIME=1986\\u003cbr\\u003eInflation Rate=%{x}\\u003cbr\\u003eNominal Interest Rate (3m T-Bill)=%{y}\\u003cbr\\u003esize=%{marker.size}\\u003cextra\\u003e\\u003c\\u002fextra\\u003e\",\"hovertext\":[\"New Zealand\",\"Australia\",\"Norway\",\"Israel\",\"South Korea\",\"Poland\"],\"ids\":[\"NZL\",\"AUS\",\"NOR\",\"ISR\",\"KOR\",\"POL\"],\"legendgroup\":\"DM_Other\",\"marker\":{\"color\":\"#19d3f3\",\"size\":[50.0,50.0,50.0,50.0,50.0,50.0],\"sizemode\":\"area\",\"sizeref\":0.16,\"symbol\":\"circle\"},\"mode\":\"markers\",\"name\":\"DM_Other\",\"orientation\":\"v\",\"showlegend\":true,\"x\":[13.2134,9.05035,7.176493,-100.0,-100.0,-100.0],\"xaxis\":\"x\",\"y\":[19.075,16.45167,14.39167,-100.0,-100.0,-100.0],\"yaxis\":\"y\",\"type\":\"scatter\"},{\"hovertemplate\":\"\\u003cb\\u003e%{hovertext}\\u003c\\u002fb\\u003e\\u003cbr\\u003e\\u003cbr\\u003eRegion=DM_Europe\\u003cbr\\u003eTIME=1986\\u003cbr\\u003eInflation Rate=%{x}\\u003cbr\\u003eNominal Interest Rate (3m T-Bill)=%{y}\\u003cbr\\u003esize=%{marker.size}\\u003cextra\\u003e\\u003c\\u002fextra\\u003e\",\"hovertext\":[\"Belgium\",\"Spain\",\"Portugal\",\"Sweden\",\"Netherlands\",\"Austria\",\"Switzerland\",\"Denmark\",\"Finland\",\"Luxembourg\"],\"ids\":[\"BEL\",\"ESP\",\"PRT\",\"SWE\",\"NLD\",\"AUT\",\"CHE\",\"DNK\",\"FIN\",\"LUX\"],\"legendgroup\":\"DM_Europe\",\"marker\":{\"color\":\"#FF6692\",\"size\":[50.0,50.0,50.0,50.0,50.0,50.0,50.0,50.0,50.0,50.0],\"sizemode\":\"area\",\"sizeref\":0.16,\"symbol\":\"circle\"},\"mode\":\"markers\",\"name\":\"DM_Europe\",\"orientation\":\"v\",\"showlegend\":true,\"x\":[1.294371,8.794939,12.33133,4.23591,0.08334722,-100.0,-100.0,-100.0,-100.0,-100.0],\"xaxis\":\"x\",\"y\":[8.083333,11.65775,15.5625,9.830833,5.681667,-100.0,-100.0,-100.0,-100.0,-100.0],\"yaxis\":\"y\",\"type\":\"scatter\"}],\"name\":\"1986\",\"layout\":{\"title\":{\"text\":\"1986 : South Africa continues to grapple with economic isolation and international pressure\"}}},{\"data\":[{\"hovertemplate\":\"\\u003cb\\u003e%{hovertext}\\u003c\\u002fb\\u003e\\u003cbr\\u003e\\u003cbr\\u003eRegion=United States\\u003cbr\\u003eTIME=1987\\u003cbr\\u003eInflation Rate=%{x}\\u003cbr\\u003eNominal Interest Rate (3m T-Bill)=%{y}\\u003cbr\\u003esize=%{marker.size}\\u003cextra\\u003e\\u003c\\u002fextra\\u003e\",\"hovertext\":[\"United States\"],\"ids\":[\"USA\"],\"legendgroup\":\"United States\",\"marker\":{\"color\":\"#636efa\",\"size\":[200.0],\"sizemode\":\"area\",\"sizeref\":0.16,\"symbol\":\"circle\"},\"mode\":\"markers\",\"name\":\"United States\",\"orientation\":\"v\",\"showlegend\":true,\"x\":[3.664563],\"xaxis\":\"x\",\"y\":[6.860833],\"yaxis\":\"y\",\"type\":\"scatter\"},{\"hovertemplate\":\"\\u003cb\\u003e%{hovertext}\\u003c\\u002fb\\u003e\\u003cbr\\u003e\\u003cbr\\u003eRegion=South Africa\\u003cbr\\u003eTIME=1987\\u003cbr\\u003eInflation Rate=%{x}\\u003cbr\\u003eNominal Interest Rate (3m T-Bill)=%{y}\\u003cbr\\u003esize=%{marker.size}\\u003cextra\\u003e\\u003c\\u002fextra\\u003e\",\"hovertext\":[\"South Africa\"],\"ids\":[\"ZAF\"],\"legendgroup\":\"South Africa\",\"marker\":{\"color\":\"#EF553B\",\"size\":[400.0],\"sizemode\":\"area\",\"sizeref\":0.16,\"symbol\":\"circle\"},\"mode\":\"markers\",\"name\":\"South Africa\",\"orientation\":\"v\",\"showlegend\":true,\"x\":[16.16059],\"xaxis\":\"x\",\"y\":[8.783848],\"yaxis\":\"y\",\"type\":\"scatter\"},{\"hovertemplate\":\"\\u003cb\\u003e%{hovertext}\\u003c\\u002fb\\u003e\\u003cbr\\u003e\\u003cbr\\u003eRegion=G7_ex US\\u003cbr\\u003eTIME=1987\\u003cbr\\u003eInflation Rate=%{x}\\u003cbr\\u003eNominal Interest Rate (3m T-Bill)=%{y}\\u003cbr\\u003esize=%{marker.size}\\u003cextra\\u003e\\u003c\\u002fextra\\u003e\",\"hovertext\":[\"United Kingdom\",\"Canada\",\"Italy\",\"France\",\"Germany\",\"Japan\"],\"ids\":[\"GBR\",\"CAN\",\"ITA\",\"FRA\",\"DEU\",\"JPN\"],\"legendgroup\":\"G7_ex US\",\"marker\":{\"color\":\"#00cc96\",\"size\":[50.0,50.0,50.0,50.0,50.0,50.0],\"sizemode\":\"area\",\"sizeref\":0.16,\"symbol\":\"circle\"},\"mode\":\"markers\",\"name\":\"G7_ex US\",\"orientation\":\"v\",\"showlegend\":true,\"x\":[4.148918,4.356109,4.747284,3.288898,0.2499074,-100.0],\"xaxis\":\"x\",\"y\":[9.682077,8.409583,11.33361,8.268942,4.0325,-100.0],\"yaxis\":\"y\",\"type\":\"scatter\"},{\"hovertemplate\":\"\\u003cb\\u003e%{hovertext}\\u003c\\u002fb\\u003e\\u003cbr\\u003e\\u003cbr\\u003eRegion=EM_Peer\\u003cbr\\u003eTIME=1987\\u003cbr\\u003eInflation Rate=%{x}\\u003cbr\\u003eNominal Interest Rate (3m T-Bill)=%{y}\\u003cbr\\u003esize=%{marker.size}\\u003cextra\\u003e\\u003c\\u002fextra\\u003e\",\"hovertext\":[\"Colombia\",\"Chile\",\"Hungary\",\"Indonesia\",\"India\",\"Mexico\"],\"ids\":[\"COL\",\"CHL\",\"HUN\",\"IDN\",\"IND\",\"MEX\"],\"legendgroup\":\"EM_Peer\",\"marker\":{\"color\":\"#ab63fa\",\"size\":[100.0,100.0,100.0,100.0,100.0,100.0],\"sizemode\":\"area\",\"sizeref\":0.16,\"symbol\":\"circle\"},\"mode\":\"markers\",\"name\":\"EM_Peer\",\"orientation\":\"v\",\"showlegend\":true,\"x\":[23.30203,-100.0,-100.0,-100.0,-100.0,-100.0],\"xaxis\":\"x\",\"y\":[30.79,-100.0,-100.0,-100.0,-100.0,-100.0],\"yaxis\":\"y\",\"type\":\"scatter\"},{\"hovertemplate\":\"\\u003cb\\u003e%{hovertext}\\u003c\\u002fb\\u003e\\u003cbr\\u003e\\u003cbr\\u003eRegion=EM_Other\\u003cbr\\u003eTIME=1987\\u003cbr\\u003eInflation Rate=%{x}\\u003cbr\\u003eNominal Interest Rate (3m T-Bill)=%{y}\\u003cbr\\u003esize=%{marker.size}\\u003cextra\\u003e\\u003c\\u002fextra\\u003e\",\"hovertext\":[\"Ireland\",\"China\",\"Costa Rica\",\"Czech Republic\",\"Estonia\",\"Greece\",\"Iceland\",\"Lithuania\",\"Latvia\",\"Russia\",\"Slovak Republic\",\"Slovenia\"],\"ids\":[\"IRL\",\"CHN\",\"CRI\",\"CZE\",\"EST\",\"GRC\",\"ISL\",\"LTU\",\"LVA\",\"RUS\",\"SVK\",\"SVN\"],\"legendgroup\":\"EM_Other\",\"marker\":{\"color\":\"#FFA15A\",\"size\":[50.0,50.0,50.0,50.0,50.0,50.0,50.0,50.0,50.0,50.0,50.0,50.0],\"sizemode\":\"area\",\"sizeref\":0.16,\"symbol\":\"circle\"},\"mode\":\"markers\",\"name\":\"EM_Other\",\"orientation\":\"v\",\"showlegend\":true,\"x\":[3.159406,-100.0,-100.0,-100.0,-100.0,-100.0,-100.0,-100.0,-100.0,-100.0,-100.0,-100.0],\"xaxis\":\"x\",\"y\":[10.83333,-100.0,-100.0,-100.0,-100.0,-100.0,-100.0,-100.0,-100.0,-100.0,-100.0,-100.0],\"yaxis\":\"y\",\"type\":\"scatter\"},{\"hovertemplate\":\"\\u003cb\\u003e%{hovertext}\\u003c\\u002fb\\u003e\\u003cbr\\u003e\\u003cbr\\u003eRegion=DM_Other\\u003cbr\\u003eTIME=1987\\u003cbr\\u003eInflation Rate=%{x}\\u003cbr\\u003eNominal Interest Rate (3m T-Bill)=%{y}\\u003cbr\\u003esize=%{marker.size}\\u003cextra\\u003e\\u003c\\u002fextra\\u003e\",\"hovertext\":[\"Australia\",\"New Zealand\",\"Norway\",\"Israel\",\"South Korea\",\"Poland\"],\"ids\":[\"AUS\",\"NZL\",\"NOR\",\"ISR\",\"KOR\",\"POL\"],\"legendgroup\":\"DM_Other\",\"marker\":{\"color\":\"#19d3f3\",\"size\":[50.0,50.0,50.0,50.0,50.0,50.0],\"sizemode\":\"area\",\"sizeref\":0.16,\"symbol\":\"circle\"},\"mode\":\"markers\",\"name\":\"DM_Other\",\"orientation\":\"v\",\"showlegend\":true,\"x\":[8.533022,15.74429,8.717048,-100.0,-100.0,-100.0],\"xaxis\":\"x\",\"y\":[13.75,21.11,14.7125,-100.0,-100.0,-100.0],\"yaxis\":\"y\",\"type\":\"scatter\"},{\"hovertemplate\":\"\\u003cb\\u003e%{hovertext}\\u003c\\u002fb\\u003e\\u003cbr\\u003e\\u003cbr\\u003eRegion=DM_Europe\\u003cbr\\u003eTIME=1987\\u003cbr\\u003eInflation Rate=%{x}\\u003cbr\\u003eNominal Interest Rate (3m T-Bill)=%{y}\\u003cbr\\u003esize=%{marker.size}\\u003cextra\\u003e\\u003c\\u002fextra\\u003e\",\"hovertext\":[\"Denmark\",\"Spain\",\"Finland\",\"Netherlands\",\"Sweden\",\"Belgium\",\"Austria\",\"Switzerland\",\"Luxembourg\",\"Portugal\"],\"ids\":[\"DNK\",\"ESP\",\"FIN\",\"NLD\",\"SWE\",\"BEL\",\"AUT\",\"CHE\",\"LUX\",\"PRT\"],\"legendgroup\":\"DM_Europe\",\"marker\":{\"color\":\"#FF6692\",\"size\":[50.0,50.0,50.0,50.0,50.0,50.0,50.0,50.0,50.0,50.0],\"sizemode\":\"area\",\"sizeref\":0.16,\"symbol\":\"circle\"},\"mode\":\"markers\",\"name\":\"DM_Europe\",\"orientation\":\"v\",\"showlegend\":true,\"x\":[4.01999,5.248024,4.113027,-0.6912059,4.188571,1.55338,-100.0,-100.0,-100.0,-100.0],\"xaxis\":\"x\",\"y\":[10.10833,15.82208,10.0325,5.359167,9.390833,7.054167,-100.0,-100.0,-100.0,-100.0],\"yaxis\":\"y\",\"type\":\"scatter\"}],\"name\":\"1987\",\"layout\":{\"title\":{\"text\":\"1987 : South African inflation remains stubbornly high amidst a national State of Emergency\"}}},{\"data\":[{\"hovertemplate\":\"\\u003cb\\u003e%{hovertext}\\u003c\\u002fb\\u003e\\u003cbr\\u003e\\u003cbr\\u003eRegion=United States\\u003cbr\\u003eTIME=1988\\u003cbr\\u003eInflation Rate=%{x}\\u003cbr\\u003eNominal Interest Rate (3m T-Bill)=%{y}\\u003cbr\\u003esize=%{marker.size}\\u003cextra\\u003e\\u003c\\u002fextra\\u003e\",\"hovertext\":[\"United States\"],\"ids\":[\"USA\"],\"legendgroup\":\"United States\",\"marker\":{\"color\":\"#636efa\",\"size\":[200.0],\"sizemode\":\"area\",\"sizeref\":0.16,\"symbol\":\"circle\"},\"mode\":\"markers\",\"name\":\"United States\",\"orientation\":\"v\",\"showlegend\":true,\"x\":[4.077741],\"xaxis\":\"x\",\"y\":[7.7275],\"yaxis\":\"y\",\"type\":\"scatter\"},{\"hovertemplate\":\"\\u003cb\\u003e%{hovertext}\\u003c\\u002fb\\u003e\\u003cbr\\u003e\\u003cbr\\u003eRegion=South Africa\\u003cbr\\u003eTIME=1988\\u003cbr\\u003eInflation Rate=%{x}\\u003cbr\\u003eNominal Interest Rate (3m T-Bill)=%{y}\\u003cbr\\u003esize=%{marker.size}\\u003cextra\\u003e\\u003c\\u002fextra\\u003e\",\"hovertext\":[\"South Africa\"],\"ids\":[\"ZAF\"],\"legendgroup\":\"South Africa\",\"marker\":{\"color\":\"#EF553B\",\"size\":[400.0],\"sizemode\":\"area\",\"sizeref\":0.16,\"symbol\":\"circle\"},\"mode\":\"markers\",\"name\":\"South Africa\",\"orientation\":\"v\",\"showlegend\":true,\"x\":[12.77955],\"xaxis\":\"x\",\"y\":[12.24384],\"yaxis\":\"y\",\"type\":\"scatter\"},{\"hovertemplate\":\"\\u003cb\\u003e%{hovertext}\\u003c\\u002fb\\u003e\\u003cbr\\u003e\\u003cbr\\u003eRegion=G7_ex US\\u003cbr\\u003eTIME=1988\\u003cbr\\u003eInflation Rate=%{x}\\u003cbr\\u003eNominal Interest Rate (3m T-Bill)=%{y}\\u003cbr\\u003esize=%{marker.size}\\u003cextra\\u003e\\u003c\\u002fextra\\u003e\",\"hovertext\":[\"Italy\",\"Canada\",\"United Kingdom\",\"France\",\"Germany\",\"Japan\"],\"ids\":[\"ITA\",\"CAN\",\"GBR\",\"FRA\",\"DEU\",\"JPN\"],\"legendgroup\":\"G7_ex US\",\"marker\":{\"color\":\"#00cc96\",\"size\":[50.0,50.0,50.0,50.0,50.0,50.0],\"sizemode\":\"area\",\"sizeref\":0.16,\"symbol\":\"circle\"},\"mode\":\"markers\",\"name\":\"G7_ex US\",\"orientation\":\"v\",\"showlegend\":true,\"x\":[5.058249,4.028234,4.2094,2.700817,1.274121,-100.0],\"xaxis\":\"x\",\"y\":[10.81765,9.61,10.35268,7.942167,4.330833,-100.0],\"yaxis\":\"y\",\"type\":\"scatter\"},{\"hovertemplate\":\"\\u003cb\\u003e%{hovertext}\\u003c\\u002fb\\u003e\\u003cbr\\u003e\\u003cbr\\u003eRegion=EM_Peer\\u003cbr\\u003eTIME=1988\\u003cbr\\u003eInflation Rate=%{x}\\u003cbr\\u003eNominal Interest Rate (3m T-Bill)=%{y}\\u003cbr\\u003esize=%{marker.size}\\u003cextra\\u003e\\u003c\\u002fextra\\u003e\",\"hovertext\":[\"Colombia\",\"Chile\",\"Hungary\",\"Indonesia\",\"India\",\"Mexico\"],\"ids\":[\"COL\",\"CHL\",\"HUN\",\"IDN\",\"IND\",\"MEX\"],\"legendgroup\":\"EM_Peer\",\"marker\":{\"color\":\"#ab63fa\",\"size\":[100.0,100.0,100.0,100.0,100.0,100.0],\"sizemode\":\"area\",\"sizeref\":0.16,\"symbol\":\"circle\"},\"mode\":\"markers\",\"name\":\"EM_Peer\",\"orientation\":\"v\",\"showlegend\":true,\"x\":[28.10839,-100.0,-100.0,-100.0,-100.0,-100.0],\"xaxis\":\"x\",\"y\":[33.45917,-100.0,-100.0,-100.0,-100.0,-100.0],\"yaxis\":\"y\",\"type\":\"scatter\"},{\"hovertemplate\":\"\\u003cb\\u003e%{hovertext}\\u003c\\u002fb\\u003e\\u003cbr\\u003e\\u003cbr\\u003eRegion=EM_Other\\u003cbr\\u003eTIME=1988\\u003cbr\\u003eInflation Rate=%{x}\\u003cbr\\u003eNominal Interest Rate (3m T-Bill)=%{y}\\u003cbr\\u003esize=%{marker.size}\\u003cextra\\u003e\\u003c\\u002fextra\\u003e\",\"hovertext\":[\"Iceland\",\"Ireland\",\"China\",\"Costa Rica\",\"Czech Republic\",\"Estonia\",\"Greece\",\"Lithuania\",\"Latvia\",\"Russia\",\"Slovak Republic\",\"Slovenia\"],\"ids\":[\"ISL\",\"IRL\",\"CHN\",\"CRI\",\"CZE\",\"EST\",\"GRC\",\"LTU\",\"LVA\",\"RUS\",\"SVK\",\"SVN\"],\"legendgroup\":\"EM_Other\",\"marker\":{\"color\":\"#FFA15A\",\"size\":[50.0,50.0,50.0,50.0,50.0,50.0,50.0,50.0,50.0,50.0,50.0,50.0],\"sizemode\":\"area\",\"sizeref\":0.16,\"symbol\":\"circle\"},\"mode\":\"markers\",\"name\":\"EM_Other\",\"orientation\":\"v\",\"showlegend\":true,\"x\":[25.72551,2.134571,-100.0,-100.0,-100.0,-100.0,-100.0,-100.0,-100.0,-100.0,-100.0,-100.0],\"xaxis\":\"x\",\"y\":[31.025,8.045834,-100.0,-100.0,-100.0,-100.0,-100.0,-100.0,-100.0,-100.0,-100.0,-100.0],\"yaxis\":\"y\",\"type\":\"scatter\"},{\"hovertemplate\":\"\\u003cb\\u003e%{hovertext}\\u003c\\u002fb\\u003e\\u003cbr\\u003e\\u003cbr\\u003eRegion=DM_Other\\u003cbr\\u003eTIME=1988\\u003cbr\\u003eInflation Rate=%{x}\\u003cbr\\u003eNominal Interest Rate (3m T-Bill)=%{y}\\u003cbr\\u003esize=%{marker.size}\\u003cextra\\u003e\\u003c\\u002fextra\\u003e\",\"hovertext\":[\"Norway\",\"Australia\",\"New Zealand\",\"Israel\",\"South Korea\",\"Poland\"],\"ids\":[\"NOR\",\"AUS\",\"NZL\",\"ISR\",\"KOR\",\"POL\"],\"legendgroup\":\"DM_Other\",\"marker\":{\"color\":\"#19d3f3\",\"size\":[50.0,50.0,50.0,50.0,50.0,50.0],\"sizemode\":\"area\",\"sizeref\":0.16,\"symbol\":\"circle\"},\"mode\":\"markers\",\"name\":\"DM_Other\",\"orientation\":\"v\",\"showlegend\":true,\"x\":[6.676366,7.21594,6.375257,-100.0,-100.0,-100.0],\"xaxis\":\"x\",\"y\":[13.51,12.8,15.3925,-100.0,-100.0,-100.0],\"yaxis\":\"y\",\"type\":\"scatter\"},{\"hovertemplate\":\"\\u003cb\\u003e%{hovertext}\\u003c\\u002fb\\u003e\\u003cbr\\u003e\\u003cbr\\u003eRegion=DM_Europe\\u003cbr\\u003eTIME=1988\\u003cbr\\u003eInflation Rate=%{x}\\u003cbr\\u003eNominal Interest Rate (3m T-Bill)=%{y}\\u003cbr\\u003esize=%{marker.size}\\u003cextra\\u003e\\u003c\\u002fextra\\u003e\",\"hovertext\":[\"Finland\",\"Sweden\",\"Portugal\",\"Denmark\",\"Spain\",\"Netherlands\",\"Belgium\",\"Austria\",\"Switzerland\",\"Luxembourg\"],\"ids\":[\"FIN\",\"SWE\",\"PRT\",\"DNK\",\"ESP\",\"NLD\",\"BEL\",\"AUT\",\"CHE\",\"LUX\"],\"legendgroup\":\"DM_Europe\",\"marker\":{\"color\":\"#FF6692\",\"size\":[50.0,50.0,50.0,50.0,50.0,50.0,50.0,50.0,50.0,50.0],\"sizemode\":\"area\",\"sizeref\":0.16,\"symbol\":\"circle\"},\"mode\":\"markers\",\"name\":\"DM_Europe\",\"orientation\":\"v\",\"showlegend\":true,\"x\":[5.085932,5.824899,10.10163,4.535135,4.837267,0.7379455,1.160936,-100.0,-100.0,-100.0],\"xaxis\":\"x\",\"y\":[9.965834,10.08333,12.96833,8.591598,11.65033,4.816667,6.729167,-100.0,-100.0,-100.0],\"yaxis\":\"y\",\"type\":\"scatter\"}],\"name\":\"1988\",\"layout\":{\"title\":{\"text\":\"1988 : SARB is less accommodative though double-digit inflation seems entrenched\"}}},{\"data\":[{\"hovertemplate\":\"\\u003cb\\u003e%{hovertext}\\u003c\\u002fb\\u003e\\u003cbr\\u003e\\u003cbr\\u003eRegion=United States\\u003cbr\\u003eTIME=1989\\u003cbr\\u003eInflation Rate=%{x}\\u003cbr\\u003eNominal Interest Rate (3m T-Bill)=%{y}\\u003cbr\\u003esize=%{marker.size}\\u003cextra\\u003e\\u003c\\u002fextra\\u003e\",\"hovertext\":[\"United States\"],\"ids\":[\"USA\"],\"legendgroup\":\"United States\",\"marker\":{\"color\":\"#636efa\",\"size\":[200.0],\"sizemode\":\"area\",\"sizeref\":0.16,\"symbol\":\"circle\"},\"mode\":\"markers\",\"name\":\"United States\",\"orientation\":\"v\",\"showlegend\":true,\"x\":[4.827003],\"xaxis\":\"x\",\"y\":[9.085],\"yaxis\":\"y\",\"type\":\"scatter\"},{\"hovertemplate\":\"\\u003cb\\u003e%{hovertext}\\u003c\\u002fb\\u003e\\u003cbr\\u003e\\u003cbr\\u003eRegion=South Africa\\u003cbr\\u003eTIME=1989\\u003cbr\\u003eInflation Rate=%{x}\\u003cbr\\u003eNominal Interest Rate (3m T-Bill)=%{y}\\u003cbr\\u003esize=%{marker.size}\\u003cextra\\u003e\\u003c\\u002fextra\\u003e\",\"hovertext\":[\"South Africa\"],\"ids\":[\"ZAF\"],\"legendgroup\":\"South Africa\",\"marker\":{\"color\":\"#EF553B\",\"size\":[400.0],\"sizemode\":\"area\",\"sizeref\":0.16,\"symbol\":\"circle\"},\"mode\":\"markers\",\"name\":\"South Africa\",\"orientation\":\"v\",\"showlegend\":true,\"x\":[14.73088],\"xaxis\":\"x\",\"y\":[16.93361],\"yaxis\":\"y\",\"type\":\"scatter\"},{\"hovertemplate\":\"\\u003cb\\u003e%{hovertext}\\u003c\\u002fb\\u003e\\u003cbr\\u003e\\u003cbr\\u003eRegion=G7_ex US\\u003cbr\\u003eTIME=1989\\u003cbr\\u003eInflation Rate=%{x}\\u003cbr\\u003eNominal Interest Rate (3m T-Bill)=%{y}\\u003cbr\\u003esize=%{marker.size}\\u003cextra\\u003e\\u003c\\u002fextra\\u003e\",\"hovertext\":[\"Italy\",\"Germany\",\"Canada\",\"United Kingdom\",\"France\",\"Japan\"],\"ids\":[\"ITA\",\"DEU\",\"CAN\",\"GBR\",\"FRA\",\"JPN\"],\"legendgroup\":\"G7_ex US\",\"marker\":{\"color\":\"#00cc96\",\"size\":[50.0,50.0,50.0,50.0,50.0,50.0],\"sizemode\":\"area\",\"sizeref\":0.16,\"symbol\":\"circle\"},\"mode\":\"markers\",\"name\":\"G7_ex US\",\"orientation\":\"v\",\"showlegend\":true,\"x\":[6.259837,2.780563,4.983622,5.7,3.498302,-100.0],\"xaxis\":\"x\",\"y\":[12.62011,7.118333,12.17675,13.93177,9.398808,-100.0],\"yaxis\":\"y\",\"type\":\"scatter\"},{\"hovertemplate\":\"\\u003cb\\u003e%{hovertext}\\u003c\\u002fb\\u003e\\u003cbr\\u003e\\u003cbr\\u003eRegion=EM_Peer\\u003cbr\\u003eTIME=1989\\u003cbr\\u003eInflation Rate=%{x}\\u003cbr\\u003eNominal Interest Rate (3m T-Bill)=%{y}\\u003cbr\\u003esize=%{marker.size}\\u003cextra\\u003e\\u003c\\u002fextra\\u003e\",\"hovertext\":[\"Colombia\",\"Chile\",\"Hungary\",\"Indonesia\",\"India\",\"Mexico\"],\"ids\":[\"COL\",\"CHL\",\"HUN\",\"IDN\",\"IND\",\"MEX\"],\"legendgroup\":\"EM_Peer\",\"marker\":{\"color\":\"#ab63fa\",\"size\":[100.0,100.0,100.0,100.0,100.0,100.0],\"sizemode\":\"area\",\"sizeref\":0.16,\"symbol\":\"circle\"},\"mode\":\"markers\",\"name\":\"EM_Peer\",\"orientation\":\"v\",\"showlegend\":true,\"x\":[25.86755,-100.0,-100.0,-100.0,-100.0,-100.0],\"xaxis\":\"x\",\"y\":[33.7275,-100.0,-100.0,-100.0,-100.0,-100.0],\"yaxis\":\"y\",\"type\":\"scatter\"},{\"hovertemplate\":\"\\u003cb\\u003e%{hovertext}\\u003c\\u002fb\\u003e\\u003cbr\\u003e\\u003cbr\\u003eRegion=EM_Other\\u003cbr\\u003eTIME=1989\\u003cbr\\u003eInflation Rate=%{x}\\u003cbr\\u003eNominal Interest Rate (3m T-Bill)=%{y}\\u003cbr\\u003esize=%{marker.size}\\u003cextra\\u003e\\u003c\\u002fextra\\u003e\",\"hovertext\":[\"Ireland\",\"Iceland\",\"China\",\"Costa Rica\",\"Czech Republic\",\"Estonia\",\"Greece\",\"Lithuania\",\"Latvia\",\"Russia\",\"Slovak Republic\",\"Slovenia\"],\"ids\":[\"IRL\",\"ISL\",\"CHN\",\"CRI\",\"CZE\",\"EST\",\"GRC\",\"LTU\",\"LVA\",\"RUS\",\"SVK\",\"SVN\"],\"legendgroup\":\"EM_Other\",\"marker\":{\"color\":\"#FFA15A\",\"size\":[50.0,50.0,50.0,50.0,50.0,50.0,50.0,50.0,50.0,50.0,50.0,50.0],\"sizemode\":\"area\",\"sizeref\":0.16,\"symbol\":\"circle\"},\"mode\":\"markers\",\"name\":\"EM_Other\",\"orientation\":\"v\",\"showlegend\":true,\"x\":[4.08905,20.7582,-100.0,-100.0,-100.0,-100.0,-100.0,-100.0,-100.0,-100.0,-100.0,-100.0],\"xaxis\":\"x\",\"y\":[10.035,27.88333,-100.0,-100.0,-100.0,-100.0,-100.0,-100.0,-100.0,-100.0,-100.0,-100.0],\"yaxis\":\"y\",\"type\":\"scatter\"},{\"hovertemplate\":\"\\u003cb\\u003e%{hovertext}\\u003c\\u002fb\\u003e\\u003cbr\\u003e\\u003cbr\\u003eRegion=DM_Other\\u003cbr\\u003eTIME=1989\\u003cbr\\u003eInflation Rate=%{x}\\u003cbr\\u003eNominal Interest Rate (3m T-Bill)=%{y}\\u003cbr\\u003esize=%{marker.size}\\u003cextra\\u003e\\u003c\\u002fextra\\u003e\",\"hovertext\":[\"New Zealand\",\"Norway\",\"Australia\",\"Israel\",\"South Korea\",\"Poland\"],\"ids\":[\"NZL\",\"NOR\",\"AUS\",\"ISR\",\"KOR\",\"POL\"],\"legendgroup\":\"DM_Other\",\"marker\":{\"color\":\"#19d3f3\",\"size\":[50.0,50.0,50.0,50.0,50.0,50.0],\"sizemode\":\"area\",\"sizeref\":0.16,\"symbol\":\"circle\"},\"mode\":\"markers\",\"name\":\"DM_Other\",\"orientation\":\"v\",\"showlegend\":true,\"x\":[5.715991,4.546144,7.533903,-100.0,-100.0,-100.0],\"xaxis\":\"x\",\"y\":[13.53917,11.37917,17.61167,-100.0,-100.0,-100.0],\"yaxis\":\"y\",\"type\":\"scatter\"},{\"hovertemplate\":\"\\u003cb\\u003e%{hovertext}\\u003c\\u002fb\\u003e\\u003cbr\\u003e\\u003cbr\\u003eRegion=DM_Europe\\u003cbr\\u003eTIME=1989\\u003cbr\\u003eInflation Rate=%{x}\\u003cbr\\u003eNominal Interest Rate (3m T-Bill)=%{y}\\u003cbr\\u003esize=%{marker.size}\\u003cextra\\u003e\\u003c\\u002fextra\\u003e\",\"hovertext\":[\"Spain\",\"Portugal\",\"Denmark\",\"Netherlands\",\"Finland\",\"Belgium\",\"Sweden\",\"Austria\",\"Switzerland\",\"Luxembourg\"],\"ids\":[\"ESP\",\"PRT\",\"DNK\",\"NLD\",\"FIN\",\"BEL\",\"SWE\",\"AUT\",\"CHE\",\"LUX\"],\"legendgroup\":\"DM_Europe\",\"marker\":{\"color\":\"#FF6692\",\"size\":[50.0,50.0,50.0,50.0,50.0,50.0,50.0,50.0,50.0,50.0],\"sizemode\":\"area\",\"sizeref\":0.16,\"symbol\":\"circle\"},\"mode\":\"markers\",\"name\":\"DM_Europe\",\"orientation\":\"v\",\"showlegend\":true,\"x\":[6.791436,12.6863,4.772727,1.082161,6.592911,3.107053,6.443276,-100.0,-100.0,-100.0],\"xaxis\":\"x\",\"y\":[15.03633,14.82727,9.402513,7.388333,12.55667,8.8,11.49917,-100.0,-100.0,-100.0],\"yaxis\":\"y\",\"type\":\"scatter\"}],\"name\":\"1989\",\"layout\":{\"title\":{\"text\":\"1989 : Collapse of Soviet communism and the end of the Cold War \\\"globalises capitalism\\\"\"}}},{\"data\":[{\"hovertemplate\":\"\\u003cb\\u003e%{hovertext}\\u003c\\u002fb\\u003e\\u003cbr\\u003e\\u003cbr\\u003eRegion=United States\\u003cbr\\u003eTIME=1990\\u003cbr\\u003eInflation Rate=%{x}\\u003cbr\\u003eNominal Interest Rate (3m T-Bill)=%{y}\\u003cbr\\u003esize=%{marker.size}\\u003cextra\\u003e\\u003c\\u002fextra\\u003e\",\"hovertext\":[\"United States\"],\"ids\":[\"USA\"],\"legendgroup\":\"United States\",\"marker\":{\"color\":\"#636efa\",\"size\":[200.0],\"sizemode\":\"area\",\"sizeref\":0.16,\"symbol\":\"circle\"},\"mode\":\"markers\",\"name\":\"United States\",\"orientation\":\"v\",\"showlegend\":true,\"x\":[5.397956],\"xaxis\":\"x\",\"y\":[8.1475],\"yaxis\":\"y\",\"type\":\"scatter\"},{\"hovertemplate\":\"\\u003cb\\u003e%{hovertext}\\u003c\\u002fb\\u003e\\u003cbr\\u003e\\u003cbr\\u003eRegion=South Africa\\u003cbr\\u003eTIME=1990\\u003cbr\\u003eInflation Rate=%{x}\\u003cbr\\u003eNominal Interest Rate (3m T-Bill)=%{y}\\u003cbr\\u003esize=%{marker.size}\\u003cextra\\u003e\\u003c\\u002fextra\\u003e\",\"hovertext\":[\"South Africa\"],\"ids\":[\"ZAF\"],\"legendgroup\":\"South Africa\",\"marker\":{\"color\":\"#EF553B\",\"size\":[400.0],\"sizemode\":\"area\",\"sizeref\":0.16,\"symbol\":\"circle\"},\"mode\":\"markers\",\"name\":\"South Africa\",\"orientation\":\"v\",\"showlegend\":true,\"x\":[14.32099],\"xaxis\":\"x\",\"y\":[17.80655],\"yaxis\":\"y\",\"type\":\"scatter\"},{\"hovertemplate\":\"\\u003cb\\u003e%{hovertext}\\u003c\\u002fb\\u003e\\u003cbr\\u003e\\u003cbr\\u003eRegion=G7_ex US\\u003cbr\\u003eTIME=1990\\u003cbr\\u003eInflation Rate=%{x}\\u003cbr\\u003eNominal Interest Rate (3m T-Bill)=%{y}\\u003cbr\\u003esize=%{marker.size}\\u003cextra\\u003e\\u003c\\u002fextra\\u003e\",\"hovertext\":[\"France\",\"United Kingdom\",\"Italy\",\"Germany\",\"Canada\",\"Japan\"],\"ids\":[\"FRA\",\"GBR\",\"ITA\",\"DEU\",\"CAN\",\"JPN\"],\"legendgroup\":\"G7_ex US\",\"marker\":{\"color\":\"#00cc96\",\"size\":[50.0,50.0,50.0,50.0,50.0,50.0],\"sizemode\":\"area\",\"sizeref\":0.16,\"symbol\":\"circle\"},\"mode\":\"markers\",\"name\":\"G7_ex US\",\"orientation\":\"v\",\"showlegend\":true,\"x\":[3.194282,8.0,6.456608,2.69647,4.780477,-100.0],\"xaxis\":\"x\",\"y\":[10.3214,14.80897,12.22985,8.488334,13.02129,-100.0],\"yaxis\":\"y\",\"type\":\"scatter\"},{\"hovertemplate\":\"\\u003cb\\u003e%{hovertext}\\u003c\\u002fb\\u003e\\u003cbr\\u003e\\u003cbr\\u003eRegion=EM_Peer\\u003cbr\\u003eTIME=1990\\u003cbr\\u003eInflation Rate=%{x}\\u003cbr\\u003eNominal Interest Rate (3m T-Bill)=%{y}\\u003cbr\\u003esize=%{marker.size}\\u003cextra\\u003e\\u003c\\u002fextra\\u003e\",\"hovertext\":[\"Colombia\",\"Chile\",\"Hungary\",\"Indonesia\",\"India\",\"Mexico\"],\"ids\":[\"COL\",\"CHL\",\"HUN\",\"IDN\",\"IND\",\"MEX\"],\"legendgroup\":\"EM_Peer\",\"marker\":{\"color\":\"#ab63fa\",\"size\":[100.0,100.0,100.0,100.0,100.0,100.0],\"sizemode\":\"area\",\"sizeref\":0.16,\"symbol\":\"circle\"},\"mode\":\"markers\",\"name\":\"EM_Peer\",\"orientation\":\"v\",\"showlegend\":true,\"x\":[29.15202,-100.0,-100.0,-100.0,-100.0,-100.0],\"xaxis\":\"x\",\"y\":[36.44083,-100.0,-100.0,-100.0,-100.0,-100.0],\"yaxis\":\"y\",\"type\":\"scatter\"},{\"hovertemplate\":\"\\u003cb\\u003e%{hovertext}\\u003c\\u002fb\\u003e\\u003cbr\\u003e\\u003cbr\\u003eRegion=EM_Other\\u003cbr\\u003eTIME=1990\\u003cbr\\u003eInflation Rate=%{x}\\u003cbr\\u003eNominal Interest Rate (3m T-Bill)=%{y}\\u003cbr\\u003esize=%{marker.size}\\u003cextra\\u003e\\u003c\\u002fextra\\u003e\",\"hovertext\":[\"Iceland\",\"Ireland\",\"China\",\"Costa Rica\",\"Czech Republic\",\"Estonia\",\"Greece\",\"Lithuania\",\"Latvia\",\"Russia\",\"Slovak Republic\",\"Slovenia\"],\"ids\":[\"ISL\",\"IRL\",\"CHN\",\"CRI\",\"CZE\",\"EST\",\"GRC\",\"LTU\",\"LVA\",\"RUS\",\"SVK\",\"SVN\"],\"legendgroup\":\"EM_Other\",\"marker\":{\"color\":\"#FFA15A\",\"size\":[50.0,50.0,50.0,50.0,50.0,50.0,50.0,50.0,50.0,50.0,50.0,50.0],\"sizemode\":\"area\",\"sizeref\":0.16,\"symbol\":\"circle\"},\"mode\":\"markers\",\"name\":\"EM_Other\",\"orientation\":\"v\",\"showlegend\":true,\"x\":[15.51072,3.317329,-100.0,-100.0,-100.0,-100.0,-100.0,-100.0,-100.0,-100.0,-100.0,-100.0],\"xaxis\":\"x\",\"y\":[14.83333,11.30667,-100.0,-100.0,-100.0,-100.0,-100.0,-100.0,-100.0,-100.0,-100.0,-100.0],\"yaxis\":\"y\",\"type\":\"scatter\"},{\"hovertemplate\":\"\\u003cb\\u003e%{hovertext}\\u003c\\u002fb\\u003e\\u003cbr\\u003e\\u003cbr\\u003eRegion=DM_Other\\u003cbr\\u003eTIME=1990\\u003cbr\\u003eInflation Rate=%{x}\\u003cbr\\u003eNominal Interest Rate (3m T-Bill)=%{y}\\u003cbr\\u003esize=%{marker.size}\\u003cextra\\u003e\\u003c\\u002fextra\\u003e\",\"hovertext\":[\"Norway\",\"Australia\",\"New Zealand\",\"Israel\",\"South Korea\",\"Poland\"],\"ids\":[\"NOR\",\"AUS\",\"NZL\",\"ISR\",\"KOR\",\"POL\"],\"legendgroup\":\"DM_Other\",\"marker\":{\"color\":\"#19d3f3\",\"size\":[50.0,50.0,50.0,50.0,50.0,50.0],\"sizemode\":\"area\",\"sizeref\":0.16,\"symbol\":\"circle\"},\"mode\":\"markers\",\"name\":\"DM_Other\",\"orientation\":\"v\",\"showlegend\":true,\"x\":[4.131033,7.333022,6.098439,-100.0,-100.0,-100.0],\"xaxis\":\"x\",\"y\":[11.53917,14.54333,13.8925,-100.0,-100.0,-100.0],\"yaxis\":\"y\",\"type\":\"scatter\"},{\"hovertemplate\":\"\\u003cb\\u003e%{hovertext}\\u003c\\u002fb\\u003e\\u003cbr\\u003e\\u003cbr\\u003eRegion=DM_Europe\\u003cbr\\u003eTIME=1990\\u003cbr\\u003eInflation Rate=%{x}\\u003cbr\\u003eNominal Interest Rate (3m T-Bill)=%{y}\\u003cbr\\u003esize=%{marker.size}\\u003cextra\\u003e\\u003c\\u002fextra\\u003e\",\"hovertext\":[\"Austria\",\"Belgium\",\"Portugal\",\"Sweden\",\"Spain\",\"Netherlands\",\"Denmark\",\"Finland\",\"Switzerland\",\"Luxembourg\"],\"ids\":[\"AUT\",\"BEL\",\"PRT\",\"SWE\",\"ESP\",\"NLD\",\"DNK\",\"FIN\",\"CHE\",\"LUX\"],\"legendgroup\":\"DM_Europe\",\"marker\":{\"color\":\"#FF6692\",\"size\":[50.0,50.0,50.0,50.0,50.0,50.0,50.0,50.0,50.0,50.0],\"sizemode\":\"area\",\"sizeref\":0.16,\"symbol\":\"circle\"},\"mode\":\"markers\",\"name\":\"DM_Europe\",\"orientation\":\"v\",\"showlegend\":true,\"x\":[3.261872,3.44831,13.63057,10.36655,6.721821,2.454089,2.6416,6.149561,-100.0,-100.0],\"xaxis\":\"x\",\"y\":[8.964167,9.633333,16.9025,13.6675,15.15158,8.6825,11.17801,13.99667,-100.0,-100.0],\"yaxis\":\"y\",\"type\":\"scatter\"}],\"name\":\"1990\",\"layout\":{\"title\":{\"text\":\"1990 : The 1990 oil price shock causes inflation to surge\"}}},{\"data\":[{\"hovertemplate\":\"\\u003cb\\u003e%{hovertext}\\u003c\\u002fb\\u003e\\u003cbr\\u003e\\u003cbr\\u003eRegion=United States\\u003cbr\\u003eTIME=1991\\u003cbr\\u003eInflation Rate=%{x}\\u003cbr\\u003eNominal Interest Rate (3m T-Bill)=%{y}\\u003cbr\\u003esize=%{marker.size}\\u003cextra\\u003e\\u003c\\u002fextra\\u003e\",\"hovertext\":[\"United States\"],\"ids\":[\"USA\"],\"legendgroup\":\"United States\",\"marker\":{\"color\":\"#636efa\",\"size\":[200.0],\"sizemode\":\"area\",\"sizeref\":0.16,\"symbol\":\"circle\"},\"mode\":\"markers\",\"name\":\"United States\",\"orientation\":\"v\",\"showlegend\":true,\"x\":[4.234964],\"xaxis\":\"x\",\"y\":[5.835],\"yaxis\":\"y\",\"type\":\"scatter\"},{\"hovertemplate\":\"\\u003cb\\u003e%{hovertext}\\u003c\\u002fb\\u003e\\u003cbr\\u003e\\u003cbr\\u003eRegion=South Africa\\u003cbr\\u003eTIME=1991\\u003cbr\\u003eInflation Rate=%{x}\\u003cbr\\u003eNominal Interest Rate (3m T-Bill)=%{y}\\u003cbr\\u003esize=%{marker.size}\\u003cextra\\u003e\\u003c\\u002fextra\\u003e\",\"hovertext\":[\"South Africa\"],\"ids\":[\"ZAF\"],\"legendgroup\":\"South Africa\",\"marker\":{\"color\":\"#EF553B\",\"size\":[400.0],\"sizemode\":\"area\",\"sizeref\":0.16,\"symbol\":\"circle\"},\"mode\":\"markers\",\"name\":\"South Africa\",\"orientation\":\"v\",\"showlegend\":true,\"x\":[15.33477],\"xaxis\":\"x\",\"y\":[16.68785],\"yaxis\":\"y\",\"type\":\"scatter\"},{\"hovertemplate\":\"\\u003cb\\u003e%{hovertext}\\u003c\\u002fb\\u003e\\u003cbr\\u003e\\u003cbr\\u003eRegion=G7_ex US\\u003cbr\\u003eTIME=1991\\u003cbr\\u003eInflation Rate=%{x}\\u003cbr\\u003eNominal Interest Rate (3m T-Bill)=%{y}\\u003cbr\\u003esize=%{marker.size}\\u003cextra\\u003e\\u003c\\u002fextra\\u003e\",\"hovertext\":[\"United Kingdom\",\"Germany\",\"Canada\",\"France\",\"Italy\",\"Japan\"],\"ids\":[\"GBR\",\"DEU\",\"CAN\",\"FRA\",\"ITA\",\"JPN\"],\"legendgroup\":\"G7_ex US\",\"marker\":{\"color\":\"#00cc96\",\"size\":[50.0,50.0,50.0,50.0,50.0,50.0],\"sizemode\":\"area\",\"sizeref\":0.16,\"symbol\":\"circle\"},\"mode\":\"markers\",\"name\":\"G7_ex US\",\"orientation\":\"v\",\"showlegend\":true,\"x\":[7.5,4.047034,5.625864,3.213407,6.25,-100.0],\"xaxis\":\"x\",\"y\":[11.57342,9.246667,9.110209,9.615025,12.20833,-100.0],\"yaxis\":\"y\",\"type\":\"scatter\"},{\"hovertemplate\":\"\\u003cb\\u003e%{hovertext}\\u003c\\u002fb\\u003e\\u003cbr\\u003e\\u003cbr\\u003eRegion=EM_Peer\\u003cbr\\u003eTIME=1991\\u003cbr\\u003eInflation Rate=%{x}\\u003cbr\\u003eNominal Interest Rate (3m T-Bill)=%{y}\\u003cbr\\u003esize=%{marker.size}\\u003cextra\\u003e\\u003c\\u002fextra\\u003e\",\"hovertext\":[\"Hungary\",\"Colombia\",\"Chile\",\"Indonesia\",\"India\",\"Mexico\"],\"ids\":[\"HUN\",\"COL\",\"CHL\",\"IDN\",\"IND\",\"MEX\"],\"legendgroup\":\"EM_Peer\",\"marker\":{\"color\":\"#ab63fa\",\"size\":[100.0,100.0,100.0,100.0,100.0,100.0],\"sizemode\":\"area\",\"sizeref\":0.16,\"symbol\":\"circle\"},\"mode\":\"markers\",\"name\":\"EM_Peer\",\"orientation\":\"v\",\"showlegend\":true,\"x\":[34.81754,30.38782,-100.0,-100.0,-100.0,-100.0],\"xaxis\":\"x\",\"y\":[34.48333,37.225,-100.0,-100.0,-100.0,-100.0],\"yaxis\":\"y\",\"type\":\"scatter\"},{\"hovertemplate\":\"\\u003cb\\u003e%{hovertext}\\u003c\\u002fb\\u003e\\u003cbr\\u003e\\u003cbr\\u003eRegion=EM_Other\\u003cbr\\u003eTIME=1991\\u003cbr\\u003eInflation Rate=%{x}\\u003cbr\\u003eNominal Interest Rate (3m T-Bill)=%{y}\\u003cbr\\u003esize=%{marker.size}\\u003cextra\\u003e\\u003c\\u002fextra\\u003e\",\"hovertext\":[\"Ireland\",\"Iceland\",\"China\",\"Costa Rica\",\"Czech Republic\",\"Estonia\",\"Greece\",\"Lithuania\",\"Latvia\",\"Russia\",\"Slovak Republic\",\"Slovenia\"],\"ids\":[\"IRL\",\"ISL\",\"CHN\",\"CRI\",\"CZE\",\"EST\",\"GRC\",\"LTU\",\"LVA\",\"RUS\",\"SVK\",\"SVN\"],\"legendgroup\":\"EM_Other\",\"marker\":{\"color\":\"#FFA15A\",\"size\":[50.0,50.0,50.0,50.0,50.0,50.0,50.0,50.0,50.0,50.0,50.0,50.0],\"sizemode\":\"area\",\"sizeref\":0.16,\"symbol\":\"circle\"},\"mode\":\"markers\",\"name\":\"EM_Other\",\"orientation\":\"v\",\"showlegend\":true,\"x\":[3.210815,6.80878,-100.0,-100.0,-100.0,-100.0,-100.0,-100.0,-100.0,-100.0,-100.0,-100.0],\"xaxis\":\"x\",\"y\":[10.4275,14.64167,-100.0,-100.0,-100.0,-100.0,-100.0,-100.0,-100.0,-100.0,-100.0,-100.0],\"yaxis\":\"y\",\"type\":\"scatter\"},{\"hovertemplate\":\"\\u003cb\\u003e%{hovertext}\\u003c\\u002fb\\u003e\\u003cbr\\u003e\\u003cbr\\u003eRegion=DM_Other\\u003cbr\\u003eTIME=1991\\u003cbr\\u003eInflation Rate=%{x}\\u003cbr\\u003eNominal Interest Rate (3m T-Bill)=%{y}\\u003cbr\\u003esize=%{marker.size}\\u003cextra\\u003e\\u003c\\u002fextra\\u003e\",\"hovertext\":[\"South Korea\",\"Norway\",\"Australia\",\"New Zealand\",\"Israel\",\"Poland\"],\"ids\":[\"KOR\",\"NOR\",\"AUS\",\"NZL\",\"ISR\",\"POL\"],\"legendgroup\":\"DM_Other\",\"marker\":{\"color\":\"#19d3f3\",\"size\":[50.0,50.0,50.0,50.0,50.0,50.0],\"sizemode\":\"area\",\"sizeref\":0.16,\"symbol\":\"circle\"},\"mode\":\"markers\",\"name\":\"DM_Other\",\"orientation\":\"v\",\"showlegend\":true,\"x\":[9.33279,3.438196,3.176675,2.602399,-100.0,-100.0],\"xaxis\":\"x\",\"y\":[18.30083,10.56417,10.22583,9.965834,-100.0,-100.0],\"yaxis\":\"y\",\"type\":\"scatter\"},{\"hovertemplate\":\"\\u003cb\\u003e%{hovertext}\\u003c\\u002fb\\u003e\\u003cbr\\u003e\\u003cbr\\u003eRegion=DM_Europe\\u003cbr\\u003eTIME=1991\\u003cbr\\u003eInflation Rate=%{x}\\u003cbr\\u003eNominal Interest Rate (3m T-Bill)=%{y}\\u003cbr\\u003esize=%{marker.size}\\u003cextra\\u003e\\u003c\\u002fextra\\u003e\",\"hovertext\":[\"Denmark\",\"Netherlands\",\"Sweden\",\"Portugal\",\"Belgium\",\"Spain\",\"Finland\",\"Austria\",\"Switzerland\",\"Luxembourg\"],\"ids\":[\"DNK\",\"NLD\",\"SWE\",\"PRT\",\"BEL\",\"ESP\",\"FIN\",\"AUT\",\"CHE\",\"LUX\"],\"legendgroup\":\"DM_Europe\",\"marker\":{\"color\":\"#FF6692\",\"size\":[50.0,50.0,50.0,50.0,50.0,50.0,50.0,50.0,50.0,50.0],\"sizemode\":\"area\",\"sizeref\":0.16,\"symbol\":\"circle\"},\"mode\":\"markers\",\"name\":\"DM_Europe\",\"orientation\":\"v\",\"showlegend\":true,\"x\":[2.395153,3.158203,9.444628,11.84948,3.215311,5.934214,4.310215,3.337426,-100.0,-100.0],\"xaxis\":\"x\",\"y\":[9.91804,9.281667,11.59333,17.7375,9.3825,13.22675,13.07917,9.463333,-100.0,-100.0],\"yaxis\":\"y\",\"type\":\"scatter\"}],\"name\":\"1991\",\"layout\":{\"title\":{\"text\":\"1991 : Most central banks tighten monetary policy in response\"}}},{\"data\":[{\"hovertemplate\":\"\\u003cb\\u003e%{hovertext}\\u003c\\u002fb\\u003e\\u003cbr\\u003e\\u003cbr\\u003eRegion=United States\\u003cbr\\u003eTIME=1992\\u003cbr\\u003eInflation Rate=%{x}\\u003cbr\\u003eNominal Interest Rate (3m T-Bill)=%{y}\\u003cbr\\u003esize=%{marker.size}\\u003cextra\\u003e\\u003c\\u002fextra\\u003e\",\"hovertext\":[\"United States\"],\"ids\":[\"USA\"],\"legendgroup\":\"United States\",\"marker\":{\"color\":\"#636efa\",\"size\":[200.0],\"sizemode\":\"area\",\"sizeref\":0.16,\"symbol\":\"circle\"},\"mode\":\"markers\",\"name\":\"United States\",\"orientation\":\"v\",\"showlegend\":true,\"x\":[3.02882],\"xaxis\":\"x\",\"y\":[3.681667],\"yaxis\":\"y\",\"type\":\"scatter\"},{\"hovertemplate\":\"\\u003cb\\u003e%{hovertext}\\u003c\\u002fb\\u003e\\u003cbr\\u003e\\u003cbr\\u003eRegion=South Africa\\u003cbr\\u003eTIME=1992\\u003cbr\\u003eInflation Rate=%{x}\\u003cbr\\u003eNominal Interest Rate (3m T-Bill)=%{y}\\u003cbr\\u003esize=%{marker.size}\\u003cextra\\u003e\\u003c\\u002fextra\\u003e\",\"hovertext\":[\"South Africa\"],\"ids\":[\"ZAF\"],\"legendgroup\":\"South Africa\",\"marker\":{\"color\":\"#EF553B\",\"size\":[400.0],\"sizemode\":\"area\",\"sizeref\":0.16,\"symbol\":\"circle\"},\"mode\":\"markers\",\"name\":\"South Africa\",\"orientation\":\"v\",\"showlegend\":true,\"x\":[13.8747],\"xaxis\":\"x\",\"y\":[13.7697],\"yaxis\":\"y\",\"type\":\"scatter\"},{\"hovertemplate\":\"\\u003cb\\u003e%{hovertext}\\u003c\\u002fb\\u003e\\u003cbr\\u003e\\u003cbr\\u003eRegion=G7_ex US\\u003cbr\\u003eTIME=1992\\u003cbr\\u003eInflation Rate=%{x}\\u003cbr\\u003eNominal Interest Rate (3m T-Bill)=%{y}\\u003cbr\\u003esize=%{marker.size}\\u003cextra\\u003e\\u003c\\u002fextra\\u003e\",\"hovertext\":[\"Italy\",\"United Kingdom\",\"Germany\",\"France\",\"Canada\",\"Japan\"],\"ids\":[\"ITA\",\"GBR\",\"DEU\",\"FRA\",\"CAN\",\"JPN\"],\"legendgroup\":\"G7_ex US\",\"marker\":{\"color\":\"#00cc96\",\"size\":[50.0,50.0,50.0,50.0,50.0,50.0],\"sizemode\":\"area\",\"sizeref\":0.16,\"symbol\":\"circle\"},\"mode\":\"markers\",\"name\":\"G7_ex US\",\"orientation\":\"v\",\"showlegend\":true,\"x\":[5.270588,4.6,5.05698,2.36376,1.490133,-100.0],\"xaxis\":\"x\",\"y\":[14.01333,9.680578,9.5175,10.34462,6.677083,-100.0],\"yaxis\":\"y\",\"type\":\"scatter\"},{\"hovertemplate\":\"\\u003cb\\u003e%{hovertext}\\u003c\\u002fb\\u003e\\u003cbr\\u003e\\u003cbr\\u003eRegion=EM_Peer\\u003cbr\\u003eTIME=1992\\u003cbr\\u003eInflation Rate=%{x}\\u003cbr\\u003eNominal Interest Rate (3m T-Bill)=%{y}\\u003cbr\\u003esize=%{marker.size}\\u003cextra\\u003e\\u003c\\u002fextra\\u003e\",\"hovertext\":[\"Hungary\",\"Colombia\",\"Chile\",\"Indonesia\",\"India\",\"Mexico\"],\"ids\":[\"HUN\",\"COL\",\"CHL\",\"IDN\",\"IND\",\"MEX\"],\"legendgroup\":\"EM_Peer\",\"marker\":{\"color\":\"#ab63fa\",\"size\":[100.0,100.0,100.0,100.0,100.0,100.0],\"sizemode\":\"area\",\"sizeref\":0.16,\"symbol\":\"circle\"},\"mode\":\"markers\",\"name\":\"EM_Peer\",\"orientation\":\"v\",\"showlegend\":true,\"x\":[23.65572,27.01063,-100.0,-100.0,-100.0,-100.0],\"xaxis\":\"x\",\"y\":[22.725,26.67167,-100.0,-100.0,-100.0,-100.0],\"yaxis\":\"y\",\"type\":\"scatter\"},{\"hovertemplate\":\"\\u003cb\\u003e%{hovertext}\\u003c\\u002fb\\u003e\\u003cbr\\u003e\\u003cbr\\u003eRegion=EM_Other\\u003cbr\\u003eTIME=1992\\u003cbr\\u003eInflation Rate=%{x}\\u003cbr\\u003eNominal Interest Rate (3m T-Bill)=%{y}\\u003cbr\\u003esize=%{marker.size}\\u003cextra\\u003e\\u003c\\u002fextra\\u003e\",\"hovertext\":[\"Ireland\",\"Iceland\",\"China\",\"Costa Rica\",\"Czech Republic\",\"Estonia\",\"Greece\",\"Lithuania\",\"Latvia\",\"Russia\",\"Slovak Republic\",\"Slovenia\"],\"ids\":[\"IRL\",\"ISL\",\"CHN\",\"CRI\",\"CZE\",\"EST\",\"GRC\",\"LTU\",\"LVA\",\"RUS\",\"SVK\",\"SVN\"],\"legendgroup\":\"EM_Other\",\"marker\":{\"color\":\"#FFA15A\",\"size\":[50.0,50.0,50.0,50.0,50.0,50.0,50.0,50.0,50.0,50.0,50.0,50.0],\"sizemode\":\"area\",\"sizeref\":0.16,\"symbol\":\"circle\"},\"mode\":\"markers\",\"name\":\"EM_Other\",\"orientation\":\"v\",\"showlegend\":true,\"x\":[3.069996,3.947712,-100.0,-100.0,-100.0,-100.0,-100.0,-100.0,-100.0,-100.0,-100.0,-100.0],\"xaxis\":\"x\",\"y\":[14.31833,10.4975,-100.0,-100.0,-100.0,-100.0,-100.0,-100.0,-100.0,-100.0,-100.0,-100.0],\"yaxis\":\"y\",\"type\":\"scatter\"},{\"hovertemplate\":\"\\u003cb\\u003e%{hovertext}\\u003c\\u002fb\\u003e\\u003cbr\\u003e\\u003cbr\\u003eRegion=DM_Other\\u003cbr\\u003eTIME=1992\\u003cbr\\u003eInflation Rate=%{x}\\u003cbr\\u003eNominal Interest Rate (3m T-Bill)=%{y}\\u003cbr\\u003esize=%{marker.size}\\u003cextra\\u003e\\u003c\\u002fextra\\u003e\",\"hovertext\":[\"Poland\",\"South Korea\",\"Australia\",\"New Zealand\",\"Norway\",\"Israel\"],\"ids\":[\"POL\",\"KOR\",\"AUS\",\"NZL\",\"NOR\",\"ISR\"],\"legendgroup\":\"DM_Other\",\"marker\":{\"color\":\"#19d3f3\",\"size\":[50.0,50.0,50.0,50.0,50.0,50.0],\"sizemode\":\"area\",\"sizeref\":0.16,\"symbol\":\"circle\"},\"mode\":\"markers\",\"name\":\"DM_Other\",\"orientation\":\"v\",\"showlegend\":true,\"x\":[42.85,6.213282,1.012231,1.014557,2.328085,12.01569],\"xaxis\":\"x\",\"y\":[45.475,16.4125,6.465833,6.73,11.8325,11.87024],\"yaxis\":\"y\",\"type\":\"scatter\"},{\"hovertemplate\":\"\\u003cb\\u003e%{hovertext}\\u003c\\u002fb\\u003e\\u003cbr\\u003e\\u003cbr\\u003eRegion=DM_Europe\\u003cbr\\u003eTIME=1992\\u003cbr\\u003eInflation Rate=%{x}\\u003cbr\\u003eNominal Interest Rate (3m T-Bill)=%{y}\\u003cbr\\u003esize=%{marker.size}\\u003cextra\\u003e\\u003c\\u002fextra\\u003e\",\"hovertext\":[\"Spain\",\"Portugal\",\"Denmark\",\"Sweden\",\"Netherlands\",\"Finland\",\"Austria\",\"Belgium\",\"Switzerland\",\"Luxembourg\"],\"ids\":[\"ESP\",\"PRT\",\"DNK\",\"SWE\",\"NLD\",\"FIN\",\"AUT\",\"BEL\",\"CHE\",\"LUX\"],\"legendgroup\":\"DM_Europe\",\"marker\":{\"color\":\"#FF6692\",\"size\":[50.0,50.0,50.0,50.0,50.0,50.0,50.0,50.0,50.0,50.0],\"sizemode\":\"area\",\"sizeref\":0.16,\"symbol\":\"circle\"},\"mode\":\"markers\",\"name\":\"DM_Europe\",\"orientation\":\"v\",\"showlegend\":true,\"x\":[5.924531,9.55926,2.096042,2.374367,3.183581,2.919323,4.020847,2.427956,-100.0,-100.0],\"xaxis\":\"x\",\"y\":[13.342,16.70575,11.69776,12.85833,9.3525,13.25167,9.46,9.370833,-100.0,-100.0],\"yaxis\":\"y\",\"type\":\"scatter\"}],\"name\":\"1992\",\"layout\":{\"title\":{\"text\":\"1992 : Global growth slows due to restrictive monetary policy\"}}},{\"data\":[{\"hovertemplate\":\"\\u003cb\\u003e%{hovertext}\\u003c\\u002fb\\u003e\\u003cbr\\u003e\\u003cbr\\u003eRegion=United States\\u003cbr\\u003eTIME=1993\\u003cbr\\u003eInflation Rate=%{x}\\u003cbr\\u003eNominal Interest Rate (3m T-Bill)=%{y}\\u003cbr\\u003esize=%{marker.size}\\u003cextra\\u003e\\u003c\\u002fextra\\u003e\",\"hovertext\":[\"United States\"],\"ids\":[\"USA\"],\"legendgroup\":\"United States\",\"marker\":{\"color\":\"#636efa\",\"size\":[200.0],\"sizemode\":\"area\",\"sizeref\":0.16,\"symbol\":\"circle\"},\"mode\":\"markers\",\"name\":\"United States\",\"orientation\":\"v\",\"showlegend\":true,\"x\":[2.951657],\"xaxis\":\"x\",\"y\":[3.174167],\"yaxis\":\"y\",\"type\":\"scatter\"},{\"hovertemplate\":\"\\u003cb\\u003e%{hovertext}\\u003c\\u002fb\\u003e\\u003cbr\\u003e\\u003cbr\\u003eRegion=South Africa\\u003cbr\\u003eTIME=1993\\u003cbr\\u003eInflation Rate=%{x}\\u003cbr\\u003eNominal Interest Rate (3m T-Bill)=%{y}\\u003cbr\\u003esize=%{marker.size}\\u003cextra\\u003e\\u003c\\u002fextra\\u003e\",\"hovertext\":[\"South Africa\"],\"ids\":[\"ZAF\"],\"legendgroup\":\"South Africa\",\"marker\":{\"color\":\"#EF553B\",\"size\":[400.0],\"sizemode\":\"area\",\"sizeref\":0.16,\"symbol\":\"circle\"},\"mode\":\"markers\",\"name\":\"South Africa\",\"orientation\":\"v\",\"showlegend\":true,\"x\":[9.717446],\"xaxis\":\"x\",\"y\":[11.32278],\"yaxis\":\"y\",\"type\":\"scatter\"},{\"hovertemplate\":\"\\u003cb\\u003e%{hovertext}\\u003c\\u002fb\\u003e\\u003cbr\\u003e\\u003cbr\\u003eRegion=G7_ex US\\u003cbr\\u003eTIME=1993\\u003cbr\\u003eInflation Rate=%{x}\\u003cbr\\u003eNominal Interest Rate (3m T-Bill)=%{y}\\u003cbr\\u003esize=%{marker.size}\\u003cextra\\u003e\\u003c\\u002fextra\\u003e\",\"hovertext\":[\"United Kingdom\",\"Germany\",\"Canada\",\"France\",\"Italy\",\"Japan\"],\"ids\":[\"GBR\",\"DEU\",\"CAN\",\"FRA\",\"ITA\",\"JPN\"],\"legendgroup\":\"G7_ex US\",\"marker\":{\"color\":\"#00cc96\",\"size\":[50.0,50.0,50.0,50.0,50.0,50.0],\"sizemode\":\"area\",\"sizeref\":0.16,\"symbol\":\"circle\"},\"mode\":\"markers\",\"name\":\"G7_ex US\",\"orientation\":\"v\",\"showlegend\":true,\"x\":[2.6,4.474576,1.865079,2.104463,4.626732,-100.0],\"xaxis\":\"x\",\"y\":[5.995641,7.295,5.102958,8.586859,10.19917,-100.0],\"yaxis\":\"y\",\"type\":\"scatter\"},{\"hovertemplate\":\"\\u003cb\\u003e%{hovertext}\\u003c\\u002fb\\u003e\\u003cbr\\u003e\\u003cbr\\u003eRegion=EM_Peer\\u003cbr\\u003eTIME=1993\\u003cbr\\u003eInflation Rate=%{x}\\u003cbr\\u003eNominal Interest Rate (3m T-Bill)=%{y}\\u003cbr\\u003esize=%{marker.size}\\u003cextra\\u003e\\u003c\\u002fextra\\u003e\",\"hovertext\":[\"Hungary\",\"Colombia\",\"Chile\",\"Indonesia\",\"India\",\"Mexico\"],\"ids\":[\"HUN\",\"COL\",\"CHL\",\"IDN\",\"IND\",\"MEX\"],\"legendgroup\":\"EM_Peer\",\"marker\":{\"color\":\"#ab63fa\",\"size\":[100.0,100.0,100.0,100.0,100.0,100.0],\"sizemode\":\"area\",\"sizeref\":0.16,\"symbol\":\"circle\"},\"mode\":\"markers\",\"name\":\"EM_Peer\",\"orientation\":\"v\",\"showlegend\":true,\"x\":[22.46424,22.44248,-100.0,-100.0,-100.0,-100.0],\"xaxis\":\"x\",\"y\":[17.21667,25.8325,-100.0,-100.0,-100.0,-100.0],\"yaxis\":\"y\",\"type\":\"scatter\"},{\"hovertemplate\":\"\\u003cb\\u003e%{hovertext}\\u003c\\u002fb\\u003e\\u003cbr\\u003e\\u003cbr\\u003eRegion=EM_Other\\u003cbr\\u003eTIME=1993\\u003cbr\\u003eInflation Rate=%{x}\\u003cbr\\u003eNominal Interest Rate (3m T-Bill)=%{y}\\u003cbr\\u003esize=%{marker.size}\\u003cextra\\u003e\\u003c\\u002fextra\\u003e\",\"hovertext\":[\"Iceland\",\"Ireland\",\"Czech Republic\",\"China\",\"Costa Rica\",\"Estonia\",\"Greece\",\"Lithuania\",\"Latvia\",\"Russia\",\"Slovak Republic\",\"Slovenia\"],\"ids\":[\"ISL\",\"IRL\",\"CZE\",\"CHN\",\"CRI\",\"EST\",\"GRC\",\"LTU\",\"LVA\",\"RUS\",\"SVK\",\"SVN\"],\"legendgroup\":\"EM_Other\",\"marker\":{\"color\":\"#FFA15A\",\"size\":[50.0,50.0,50.0,50.0,50.0,50.0,50.0,50.0,50.0,50.0,50.0,50.0],\"sizemode\":\"area\",\"sizeref\":0.16,\"symbol\":\"circle\"},\"mode\":\"markers\",\"name\":\"EM_Other\",\"orientation\":\"v\",\"showlegend\":true,\"x\":[4.04285,1.46942,20.81303,-100.0,-100.0,-100.0,-100.0,-100.0,-100.0,-100.0,-100.0,-100.0],\"xaxis\":\"x\",\"y\":[8.783334,9.119166,13.15,-100.0,-100.0,-100.0,-100.0,-100.0,-100.0,-100.0,-100.0,-100.0],\"yaxis\":\"y\",\"type\":\"scatter\"},{\"hovertemplate\":\"\\u003cb\\u003e%{hovertext}\\u003c\\u002fb\\u003e\\u003cbr\\u003e\\u003cbr\\u003eRegion=DM_Other\\u003cbr\\u003eTIME=1993\\u003cbr\\u003eInflation Rate=%{x}\\u003cbr\\u003eNominal Interest Rate (3m T-Bill)=%{y}\\u003cbr\\u003esize=%{marker.size}\\u003cextra\\u003e\\u003c\\u002fextra\\u003e\",\"hovertext\":[\"South Korea\",\"Norway\",\"Israel\",\"New Zealand\",\"Poland\",\"Australia\"],\"ids\":[\"KOR\",\"NOR\",\"ISR\",\"NZL\",\"POL\",\"AUS\"],\"legendgroup\":\"DM_Other\",\"marker\":{\"color\":\"#19d3f3\",\"size\":[50.0,50.0,50.0,50.0,50.0,50.0],\"sizemode\":\"area\",\"sizeref\":0.16,\"symbol\":\"circle\"},\"mode\":\"markers\",\"name\":\"DM_Other\",\"orientation\":\"v\",\"showlegend\":true,\"x\":[4.800997,2.288269,10.92382,1.28821,35.475,1.753653],\"xaxis\":\"x\",\"y\":[12.96167,7.265,11.09246,6.33,34.875,5.151667],\"yaxis\":\"y\",\"type\":\"scatter\"},{\"hovertemplate\":\"\\u003cb\\u003e%{hovertext}\\u003c\\u002fb\\u003e\\u003cbr\\u003e\\u003cbr\\u003eRegion=DM_Europe\\u003cbr\\u003eTIME=1993\\u003cbr\\u003eInflation Rate=%{x}\\u003cbr\\u003eNominal Interest Rate (3m T-Bill)=%{y}\\u003cbr\\u003esize=%{marker.size}\\u003cextra\\u003e\\u003c\\u002fextra\\u003e\",\"hovertext\":[\"Sweden\",\"Finland\",\"Netherlands\",\"Austria\",\"Spain\",\"Denmark\",\"Belgium\",\"Portugal\",\"Switzerland\",\"Luxembourg\"],\"ids\":[\"SWE\",\"FIN\",\"NLD\",\"AUT\",\"ESP\",\"DNK\",\"BEL\",\"PRT\",\"CHE\",\"LUX\"],\"legendgroup\":\"DM_Europe\",\"marker\":{\"color\":\"#FF6692\",\"size\":[50.0,50.0,50.0,50.0,50.0,50.0,50.0,50.0,50.0,50.0],\"sizemode\":\"area\",\"sizeref\":0.16,\"symbol\":\"circle\"},\"mode\":\"markers\",\"name\":\"DM_Europe\",\"orientation\":\"v\",\"showlegend\":true,\"x\":[4.728173,2.190654,2.584182,3.631786,4.569072,1.257862,2.754426,6.78378,-100.0,-100.0],\"xaxis\":\"x\",\"y\":[8.351666,7.773334,6.854167,7.023334,11.68808,10.86824,8.224167,13.24508,-100.0,-100.0],\"yaxis\":\"y\",\"type\":\"scatter\"}],\"name\":\"1993\",\"layout\":{\"title\":{\"text\":\"1993 : Oil Prices slump, driving global inflation down \"}}},{\"data\":[{\"hovertemplate\":\"\\u003cb\\u003e%{hovertext}\\u003c\\u002fb\\u003e\\u003cbr\\u003e\\u003cbr\\u003eRegion=United States\\u003cbr\\u003eTIME=1994\\u003cbr\\u003eInflation Rate=%{x}\\u003cbr\\u003eNominal Interest Rate (3m T-Bill)=%{y}\\u003cbr\\u003esize=%{marker.size}\\u003cextra\\u003e\\u003c\\u002fextra\\u003e\",\"hovertext\":[\"United States\"],\"ids\":[\"USA\"],\"legendgroup\":\"United States\",\"marker\":{\"color\":\"#636efa\",\"size\":[200.0],\"sizemode\":\"area\",\"sizeref\":0.16,\"symbol\":\"circle\"},\"mode\":\"markers\",\"name\":\"United States\",\"orientation\":\"v\",\"showlegend\":true,\"x\":[2.607442],\"xaxis\":\"x\",\"y\":[4.629167],\"yaxis\":\"y\",\"type\":\"scatter\"},{\"hovertemplate\":\"\\u003cb\\u003e%{hovertext}\\u003c\\u002fb\\u003e\\u003cbr\\u003e\\u003cbr\\u003eRegion=South Africa\\u003cbr\\u003eTIME=1994\\u003cbr\\u003eInflation Rate=%{x}\\u003cbr\\u003eNominal Interest Rate (3m T-Bill)=%{y}\\u003cbr\\u003esize=%{marker.size}\\u003cextra\\u003e\\u003c\\u002fextra\\u003e\",\"hovertext\":[\"South Africa\"],\"ids\":[\"ZAF\"],\"legendgroup\":\"South Africa\",\"marker\":{\"color\":\"#EF553B\",\"size\":[400.0],\"sizemode\":\"area\",\"sizeref\":0.16,\"symbol\":\"circle\"},\"mode\":\"markers\",\"name\":\"South Africa\",\"orientation\":\"v\",\"showlegend\":true,\"x\":[8.938547],\"xaxis\":\"x\",\"y\":[10.92272],\"yaxis\":\"y\",\"type\":\"scatter\"},{\"hovertemplate\":\"\\u003cb\\u003e%{hovertext}\\u003c\\u002fb\\u003e\\u003cbr\\u003e\\u003cbr\\u003eRegion=G7_ex US\\u003cbr\\u003eTIME=1994\\u003cbr\\u003eInflation Rate=%{x}\\u003cbr\\u003eNominal Interest Rate (3m T-Bill)=%{y}\\u003cbr\\u003esize=%{marker.size}\\u003cextra\\u003e\\u003c\\u002fextra\\u003e\",\"hovertext\":[\"Canada\",\"France\",\"Italy\",\"United Kingdom\",\"Germany\",\"Japan\"],\"ids\":[\"CAN\",\"FRA\",\"ITA\",\"GBR\",\"DEU\",\"JPN\"],\"legendgroup\":\"G7_ex US\",\"marker\":{\"color\":\"#00cc96\",\"size\":[50.0,50.0,50.0,50.0,50.0,50.0],\"sizemode\":\"area\",\"sizeref\":0.16,\"symbol\":\"circle\"},\"mode\":\"markers\",\"name\":\"G7_ex US\",\"orientation\":\"v\",\"showlegend\":true,\"x\":[0.1655629,1.655515,4.051841,2.2,2.693056,-100.0],\"xaxis\":\"x\",\"y\":[5.487709,5.846675,8.5075,5.564841,5.364167,-100.0],\"yaxis\":\"y\",\"type\":\"scatter\"},{\"hovertemplate\":\"\\u003cb\\u003e%{hovertext}\\u003c\\u002fb\\u003e\\u003cbr\\u003e\\u003cbr\\u003eRegion=EM_Peer\\u003cbr\\u003eTIME=1994\\u003cbr\\u003eInflation Rate=%{x}\\u003cbr\\u003eNominal Interest Rate (3m T-Bill)=%{y}\\u003cbr\\u003esize=%{marker.size}\\u003cextra\\u003e\\u003c\\u002fextra\\u003e\",\"hovertext\":[\"Colombia\",\"Hungary\",\"Chile\",\"Indonesia\",\"India\",\"Mexico\"],\"ids\":[\"COL\",\"HUN\",\"CHL\",\"IDN\",\"IND\",\"MEX\"],\"legendgroup\":\"EM_Peer\",\"marker\":{\"color\":\"#ab63fa\",\"size\":[100.0,100.0,100.0,100.0,100.0,100.0],\"sizemode\":\"area\",\"sizeref\":0.16,\"symbol\":\"circle\"},\"mode\":\"markers\",\"name\":\"EM_Peer\",\"orientation\":\"v\",\"showlegend\":true,\"x\":[22.84624,18.86808,-100.0,-100.0,-100.0,-100.0],\"xaxis\":\"x\",\"y\":[29.41583,26.93333,-100.0,-100.0,-100.0,-100.0],\"yaxis\":\"y\",\"type\":\"scatter\"},{\"hovertemplate\":\"\\u003cb\\u003e%{hovertext}\\u003c\\u002fb\\u003e\\u003cbr\\u003e\\u003cbr\\u003eRegion=EM_Other\\u003cbr\\u003eTIME=1994\\u003cbr\\u003eInflation Rate=%{x}\\u003cbr\\u003eNominal Interest Rate (3m T-Bill)=%{y}\\u003cbr\\u003esize=%{marker.size}\\u003cextra\\u003e\\u003c\\u002fextra\\u003e\",\"hovertext\":[\"Ireland\",\"Czech Republic\",\"Iceland\",\"China\",\"Costa Rica\",\"Estonia\",\"Greece\",\"Lithuania\",\"Latvia\",\"Russia\",\"Slovak Republic\",\"Slovenia\"],\"ids\":[\"IRL\",\"CZE\",\"ISL\",\"CHN\",\"CRI\",\"EST\",\"GRC\",\"LTU\",\"LVA\",\"RUS\",\"SVK\",\"SVN\"],\"legendgroup\":\"EM_Other\",\"marker\":{\"color\":\"#FFA15A\",\"size\":[50.0,50.0,50.0,50.0,50.0,50.0,50.0,50.0,50.0,50.0,50.0,50.0],\"sizemode\":\"area\",\"sizeref\":0.16,\"symbol\":\"circle\"},\"mode\":\"markers\",\"name\":\"EM_Other\",\"orientation\":\"v\",\"showlegend\":true,\"x\":[2.309198,10.03942,1.552657,-100.0,-100.0,-100.0,-100.0,-100.0,-100.0,-100.0,-100.0,-100.0],\"xaxis\":\"x\",\"y\":[5.93,9.1075,4.891667,-100.0,-100.0,-100.0,-100.0,-100.0,-100.0,-100.0,-100.0,-100.0],\"yaxis\":\"y\",\"type\":\"scatter\"},{\"hovertemplate\":\"\\u003cb\\u003e%{hovertext}\\u003c\\u002fb\\u003e\\u003cbr\\u003e\\u003cbr\\u003eRegion=DM_Other\\u003cbr\\u003eTIME=1994\\u003cbr\\u003eInflation Rate=%{x}\\u003cbr\\u003eNominal Interest Rate (3m T-Bill)=%{y}\\u003cbr\\u003esize=%{marker.size}\\u003cextra\\u003e\\u003c\\u002fextra\\u003e\",\"hovertext\":[\"New Zealand\",\"South Korea\",\"Norway\",\"Israel\",\"Australia\",\"Poland\"],\"ids\":[\"NZL\",\"KOR\",\"NOR\",\"ISR\",\"AUS\",\"POL\"],\"legendgroup\":\"DM_Other\",\"marker\":{\"color\":\"#19d3f3\",\"size\":[50.0,50.0,50.0,50.0,50.0,50.0],\"sizemode\":\"area\",\"sizeref\":0.16,\"symbol\":\"circle\"},\"mode\":\"markers\",\"name\":\"DM_Other\",\"orientation\":\"v\",\"showlegend\":true,\"x\":[1.745376,6.26586,1.375675,12.27551,1.969635,32.19167],\"xaxis\":\"x\",\"y\":[6.735,13.2875,5.850833,12.80345,5.656667,31.75667],\"yaxis\":\"y\",\"type\":\"scatter\"},{\"hovertemplate\":\"\\u003cb\\u003e%{hovertext}\\u003c\\u002fb\\u003e\\u003cbr\\u003e\\u003cbr\\u003eRegion=DM_Europe\\u003cbr\\u003eTIME=1994\\u003cbr\\u003eInflation Rate=%{x}\\u003cbr\\u003eNominal Interest Rate (3m T-Bill)=%{y}\\u003cbr\\u003esize=%{marker.size}\\u003cextra\\u003e\\u003c\\u002fextra\\u003e\",\"hovertext\":[\"Finland\",\"Netherlands\",\"Portugal\",\"Austria\",\"Spain\",\"Belgium\",\"Sweden\",\"Denmark\",\"Switzerland\",\"Luxembourg\"],\"ids\":[\"FIN\",\"NLD\",\"PRT\",\"AUT\",\"ESP\",\"BEL\",\"SWE\",\"DNK\",\"CHE\",\"LUX\"],\"legendgroup\":\"DM_Europe\",\"marker\":{\"color\":\"#FF6692\",\"size\":[50.0,50.0,50.0,50.0,50.0,50.0,50.0,50.0,50.0,50.0],\"sizemode\":\"area\",\"sizeref\":0.16,\"symbol\":\"circle\"},\"mode\":\"markers\",\"name\":\"DM_Europe\",\"orientation\":\"v\",\"showlegend\":true,\"x\":[1.088558,2.801527,5.42044,2.953407,4.718413,2.377545,2.158138,1.992014,-100.0,-100.0],\"xaxis\":\"x\",\"y\":[5.35,5.176667,11.10667,5.1175,8.0085,5.695,7.400833,6.302278,-100.0,-100.0],\"yaxis\":\"y\",\"type\":\"scatter\"}],\"name\":\"1994\",\"layout\":{\"title\":{\"text\":\"1994 : This leads to a broad decline in short-term interest rates\"}}},{\"data\":[{\"hovertemplate\":\"\\u003cb\\u003e%{hovertext}\\u003c\\u002fb\\u003e\\u003cbr\\u003e\\u003cbr\\u003eRegion=United States\\u003cbr\\u003eTIME=1995\\u003cbr\\u003eInflation Rate=%{x}\\u003cbr\\u003eNominal Interest Rate (3m T-Bill)=%{y}\\u003cbr\\u003esize=%{marker.size}\\u003cextra\\u003e\\u003c\\u002fextra\\u003e\",\"hovertext\":[\"United States\"],\"ids\":[\"USA\"],\"legendgroup\":\"United States\",\"marker\":{\"color\":\"#636efa\",\"size\":[200.0],\"sizemode\":\"area\",\"sizeref\":0.16,\"symbol\":\"circle\"},\"mode\":\"markers\",\"name\":\"United States\",\"orientation\":\"v\",\"showlegend\":true,\"x\":[2.80542],\"xaxis\":\"x\",\"y\":[5.916667],\"yaxis\":\"y\",\"type\":\"scatter\"},{\"hovertemplate\":\"\\u003cb\\u003e%{hovertext}\\u003c\\u002fb\\u003e\\u003cbr\\u003e\\u003cbr\\u003eRegion=South Africa\\u003cbr\\u003eTIME=1995\\u003cbr\\u003eInflation Rate=%{x}\\u003cbr\\u003eNominal Interest Rate (3m T-Bill)=%{y}\\u003cbr\\u003esize=%{marker.size}\\u003cextra\\u003e\\u003c\\u002fextra\\u003e\",\"hovertext\":[\"South Africa\"],\"ids\":[\"ZAF\"],\"legendgroup\":\"South Africa\",\"marker\":{\"color\":\"#EF553B\",\"size\":[400.0],\"sizemode\":\"area\",\"sizeref\":0.16,\"symbol\":\"circle\"},\"mode\":\"markers\",\"name\":\"South Africa\",\"orientation\":\"v\",\"showlegend\":true,\"x\":[8.680426],\"xaxis\":\"x\",\"y\":[13.52714],\"yaxis\":\"y\",\"type\":\"scatter\"},{\"hovertemplate\":\"\\u003cb\\u003e%{hovertext}\\u003c\\u002fb\\u003e\\u003cbr\\u003e\\u003cbr\\u003eRegion=G7_ex US\\u003cbr\\u003eTIME=1995\\u003cbr\\u003eInflation Rate=%{x}\\u003cbr\\u003eNominal Interest Rate (3m T-Bill)=%{y}\\u003cbr\\u003esize=%{marker.size}\\u003cextra\\u003e\\u003c\\u002fextra\\u003e\",\"hovertext\":[\"France\",\"Italy\",\"Canada\",\"United Kingdom\",\"Germany\",\"Japan\"],\"ids\":[\"FRA\",\"ITA\",\"CAN\",\"GBR\",\"DEU\",\"JPN\"],\"legendgroup\":\"G7_ex US\",\"marker\":{\"color\":\"#00cc96\",\"size\":[50.0,50.0,50.0,50.0,50.0,50.0],\"sizemode\":\"area\",\"sizeref\":0.16,\"symbol\":\"circle\"},\"mode\":\"markers\",\"name\":\"G7_ex US\",\"orientation\":\"v\",\"showlegend\":true,\"x\":[1.796481,5.235423,2.14876,2.7,1.706161,-100.0],\"xaxis\":\"x\",\"y\":[6.578183,10.45667,7.130799,6.752587,4.531667,-100.0],\"yaxis\":\"y\",\"type\":\"scatter\"},{\"hovertemplate\":\"\\u003cb\\u003e%{hovertext}\\u003c\\u002fb\\u003e\\u003cbr\\u003e\\u003cbr\\u003eRegion=EM_Peer\\u003cbr\\u003eTIME=1995\\u003cbr\\u003eInflation Rate=%{x}\\u003cbr\\u003eNominal Interest Rate (3m T-Bill)=%{y}\\u003cbr\\u003esize=%{marker.size}\\u003cextra\\u003e\\u003c\\u002fextra\\u003e\",\"hovertext\":[\"Hungary\",\"Colombia\",\"Chile\",\"Indonesia\",\"India\",\"Mexico\"],\"ids\":[\"HUN\",\"COL\",\"CHL\",\"IDN\",\"IND\",\"MEX\"],\"legendgroup\":\"EM_Peer\",\"marker\":{\"color\":\"#ab63fa\",\"size\":[100.0,100.0,100.0,100.0,100.0,100.0],\"sizemode\":\"area\",\"sizeref\":0.16,\"symbol\":\"circle\"},\"mode\":\"markers\",\"name\":\"EM_Peer\",\"orientation\":\"v\",\"showlegend\":true,\"x\":[28.30546,20.8918,-100.0,-100.0,-100.0,-100.0],\"xaxis\":\"x\",\"y\":[32.04167,32.33833,-100.0,-100.0,-100.0,-100.0],\"yaxis\":\"y\",\"type\":\"scatter\"},{\"hovertemplate\":\"\\u003cb\\u003e%{hovertext}\\u003c\\u002fb\\u003e\\u003cbr\\u003e\\u003cbr\\u003eRegion=EM_Other\\u003cbr\\u003eTIME=1995\\u003cbr\\u003eInflation Rate=%{x}\\u003cbr\\u003eNominal Interest Rate (3m T-Bill)=%{y}\\u003cbr\\u003esize=%{marker.size}\\u003cextra\\u003e\\u003c\\u002fextra\\u003e\",\"hovertext\":[\"Czech Republic\",\"Iceland\",\"Greece\",\"Ireland\",\"China\",\"Costa Rica\",\"Estonia\",\"Lithuania\",\"Latvia\",\"Russia\",\"Slovak Republic\",\"Slovenia\"],\"ids\":[\"CZE\",\"ISL\",\"GRC\",\"IRL\",\"CHN\",\"CRI\",\"EST\",\"LTU\",\"LVA\",\"RUS\",\"SVK\",\"SVN\"],\"legendgroup\":\"EM_Other\",\"marker\":{\"color\":\"#FFA15A\",\"size\":[50.0,50.0,50.0,50.0,50.0,50.0,50.0,50.0,50.0,50.0,50.0,50.0],\"sizemode\":\"area\",\"sizeref\":0.16,\"symbol\":\"circle\"},\"mode\":\"markers\",\"name\":\"EM_Other\",\"orientation\":\"v\",\"showlegend\":true,\"x\":[8.990531,1.651232,8.934514,2.524866,-100.0,-100.0,-100.0,-100.0,-100.0,-100.0,-100.0,-100.0],\"xaxis\":\"x\",\"y\":[10.94583,7.004167,16.40415,6.2475,-100.0,-100.0,-100.0,-100.0,-100.0,-100.0,-100.0,-100.0],\"yaxis\":\"y\",\"type\":\"scatter\"},{\"hovertemplate\":\"\\u003cb\\u003e%{hovertext}\\u003c\\u002fb\\u003e\\u003cbr\\u003e\\u003cbr\\u003eRegion=DM_Other\\u003cbr\\u003eTIME=1995\\u003cbr\\u003eInflation Rate=%{x}\\u003cbr\\u003eNominal Interest Rate (3m T-Bill)=%{y}\\u003cbr\\u003esize=%{marker.size}\\u003cextra\\u003e\\u003c\\u002fextra\\u003e\",\"hovertext\":[\"Norway\",\"Poland\",\"Israel\",\"Australia\",\"New Zealand\",\"South Korea\"],\"ids\":[\"NOR\",\"POL\",\"ISR\",\"AUS\",\"NZL\",\"KOR\"],\"legendgroup\":\"DM_Other\",\"marker\":{\"color\":\"#19d3f3\",\"size\":[50.0,50.0,50.0,50.0,50.0,50.0],\"sizemode\":\"area\",\"sizeref\":0.16,\"symbol\":\"circle\"},\"mode\":\"markers\",\"name\":\"DM_Other\",\"orientation\":\"v\",\"showlegend\":true,\"x\":[2.460368,28.125,9.931447,4.627767,3.754941,4.480741],\"xaxis\":\"x\",\"y\":[5.478333,27.69,14.70411,7.725833,9.008333,14.05417],\"yaxis\":\"y\",\"type\":\"scatter\"},{\"hovertemplate\":\"\\u003cb\\u003e%{hovertext}\\u003c\\u002fb\\u003e\\u003cbr\\u003e\\u003cbr\\u003eRegion=DM_Europe\\u003cbr\\u003eTIME=1995\\u003cbr\\u003eInflation Rate=%{x}\\u003cbr\\u003eNominal Interest Rate (3m T-Bill)=%{y}\\u003cbr\\u003esize=%{marker.size}\\u003cextra\\u003e\\u003c\\u002fextra\\u003e\",\"hovertext\":[\"Netherlands\",\"Spain\",\"Austria\",\"Belgium\",\"Portugal\",\"Sweden\",\"Finland\",\"Denmark\",\"Switzerland\",\"Luxembourg\"],\"ids\":[\"NLD\",\"ESP\",\"AUT\",\"BEL\",\"PRT\",\"SWE\",\"FIN\",\"DNK\",\"CHE\",\"LUX\"],\"legendgroup\":\"DM_Europe\",\"marker\":{\"color\":\"#FF6692\",\"size\":[50.0,50.0,50.0,50.0,50.0,50.0,50.0,50.0,50.0,50.0],\"sizemode\":\"area\",\"sizeref\":0.16,\"symbol\":\"circle\"},\"mode\":\"markers\",\"name\":\"DM_Europe\",\"orientation\":\"v\",\"showlegend\":true,\"x\":[1.92322,4.673804,2.243364,1.467961,4.222816,2.455149,0.7912362,2.083605,-100.0,-100.0],\"xaxis\":\"x\",\"y\":[4.3725,9.355166,4.568333,4.783333,9.786667,8.745833,5.75,6.202783,-100.0,-100.0],\"yaxis\":\"y\",\"type\":\"scatter\"}],\"name\":\"1995\",\"layout\":{\"title\":{\"text\":\"1995 : The start of the Information Age faciliates a global economic rebound\"}}},{\"data\":[{\"hovertemplate\":\"\\u003cb\\u003e%{hovertext}\\u003c\\u002fb\\u003e\\u003cbr\\u003e\\u003cbr\\u003eRegion=United States\\u003cbr\\u003eTIME=1996\\u003cbr\\u003eInflation Rate=%{x}\\u003cbr\\u003eNominal Interest Rate (3m T-Bill)=%{y}\\u003cbr\\u003esize=%{marker.size}\\u003cextra\\u003e\\u003c\\u002fextra\\u003e\",\"hovertext\":[\"United States\"],\"ids\":[\"USA\"],\"legendgroup\":\"United States\",\"marker\":{\"color\":\"#636efa\",\"size\":[200.0],\"sizemode\":\"area\",\"sizeref\":0.16,\"symbol\":\"circle\"},\"mode\":\"markers\",\"name\":\"United States\",\"orientation\":\"v\",\"showlegend\":true,\"x\":[2.931204],\"xaxis\":\"x\",\"y\":[5.39],\"yaxis\":\"y\",\"type\":\"scatter\"},{\"hovertemplate\":\"\\u003cb\\u003e%{hovertext}\\u003c\\u002fb\\u003e\\u003cbr\\u003e\\u003cbr\\u003eRegion=South Africa\\u003cbr\\u003eTIME=1996\\u003cbr\\u003eInflation Rate=%{x}\\u003cbr\\u003eNominal Interest Rate (3m T-Bill)=%{y}\\u003cbr\\u003esize=%{marker.size}\\u003cextra\\u003e\\u003c\\u002fextra\\u003e\",\"hovertext\":[\"South Africa\"],\"ids\":[\"ZAF\"],\"legendgroup\":\"South Africa\",\"marker\":{\"color\":\"#EF553B\",\"size\":[400.0],\"sizemode\":\"area\",\"sizeref\":0.16,\"symbol\":\"circle\"},\"mode\":\"markers\",\"name\":\"South Africa\",\"orientation\":\"v\",\"showlegend\":true,\"x\":[7.354126],\"xaxis\":\"x\",\"y\":[15.03607],\"yaxis\":\"y\",\"type\":\"scatter\"},{\"hovertemplate\":\"\\u003cb\\u003e%{hovertext}\\u003c\\u002fb\\u003e\\u003cbr\\u003e\\u003cbr\\u003eRegion=G7_ex US\\u003cbr\\u003eTIME=1996\\u003cbr\\u003eInflation Rate=%{x}\\u003cbr\\u003eNominal Interest Rate (3m T-Bill)=%{y}\\u003cbr\\u003esize=%{marker.size}\\u003cextra\\u003e\\u003c\\u002fextra\\u003e\",\"hovertext\":[\"Italy\",\"Canada\",\"Germany\",\"France\",\"United Kingdom\",\"Japan\"],\"ids\":[\"ITA\",\"CAN\",\"DEU\",\"FRA\",\"GBR\",\"JPN\"],\"legendgroup\":\"G7_ex US\",\"marker\":{\"color\":\"#00cc96\",\"size\":[50.0,50.0,50.0,50.0,50.0,50.0],\"sizemode\":\"area\",\"sizeref\":0.16,\"symbol\":\"circle\"},\"mode\":\"markers\",\"name\":\"G7_ex US\",\"orientation\":\"v\",\"showlegend\":true,\"x\":[4.00698,1.570531,1.449726,1.982884,2.9,-100.0],\"xaxis\":\"x\",\"y\":[8.82,4.449064,3.305,3.935625,6.110596,-100.0],\"yaxis\":\"y\",\"type\":\"scatter\"},{\"hovertemplate\":\"\\u003cb\\u003e%{hovertext}\\u003c\\u002fb\\u003e\\u003cbr\\u003e\\u003cbr\\u003eRegion=EM_Peer\\u003cbr\\u003eTIME=1996\\u003cbr\\u003eInflation Rate=%{x}\\u003cbr\\u003eNominal Interest Rate (3m T-Bill)=%{y}\\u003cbr\\u003esize=%{marker.size}\\u003cextra\\u003e\\u003c\\u002fextra\\u003e\",\"hovertext\":[\"Hungary\",\"Colombia\",\"Chile\",\"Indonesia\",\"India\",\"Mexico\"],\"ids\":[\"HUN\",\"COL\",\"CHL\",\"IDN\",\"IND\",\"MEX\"],\"legendgroup\":\"EM_Peer\",\"marker\":{\"color\":\"#ab63fa\",\"size\":[100.0,100.0,100.0,100.0,100.0,100.0],\"sizemode\":\"area\",\"sizeref\":0.16,\"symbol\":\"circle\"},\"mode\":\"markers\",\"name\":\"EM_Peer\",\"orientation\":\"v\",\"showlegend\":true,\"x\":[23.46903,20.79756,-100.0,-100.0,-100.0,-100.0],\"xaxis\":\"x\",\"y\":[23.95833,31.13833,-100.0,-100.0,-100.0,-100.0],\"yaxis\":\"y\",\"type\":\"scatter\"},{\"hovertemplate\":\"\\u003cb\\u003e%{hovertext}\\u003c\\u002fb\\u003e\\u003cbr\\u003e\\u003cbr\\u003eRegion=EM_Other\\u003cbr\\u003eTIME=1996\\u003cbr\\u003eInflation Rate=%{x}\\u003cbr\\u003eNominal Interest Rate (3m T-Bill)=%{y}\\u003cbr\\u003esize=%{marker.size}\\u003cextra\\u003e\\u003c\\u002fextra\\u003e\",\"hovertext\":[\"Czech Republic\",\"Greece\",\"Ireland\",\"Slovak Republic\",\"Iceland\",\"China\",\"Costa Rica\",\"Estonia\",\"Lithuania\",\"Latvia\",\"Russia\",\"Slovenia\"],\"ids\":[\"CZE\",\"GRC\",\"IRL\",\"SVK\",\"ISL\",\"CHN\",\"CRI\",\"EST\",\"LTU\",\"LVA\",\"RUS\",\"SVN\"],\"legendgroup\":\"EM_Other\",\"marker\":{\"color\":\"#FFA15A\",\"size\":[50.0,50.0,50.0,50.0,50.0,50.0,50.0,50.0,50.0,50.0,50.0,50.0],\"sizemode\":\"area\",\"sizeref\":0.16,\"symbol\":\"circle\"},\"mode\":\"markers\",\"name\":\"EM_Other\",\"orientation\":\"v\",\"showlegend\":true,\"x\":[8.758775,8.194549,1.753731,5.775833,2.260421,-100.0,-100.0,-100.0,-100.0,-100.0,-100.0,-100.0],\"xaxis\":\"x\",\"y\":[12.015,13.78157,5.418334,11.515,6.991667,-100.0,-100.0,-100.0,-100.0,-100.0,-100.0,-100.0],\"yaxis\":\"y\",\"type\":\"scatter\"},{\"hovertemplate\":\"\\u003cb\\u003e%{hovertext}\\u003c\\u002fb\\u003e\\u003cbr\\u003e\\u003cbr\\u003eRegion=DM_Other\\u003cbr\\u003eTIME=1996\\u003cbr\\u003eInflation Rate=%{x}\\u003cbr\\u003eNominal Interest Rate (3m T-Bill)=%{y}\\u003cbr\\u003esize=%{marker.size}\\u003cextra\\u003e\\u003c\\u002fextra\\u003e\",\"hovertext\":[\"Poland\",\"Australia\",\"South Korea\",\"New Zealand\",\"Norway\",\"Israel\"],\"ids\":[\"POL\",\"AUS\",\"KOR\",\"NZL\",\"NOR\",\"ISR\"],\"legendgroup\":\"DM_Other\",\"marker\":{\"color\":\"#19d3f3\",\"size\":[50.0,50.0,50.0,50.0,50.0,50.0],\"sizemode\":\"area\",\"sizeref\":0.16,\"symbol\":\"circle\"},\"mode\":\"markers\",\"name\":\"DM_Other\",\"orientation\":\"v\",\"showlegend\":true,\"x\":[19.90833,2.615385,4.924543,2.285714,1.262532,11.41669],\"xaxis\":\"x\",\"y\":[21.33333,7.151667,12.63417,9.300834,4.893333,15.66679],\"yaxis\":\"y\",\"type\":\"scatter\"},{\"hovertemplate\":\"\\u003cb\\u003e%{hovertext}\\u003c\\u002fb\\u003e\\u003cbr\\u003e\\u003cbr\\u003eRegion=DM_Europe\\u003cbr\\u003eTIME=1996\\u003cbr\\u003eInflation Rate=%{x}\\u003cbr\\u003eNominal Interest Rate (3m T-Bill)=%{y}\\u003cbr\\u003esize=%{marker.size}\\u003cextra\\u003e\\u003c\\u002fextra\\u003e\",\"hovertext\":[\"Portugal\",\"Belgium\",\"Austria\",\"Spain\",\"Denmark\",\"Sweden\",\"Netherlands\",\"Finland\",\"Switzerland\",\"Luxembourg\"],\"ids\":[\"PRT\",\"BEL\",\"AUT\",\"ESP\",\"DNK\",\"SWE\",\"NLD\",\"FIN\",\"CHE\",\"LUX\"],\"legendgroup\":\"DM_Europe\",\"marker\":{\"color\":\"#FF6692\",\"size\":[50.0,50.0,50.0,50.0,50.0,50.0,50.0,50.0,50.0,50.0],\"sizemode\":\"area\",\"sizeref\":0.16,\"symbol\":\"circle\"},\"mode\":\"markers\",\"name\":\"DM_Europe\",\"orientation\":\"v\",\"showlegend\":true,\"x\":[3.068977,2.077025,1.860974,3.558843,2.1263,0.533132,1.949368,0.6291981,-100.0,-100.0],\"xaxis\":\"x\",\"y\":[7.366667,3.216667,3.373333,7.495,3.983449,5.79,2.9975,3.625,-100.0,-100.0],\"yaxis\":\"y\",\"type\":\"scatter\"}],\"name\":\"1996\",\"layout\":{\"title\":{\"text\":\"1996 : SARB increases rates to safeguard currency as power politics wreak havoc\"}}},{\"data\":[{\"hovertemplate\":\"\\u003cb\\u003e%{hovertext}\\u003c\\u002fb\\u003e\\u003cbr\\u003e\\u003cbr\\u003eRegion=United States\\u003cbr\\u003eTIME=1997\\u003cbr\\u003eInflation Rate=%{x}\\u003cbr\\u003eNominal Interest Rate (3m T-Bill)=%{y}\\u003cbr\\u003esize=%{marker.size}\\u003cextra\\u003e\\u003c\\u002fextra\\u003e\",\"hovertext\":[\"United States\"],\"ids\":[\"USA\"],\"legendgroup\":\"United States\",\"marker\":{\"color\":\"#636efa\",\"size\":[200.0],\"sizemode\":\"area\",\"sizeref\":0.16,\"symbol\":\"circle\"},\"mode\":\"markers\",\"name\":\"United States\",\"orientation\":\"v\",\"showlegend\":true,\"x\":[2.33769],\"xaxis\":\"x\",\"y\":[5.615833],\"yaxis\":\"y\",\"type\":\"scatter\"},{\"hovertemplate\":\"\\u003cb\\u003e%{hovertext}\\u003c\\u002fb\\u003e\\u003cbr\\u003e\\u003cbr\\u003eRegion=South Africa\\u003cbr\\u003eTIME=1997\\u003cbr\\u003eInflation Rate=%{x}\\u003cbr\\u003eNominal Interest Rate (3m T-Bill)=%{y}\\u003cbr\\u003esize=%{marker.size}\\u003cextra\\u003e\\u003c\\u002fextra\\u003e\",\"hovertext\":[\"South Africa\"],\"ids\":[\"ZAF\"],\"legendgroup\":\"South Africa\",\"marker\":{\"color\":\"#EF553B\",\"size\":[400.0],\"sizemode\":\"area\",\"sizeref\":0.16,\"symbol\":\"circle\"},\"mode\":\"markers\",\"name\":\"South Africa\",\"orientation\":\"v\",\"showlegend\":true,\"x\":[8.59777],\"xaxis\":\"x\",\"y\":[15.25681],\"yaxis\":\"y\",\"type\":\"scatter\"},{\"hovertemplate\":\"\\u003cb\\u003e%{hovertext}\\u003c\\u002fb\\u003e\\u003cbr\\u003e\\u003cbr\\u003eRegion=G7_ex US\\u003cbr\\u003eTIME=1997\\u003cbr\\u003eInflation Rate=%{x}\\u003cbr\\u003eNominal Interest Rate (3m T-Bill)=%{y}\\u003cbr\\u003esize=%{marker.size}\\u003cextra\\u003e\\u003c\\u002fextra\\u003e\",\"hovertext\":[\"Canada\",\"United Kingdom\",\"Italy\",\"Germany\",\"France\",\"Japan\"],\"ids\":[\"CAN\",\"GBR\",\"ITA\",\"DEU\",\"FRA\",\"JPN\"],\"legendgroup\":\"G7_ex US\",\"marker\":{\"color\":\"#00cc96\",\"size\":[50.0,50.0,50.0,50.0,50.0,50.0],\"sizemode\":\"area\",\"sizeref\":0.16,\"symbol\":\"circle\"},\"mode\":\"markers\",\"name\":\"G7_ex US\",\"orientation\":\"v\",\"showlegend\":true,\"x\":[1.621216,2.2,2.043106,1.939369,1.203943,-100.0],\"xaxis\":\"x\",\"y\":[3.557645,6.911723,6.875834,3.325,3.462833,-100.0],\"yaxis\":\"y\",\"type\":\"scatter\"},{\"hovertemplate\":\"\\u003cb\\u003e%{hovertext}\\u003c\\u002fb\\u003e\\u003cbr\\u003e\\u003cbr\\u003eRegion=EM_Peer\\u003cbr\\u003eTIME=1997\\u003cbr\\u003eInflation Rate=%{x}\\u003cbr\\u003eNominal Interest Rate (3m T-Bill)=%{y}\\u003cbr\\u003esize=%{marker.size}\\u003cextra\\u003e\\u003c\\u002fextra\\u003e\",\"hovertext\":[\"Hungary\",\"Mexico\",\"Colombia\",\"Chile\",\"Indonesia\",\"India\"],\"ids\":[\"HUN\",\"MEX\",\"COL\",\"CHL\",\"IDN\",\"IND\"],\"legendgroup\":\"EM_Peer\",\"marker\":{\"color\":\"#ab63fa\",\"size\":[100.0,100.0,100.0,100.0,100.0,100.0],\"sizemode\":\"area\",\"sizeref\":0.16,\"symbol\":\"circle\"},\"mode\":\"markers\",\"name\":\"EM_Peer\",\"orientation\":\"v\",\"showlegend\":true,\"x\":[18.30508,20.62563,18.47003,-100.0,-100.0,-100.0],\"xaxis\":\"x\",\"y\":[20.13333,22.29417,24.12833,-100.0,-100.0,-100.0],\"yaxis\":\"y\",\"type\":\"scatter\"},{\"hovertemplate\":\"\\u003cb\\u003e%{hovertext}\\u003c\\u002fb\\u003e\\u003cbr\\u003e\\u003cbr\\u003eRegion=EM_Other\\u003cbr\\u003eTIME=1997\\u003cbr\\u003eInflation Rate=%{x}\\u003cbr\\u003eNominal Interest Rate (3m T-Bill)=%{y}\\u003cbr\\u003esize=%{marker.size}\\u003cextra\\u003e\\u003c\\u002fextra\\u003e\",\"hovertext\":[\"Greece\",\"Czech Republic\",\"Ireland\",\"Russia\",\"Iceland\",\"China\",\"Costa Rica\",\"Estonia\",\"Lithuania\",\"Latvia\",\"Slovak Republic\",\"Slovenia\"],\"ids\":[\"GRC\",\"CZE\",\"IRL\",\"RUS\",\"ISL\",\"CHN\",\"CRI\",\"EST\",\"LTU\",\"LVA\",\"SVK\",\"SVN\"],\"legendgroup\":\"EM_Other\",\"marker\":{\"color\":\"#FFA15A\",\"size\":[50.0,50.0,50.0,50.0,50.0,50.0,50.0,50.0,50.0,50.0,50.0,50.0],\"sizemode\":\"area\",\"sizeref\":0.16,\"symbol\":\"circle\"},\"mode\":\"markers\",\"name\":\"EM_Other\",\"orientation\":\"v\",\"showlegend\":true,\"x\":[5.536003,8.596157,1.525605,14.76132,1.815431,-100.0,-100.0,-100.0,-100.0,-100.0,-100.0,-100.0],\"xaxis\":\"x\",\"y\":[12.88379,15.99917,6.091667,25.375,7.066667,-100.0,-100.0,-100.0,-100.0,-100.0,-100.0,-100.0],\"yaxis\":\"y\",\"type\":\"scatter\"},{\"hovertemplate\":\"\\u003cb\\u003e%{hovertext}\\u003c\\u002fb\\u003e\\u003cbr\\u003e\\u003cbr\\u003eRegion=DM_Other\\u003cbr\\u003eTIME=1997\\u003cbr\\u003eInflation Rate=%{x}\\u003cbr\\u003eNominal Interest Rate (3m T-Bill)=%{y}\\u003cbr\\u003esize=%{marker.size}\\u003cextra\\u003e\\u003c\\u002fextra\\u003e\",\"hovertext\":[\"Israel\",\"New Zealand\",\"Poland\",\"Norway\",\"South Korea\",\"Australia\"],\"ids\":[\"ISR\",\"NZL\",\"POL\",\"NOR\",\"KOR\",\"AUS\"],\"legendgroup\":\"DM_Other\",\"marker\":{\"color\":\"#19d3f3\",\"size\":[50.0,50.0,50.0,50.0,50.0,50.0],\"sizemode\":\"area\",\"sizeref\":0.16,\"symbol\":\"circle\"},\"mode\":\"markers\",\"name\":\"DM_Other\",\"orientation\":\"v\",\"showlegend\":true,\"x\":[8.969575,1.187151,14.95,2.566923,4.438932,0.2248875],\"xaxis\":\"x\",\"y\":[13.76988,7.659167,23.11,3.7325,13.38167,5.395833],\"yaxis\":\"y\",\"type\":\"scatter\"},{\"hovertemplate\":\"\\u003cb\\u003e%{hovertext}\\u003c\\u002fb\\u003e\\u003cbr\\u003e\\u003cbr\\u003eRegion=DM_Europe\\u003cbr\\u003eTIME=1997\\u003cbr\\u003eInflation Rate=%{x}\\u003cbr\\u003eNominal Interest Rate (3m T-Bill)=%{y}\\u003cbr\\u003esize=%{marker.size}\\u003cextra\\u003e\\u003c\\u002fextra\\u003e\",\"hovertext\":[\"Finland\",\"Austria\",\"Sweden\",\"Spain\",\"Portugal\",\"Netherlands\",\"Belgium\",\"Denmark\",\"Switzerland\",\"Luxembourg\"],\"ids\":[\"FIN\",\"AUT\",\"SWE\",\"ESP\",\"PRT\",\"NLD\",\"BEL\",\"DNK\",\"CHE\",\"LUX\"],\"legendgroup\":\"DM_Europe\",\"marker\":{\"color\":\"#FF6692\",\"size\":[50.0,50.0,50.0,50.0,50.0,50.0,50.0,50.0,50.0,50.0],\"sizemode\":\"area\",\"sizeref\":0.16,\"symbol\":\"circle\"},\"mode\":\"markers\",\"name\":\"DM_Europe\",\"orientation\":\"v\",\"showlegend\":true,\"x\":[1.192557,1.305983,0.6584103,1.971078,2.336863,2.109246,1.62816,2.182167,-100.0,-100.0],\"xaxis\":\"x\",\"y\":[3.231667,3.4975,4.1075,5.373333,5.741667,3.334167,3.436667,3.731128,-100.0,-100.0],\"yaxis\":\"y\",\"type\":\"scatter\"}],\"name\":\"1997\",\"layout\":{\"title\":{\"text\":\"1997 : Asian financial crisis - developed market rates down as investors seek refuge\"}}},{\"data\":[{\"hovertemplate\":\"\\u003cb\\u003e%{hovertext}\\u003c\\u002fb\\u003e\\u003cbr\\u003e\\u003cbr\\u003eRegion=United States\\u003cbr\\u003eTIME=1998\\u003cbr\\u003eInflation Rate=%{x}\\u003cbr\\u003eNominal Interest Rate (3m T-Bill)=%{y}\\u003cbr\\u003esize=%{marker.size}\\u003cextra\\u003e\\u003c\\u002fextra\\u003e\",\"hovertext\":[\"United States\"],\"ids\":[\"USA\"],\"legendgroup\":\"United States\",\"marker\":{\"color\":\"#636efa\",\"size\":[200.0],\"sizemode\":\"area\",\"sizeref\":0.16,\"symbol\":\"circle\"},\"mode\":\"markers\",\"name\":\"United States\",\"orientation\":\"v\",\"showlegend\":true,\"x\":[1.552279],\"xaxis\":\"x\",\"y\":[5.466667],\"yaxis\":\"y\",\"type\":\"scatter\"},{\"hovertemplate\":\"\\u003cb\\u003e%{hovertext}\\u003c\\u002fb\\u003e\\u003cbr\\u003e\\u003cbr\\u003eRegion=South Africa\\u003cbr\\u003eTIME=1998\\u003cbr\\u003eInflation Rate=%{x}\\u003cbr\\u003eNominal Interest Rate (3m T-Bill)=%{y}\\u003cbr\\u003esize=%{marker.size}\\u003cextra\\u003e\\u003c\\u002fextra\\u003e\",\"hovertext\":[\"South Africa\"],\"ids\":[\"ZAF\"],\"legendgroup\":\"South Africa\",\"marker\":{\"color\":\"#EF553B\",\"size\":[400.0],\"sizemode\":\"area\",\"sizeref\":0.16,\"symbol\":\"circle\"},\"mode\":\"markers\",\"name\":\"South Africa\",\"orientation\":\"v\",\"showlegend\":true,\"x\":[6.880553],\"xaxis\":\"x\",\"y\":[16.53383],\"yaxis\":\"y\",\"type\":\"scatter\"},{\"hovertemplate\":\"\\u003cb\\u003e%{hovertext}\\u003c\\u002fb\\u003e\\u003cbr\\u003e\\u003cbr\\u003eRegion=G7_ex US\\u003cbr\\u003eTIME=1998\\u003cbr\\u003eInflation Rate=%{x}\\u003cbr\\u003eNominal Interest Rate (3m T-Bill)=%{y}\\u003cbr\\u003esize=%{marker.size}\\u003cextra\\u003e\\u003c\\u002fextra\\u003e\",\"hovertext\":[\"United Kingdom\",\"France\",\"Canada\",\"Germany\",\"Italy\",\"Japan\"],\"ids\":[\"GBR\",\"FRA\",\"CAN\",\"DEU\",\"ITA\",\"JPN\"],\"legendgroup\":\"G7_ex US\",\"marker\":{\"color\":\"#00cc96\",\"size\":[50.0,50.0,50.0,50.0,50.0,50.0],\"sizemode\":\"area\",\"sizeref\":0.16,\"symbol\":\"circle\"},\"mode\":\"markers\",\"name\":\"G7_ex US\",\"orientation\":\"v\",\"showlegend\":true,\"x\":[1.8,0.6511269,0.9959425,0.9111845,1.955088,-100.0],\"xaxis\":\"x\",\"y\":[7.424256,3.557108,5.068404,3.544167,4.991667,-100.0],\"yaxis\":\"y\",\"type\":\"scatter\"},{\"hovertemplate\":\"\\u003cb\\u003e%{hovertext}\\u003c\\u002fb\\u003e\\u003cbr\\u003e\\u003cbr\\u003eRegion=EM_Peer\\u003cbr\\u003eTIME=1998\\u003cbr\\u003eInflation Rate=%{x}\\u003cbr\\u003eNominal Interest Rate (3m T-Bill)=%{y}\\u003cbr\\u003esize=%{marker.size}\\u003cextra\\u003e\\u003c\\u002fextra\\u003e\",\"hovertext\":[\"Hungary\",\"Colombia\",\"Chile\",\"Mexico\",\"Indonesia\",\"India\"],\"ids\":[\"HUN\",\"COL\",\"CHL\",\"MEX\",\"IDN\",\"IND\"],\"legendgroup\":\"EM_Peer\",\"marker\":{\"color\":\"#ab63fa\",\"size\":[100.0,100.0,100.0,100.0,100.0,100.0],\"sizemode\":\"area\",\"sizeref\":0.16,\"symbol\":\"circle\"},\"mode\":\"markers\",\"name\":\"EM_Peer\",\"orientation\":\"v\",\"showlegend\":true,\"x\":[14.15379,18.67698,5.110244,15.92839,58.45105,-100.0],\"xaxis\":\"x\",\"y\":[17.99167,32.58333,16.41208,27.14167,39.06667,-100.0],\"yaxis\":\"y\",\"type\":\"scatter\"},{\"hovertemplate\":\"\\u003cb\\u003e%{hovertext}\\u003c\\u002fb\\u003e\\u003cbr\\u003e\\u003cbr\\u003eRegion=EM_Other\\u003cbr\\u003eTIME=1998\\u003cbr\\u003eInflation Rate=%{x}\\u003cbr\\u003eNominal Interest Rate (3m T-Bill)=%{y}\\u003cbr\\u003esize=%{marker.size}\\u003cextra\\u003e\\u003c\\u002fextra\\u003e\",\"hovertext\":[\"Russia\",\"Greece\",\"Estonia\",\"Iceland\",\"Czech Republic\",\"Latvia\",\"Ireland\",\"China\",\"Costa Rica\",\"Lithuania\",\"Slovak Republic\",\"Slovenia\"],\"ids\":[\"RUS\",\"GRC\",\"EST\",\"ISL\",\"CZE\",\"LVA\",\"IRL\",\"CHN\",\"CRI\",\"LTU\",\"SVK\",\"SVN\"],\"legendgroup\":\"EM_Other\",\"marker\":{\"color\":\"#FFA15A\",\"size\":[50.0,50.0,50.0,50.0,50.0,50.0,50.0,50.0,50.0,50.0,50.0,50.0],\"sizemode\":\"area\",\"sizeref\":0.16,\"symbol\":\"circle\"},\"mode\":\"markers\",\"name\":\"EM_Other\",\"orientation\":\"v\",\"showlegend\":true,\"x\":[27.68569,4.766226,8.744751,1.659237,10.69837,4.644212,2.415518,-0.8,-100.0,-100.0,-100.0,-100.0],\"xaxis\":\"x\",\"y\":[29.875,13.91549,13.87167,7.457833,14.33333,8.388333,5.425833,6.854908,-100.0,-100.0,-100.0,-100.0],\"yaxis\":\"y\",\"type\":\"scatter\"},{\"hovertemplate\":\"\\u003cb\\u003e%{hovertext}\\u003c\\u002fb\\u003e\\u003cbr\\u003e\\u003cbr\\u003eRegion=DM_Other\\u003cbr\\u003eTIME=1998\\u003cbr\\u003eInflation Rate=%{x}\\u003cbr\\u003eNominal Interest Rate (3m T-Bill)=%{y}\\u003cbr\\u003esize=%{marker.size}\\u003cextra\\u003e\\u003c\\u002fextra\\u003e\",\"hovertext\":[\"Norway\",\"Poland\",\"Australia\",\"New Zealand\",\"Israel\",\"South Korea\"],\"ids\":[\"NOR\",\"POL\",\"AUS\",\"NZL\",\"ISR\",\"KOR\"],\"legendgroup\":\"DM_Other\",\"marker\":{\"color\":\"#19d3f3\",\"size\":[50.0,50.0,50.0,50.0,50.0,50.0],\"sizemode\":\"area\",\"sizeref\":0.16,\"symbol\":\"circle\"},\"mode\":\"markers\",\"name\":\"DM_Other\",\"orientation\":\"v\",\"showlegend\":true,\"x\":[2.252413,11.86667,0.8601346,1.26524,5.4919,7.51358],\"xaxis\":\"x\",\"y\":[5.785,19.905,5.001667,7.349167,11.94115,15.22],\"yaxis\":\"y\",\"type\":\"scatter\"},{\"hovertemplate\":\"\\u003cb\\u003e%{hovertext}\\u003c\\u002fb\\u003e\\u003cbr\\u003e\\u003cbr\\u003eRegion=DM_Europe\\u003cbr\\u003eTIME=1998\\u003cbr\\u003eInflation Rate=%{x}\\u003cbr\\u003eNominal Interest Rate (3m T-Bill)=%{y}\\u003cbr\\u003esize=%{marker.size}\\u003cextra\\u003e\\u003c\\u002fextra\\u003e\",\"hovertext\":[\"Denmark\",\"Austria\",\"Sweden\",\"Portugal\",\"Spain\",\"Finland\",\"Belgium\",\"Netherlands\",\"Switzerland\",\"Luxembourg\"],\"ids\":[\"DNK\",\"AUT\",\"SWE\",\"PRT\",\"ESP\",\"FIN\",\"BEL\",\"NLD\",\"CHE\",\"LUX\"],\"legendgroup\":\"DM_Europe\",\"marker\":{\"color\":\"#FF6692\",\"size\":[50.0,50.0,50.0,50.0,50.0,50.0,50.0,50.0,50.0,50.0],\"sizemode\":\"area\",\"sizeref\":0.16,\"symbol\":\"circle\"},\"mode\":\"markers\",\"name\":\"DM_Europe\",\"orientation\":\"v\",\"showlegend\":true,\"x\":[1.845651,0.9224669,-0.2671327,2.572752,1.83433,1.399471,0.9492503,1.959136,-100.0,-100.0],\"xaxis\":\"x\",\"y\":[4.272079,3.600833,4.1875,4.308333,4.242,3.568333,3.558333,3.455,-100.0,-100.0],\"yaxis\":\"y\",\"type\":\"scatter\"}],\"name\":\"1998\",\"layout\":{\"title\":{\"text\":\"1998 : Russian financial crisis and debt default cause EM rates and inflation to rise\"}}},{\"data\":[{\"hovertemplate\":\"\\u003cb\\u003e%{hovertext}\\u003c\\u002fb\\u003e\\u003cbr\\u003e\\u003cbr\\u003eRegion=United States\\u003cbr\\u003eTIME=1999\\u003cbr\\u003eInflation Rate=%{x}\\u003cbr\\u003eNominal Interest Rate (3m T-Bill)=%{y}\\u003cbr\\u003esize=%{marker.size}\\u003cextra\\u003e\\u003c\\u002fextra\\u003e\",\"hovertext\":[\"United States\"],\"ids\":[\"USA\"],\"legendgroup\":\"United States\",\"marker\":{\"color\":\"#636efa\",\"size\":[200.0],\"sizemode\":\"area\",\"sizeref\":0.16,\"symbol\":\"circle\"},\"mode\":\"markers\",\"name\":\"United States\",\"orientation\":\"v\",\"showlegend\":true,\"x\":[2.188027],\"xaxis\":\"x\",\"y\":[5.33],\"yaxis\":\"y\",\"type\":\"scatter\"},{\"hovertemplate\":\"\\u003cb\\u003e%{hovertext}\\u003c\\u002fb\\u003e\\u003cbr\\u003e\\u003cbr\\u003eRegion=South Africa\\u003cbr\\u003eTIME=1999\\u003cbr\\u003eInflation Rate=%{x}\\u003cbr\\u003eNominal Interest Rate (3m T-Bill)=%{y}\\u003cbr\\u003esize=%{marker.size}\\u003cextra\\u003e\\u003c\\u002fextra\\u003e\",\"hovertext\":[\"South Africa\"],\"ids\":[\"ZAF\"],\"legendgroup\":\"South Africa\",\"marker\":{\"color\":\"#EF553B\",\"size\":[400.0],\"sizemode\":\"area\",\"sizeref\":0.16,\"symbol\":\"circle\"},\"mode\":\"markers\",\"name\":\"South Africa\",\"orientation\":\"v\",\"showlegend\":true,\"x\":[5.181491],\"xaxis\":\"x\",\"y\":[12.85226],\"yaxis\":\"y\",\"type\":\"scatter\"},{\"hovertemplate\":\"\\u003cb\\u003e%{hovertext}\\u003c\\u002fb\\u003e\\u003cbr\\u003e\\u003cbr\\u003eRegion=G7_ex US\\u003cbr\\u003eTIME=1999\\u003cbr\\u003eInflation Rate=%{x}\\u003cbr\\u003eNominal Interest Rate (3m T-Bill)=%{y}\\u003cbr\\u003esize=%{marker.size}\\u003cextra\\u003e\\u003c\\u002fextra\\u003e\",\"hovertext\":[\"Italy\",\"Canada\",\"Germany\",\"France\",\"United Kingdom\",\"Japan\"],\"ids\":[\"ITA\",\"CAN\",\"DEU\",\"FRA\",\"GBR\",\"JPN\"],\"legendgroup\":\"G7_ex US\",\"marker\":{\"color\":\"#00cc96\",\"size\":[50.0,50.0,50.0,50.0,50.0,50.0],\"sizemode\":\"area\",\"sizeref\":0.16,\"symbol\":\"circle\"},\"mode\":\"markers\",\"name\":\"G7_ex US\",\"orientation\":\"v\",\"showlegend\":true,\"x\":[1.663458,1.734843,0.5854336,0.5371416,1.7,-100.0],\"xaxis\":\"x\",\"y\":[2.9635,4.915108,2.9635,2.9635,5.545774,-100.0],\"yaxis\":\"y\",\"type\":\"scatter\"},{\"hovertemplate\":\"\\u003cb\\u003e%{hovertext}\\u003c\\u002fb\\u003e\\u003cbr\\u003e\\u003cbr\\u003eRegion=EM_Peer\\u003cbr\\u003eTIME=1999\\u003cbr\\u003eInflation Rate=%{x}\\u003cbr\\u003eNominal Interest Rate (3m T-Bill)=%{y}\\u003cbr\\u003esize=%{marker.size}\\u003cextra\\u003e\\u003c\\u002fextra\\u003e\",\"hovertext\":[\"Colombia\",\"Hungary\",\"Mexico\",\"Indonesia\",\"Chile\",\"India\"],\"ids\":[\"COL\",\"HUN\",\"MEX\",\"IDN\",\"CHL\",\"IND\"],\"legendgroup\":\"EM_Peer\",\"marker\":{\"color\":\"#ab63fa\",\"size\":[100.0,100.0,100.0,100.0,100.0,100.0],\"sizemode\":\"area\",\"sizeref\":0.16,\"symbol\":\"circle\"},\"mode\":\"markers\",\"name\":\"EM_Peer\",\"orientation\":\"v\",\"showlegend\":true,\"x\":[10.87369,9.997744,16.58562,20.47783,3.336883,-100.0],\"xaxis\":\"x\",\"y\":[21.32833,14.65083,24.62667,25.7375,10.955,-100.0],\"yaxis\":\"y\",\"type\":\"scatter\"},{\"hovertemplate\":\"\\u003cb\\u003e%{hovertext}\\u003c\\u002fb\\u003e\\u003cbr\\u003e\\u003cbr\\u003eRegion=EM_Other\\u003cbr\\u003eTIME=1999\\u003cbr\\u003eInflation Rate=%{x}\\u003cbr\\u003eNominal Interest Rate (3m T-Bill)=%{y}\\u003cbr\\u003esize=%{marker.size}\\u003cextra\\u003e\\u003c\\u002fextra\\u003e\",\"hovertext\":[\"Greece\",\"Slovak Republic\",\"Czech Republic\",\"Ireland\",\"Latvia\",\"Russia\",\"Estonia\",\"China\",\"Iceland\",\"Lithuania\",\"Costa Rica\",\"Slovenia\"],\"ids\":[\"GRC\",\"SVK\",\"CZE\",\"IRL\",\"LVA\",\"RUS\",\"EST\",\"CHN\",\"ISL\",\"LTU\",\"CRI\",\"SVN\"],\"legendgroup\":\"EM_Other\",\"marker\":{\"color\":\"#FFA15A\",\"size\":[50.0,50.0,50.0,50.0,50.0,50.0,50.0,50.0,50.0,50.0,50.0,50.0],\"sizemode\":\"area\",\"sizeref\":0.16,\"symbol\":\"circle\"},\"mode\":\"markers\",\"name\":\"EM_Other\",\"orientation\":\"v\",\"showlegend\":true,\"x\":[2.636638,10.57045,2.135448,1.631924,2.364815,85.74649,3.296111,-1.4,3.231831,0.7275506,-100.0,-100.0],\"xaxis\":\"x\",\"y\":[10.31317,14.74454,6.853333,2.9635,8.45,22.96667,7.829167,3.658417,9.334,13.87182,-100.0,-100.0],\"yaxis\":\"y\",\"type\":\"scatter\"},{\"hovertemplate\":\"\\u003cb\\u003e%{hovertext}\\u003c\\u002fb\\u003e\\u003cbr\\u003e\\u003cbr\\u003eRegion=DM_Other\\u003cbr\\u003eTIME=1999\\u003cbr\\u003eInflation Rate=%{x}\\u003cbr\\u003eNominal Interest Rate (3m T-Bill)=%{y}\\u003cbr\\u003esize=%{marker.size}\\u003cextra\\u003e\\u003c\\u002fextra\\u003e\",\"hovertext\":[\"South Korea\",\"New Zealand\",\"Israel\",\"Poland\",\"Norway\",\"Australia\"],\"ids\":[\"KOR\",\"NZL\",\"ISR\",\"POL\",\"NOR\",\"AUS\"],\"legendgroup\":\"DM_Other\",\"marker\":{\"color\":\"#19d3f3\",\"size\":[50.0,50.0,50.0,50.0,50.0,50.0],\"sizemode\":\"area\",\"sizeref\":0.16,\"symbol\":\"circle\"},\"mode\":\"markers\",\"name\":\"DM_Other\",\"orientation\":\"v\",\"showlegend\":true,\"x\":[0.8129572,-0.1142663,5.181024,7.258333,2.365967,1.483129],\"xaxis\":\"x\",\"y\":[6.809166,4.83,12.03709,14.67833,6.538333,5.011667],\"yaxis\":\"y\",\"type\":\"scatter\"},{\"hovertemplate\":\"\\u003cb\\u003e%{hovertext}\\u003c\\u002fb\\u003e\\u003cbr\\u003e\\u003cbr\\u003eRegion=DM_Europe\\u003cbr\\u003eTIME=1999\\u003cbr\\u003eInflation Rate=%{x}\\u003cbr\\u003eNominal Interest Rate (3m T-Bill)=%{y}\\u003cbr\\u003esize=%{marker.size}\\u003cextra\\u003e\\u003c\\u002fextra\\u003e\",\"hovertext\":[\"Denmark\",\"Sweden\",\"Luxembourg\",\"Finland\",\"Spain\",\"Netherlands\",\"Portugal\",\"Belgium\",\"Austria\",\"Switzerland\"],\"ids\":[\"DNK\",\"SWE\",\"LUX\",\"FIN\",\"ESP\",\"NLD\",\"PRT\",\"BEL\",\"AUT\",\"CHE\"],\"legendgroup\":\"DM_Europe\",\"marker\":{\"color\":\"#FF6692\",\"size\":[50.0,50.0,50.0,50.0,50.0,50.0,50.0,50.0,50.0,50.0],\"sizemode\":\"area\",\"sizeref\":0.16,\"symbol\":\"circle\"},\"mode\":\"markers\",\"name\":\"DM_Europe\",\"orientation\":\"v\",\"showlegend\":true,\"x\":[2.497795,0.4621758,1.025194,1.162237,2.310345,2.157179,2.340095,1.120848,0.5689865,-100.0],\"xaxis\":\"x\",\"y\":[3.437819,3.115,2.9635,2.9635,2.9635,2.9635,2.9635,2.9635,2.9635,-100.0],\"yaxis\":\"y\",\"type\":\"scatter\"}],\"name\":\"1999\",\"layout\":{\"title\":{\"text\":\"1999 : Low interest rates aid global economic rebound (ex-Russia)\"}}},{\"data\":[{\"hovertemplate\":\"\\u003cb\\u003e%{hovertext}\\u003c\\u002fb\\u003e\\u003cbr\\u003e\\u003cbr\\u003eRegion=United States\\u003cbr\\u003eTIME=2000\\u003cbr\\u003eInflation Rate=%{x}\\u003cbr\\u003eNominal Interest Rate (3m T-Bill)=%{y}\\u003cbr\\u003esize=%{marker.size}\\u003cextra\\u003e\\u003c\\u002fextra\\u003e\",\"hovertext\":[\"United States\"],\"ids\":[\"USA\"],\"legendgroup\":\"United States\",\"marker\":{\"color\":\"#636efa\",\"size\":[200.0],\"sizemode\":\"area\",\"sizeref\":0.16,\"symbol\":\"circle\"},\"mode\":\"markers\",\"name\":\"United States\",\"orientation\":\"v\",\"showlegend\":true,\"x\":[3.376857],\"xaxis\":\"x\",\"y\":[6.455833],\"yaxis\":\"y\",\"type\":\"scatter\"},{\"hovertemplate\":\"\\u003cb\\u003e%{hovertext}\\u003c\\u002fb\\u003e\\u003cbr\\u003e\\u003cbr\\u003eRegion=South Africa\\u003cbr\\u003eTIME=2000\\u003cbr\\u003eInflation Rate=%{x}\\u003cbr\\u003eNominal Interest Rate (3m T-Bill)=%{y}\\u003cbr\\u003esize=%{marker.size}\\u003cextra\\u003e\\u003c\\u002fextra\\u003e\",\"hovertext\":[\"South Africa\"],\"ids\":[\"ZAF\"],\"legendgroup\":\"South Africa\",\"marker\":{\"color\":\"#EF553B\",\"size\":[400.0],\"sizemode\":\"area\",\"sizeref\":0.16,\"symbol\":\"circle\"},\"mode\":\"markers\",\"name\":\"South Africa\",\"orientation\":\"v\",\"showlegend\":true,\"x\":[5.338953],\"xaxis\":\"x\",\"y\":[10.11052],\"yaxis\":\"y\",\"type\":\"scatter\"},{\"hovertemplate\":\"\\u003cb\\u003e%{hovertext}\\u003c\\u002fb\\u003e\\u003cbr\\u003e\\u003cbr\\u003eRegion=G7_ex US\\u003cbr\\u003eTIME=2000\\u003cbr\\u003eInflation Rate=%{x}\\u003cbr\\u003eNominal Interest Rate (3m T-Bill)=%{y}\\u003cbr\\u003esize=%{marker.size}\\u003cextra\\u003e\\u003c\\u002fextra\\u003e\",\"hovertext\":[\"France\",\"Canada\",\"Germany\",\"Italy\",\"United Kingdom\",\"Japan\"],\"ids\":[\"FRA\",\"CAN\",\"DEU\",\"ITA\",\"GBR\",\"JPN\"],\"legendgroup\":\"G7_ex US\",\"marker\":{\"color\":\"#00cc96\",\"size\":[50.0,50.0,50.0,50.0,50.0,50.0],\"sizemode\":\"area\",\"sizeref\":0.16,\"symbol\":\"circle\"},\"mode\":\"markers\",\"name\":\"G7_ex US\",\"orientation\":\"v\",\"showlegend\":true,\"x\":[1.67596,2.71944,1.440268,2.537687,1.2,-100.0],\"xaxis\":\"x\",\"y\":[4.391767,5.698482,4.391767,4.391767,6.187457,-100.0],\"yaxis\":\"y\",\"type\":\"scatter\"},{\"hovertemplate\":\"\\u003cb\\u003e%{hovertext}\\u003c\\u002fb\\u003e\\u003cbr\\u003e\\u003cbr\\u003eRegion=EM_Peer\\u003cbr\\u003eTIME=2000\\u003cbr\\u003eInflation Rate=%{x}\\u003cbr\\u003eNominal Interest Rate (3m T-Bill)=%{y}\\u003cbr\\u003esize=%{marker.size}\\u003cextra\\u003e\\u003c\\u002fextra\\u003e\",\"hovertext\":[\"Colombia\",\"Indonesia\",\"Chile\",\"Hungary\",\"Mexico\",\"India\"],\"ids\":[\"COL\",\"IDN\",\"CHL\",\"HUN\",\"MEX\",\"IND\"],\"legendgroup\":\"EM_Peer\",\"marker\":{\"color\":\"#ab63fa\",\"size\":[100.0,100.0,100.0,100.0,100.0,100.0],\"sizemode\":\"area\",\"sizeref\":0.16,\"symbol\":\"circle\"},\"mode\":\"markers\",\"name\":\"EM_Peer\",\"orientation\":\"v\",\"showlegend\":true,\"x\":[9.225347,3.688618,3.843273,9.803608,9.49156,-100.0],\"xaxis\":\"x\",\"y\":[12.14667,12.50333,10.7575,11.38833,17.23167,-100.0],\"yaxis\":\"y\",\"type\":\"scatter\"},{\"hovertemplate\":\"\\u003cb\\u003e%{hovertext}\\u003c\\u002fb\\u003e\\u003cbr\\u003e\\u003cbr\\u003eRegion=EM_Other\\u003cbr\\u003eTIME=2000\\u003cbr\\u003eInflation Rate=%{x}\\u003cbr\\u003eNominal Interest Rate (3m T-Bill)=%{y}\\u003cbr\\u003esize=%{marker.size}\\u003cextra\\u003e\\u003c\\u002fextra\\u003e\",\"hovertext\":[\"Russia\",\"Greece\",\"Slovak Republic\",\"China\",\"Latvia\",\"Czech Republic\",\"Ireland\",\"Lithuania\",\"Estonia\",\"Iceland\",\"Costa Rica\",\"Slovenia\"],\"ids\":[\"RUS\",\"GRC\",\"SVK\",\"CHN\",\"LVA\",\"CZE\",\"IRL\",\"LTU\",\"EST\",\"ISL\",\"CRI\",\"SVN\"],\"legendgroup\":\"EM_Other\",\"marker\":{\"color\":\"#FFA15A\",\"size\":[50.0,50.0,50.0,50.0,50.0,50.0,50.0,50.0,50.0,50.0,50.0,50.0],\"sizemode\":\"area\",\"sizeref\":0.16,\"symbol\":\"circle\"},\"mode\":\"markers\",\"name\":\"EM_Other\",\"orientation\":\"v\",\"showlegend\":true,\"x\":[20.79877,3.151177,12.03578,0.4,2.654253,3.775388,5.590717,0.9816155,4.018489,5.136475,-100.0,-100.0],\"xaxis\":\"x\",\"y\":[12.825,7.884648,8.1725,2.600983,5.4025,5.365833,4.391767,8.64284,5.678333,11.21225,-100.0,-100.0],\"yaxis\":\"y\",\"type\":\"scatter\"},{\"hovertemplate\":\"\\u003cb\\u003e%{hovertext}\\u003c\\u002fb\\u003e\\u003cbr\\u003e\\u003cbr\\u003eRegion=DM_Other\\u003cbr\\u003eTIME=2000\\u003cbr\\u003eInflation Rate=%{x}\\u003cbr\\u003eNominal Interest Rate (3m T-Bill)=%{y}\\u003cbr\\u003esize=%{marker.size}\\u003cextra\\u003e\\u003c\\u002fextra\\u003e\",\"hovertext\":[\"South Korea\",\"Australia\",\"Norway\",\"Poland\",\"Israel\",\"New Zealand\"],\"ids\":[\"KOR\",\"AUS\",\"NOR\",\"POL\",\"ISR\",\"NZL\"],\"legendgroup\":\"DM_Other\",\"marker\":{\"color\":\"#19d3f3\",\"size\":[50.0,50.0,50.0,50.0,50.0,50.0],\"sizemode\":\"area\",\"sizeref\":0.16,\"symbol\":\"circle\"},\"mode\":\"markers\",\"name\":\"DM_Other\",\"orientation\":\"v\",\"showlegend\":true,\"x\":[2.259166,4.457435,3.085506,10.09167,1.032641,2.615233],\"xaxis\":\"x\",\"y\":[7.078333,6.1775,6.745833,18.875,9.045343,6.52],\"yaxis\":\"y\",\"type\":\"scatter\"},{\"hovertemplate\":\"\\u003cb\\u003e%{hovertext}\\u003c\\u002fb\\u003e\\u003cbr\\u003e\\u003cbr\\u003eRegion=DM_Europe\\u003cbr\\u003eTIME=2000\\u003cbr\\u003eInflation Rate=%{x}\\u003cbr\\u003eNominal Interest Rate (3m T-Bill)=%{y}\\u003cbr\\u003esize=%{marker.size}\\u003cextra\\u003e\\u003c\\u002fextra\\u003e\",\"hovertext\":[\"Belgium\",\"Denmark\",\"Portugal\",\"Switzerland\",\"Netherlands\",\"Spain\",\"Finland\",\"Luxembourg\",\"Austria\",\"Sweden\"],\"ids\":[\"BEL\",\"DNK\",\"PRT\",\"CHE\",\"NLD\",\"ESP\",\"FIN\",\"LUX\",\"AUT\",\"SWE\"],\"legendgroup\":\"DM_Europe\",\"marker\":{\"color\":\"#FF6692\",\"size\":[50.0,50.0,50.0,50.0,50.0,50.0,50.0,50.0,50.0,50.0],\"sizemode\":\"area\",\"sizeref\":0.16,\"symbol\":\"circle\"},\"mode\":\"markers\",\"name\":\"DM_Europe\",\"orientation\":\"v\",\"showlegend\":true,\"x\":[2.544518,2.903277,2.85303,1.558529,2.360522,3.433517,3.042096,3.150768,2.344868,0.8991438],\"xaxis\":\"x\",\"y\":[4.391767,4.997201,4.391767,3.034037,4.391767,4.391767,4.391767,4.391767,4.391767,3.954167],\"yaxis\":\"y\",\"type\":\"scatter\"}],\"name\":\"2000\",\"layout\":{\"title\":{\"text\":\"2000 : EM's recover, inflation and rates fall and the \\\"commodity super-cycle\\\" begins\"}}},{\"data\":[{\"hovertemplate\":\"\\u003cb\\u003e%{hovertext}\\u003c\\u002fb\\u003e\\u003cbr\\u003e\\u003cbr\\u003eRegion=United States\\u003cbr\\u003eTIME=2001\\u003cbr\\u003eInflation Rate=%{x}\\u003cbr\\u003eNominal Interest Rate (3m T-Bill)=%{y}\\u003cbr\\u003esize=%{marker.size}\\u003cextra\\u003e\\u003c\\u002fextra\\u003e\",\"hovertext\":[\"United States\"],\"ids\":[\"USA\"],\"legendgroup\":\"United States\",\"marker\":{\"color\":\"#636efa\",\"size\":[200.0],\"sizemode\":\"area\",\"sizeref\":0.16,\"symbol\":\"circle\"},\"mode\":\"markers\",\"name\":\"United States\",\"orientation\":\"v\",\"showlegend\":true,\"x\":[2.826171],\"xaxis\":\"x\",\"y\":[3.686667],\"yaxis\":\"y\",\"type\":\"scatter\"},{\"hovertemplate\":\"\\u003cb\\u003e%{hovertext}\\u003c\\u002fb\\u003e\\u003cbr\\u003e\\u003cbr\\u003eRegion=South Africa\\u003cbr\\u003eTIME=2001\\u003cbr\\u003eInflation Rate=%{x}\\u003cbr\\u003eNominal Interest Rate (3m T-Bill)=%{y}\\u003cbr\\u003esize=%{marker.size}\\u003cextra\\u003e\\u003c\\u002fextra\\u003e\",\"hovertext\":[\"South Africa\"],\"ids\":[\"ZAF\"],\"legendgroup\":\"South Africa\",\"marker\":{\"color\":\"#EF553B\",\"size\":[400.0],\"sizemode\":\"area\",\"sizeref\":0.16,\"symbol\":\"circle\"},\"mode\":\"markers\",\"name\":\"South Africa\",\"orientation\":\"v\",\"showlegend\":true,\"x\":[5.7019],\"xaxis\":\"x\",\"y\":[9.676273],\"yaxis\":\"y\",\"type\":\"scatter\"},{\"hovertemplate\":\"\\u003cb\\u003e%{hovertext}\\u003c\\u002fb\\u003e\\u003cbr\\u003e\\u003cbr\\u003eRegion=G7_ex US\\u003cbr\\u003eTIME=2001\\u003cbr\\u003eInflation Rate=%{x}\\u003cbr\\u003eNominal Interest Rate (3m T-Bill)=%{y}\\u003cbr\\u003esize=%{marker.size}\\u003cextra\\u003e\\u003c\\u002fextra\\u003e\",\"hovertext\":[\"United Kingdom\",\"France\",\"Canada\",\"Germany\",\"Italy\",\"Japan\"],\"ids\":[\"GBR\",\"FRA\",\"CAN\",\"DEU\",\"ITA\",\"JPN\"],\"legendgroup\":\"G7_ex US\",\"marker\":{\"color\":\"#00cc96\",\"size\":[50.0,50.0,50.0,50.0,50.0,50.0],\"sizemode\":\"area\",\"sizeref\":0.16,\"symbol\":\"circle\"},\"mode\":\"markers\",\"name\":\"G7_ex US\",\"orientation\":\"v\",\"showlegend\":true,\"x\":[1.6,1.634781,2.52512,1.983857,2.785166,-100.0],\"xaxis\":\"x\",\"y\":[5.04343,4.261783,4.003615,4.261783,4.261783,-100.0],\"yaxis\":\"y\",\"type\":\"scatter\"},{\"hovertemplate\":\"\\u003cb\\u003e%{hovertext}\\u003c\\u002fb\\u003e\\u003cbr\\u003e\\u003cbr\\u003eRegion=EM_Peer\\u003cbr\\u003eTIME=2001\\u003cbr\\u003eInflation Rate=%{x}\\u003cbr\\u003eNominal Interest Rate (3m T-Bill)=%{y}\\u003cbr\\u003esize=%{marker.size}\\u003cextra\\u003e\\u003c\\u002fextra\\u003e\",\"hovertext\":[\"Mexico\",\"Indonesia\",\"Chile\",\"Colombia\",\"Hungary\",\"India\"],\"ids\":[\"MEX\",\"IDN\",\"CHL\",\"COL\",\"HUN\",\"IND\"],\"legendgroup\":\"EM_Peer\",\"marker\":{\"color\":\"#ab63fa\",\"size\":[100.0,100.0,100.0,100.0,100.0,100.0],\"sizemode\":\"area\",\"sizeref\":0.16,\"symbol\":\"circle\"},\"mode\":\"markers\",\"name\":\"EM_Peer\",\"orientation\":\"v\",\"showlegend\":true,\"x\":[6.367737,11.50012,3.569101,7.965562,9.116809,-100.0],\"xaxis\":\"x\",\"y\":[13.42667,15.48167,7.233333,12.435,10.86667,-100.0],\"yaxis\":\"y\",\"type\":\"scatter\"},{\"hovertemplate\":\"\\u003cb\\u003e%{hovertext}\\u003c\\u002fb\\u003e\\u003cbr\\u003e\\u003cbr\\u003eRegion=EM_Other\\u003cbr\\u003eTIME=2001\\u003cbr\\u003eInflation Rate=%{x}\\u003cbr\\u003eNominal Interest Rate (3m T-Bill)=%{y}\\u003cbr\\u003esize=%{marker.size}\\u003cextra\\u003e\\u003c\\u002fextra\\u003e\",\"hovertext\":[\"Russia\",\"Lithuania\",\"Iceland\",\"Estonia\",\"Greece\",\"China\",\"Ireland\",\"Slovak Republic\",\"Czech Republic\",\"Latvia\",\"Costa Rica\",\"Slovenia\"],\"ids\":[\"RUS\",\"LTU\",\"ISL\",\"EST\",\"GRC\",\"CHN\",\"IRL\",\"SVK\",\"CZE\",\"LVA\",\"CRI\",\"SVN\"],\"legendgroup\":\"EM_Other\",\"marker\":{\"color\":\"#FFA15A\",\"size\":[50.0,50.0,50.0,50.0,50.0,50.0,50.0,50.0,50.0,50.0,50.0,50.0],\"sizemode\":\"area\",\"sizeref\":0.16,\"symbol\":\"circle\"},\"mode\":\"markers\",\"name\":\"EM_Other\",\"orientation\":\"v\",\"showlegend\":true,\"x\":[21.47701,1.36712,6.405086,5.74828,3.373966,0.7,4.872905,7.329631,4.662675,2.487044,-100.0,-100.0],\"xaxis\":\"x\",\"y\":[9.983334,5.935413,11.9875,5.313334,4.261783,2.521183,4.261783,7.488333,5.173333,6.861667,-100.0,-100.0],\"yaxis\":\"y\",\"type\":\"scatter\"},{\"hovertemplate\":\"\\u003cb\\u003e%{hovertext}\\u003c\\u002fb\\u003e\\u003cbr\\u003e\\u003cbr\\u003eRegion=DM_Other\\u003cbr\\u003eTIME=2001\\u003cbr\\u003eInflation Rate=%{x}\\u003cbr\\u003eNominal Interest Rate (3m T-Bill)=%{y}\\u003cbr\\u003esize=%{marker.size}\\u003cextra\\u003e\\u003c\\u002fextra\\u003e\",\"hovertext\":[\"New Zealand\",\"Norway\",\"Australia\",\"South Korea\",\"Poland\",\"Israel\"],\"ids\":[\"NZL\",\"NOR\",\"AUS\",\"KOR\",\"POL\",\"ISR\"],\"legendgroup\":\"DM_Other\",\"marker\":{\"color\":\"#19d3f3\",\"size\":[50.0,50.0,50.0,50.0,50.0,50.0],\"sizemode\":\"area\",\"sizeref\":0.16,\"symbol\":\"circle\"},\"mode\":\"markers\",\"name\":\"DM_Other\",\"orientation\":\"v\",\"showlegend\":true,\"x\":[2.625821,3.004197,4.407135,4.066576,5.475,1.151316],\"xaxis\":\"x\",\"y\":[5.7425,7.226666,4.899167,5.3175,15.71583,6.531512],\"yaxis\":\"y\",\"type\":\"scatter\"},{\"hovertemplate\":\"\\u003cb\\u003e%{hovertext}\\u003c\\u002fb\\u003e\\u003cbr\\u003e\\u003cbr\\u003eRegion=DM_Europe\\u003cbr\\u003eTIME=2001\\u003cbr\\u003eInflation Rate=%{x}\\u003cbr\\u003eNominal Interest Rate (3m T-Bill)=%{y}\\u003cbr\\u003esize=%{marker.size}\\u003cextra\\u003e\\u003c\\u002fextra\\u003e\",\"hovertext\":[\"Austria\",\"Spain\",\"Switzerland\",\"Luxembourg\",\"Sweden\",\"Belgium\",\"Portugal\",\"Denmark\",\"Finland\",\"Netherlands\"],\"ids\":[\"AUT\",\"ESP\",\"CHE\",\"LUX\",\"SWE\",\"BEL\",\"PRT\",\"DNK\",\"FIN\",\"NLD\"],\"legendgroup\":\"DM_Europe\",\"marker\":{\"color\":\"#FF6692\",\"size\":[50.0,50.0,50.0,50.0,50.0,50.0,50.0,50.0,50.0,50.0],\"sizemode\":\"area\",\"sizeref\":0.16,\"symbol\":\"circle\"},\"mode\":\"markers\",\"name\":\"DM_Europe\",\"orientation\":\"v\",\"showlegend\":true,\"x\":[2.65,3.589833,0.9890203,2.663822,2.405958,2.469258,4.369903,2.337875,2.578441,4.155841],\"xaxis\":\"x\",\"y\":[4.261783,4.261783,2.731143,4.261783,4.032727,4.261783,4.261783,4.702664,4.261783,4.261783],\"yaxis\":\"y\",\"type\":\"scatter\"}],\"name\":\"2001\",\"layout\":{\"title\":{\"text\":\"2001 : US \\\"Dot-Com Crash\\\" triggers a global economic slowdown\"}}},{\"data\":[{\"hovertemplate\":\"\\u003cb\\u003e%{hovertext}\\u003c\\u002fb\\u003e\\u003cbr\\u003e\\u003cbr\\u003eRegion=United States\\u003cbr\\u003eTIME=2002\\u003cbr\\u003eInflation Rate=%{x}\\u003cbr\\u003eNominal Interest Rate (3m T-Bill)=%{y}\\u003cbr\\u003esize=%{marker.size}\\u003cextra\\u003e\\u003c\\u002fextra\\u003e\",\"hovertext\":[\"United States\"],\"ids\":[\"USA\"],\"legendgroup\":\"United States\",\"marker\":{\"color\":\"#636efa\",\"size\":[200.0],\"sizemode\":\"area\",\"sizeref\":0.16,\"symbol\":\"circle\"},\"mode\":\"markers\",\"name\":\"United States\",\"orientation\":\"v\",\"showlegend\":true,\"x\":[1.586032],\"xaxis\":\"x\",\"y\":[1.725833],\"yaxis\":\"y\",\"type\":\"scatter\"},{\"hovertemplate\":\"\\u003cb\\u003e%{hovertext}\\u003c\\u002fb\\u003e\\u003cbr\\u003e\\u003cbr\\u003eRegion=South Africa\\u003cbr\\u003eTIME=2002\\u003cbr\\u003eInflation Rate=%{x}\\u003cbr\\u003eNominal Interest Rate (3m T-Bill)=%{y}\\u003cbr\\u003esize=%{marker.size}\\u003cextra\\u003e\\u003c\\u002fextra\\u003e\",\"hovertext\":[\"South Africa\"],\"ids\":[\"ZAF\"],\"legendgroup\":\"South Africa\",\"marker\":{\"color\":\"#EF553B\",\"size\":[400.0],\"sizemode\":\"area\",\"sizeref\":0.16,\"symbol\":\"circle\"},\"mode\":\"markers\",\"name\":\"South Africa\",\"orientation\":\"v\",\"showlegend\":true,\"x\":[9.49471],\"xaxis\":\"x\",\"y\":[11.16127],\"yaxis\":\"y\",\"type\":\"scatter\"},{\"hovertemplate\":\"\\u003cb\\u003e%{hovertext}\\u003c\\u002fb\\u003e\\u003cbr\\u003e\\u003cbr\\u003eRegion=G7_ex US\\u003cbr\\u003eTIME=2002\\u003cbr\\u003eInflation Rate=%{x}\\u003cbr\\u003eNominal Interest Rate (3m T-Bill)=%{y}\\u003cbr\\u003esize=%{marker.size}\\u003cextra\\u003e\\u003c\\u002fextra\\u003e\",\"hovertext\":[\"Canada\",\"Germany\",\"United Kingdom\",\"Italy\",\"France\",\"Japan\"],\"ids\":[\"CAN\",\"DEU\",\"GBR\",\"ITA\",\"FRA\",\"JPN\"],\"legendgroup\":\"G7_ex US\",\"marker\":{\"color\":\"#00cc96\",\"size\":[50.0,50.0,50.0,50.0,50.0,50.0],\"sizemode\":\"area\",\"sizeref\":0.16,\"symbol\":\"circle\"},\"mode\":\"markers\",\"name\":\"G7_ex US\",\"orientation\":\"v\",\"showlegend\":true,\"x\":[2.258394,1.420807,1.5,2.46532,1.923412,-100.0],\"xaxis\":\"x\",\"y\":[2.623688,3.318592,4.060289,3.318592,3.318592,-100.0],\"yaxis\":\"y\",\"type\":\"scatter\"},{\"hovertemplate\":\"\\u003cb\\u003e%{hovertext}\\u003c\\u002fb\\u003e\\u003cbr\\u003e\\u003cbr\\u003eRegion=EM_Peer\\u003cbr\\u003eTIME=2002\\u003cbr\\u003eInflation Rate=%{x}\\u003cbr\\u003eNominal Interest Rate (3m T-Bill)=%{y}\\u003cbr\\u003esize=%{marker.size}\\u003cextra\\u003e\\u003c\\u002fextra\\u003e\",\"hovertext\":[\"Chile\",\"Mexico\",\"Indonesia\",\"Hungary\",\"Colombia\",\"India\"],\"ids\":[\"CHL\",\"MEX\",\"IDN\",\"HUN\",\"COL\",\"IND\"],\"legendgroup\":\"EM_Peer\",\"marker\":{\"color\":\"#ab63fa\",\"size\":[100.0,100.0,100.0,100.0,100.0,100.0],\"sizemode\":\"area\",\"sizeref\":0.16,\"symbol\":\"circle\"},\"mode\":\"markers\",\"name\":\"EM_Peer\",\"orientation\":\"v\",\"showlegend\":true,\"x\":[2.489398,5.030733,11.90012,5.265448,6.351508,-100.0],\"xaxis\":\"x\",\"y\":[3.925,8.45,15.5025,9.208333,8.938334,-100.0],\"yaxis\":\"y\",\"type\":\"scatter\"},{\"hovertemplate\":\"\\u003cb\\u003e%{hovertext}\\u003c\\u002fb\\u003e\\u003cbr\\u003e\\u003cbr\\u003eRegion=EM_Other\\u003cbr\\u003eTIME=2002\\u003cbr\\u003eInflation Rate=%{x}\\u003cbr\\u003eNominal Interest Rate (3m T-Bill)=%{y}\\u003cbr\\u003esize=%{marker.size}\\u003cextra\\u003e\\u003c\\u002fextra\\u003e\",\"hovertext\":[\"Iceland\",\"Ireland\",\"Czech Republic\",\"Lithuania\",\"Estonia\",\"China\",\"Slovenia\",\"Slovak Republic\",\"Latvia\",\"Russia\",\"Greece\",\"Costa Rica\"],\"ids\":[\"ISL\",\"IRL\",\"CZE\",\"LTU\",\"EST\",\"CHN\",\"SVN\",\"SVK\",\"LVA\",\"RUS\",\"GRC\",\"CRI\"],\"legendgroup\":\"EM_Other\",\"marker\":{\"color\":\"#FFA15A\",\"size\":[50.0,50.0,50.0,50.0,50.0,50.0,50.0,50.0,50.0,50.0,50.0,50.0],\"sizemode\":\"area\",\"sizeref\":0.16,\"symbol\":\"circle\"},\"mode\":\"markers\",\"name\":\"EM_Other\",\"orientation\":\"v\",\"showlegend\":true,\"x\":[5.197023,4.614733,1.902981,0.2815066,3.571913,-0.8,7.480778,3.127133,1.938879,15.78873,3.629363,-100.0],\"xaxis\":\"x\",\"y\":[8.974334,3.318592,3.549167,3.746735,3.88,2.152058,8.025833,7.499166,4.354167,12.39167,3.318592,-100.0],\"yaxis\":\"y\",\"type\":\"scatter\"},{\"hovertemplate\":\"\\u003cb\\u003e%{hovertext}\\u003c\\u002fb\\u003e\\u003cbr\\u003e\\u003cbr\\u003eRegion=DM_Other\\u003cbr\\u003eTIME=2002\\u003cbr\\u003eInflation Rate=%{x}\\u003cbr\\u003eNominal Interest Rate (3m T-Bill)=%{y}\\u003cbr\\u003esize=%{marker.size}\\u003cextra\\u003e\\u003c\\u002fextra\\u003e\",\"hovertext\":[\"Australia\",\"New Zealand\",\"Israel\",\"South Korea\",\"Poland\",\"Norway\"],\"ids\":[\"AUS\",\"NZL\",\"ISR\",\"KOR\",\"POL\",\"NOR\"],\"legendgroup\":\"DM_Other\",\"marker\":{\"color\":\"#19d3f3\",\"size\":[50.0,50.0,50.0,50.0,50.0,50.0],\"sizemode\":\"area\",\"sizeref\":0.16,\"symbol\":\"circle\"},\"mode\":\"markers\",\"name\":\"DM_Other\",\"orientation\":\"v\",\"showlegend\":true,\"x\":[2.981575,2.677091,5.772358,2.762262,1.941667,1.286725],\"xaxis\":\"x\",\"y\":[4.746666,5.666667,7.167583,4.805,8.7725,6.9075],\"yaxis\":\"y\",\"type\":\"scatter\"},{\"hovertemplate\":\"\\u003cb\\u003e%{hovertext}\\u003c\\u002fb\\u003e\\u003cbr\\u003e\\u003cbr\\u003eRegion=DM_Europe\\u003cbr\\u003eTIME=2002\\u003cbr\\u003eInflation Rate=%{x}\\u003cbr\\u003eNominal Interest Rate (3m T-Bill)=%{y}\\u003cbr\\u003esize=%{marker.size}\\u003cextra\\u003e\\u003c\\u002fextra\\u003e\",\"hovertext\":[\"Switzerland\",\"Spain\",\"Luxembourg\",\"Austria\",\"Netherlands\",\"Finland\",\"Belgium\",\"Sweden\",\"Denmark\",\"Portugal\"],\"ids\":[\"CHE\",\"ESP\",\"LUX\",\"AUT\",\"NLD\",\"FIN\",\"BEL\",\"SWE\",\"DNK\",\"PRT\"],\"legendgroup\":\"DM_Europe\",\"marker\":{\"color\":\"#FF6692\",\"size\":[50.0,50.0,50.0,50.0,50.0,50.0,50.0,50.0,50.0,50.0],\"sizemode\":\"area\",\"sizeref\":0.16,\"symbol\":\"circle\"},\"mode\":\"markers\",\"name\":\"DM_Europe\",\"orientation\":\"v\",\"showlegend\":true,\"x\":[0.6427115,3.065657,2.074089,1.810359,3.287531,1.571221,1.645214,2.158482,2.424437,3.600347],\"xaxis\":\"x\",\"y\":[0.9987352,3.318592,3.318592,3.318592,3.318592,3.318592,3.318592,4.065834,3.543719,3.318592],\"yaxis\":\"y\",\"type\":\"scatter\"}],\"name\":\"2002\",\"layout\":{\"title\":{\"text\":\"2002 : Sudden collapse in the Rand towards end of 2001 results in inflation pressures\"}}},{\"data\":[{\"hovertemplate\":\"\\u003cb\\u003e%{hovertext}\\u003c\\u002fb\\u003e\\u003cbr\\u003e\\u003cbr\\u003eRegion=United States\\u003cbr\\u003eTIME=2003\\u003cbr\\u003eInflation Rate=%{x}\\u003cbr\\u003eNominal Interest Rate (3m T-Bill)=%{y}\\u003cbr\\u003esize=%{marker.size}\\u003cextra\\u003e\\u003c\\u002fextra\\u003e\",\"hovertext\":[\"United States\"],\"ids\":[\"USA\"],\"legendgroup\":\"United States\",\"marker\":{\"color\":\"#636efa\",\"size\":[200.0],\"sizemode\":\"area\",\"sizeref\":0.16,\"symbol\":\"circle\"},\"mode\":\"markers\",\"name\":\"United States\",\"orientation\":\"v\",\"showlegend\":true,\"x\":[2.270095],\"xaxis\":\"x\",\"y\":[1.150833],\"yaxis\":\"y\",\"type\":\"scatter\"},{\"hovertemplate\":\"\\u003cb\\u003e%{hovertext}\\u003c\\u002fb\\u003e\\u003cbr\\u003e\\u003cbr\\u003eRegion=South Africa\\u003cbr\\u003eTIME=2003\\u003cbr\\u003eInflation Rate=%{x}\\u003cbr\\u003eNominal Interest Rate (3m T-Bill)=%{y}\\u003cbr\\u003esize=%{marker.size}\\u003cextra\\u003e\\u003c\\u002fextra\\u003e\",\"hovertext\":[\"South Africa\"],\"ids\":[\"ZAF\"],\"legendgroup\":\"South Africa\",\"marker\":{\"color\":\"#EF553B\",\"size\":[400.0],\"sizemode\":\"area\",\"sizeref\":0.16,\"symbol\":\"circle\"},\"mode\":\"markers\",\"name\":\"South Africa\",\"orientation\":\"v\",\"showlegend\":true,\"x\":[5.679419],\"xaxis\":\"x\",\"y\":[10.66587],\"yaxis\":\"y\",\"type\":\"scatter\"},{\"hovertemplate\":\"\\u003cb\\u003e%{hovertext}\\u003c\\u002fb\\u003e\\u003cbr\\u003e\\u003cbr\\u003eRegion=G7_ex US\\u003cbr\\u003eTIME=2003\\u003cbr\\u003eInflation Rate=%{x}\\u003cbr\\u003eNominal Interest Rate (3m T-Bill)=%{y}\\u003cbr\\u003esize=%{marker.size}\\u003cextra\\u003e\\u003c\\u002fextra\\u003e\",\"hovertext\":[\"Italy\",\"Germany\",\"Japan\",\"Canada\",\"United Kingdom\",\"France\"],\"ids\":[\"ITA\",\"DEU\",\"JPN\",\"CAN\",\"GBR\",\"FRA\"],\"legendgroup\":\"G7_ex US\",\"marker\":{\"color\":\"#00cc96\",\"size\":[50.0,50.0,50.0,50.0,50.0,50.0],\"sizemode\":\"area\",\"sizeref\":0.16,\"symbol\":\"circle\"},\"mode\":\"markers\",\"name\":\"G7_ex US\",\"orientation\":\"v\",\"showlegend\":true,\"x\":[2.672559,1.034223,-0.25,2.758563,1.4,2.098472],\"xaxis\":\"x\",\"y\":[2.333467,2.333467,0.08833333,2.964421,3.735161,2.333467],\"yaxis\":\"y\",\"type\":\"scatter\"},{\"hovertemplate\":\"\\u003cb\\u003e%{hovertext}\\u003c\\u002fb\\u003e\\u003cbr\\u003e\\u003cbr\\u003eRegion=EM_Peer\\u003cbr\\u003eTIME=2003\\u003cbr\\u003eInflation Rate=%{x}\\u003cbr\\u003eNominal Interest Rate (3m T-Bill)=%{y}\\u003cbr\\u003esize=%{marker.size}\\u003cextra\\u003e\\u003c\\u002fextra\\u003e\",\"hovertext\":[\"Chile\",\"Indonesia\",\"Colombia\",\"Hungary\",\"Mexico\",\"India\"],\"ids\":[\"CHL\",\"IDN\",\"COL\",\"HUN\",\"MEX\",\"IND\"],\"legendgroup\":\"EM_Peer\",\"marker\":{\"color\":\"#ab63fa\",\"size\":[100.0,100.0,100.0,100.0,100.0,100.0],\"sizemode\":\"area\",\"sizeref\":0.16,\"symbol\":\"circle\"},\"mode\":\"markers\",\"name\":\"EM_Peer\",\"orientation\":\"v\",\"showlegend\":true,\"x\":[2.810177,6.757316,7.129788,4.661017,4.546898,-100.0],\"xaxis\":\"x\",\"y\":[2.7675,10.59,7.803333,8.485833,7.164166,-100.0],\"yaxis\":\"y\",\"type\":\"scatter\"},{\"hovertemplate\":\"\\u003cb\\u003e%{hovertext}\\u003c\\u002fb\\u003e\\u003cbr\\u003e\\u003cbr\\u003eRegion=EM_Other\\u003cbr\\u003eTIME=2003\\u003cbr\\u003eInflation Rate=%{x}\\u003cbr\\u003eNominal Interest Rate (3m T-Bill)=%{y}\\u003cbr\\u003esize=%{marker.size}\\u003cextra\\u003e\\u003c\\u002fextra\\u003e\",\"hovertext\":[\"Russia\",\"Slovak Republic\",\"Slovenia\",\"Latvia\",\"Lithuania\",\"China\",\"Greece\",\"Iceland\",\"Ireland\",\"Czech Republic\",\"Estonia\",\"Costa Rica\"],\"ids\":[\"RUS\",\"SVK\",\"SVN\",\"LVA\",\"LTU\",\"CHN\",\"GRC\",\"ISL\",\"IRL\",\"CZE\",\"EST\",\"CRI\"],\"legendgroup\":\"EM_Other\",\"marker\":{\"color\":\"#FFA15A\",\"size\":[50.0,50.0,50.0,50.0,50.0,50.0,50.0,50.0,50.0,50.0,50.0,50.0],\"sizemode\":\"area\",\"sizeref\":0.16,\"symbol\":\"circle\"},\"mode\":\"markers\",\"name\":\"EM_Other\",\"orientation\":\"v\",\"showlegend\":true,\"x\":[13.66329,8.554143,5.544164,2.942643,-1.134309,1.2,3.530651,2.055662,3.49049,0.1187392,1.334991,-100.0],\"xaxis\":\"x\",\"y\":[8.125,5.89,6.781667,3.835,2.840528,2.618333,2.333467,5.349916,2.333467,2.275833,2.9125,-100.0],\"yaxis\":\"y\",\"type\":\"scatter\"},{\"hovertemplate\":\"\\u003cb\\u003e%{hovertext}\\u003c\\u002fb\\u003e\\u003cbr\\u003e\\u003cbr\\u003eRegion=DM_Other\\u003cbr\\u003eTIME=2003\\u003cbr\\u003eInflation Rate=%{x}\\u003cbr\\u003eNominal Interest Rate (3m T-Bill)=%{y}\\u003cbr\\u003esize=%{marker.size}\\u003cextra\\u003e\\u003c\\u002fextra\\u003e\",\"hovertext\":[\"Australia\",\"Israel\",\"New Zealand\",\"Poland\",\"South Korea\",\"Norway\"],\"ids\":[\"AUS\",\"ISR\",\"NZL\",\"POL\",\"KOR\",\"NOR\"],\"legendgroup\":\"DM_Other\",\"marker\":{\"color\":\"#19d3f3\",\"size\":[50.0,50.0,50.0,50.0,50.0,50.0],\"sizemode\":\"area\",\"sizeref\":0.16,\"symbol\":\"circle\"},\"mode\":\"markers\",\"name\":\"DM_Other\",\"orientation\":\"v\",\"showlegend\":true,\"x\":[2.732596,0.7027561,1.753576,0.8416666,3.514874,2.487826],\"xaxis\":\"x\",\"y\":[4.895833,6.611959,5.423333,5.688334,4.305833,4.098333],\"yaxis\":\"y\",\"type\":\"scatter\"},{\"hovertemplate\":\"\\u003cb\\u003e%{hovertext}\\u003c\\u002fb\\u003e\\u003cbr\\u003e\\u003cbr\\u003eRegion=DM_Europe\\u003cbr\\u003eTIME=2003\\u003cbr\\u003eInflation Rate=%{x}\\u003cbr\\u003eNominal Interest Rate (3m T-Bill)=%{y}\\u003cbr\\u003esize=%{marker.size}\\u003cextra\\u003e\\u003c\\u002fextra\\u003e\",\"hovertext\":[\"Finland\",\"Spain\",\"Belgium\",\"Portugal\",\"Austria\",\"Luxembourg\",\"Sweden\",\"Denmark\",\"Switzerland\",\"Netherlands\"],\"ids\":[\"FIN\",\"ESP\",\"BEL\",\"PRT\",\"AUT\",\"LUX\",\"SWE\",\"DNK\",\"CHE\",\"NLD\"],\"legendgroup\":\"DM_Europe\",\"marker\":{\"color\":\"#FF6692\",\"size\":[50.0,50.0,50.0,50.0,50.0,50.0,50.0,50.0,50.0,50.0],\"sizemode\":\"area\",\"sizeref\":0.16,\"symbol\":\"circle\"},\"mode\":\"markers\",\"name\":\"DM_Europe\",\"orientation\":\"v\",\"showlegend\":true,\"x\":[0.8774385,3.038888,1.588964,3.218991,1.355554,2.04984,1.925655,2.075078,0.6382729,2.091998],\"xaxis\":\"x\",\"y\":[2.333467,2.333467,2.333467,2.333467,2.333467,2.333467,3.026667,2.423354,0.2079853,2.333467],\"yaxis\":\"y\",\"type\":\"scatter\"}],\"name\":\"2003\",\"layout\":{\"title\":{\"text\":\"2003 : Global markets rebound, only to crash once more\"}}},{\"data\":[{\"hovertemplate\":\"\\u003cb\\u003e%{hovertext}\\u003c\\u002fb\\u003e\\u003cbr\\u003e\\u003cbr\\u003eRegion=United States\\u003cbr\\u003eTIME=2004\\u003cbr\\u003eInflation Rate=%{x}\\u003cbr\\u003eNominal Interest Rate (3m T-Bill)=%{y}\\u003cbr\\u003esize=%{marker.size}\\u003cextra\\u003e\\u003c\\u002fextra\\u003e\",\"hovertext\":[\"United States\"],\"ids\":[\"USA\"],\"legendgroup\":\"United States\",\"marker\":{\"color\":\"#636efa\",\"size\":[200.0],\"sizemode\":\"area\",\"sizeref\":0.16,\"symbol\":\"circle\"},\"mode\":\"markers\",\"name\":\"United States\",\"orientation\":\"v\",\"showlegend\":true,\"x\":[2.677237],\"xaxis\":\"x\",\"y\":[1.563333],\"yaxis\":\"y\",\"type\":\"scatter\"},{\"hovertemplate\":\"\\u003cb\\u003e%{hovertext}\\u003c\\u002fb\\u003e\\u003cbr\\u003e\\u003cbr\\u003eRegion=South Africa\\u003cbr\\u003eTIME=2004\\u003cbr\\u003eInflation Rate=%{x}\\u003cbr\\u003eNominal Interest Rate (3m T-Bill)=%{y}\\u003cbr\\u003esize=%{marker.size}\\u003cextra\\u003e\\u003c\\u002fextra\\u003e\",\"hovertext\":[\"South Africa\"],\"ids\":[\"ZAF\"],\"legendgroup\":\"South Africa\",\"marker\":{\"color\":\"#EF553B\",\"size\":[400.0],\"sizemode\":\"area\",\"sizeref\":0.16,\"symbol\":\"circle\"},\"mode\":\"markers\",\"name\":\"South Africa\",\"orientation\":\"v\",\"showlegend\":true,\"x\":[-0.692031],\"xaxis\":\"x\",\"y\":[7.533075],\"yaxis\":\"y\",\"type\":\"scatter\"},{\"hovertemplate\":\"\\u003cb\\u003e%{hovertext}\\u003c\\u002fb\\u003e\\u003cbr\\u003e\\u003cbr\\u003eRegion=G7_ex US\\u003cbr\\u003eTIME=2004\\u003cbr\\u003eInflation Rate=%{x}\\u003cbr\\u003eNominal Interest Rate (3m T-Bill)=%{y}\\u003cbr\\u003esize=%{marker.size}\\u003cextra\\u003e\\u003c\\u002fextra\\u003e\",\"hovertext\":[\"France\",\"Italy\",\"United Kingdom\",\"Japan\",\"Canada\",\"Germany\"],\"ids\":[\"FRA\",\"ITA\",\"GBR\",\"JPN\",\"CAN\",\"DEU\"],\"legendgroup\":\"G7_ex US\",\"marker\":{\"color\":\"#00cc96\",\"size\":[50.0,50.0,50.0,50.0,50.0,50.0],\"sizemode\":\"area\",\"sizeref\":0.16,\"symbol\":\"circle\"},\"mode\":\"markers\",\"name\":\"G7_ex US\",\"orientation\":\"v\",\"showlegend\":true,\"x\":[2.14209,2.206736,1.4,-0.008333334,1.857259,1.665736],\"xaxis\":\"x\",\"y\":[2.106325,2.106325,4.637821,0.08833333,2.311883,2.106325],\"yaxis\":\"y\",\"type\":\"scatter\"},{\"hovertemplate\":\"\\u003cb\\u003e%{hovertext}\\u003c\\u002fb\\u003e\\u003cbr\\u003e\\u003cbr\\u003eRegion=EM_Peer\\u003cbr\\u003eTIME=2004\\u003cbr\\u003eInflation Rate=%{x}\\u003cbr\\u003eNominal Interest Rate (3m T-Bill)=%{y}\\u003cbr\\u003esize=%{marker.size}\\u003cextra\\u003e\\u003c\\u002fextra\\u003e\",\"hovertext\":[\"Colombia\",\"Indonesia\",\"Mexico\",\"Chile\",\"Hungary\",\"India\"],\"ids\":[\"COL\",\"IDN\",\"MEX\",\"CHL\",\"HUN\",\"IND\"],\"legendgroup\":\"EM_Peer\",\"marker\":{\"color\":\"#ab63fa\",\"size\":[100.0,100.0,100.0,100.0,100.0,100.0],\"sizemode\":\"area\",\"sizeref\":0.16,\"symbol\":\"circle\"},\"mode\":\"markers\",\"name\":\"EM_Peer\",\"orientation\":\"v\",\"showlegend\":true,\"x\":[5.904022,6.06406,4.688407,1.054739,-100.0,-100.0],\"xaxis\":\"x\",\"y\":[7.798333,6.443333,7.4425,1.83,-100.0,-100.0],\"yaxis\":\"y\",\"type\":\"scatter\"},{\"hovertemplate\":\"\\u003cb\\u003e%{hovertext}\\u003c\\u002fb\\u003e\\u003cbr\\u003e\\u003cbr\\u003eRegion=EM_Other\\u003cbr\\u003eTIME=2004\\u003cbr\\u003eInflation Rate=%{x}\\u003cbr\\u003eNominal Interest Rate (3m T-Bill)=%{y}\\u003cbr\\u003esize=%{marker.size}\\u003cextra\\u003e\\u003c\\u002fextra\\u003e\",\"hovertext\":[\"Latvia\",\"Greece\",\"Czech Republic\",\"Slovak Republic\",\"Ireland\",\"Lithuania\",\"Estonia\",\"China\",\"Russia\",\"Slovenia\",\"Iceland\",\"Costa Rica\"],\"ids\":[\"LVA\",\"GRC\",\"CZE\",\"SVK\",\"IRL\",\"LTU\",\"EST\",\"CHN\",\"RUS\",\"SVN\",\"ISL\",\"CRI\"],\"legendgroup\":\"EM_Other\",\"marker\":{\"color\":\"#FFA15A\",\"size\":[50.0,50.0,50.0,50.0,50.0,50.0,50.0,50.0,50.0,50.0,50.0,50.0],\"sizemode\":\"area\",\"sizeref\":0.16,\"symbol\":\"circle\"},\"mode\":\"markers\",\"name\":\"EM_Other\",\"orientation\":\"v\",\"showlegend\":true,\"x\":[6.192384,2.898848,2.760108,7.548501,2.199629,1.164103,3.048111,3.9,10.88861,3.592976,3.158195,-100.0],\"xaxis\":\"x\",\"y\":[4.231875,2.106325,2.361667,4.384167,2.106325,2.681834,2.495833,2.7925,7.105,4.663333,6.288417,-100.0],\"yaxis\":\"y\",\"type\":\"scatter\"},{\"hovertemplate\":\"\\u003cb\\u003e%{hovertext}\\u003c\\u002fb\\u003e\\u003cbr\\u003e\\u003cbr\\u003eRegion=DM_Other\\u003cbr\\u003eTIME=2004\\u003cbr\\u003eInflation Rate=%{x}\\u003cbr\\u003eNominal Interest Rate (3m T-Bill)=%{y}\\u003cbr\\u003esize=%{marker.size}\\u003cextra\\u003e\\u003c\\u002fextra\\u003e\",\"hovertext\":[\"Norway\",\"Poland\",\"New Zealand\",\"South Korea\",\"Israel\",\"Australia\"],\"ids\":[\"NOR\",\"POL\",\"NZL\",\"KOR\",\"ISR\",\"AUS\"],\"legendgroup\":\"DM_Other\",\"marker\":{\"color\":\"#19d3f3\",\"size\":[50.0,50.0,50.0,50.0,50.0,50.0],\"sizemode\":\"area\",\"sizeref\":0.16,\"symbol\":\"circle\"},\"mode\":\"markers\",\"name\":\"DM_Other\",\"orientation\":\"v\",\"showlegend\":true,\"x\":[0.4544985,3.491667,2.290249,3.590663,-0.3816378,2.343255],\"xaxis\":\"x\",\"y\":[2.006667,6.243333,6.129167,3.7875,4.26229,5.478333],\"yaxis\":\"y\",\"type\":\"scatter\"},{\"hovertemplate\":\"\\u003cb\\u003e%{hovertext}\\u003c\\u002fb\\u003e\\u003cbr\\u003e\\u003cbr\\u003eRegion=DM_Europe\\u003cbr\\u003eTIME=2004\\u003cbr\\u003eInflation Rate=%{x}\\u003cbr\\u003eNominal Interest Rate (3m T-Bill)=%{y}\\u003cbr\\u003esize=%{marker.size}\\u003cextra\\u003e\\u003c\\u002fextra\\u003e\",\"hovertext\":[\"Denmark\",\"Belgium\",\"Portugal\",\"Sweden\",\"Netherlands\",\"Finland\",\"Austria\",\"Spain\",\"Luxembourg\",\"Switzerland\"],\"ids\":[\"DNK\",\"BEL\",\"PRT\",\"SWE\",\"NLD\",\"FIN\",\"AUT\",\"ESP\",\"LUX\",\"CHE\"],\"legendgroup\":\"DM_Europe\",\"marker\":{\"color\":\"#FF6692\",\"size\":[50.0,50.0,50.0,50.0,50.0,50.0,50.0,50.0,50.0,50.0],\"sizemode\":\"area\",\"sizeref\":0.16,\"symbol\":\"circle\"},\"mode\":\"markers\",\"name\":\"DM_Europe\",\"orientation\":\"v\",\"showlegend\":true,\"x\":[1.154357,2.097283,2.365362,0.3736598,1.263647,0.1871234,2.061207,3.039249,2.225681,0.8029087],\"xaxis\":\"x\",\"y\":[2.195047,2.106325,2.106325,2.114167,2.106325,2.106325,2.106325,2.106325,2.106325,0.3918192],\"yaxis\":\"y\",\"type\":\"scatter\"}],\"name\":\"2004\",\"layout\":{\"title\":{\"text\":\"2004 : South African Rand strengthens -  inflation rate hits lowest point in democratic era\"}}},{\"data\":[{\"hovertemplate\":\"\\u003cb\\u003e%{hovertext}\\u003c\\u002fb\\u003e\\u003cbr\\u003e\\u003cbr\\u003eRegion=United States\\u003cbr\\u003eTIME=2005\\u003cbr\\u003eInflation Rate=%{x}\\u003cbr\\u003eNominal Interest Rate (3m T-Bill)=%{y}\\u003cbr\\u003esize=%{marker.size}\\u003cextra\\u003e\\u003c\\u002fextra\\u003e\",\"hovertext\":[\"United States\"],\"ids\":[\"USA\"],\"legendgroup\":\"United States\",\"marker\":{\"color\":\"#636efa\",\"size\":[200.0],\"sizemode\":\"area\",\"sizeref\":0.16,\"symbol\":\"circle\"},\"mode\":\"markers\",\"name\":\"United States\",\"orientation\":\"v\",\"showlegend\":true,\"x\":[3.392747],\"xaxis\":\"x\",\"y\":[3.511667],\"yaxis\":\"y\",\"type\":\"scatter\"},{\"hovertemplate\":\"\\u003cb\\u003e%{hovertext}\\u003c\\u002fb\\u003e\\u003cbr\\u003e\\u003cbr\\u003eRegion=South Africa\\u003cbr\\u003eTIME=2005\\u003cbr\\u003eInflation Rate=%{x}\\u003cbr\\u003eNominal Interest Rate (3m T-Bill)=%{y}\\u003cbr\\u003esize=%{marker.size}\\u003cextra\\u003e\\u003c\\u002fextra\\u003e\",\"hovertext\":[\"South Africa\"],\"ids\":[\"ZAF\"],\"legendgroup\":\"South Africa\",\"marker\":{\"color\":\"#EF553B\",\"size\":[400.0],\"sizemode\":\"area\",\"sizeref\":0.16,\"symbol\":\"circle\"},\"mode\":\"markers\",\"name\":\"South Africa\",\"orientation\":\"v\",\"showlegend\":true,\"x\":[2.06285],\"xaxis\":\"x\",\"y\":[6.905032],\"yaxis\":\"y\",\"type\":\"scatter\"},{\"hovertemplate\":\"\\u003cb\\u003e%{hovertext}\\u003c\\u002fb\\u003e\\u003cbr\\u003e\\u003cbr\\u003eRegion=G7_ex US\\u003cbr\\u003eTIME=2005\\u003cbr\\u003eInflation Rate=%{x}\\u003cbr\\u003eNominal Interest Rate (3m T-Bill)=%{y}\\u003cbr\\u003esize=%{marker.size}\\u003cextra\\u003e\\u003c\\u002fextra\\u003e\",\"hovertext\":[\"Germany\",\"United Kingdom\",\"Italy\",\"Japan\",\"Canada\",\"France\"],\"ids\":[\"DEU\",\"GBR\",\"ITA\",\"JPN\",\"CAN\",\"FRA\"],\"legendgroup\":\"G7_ex US\",\"marker\":{\"color\":\"#00cc96\",\"size\":[50.0,50.0,50.0,50.0,50.0,50.0],\"sizemode\":\"area\",\"sizeref\":0.16,\"symbol\":\"circle\"},\"mode\":\"markers\",\"name\":\"G7_ex US\",\"orientation\":\"v\",\"showlegend\":true,\"x\":[1.546911,2.1,1.985294,-0.2833333,2.213552,1.745869],\"xaxis\":\"x\",\"y\":[2.184675,4.760168,2.184675,0.09,2.806772,2.184675],\"yaxis\":\"y\",\"type\":\"scatter\"},{\"hovertemplate\":\"\\u003cb\\u003e%{hovertext}\\u003c\\u002fb\\u003e\\u003cbr\\u003e\\u003cbr\\u003eRegion=EM_Peer\\u003cbr\\u003eTIME=2005\\u003cbr\\u003eInflation Rate=%{x}\\u003cbr\\u003eNominal Interest Rate (3m T-Bill)=%{y}\\u003cbr\\u003esize=%{marker.size}\\u003cextra\\u003e\\u003c\\u002fextra\\u003e\",\"hovertext\":[\"Colombia\",\"Chile\",\"Mexico\",\"Indonesia\",\"Hungary\",\"India\"],\"ids\":[\"COL\",\"CHL\",\"MEX\",\"IDN\",\"HUN\",\"IND\"],\"legendgroup\":\"EM_Peer\",\"marker\":{\"color\":\"#ab63fa\",\"size\":[100.0,100.0,100.0,100.0,100.0,100.0],\"sizemode\":\"area\",\"sizeref\":0.16,\"symbol\":\"circle\"},\"mode\":\"markers\",\"name\":\"EM_Peer\",\"orientation\":\"v\",\"showlegend\":true,\"x\":[5.051016,3.052574,3.988061,10.4532,-100.0,-100.0],\"xaxis\":\"x\",\"y\":[7.014167,3.530833,9.631667,8.079166,-100.0,-100.0],\"yaxis\":\"y\",\"type\":\"scatter\"},{\"hovertemplate\":\"\\u003cb\\u003e%{hovertext}\\u003c\\u002fb\\u003e\\u003cbr\\u003e\\u003cbr\\u003eRegion=EM_Other\\u003cbr\\u003eTIME=2005\\u003cbr\\u003eInflation Rate=%{x}\\u003cbr\\u003eNominal Interest Rate (3m T-Bill)=%{y}\\u003cbr\\u003esize=%{marker.size}\\u003cextra\\u003e\\u003c\\u002fextra\\u003e\",\"hovertext\":[\"Ireland\",\"Greece\",\"Russia\",\"Latvia\",\"Slovenia\",\"Czech Republic\",\"China\",\"Estonia\",\"Lithuania\",\"Iceland\",\"Slovak Republic\",\"Costa Rica\"],\"ids\":[\"IRL\",\"GRC\",\"RUS\",\"LVA\",\"SVN\",\"CZE\",\"CHN\",\"EST\",\"LTU\",\"ISL\",\"SVK\",\"CRI\"],\"legendgroup\":\"EM_Other\",\"marker\":{\"color\":\"#FFA15A\",\"size\":[50.0,50.0,50.0,50.0,50.0,50.0,50.0,50.0,50.0,50.0,50.0,50.0],\"sizemode\":\"area\",\"sizeref\":0.16,\"symbol\":\"circle\"},\"mode\":\"markers\",\"name\":\"EM_Other\",\"orientation\":\"v\",\"showlegend\":true,\"x\":[2.429692,3.545073,12.68531,6.748452,2.451501,1.857098,1.8,4.079714,2.658485,3.987048,2.709085,-100.0],\"xaxis\":\"x\",\"y\":[2.184675,2.184675,5.8375,3.0725,4.034167,2.009167,1.8575,2.378333,2.428321,9.35875,2.643333,-100.0],\"yaxis\":\"y\",\"type\":\"scatter\"},{\"hovertemplate\":\"\\u003cb\\u003e%{hovertext}\\u003c\\u002fb\\u003e\\u003cbr\\u003e\\u003cbr\\u003eRegion=DM_Other\\u003cbr\\u003eTIME=2005\\u003cbr\\u003eInflation Rate=%{x}\\u003cbr\\u003eNominal Interest Rate (3m T-Bill)=%{y}\\u003cbr\\u003esize=%{marker.size}\\u003cextra\\u003e\\u003c\\u002fextra\\u003e\",\"hovertext\":[\"South Korea\",\"Poland\",\"Israel\",\"New Zealand\",\"Norway\",\"Australia\"],\"ids\":[\"KOR\",\"POL\",\"ISR\",\"NZL\",\"NOR\",\"AUS\"],\"legendgroup\":\"DM_Other\",\"marker\":{\"color\":\"#19d3f3\",\"size\":[50.0,50.0,50.0,50.0,50.0,50.0],\"sizemode\":\"area\",\"sizeref\":0.16,\"symbol\":\"circle\"},\"mode\":\"markers\",\"name\":\"DM_Other\",\"orientation\":\"v\",\"showlegend\":true,\"x\":[2.753792,2.133333,1.313485,3.037021,1.532134,2.691832],\"xaxis\":\"x\",\"y\":[3.649167,5.198333,3.88125,7.111667,2.211667,5.644166],\"yaxis\":\"y\",\"type\":\"scatter\"},{\"hovertemplate\":\"\\u003cb\\u003e%{hovertext}\\u003c\\u002fb\\u003e\\u003cbr\\u003e\\u003cbr\\u003eRegion=DM_Europe\\u003cbr\\u003eTIME=2005\\u003cbr\\u003eInflation Rate=%{x}\\u003cbr\\u003eNominal Interest Rate (3m T-Bill)=%{y}\\u003cbr\\u003esize=%{marker.size}\\u003cextra\\u003e\\u003c\\u002fextra\\u003e\",\"hovertext\":[\"Sweden\",\"Denmark\",\"Finland\",\"Netherlands\",\"Luxembourg\",\"Austria\",\"Belgium\",\"Spain\",\"Switzerland\",\"Portugal\"],\"ids\":[\"SWE\",\"DNK\",\"FIN\",\"NLD\",\"LUX\",\"AUT\",\"BEL\",\"ESP\",\"CHE\",\"PRT\"],\"legendgroup\":\"DM_Europe\",\"marker\":{\"color\":\"#FF6692\",\"size\":[50.0,50.0,50.0,50.0,50.0,50.0,50.0,50.0,50.0,50.0],\"sizemode\":\"area\",\"sizeref\":0.16,\"symbol\":\"circle\"},\"mode\":\"markers\",\"name\":\"DM_Europe\",\"orientation\":\"v\",\"showlegend\":true,\"x\":[0.4531709,1.817815,0.6238712,1.68813,2.487693,2.299138,2.781433,3.368814,1.171954,2.277164],\"xaxis\":\"x\",\"y\":[1.716667,2.224245,2.184675,2.184675,2.184675,2.184675,2.184675,2.184675,0.7244314,2.184675],\"yaxis\":\"y\",\"type\":\"scatter\"}],\"name\":\"2005\",\"layout\":{\"title\":{\"text\":\"2005 : Geopolitical uncertainties cause oil prices to rise - global inflation rises\"}}},{\"data\":[{\"hovertemplate\":\"\\u003cb\\u003e%{hovertext}\\u003c\\u002fb\\u003e\\u003cbr\\u003e\\u003cbr\\u003eRegion=United States\\u003cbr\\u003eTIME=2006\\u003cbr\\u003eInflation Rate=%{x}\\u003cbr\\u003eNominal Interest Rate (3m T-Bill)=%{y}\\u003cbr\\u003esize=%{marker.size}\\u003cextra\\u003e\\u003c\\u002fextra\\u003e\",\"hovertext\":[\"United States\"],\"ids\":[\"USA\"],\"legendgroup\":\"United States\",\"marker\":{\"color\":\"#636efa\",\"size\":[200.0],\"sizemode\":\"area\",\"sizeref\":0.16,\"symbol\":\"circle\"},\"mode\":\"markers\",\"name\":\"United States\",\"orientation\":\"v\",\"showlegend\":true,\"x\":[3.225944],\"xaxis\":\"x\",\"y\":[5.153333],\"yaxis\":\"y\",\"type\":\"scatter\"},{\"hovertemplate\":\"\\u003cb\\u003e%{hovertext}\\u003c\\u002fb\\u003e\\u003cbr\\u003e\\u003cbr\\u003eRegion=South Africa\\u003cbr\\u003eTIME=2006\\u003cbr\\u003eInflation Rate=%{x}\\u003cbr\\u003eNominal Interest Rate (3m T-Bill)=%{y}\\u003cbr\\u003esize=%{marker.size}\\u003cextra\\u003e\\u003c\\u002fextra\\u003e\",\"hovertext\":[\"South Africa\"],\"ids\":[\"ZAF\"],\"legendgroup\":\"South Africa\",\"marker\":{\"color\":\"#EF553B\",\"size\":[400.0],\"sizemode\":\"area\",\"sizeref\":0.16,\"symbol\":\"circle\"},\"mode\":\"markers\",\"name\":\"South Africa\",\"orientation\":\"v\",\"showlegend\":true,\"x\":[3.243906],\"xaxis\":\"x\",\"y\":[7.338825],\"yaxis\":\"y\",\"type\":\"scatter\"},{\"hovertemplate\":\"\\u003cb\\u003e%{hovertext}\\u003c\\u002fb\\u003e\\u003cbr\\u003e\\u003cbr\\u003eRegion=G7_ex US\\u003cbr\\u003eTIME=2006\\u003cbr\\u003eInflation Rate=%{x}\\u003cbr\\u003eNominal Interest Rate (3m T-Bill)=%{y}\\u003cbr\\u003esize=%{marker.size}\\u003cextra\\u003e\\u003c\\u002fextra\\u003e\",\"hovertext\":[\"Japan\",\"United Kingdom\",\"Italy\",\"Germany\",\"Canada\",\"France\"],\"ids\":[\"JPN\",\"GBR\",\"ITA\",\"DEU\",\"CAN\",\"FRA\"],\"legendgroup\":\"G7_ex US\",\"marker\":{\"color\":\"#00cc96\",\"size\":[50.0,50.0,50.0,50.0,50.0,50.0],\"sizemode\":\"area\",\"sizeref\":0.16,\"symbol\":\"circle\"},\"mode\":\"markers\",\"name\":\"G7_ex US\",\"orientation\":\"v\",\"showlegend\":true,\"x\":[0.2416667,2.5,2.090843,1.577429,2.002025,1.675125],\"xaxis\":\"x\",\"y\":[0.324675,4.849209,3.079225,3.079225,4.177135,3.079225],\"yaxis\":\"y\",\"type\":\"scatter\"},{\"hovertemplate\":\"\\u003cb\\u003e%{hovertext}\\u003c\\u002fb\\u003e\\u003cbr\\u003e\\u003cbr\\u003eRegion=EM_Peer\\u003cbr\\u003eTIME=2006\\u003cbr\\u003eInflation Rate=%{x}\\u003cbr\\u003eNominal Interest Rate (3m T-Bill)=%{y}\\u003cbr\\u003esize=%{marker.size}\\u003cextra\\u003e\\u003c\\u002fextra\\u003e\",\"hovertext\":[\"Chile\",\"Indonesia\",\"Mexico\",\"Colombia\",\"Hungary\",\"India\"],\"ids\":[\"CHL\",\"IDN\",\"MEX\",\"COL\",\"HUN\",\"IND\"],\"legendgroup\":\"EM_Peer\",\"marker\":{\"color\":\"#ab63fa\",\"size\":[100.0,100.0,100.0,100.0,100.0,100.0],\"sizemode\":\"area\",\"sizeref\":0.16,\"symbol\":\"circle\"},\"mode\":\"markers\",\"name\":\"EM_Peer\",\"orientation\":\"v\",\"showlegend\":true,\"x\":[3.392019,13.10867,3.629463,4.293426,-100.0,-100.0],\"xaxis\":\"x\",\"y\":[4.825833,11.41083,7.69,6.274167,-100.0,-100.0],\"yaxis\":\"y\",\"type\":\"scatter\"},{\"hovertemplate\":\"\\u003cb\\u003e%{hovertext}\\u003c\\u002fb\\u003e\\u003cbr\\u003e\\u003cbr\\u003eRegion=EM_Other\\u003cbr\\u003eTIME=2006\\u003cbr\\u003eInflation Rate=%{x}\\u003cbr\\u003eNominal Interest Rate (3m T-Bill)=%{y}\\u003cbr\\u003esize=%{marker.size}\\u003cextra\\u003e\\u003c\\u002fextra\\u003e\",\"hovertext\":[\"Lithuania\",\"Latvia\",\"Iceland\",\"China\",\"Slovenia\",\"Estonia\",\"Slovak Republic\",\"Czech Republic\",\"Russia\",\"Greece\",\"Ireland\",\"Costa Rica\"],\"ids\":[\"LTU\",\"LVA\",\"ISL\",\"CHN\",\"SVN\",\"EST\",\"SVK\",\"CZE\",\"RUS\",\"GRC\",\"IRL\",\"CRI\"],\"legendgroup\":\"EM_Other\",\"marker\":{\"color\":\"#FFA15A\",\"size\":[50.0,50.0,50.0,50.0,50.0,50.0,50.0,50.0,50.0,50.0,50.0,50.0],\"sizemode\":\"area\",\"sizeref\":0.16,\"symbol\":\"circle\"},\"mode\":\"markers\",\"name\":\"EM_Other\",\"orientation\":\"v\",\"showlegend\":true,\"x\":[3.73912,6.536199,6.687074,1.5,2.457924,4.437621,4.483331,2.533993,9.668655,3.195946,3.93164,-100.0],\"xaxis\":\"x\",\"y\":[3.108458,4.371666,12.35417,2.536364,3.580833,3.160833,4.0825,2.3,6.035,3.079225,3.079225,-100.0],\"yaxis\":\"y\",\"type\":\"scatter\"},{\"hovertemplate\":\"\\u003cb\\u003e%{hovertext}\\u003c\\u002fb\\u003e\\u003cbr\\u003e\\u003cbr\\u003eRegion=DM_Other\\u003cbr\\u003eTIME=2006\\u003cbr\\u003eInflation Rate=%{x}\\u003cbr\\u003eNominal Interest Rate (3m T-Bill)=%{y}\\u003cbr\\u003esize=%{marker.size}\\u003cextra\\u003e\\u003c\\u002fextra\\u003e\",\"hovertext\":[\"Norway\",\"Israel\",\"New Zealand\",\"Australia\",\"Poland\",\"South Korea\"],\"ids\":[\"NOR\",\"ISR\",\"NZL\",\"AUS\",\"POL\",\"KOR\"],\"legendgroup\":\"DM_Other\",\"marker\":{\"color\":\"#19d3f3\",\"size\":[50.0,50.0,50.0,50.0,50.0,50.0],\"sizemode\":\"area\",\"sizeref\":0.16,\"symbol\":\"circle\"},\"mode\":\"markers\",\"name\":\"DM_Other\",\"orientation\":\"v\",\"showlegend\":true,\"x\":[2.32935,2.063526,3.365404,3.555288,1.033333,2.24234],\"xaxis\":\"x\",\"y\":[3.099167,5.462432,7.545833,5.988333,4.200833,4.475833],\"yaxis\":\"y\",\"type\":\"scatter\"},{\"hovertemplate\":\"\\u003cb\\u003e%{hovertext}\\u003c\\u002fb\\u003e\\u003cbr\\u003e\\u003cbr\\u003eRegion=DM_Europe\\u003cbr\\u003eTIME=2006\\u003cbr\\u003eInflation Rate=%{x}\\u003cbr\\u003eNominal Interest Rate (3m T-Bill)=%{y}\\u003cbr\\u003esize=%{marker.size}\\u003cextra\\u003e\\u003c\\u002fextra\\u003e\",\"hovertext\":[\"Denmark\",\"Finland\",\"Belgium\",\"Netherlands\",\"Switzerland\",\"Luxembourg\",\"Spain\",\"Austria\",\"Portugal\",\"Sweden\"],\"ids\":[\"DNK\",\"FIN\",\"BEL\",\"NLD\",\"CHE\",\"LUX\",\"ESP\",\"AUT\",\"PRT\",\"SWE\"],\"legendgroup\":\"DM_Europe\",\"marker\":{\"color\":\"#FF6692\",\"size\":[50.0,50.0,50.0,50.0,50.0,50.0,50.0,50.0,50.0,50.0],\"sizemode\":\"area\",\"sizeref\":0.16,\"symbol\":\"circle\"},\"mode\":\"markers\",\"name\":\"DM_Europe\",\"orientation\":\"v\",\"showlegend\":true,\"x\":[1.924221,1.566667,1.791208,1.101501,1.059509,2.666315,3.515576,1.441547,3.107666,1.360215],\"xaxis\":\"x\",\"y\":[3.180477,3.079225,3.079225,3.079225,1.456766,3.079225,3.079225,3.079225,3.079225,2.331667],\"yaxis\":\"y\",\"type\":\"scatter\"}],\"name\":\"2006\",\"layout\":{\"title\":{\"text\":\"2006 : Global growth moderates, with the US economy being the main engine for economic growth\"}}},{\"data\":[{\"hovertemplate\":\"\\u003cb\\u003e%{hovertext}\\u003c\\u002fb\\u003e\\u003cbr\\u003e\\u003cbr\\u003eRegion=United States\\u003cbr\\u003eTIME=2007\\u003cbr\\u003eInflation Rate=%{x}\\u003cbr\\u003eNominal Interest Rate (3m T-Bill)=%{y}\\u003cbr\\u003esize=%{marker.size}\\u003cextra\\u003e\\u003c\\u002fextra\\u003e\",\"hovertext\":[\"United States\"],\"ids\":[\"USA\"],\"legendgroup\":\"United States\",\"marker\":{\"color\":\"#636efa\",\"size\":[200.0],\"sizemode\":\"area\",\"sizeref\":0.16,\"symbol\":\"circle\"},\"mode\":\"markers\",\"name\":\"United States\",\"orientation\":\"v\",\"showlegend\":true,\"x\":[2.852673],\"xaxis\":\"x\",\"y\":[5.268333],\"yaxis\":\"y\",\"type\":\"scatter\"},{\"hovertemplate\":\"\\u003cb\\u003e%{hovertext}\\u003c\\u002fb\\u003e\\u003cbr\\u003e\\u003cbr\\u003eRegion=South Africa\\u003cbr\\u003eTIME=2007\\u003cbr\\u003eInflation Rate=%{x}\\u003cbr\\u003eNominal Interest Rate (3m T-Bill)=%{y}\\u003cbr\\u003esize=%{marker.size}\\u003cextra\\u003e\\u003c\\u002fextra\\u003e\",\"hovertext\":[\"South Africa\"],\"ids\":[\"ZAF\"],\"legendgroup\":\"South Africa\",\"marker\":{\"color\":\"#EF553B\",\"size\":[400.0],\"sizemode\":\"area\",\"sizeref\":0.16,\"symbol\":\"circle\"},\"mode\":\"markers\",\"name\":\"South Africa\",\"orientation\":\"v\",\"showlegend\":true,\"x\":[6.177805],\"xaxis\":\"x\",\"y\":[9.113696],\"yaxis\":\"y\",\"type\":\"scatter\"},{\"hovertemplate\":\"\\u003cb\\u003e%{hovertext}\\u003c\\u002fb\\u003e\\u003cbr\\u003e\\u003cbr\\u003eRegion=G7_ex US\\u003cbr\\u003eTIME=2007\\u003cbr\\u003eInflation Rate=%{x}\\u003cbr\\u003eNominal Interest Rate (3m T-Bill)=%{y}\\u003cbr\\u003esize=%{marker.size}\\u003cextra\\u003e\\u003c\\u002fextra\\u003e\",\"hovertext\":[\"Italy\",\"Canada\",\"Japan\",\"Germany\",\"France\",\"United Kingdom\"],\"ids\":[\"ITA\",\"CAN\",\"JPN\",\"DEU\",\"FRA\",\"GBR\"],\"legendgroup\":\"G7_ex US\",\"marker\":{\"color\":\"#00cc96\",\"size\":[50.0,50.0,50.0,50.0,50.0,50.0],\"sizemode\":\"area\",\"sizeref\":0.16,\"symbol\":\"circle\"},\"mode\":\"markers\",\"name\":\"G7_ex US\",\"orientation\":\"v\",\"showlegend\":true,\"x\":[1.829738,2.138384,0.05833333,2.298341,1.487998,2.4],\"xaxis\":\"x\",\"y\":[4.277608,4.625115,0.7458333,4.277608,4.277608,6.002207],\"yaxis\":\"y\",\"type\":\"scatter\"},{\"hovertemplate\":\"\\u003cb\\u003e%{hovertext}\\u003c\\u002fb\\u003e\\u003cbr\\u003e\\u003cbr\\u003eRegion=EM_Peer\\u003cbr\\u003eTIME=2007\\u003cbr\\u003eInflation Rate=%{x}\\u003cbr\\u003eNominal Interest Rate (3m T-Bill)=%{y}\\u003cbr\\u003esize=%{marker.size}\\u003cextra\\u003e\\u003c\\u002fextra\\u003e\",\"hovertext\":[\"Colombia\",\"Chile\",\"Mexico\",\"Indonesia\",\"Hungary\",\"India\"],\"ids\":[\"COL\",\"CHL\",\"MEX\",\"IDN\",\"HUN\",\"IND\"],\"legendgroup\":\"EM_Peer\",\"marker\":{\"color\":\"#ab63fa\",\"size\":[100.0,100.0,100.0,100.0,100.0,100.0],\"sizemode\":\"area\",\"sizeref\":0.16,\"symbol\":\"circle\"},\"mode\":\"markers\",\"name\":\"EM_Peer\",\"orientation\":\"v\",\"showlegend\":true,\"x\":[5.544385,4.407798,3.96685,6.406562,-100.0,-100.0],\"xaxis\":\"x\",\"y\":[8.014167,5.179167,7.784167,7.975833,-100.0,-100.0],\"yaxis\":\"y\",\"type\":\"scatter\"},{\"hovertemplate\":\"\\u003cb\\u003e%{hovertext}\\u003c\\u002fb\\u003e\\u003cbr\\u003e\\u003cbr\\u003eRegion=EM_Other\\u003cbr\\u003eTIME=2007\\u003cbr\\u003eInflation Rate=%{x}\\u003cbr\\u003eNominal Interest Rate (3m T-Bill)=%{y}\\u003cbr\\u003esize=%{marker.size}\\u003cextra\\u003e\\u003c\\u002fextra\\u003e\",\"hovertext\":[\"Slovenia\",\"Czech Republic\",\"Estonia\",\"China\",\"Greece\",\"Latvia\",\"Lithuania\",\"Ireland\",\"Iceland\",\"Slovak Republic\",\"Russia\",\"Costa Rica\"],\"ids\":[\"SVN\",\"CZE\",\"EST\",\"CHN\",\"GRC\",\"LVA\",\"LTU\",\"IRL\",\"ISL\",\"SVK\",\"RUS\",\"CRI\"],\"legendgroup\":\"EM_Other\",\"marker\":{\"color\":\"#FFA15A\",\"size\":[50.0,50.0,50.0,50.0,50.0,50.0,50.0,50.0,50.0,50.0,50.0,50.0],\"sizemode\":\"area\",\"sizeref\":0.16,\"symbol\":\"circle\"},\"mode\":\"markers\",\"name\":\"EM_Other\",\"orientation\":\"v\",\"showlegend\":true,\"x\":[3.657496,2.853124,6.601326,4.8,2.895001,10.09298,5.737174,4.897116,5.051564,2.756724,9.007296,-100.0],\"xaxis\":\"x\",\"y\":[4.277608,3.0975,4.87,3.511667,4.277608,8.671667,5.103236,4.277608,14.29067,4.025,6.660833,-100.0],\"yaxis\":\"y\",\"type\":\"scatter\"},{\"hovertemplate\":\"\\u003cb\\u003e%{hovertext}\\u003c\\u002fb\\u003e\\u003cbr\\u003e\\u003cbr\\u003eRegion=DM_Other\\u003cbr\\u003eTIME=2007\\u003cbr\\u003eInflation Rate=%{x}\\u003cbr\\u003eNominal Interest Rate (3m T-Bill)=%{y}\\u003cbr\\u003esize=%{marker.size}\\u003cextra\\u003e\\u003c\\u002fextra\\u003e\",\"hovertext\":[\"Norway\",\"New Zealand\",\"Australia\",\"Israel\",\"South Korea\",\"Poland\"],\"ids\":[\"NOR\",\"NZL\",\"AUS\",\"ISR\",\"KOR\",\"POL\"],\"legendgroup\":\"DM_Other\",\"marker\":{\"color\":\"#19d3f3\",\"size\":[50.0,50.0,50.0,50.0,50.0,50.0],\"sizemode\":\"area\",\"sizeref\":0.16,\"symbol\":\"circle\"},\"mode\":\"markers\",\"name\":\"DM_Other\",\"orientation\":\"v\",\"showlegend\":true,\"x\":[0.7125891,2.376143,2.327611,0.455171,2.534574,2.491667],\"xaxis\":\"x\",\"y\":[4.9575,8.333333,6.6675,4.255372,5.160833,4.769583],\"yaxis\":\"y\",\"type\":\"scatter\"},{\"hovertemplate\":\"\\u003cb\\u003e%{hovertext}\\u003c\\u002fb\\u003e\\u003cbr\\u003e\\u003cbr\\u003eRegion=DM_Europe\\u003cbr\\u003eTIME=2007\\u003cbr\\u003eInflation Rate=%{x}\\u003cbr\\u003eNominal Interest Rate (3m T-Bill)=%{y}\\u003cbr\\u003esize=%{marker.size}\\u003cextra\\u003e\\u003c\\u002fextra\\u003e\",\"hovertext\":[\"Spain\",\"Luxembourg\",\"Austria\",\"Switzerland\",\"Netherlands\",\"Portugal\",\"Sweden\",\"Belgium\",\"Denmark\",\"Finland\"],\"ids\":[\"ESP\",\"LUX\",\"AUT\",\"CHE\",\"NLD\",\"PRT\",\"SWE\",\"BEL\",\"DNK\",\"FIN\"],\"legendgroup\":\"DM_Europe\",\"marker\":{\"color\":\"#FF6692\",\"size\":[50.0,50.0,50.0,50.0,50.0,50.0,50.0,50.0,50.0,50.0],\"sizemode\":\"area\",\"sizeref\":0.16,\"symbol\":\"circle\"},\"mode\":\"markers\",\"name\":\"DM_Europe\",\"orientation\":\"v\",\"showlegend\":true,\"x\":[2.786798,2.312459,2.168556,0.7323506,1.613859,2.453965,2.212169,1.823056,1.693266,2.510666],\"xaxis\":\"x\",\"y\":[4.277608,4.277608,4.277608,2.352159,4.277608,4.277608,3.5525,4.277608,4.441652,4.277608],\"yaxis\":\"y\",\"type\":\"scatter\"}],\"name\":\"2007\",\"layout\":{\"title\":{\"text\":\"2007 : US Subprime Mortage crisis begins and signs of economic strain begin to emerge\"}}},{\"data\":[{\"hovertemplate\":\"\\u003cb\\u003e%{hovertext}\\u003c\\u002fb\\u003e\\u003cbr\\u003e\\u003cbr\\u003eRegion=United States\\u003cbr\\u003eTIME=2008\\u003cbr\\u003eInflation Rate=%{x}\\u003cbr\\u003eNominal Interest Rate (3m T-Bill)=%{y}\\u003cbr\\u003esize=%{marker.size}\\u003cextra\\u003e\\u003c\\u002fextra\\u003e\",\"hovertext\":[\"United States\"],\"ids\":[\"USA\"],\"legendgroup\":\"United States\",\"marker\":{\"color\":\"#636efa\",\"size\":[200.0],\"sizemode\":\"area\",\"sizeref\":0.16,\"symbol\":\"circle\"},\"mode\":\"markers\",\"name\":\"United States\",\"orientation\":\"v\",\"showlegend\":true,\"x\":[3.8391],\"xaxis\":\"x\",\"y\":[2.965],\"yaxis\":\"y\",\"type\":\"scatter\"},{\"hovertemplate\":\"\\u003cb\\u003e%{hovertext}\\u003c\\u002fb\\u003e\\u003cbr\\u003e\\u003cbr\\u003eRegion=South Africa\\u003cbr\\u003eTIME=2008\\u003cbr\\u003eInflation Rate=%{x}\\u003cbr\\u003eNominal Interest Rate (3m T-Bill)=%{y}\\u003cbr\\u003esize=%{marker.size}\\u003cextra\\u003e\\u003c\\u002fextra\\u003e\",\"hovertext\":[\"South Africa\"],\"ids\":[\"ZAF\"],\"legendgroup\":\"South Africa\",\"marker\":{\"color\":\"#EF553B\",\"size\":[400.0],\"sizemode\":\"area\",\"sizeref\":0.16,\"symbol\":\"circle\"},\"mode\":\"markers\",\"name\":\"South Africa\",\"orientation\":\"v\",\"showlegend\":true,\"x\":[10.07458],\"xaxis\":\"x\",\"y\":[10.80735],\"yaxis\":\"y\",\"type\":\"scatter\"},{\"hovertemplate\":\"\\u003cb\\u003e%{hovertext}\\u003c\\u002fb\\u003e\\u003cbr\\u003e\\u003cbr\\u003eRegion=G7_ex US\\u003cbr\\u003eTIME=2008\\u003cbr\\u003eInflation Rate=%{x}\\u003cbr\\u003eNominal Interest Rate (3m T-Bill)=%{y}\\u003cbr\\u003esize=%{marker.size}\\u003cextra\\u003e\\u003c\\u002fextra\\u003e\",\"hovertext\":[\"United Kingdom\",\"Italy\",\"Germany\",\"Japan\",\"Canada\",\"France\"],\"ids\":[\"GBR\",\"ITA\",\"DEU\",\"JPN\",\"CAN\",\"FRA\"],\"legendgroup\":\"G7_ex US\",\"marker\":{\"color\":\"#00cc96\",\"size\":[50.0,50.0,50.0,50.0,50.0,50.0],\"sizemode\":\"area\",\"sizeref\":0.16,\"symbol\":\"circle\"},\"mode\":\"markers\",\"name\":\"G7_ex US\",\"orientation\":\"v\",\"showlegend\":true,\"x\":[3.5,3.347834,2.628383,1.383333,2.370271,2.812862],\"xaxis\":\"x\",\"y\":[5.511412,4.634233,4.634233,0.8466667,3.340618,4.634233],\"yaxis\":\"y\",\"type\":\"scatter\"},{\"hovertemplate\":\"\\u003cb\\u003e%{hovertext}\\u003c\\u002fb\\u003e\\u003cbr\\u003e\\u003cbr\\u003eRegion=EM_Peer\\u003cbr\\u003eTIME=2008\\u003cbr\\u003eInflation Rate=%{x}\\u003cbr\\u003eNominal Interest Rate (3m T-Bill)=%{y}\\u003cbr\\u003esize=%{marker.size}\\u003cextra\\u003e\\u003c\\u002fextra\\u003e\",\"hovertext\":[\"Indonesia\",\"Mexico\",\"Chile\",\"Colombia\",\"Hungary\",\"India\"],\"ids\":[\"IDN\",\"MEX\",\"CHL\",\"COL\",\"HUN\",\"IND\"],\"legendgroup\":\"EM_Peer\",\"marker\":{\"color\":\"#ab63fa\",\"size\":[100.0,100.0,100.0,100.0,100.0,100.0],\"sizemode\":\"area\",\"sizeref\":0.16,\"symbol\":\"circle\"},\"mode\":\"markers\",\"name\":\"EM_Peer\",\"orientation\":\"v\",\"showlegend\":true,\"x\":[10.22667,5.124982,8.716269,6.996882,6.042512,-100.0],\"xaxis\":\"x\",\"y\":[8.4925,8.3525,7.236667,9.741667,9.019226,-100.0],\"yaxis\":\"y\",\"type\":\"scatter\"},{\"hovertemplate\":\"\\u003cb\\u003e%{hovertext}\\u003c\\u002fb\\u003e\\u003cbr\\u003e\\u003cbr\\u003eRegion=EM_Other\\u003cbr\\u003eTIME=2008\\u003cbr\\u003eInflation Rate=%{x}\\u003cbr\\u003eNominal Interest Rate (3m T-Bill)=%{y}\\u003cbr\\u003esize=%{marker.size}\\u003cextra\\u003e\\u003c\\u002fextra\\u003e\",\"hovertext\":[\"Slovak Republic\",\"Ireland\",\"Slovenia\",\"Lithuania\",\"Greece\",\"Iceland\",\"Latvia\",\"Russia\",\"Czech Republic\",\"Estonia\",\"China\",\"Costa Rica\"],\"ids\":[\"SVK\",\"IRL\",\"SVN\",\"LTU\",\"GRC\",\"ISL\",\"LVA\",\"RUS\",\"CZE\",\"EST\",\"CHN\",\"CRI\"],\"legendgroup\":\"EM_Other\",\"marker\":{\"color\":\"#FFA15A\",\"size\":[50.0,50.0,50.0,50.0,50.0,50.0,50.0,50.0,50.0,50.0,50.0,50.0],\"sizemode\":\"area\",\"sizeref\":0.16,\"symbol\":\"circle\"},\"mode\":\"markers\",\"name\":\"EM_Other\",\"orientation\":\"v\",\"showlegend\":true,\"x\":[4.59818,4.060305,5.647424,10.92589,4.152796,12.6944,15.40232,14.11077,6.358664,10.36236,5.9,-100.0],\"xaxis\":\"x\",\"y\":[3.854167,4.634233,4.634233,6.039039,4.634233,15.82383,7.989167,10.77167,4.0375,6.664166,4.033333,-100.0],\"yaxis\":\"y\",\"type\":\"scatter\"},{\"hovertemplate\":\"\\u003cb\\u003e%{hovertext}\\u003c\\u002fb\\u003e\\u003cbr\\u003e\\u003cbr\\u003eRegion=DM_Other\\u003cbr\\u003eTIME=2008\\u003cbr\\u003eInflation Rate=%{x}\\u003cbr\\u003eNominal Interest Rate (3m T-Bill)=%{y}\\u003cbr\\u003esize=%{marker.size}\\u003cextra\\u003e\\u003c\\u002fextra\\u003e\",\"hovertext\":[\"South Korea\",\"Israel\",\"Poland\",\"New Zealand\",\"Australia\",\"Norway\"],\"ids\":[\"KOR\",\"ISR\",\"POL\",\"NZL\",\"AUS\",\"NOR\"],\"legendgroup\":\"DM_Other\",\"marker\":{\"color\":\"#19d3f3\",\"size\":[50.0,50.0,50.0,50.0,50.0,50.0],\"sizemode\":\"area\",\"sizeref\":0.16,\"symbol\":\"circle\"},\"mode\":\"markers\",\"name\":\"DM_Other\",\"orientation\":\"v\",\"showlegend\":true,\"x\":[4.673897,4.55216,4.216667,3.958944,4.350298,3.753931],\"xaxis\":\"x\",\"y\":[5.4875,3.561983,6.349167,8.021667,6.973333,6.218333],\"yaxis\":\"y\",\"type\":\"scatter\"},{\"hovertemplate\":\"\\u003cb\\u003e%{hovertext}\\u003c\\u002fb\\u003e\\u003cbr\\u003e\\u003cbr\\u003eRegion=DM_Europe\\u003cbr\\u003eTIME=2008\\u003cbr\\u003eInflation Rate=%{x}\\u003cbr\\u003eNominal Interest Rate (3m T-Bill)=%{y}\\u003cbr\\u003esize=%{marker.size}\\u003cextra\\u003e\\u003c\\u002fextra\\u003e\",\"hovertext\":[\"Austria\",\"Belgium\",\"Spain\",\"Sweden\",\"Denmark\",\"Finland\",\"Netherlands\",\"Portugal\",\"Switzerland\",\"Luxembourg\"],\"ids\":[\"AUT\",\"BEL\",\"ESP\",\"SWE\",\"DNK\",\"FIN\",\"NLD\",\"PRT\",\"CHE\",\"LUX\"],\"legendgroup\":\"DM_Europe\",\"marker\":{\"color\":\"#FF6692\",\"size\":[50.0,50.0,50.0,50.0,50.0,50.0,50.0,50.0,50.0,50.0],\"sizemode\":\"area\",\"sizeref\":0.16,\"symbol\":\"circle\"},\"mode\":\"markers\",\"name\":\"DM_Europe\",\"orientation\":\"v\",\"showlegend\":true,\"x\":[3.215951,4.489444,4.075343,3.437049,3.416268,4.065952,2.486502,2.588506,2.426041,3.40188],\"xaxis\":\"x\",\"y\":[4.634233,4.634233,4.634233,3.905,5.262557,4.634233,4.634233,4.634233,1.747376,4.634233],\"yaxis\":\"y\",\"type\":\"scatter\"}],\"name\":\"2008\",\"layout\":{\"title\":{\"text\":\"2008 : Global financial crisis echoes the 1930's Great Depression\"}}},{\"data\":[{\"hovertemplate\":\"\\u003cb\\u003e%{hovertext}\\u003c\\u002fb\\u003e\\u003cbr\\u003e\\u003cbr\\u003eRegion=United States\\u003cbr\\u003eTIME=2009\\u003cbr\\u003eInflation Rate=%{x}\\u003cbr\\u003eNominal Interest Rate (3m T-Bill)=%{y}\\u003cbr\\u003esize=%{marker.size}\\u003cextra\\u003e\\u003c\\u002fextra\\u003e\",\"hovertext\":[\"United States\"],\"ids\":[\"USA\"],\"legendgroup\":\"United States\",\"marker\":{\"color\":\"#636efa\",\"size\":[200.0],\"sizemode\":\"area\",\"sizeref\":0.16,\"symbol\":\"circle\"},\"mode\":\"markers\",\"name\":\"United States\",\"orientation\":\"v\",\"showlegend\":true,\"x\":[-0.3555463],\"xaxis\":\"x\",\"y\":[0.5558333],\"yaxis\":\"y\",\"type\":\"scatter\"},{\"hovertemplate\":\"\\u003cb\\u003e%{hovertext}\\u003c\\u002fb\\u003e\\u003cbr\\u003e\\u003cbr\\u003eRegion=South Africa\\u003cbr\\u003eTIME=2009\\u003cbr\\u003eInflation Rate=%{x}\\u003cbr\\u003eNominal Interest Rate (3m T-Bill)=%{y}\\u003cbr\\u003esize=%{marker.size}\\u003cextra\\u003e\\u003c\\u002fextra\\u003e\",\"hovertext\":[\"South Africa\"],\"ids\":[\"ZAF\"],\"legendgroup\":\"South Africa\",\"marker\":{\"color\":\"#EF553B\",\"size\":[400.0],\"sizemode\":\"area\",\"sizeref\":0.16,\"symbol\":\"circle\"},\"mode\":\"markers\",\"name\":\"South Africa\",\"orientation\":\"v\",\"showlegend\":true,\"x\":[7.215314],\"xaxis\":\"x\",\"y\":[7.848801],\"yaxis\":\"y\",\"type\":\"scatter\"},{\"hovertemplate\":\"\\u003cb\\u003e%{hovertext}\\u003c\\u002fb\\u003e\\u003cbr\\u003e\\u003cbr\\u003eRegion=G7_ex US\\u003cbr\\u003eTIME=2009\\u003cbr\\u003eInflation Rate=%{x}\\u003cbr\\u003eNominal Interest Rate (3m T-Bill)=%{y}\\u003cbr\\u003esize=%{marker.size}\\u003cextra\\u003e\\u003c\\u002fextra\\u003e\",\"hovertext\":[\"France\",\"Italy\",\"United Kingdom\",\"Canada\",\"Germany\",\"Japan\"],\"ids\":[\"FRA\",\"ITA\",\"GBR\",\"CAN\",\"DEU\",\"JPN\"],\"legendgroup\":\"G7_ex US\",\"marker\":{\"color\":\"#00cc96\",\"size\":[50.0,50.0,50.0,50.0,50.0,50.0],\"sizemode\":\"area\",\"sizeref\":0.16,\"symbol\":\"circle\"},\"mode\":\"markers\",\"name\":\"G7_ex US\",\"orientation\":\"v\",\"showlegend\":true,\"x\":[0.08762048,0.7747682,2.0,0.2994668,0.3127377,-1.341667],\"xaxis\":\"x\",\"y\":[1.228358,1.228358,1.213653,0.6938224,1.228358,0.5783333],\"yaxis\":\"y\",\"type\":\"scatter\"},{\"hovertemplate\":\"\\u003cb\\u003e%{hovertext}\\u003c\\u002fb\\u003e\\u003cbr\\u003e\\u003cbr\\u003eRegion=EM_Peer\\u003cbr\\u003eTIME=2009\\u003cbr\\u003eInflation Rate=%{x}\\u003cbr\\u003eNominal Interest Rate (3m T-Bill)=%{y}\\u003cbr\\u003esize=%{marker.size}\\u003cextra\\u003e\\u003c\\u002fextra\\u003e\",\"hovertext\":[\"Chile\",\"Colombia\",\"Mexico\",\"Indonesia\",\"Hungary\",\"India\"],\"ids\":[\"CHL\",\"COL\",\"MEX\",\"IDN\",\"HUN\",\"IND\"],\"legendgroup\":\"EM_Peer\",\"marker\":{\"color\":\"#ab63fa\",\"size\":[100.0,100.0,100.0,100.0,100.0,100.0],\"sizemode\":\"area\",\"sizeref\":0.16,\"symbol\":\"circle\"},\"mode\":\"markers\",\"name\":\"EM_Peer\",\"orientation\":\"v\",\"showlegend\":true,\"x\":[0.3530467,4.202518,5.297357,4.386416,-100.0,-100.0],\"xaxis\":\"x\",\"y\":[1.746667,6.144166,5.929167,9.278334,-100.0,-100.0],\"yaxis\":\"y\",\"type\":\"scatter\"},{\"hovertemplate\":\"\\u003cb\\u003e%{hovertext}\\u003c\\u002fb\\u003e\\u003cbr\\u003e\\u003cbr\\u003eRegion=EM_Other\\u003cbr\\u003eTIME=2009\\u003cbr\\u003eInflation Rate=%{x}\\u003cbr\\u003eNominal Interest Rate (3m T-Bill)=%{y}\\u003cbr\\u003esize=%{marker.size}\\u003cextra\\u003e\\u003c\\u002fextra\\u003e\",\"hovertext\":[\"Slovak Republic\",\"Ireland\",\"Greece\",\"Czech Republic\",\"China\",\"Estonia\",\"Slovenia\",\"Lithuania\",\"Russia\",\"Iceland\",\"Latvia\",\"Costa Rica\"],\"ids\":[\"SVK\",\"IRL\",\"GRC\",\"CZE\",\"CHN\",\"EST\",\"SVN\",\"LTU\",\"RUS\",\"ISL\",\"LVA\",\"CRI\"],\"legendgroup\":\"EM_Other\",\"marker\":{\"color\":\"#FFA15A\",\"size\":[50.0,50.0,50.0,50.0,50.0,50.0,50.0,50.0,50.0,50.0,50.0,50.0],\"sizemode\":\"area\",\"sizeref\":0.16,\"symbol\":\"circle\"},\"mode\":\"markers\",\"name\":\"EM_Other\",\"orientation\":\"v\",\"showlegend\":true,\"x\":[1.615105,-4.478103,1.210074,1.019377,-0.7,-0.07840831,0.8392622,4.453044,11.64733,12.00312,3.534107,-100.0],\"xaxis\":\"x\",\"y\":[1.228358,1.228358,1.228358,2.191667,1.585833,5.926667,1.228358,7.06797,13.05,11.28167,13.08417,-100.0],\"yaxis\":\"y\",\"type\":\"scatter\"},{\"hovertemplate\":\"\\u003cb\\u003e%{hovertext}\\u003c\\u002fb\\u003e\\u003cbr\\u003e\\u003cbr\\u003eRegion=DM_Other\\u003cbr\\u003eTIME=2009\\u003cbr\\u003eInflation Rate=%{x}\\u003cbr\\u003eNominal Interest Rate (3m T-Bill)=%{y}\\u003cbr\\u003esize=%{marker.size}\\u003cextra\\u003e\\u003c\\u002fextra\\u003e\",\"hovertext\":[\"Australia\",\"Norway\",\"Poland\",\"South Korea\",\"New Zealand\",\"Israel\"],\"ids\":[\"AUS\",\"NOR\",\"POL\",\"KOR\",\"NZL\",\"ISR\"],\"legendgroup\":\"DM_Other\",\"marker\":{\"color\":\"#19d3f3\",\"size\":[50.0,50.0,50.0,50.0,50.0,50.0],\"sizemode\":\"area\",\"sizeref\":0.16,\"symbol\":\"circle\"},\"mode\":\"markers\",\"name\":\"DM_Other\",\"orientation\":\"v\",\"showlegend\":true,\"x\":[1.771117,2.197386,3.45,2.756496,2.115656,3.356178],\"xaxis\":\"x\",\"y\":[3.434167,2.463333,4.339167,2.628333,3.035833,0.6394031],\"yaxis\":\"y\",\"type\":\"scatter\"},{\"hovertemplate\":\"\\u003cb\\u003e%{hovertext}\\u003c\\u002fb\\u003e\\u003cbr\\u003e\\u003cbr\\u003eRegion=DM_Europe\\u003cbr\\u003eTIME=2009\\u003cbr\\u003eInflation Rate=%{x}\\u003cbr\\u003eNominal Interest Rate (3m T-Bill)=%{y}\\u003cbr\\u003esize=%{marker.size}\\u003cextra\\u003e\\u003c\\u002fextra\\u003e\",\"hovertext\":[\"Spain\",\"Switzerland\",\"Sweden\",\"Portugal\",\"Belgium\",\"Luxembourg\",\"Austria\",\"Netherlands\",\"Finland\",\"Denmark\"],\"ids\":[\"ESP\",\"CHE\",\"SWE\",\"PRT\",\"BEL\",\"LUX\",\"AUT\",\"NLD\",\"FIN\",\"DNK\"],\"legendgroup\":\"DM_Europe\",\"marker\":{\"color\":\"#FF6692\",\"size\":[50.0,50.0,50.0,50.0,50.0,50.0,50.0,50.0,50.0,50.0],\"sizemode\":\"area\",\"sizeref\":0.16,\"symbol\":\"circle\"},\"mode\":\"markers\",\"name\":\"DM_Europe\",\"orientation\":\"v\",\"showlegend\":true,\"x\":[-0.2878131,-0.4804819,-0.4944606,-0.83553,-0.05314567,0.368042,0.5063094,1.189777,-1.22217e-14,1.30471],\"xaxis\":\"x\",\"y\":[1.228358,0.09388217,0.3983333,1.228358,1.228358,1.228358,1.228358,1.228358,1.228358,2.499274],\"yaxis\":\"y\",\"type\":\"scatter\"}],\"name\":\"2009\",\"layout\":{\"title\":{\"text\":\"2009 : Widespread rate cuts and the emergence of negative interest rates\"}}},{\"data\":[{\"hovertemplate\":\"\\u003cb\\u003e%{hovertext}\\u003c\\u002fb\\u003e\\u003cbr\\u003e\\u003cbr\\u003eRegion=United States\\u003cbr\\u003eTIME=2010\\u003cbr\\u003eInflation Rate=%{x}\\u003cbr\\u003eNominal Interest Rate (3m T-Bill)=%{y}\\u003cbr\\u003esize=%{marker.size}\\u003cextra\\u003e\\u003c\\u002fextra\\u003e\",\"hovertext\":[\"United States\"],\"ids\":[\"USA\"],\"legendgroup\":\"United States\",\"marker\":{\"color\":\"#636efa\",\"size\":[200.0],\"sizemode\":\"area\",\"sizeref\":0.16,\"symbol\":\"circle\"},\"mode\":\"markers\",\"name\":\"United States\",\"orientation\":\"v\",\"showlegend\":true,\"x\":[1.640043],\"xaxis\":\"x\",\"y\":[0.3116667],\"yaxis\":\"y\",\"type\":\"scatter\"},{\"hovertemplate\":\"\\u003cb\\u003e%{hovertext}\\u003c\\u002fb\\u003e\\u003cbr\\u003e\\u003cbr\\u003eRegion=South Africa\\u003cbr\\u003eTIME=2010\\u003cbr\\u003eInflation Rate=%{x}\\u003cbr\\u003eNominal Interest Rate (3m T-Bill)=%{y}\\u003cbr\\u003esize=%{marker.size}\\u003cextra\\u003e\\u003c\\u002fextra\\u003e\",\"hovertext\":[\"South Africa\"],\"ids\":[\"ZAF\"],\"legendgroup\":\"South Africa\",\"marker\":{\"color\":\"#EF553B\",\"size\":[400.0],\"sizemode\":\"area\",\"sizeref\":0.16,\"symbol\":\"circle\"},\"mode\":\"markers\",\"name\":\"South Africa\",\"orientation\":\"v\",\"showlegend\":true,\"x\":[4.08973],\"xaxis\":\"x\",\"y\":[6.419063],\"yaxis\":\"y\",\"type\":\"scatter\"},{\"hovertemplate\":\"\\u003cb\\u003e%{hovertext}\\u003c\\u002fb\\u003e\\u003cbr\\u003e\\u003cbr\\u003eRegion=G7_ex US\\u003cbr\\u003eTIME=2010\\u003cbr\\u003eInflation Rate=%{x}\\u003cbr\\u003eNominal Interest Rate (3m T-Bill)=%{y}\\u003cbr\\u003esize=%{marker.size}\\u003cextra\\u003e\\u003c\\u002fextra\\u003e\",\"hovertext\":[\"Germany\",\"Japan\",\"Canada\",\"France\",\"United Kingdom\",\"Italy\"],\"ids\":[\"DEU\",\"JPN\",\"CAN\",\"FRA\",\"GBR\",\"ITA\"],\"legendgroup\":\"G7_ex US\",\"marker\":{\"color\":\"#00cc96\",\"size\":[50.0,50.0,50.0,50.0,50.0,50.0],\"sizemode\":\"area\",\"sizeref\":0.16,\"symbol\":\"circle\"},\"mode\":\"markers\",\"name\":\"G7_ex US\",\"orientation\":\"v\",\"showlegend\":true,\"x\":[1.103809,-0.7,1.776872,1.531123,2.5,1.525516],\"xaxis\":\"x\",\"y\":[0.81095,0.3833333,0.7758598,0.81095,0.6997741,0.81095],\"yaxis\":\"y\",\"type\":\"scatter\"},{\"hovertemplate\":\"\\u003cb\\u003e%{hovertext}\\u003c\\u002fb\\u003e\\u003cbr\\u003e\\u003cbr\\u003eRegion=EM_Peer\\u003cbr\\u003eTIME=2010\\u003cbr\\u003eInflation Rate=%{x}\\u003cbr\\u003eNominal Interest Rate (3m T-Bill)=%{y}\\u003cbr\\u003esize=%{marker.size}\\u003cextra\\u003e\\u003c\\u002fextra\\u003e\",\"hovertext\":[\"Chile\",\"Colombia\",\"Indonesia\",\"Hungary\",\"Mexico\",\"India\"],\"ids\":[\"CHL\",\"COL\",\"IDN\",\"HUN\",\"MEX\",\"IND\"],\"legendgroup\":\"EM_Peer\",\"marker\":{\"color\":\"#ab63fa\",\"size\":[100.0,100.0,100.0,100.0,100.0,100.0],\"sizemode\":\"area\",\"sizeref\":0.16,\"symbol\":\"circle\"},\"mode\":\"markers\",\"name\":\"EM_Peer\",\"orientation\":\"v\",\"showlegend\":true,\"x\":[1.410711,2.272003,5.134203,4.855558,4.156728,-100.0],\"xaxis\":\"x\",\"y\":[2.07,3.661667,7.016667,6.179417,5.0,-100.0],\"yaxis\":\"y\",\"type\":\"scatter\"},{\"hovertemplate\":\"\\u003cb\\u003e%{hovertext}\\u003c\\u002fb\\u003e\\u003cbr\\u003e\\u003cbr\\u003eRegion=EM_Other\\u003cbr\\u003eTIME=2010\\u003cbr\\u003eInflation Rate=%{x}\\u003cbr\\u003eNominal Interest Rate (3m T-Bill)=%{y}\\u003cbr\\u003esize=%{marker.size}\\u003cextra\\u003e\\u003c\\u002fextra\\u003e\",\"hovertext\":[\"China\",\"Ireland\",\"Slovenia\",\"Lithuania\",\"Slovak Republic\",\"Latvia\",\"Czech Republic\",\"Russia\",\"Estonia\",\"Greece\",\"Iceland\",\"Costa Rica\"],\"ids\":[\"CHN\",\"IRL\",\"SVN\",\"LTU\",\"SVK\",\"LVA\",\"CZE\",\"RUS\",\"EST\",\"GRC\",\"ISL\",\"CRI\"],\"legendgroup\":\"EM_Other\",\"marker\":{\"color\":\"#FFA15A\",\"size\":[50.0,50.0,50.0,50.0,50.0,50.0,50.0,50.0,50.0,50.0,50.0,50.0],\"sizemode\":\"area\",\"sizeref\":0.16,\"symbol\":\"circle\"},\"mode\":\"markers\",\"name\":\"EM_Other\",\"orientation\":\"v\",\"showlegend\":true,\"x\":[3.3,-0.9220958,1.80117,1.319214,0.9570181,-1.084636,1.472727,6.849392,2.972045,4.712982,5.396732,-100.0],\"xaxis\":\"x\",\"y\":[2.640833,0.81095,0.81095,1.804456,0.81095,1.996667,1.313333,5.158333,1.57,0.81095,6.789166,-100.0],\"yaxis\":\"y\",\"type\":\"scatter\"},{\"hovertemplate\":\"\\u003cb\\u003e%{hovertext}\\u003c\\u002fb\\u003e\\u003cbr\\u003e\\u003cbr\\u003eRegion=DM_Other\\u003cbr\\u003eTIME=2010\\u003cbr\\u003eInflation Rate=%{x}\\u003cbr\\u003eNominal Interest Rate (3m T-Bill)=%{y}\\u003cbr\\u003esize=%{marker.size}\\u003cextra\\u003e\\u003c\\u002fextra\\u003e\",\"hovertext\":[\"Australia\",\"Israel\",\"South Korea\",\"Norway\",\"New Zealand\",\"Poland\"],\"ids\":[\"AUS\",\"ISR\",\"KOR\",\"NOR\",\"NZL\",\"POL\"],\"legendgroup\":\"DM_Other\",\"marker\":{\"color\":\"#19d3f3\",\"size\":[50.0,50.0,50.0,50.0,50.0,50.0],\"sizemode\":\"area\",\"sizeref\":0.16,\"symbol\":\"circle\"},\"mode\":\"markers\",\"name\":\"DM_Other\",\"orientation\":\"v\",\"showlegend\":true,\"x\":[2.91834,2.69137,2.939286,2.418906,2.302026,2.583333],\"xaxis\":\"x\",\"y\":[4.683333,1.642191,2.671667,2.501667,3.000833,3.931667],\"yaxis\":\"y\",\"type\":\"scatter\"},{\"hovertemplate\":\"\\u003cb\\u003e%{hovertext}\\u003c\\u002fb\\u003e\\u003cbr\\u003e\\u003cbr\\u003eRegion=DM_Europe\\u003cbr\\u003eTIME=2010\\u003cbr\\u003eInflation Rate=%{x}\\u003cbr\\u003eNominal Interest Rate (3m T-Bill)=%{y}\\u003cbr\\u003esize=%{marker.size}\\u003cextra\\u003e\\u003c\\u002fextra\\u003e\",\"hovertext\":[\"Switzerland\",\"Denmark\",\"Netherlands\",\"Spain\",\"Luxembourg\",\"Austria\",\"Sweden\",\"Portugal\",\"Finland\",\"Belgium\"],\"ids\":[\"CHE\",\"DNK\",\"NLD\",\"ESP\",\"LUX\",\"AUT\",\"SWE\",\"PRT\",\"FIN\",\"BEL\"],\"legendgroup\":\"DM_Europe\",\"marker\":{\"color\":\"#FF6692\",\"size\":[50.0,50.0,50.0,50.0,50.0,50.0,50.0,50.0,50.0,50.0],\"sizemode\":\"area\",\"sizeref\":0.16,\"symbol\":\"circle\"},\"mode\":\"markers\",\"name\":\"DM_Europe\",\"orientation\":\"v\",\"showlegend\":true,\"x\":[0.6882387,2.310924,1.275306,1.799865,2.273679,1.813532,1.157988,1.402573,1.184135,2.189299],\"xaxis\":\"x\",\"y\":[0.1670194,1.248442,0.81095,0.81095,0.81095,0.81095,0.5041667,0.81095,0.81095,0.81095],\"yaxis\":\"y\",\"type\":\"scatter\"}],\"name\":\"2010\",\"layout\":{\"title\":{\"text\":\"2010 : Sluggish recovery post-recession keeps rates and inflation depressed\"}}},{\"data\":[{\"hovertemplate\":\"\\u003cb\\u003e%{hovertext}\\u003c\\u002fb\\u003e\\u003cbr\\u003e\\u003cbr\\u003eRegion=United States\\u003cbr\\u003eTIME=2011\\u003cbr\\u003eInflation Rate=%{x}\\u003cbr\\u003eNominal Interest Rate (3m T-Bill)=%{y}\\u003cbr\\u003esize=%{marker.size}\\u003cextra\\u003e\\u003c\\u002fextra\\u003e\",\"hovertext\":[\"United States\"],\"ids\":[\"USA\"],\"legendgroup\":\"United States\",\"marker\":{\"color\":\"#636efa\",\"size\":[200.0],\"sizemode\":\"area\",\"sizeref\":0.16,\"symbol\":\"circle\"},\"mode\":\"markers\",\"name\":\"United States\",\"orientation\":\"v\",\"showlegend\":true,\"x\":[3.156842],\"xaxis\":\"x\",\"y\":[0.3033333],\"yaxis\":\"y\",\"type\":\"scatter\"},{\"hovertemplate\":\"\\u003cb\\u003e%{hovertext}\\u003c\\u002fb\\u003e\\u003cbr\\u003e\\u003cbr\\u003eRegion=South Africa\\u003cbr\\u003eTIME=2011\\u003cbr\\u003eInflation Rate=%{x}\\u003cbr\\u003eNominal Interest Rate (3m T-Bill)=%{y}\\u003cbr\\u003esize=%{marker.size}\\u003cextra\\u003e\\u003c\\u002fextra\\u003e\",\"hovertext\":[\"South Africa\"],\"ids\":[\"ZAF\"],\"legendgroup\":\"South Africa\",\"marker\":{\"color\":\"#EF553B\",\"size\":[400.0],\"sizemode\":\"area\",\"sizeref\":0.16,\"symbol\":\"circle\"},\"mode\":\"markers\",\"name\":\"South Africa\",\"orientation\":\"v\",\"showlegend\":true,\"x\":[4.999267],\"xaxis\":\"x\",\"y\":[5.487752],\"yaxis\":\"y\",\"type\":\"scatter\"},{\"hovertemplate\":\"\\u003cb\\u003e%{hovertext}\\u003c\\u002fb\\u003e\\u003cbr\\u003e\\u003cbr\\u003eRegion=G7_ex US\\u003cbr\\u003eTIME=2011\\u003cbr\\u003eInflation Rate=%{x}\\u003cbr\\u003eNominal Interest Rate (3m T-Bill)=%{y}\\u003cbr\\u003esize=%{marker.size}\\u003cextra\\u003e\\u003c\\u002fextra\\u003e\",\"hovertext\":[\"France\",\"Germany\",\"Canada\",\"United Kingdom\",\"Japan\",\"Italy\"],\"ids\":[\"FRA\",\"DEU\",\"CAN\",\"GBR\",\"JPN\",\"ITA\"],\"legendgroup\":\"G7_ex US\",\"marker\":{\"color\":\"#00cc96\",\"size\":[50.0,50.0,50.0,50.0,50.0,50.0],\"sizemode\":\"area\",\"sizeref\":0.16,\"symbol\":\"circle\"},\"mode\":\"markers\",\"name\":\"G7_ex US\",\"orientation\":\"v\",\"showlegend\":true,\"x\":[2.111598,2.075173,2.912135,3.8,-0.275,2.780633],\"xaxis\":\"x\",\"y\":[1.3906,1.3906,1.169322,0.87458,0.3325967,1.3906],\"yaxis\":\"y\",\"type\":\"scatter\"},{\"hovertemplate\":\"\\u003cb\\u003e%{hovertext}\\u003c\\u002fb\\u003e\\u003cbr\\u003e\\u003cbr\\u003eRegion=EM_Peer\\u003cbr\\u003eTIME=2011\\u003cbr\\u003eInflation Rate=%{x}\\u003cbr\\u003eNominal Interest Rate (3m T-Bill)=%{y}\\u003cbr\\u003esize=%{marker.size}\\u003cextra\\u003e\\u003c\\u002fextra\\u003e\",\"hovertext\":[\"Indonesia\",\"Chile\",\"Hungary\",\"Mexico\",\"Colombia\",\"India\"],\"ids\":[\"IDN\",\"CHL\",\"HUN\",\"MEX\",\"COL\",\"IND\"],\"legendgroup\":\"EM_Peer\",\"marker\":{\"color\":\"#ab63fa\",\"size\":[100.0,100.0,100.0,100.0,100.0,100.0],\"sizemode\":\"area\",\"sizeref\":0.16,\"symbol\":\"circle\"},\"mode\":\"markers\",\"name\":\"EM_Peer\",\"orientation\":\"v\",\"showlegend\":true,\"x\":[5.356048,3.341217,3.929921,3.40738,3.415032,-100.0],\"xaxis\":\"x\",\"y\":[6.93,4.93625,6.576007,4.855,4.206666,-100.0],\"yaxis\":\"y\",\"type\":\"scatter\"},{\"hovertemplate\":\"\\u003cb\\u003e%{hovertext}\\u003c\\u002fb\\u003e\\u003cbr\\u003e\\u003cbr\\u003eRegion=EM_Other\\u003cbr\\u003eTIME=2011\\u003cbr\\u003eInflation Rate=%{x}\\u003cbr\\u003eNominal Interest Rate (3m T-Bill)=%{y}\\u003cbr\\u003esize=%{marker.size}\\u003cextra\\u003e\\u003c\\u002fextra\\u003e\",\"hovertext\":[\"Slovenia\",\"Ireland\",\"Lithuania\",\"Iceland\",\"China\",\"Latvia\",\"Estonia\",\"Czech Republic\",\"Russia\",\"Greece\",\"Slovak Republic\",\"Costa Rica\"],\"ids\":[\"SVN\",\"IRL\",\"LTU\",\"ISL\",\"CHN\",\"LVA\",\"EST\",\"CZE\",\"RUS\",\"GRC\",\"SVK\",\"CRI\"],\"legendgroup\":\"EM_Other\",\"marker\":{\"color\":\"#FFA15A\",\"size\":[50.0,50.0,50.0,50.0,50.0,50.0,50.0,50.0,50.0,50.0,50.0,50.0],\"sizemode\":\"area\",\"sizeref\":0.16,\"symbol\":\"circle\"},\"mode\":\"markers\",\"name\":\"EM_Other\",\"orientation\":\"v\",\"showlegend\":true,\"x\":[1.802852,2.557189,4.130276,4.001026,5.4,4.370736,4.981901,1.917219,8.440471,3.32987,3.919286,-100.0],\"xaxis\":\"x\",\"y\":[1.3906,1.3906,1.672635,4.256667,5.139167,0.9616666,1.3906,1.19,5.491167,1.3906,1.3906,-100.0],\"yaxis\":\"y\",\"type\":\"scatter\"},{\"hovertemplate\":\"\\u003cb\\u003e%{hovertext}\\u003c\\u002fb\\u003e\\u003cbr\\u003e\\u003cbr\\u003eRegion=DM_Other\\u003cbr\\u003eTIME=2011\\u003cbr\\u003eInflation Rate=%{x}\\u003cbr\\u003eNominal Interest Rate (3m T-Bill)=%{y}\\u003cbr\\u003esize=%{marker.size}\\u003cextra\\u003e\\u003c\\u002fextra\\u003e\",\"hovertext\":[\"South Korea\",\"New Zealand\",\"Israel\",\"Poland\",\"Australia\",\"Norway\"],\"ids\":[\"KOR\",\"NZL\",\"ISR\",\"POL\",\"AUS\",\"NOR\"],\"legendgroup\":\"DM_Other\",\"marker\":{\"color\":\"#19d3f3\",\"size\":[50.0,50.0,50.0,50.0,50.0,50.0],\"sizemode\":\"area\",\"sizeref\":0.16,\"symbol\":\"circle\"},\"mode\":\"markers\",\"name\":\"DM_Other\",\"orientation\":\"v\",\"showlegend\":true,\"x\":[4.025965,4.027903,3.484949,4.266667,3.30385,1.284952],\"xaxis\":\"x\",\"y\":[3.4375,2.8,2.799283,4.578333,4.848333,2.871667],\"yaxis\":\"y\",\"type\":\"scatter\"},{\"hovertemplate\":\"\\u003cb\\u003e%{hovertext}\\u003c\\u002fb\\u003e\\u003cbr\\u003e\\u003cbr\\u003eRegion=DM_Europe\\u003cbr\\u003eTIME=2011\\u003cbr\\u003eInflation Rate=%{x}\\u003cbr\\u003eNominal Interest Rate (3m T-Bill)=%{y}\\u003cbr\\u003esize=%{marker.size}\\u003cextra\\u003e\\u003c\\u002fextra\\u003e\",\"hovertext\":[\"Switzerland\",\"Austria\",\"Luxembourg\",\"Netherlands\",\"Denmark\",\"Finland\",\"Portugal\",\"Spain\",\"Belgium\",\"Sweden\"],\"ids\":[\"CHE\",\"AUT\",\"LUX\",\"NLD\",\"DNK\",\"FIN\",\"PRT\",\"ESP\",\"BEL\",\"SWE\"],\"legendgroup\":\"DM_Europe\",\"marker\":{\"color\":\"#FF6692\",\"size\":[50.0,50.0,50.0,50.0,50.0,50.0,50.0,50.0,50.0,50.0],\"sizemode\":\"area\",\"sizeref\":0.16,\"symbol\":\"circle\"},\"mode\":\"markers\",\"name\":\"DM_Europe\",\"orientation\":\"v\",\"showlegend\":true,\"x\":[0.2313492,3.286583,3.410683,2.34107,2.758682,3.416809,3.653011,3.196102,3.532082,2.961151],\"xaxis\":\"x\",\"y\":[-0.006584417,1.3906,1.3906,1.3906,1.383979,1.3906,1.3906,1.3906,1.3906,1.6575],\"yaxis\":\"y\",\"type\":\"scatter\"}],\"name\":\"2011\",\"layout\":{\"title\":{\"text\":\"2011 : Flight to safety: nominal interest rates held low by investor demand for treasuries\"}}},{\"data\":[{\"hovertemplate\":\"\\u003cb\\u003e%{hovertext}\\u003c\\u002fb\\u003e\\u003cbr\\u003e\\u003cbr\\u003eRegion=United States\\u003cbr\\u003eTIME=2012\\u003cbr\\u003eInflation Rate=%{x}\\u003cbr\\u003eNominal Interest Rate (3m T-Bill)=%{y}\\u003cbr\\u003esize=%{marker.size}\\u003cextra\\u003e\\u003c\\u002fextra\\u003e\",\"hovertext\":[\"United States\"],\"ids\":[\"USA\"],\"legendgroup\":\"United States\",\"marker\":{\"color\":\"#636efa\",\"size\":[200.0],\"sizemode\":\"area\",\"sizeref\":0.16,\"symbol\":\"circle\"},\"mode\":\"markers\",\"name\":\"United States\",\"orientation\":\"v\",\"showlegend\":true,\"x\":[2.069337],\"xaxis\":\"x\",\"y\":[0.2825],\"yaxis\":\"y\",\"type\":\"scatter\"},{\"hovertemplate\":\"\\u003cb\\u003e%{hovertext}\\u003c\\u002fb\\u003e\\u003cbr\\u003e\\u003cbr\\u003eRegion=South Africa\\u003cbr\\u003eTIME=2012\\u003cbr\\u003eInflation Rate=%{x}\\u003cbr\\u003eNominal Interest Rate (3m T-Bill)=%{y}\\u003cbr\\u003esize=%{marker.size}\\u003cextra\\u003e\\u003c\\u002fextra\\u003e\",\"hovertext\":[\"South Africa\"],\"ids\":[\"ZAF\"],\"legendgroup\":\"South Africa\",\"marker\":{\"color\":\"#EF553B\",\"size\":[400.0],\"sizemode\":\"area\",\"sizeref\":0.16,\"symbol\":\"circle\"},\"mode\":\"markers\",\"name\":\"South Africa\",\"orientation\":\"v\",\"showlegend\":true,\"x\":[5.724658],\"xaxis\":\"x\",\"y\":[5.287186],\"yaxis\":\"y\",\"type\":\"scatter\"},{\"hovertemplate\":\"\\u003cb\\u003e%{hovertext}\\u003c\\u002fb\\u003e\\u003cbr\\u003e\\u003cbr\\u003eRegion=G7_ex US\\u003cbr\\u003eTIME=2012\\u003cbr\\u003eInflation Rate=%{x}\\u003cbr\\u003eNominal Interest Rate (3m T-Bill)=%{y}\\u003cbr\\u003esize=%{marker.size}\\u003cextra\\u003e\\u003c\\u002fextra\\u003e\",\"hovertext\":[\"Japan\",\"France\",\"United Kingdom\",\"Canada\",\"Italy\",\"Germany\"],\"ids\":[\"JPN\",\"FRA\",\"GBR\",\"CAN\",\"ITA\",\"DEU\"],\"legendgroup\":\"G7_ex US\",\"marker\":{\"color\":\"#00cc96\",\"size\":[50.0,50.0,50.0,50.0,50.0,50.0],\"sizemode\":\"area\",\"sizeref\":0.16,\"symbol\":\"circle\"},\"mode\":\"markers\",\"name\":\"G7_ex US\",\"orientation\":\"v\",\"showlegend\":true,\"x\":[-0.04166667,1.954195,2.6,1.515678,3.041363,2.008491],\"xaxis\":\"x\",\"y\":[0.3272108,0.5731834,0.8272508,1.159862,0.5731834,0.5731834],\"yaxis\":\"y\",\"type\":\"scatter\"},{\"hovertemplate\":\"\\u003cb\\u003e%{hovertext}\\u003c\\u002fb\\u003e\\u003cbr\\u003e\\u003cbr\\u003eRegion=EM_Peer\\u003cbr\\u003eTIME=2012\\u003cbr\\u003eInflation Rate=%{x}\\u003cbr\\u003eNominal Interest Rate (3m T-Bill)=%{y}\\u003cbr\\u003esize=%{marker.size}\\u003cextra\\u003e\\u003c\\u002fextra\\u003e\",\"hovertext\":[\"India\",\"Indonesia\",\"Colombia\",\"Mexico\",\"Chile\",\"Hungary\"],\"ids\":[\"IND\",\"IDN\",\"COL\",\"MEX\",\"CHL\",\"HUN\"],\"legendgroup\":\"EM_Peer\",\"marker\":{\"color\":\"#ab63fa\",\"size\":[100.0,100.0,100.0,100.0,100.0,100.0],\"sizemode\":\"area\",\"sizeref\":0.16,\"symbol\":\"circle\"},\"mode\":\"markers\",\"name\":\"EM_Peer\",\"orientation\":\"v\",\"showlegend\":true,\"x\":[9.312446,4.279512,3.169303,4.111508,-100.0,-100.0],\"xaxis\":\"x\",\"y\":[8.402875,5.946667,5.354167,4.806667,-100.0,-100.0],\"yaxis\":\"y\",\"type\":\"scatter\"},{\"hovertemplate\":\"\\u003cb\\u003e%{hovertext}\\u003c\\u002fb\\u003e\\u003cbr\\u003e\\u003cbr\\u003eRegion=EM_Other\\u003cbr\\u003eTIME=2012\\u003cbr\\u003eInflation Rate=%{x}\\u003cbr\\u003eNominal Interest Rate (3m T-Bill)=%{y}\\u003cbr\\u003esize=%{marker.size}\\u003cextra\\u003e\\u003c\\u002fextra\\u003e\",\"hovertext\":[\"Greece\",\"Latvia\",\"Estonia\",\"Czech Republic\",\"Slovak Republic\",\"Lithuania\",\"Russia\",\"Slovenia\",\"Iceland\",\"China\",\"Ireland\",\"Costa Rica\"],\"ids\":[\"GRC\",\"LVA\",\"EST\",\"CZE\",\"SVK\",\"LTU\",\"RUS\",\"SVN\",\"ISL\",\"CHN\",\"IRL\",\"CRI\"],\"legendgroup\":\"EM_Other\",\"marker\":{\"color\":\"#FFA15A\",\"size\":[50.0,50.0,50.0,50.0,50.0,50.0,50.0,50.0,50.0,50.0,50.0,50.0],\"sizemode\":\"area\",\"sizeref\":0.16,\"symbol\":\"circle\"},\"mode\":\"markers\",\"name\":\"EM_Other\",\"orientation\":\"v\",\"showlegend\":true,\"x\":[1.50152,2.257789,3.9334,3.287623,3.606103,3.089983,5.074733,2.597414,5.1859,2.6,1.696209,-100.0],\"xaxis\":\"x\",\"y\":[0.5731834,0.8883333,0.5731834,0.9975,0.5731834,1.081989,7.290417,0.5731834,5.513333,4.310833,0.5731834,-100.0],\"yaxis\":\"y\",\"type\":\"scatter\"},{\"hovertemplate\":\"\\u003cb\\u003e%{hovertext}\\u003c\\u002fb\\u003e\\u003cbr\\u003e\\u003cbr\\u003eRegion=DM_Other\\u003cbr\\u003eTIME=2012\\u003cbr\\u003eInflation Rate=%{x}\\u003cbr\\u003eNominal Interest Rate (3m T-Bill)=%{y}\\u003cbr\\u003esize=%{marker.size}\\u003cextra\\u003e\\u003c\\u002fextra\\u003e\",\"hovertext\":[\"Australia\",\"New Zealand\",\"Poland\",\"Norway\",\"Israel\",\"South Korea\"],\"ids\":[\"AUS\",\"NZL\",\"POL\",\"NOR\",\"ISR\",\"KOR\"],\"legendgroup\":\"DM_Other\",\"marker\":{\"color\":\"#19d3f3\",\"size\":[50.0,50.0,50.0,50.0,50.0,50.0],\"sizemode\":\"area\",\"sizeref\":0.16,\"symbol\":\"circle\"},\"mode\":\"markers\",\"name\":\"DM_Other\",\"orientation\":\"v\",\"showlegend\":true,\"x\":[1.76278,1.059918,3.7,0.6968641,1.679207,2.187071],\"xaxis\":\"x\",\"y\":[3.728333,2.671667,4.874558,2.235,2.251945,3.2975],\"yaxis\":\"y\",\"type\":\"scatter\"},{\"hovertemplate\":\"\\u003cb\\u003e%{hovertext}\\u003c\\u002fb\\u003e\\u003cbr\\u003e\\u003cbr\\u003eRegion=DM_Europe\\u003cbr\\u003eTIME=2012\\u003cbr\\u003eInflation Rate=%{x}\\u003cbr\\u003eNominal Interest Rate (3m T-Bill)=%{y}\\u003cbr\\u003esize=%{marker.size}\\u003cextra\\u003e\\u003c\\u002fextra\\u003e\",\"hovertext\":[\"Portugal\",\"Denmark\",\"Netherlands\",\"Spain\",\"Belgium\",\"Finland\",\"Sweden\",\"Switzerland\",\"Luxembourg\",\"Austria\"],\"ids\":[\"PRT\",\"DNK\",\"NLD\",\"ESP\",\"BEL\",\"FIN\",\"SWE\",\"CHE\",\"LUX\",\"AUT\"],\"legendgroup\":\"DM_Europe\",\"marker\":{\"color\":\"#FF6692\",\"size\":[50.0,50.0,50.0,50.0,50.0,50.0,50.0,50.0,50.0,50.0],\"sizemode\":\"area\",\"sizeref\":0.16,\"symbol\":\"circle\"},\"mode\":\"markers\",\"name\":\"DM_Europe\",\"orientation\":\"v\",\"showlegend\":true,\"x\":[2.773339,2.397915,2.455548,2.446128,2.839664,2.808332,0.8883775,-0.692552,2.662842,2.485675],\"xaxis\":\"x\",\"y\":[0.5731834,0.6200195,0.5731834,0.5731834,0.5731834,0.5731834,1.253333,-0.04468375,0.5731834,0.5731834],\"yaxis\":\"y\",\"type\":\"scatter\"}],\"name\":\"2012\",\"layout\":{\"title\":{\"text\":\"2012 : European sovereign debt crisis intensifies as US dollar strengthens\"}}},{\"data\":[{\"hovertemplate\":\"\\u003cb\\u003e%{hovertext}\\u003c\\u002fb\\u003e\\u003cbr\\u003e\\u003cbr\\u003eRegion=United States\\u003cbr\\u003eTIME=2013\\u003cbr\\u003eInflation Rate=%{x}\\u003cbr\\u003eNominal Interest Rate (3m T-Bill)=%{y}\\u003cbr\\u003esize=%{marker.size}\\u003cextra\\u003e\\u003c\\u002fextra\\u003e\",\"hovertext\":[\"United States\"],\"ids\":[\"USA\"],\"legendgroup\":\"United States\",\"marker\":{\"color\":\"#636efa\",\"size\":[200.0],\"sizemode\":\"area\",\"sizeref\":0.16,\"symbol\":\"circle\"},\"mode\":\"markers\",\"name\":\"United States\",\"orientation\":\"v\",\"showlegend\":true,\"x\":[1.464833],\"xaxis\":\"x\",\"y\":[0.1666667],\"yaxis\":\"y\",\"type\":\"scatter\"},{\"hovertemplate\":\"\\u003cb\\u003e%{hovertext}\\u003c\\u002fb\\u003e\\u003cbr\\u003e\\u003cbr\\u003eRegion=South Africa\\u003cbr\\u003eTIME=2013\\u003cbr\\u003eInflation Rate=%{x}\\u003cbr\\u003eNominal Interest Rate (3m T-Bill)=%{y}\\u003cbr\\u003esize=%{marker.size}\\u003cextra\\u003e\\u003c\\u002fextra\\u003e\",\"hovertext\":[\"South Africa\"],\"ids\":[\"ZAF\"],\"legendgroup\":\"South Africa\",\"marker\":{\"color\":\"#EF553B\",\"size\":[400.0],\"sizemode\":\"area\",\"sizeref\":0.16,\"symbol\":\"circle\"},\"mode\":\"markers\",\"name\":\"South Africa\",\"orientation\":\"v\",\"showlegend\":true,\"x\":[5.784469],\"xaxis\":\"x\",\"y\":[5.078237],\"yaxis\":\"y\",\"type\":\"scatter\"},{\"hovertemplate\":\"\\u003cb\\u003e%{hovertext}\\u003c\\u002fb\\u003e\\u003cbr\\u003e\\u003cbr\\u003eRegion=G7_ex US\\u003cbr\\u003eTIME=2013\\u003cbr\\u003eInflation Rate=%{x}\\u003cbr\\u003eNominal Interest Rate (3m T-Bill)=%{y}\\u003cbr\\u003esize=%{marker.size}\\u003cextra\\u003e\\u003c\\u002fextra\\u003e\",\"hovertext\":[\"United Kingdom\",\"Italy\",\"Canada\",\"Germany\",\"France\",\"Japan\"],\"ids\":[\"GBR\",\"ITA\",\"CAN\",\"DEU\",\"FRA\",\"JPN\"],\"legendgroup\":\"G7_ex US\",\"marker\":{\"color\":\"#00cc96\",\"size\":[50.0,50.0,50.0,50.0,50.0,50.0],\"sizemode\":\"area\",\"sizeref\":0.16,\"symbol\":\"circle\"},\"mode\":\"markers\",\"name\":\"G7_ex US\",\"orientation\":\"v\",\"showlegend\":true,\"x\":[2.3,1.219992,0.9382919,1.504722,0.8637155,0.35],\"xaxis\":\"x\",\"y\":[0.5126609,0.2206667,1.164424,0.2206667,0.2206667,0.2367042],\"yaxis\":\"y\",\"type\":\"scatter\"},{\"hovertemplate\":\"\\u003cb\\u003e%{hovertext}\\u003c\\u002fb\\u003e\\u003cbr\\u003e\\u003cbr\\u003eRegion=EM_Peer\\u003cbr\\u003eTIME=2013\\u003cbr\\u003eInflation Rate=%{x}\\u003cbr\\u003eNominal Interest Rate (3m T-Bill)=%{y}\\u003cbr\\u003esize=%{marker.size}\\u003cextra\\u003e\\u003c\\u002fextra\\u003e\",\"hovertext\":[\"Mexico\",\"India\",\"Colombia\",\"Indonesia\",\"Chile\",\"Hungary\"],\"ids\":[\"MEX\",\"IND\",\"COL\",\"IDN\",\"CHL\",\"HUN\"],\"legendgroup\":\"EM_Peer\",\"marker\":{\"color\":\"#ab63fa\",\"size\":[100.0,100.0,100.0,100.0,100.0,100.0],\"sizemode\":\"area\",\"sizeref\":0.16,\"symbol\":\"circle\"},\"mode\":\"markers\",\"name\":\"EM_Peer\",\"orientation\":\"v\",\"showlegend\":true,\"x\":[3.80639,10.90764,2.016993,6.4125,-100.0,-100.0],\"xaxis\":\"x\",\"y\":[4.285833,8.644139,4.239167,6.2625,-100.0,-100.0],\"yaxis\":\"y\",\"type\":\"scatter\"},{\"hovertemplate\":\"\\u003cb\\u003e%{hovertext}\\u003c\\u002fb\\u003e\\u003cbr\\u003e\\u003cbr\\u003eRegion=EM_Other\\u003cbr\\u003eTIME=2013\\u003cbr\\u003eInflation Rate=%{x}\\u003cbr\\u003eNominal Interest Rate (3m T-Bill)=%{y}\\u003cbr\\u003esize=%{marker.size}\\u003cextra\\u003e\\u003c\\u002fextra\\u003e\",\"hovertext\":[\"Costa Rica\",\"Estonia\",\"Czech Republic\",\"Ireland\",\"Slovak Republic\",\"Lithuania\",\"Russia\",\"Greece\",\"Iceland\",\"China\",\"Latvia\",\"Slovenia\"],\"ids\":[\"CRI\",\"EST\",\"CZE\",\"IRL\",\"SVK\",\"LTU\",\"RUS\",\"GRC\",\"ISL\",\"CHN\",\"LVA\",\"SVN\"],\"legendgroup\":\"EM_Other\",\"marker\":{\"color\":\"#FFA15A\",\"size\":[50.0,50.0,50.0,50.0,50.0,50.0,50.0,50.0,50.0,50.0,50.0,50.0],\"sizemode\":\"area\",\"sizeref\":0.16,\"symbol\":\"circle\"},\"mode\":\"markers\",\"name\":\"EM_Other\",\"orientation\":\"v\",\"showlegend\":true,\"x\":[5.231336,2.780567,1.438298,0.5087149,1.400474,1.047479,6.753717,-0.9212719,3.872275,2.6,-0.02945478,1.769201],\"xaxis\":\"x\",\"y\":[5.564312,0.2206667,0.4566667,0.2206667,0.2206667,0.5098846,7.489417,0.2206667,6.188334,4.976666,0.3625,0.2206667],\"yaxis\":\"y\",\"type\":\"scatter\"},{\"hovertemplate\":\"\\u003cb\\u003e%{hovertext}\\u003c\\u002fb\\u003e\\u003cbr\\u003e\\u003cbr\\u003eRegion=DM_Other\\u003cbr\\u003eTIME=2013\\u003cbr\\u003eInflation Rate=%{x}\\u003cbr\\u003eNominal Interest Rate (3m T-Bill)=%{y}\\u003cbr\\u003esize=%{marker.size}\\u003cextra\\u003e\\u003c\\u002fextra\\u003e\",\"hovertext\":[\"Norway\",\"Poland\",\"South Korea\",\"Australia\",\"New Zealand\",\"Israel\"],\"ids\":[\"NOR\",\"POL\",\"KOR\",\"AUS\",\"NZL\",\"ISR\"],\"legendgroup\":\"DM_Other\",\"marker\":{\"color\":\"#19d3f3\",\"size\":[50.0,50.0,50.0,50.0,50.0,50.0],\"sizemode\":\"area\",\"sizeref\":0.16,\"symbol\":\"circle\"},\"mode\":\"markers\",\"name\":\"DM_Other\",\"orientation\":\"v\",\"showlegend\":true,\"x\":[2.120486,0.9,1.301347,2.449889,1.134418,1.570255],\"xaxis\":\"x\",\"y\":[1.755068,2.975833,2.7225,2.7775,2.656667,1.320039],\"yaxis\":\"y\",\"type\":\"scatter\"},{\"hovertemplate\":\"\\u003cb\\u003e%{hovertext}\\u003c\\u002fb\\u003e\\u003cbr\\u003e\\u003cbr\\u003eRegion=DM_Europe\\u003cbr\\u003eTIME=2013\\u003cbr\\u003eInflation Rate=%{x}\\u003cbr\\u003eNominal Interest Rate (3m T-Bill)=%{y}\\u003cbr\\u003esize=%{marker.size}\\u003cextra\\u003e\\u003c\\u002fextra\\u003e\",\"hovertext\":[\"Belgium\",\"Spain\",\"Netherlands\",\"Switzerland\",\"Denmark\",\"Sweden\",\"Finland\",\"Luxembourg\",\"Austria\",\"Portugal\"],\"ids\":[\"BEL\",\"ESP\",\"NLD\",\"CHE\",\"DNK\",\"SWE\",\"FIN\",\"LUX\",\"AUT\",\"PRT\"],\"legendgroup\":\"DM_Europe\",\"marker\":{\"color\":\"#FF6692\",\"size\":[50.0,50.0,50.0,50.0,50.0,50.0,50.0,50.0,50.0,50.0],\"sizemode\":\"area\",\"sizeref\":0.16,\"symbol\":\"circle\"},\"mode\":\"markers\",\"name\":\"DM_Europe\",\"orientation\":\"v\",\"showlegend\":true,\"x\":[1.113096,1.408581,2.506899,-0.2173232,0.7890718,-0.04429297,1.478288,1.73404,2.000158,0.2744167],\"xaxis\":\"x\",\"y\":[0.2206667,0.2206667,0.2206667,-0.04866817,0.2713604,0.9258333,0.2206667,0.2206667,0.2206667,0.2206667],\"yaxis\":\"y\",\"type\":\"scatter\"}],\"name\":\"2013\",\"layout\":{\"title\":{\"text\":\"2013 : Euro area emerges from recession, but low interest rates persist\"}}},{\"data\":[{\"hovertemplate\":\"\\u003cb\\u003e%{hovertext}\\u003c\\u002fb\\u003e\\u003cbr\\u003e\\u003cbr\\u003eRegion=United States\\u003cbr\\u003eTIME=2014\\u003cbr\\u003eInflation Rate=%{x}\\u003cbr\\u003eNominal Interest Rate (3m T-Bill)=%{y}\\u003cbr\\u003esize=%{marker.size}\\u003cextra\\u003e\\u003c\\u002fextra\\u003e\",\"hovertext\":[\"United States\"],\"ids\":[\"USA\"],\"legendgroup\":\"United States\",\"marker\":{\"color\":\"#636efa\",\"size\":[200.0],\"sizemode\":\"area\",\"sizeref\":0.16,\"symbol\":\"circle\"},\"mode\":\"markers\",\"name\":\"United States\",\"orientation\":\"v\",\"showlegend\":true,\"x\":[1.622223],\"xaxis\":\"x\",\"y\":[0.1241667],\"yaxis\":\"y\",\"type\":\"scatter\"},{\"hovertemplate\":\"\\u003cb\\u003e%{hovertext}\\u003c\\u002fb\\u003e\\u003cbr\\u003e\\u003cbr\\u003eRegion=South Africa\\u003cbr\\u003eTIME=2014\\u003cbr\\u003eInflation Rate=%{x}\\u003cbr\\u003eNominal Interest Rate (3m T-Bill)=%{y}\\u003cbr\\u003esize=%{marker.size}\\u003cextra\\u003e\\u003c\\u002fextra\\u003e\",\"hovertext\":[\"South Africa\"],\"ids\":[\"ZAF\"],\"legendgroup\":\"South Africa\",\"marker\":{\"color\":\"#EF553B\",\"size\":[400.0],\"sizemode\":\"area\",\"sizeref\":0.16,\"symbol\":\"circle\"},\"mode\":\"markers\",\"name\":\"South Africa\",\"orientation\":\"v\",\"showlegend\":true,\"x\":[6.129838],\"xaxis\":\"x\",\"y\":[5.798091],\"yaxis\":\"y\",\"type\":\"scatter\"},{\"hovertemplate\":\"\\u003cb\\u003e%{hovertext}\\u003c\\u002fb\\u003e\\u003cbr\\u003e\\u003cbr\\u003eRegion=G7_ex US\\u003cbr\\u003eTIME=2014\\u003cbr\\u003eInflation Rate=%{x}\\u003cbr\\u003eNominal Interest Rate (3m T-Bill)=%{y}\\u003cbr\\u003esize=%{marker.size}\\u003cextra\\u003e\\u003c\\u002fextra\\u003e\",\"hovertext\":[\"Italy\",\"Germany\",\"United Kingdom\",\"Japan\",\"Canada\",\"France\"],\"ids\":[\"ITA\",\"DEU\",\"GBR\",\"JPN\",\"CAN\",\"FRA\"],\"legendgroup\":\"G7_ex US\",\"marker\":{\"color\":\"#00cc96\",\"size\":[50.0,50.0,50.0,50.0,50.0,50.0],\"sizemode\":\"area\",\"sizeref\":0.16,\"symbol\":\"circle\"},\"mode\":\"markers\",\"name\":\"G7_ex US\",\"orientation\":\"v\",\"showlegend\":true,\"x\":[0.2410575,0.9067971,1.5,2.733333,1.906636,0.5077588],\"xaxis\":\"x\",\"y\":[0.2099333,0.2099333,0.5429491,0.2049167,1.172978,0.2099333],\"yaxis\":\"y\",\"type\":\"scatter\"},{\"hovertemplate\":\"\\u003cb\\u003e%{hovertext}\\u003c\\u002fb\\u003e\\u003cbr\\u003e\\u003cbr\\u003eRegion=EM_Peer\\u003cbr\\u003eTIME=2014\\u003cbr\\u003eInflation Rate=%{x}\\u003cbr\\u003eNominal Interest Rate (3m T-Bill)=%{y}\\u003cbr\\u003esize=%{marker.size}\\u003cextra\\u003e\\u003c\\u002fextra\\u003e\",\"hovertext\":[\"Mexico\",\"Colombia\",\"Indonesia\",\"Hungary\",\"India\",\"Chile\"],\"ids\":[\"MEX\",\"COL\",\"IDN\",\"HUN\",\"IND\",\"CHL\"],\"legendgroup\":\"EM_Peer\",\"marker\":{\"color\":\"#ab63fa\",\"size\":[100.0,100.0,100.0,100.0,100.0,100.0],\"sizemode\":\"area\",\"sizeref\":0.16,\"symbol\":\"circle\"},\"mode\":\"markers\",\"name\":\"EM_Peer\",\"orientation\":\"v\",\"showlegend\":true,\"x\":[4.018617,2.898838,6.394926,-0.2275663,6.353195,-100.0],\"xaxis\":\"x\",\"y\":[3.525833,4.068333,8.756667,2.493558,8.668041,-100.0],\"yaxis\":\"y\",\"type\":\"scatter\"},{\"hovertemplate\":\"\\u003cb\\u003e%{hovertext}\\u003c\\u002fb\\u003e\\u003cbr\\u003e\\u003cbr\\u003eRegion=EM_Other\\u003cbr\\u003eTIME=2014\\u003cbr\\u003eInflation Rate=%{x}\\u003cbr\\u003eNominal Interest Rate (3m T-Bill)=%{y}\\u003cbr\\u003esize=%{marker.size}\\u003cextra\\u003e\\u003c\\u002fextra\\u003e\",\"hovertext\":[\"Slovenia\",\"Russia\",\"Slovak Republic\",\"Estonia\",\"Latvia\",\"Costa Rica\",\"Czech Republic\",\"Lithuania\",\"Greece\",\"Iceland\",\"China\",\"Ireland\"],\"ids\":[\"SVN\",\"RUS\",\"SVK\",\"EST\",\"LVA\",\"CRI\",\"CZE\",\"LTU\",\"GRC\",\"ISL\",\"CHN\",\"IRL\"],\"legendgroup\":\"EM_Other\",\"marker\":{\"color\":\"#FFA15A\",\"size\":[50.0,50.0,50.0,50.0,50.0,50.0,50.0,50.0,50.0,50.0,50.0,50.0],\"sizemode\":\"area\",\"sizeref\":0.16,\"symbol\":\"circle\"},\"mode\":\"markers\",\"name\":\"EM_Other\",\"orientation\":\"v\",\"showlegend\":true,\"x\":[0.1993438,7.823416,-0.07616533,-0.1061751,0.6204923,4.519201,0.3439886,0.103758,-1.312242,2.044619,2.0,0.1825423],\"xaxis\":\"x\",\"y\":[0.2099333,9.435917,0.2099333,0.2099333,0.2099333,5.326087,0.3566667,0.3267963,0.2099333,6.0525,4.804167,0.2099333],\"yaxis\":\"y\",\"type\":\"scatter\"},{\"hovertemplate\":\"\\u003cb\\u003e%{hovertext}\\u003c\\u002fb\\u003e\\u003cbr\\u003e\\u003cbr\\u003eRegion=DM_Other\\u003cbr\\u003eTIME=2014\\u003cbr\\u003eInflation Rate=%{x}\\u003cbr\\u003eNominal Interest Rate (3m T-Bill)=%{y}\\u003cbr\\u003esize=%{marker.size}\\u003cextra\\u003e\\u003c\\u002fextra\\u003e\",\"hovertext\":[\"Poland\",\"Israel\",\"Norway\",\"Australia\",\"South Korea\",\"New Zealand\"],\"ids\":[\"POL\",\"ISR\",\"NOR\",\"AUS\",\"KOR\",\"NZL\"],\"legendgroup\":\"DM_Other\",\"marker\":{\"color\":\"#19d3f3\",\"size\":[50.0,50.0,50.0,50.0,50.0,50.0],\"sizemode\":\"area\",\"sizeref\":0.16,\"symbol\":\"circle\"},\"mode\":\"markers\",\"name\":\"DM_Other\",\"orientation\":\"v\",\"showlegend\":true,\"x\":[-0.025,0.4797868,2.041703,2.487923,1.274774,1.227513],\"xaxis\":\"x\",\"y\":[2.489167,0.5465347,1.69904,2.6775,2.491667,3.424167],\"yaxis\":\"y\",\"type\":\"scatter\"},{\"hovertemplate\":\"\\u003cb\\u003e%{hovertext}\\u003c\\u002fb\\u003e\\u003cbr\\u003e\\u003cbr\\u003eRegion=DM_Europe\\u003cbr\\u003eTIME=2014\\u003cbr\\u003eInflation Rate=%{x}\\u003cbr\\u003eNominal Interest Rate (3m T-Bill)=%{y}\\u003cbr\\u003esize=%{marker.size}\\u003cextra\\u003e\\u003c\\u002fextra\\u003e\",\"hovertext\":[\"Switzerland\",\"Sweden\",\"Spain\",\"Finland\",\"Denmark\",\"Portugal\",\"Netherlands\",\"Belgium\",\"Austria\",\"Luxembourg\"],\"ids\":[\"CHE\",\"SWE\",\"ESP\",\"FIN\",\"DNK\",\"PRT\",\"NLD\",\"BEL\",\"AUT\",\"LUX\"],\"legendgroup\":\"DM_Europe\",\"marker\":{\"color\":\"#FF6692\",\"size\":[50.0,50.0,50.0,50.0,50.0,50.0,50.0,50.0,50.0,50.0],\"sizemode\":\"area\",\"sizeref\":0.16,\"symbol\":\"circle\"},\"mode\":\"markers\",\"name\":\"DM_Europe\",\"orientation\":\"v\",\"showlegend\":true,\"x\":[-0.01320254,-0.1796385,-0.1511148,1.0412,0.5640205,-0.2781534,0.9760351,0.3400028,1.605806,0.628544],\"xaxis\":\"x\",\"y\":[0.0036705,0.4208333,0.2099333,0.2099333,0.3149578,0.2099333,0.2099333,0.2099333,0.2099333,0.2099333],\"yaxis\":\"y\",\"type\":\"scatter\"}],\"name\":\"2014\",\"layout\":{\"title\":{\"text\":\"2014 : US ends quantitative easing\"}}},{\"data\":[{\"hovertemplate\":\"\\u003cb\\u003e%{hovertext}\\u003c\\u002fb\\u003e\\u003cbr\\u003e\\u003cbr\\u003eRegion=United States\\u003cbr\\u003eTIME=2015\\u003cbr\\u003eInflation Rate=%{x}\\u003cbr\\u003eNominal Interest Rate (3m T-Bill)=%{y}\\u003cbr\\u003esize=%{marker.size}\\u003cextra\\u003e\\u003c\\u002fextra\\u003e\",\"hovertext\":[\"United States\"],\"ids\":[\"USA\"],\"legendgroup\":\"United States\",\"marker\":{\"color\":\"#636efa\",\"size\":[200.0],\"sizemode\":\"area\",\"sizeref\":0.16,\"symbol\":\"circle\"},\"mode\":\"markers\",\"name\":\"United States\",\"orientation\":\"v\",\"showlegend\":true,\"x\":[0.1186271],\"xaxis\":\"x\",\"y\":[0.2266667],\"yaxis\":\"y\",\"type\":\"scatter\"},{\"hovertemplate\":\"\\u003cb\\u003e%{hovertext}\\u003c\\u002fb\\u003e\\u003cbr\\u003e\\u003cbr\\u003eRegion=South Africa\\u003cbr\\u003eTIME=2015\\u003cbr\\u003eInflation Rate=%{x}\\u003cbr\\u003eNominal Interest Rate (3m T-Bill)=%{y}\\u003cbr\\u003esize=%{marker.size}\\u003cextra\\u003e\\u003c\\u002fextra\\u003e\",\"hovertext\":[\"South Africa\"],\"ids\":[\"ZAF\"],\"legendgroup\":\"South Africa\",\"marker\":{\"color\":\"#EF553B\",\"size\":[400.0],\"sizemode\":\"area\",\"sizeref\":0.16,\"symbol\":\"circle\"},\"mode\":\"markers\",\"name\":\"South Africa\",\"orientation\":\"v\",\"showlegend\":true,\"x\":[4.540642],\"xaxis\":\"x\",\"y\":[6.052203],\"yaxis\":\"y\",\"type\":\"scatter\"},{\"hovertemplate\":\"\\u003cb\\u003e%{hovertext}\\u003c\\u002fb\\u003e\\u003cbr\\u003e\\u003cbr\\u003eRegion=G7_ex US\\u003cbr\\u003eTIME=2015\\u003cbr\\u003eInflation Rate=%{x}\\u003cbr\\u003eNominal Interest Rate (3m T-Bill)=%{y}\\u003cbr\\u003esize=%{marker.size}\\u003cextra\\u003e\\u003c\\u002fextra\\u003e\",\"hovertext\":[\"Germany\",\"Japan\",\"France\",\"Canada\",\"United Kingdom\",\"Italy\"],\"ids\":[\"DEU\",\"JPN\",\"FRA\",\"CAN\",\"GBR\",\"ITA\"],\"legendgroup\":\"G7_ex US\",\"marker\":{\"color\":\"#00cc96\",\"size\":[50.0,50.0,50.0,50.0,50.0,50.0],\"sizemode\":\"area\",\"sizeref\":0.16,\"symbol\":\"circle\"},\"mode\":\"markers\",\"name\":\"G7_ex US\",\"orientation\":\"v\",\"showlegend\":true,\"x\":[0.514421,0.8,0.03751438,1.125241,0.4,0.03878675],\"xaxis\":\"x\",\"y\":[-0.01936667,0.1696667,-0.01936667,0.822647,0.5741492,-0.01936667],\"yaxis\":\"y\",\"type\":\"scatter\"},{\"hovertemplate\":\"\\u003cb\\u003e%{hovertext}\\u003c\\u002fb\\u003e\\u003cbr\\u003e\\u003cbr\\u003eRegion=EM_Peer\\u003cbr\\u003eTIME=2015\\u003cbr\\u003eInflation Rate=%{x}\\u003cbr\\u003eNominal Interest Rate (3m T-Bill)=%{y}\\u003cbr\\u003esize=%{marker.size}\\u003cextra\\u003e\\u003c\\u002fextra\\u003e\",\"hovertext\":[\"Colombia\",\"Mexico\",\"Hungary\",\"India\",\"Indonesia\",\"Chile\"],\"ids\":[\"COL\",\"MEX\",\"HUN\",\"IND\",\"IDN\",\"CHL\"],\"legendgroup\":\"EM_Peer\",\"marker\":{\"color\":\"#ab63fa\",\"size\":[100.0,100.0,100.0,100.0,100.0,100.0],\"sizemode\":\"area\",\"sizeref\":0.16,\"symbol\":\"circle\"},\"mode\":\"markers\",\"name\":\"EM_Peer\",\"orientation\":\"v\",\"showlegend\":true,\"x\":[4.989829,2.720641,-0.06164468,5.872427,6.363121,-100.0],\"xaxis\":\"x\",\"y\":[4.578333,3.3425,1.491292,7.677819,8.336667,-100.0],\"yaxis\":\"y\",\"type\":\"scatter\"},{\"hovertemplate\":\"\\u003cb\\u003e%{hovertext}\\u003c\\u002fb\\u003e\\u003cbr\\u003e\\u003cbr\\u003eRegion=EM_Other\\u003cbr\\u003eTIME=2015\\u003cbr\\u003eInflation Rate=%{x}\\u003cbr\\u003eNominal Interest Rate (3m T-Bill)=%{y}\\u003cbr\\u003esize=%{marker.size}\\u003cextra\\u003e\\u003c\\u002fextra\\u003e\",\"hovertext\":[\"Iceland\",\"Lithuania\",\"Russia\",\"Latvia\",\"Estonia\",\"Ireland\",\"Czech Republic\",\"Slovenia\",\"China\",\"Slovak Republic\",\"Greece\",\"Costa Rica\"],\"ids\":[\"ISL\",\"LTU\",\"RUS\",\"LVA\",\"EST\",\"IRL\",\"CZE\",\"SVN\",\"CHN\",\"SVK\",\"GRC\",\"CRI\"],\"legendgroup\":\"EM_Other\",\"marker\":{\"color\":\"#FFA15A\",\"size\":[50.0,50.0,50.0,50.0,50.0,50.0,50.0,50.0,50.0,50.0,50.0,50.0],\"sizemode\":\"area\",\"sizeref\":0.16,\"symbol\":\"circle\"},\"mode\":\"markers\",\"name\":\"EM_Other\",\"orientation\":\"v\",\"showlegend\":true,\"x\":[1.633058,-0.8840974,15.5344,0.1742414,-0.492326,-0.2898791,0.3093646,-0.5255523,1.4,-0.3252198,-1.735902,0.801982],\"xaxis\":\"x\",\"y\":[5.891667,-0.01936667,14.75667,-0.01936667,-0.01936667,-0.01936667,0.3083333,-0.01936667,3.730833,-0.01936667,-0.01936667,5.130435],\"yaxis\":\"y\",\"type\":\"scatter\"},{\"hovertemplate\":\"\\u003cb\\u003e%{hovertext}\\u003c\\u002fb\\u003e\\u003cbr\\u003e\\u003cbr\\u003eRegion=DM_Other\\u003cbr\\u003eTIME=2015\\u003cbr\\u003eInflation Rate=%{x}\\u003cbr\\u003eNominal Interest Rate (3m T-Bill)=%{y}\\u003cbr\\u003esize=%{marker.size}\\u003cextra\\u003e\\u003c\\u002fextra\\u003e\",\"hovertext\":[\"Israel\",\"South Korea\",\"Australia\",\"New Zealand\",\"Norway\",\"Poland\"],\"ids\":[\"ISR\",\"KOR\",\"AUS\",\"NZL\",\"NOR\",\"POL\"],\"legendgroup\":\"DM_Other\",\"marker\":{\"color\":\"#19d3f3\",\"size\":[50.0,50.0,50.0,50.0,50.0,50.0],\"sizemode\":\"area\",\"sizeref\":0.16,\"symbol\":\"circle\"},\"mode\":\"markers\",\"name\":\"DM_Other\",\"orientation\":\"v\",\"showlegend\":true,\"x\":[-0.601291,0.7063318,1.508367,0.2927033,2.171137,-0.9333333],\"xaxis\":\"x\",\"y\":[0.1230249,1.77,2.255833,3.240833,1.290675,1.738333],\"yaxis\":\"y\",\"type\":\"scatter\"},{\"hovertemplate\":\"\\u003cb\\u003e%{hovertext}\\u003c\\u002fb\\u003e\\u003cbr\\u003e\\u003cbr\\u003eRegion=DM_Europe\\u003cbr\\u003eTIME=2015\\u003cbr\\u003eInflation Rate=%{x}\\u003cbr\\u003eNominal Interest Rate (3m T-Bill)=%{y}\\u003cbr\\u003esize=%{marker.size}\\u003cextra\\u003e\\u003c\\u002fextra\\u003e\",\"hovertext\":[\"Denmark\",\"Netherlands\",\"Luxembourg\",\"Finland\",\"Sweden\",\"Spain\",\"Austria\",\"Belgium\",\"Portugal\",\"Switzerland\"],\"ids\":[\"DNK\",\"NLD\",\"LUX\",\"FIN\",\"SWE\",\"ESP\",\"AUT\",\"BEL\",\"PRT\",\"CHE\"],\"legendgroup\":\"DM_Europe\",\"marker\":{\"color\":\"#FF6692\",\"size\":[50.0,50.0,50.0,50.0,50.0,50.0,50.0,50.0,50.0,50.0],\"sizemode\":\"area\",\"sizeref\":0.16,\"symbol\":\"circle\"},\"mode\":\"markers\",\"name\":\"DM_Europe\",\"orientation\":\"v\",\"showlegend\":true,\"x\":[0.4520341,0.6002482,0.4747432,-0.207932,-0.04678474,-0.5003657,0.8965653,0.5614291,0.4879386,-1.143909],\"xaxis\":\"x\",\"y\":[-0.1233188,-0.01936667,-0.01936667,-0.01936667,-0.2891667,-0.01936667,-0.01936667,-0.01936667,-0.01936667,-0.7307373],\"yaxis\":\"y\",\"type\":\"scatter\"}],\"name\":\"2015\",\"layout\":{\"title\":{\"text\":\"2015 : Dramatic oil price drop spurs widespread lower inflation trends\"}}},{\"data\":[{\"hovertemplate\":\"\\u003cb\\u003e%{hovertext}\\u003c\\u002fb\\u003e\\u003cbr\\u003e\\u003cbr\\u003eRegion=United States\\u003cbr\\u003eTIME=2016\\u003cbr\\u003eInflation Rate=%{x}\\u003cbr\\u003eNominal Interest Rate (3m T-Bill)=%{y}\\u003cbr\\u003esize=%{marker.size}\\u003cextra\\u003e\\u003c\\u002fextra\\u003e\",\"hovertext\":[\"United States\"],\"ids\":[\"USA\"],\"legendgroup\":\"United States\",\"marker\":{\"color\":\"#636efa\",\"size\":[200.0],\"sizemode\":\"area\",\"sizeref\":0.16,\"symbol\":\"circle\"},\"mode\":\"markers\",\"name\":\"United States\",\"orientation\":\"v\",\"showlegend\":true,\"x\":[1.261583],\"xaxis\":\"x\",\"y\":[0.6441666],\"yaxis\":\"y\",\"type\":\"scatter\"},{\"hovertemplate\":\"\\u003cb\\u003e%{hovertext}\\u003c\\u002fb\\u003e\\u003cbr\\u003e\\u003cbr\\u003eRegion=South Africa\\u003cbr\\u003eTIME=2016\\u003cbr\\u003eInflation Rate=%{x}\\u003cbr\\u003eNominal Interest Rate (3m T-Bill)=%{y}\\u003cbr\\u003esize=%{marker.size}\\u003cextra\\u003e\\u003c\\u002fextra\\u003e\",\"hovertext\":[\"South Africa\"],\"ids\":[\"ZAF\"],\"legendgroup\":\"South Africa\",\"marker\":{\"color\":\"#EF553B\",\"size\":[400.0],\"sizemode\":\"area\",\"sizeref\":0.16,\"symbol\":\"circle\"},\"mode\":\"markers\",\"name\":\"South Africa\",\"orientation\":\"v\",\"showlegend\":true,\"x\":[6.571396],\"xaxis\":\"x\",\"y\":[7.22808],\"yaxis\":\"y\",\"type\":\"scatter\"},{\"hovertemplate\":\"\\u003cb\\u003e%{hovertext}\\u003c\\u002fb\\u003e\\u003cbr\\u003e\\u003cbr\\u003eRegion=G7_ex US\\u003cbr\\u003eTIME=2016\\u003cbr\\u003eInflation Rate=%{x}\\u003cbr\\u003eNominal Interest Rate (3m T-Bill)=%{y}\\u003cbr\\u003esize=%{marker.size}\\u003cextra\\u003e\\u003c\\u002fextra\\u003e\",\"hovertext\":[\"Japan\",\"United Kingdom\",\"Italy\",\"France\",\"Germany\",\"Canada\"],\"ids\":[\"JPN\",\"GBR\",\"ITA\",\"FRA\",\"DEU\",\"CAN\"],\"legendgroup\":\"G7_ex US\",\"marker\":{\"color\":\"#00cc96\",\"size\":[50.0,50.0,50.0,50.0,50.0,50.0],\"sizemode\":\"area\",\"sizeref\":0.16,\"symbol\":\"circle\"},\"mode\":\"markers\",\"name\":\"G7_ex US\",\"orientation\":\"v\",\"showlegend\":true,\"x\":[-0.1333333,1.0,-0.0940214,0.1833349,0.4917486,1.42876],\"xaxis\":\"x\",\"y\":[0.07366667,0.4989917,-0.2636917,-0.2636917,-0.2636917,0.8163781],\"yaxis\":\"y\",\"type\":\"scatter\"},{\"hovertemplate\":\"\\u003cb\\u003e%{hovertext}\\u003c\\u002fb\\u003e\\u003cbr\\u003e\\u003cbr\\u003eRegion=EM_Peer\\u003cbr\\u003eTIME=2016\\u003cbr\\u003eInflation Rate=%{x}\\u003cbr\\u003eNominal Interest Rate (3m T-Bill)=%{y}\\u003cbr\\u003esize=%{marker.size}\\u003cextra\\u003e\\u003c\\u002fextra\\u003e\",\"hovertext\":[\"Hungary\",\"Chile\",\"Indonesia\",\"Colombia\",\"India\",\"Mexico\"],\"ids\":[\"HUN\",\"CHL\",\"IDN\",\"COL\",\"IND\",\"MEX\"],\"legendgroup\":\"EM_Peer\",\"marker\":{\"color\":\"#ab63fa\",\"size\":[100.0,100.0,100.0,100.0,100.0,100.0],\"sizemode\":\"area\",\"sizeref\":0.16,\"symbol\":\"circle\"},\"mode\":\"markers\",\"name\":\"EM_Peer\",\"orientation\":\"v\",\"showlegend\":true,\"x\":[0.3947693,3.786194,3.525805,7.513461,4.941027,2.821708],\"xaxis\":\"x\",\"y\":[0.9523166,3.528889,7.165833,6.781667,6.441417,4.568333],\"yaxis\":\"y\",\"type\":\"scatter\"},{\"hovertemplate\":\"\\u003cb\\u003e%{hovertext}\\u003c\\u002fb\\u003e\\u003cbr\\u003e\\u003cbr\\u003eRegion=EM_Other\\u003cbr\\u003eTIME=2016\\u003cbr\\u003eInflation Rate=%{x}\\u003cbr\\u003eNominal Interest Rate (3m T-Bill)=%{y}\\u003cbr\\u003esize=%{marker.size}\\u003cextra\\u003e\\u003c\\u002fextra\\u003e\",\"hovertext\":[\"Ireland\",\"Lithuania\",\"China\",\"Greece\",\"Latvia\",\"Slovak Republic\",\"Slovenia\",\"Iceland\",\"Russia\",\"Czech Republic\",\"Costa Rica\",\"Estonia\"],\"ids\":[\"IRL\",\"LTU\",\"CHN\",\"GRC\",\"LVA\",\"SVK\",\"SVN\",\"ISL\",\"RUS\",\"CZE\",\"CRI\",\"EST\"],\"legendgroup\":\"EM_Other\",\"marker\":{\"color\":\"#FFA15A\",\"size\":[50.0,50.0,50.0,50.0,50.0,50.0,50.0,50.0,50.0,50.0,50.0,50.0],\"sizemode\":\"area\",\"sizeref\":0.16,\"symbol\":\"circle\"},\"mode\":\"markers\",\"name\":\"EM_Other\",\"orientation\":\"v\",\"showlegend\":true,\"x\":[0.008306338,0.9055251,2.0,-0.8256576,0.1406308,-0.5200102,-0.05499954,1.69693,7.042436,0.6835042,-0.01747885,0.1486849],\"xaxis\":\"x\",\"y\":[-0.2636917,-0.2636917,3.091667,-0.2636917,-0.2636917,-0.2636917,-0.2636917,6.279167,11.6025,0.2891667,4.123492,-0.2636917],\"yaxis\":\"y\",\"type\":\"scatter\"},{\"hovertemplate\":\"\\u003cb\\u003e%{hovertext}\\u003c\\u002fb\\u003e\\u003cbr\\u003e\\u003cbr\\u003eRegion=DM_Other\\u003cbr\\u003eTIME=2016\\u003cbr\\u003eInflation Rate=%{x}\\u003cbr\\u003eNominal Interest Rate (3m T-Bill)=%{y}\\u003cbr\\u003esize=%{marker.size}\\u003cextra\\u003e\\u003c\\u002fextra\\u003e\",\"hovertext\":[\"Norway\",\"Australia\",\"New Zealand\",\"South Korea\",\"Israel\",\"Poland\"],\"ids\":[\"NOR\",\"AUS\",\"NZL\",\"KOR\",\"ISR\",\"POL\"],\"legendgroup\":\"DM_Other\",\"marker\":{\"color\":\"#19d3f3\",\"size\":[50.0,50.0,50.0,50.0,50.0,50.0],\"sizemode\":\"area\",\"sizeref\":0.16,\"symbol\":\"circle\"},\"mode\":\"markers\",\"name\":\"DM_Other\",\"orientation\":\"v\",\"showlegend\":true,\"x\":[3.55,1.276991,0.6462373,0.9716858,-0.5515524,-0.5833333],\"xaxis\":\"x\",\"y\":[1.066667,1.986667,2.33,1.493333,0.1064319,1.701667],\"yaxis\":\"y\",\"type\":\"scatter\"},{\"hovertemplate\":\"\\u003cb\\u003e%{hovertext}\\u003c\\u002fb\\u003e\\u003cbr\\u003e\\u003cbr\\u003eRegion=DM_Europe\\u003cbr\\u003eTIME=2016\\u003cbr\\u003eInflation Rate=%{x}\\u003cbr\\u003eNominal Interest Rate (3m T-Bill)=%{y}\\u003cbr\\u003esize=%{marker.size}\\u003cextra\\u003e\\u003c\\u002fextra\\u003e\",\"hovertext\":[\"Spain\",\"Portugal\",\"Netherlands\",\"Belgium\",\"Finland\",\"Sweden\",\"Austria\",\"Luxembourg\",\"Switzerland\",\"Denmark\"],\"ids\":[\"ESP\",\"PRT\",\"NLD\",\"BEL\",\"FIN\",\"SWE\",\"AUT\",\"LUX\",\"CHE\",\"DNK\"],\"legendgroup\":\"DM_Europe\",\"marker\":{\"color\":\"#FF6692\",\"size\":[50.0,50.0,50.0,50.0,50.0,50.0,50.0,50.0,50.0,50.0],\"sizemode\":\"area\",\"sizeref\":0.16,\"symbol\":\"circle\"},\"mode\":\"markers\",\"name\":\"DM_Europe\",\"orientation\":\"v\",\"showlegend\":true,\"x\":[-0.202598,0.6073971,0.3166667,1.973853,0.3566845,0.9842693,0.8915924,0.2908333,-0.4346187,0.25],\"xaxis\":\"x\",\"y\":[-0.2636917,-0.2636917,-0.2636917,-0.2636917,-0.2636917,-0.655,-0.2636917,-0.2636917,-0.8043817,-0.1442461],\"yaxis\":\"y\",\"type\":\"scatter\"}],\"name\":\"2016\",\"layout\":{\"title\":{\"text\":\"2016 : Oil price rebound sparks inflationary pressure\"}}},{\"data\":[{\"hovertemplate\":\"\\u003cb\\u003e%{hovertext}\\u003c\\u002fb\\u003e\\u003cbr\\u003e\\u003cbr\\u003eRegion=United States\\u003cbr\\u003eTIME=2017\\u003cbr\\u003eInflation Rate=%{x}\\u003cbr\\u003eNominal Interest Rate (3m T-Bill)=%{y}\\u003cbr\\u003esize=%{marker.size}\\u003cextra\\u003e\\u003c\\u002fextra\\u003e\",\"hovertext\":[\"United States\"],\"ids\":[\"USA\"],\"legendgroup\":\"United States\",\"marker\":{\"color\":\"#636efa\",\"size\":[200.0],\"sizemode\":\"area\",\"sizeref\":0.16,\"symbol\":\"circle\"},\"mode\":\"markers\",\"name\":\"United States\",\"orientation\":\"v\",\"showlegend\":true,\"x\":[2.13011],\"xaxis\":\"x\",\"y\":[1.1525],\"yaxis\":\"y\",\"type\":\"scatter\"},{\"hovertemplate\":\"\\u003cb\\u003e%{hovertext}\\u003c\\u002fb\\u003e\\u003cbr\\u003e\\u003cbr\\u003eRegion=South Africa\\u003cbr\\u003eTIME=2017\\u003cbr\\u003eInflation Rate=%{x}\\u003cbr\\u003eNominal Interest Rate (3m T-Bill)=%{y}\\u003cbr\\u003esize=%{marker.size}\\u003cextra\\u003e\\u003c\\u002fextra\\u003e\",\"hovertext\":[\"South Africa\"],\"ids\":[\"ZAF\"],\"legendgroup\":\"South Africa\",\"marker\":{\"color\":\"#EF553B\",\"size\":[400.0],\"sizemode\":\"area\",\"sizeref\":0.16,\"symbol\":\"circle\"},\"mode\":\"markers\",\"name\":\"South Africa\",\"orientation\":\"v\",\"showlegend\":true,\"x\":[5.184247],\"xaxis\":\"x\",\"y\":[7.331863],\"yaxis\":\"y\",\"type\":\"scatter\"},{\"hovertemplate\":\"\\u003cb\\u003e%{hovertext}\\u003c\\u002fb\\u003e\\u003cbr\\u003e\\u003cbr\\u003eRegion=G7_ex US\\u003cbr\\u003eTIME=2017\\u003cbr\\u003eInflation Rate=%{x}\\u003cbr\\u003eNominal Interest Rate (3m T-Bill)=%{y}\\u003cbr\\u003esize=%{marker.size}\\u003cextra\\u003e\\u003c\\u002fextra\\u003e\",\"hovertext\":[\"Canada\",\"Italy\",\"Germany\",\"United Kingdom\",\"Japan\",\"France\"],\"ids\":[\"CAN\",\"ITA\",\"DEU\",\"GBR\",\"JPN\",\"FRA\"],\"legendgroup\":\"G7_ex US\",\"marker\":{\"color\":\"#00cc96\",\"size\":[50.0,50.0,50.0,50.0,50.0,50.0],\"sizemode\":\"area\",\"sizeref\":0.16,\"symbol\":\"circle\"},\"mode\":\"markers\",\"name\":\"G7_ex US\",\"orientation\":\"v\",\"showlegend\":true,\"x\":[1.596884,1.226533,1.509497,2.6,0.475,1.032283],\"xaxis\":\"x\",\"y\":[1.061357,-0.32905,-0.32905,0.3589517,0.05933333,-0.32905],\"yaxis\":\"y\",\"type\":\"scatter\"},{\"hovertemplate\":\"\\u003cb\\u003e%{hovertext}\\u003c\\u002fb\\u003e\\u003cbr\\u003e\\u003cbr\\u003eRegion=EM_Peer\\u003cbr\\u003eTIME=2017\\u003cbr\\u003eInflation Rate=%{x}\\u003cbr\\u003eNominal Interest Rate (3m T-Bill)=%{y}\\u003cbr\\u003esize=%{marker.size}\\u003cextra\\u003e\\u003c\\u002fextra\\u003e\",\"hovertext\":[\"Chile\",\"Colombia\",\"India\",\"Hungary\",\"Mexico\",\"Indonesia\"],\"ids\":[\"CHL\",\"COL\",\"IND\",\"HUN\",\"MEX\",\"IDN\"],\"legendgroup\":\"EM_Peer\",\"marker\":{\"color\":\"#ab63fa\",\"size\":[100.0,100.0,100.0,100.0,100.0,100.0],\"sizemode\":\"area\",\"sizeref\":0.16,\"symbol\":\"circle\"},\"mode\":\"markers\",\"name\":\"EM_Peer\",\"orientation\":\"v\",\"showlegend\":true,\"x\":[2.182719,4.314313,2.490887,2.348243,6.041456,3.808798],\"xaxis\":\"x\",\"y\":[2.516111,5.989167,6.154333,0.2189083,7.120833,6.518333],\"yaxis\":\"y\",\"type\":\"scatter\"},{\"hovertemplate\":\"\\u003cb\\u003e%{hovertext}\\u003c\\u002fb\\u003e\\u003cbr\\u003e\\u003cbr\\u003eRegion=EM_Other\\u003cbr\\u003eTIME=2017\\u003cbr\\u003eInflation Rate=%{x}\\u003cbr\\u003eNominal Interest Rate (3m T-Bill)=%{y}\\u003cbr\\u003esize=%{marker.size}\\u003cextra\\u003e\\u003c\\u002fextra\\u003e\",\"hovertext\":[\"Costa Rica\",\"Slovak Republic\",\"Estonia\",\"Lithuania\",\"Russia\",\"Greece\",\"Latvia\",\"Slovenia\",\"Iceland\",\"China\",\"Ireland\",\"Czech Republic\"],\"ids\":[\"CRI\",\"SVK\",\"EST\",\"LTU\",\"RUS\",\"GRC\",\"LVA\",\"SVN\",\"ISL\",\"CHN\",\"IRL\",\"CZE\"],\"legendgroup\":\"EM_Other\",\"marker\":{\"color\":\"#FFA15A\",\"size\":[50.0,50.0,50.0,50.0,50.0,50.0,50.0,50.0,50.0,50.0,50.0,50.0],\"sizemode\":\"area\",\"sizeref\":0.16,\"symbol\":\"circle\"},\"mode\":\"markers\",\"name\":\"EM_Other\",\"orientation\":\"v\",\"showlegend\":true,\"x\":[1.625907,1.311946,3.417236,3.722889,3.683334,1.121259,2.930369,1.429107,1.760413,1.6,0.3405316,2.450534],\"xaxis\":\"x\",\"y\":[5.471797,-0.32905,-0.32905,-0.32905,9.120833,-0.32905,-0.32905,-0.32905,5.063334,4.813334,-0.32905,0.4075],\"yaxis\":\"y\",\"type\":\"scatter\"},{\"hovertemplate\":\"\\u003cb\\u003e%{hovertext}\\u003c\\u002fb\\u003e\\u003cbr\\u003e\\u003cbr\\u003eRegion=DM_Other\\u003cbr\\u003eTIME=2017\\u003cbr\\u003eInflation Rate=%{x}\\u003cbr\\u003eNominal Interest Rate (3m T-Bill)=%{y}\\u003cbr\\u003esize=%{marker.size}\\u003cextra\\u003e\\u003c\\u002fextra\\u003e\",\"hovertext\":[\"New Zealand\",\"Australia\",\"Norway\",\"Poland\",\"Israel\",\"South Korea\"],\"ids\":[\"NZL\",\"AUS\",\"NOR\",\"POL\",\"ISR\",\"KOR\"],\"legendgroup\":\"DM_Other\",\"marker\":{\"color\":\"#19d3f3\",\"size\":[50.0,50.0,50.0,50.0,50.0,50.0],\"sizemode\":\"area\",\"sizeref\":0.16,\"symbol\":\"circle\"},\"mode\":\"markers\",\"name\":\"DM_Other\",\"orientation\":\"v\",\"showlegend\":true,\"x\":[1.850787,1.948647,1.875101,1.975,0.259415,1.944332],\"xaxis\":\"x\",\"y\":[1.9575,1.74,0.89,1.729167,0.115293,1.443333],\"yaxis\":\"y\",\"type\":\"scatter\"},{\"hovertemplate\":\"\\u003cb\\u003e%{hovertext}\\u003c\\u002fb\\u003e\\u003cbr\\u003e\\u003cbr\\u003eRegion=DM_Europe\\u003cbr\\u003eTIME=2017\\u003cbr\\u003eInflation Rate=%{x}\\u003cbr\\u003eNominal Interest Rate (3m T-Bill)=%{y}\\u003cbr\\u003esize=%{marker.size}\\u003cextra\\u003e\\u003c\\u002fextra\\u003e\",\"hovertext\":[\"Belgium\",\"Spain\",\"Sweden\",\"Austria\",\"Netherlands\",\"Portugal\",\"Denmark\",\"Switzerland\",\"Finland\",\"Luxembourg\"],\"ids\":[\"BEL\",\"ESP\",\"SWE\",\"AUT\",\"NLD\",\"PRT\",\"DNK\",\"CHE\",\"FIN\",\"LUX\"],\"legendgroup\":\"DM_Europe\",\"marker\":{\"color\":\"#FF6692\",\"size\":[50.0,50.0,50.0,50.0,50.0,50.0,50.0,50.0,50.0,50.0],\"sizemode\":\"area\",\"sizeref\":0.16,\"symbol\":\"circle\"},\"mode\":\"markers\",\"name\":\"DM_Europe\",\"orientation\":\"v\",\"showlegend\":true,\"x\":[2.125971,1.956076,1.794499,2.081269,1.381459,1.368614,1.147132,0.5337878,0.754015,1.7308],\"xaxis\":\"x\",\"y\":[-0.32905,-0.32905,-0.695,-0.32905,-0.32905,-0.32905,-0.2637579,-0.8191667,-0.32905,-0.32905],\"yaxis\":\"y\",\"type\":\"scatter\"}],\"name\":\"2017\",\"layout\":{\"title\":{\"text\":\"2017 : Global secular stagnation - inflation and real interest rates remain low\"}}},{\"data\":[{\"hovertemplate\":\"\\u003cb\\u003e%{hovertext}\\u003c\\u002fb\\u003e\\u003cbr\\u003e\\u003cbr\\u003eRegion=United States\\u003cbr\\u003eTIME=2018\\u003cbr\\u003eInflation Rate=%{x}\\u003cbr\\u003eNominal Interest Rate (3m T-Bill)=%{y}\\u003cbr\\u003esize=%{marker.size}\\u003cextra\\u003e\\u003c\\u002fextra\\u003e\",\"hovertext\":[\"United States\"],\"ids\":[\"USA\"],\"legendgroup\":\"United States\",\"marker\":{\"color\":\"#636efa\",\"size\":[200.0],\"sizemode\":\"area\",\"sizeref\":0.16,\"symbol\":\"circle\"},\"mode\":\"markers\",\"name\":\"United States\",\"orientation\":\"v\",\"showlegend\":true,\"x\":[2.442583],\"xaxis\":\"x\",\"y\":[2.188333],\"yaxis\":\"y\",\"type\":\"scatter\"},{\"hovertemplate\":\"\\u003cb\\u003e%{hovertext}\\u003c\\u002fb\\u003e\\u003cbr\\u003e\\u003cbr\\u003eRegion=South Africa\\u003cbr\\u003eTIME=2018\\u003cbr\\u003eInflation Rate=%{x}\\u003cbr\\u003eNominal Interest Rate (3m T-Bill)=%{y}\\u003cbr\\u003esize=%{marker.size}\\u003cextra\\u003e\\u003c\\u002fextra\\u003e\",\"hovertext\":[\"South Africa\"],\"ids\":[\"ZAF\"],\"legendgroup\":\"South Africa\",\"marker\":{\"color\":\"#EF553B\",\"size\":[400.0],\"sizemode\":\"area\",\"sizeref\":0.16,\"symbol\":\"circle\"},\"mode\":\"markers\",\"name\":\"South Africa\",\"orientation\":\"v\",\"showlegend\":true,\"x\":[4.517165],\"xaxis\":\"x\",\"y\":[7.155443],\"yaxis\":\"y\",\"type\":\"scatter\"},{\"hovertemplate\":\"\\u003cb\\u003e%{hovertext}\\u003c\\u002fb\\u003e\\u003cbr\\u003e\\u003cbr\\u003eRegion=G7_ex US\\u003cbr\\u003eTIME=2018\\u003cbr\\u003eInflation Rate=%{x}\\u003cbr\\u003eNominal Interest Rate (3m T-Bill)=%{y}\\u003cbr\\u003esize=%{marker.size}\\u003cextra\\u003e\\u003c\\u002fextra\\u003e\",\"hovertext\":[\"Japan\",\"Germany\",\"France\",\"Italy\",\"Canada\",\"United Kingdom\"],\"ids\":[\"JPN\",\"DEU\",\"FRA\",\"ITA\",\"CAN\",\"GBR\"],\"legendgroup\":\"G7_ex US\",\"marker\":{\"color\":\"#00cc96\",\"size\":[50.0,50.0,50.0,50.0,50.0,50.0],\"sizemode\":\"area\",\"sizeref\":0.16,\"symbol\":\"circle\"},\"mode\":\"markers\",\"name\":\"G7_ex US\",\"orientation\":\"v\",\"showlegend\":true,\"x\":[0.9916667,1.732168,1.850815,1.137488,2.268226,2.3],\"xaxis\":\"x\",\"y\":[0.07233334,-0.3220917,-0.3220917,-0.3220917,1.790603,0.7228358],\"yaxis\":\"y\",\"type\":\"scatter\"},{\"hovertemplate\":\"\\u003cb\\u003e%{hovertext}\\u003c\\u002fb\\u003e\\u003cbr\\u003e\\u003cbr\\u003eRegion=EM_Peer\\u003cbr\\u003eTIME=2018\\u003cbr\\u003eInflation Rate=%{x}\\u003cbr\\u003eNominal Interest Rate (3m T-Bill)=%{y}\\u003cbr\\u003esize=%{marker.size}\\u003cextra\\u003e\\u003c\\u002fextra\\u003e\",\"hovertext\":[\"Mexico\",\"Indonesia\",\"Chile\",\"Colombia\",\"Hungary\",\"India\"],\"ids\":[\"MEX\",\"IDN\",\"CHL\",\"COL\",\"HUN\",\"IND\"],\"legendgroup\":\"EM_Peer\",\"marker\":{\"color\":\"#ab63fa\",\"size\":[100.0,100.0,100.0,100.0,100.0,100.0],\"sizemode\":\"area\",\"sizeref\":0.16,\"symbol\":\"circle\"},\"mode\":\"markers\",\"name\":\"EM_Peer\",\"orientation\":\"v\",\"showlegend\":true,\"x\":[4.899351,3.198346,2.43489,3.24057,2.850248,4.8607],\"xaxis\":\"x\",\"y\":[8.055833,6.129167,2.657917,4.709167,0.1161,6.560958],\"yaxis\":\"y\",\"type\":\"scatter\"},{\"hovertemplate\":\"\\u003cb\\u003e%{hovertext}\\u003c\\u002fb\\u003e\\u003cbr\\u003e\\u003cbr\\u003eRegion=EM_Other\\u003cbr\\u003eTIME=2018\\u003cbr\\u003eInflation Rate=%{x}\\u003cbr\\u003eNominal Interest Rate (3m T-Bill)=%{y}\\u003cbr\\u003esize=%{marker.size}\\u003cextra\\u003e\\u003c\\u002fextra\\u003e\",\"hovertext\":[\"Czech Republic\",\"Russia\",\"Estonia\",\"Slovenia\",\"Slovak Republic\",\"China\",\"Latvia\",\"Costa Rica\",\"Ireland\",\"Greece\",\"Lithuania\",\"Iceland\"],\"ids\":[\"CZE\",\"RUS\",\"EST\",\"SVN\",\"SVK\",\"CHN\",\"LVA\",\"CRI\",\"IRL\",\"GRC\",\"LTU\",\"ISL\"],\"legendgroup\":\"EM_Other\",\"marker\":{\"color\":\"#FFA15A\",\"size\":[50.0,50.0,50.0,50.0,50.0,50.0,50.0,50.0,50.0,50.0,50.0,50.0],\"sizemode\":\"area\",\"sizeref\":0.16,\"symbol\":\"circle\"},\"mode\":\"markers\",\"name\":\"EM_Other\",\"orientation\":\"v\",\"showlegend\":true,\"x\":[2.149495,2.878305,3.436327,1.738609,2.514037,2.1,2.53446,2.221115,0.4883702,0.6256205,2.697928,2.682915],\"xaxis\":\"x\",\"y\":[1.269167,7.559166,-0.3220917,-0.3220917,-0.3220917,4.035,-0.3220917,6.54185,-0.3220917,-0.3220917,-0.3220917,4.7225],\"yaxis\":\"y\",\"type\":\"scatter\"},{\"hovertemplate\":\"\\u003cb\\u003e%{hovertext}\\u003c\\u002fb\\u003e\\u003cbr\\u003e\\u003cbr\\u003eRegion=DM_Other\\u003cbr\\u003eTIME=2018\\u003cbr\\u003eInflation Rate=%{x}\\u003cbr\\u003eNominal Interest Rate (3m T-Bill)=%{y}\\u003cbr\\u003esize=%{marker.size}\\u003cextra\\u003e\\u003c\\u002fextra\\u003e\",\"hovertext\":[\"South Korea\",\"Australia\",\"Israel\",\"Norway\",\"Poland\",\"New Zealand\"],\"ids\":[\"KOR\",\"AUS\",\"ISR\",\"NOR\",\"POL\",\"NZL\"],\"legendgroup\":\"DM_Other\",\"marker\":{\"color\":\"#19d3f3\",\"size\":[50.0,50.0,50.0,50.0,50.0,50.0],\"sizemode\":\"area\",\"sizeref\":0.16,\"symbol\":\"circle\"},\"mode\":\"markers\",\"name\":\"DM_Other\",\"orientation\":\"v\",\"showlegend\":true,\"x\":[1.475839,1.911401,0.7940757,2.764831,1.666667,1.598298],\"xaxis\":\"x\",\"y\":[1.68,1.948333,0.1385781,1.066667,1.710833,1.946667],\"yaxis\":\"y\",\"type\":\"scatter\"},{\"hovertemplate\":\"\\u003cb\\u003e%{hovertext}\\u003c\\u002fb\\u003e\\u003cbr\\u003e\\u003cbr\\u003eRegion=DM_Europe\\u003cbr\\u003eTIME=2018\\u003cbr\\u003eInflation Rate=%{x}\\u003cbr\\u003eNominal Interest Rate (3m T-Bill)=%{y}\\u003cbr\\u003esize=%{marker.size}\\u003cextra\\u003e\\u003c\\u002fextra\\u003e\",\"hovertext\":[\"Austria\",\"Spain\",\"Denmark\",\"Switzerland\",\"Netherlands\",\"Belgium\",\"Portugal\",\"Sweden\",\"Luxembourg\",\"Finland\"],\"ids\":[\"AUT\",\"ESP\",\"DNK\",\"CHE\",\"NLD\",\"BEL\",\"PRT\",\"SWE\",\"LUX\",\"FIN\"],\"legendgroup\":\"DM_Europe\",\"marker\":{\"color\":\"#FF6692\",\"size\":[50.0,50.0,50.0,50.0,50.0,50.0,50.0,50.0,50.0,50.0],\"sizemode\":\"area\",\"sizeref\":0.16,\"symbol\":\"circle\"},\"mode\":\"markers\",\"name\":\"DM_Europe\",\"orientation\":\"v\",\"showlegend\":true,\"x\":[1.998382,1.674981,0.8136095,0.9363354,1.703498,2.053165,0.9937157,1.953535,1.528195,1.083821],\"xaxis\":\"x\",\"y\":[-0.3220917,-0.3220917,-0.2992443,-0.7846233,-0.3220917,-0.3220917,-0.3220917,-0.6858333,-0.3220917,-0.3220917],\"yaxis\":\"y\",\"type\":\"scatter\"}],\"name\":\"2018\",\"layout\":{\"title\":{\"text\":\"2018 : South African recession spurs inflation retreat within target range\"}}},{\"data\":[{\"hovertemplate\":\"\\u003cb\\u003e%{hovertext}\\u003c\\u002fb\\u003e\\u003cbr\\u003e\\u003cbr\\u003eRegion=United States\\u003cbr\\u003eTIME=2019\\u003cbr\\u003eInflation Rate=%{x}\\u003cbr\\u003eNominal Interest Rate (3m T-Bill)=%{y}\\u003cbr\\u003esize=%{marker.size}\\u003cextra\\u003e\\u003c\\u002fextra\\u003e\",\"hovertext\":[\"United States\"],\"ids\":[\"USA\"],\"legendgroup\":\"United States\",\"marker\":{\"color\":\"#636efa\",\"size\":[200.0],\"sizemode\":\"area\",\"sizeref\":0.16,\"symbol\":\"circle\"},\"mode\":\"markers\",\"name\":\"United States\",\"orientation\":\"v\",\"showlegend\":true,\"x\":[1.81221],\"xaxis\":\"x\",\"y\":[2.2075],\"yaxis\":\"y\",\"type\":\"scatter\"},{\"hovertemplate\":\"\\u003cb\\u003e%{hovertext}\\u003c\\u002fb\\u003e\\u003cbr\\u003e\\u003cbr\\u003eRegion=South Africa\\u003cbr\\u003eTIME=2019\\u003cbr\\u003eInflation Rate=%{x}\\u003cbr\\u003eNominal Interest Rate (3m T-Bill)=%{y}\\u003cbr\\u003esize=%{marker.size}\\u003cextra\\u003e\\u003c\\u002fextra\\u003e\",\"hovertext\":[\"South Africa\"],\"ids\":[\"ZAF\"],\"legendgroup\":\"South Africa\",\"marker\":{\"color\":\"#EF553B\",\"size\":[400.0],\"sizemode\":\"area\",\"sizeref\":0.16,\"symbol\":\"circle\"},\"mode\":\"markers\",\"name\":\"South Africa\",\"orientation\":\"v\",\"showlegend\":true,\"x\":[4.120246],\"xaxis\":\"x\",\"y\":[7.084257],\"yaxis\":\"y\",\"type\":\"scatter\"},{\"hovertemplate\":\"\\u003cb\\u003e%{hovertext}\\u003c\\u002fb\\u003e\\u003cbr\\u003e\\u003cbr\\u003eRegion=G7_ex US\\u003cbr\\u003eTIME=2019\\u003cbr\\u003eInflation Rate=%{x}\\u003cbr\\u003eNominal Interest Rate (3m T-Bill)=%{y}\\u003cbr\\u003esize=%{marker.size}\\u003cextra\\u003e\\u003c\\u002fextra\\u003e\",\"hovertext\":[\"Italy\",\"Germany\",\"Japan\",\"France\",\"United Kingdom\",\"Canada\"],\"ids\":[\"ITA\",\"DEU\",\"JPN\",\"FRA\",\"GBR\",\"CAN\"],\"legendgroup\":\"G7_ex US\",\"marker\":{\"color\":\"#00cc96\",\"size\":[50.0,50.0,50.0,50.0,50.0,50.0],\"sizemode\":\"area\",\"sizeref\":0.16,\"symbol\":\"circle\"},\"mode\":\"markers\",\"name\":\"G7_ex US\",\"orientation\":\"v\",\"showlegend\":true,\"x\":[0.6112469,1.445667,0.475,1.108255,1.7,1.949269],\"xaxis\":\"x\",\"y\":[-0.3563333,-0.3563333,0.03108333,-0.3563333,0.80785,1.890311],\"yaxis\":\"y\",\"type\":\"scatter\"},{\"hovertemplate\":\"\\u003cb\\u003e%{hovertext}\\u003c\\u002fb\\u003e\\u003cbr\\u003e\\u003cbr\\u003eRegion=EM_Peer\\u003cbr\\u003eTIME=2019\\u003cbr\\u003eInflation Rate=%{x}\\u003cbr\\u003eNominal Interest Rate (3m T-Bill)=%{y}\\u003cbr\\u003esize=%{marker.size}\\u003cextra\\u003e\\u003c\\u002fextra\\u003e\",\"hovertext\":[\"Indonesia\",\"India\",\"Hungary\",\"Colombia\",\"Mexico\",\"Chile\"],\"ids\":[\"IDN\",\"IND\",\"HUN\",\"COL\",\"MEX\",\"CHL\"],\"legendgroup\":\"EM_Peer\",\"marker\":{\"color\":\"#ab63fa\",\"size\":[100.0,100.0,100.0,100.0,100.0,100.0],\"sizemode\":\"area\",\"sizeref\":0.16,\"symbol\":\"circle\"},\"mode\":\"markers\",\"name\":\"EM_Peer\",\"orientation\":\"v\",\"showlegend\":true,\"x\":[3.030587,7.659695,3.338586,3.52302,3.635961,2.557545],\"xaxis\":\"x\",\"y\":[6.688334,5.834667,0.1866917,4.498333,8.273334,2.678333],\"yaxis\":\"y\",\"type\":\"scatter\"},{\"hovertemplate\":\"\\u003cb\\u003e%{hovertext}\\u003c\\u002fb\\u003e\\u003cbr\\u003e\\u003cbr\\u003eRegion=EM_Other\\u003cbr\\u003eTIME=2019\\u003cbr\\u003eInflation Rate=%{x}\\u003cbr\\u003eNominal Interest Rate (3m T-Bill)=%{y}\\u003cbr\\u003esize=%{marker.size}\\u003cextra\\u003e\\u003c\\u002fextra\\u003e\",\"hovertext\":[\"Slovenia\",\"Latvia\",\"Slovak Republic\",\"Estonia\",\"Russia\",\"Iceland\",\"Costa Rica\",\"Czech Republic\",\"Ireland\",\"China\",\"Lithuania\",\"Greece\"],\"ids\":[\"SVN\",\"LVA\",\"SVK\",\"EST\",\"RUS\",\"ISL\",\"CRI\",\"CZE\",\"IRL\",\"CHN\",\"LTU\",\"GRC\"],\"legendgroup\":\"EM_Other\",\"marker\":{\"color\":\"#FFA15A\",\"size\":[50.0,50.0,50.0,50.0,50.0,50.0,50.0,50.0,50.0,50.0,50.0,50.0],\"sizemode\":\"area\",\"sizeref\":0.16,\"symbol\":\"circle\"},\"mode\":\"markers\",\"name\":\"EM_Other\",\"orientation\":\"v\",\"showlegend\":true,\"x\":[1.630523,2.811403,2.664561,2.277259,4.470367,3.013977,2.096046,2.847876,0.9390445,2.9,2.334509,0.2529927],\"xaxis\":\"x\",\"y\":[-0.3563333,-0.3563333,-0.3563333,-0.3563333,7.688334,4.393333,6.57614,2.116667,-0.3563333,3.235833,-0.3563333,-0.3563333],\"yaxis\":\"y\",\"type\":\"scatter\"},{\"hovertemplate\":\"\\u003cb\\u003e%{hovertext}\\u003c\\u002fb\\u003e\\u003cbr\\u003e\\u003cbr\\u003eRegion=DM_Other\\u003cbr\\u003eTIME=2019\\u003cbr\\u003eInflation Rate=%{x}\\u003cbr\\u003eNominal Interest Rate (3m T-Bill)=%{y}\\u003cbr\\u003esize=%{marker.size}\\u003cextra\\u003e\\u003c\\u002fextra\\u003e\",\"hovertext\":[\"Poland\",\"Israel\",\"New Zealand\",\"Australia\",\"South Korea\",\"Norway\"],\"ids\":[\"POL\",\"ISR\",\"NZL\",\"AUS\",\"KOR\",\"NOR\"],\"legendgroup\":\"DM_Other\",\"marker\":{\"color\":\"#19d3f3\",\"size\":[50.0,50.0,50.0,50.0,50.0,50.0],\"sizemode\":\"area\",\"sizeref\":0.16,\"symbol\":\"circle\"},\"mode\":\"markers\",\"name\":\"DM_Other\",\"orientation\":\"v\",\"showlegend\":true,\"x\":[2.308333,0.8497831,1.619632,1.610768,0.3830003,2.16773],\"xaxis\":\"x\",\"y\":[1.7175,0.2335173,1.519167,1.344167,1.696667,1.5525],\"yaxis\":\"y\",\"type\":\"scatter\"},{\"hovertemplate\":\"\\u003cb\\u003e%{hovertext}\\u003c\\u002fb\\u003e\\u003cbr\\u003e\\u003cbr\\u003eRegion=DM_Europe\\u003cbr\\u003eTIME=2019\\u003cbr\\u003eInflation Rate=%{x}\\u003cbr\\u003eNominal Interest Rate (3m T-Bill)=%{y}\\u003cbr\\u003esize=%{marker.size}\\u003cextra\\u003e\\u003c\\u002fextra\\u003e\",\"hovertext\":[\"Luxembourg\",\"Sweden\",\"Denmark\",\"Finland\",\"Austria\",\"Portugal\",\"Spain\",\"Switzerland\",\"Belgium\",\"Netherlands\"],\"ids\":[\"LUX\",\"SWE\",\"DNK\",\"FIN\",\"AUT\",\"PRT\",\"ESP\",\"CHE\",\"BEL\",\"NLD\"],\"legendgroup\":\"DM_Europe\",\"marker\":{\"color\":\"#FF6692\",\"size\":[50.0,50.0,50.0,50.0,50.0,50.0,50.0,50.0,50.0,50.0],\"sizemode\":\"area\",\"sizeref\":0.16,\"symbol\":\"circle\"},\"mode\":\"markers\",\"name\":\"DM_Europe\",\"orientation\":\"v\",\"showlegend\":true,\"x\":[1.743321,1.784151,0.7581316,1.024094,1.530896,0.3381784,0.699519,0.3628862,1.43682,2.633699],\"xaxis\":\"x\",\"y\":[-0.3563333,-0.4196333,-0.3719969,-0.3563333,-0.3563333,-0.3563333,-0.3563333,-0.7520567,-0.3563333,-0.3563333],\"yaxis\":\"y\",\"type\":\"scatter\"}],\"name\":\"2019\",\"layout\":{\"title\":{\"text\":\"2019 : Global rates remain near zero, challenging conventional monetary policy\"}}},{\"data\":[{\"hovertemplate\":\"\\u003cb\\u003e%{hovertext}\\u003c\\u002fb\\u003e\\u003cbr\\u003e\\u003cbr\\u003eRegion=United States\\u003cbr\\u003eTIME=2020\\u003cbr\\u003eInflation Rate=%{x}\\u003cbr\\u003eNominal Interest Rate (3m T-Bill)=%{y}\\u003cbr\\u003esize=%{marker.size}\\u003cextra\\u003e\\u003c\\u002fextra\\u003e\",\"hovertext\":[\"United States\"],\"ids\":[\"USA\"],\"legendgroup\":\"United States\",\"marker\":{\"color\":\"#636efa\",\"size\":[200.0],\"sizemode\":\"area\",\"sizeref\":0.16,\"symbol\":\"circle\"},\"mode\":\"markers\",\"name\":\"United States\",\"orientation\":\"v\",\"showlegend\":true,\"x\":[1.233584],\"xaxis\":\"x\",\"y\":[0.5336364],\"yaxis\":\"y\",\"type\":\"scatter\"},{\"hovertemplate\":\"\\u003cb\\u003e%{hovertext}\\u003c\\u002fb\\u003e\\u003cbr\\u003e\\u003cbr\\u003eRegion=South Africa\\u003cbr\\u003eTIME=2020\\u003cbr\\u003eInflation Rate=%{x}\\u003cbr\\u003eNominal Interest Rate (3m T-Bill)=%{y}\\u003cbr\\u003esize=%{marker.size}\\u003cextra\\u003e\\u003c\\u002fextra\\u003e\",\"hovertext\":[\"South Africa\"],\"ids\":[\"ZAF\"],\"legendgroup\":\"South Africa\",\"marker\":{\"color\":\"#EF553B\",\"size\":[400.0],\"sizemode\":\"area\",\"sizeref\":0.16,\"symbol\":\"circle\"},\"mode\":\"markers\",\"name\":\"South Africa\",\"orientation\":\"v\",\"showlegend\":true,\"x\":[3.210036],\"xaxis\":\"x\",\"y\":[4.545619],\"yaxis\":\"y\",\"type\":\"scatter\"},{\"hovertemplate\":\"\\u003cb\\u003e%{hovertext}\\u003c\\u002fb\\u003e\\u003cbr\\u003e\\u003cbr\\u003eRegion=G7_ex US\\u003cbr\\u003eTIME=2020\\u003cbr\\u003eInflation Rate=%{x}\\u003cbr\\u003eNominal Interest Rate (3m T-Bill)=%{y}\\u003cbr\\u003esize=%{marker.size}\\u003cextra\\u003e\\u003c\\u002fextra\\u003e\",\"hovertext\":[\"Italy\",\"Germany\",\"United Kingdom\",\"Canada\",\"France\",\"Japan\"],\"ids\":[\"ITA\",\"DEU\",\"GBR\",\"CAN\",\"FRA\",\"JPN\"],\"legendgroup\":\"G7_ex US\",\"marker\":{\"color\":\"#00cc96\",\"size\":[50.0,50.0,50.0,50.0,50.0,50.0],\"sizemode\":\"area\",\"sizeref\":0.16,\"symbol\":\"circle\"},\"mode\":\"markers\",\"name\":\"G7_ex US\",\"orientation\":\"v\",\"showlegend\":true,\"x\":[-0.1377076,0.1448705,1.0,0.7169997,0.4764988,-0.01666667],\"xaxis\":\"x\",\"y\":[-0.42515,-0.42515,0.295,0.6354551,-0.42515,-0.03541667],\"yaxis\":\"y\",\"type\":\"scatter\"},{\"hovertemplate\":\"\\u003cb\\u003e%{hovertext}\\u003c\\u002fb\\u003e\\u003cbr\\u003e\\u003cbr\\u003eRegion=EM_Peer\\u003cbr\\u003eTIME=2020\\u003cbr\\u003eInflation Rate=%{x}\\u003cbr\\u003eNominal Interest Rate (3m T-Bill)=%{y}\\u003cbr\\u003esize=%{marker.size}\\u003cextra\\u003e\\u003c\\u002fextra\\u003e\",\"hovertext\":[\"Mexico\",\"Hungary\",\"Indonesia\",\"India\",\"Colombia\",\"Chile\"],\"ids\":[\"MEX\",\"HUN\",\"IDN\",\"IND\",\"COL\",\"CHL\"],\"legendgroup\":\"EM_Peer\",\"marker\":{\"color\":\"#ab63fa\",\"size\":[100.0,100.0,100.0,100.0,100.0,100.0],\"sizemode\":\"area\",\"sizeref\":0.16,\"symbol\":\"circle\"},\"mode\":\"markers\",\"name\":\"EM_Peer\",\"orientation\":\"v\",\"showlegend\":true,\"x\":[3.396834,3.326744,1.920968,5.561349,2.52662,-100.0],\"xaxis\":\"x\",\"y\":[5.673333,0.7022583,5.504167,3.765,3.378333,-100.0],\"yaxis\":\"y\",\"type\":\"scatter\"},{\"hovertemplate\":\"\\u003cb\\u003e%{hovertext}\\u003c\\u002fb\\u003e\\u003cbr\\u003e\\u003cbr\\u003eRegion=EM_Other\\u003cbr\\u003eTIME=2020\\u003cbr\\u003eInflation Rate=%{x}\\u003cbr\\u003eNominal Interest Rate (3m T-Bill)=%{y}\\u003cbr\\u003esize=%{marker.size}\\u003cextra\\u003e\\u003c\\u002fextra\\u003e\",\"hovertext\":[\"Ireland\",\"Slovak Republic\",\"Estonia\",\"Iceland\",\"China\",\"Greece\",\"Latvia\",\"Lithuania\",\"Slovenia\",\"Czech Republic\",\"Costa Rica\",\"Russia\"],\"ids\":[\"IRL\",\"SVK\",\"EST\",\"ISL\",\"CHN\",\"GRC\",\"LVA\",\"LTU\",\"SVN\",\"CZE\",\"CRI\",\"RUS\"],\"legendgroup\":\"EM_Other\",\"marker\":{\"color\":\"#FFA15A\",\"size\":[50.0,50.0,50.0,50.0,50.0,50.0,50.0,50.0,50.0,50.0,50.0,50.0],\"sizemode\":\"area\",\"sizeref\":0.16,\"symbol\":\"circle\"},\"mode\":\"markers\",\"name\":\"EM_Other\",\"orientation\":\"v\",\"showlegend\":true,\"x\":[-0.3345846,1.936941,-0.4445311,2.847919,2.5,-1.247972,0.2190611,1.199894,-0.05485681,3.161295,0.7249115,-100.0],\"xaxis\":\"x\",\"y\":[-0.42515,-0.42515,-0.42515,2.006667,2.915,-0.42515,-0.42515,-0.42515,-0.42515,0.8575,4.131198,-100.0],\"yaxis\":\"y\",\"type\":\"scatter\"},{\"hovertemplate\":\"\\u003cb\\u003e%{hovertext}\\u003c\\u002fb\\u003e\\u003cbr\\u003e\\u003cbr\\u003eRegion=DM_Other\\u003cbr\\u003eTIME=2020\\u003cbr\\u003eInflation Rate=%{x}\\u003cbr\\u003eNominal Interest Rate (3m T-Bill)=%{y}\\u003cbr\\u003esize=%{marker.size}\\u003cextra\\u003e\\u003c\\u002fextra\\u003e\",\"hovertext\":[\"Australia\",\"South Korea\",\"Poland\",\"Israel\",\"Norway\",\"New Zealand\"],\"ids\":[\"AUS\",\"KOR\",\"POL\",\"ISR\",\"NOR\",\"NZL\"],\"legendgroup\":\"DM_Other\",\"marker\":{\"color\":\"#19d3f3\",\"size\":[50.0,50.0,50.0,50.0,50.0,50.0],\"sizemode\":\"area\",\"sizeref\":0.16,\"symbol\":\"circle\"},\"mode\":\"markers\",\"name\":\"DM_Other\",\"orientation\":\"v\",\"showlegend\":true,\"x\":[0.8469055,0.537288,3.4,-0.6144124,1.286585,1.714562],\"xaxis\":\"x\",\"y\":[0.2566667,0.9233333,0.595,0.085,0.6991667,0.4816667],\"yaxis\":\"y\",\"type\":\"scatter\"},{\"hovertemplate\":\"\\u003cb\\u003e%{hovertext}\\u003c\\u002fb\\u003e\\u003cbr\\u003e\\u003cbr\\u003eRegion=DM_Europe\\u003cbr\\u003eTIME=2020\\u003cbr\\u003eInflation Rate=%{x}\\u003cbr\\u003eNominal Interest Rate (3m T-Bill)=%{y}\\u003cbr\\u003esize=%{marker.size}\\u003cextra\\u003e\\u003c\\u002fextra\\u003e\",\"hovertext\":[\"Netherlands\",\"Switzerland\",\"Austria\",\"Belgium\",\"Sweden\",\"Spain\",\"Luxembourg\",\"Portugal\",\"Denmark\",\"Finland\"],\"ids\":[\"NLD\",\"CHE\",\"AUT\",\"BEL\",\"SWE\",\"ESP\",\"LUX\",\"PRT\",\"DNK\",\"FIN\"],\"legendgroup\":\"DM_Europe\",\"marker\":{\"color\":\"#FF6692\",\"size\":[50.0,50.0,50.0,50.0,50.0,50.0,50.0,50.0,50.0,50.0],\"sizemode\":\"area\",\"sizeref\":0.16,\"symbol\":\"circle\"},\"mode\":\"markers\",\"name\":\"DM_Europe\",\"orientation\":\"v\",\"showlegend\":true,\"x\":[1.27246,-0.725875,1.381909,0.7407918,0.4973673,-0.322753,0.8199573,-0.01243833,0.420712,0.2905546],\"xaxis\":\"x\",\"y\":[-0.42515,-0.6932642,-0.42515,-0.42515,-0.1368417,-0.42515,-0.42515,-0.42515,-0.2405625,-0.42515],\"yaxis\":\"y\",\"type\":\"scatter\"}],\"name\":\"2020\",\"layout\":{\"title\":{\"text\":\"2020 : COVID-19 pandemic triggers stock market crash, economic uncertainty, and  rate cuts\"}}},{\"data\":[{\"hovertemplate\":\"\\u003cb\\u003e%{hovertext}\\u003c\\u002fb\\u003e\\u003cbr\\u003e\\u003cbr\\u003eRegion=United States\\u003cbr\\u003eTIME=2021\\u003cbr\\u003eInflation Rate=%{x}\\u003cbr\\u003eNominal Interest Rate (3m T-Bill)=%{y}\\u003cbr\\u003esize=%{marker.size}\\u003cextra\\u003e\\u003c\\u002fextra\\u003e\",\"hovertext\":[\"United States\"],\"ids\":[\"USA\"],\"legendgroup\":\"United States\",\"marker\":{\"color\":\"#636efa\",\"size\":[200.0],\"sizemode\":\"area\",\"sizeref\":0.16,\"symbol\":\"circle\"},\"mode\":\"markers\",\"name\":\"United States\",\"orientation\":\"v\",\"showlegend\":true,\"x\":[4.697859],\"xaxis\":\"x\",\"y\":[0.1141667],\"yaxis\":\"y\",\"type\":\"scatter\"},{\"hovertemplate\":\"\\u003cb\\u003e%{hovertext}\\u003c\\u002fb\\u003e\\u003cbr\\u003e\\u003cbr\\u003eRegion=South Africa\\u003cbr\\u003eTIME=2021\\u003cbr\\u003eInflation Rate=%{x}\\u003cbr\\u003eNominal Interest Rate (3m T-Bill)=%{y}\\u003cbr\\u003esize=%{marker.size}\\u003cextra\\u003e\\u003c\\u002fextra\\u003e\",\"hovertext\":[\"South Africa\"],\"ids\":[\"ZAF\"],\"legendgroup\":\"South Africa\",\"marker\":{\"color\":\"#EF553B\",\"size\":[400.0],\"sizemode\":\"area\",\"sizeref\":0.16,\"symbol\":\"circle\"},\"mode\":\"markers\",\"name\":\"South Africa\",\"orientation\":\"v\",\"showlegend\":true,\"x\":[4.611672],\"xaxis\":\"x\",\"y\":[3.78381],\"yaxis\":\"y\",\"type\":\"scatter\"},{\"hovertemplate\":\"\\u003cb\\u003e%{hovertext}\\u003c\\u002fb\\u003e\\u003cbr\\u003e\\u003cbr\\u003eRegion=G7_ex US\\u003cbr\\u003eTIME=2021\\u003cbr\\u003eInflation Rate=%{x}\\u003cbr\\u003eNominal Interest Rate (3m T-Bill)=%{y}\\u003cbr\\u003esize=%{marker.size}\\u003cextra\\u003e\\u003c\\u002fextra\\u003e\",\"hovertext\":[\"Italy\",\"United Kingdom\",\"Canada\",\"France\",\"Japan\",\"Germany\"],\"ids\":[\"ITA\",\"GBR\",\"CAN\",\"FRA\",\"JPN\",\"DEU\"],\"legendgroup\":\"G7_ex US\",\"marker\":{\"color\":\"#00cc96\",\"size\":[50.0,50.0,50.0,50.0,50.0,50.0],\"sizemode\":\"area\",\"sizeref\":0.16,\"symbol\":\"circle\"},\"mode\":\"markers\",\"name\":\"G7_ex US\",\"orientation\":\"v\",\"showlegend\":true,\"x\":[1.873783,2.5,3.395193,1.642331,-0.25,3.066667],\"xaxis\":\"x\",\"y\":[-0.5487667,0.09,0.2092456,-0.5487667,-0.0655,-0.5487667],\"yaxis\":\"y\",\"type\":\"scatter\"},{\"hovertemplate\":\"\\u003cb\\u003e%{hovertext}\\u003c\\u002fb\\u003e\\u003cbr\\u003e\\u003cbr\\u003eRegion=EM_Peer\\u003cbr\\u003eTIME=2021\\u003cbr\\u003eInflation Rate=%{x}\\u003cbr\\u003eNominal Interest Rate (3m T-Bill)=%{y}\\u003cbr\\u003esize=%{marker.size}\\u003cextra\\u003e\\u003c\\u002fextra\\u003e\",\"hovertext\":[\"Chile\",\"Indonesia\",\"Mexico\",\"Colombia\",\"Hungary\",\"India\"],\"ids\":[\"CHL\",\"IDN\",\"MEX\",\"COL\",\"HUN\",\"IND\"],\"legendgroup\":\"EM_Peer\",\"marker\":{\"color\":\"#ab63fa\",\"size\":[100.0,100.0,100.0,100.0,100.0,100.0],\"sizemode\":\"area\",\"sizeref\":0.16,\"symbol\":\"circle\"},\"mode\":\"markers\",\"name\":\"EM_Peer\",\"orientation\":\"v\",\"showlegend\":true,\"x\":[4.524569,1.560136,5.689209,3.495073,5.110965,4.890086],\"xaxis\":\"x\",\"y\":[1.836667,3.665833,4.655833,2.0725,1.367225,3.363333],\"yaxis\":\"y\",\"type\":\"scatter\"},{\"hovertemplate\":\"\\u003cb\\u003e%{hovertext}\\u003c\\u002fb\\u003e\\u003cbr\\u003e\\u003cbr\\u003eRegion=EM_Other\\u003cbr\\u003eTIME=2021\\u003cbr\\u003eInflation Rate=%{x}\\u003cbr\\u003eNominal Interest Rate (3m T-Bill)=%{y}\\u003cbr\\u003esize=%{marker.size}\\u003cextra\\u003e\\u003c\\u002fextra\\u003e\",\"hovertext\":[\"Latvia\",\"Ireland\",\"China\",\"Slovenia\",\"Czech Republic\",\"Lithuania\",\"Estonia\",\"Iceland\",\"Costa Rica\",\"Slovak Republic\",\"Russia\",\"Greece\"],\"ids\":[\"LVA\",\"IRL\",\"CHN\",\"SVN\",\"CZE\",\"LTU\",\"EST\",\"ISL\",\"CRI\",\"SVK\",\"RUS\",\"GRC\"],\"legendgroup\":\"EM_Other\",\"marker\":{\"color\":\"#FFA15A\",\"size\":[50.0,50.0,50.0,50.0,50.0,50.0,50.0,50.0,50.0,50.0,50.0,50.0],\"sizemode\":\"area\",\"sizeref\":0.16,\"symbol\":\"circle\"},\"mode\":\"markers\",\"name\":\"EM_Other\",\"orientation\":\"v\",\"showlegend\":true,\"x\":[3.275814,2.358143,0.9,1.917065,3.839845,4.683544,4.653167,4.444243,1.726478,3.149606,6.694456,1.223826],\"xaxis\":\"x\",\"y\":[-0.5487667,-0.5487667,2.925833,-0.5487667,1.126667,-0.5487667,-0.5487667,1.789167,2.120833,-0.5487667,6.41,-0.5487667],\"yaxis\":\"y\",\"type\":\"scatter\"},{\"hovertemplate\":\"\\u003cb\\u003e%{hovertext}\\u003c\\u002fb\\u003e\\u003cbr\\u003e\\u003cbr\\u003eRegion=DM_Other\\u003cbr\\u003eTIME=2021\\u003cbr\\u003eInflation Rate=%{x}\\u003cbr\\u003eNominal Interest Rate (3m T-Bill)=%{y}\\u003cbr\\u003esize=%{marker.size}\\u003cextra\\u003e\\u003c\\u002fextra\\u003e\",\"hovertext\":[\"Norway\",\"Israel\",\"South Korea\",\"Australia\",\"Poland\",\"New Zealand\"],\"ids\":[\"NOR\",\"ISR\",\"KOR\",\"AUS\",\"POL\",\"NZL\"],\"legendgroup\":\"DM_Other\",\"marker\":{\"color\":\"#19d3f3\",\"size\":[50.0,50.0,50.0,50.0,50.0,50.0],\"sizemode\":\"area\",\"sizeref\":0.16,\"symbol\":\"circle\"},\"mode\":\"markers\",\"name\":\"DM_Other\",\"orientation\":\"v\",\"showlegend\":true,\"x\":[3.483881,1.510201,2.498333,2.86391,5.1,3.941121],\"xaxis\":\"x\",\"y\":[0.5041667,-0.008333334,0.85,0.02833333,0.605,0.4883333],\"yaxis\":\"y\",\"type\":\"scatter\"},{\"hovertemplate\":\"\\u003cb\\u003e%{hovertext}\\u003c\\u002fb\\u003e\\u003cbr\\u003e\\u003cbr\\u003eRegion=DM_Europe\\u003cbr\\u003eTIME=2021\\u003cbr\\u003eInflation Rate=%{x}\\u003cbr\\u003eNominal Interest Rate (3m T-Bill)=%{y}\\u003cbr\\u003esize=%{marker.size}\\u003cextra\\u003e\\u003c\\u002fextra\\u003e\",\"hovertext\":[\"Finland\",\"Switzerland\",\"Luxembourg\",\"Portugal\",\"Spain\",\"Netherlands\",\"Sweden\",\"Austria\",\"Belgium\",\"Denmark\"],\"ids\":[\"FIN\",\"CHE\",\"LUX\",\"PRT\",\"ESP\",\"NLD\",\"SWE\",\"AUT\",\"BEL\",\"DNK\"],\"legendgroup\":\"DM_Europe\",\"marker\":{\"color\":\"#FF6692\",\"size\":[50.0,50.0,50.0,50.0,50.0,50.0,50.0,50.0,50.0,50.0],\"sizemode\":\"area\",\"sizeref\":0.16,\"symbol\":\"circle\"},\"mode\":\"markers\",\"name\":\"DM_Europe\",\"orientation\":\"v\",\"showlegend\":true,\"x\":[2.194574,0.5818142,2.52692,1.265657,3.093135,2.67572,2.163197,2.766667,2.440248,1.853045],\"xaxis\":\"x\",\"y\":[-0.5487667,-0.7393333,-0.5487667,-0.5487667,-0.5487667,-0.5487667,-0.1943333,-0.5487667,-0.5487667,-0.2300674],\"yaxis\":\"y\",\"type\":\"scatter\"}],\"name\":\"2021\",\"layout\":{\"title\":{\"text\":\"2021 : Global inflation surges amid supply chain disruptions\"}}},{\"data\":[{\"hovertemplate\":\"\\u003cb\\u003e%{hovertext}\\u003c\\u002fb\\u003e\\u003cbr\\u003e\\u003cbr\\u003eRegion=United States\\u003cbr\\u003eTIME=2022\\u003cbr\\u003eInflation Rate=%{x}\\u003cbr\\u003eNominal Interest Rate (3m T-Bill)=%{y}\\u003cbr\\u003esize=%{marker.size}\\u003cextra\\u003e\\u003c\\u002fextra\\u003e\",\"hovertext\":[\"United States\"],\"ids\":[\"USA\"],\"legendgroup\":\"United States\",\"marker\":{\"color\":\"#636efa\",\"size\":[200.0],\"sizemode\":\"area\",\"sizeref\":0.16,\"symbol\":\"circle\"},\"mode\":\"markers\",\"name\":\"United States\",\"orientation\":\"v\",\"showlegend\":true,\"x\":[8.0028],\"xaxis\":\"x\",\"y\":[2.2275],\"yaxis\":\"y\",\"type\":\"scatter\"},{\"hovertemplate\":\"\\u003cb\\u003e%{hovertext}\\u003c\\u002fb\\u003e\\u003cbr\\u003e\\u003cbr\\u003eRegion=South Africa\\u003cbr\\u003eTIME=2022\\u003cbr\\u003eInflation Rate=%{x}\\u003cbr\\u003eNominal Interest Rate (3m T-Bill)=%{y}\\u003cbr\\u003esize=%{marker.size}\\u003cextra\\u003e\\u003c\\u002fextra\\u003e\",\"hovertext\":[\"South Africa\"],\"ids\":[\"ZAF\"],\"legendgroup\":\"South Africa\",\"marker\":{\"color\":\"#EF553B\",\"size\":[400.0],\"sizemode\":\"area\",\"sizeref\":0.16,\"symbol\":\"circle\"},\"mode\":\"markers\",\"name\":\"South Africa\",\"orientation\":\"v\",\"showlegend\":true,\"x\":[7.039727],\"xaxis\":\"x\",\"y\":[5.063748],\"yaxis\":\"y\",\"type\":\"scatter\"},{\"hovertemplate\":\"\\u003cb\\u003e%{hovertext}\\u003c\\u002fb\\u003e\\u003cbr\\u003e\\u003cbr\\u003eRegion=G7_ex US\\u003cbr\\u003eTIME=2022\\u003cbr\\u003eInflation Rate=%{x}\\u003cbr\\u003eNominal Interest Rate (3m T-Bill)=%{y}\\u003cbr\\u003esize=%{marker.size}\\u003cextra\\u003e\\u003c\\u002fextra\\u003e\",\"hovertext\":[\"Italy\",\"Germany\",\"Canada\",\"Japan\",\"France\",\"United Kingdom\"],\"ids\":[\"ITA\",\"DEU\",\"CAN\",\"JPN\",\"FRA\",\"GBR\"],\"legendgroup\":\"G7_ex US\",\"marker\":{\"color\":\"#00cc96\",\"size\":[50.0,50.0,50.0,50.0,50.0,50.0],\"sizemode\":\"area\",\"sizeref\":0.16,\"symbol\":\"circle\"},\"mode\":\"markers\",\"name\":\"G7_ex US\",\"orientation\":\"v\",\"showlegend\":true,\"x\":[8.20129,6.872574,6.802801,2.508333,5.222367,7.9],\"xaxis\":\"x\",\"y\":[0.3415667,0.3415667,2.557997,-0.0295,0.3415667,2.000833],\"yaxis\":\"y\",\"type\":\"scatter\"},{\"hovertemplate\":\"\\u003cb\\u003e%{hovertext}\\u003c\\u002fb\\u003e\\u003cbr\\u003e\\u003cbr\\u003eRegion=EM_Peer\\u003cbr\\u003eTIME=2022\\u003cbr\\u003eInflation Rate=%{x}\\u003cbr\\u003eNominal Interest Rate (3m T-Bill)=%{y}\\u003cbr\\u003esize=%{marker.size}\\u003cextra\\u003e\\u003c\\u002fextra\\u003e\",\"hovertext\":[\"Chile\",\"Indonesia\",\"Hungary\",\"Mexico\",\"Colombia\",\"India\"],\"ids\":[\"CHL\",\"IDN\",\"HUN\",\"MEX\",\"COL\",\"IND\"],\"legendgroup\":\"EM_Peer\",\"marker\":{\"color\":\"#ab63fa\",\"size\":[100.0,100.0,100.0,100.0,100.0,100.0],\"sizemode\":\"area\",\"sizeref\":0.16,\"symbol\":\"circle\"},\"mode\":\"markers\",\"name\":\"EM_Peer\",\"orientation\":\"v\",\"showlegend\":true,\"x\":[11.64387,4.209456,14.60814,7.896276,10.17724,5.90043],\"xaxis\":\"x\",\"y\":[9.211667,3.21,9.973392,8.1925,8.499166,5.058333],\"yaxis\":\"y\",\"type\":\"scatter\"},{\"hovertemplate\":\"\\u003cb\\u003e%{hovertext}\\u003c\\u002fb\\u003e\\u003cbr\\u003e\\u003cbr\\u003eRegion=EM_Other\\u003cbr\\u003eTIME=2022\\u003cbr\\u003eInflation Rate=%{x}\\u003cbr\\u003eNominal Interest Rate (3m T-Bill)=%{y}\\u003cbr\\u003esize=%{marker.size}\\u003cextra\\u003e\\u003c\\u002fextra\\u003e\",\"hovertext\":[\"Lithuania\",\"Greece\",\"Slovenia\",\"Slovak Republic\",\"Latvia\",\"Iceland\",\"Ireland\",\"Czech Republic\",\"Estonia\",\"China\",\"Costa Rica\",\"Russia\"],\"ids\":[\"LTU\",\"GRC\",\"SVN\",\"SVK\",\"LVA\",\"ISL\",\"IRL\",\"CZE\",\"EST\",\"CHN\",\"CRI\",\"RUS\"],\"legendgroup\":\"EM_Other\",\"marker\":{\"color\":\"#FFA15A\",\"size\":[50.0,50.0,50.0,50.0,50.0,50.0,50.0,50.0,50.0,50.0,50.0,50.0],\"sizemode\":\"area\",\"sizeref\":0.16,\"symbol\":\"circle\"},\"mode\":\"markers\",\"name\":\"EM_Other\",\"orientation\":\"v\",\"showlegend\":true,\"x\":[19.70505,9.645261,8.833699,12.77415,17.31029,8.308754,7.807375,15.10017,19.39826,-100.0,-100.0,-100.0],\"xaxis\":\"x\",\"y\":[0.3415667,0.3415667,0.3415667,0.3415667,0.3415667,5.126667,0.3415667,6.28,0.3415667,-100.0,-100.0,-100.0],\"yaxis\":\"y\",\"type\":\"scatter\"},{\"hovertemplate\":\"\\u003cb\\u003e%{hovertext}\\u003c\\u002fb\\u003e\\u003cbr\\u003e\\u003cbr\\u003eRegion=DM_Other\\u003cbr\\u003eTIME=2022\\u003cbr\\u003eInflation Rate=%{x}\\u003cbr\\u003eNominal Interest Rate (3m T-Bill)=%{y}\\u003cbr\\u003esize=%{marker.size}\\u003cextra\\u003e\\u003c\\u002fextra\\u003e\",\"hovertext\":[\"South Korea\",\"Israel\",\"Poland\",\"Norway\",\"Australia\",\"New Zealand\"],\"ids\":[\"KOR\",\"ISR\",\"POL\",\"NOR\",\"AUS\",\"NZL\"],\"legendgroup\":\"DM_Other\",\"marker\":{\"color\":\"#19d3f3\",\"size\":[50.0,50.0,50.0,50.0,50.0,50.0],\"sizemode\":\"area\",\"sizeref\":0.16,\"symbol\":\"circle\"},\"mode\":\"markers\",\"name\":\"DM_Other\",\"orientation\":\"v\",\"showlegend\":true,\"x\":[5.087888,4.393597,14.3,5.764123,6.594097,7.172225],\"xaxis\":\"x\",\"y\":[2.475,1.0325,6.189167,2.138333,1.636667,2.765833],\"yaxis\":\"y\",\"type\":\"scatter\"},{\"hovertemplate\":\"\\u003cb\\u003e%{hovertext}\\u003c\\u002fb\\u003e\\u003cbr\\u003e\\u003cbr\\u003eRegion=DM_Europe\\u003cbr\\u003eTIME=2022\\u003cbr\\u003eInflation Rate=%{x}\\u003cbr\\u003eNominal Interest Rate (3m T-Bill)=%{y}\\u003cbr\\u003esize=%{marker.size}\\u003cextra\\u003e\\u003c\\u002fextra\\u003e\",\"hovertext\":[\"Switzerland\",\"Belgium\",\"Spain\",\"Portugal\",\"Austria\",\"Denmark\",\"Finland\",\"Sweden\",\"Luxembourg\",\"Netherlands\"],\"ids\":[\"CHE\",\"BEL\",\"ESP\",\"PRT\",\"AUT\",\"DNK\",\"FIN\",\"SWE\",\"LUX\",\"NLD\"],\"legendgroup\":\"DM_Europe\",\"marker\":{\"color\":\"#FF6692\",\"size\":[50.0,50.0,50.0,50.0,50.0,50.0,50.0,50.0,50.0,50.0],\"sizemode\":\"area\",\"sizeref\":0.16,\"symbol\":\"circle\"},\"mode\":\"markers\",\"name\":\"DM_Europe\",\"orientation\":\"v\",\"showlegend\":true,\"x\":[2.835028,9.597511,8.390576,7.832691,8.54687,7.696567,7.123507,8.369291,6.336008,10.00121],\"xaxis\":\"x\",\"y\":[-0.1266667,0.3415667,0.3415667,0.3415667,0.3415667,0.615516,0.3415667,0.7437167,0.3415667,0.3415667],\"yaxis\":\"y\",\"type\":\"scatter\"}],\"name\":\"2022\",\"layout\":{\"title\":{\"text\":\"2022 : Inflation rises even more due to post-pandemic consumer demand\"}}},{\"data\":[{\"hovertemplate\":\"\\u003cb\\u003e%{hovertext}\\u003c\\u002fb\\u003e\\u003cbr\\u003e\\u003cbr\\u003eRegion=United States\\u003cbr\\u003eTIME=2023\\u003cbr\\u003eInflation Rate=%{x}\\u003cbr\\u003eNominal Interest Rate (3m T-Bill)=%{y}\\u003cbr\\u003esize=%{marker.size}\\u003cextra\\u003e\\u003c\\u002fextra\\u003e\",\"hovertext\":[\"United States\"],\"ids\":[\"USA\"],\"legendgroup\":\"United States\",\"marker\":{\"color\":\"#636efa\",\"size\":[200.0],\"sizemode\":\"area\",\"sizeref\":0.16,\"symbol\":\"circle\"},\"mode\":\"markers\",\"name\":\"United States\",\"orientation\":\"v\",\"showlegend\":true,\"x\":[4.896306833333333],\"xaxis\":\"x\",\"y\":[5.001428571428571],\"yaxis\":\"y\",\"type\":\"scatter\"},{\"hovertemplate\":\"\\u003cb\\u003e%{hovertext}\\u003c\\u002fb\\u003e\\u003cbr\\u003e\\u003cbr\\u003eRegion=South Africa\\u003cbr\\u003eTIME=2023\\u003cbr\\u003eInflation Rate=%{x}\\u003cbr\\u003eNominal Interest Rate (3m T-Bill)=%{y}\\u003cbr\\u003esize=%{marker.size}\\u003cextra\\u003e\\u003c\\u002fextra\\u003e\",\"hovertext\":[\"South Africa\"],\"ids\":[\"ZAF\"],\"legendgroup\":\"South Africa\",\"marker\":{\"color\":\"#EF553B\",\"size\":[400.0],\"sizemode\":\"area\",\"sizeref\":0.16,\"symbol\":\"circle\"},\"mode\":\"markers\",\"name\":\"South Africa\",\"orientation\":\"v\",\"showlegend\":true,\"x\":[6.859463000000001],\"xaxis\":\"x\",\"y\":[7.565315],\"yaxis\":\"y\",\"type\":\"scatter\"},{\"hovertemplate\":\"\\u003cb\\u003e%{hovertext}\\u003c\\u002fb\\u003e\\u003cbr\\u003e\\u003cbr\\u003eRegion=G7_ex US\\u003cbr\\u003eTIME=2023\\u003cbr\\u003eInflation Rate=%{x}\\u003cbr\\u003eNominal Interest Rate (3m T-Bill)=%{y}\\u003cbr\\u003esize=%{marker.size}\\u003cextra\\u003e\\u003c\\u002fextra\\u003e\",\"hovertext\":[\"France\",\"Canada\",\"United Kingdom\",\"Japan\",\"Italy\",\"Germany\"],\"ids\":[\"FRA\",\"CAN\",\"GBR\",\"JPN\",\"ITA\",\"DEU\"],\"legendgroup\":\"G7_ex US\",\"marker\":{\"color\":\"#00cc96\",\"size\":[50.0,50.0,50.0,50.0,50.0,50.0],\"sizemode\":\"area\",\"sizeref\":0.16,\"symbol\":\"circle\"},\"mode\":\"markers\",\"name\":\"G7_ex US\",\"orientation\":\"v\",\"showlegend\":true,\"x\":[5.584939333333334,1.4510933888888888,8.316666666666666,3.466666666666667,7.837540142857144,7.220191857142857],\"xaxis\":\"x\",\"y\":[3.0909857142857144,4.865049285714286,4.625714285714286,-0.006000000000000001,3.0909857142857144,3.0909857142857144],\"yaxis\":\"y\",\"type\":\"scatter\"},{\"hovertemplate\":\"\\u003cb\\u003e%{hovertext}\\u003c\\u002fb\\u003e\\u003cbr\\u003e\\u003cbr\\u003eRegion=EM_Peer\\u003cbr\\u003eTIME=2023\\u003cbr\\u003eInflation Rate=%{x}\\u003cbr\\u003eNominal Interest Rate (3m T-Bill)=%{y}\\u003cbr\\u003esize=%{marker.size}\\u003cextra\\u003e\\u003c\\u002fextra\\u003e\",\"hovertext\":[\"Chile\",\"Indonesia\",\"Hungary\",\"Mexico\",\"Colombia\",\"India\"],\"ids\":[\"CHL\",\"IDN\",\"HUN\",\"MEX\",\"COL\",\"IND\"],\"legendgroup\":\"EM_Peer\",\"marker\":{\"color\":\"#ab63fa\",\"size\":[100.0,100.0,100.0,100.0,100.0,100.0],\"sizemode\":\"area\",\"sizeref\":0.16,\"symbol\":\"circle\"},\"mode\":\"markers\",\"name\":\"EM_Peer\",\"orientation\":\"v\",\"showlegend\":true,\"x\":[9.720826714285716,4.3782882857142855,22.785714285714285,6.329660428571429,12.71042857142857,5.531690333333334],\"xaxis\":\"x\",\"y\":[11.24,6.742857142857143,15.39322857142857,11.422857142857142,13.307142857142859,6.738333333333333],\"yaxis\":\"y\",\"type\":\"scatter\"},{\"hovertemplate\":\"\\u003cb\\u003e%{hovertext}\\u003c\\u002fb\\u003e\\u003cbr\\u003e\\u003cbr\\u003eRegion=EM_Other\\u003cbr\\u003eTIME=2023\\u003cbr\\u003eInflation Rate=%{x}\\u003cbr\\u003eNominal Interest Rate (3m T-Bill)=%{y}\\u003cbr\\u003esize=%{marker.size}\\u003cextra\\u003e\\u003c\\u002fextra\\u003e\",\"hovertext\":[\"Russia\",\"Iceland\",\"Estonia\",\"Ireland\",\"Greece\",\"Slovak Republic\",\"Slovenia\",\"Czech Republic\",\"China\",\"Latvia\",\"Lithuania\",\"Costa Rica\",\"Bulgaria\",\"Romania\",\"Croatia\"],\"ids\":[\"RUS\",\"ISL\",\"EST\",\"IRL\",\"GRC\",\"SVK\",\"SVN\",\"CZE\",\"CHN\",\"LVA\",\"LTU\",\"CRI\",\"BGR\",\"ROU\",\"HRV\"],\"legendgroup\":\"EM_Other\",\"marker\":{\"color\":\"#FFA15A\",\"size\":[50.0,50.0,50.0,50.0,50.0,50.0,50.0,50.0,50.0,50.0,50.0,50.0,50.0,50.0,50.0],\"sizemode\":\"area\",\"sizeref\":0.16,\"symbol\":\"circle\"},\"mode\":\"markers\",\"name\":\"EM_Other\",\"orientation\":\"v\",\"showlegend\":true,\"x\":[-100.0,9.403308142857142,13.116846142857144,7.312082166666666,3.9629177142857146,13.655135,8.66003,13.061080571428572,0.6833333333333332,14.364172,14.003855285714286,-100.0,-100.0,-100.0,-100.0],\"xaxis\":\"x\",\"y\":[-100.0,8.243333333333334,3.0909857142857144,3.0909857142857144,3.0909857142857144,3.0909857142857144,3.0909857142857144,7.175714285714286,2.9283333333333332,3.0909857142857144,3.0909857142857144,5.935,1.2653333333333332,6.8212142857142855,3.0909857142857144],\"yaxis\":\"y\",\"type\":\"scatter\"},{\"hovertemplate\":\"\\u003cb\\u003e%{hovertext}\\u003c\\u002fb\\u003e\\u003cbr\\u003e\\u003cbr\\u003eRegion=DM_Other\\u003cbr\\u003eTIME=2023\\u003cbr\\u003eInflation Rate=%{x}\\u003cbr\\u003eNominal Interest Rate (3m T-Bill)=%{y}\\u003cbr\\u003esize=%{marker.size}\\u003cextra\\u003e\\u003c\\u002fextra\\u003e\",\"hovertext\":[\"Israel\",\"New Zealand\",\"Norway\",\"South Korea\",\"Poland\",\"Australia\"],\"ids\":[\"ISR\",\"NZL\",\"NOR\",\"KOR\",\"POL\",\"AUS\"],\"legendgroup\":\"DM_Other\",\"marker\":{\"color\":\"#19d3f3\",\"size\":[50.0,50.0,50.0,50.0,50.0,50.0],\"sizemode\":\"area\",\"sizeref\":0.16,\"symbol\":\"circle\"},\"mode\":\"markers\",\"name\":\"DM_Other\",\"orientation\":\"v\",\"showlegend\":true,\"x\":[4.9048475,-100.0,6.387558571428571,3.741811857142857,15.049999999999999,-100.0],\"xaxis\":\"x\",\"y\":[4.2299999999999995,5.354285714285714,3.8485714285714283,3.652857142857143,6.8914285714285715,3.79],\"yaxis\":\"y\",\"type\":\"scatter\"},{\"hovertemplate\":\"\\u003cb\\u003e%{hovertext}\\u003c\\u002fb\\u003e\\u003cbr\\u003e\\u003cbr\\u003eRegion=DM_Europe\\u003cbr\\u003eTIME=2023\\u003cbr\\u003eInflation Rate=%{x}\\u003cbr\\u003eNominal Interest Rate (3m T-Bill)=%{y}\\u003cbr\\u003esize=%{marker.size}\\u003cextra\\u003e\\u003c\\u002fextra\\u003e\",\"hovertext\":[\"Switzerland\",\"Finland\",\"Sweden\",\"Luxembourg\",\"Belgium\",\"Denmark\",\"Spain\",\"Austria\",\"Netherlands\",\"Portugal\"],\"ids\":[\"CHE\",\"FIN\",\"SWE\",\"LUX\",\"BEL\",\"DNK\",\"ESP\",\"AUT\",\"NLD\",\"PRT\"],\"legendgroup\":\"DM_Europe\",\"marker\":{\"color\":\"#FF6692\",\"size\":[50.0,50.0,50.0,50.0,50.0,50.0,50.0,50.0,50.0,50.0],\"sizemode\":\"area\",\"sizeref\":0.16,\"symbol\":\"circle\"},\"mode\":\"markers\",\"name\":\"DM_Europe\",\"orientation\":\"v\",\"showlegend\":true,\"x\":[2.519953,7.698068500000001,10.620354666666666,3.8538664285714286,5.774872714285714,5.117183428571429,3.818338142857143,9.632401333333334,5.921972285714285,5.742516285714286],\"xaxis\":\"x\",\"y\":[1.2833333333333334,3.0909857142857144,3.300857142857143,3.0909857142857144,3.0909857142857144,3.215572857142857,3.0909857142857144,3.0909857142857144,3.0909857142857144,3.0909857142857144],\"yaxis\":\"y\",\"type\":\"scatter\"}],\"name\":\"2023\",\"layout\":{\"title\":{\"text\":\"2023 : Central banks globally raise rates amid financial turmoil and ongoing global challenges\"}}}]);\n",
       "                        }).then(function(){\n",
       "                            \n",
       "var gd = document.getElementById('653b4739-bac6-4930-bfcd-cba1f7dbead2');\n",
       "var x = new MutationObserver(function (mutations, observer) {{\n",
       "        var display = window.getComputedStyle(gd).display;\n",
       "        if (!display || display === 'none') {{\n",
       "            console.log([gd, 'removed!']);\n",
       "            Plotly.purge(gd);\n",
       "            observer.disconnect();\n",
       "        }}\n",
       "}});\n",
       "\n",
       "// Listen for the removal of the full notebook cells\n",
       "var notebookContainer = gd.closest('#notebook-container');\n",
       "if (notebookContainer) {{\n",
       "    x.observe(notebookContainer, {childList: true});\n",
       "}}\n",
       "\n",
       "// Listen for the clearing of the current output cell\n",
       "var outputEl = gd.closest('.output');\n",
       "if (outputEl) {{\n",
       "    x.observe(outputEl, {childList: true});\n",
       "}}\n",
       "\n",
       "                        })                };                });            </script>        </div>"
      ]
     },
     "metadata": {},
     "output_type": "display_data"
    }
   ],
   "source": [
    "fig = px.scatter(tagged_df, x=\"Value_cpi\", y=\"Value_rates\", \n",
    "                     animation_frame=\"TIME\", \n",
    "                     animation_group=\"LOCATION\",\n",
    "                     color=\"Region\", \n",
    "                     hover_name=\"COUNTRY_NAME\",\n",
    "                     size=tagged_df['SIZE_tag'].astype(float),  # Convert SIZE_tag to numeric\n",
    "                     log_x=False, \n",
    "                     range_x=[min_value_x, max_value_x], range_y=[min_value_y, max_value_y],\n",
    "                     title='Inflation vs Nominal Interest Rate',\n",
    "                     labels={'Value_cpi': 'Inflation Rate', 'Value_rates': 'Nominal Interest Rate (3m T-Bill)'},\n",
    "                     width=960, height=540,\n",
    "                     template='plotly_dark',\n",
    "                     size_max=50,  # Set the maximum dot size\n",
    "                )\n",
    "\n",
    "# Convert 'Year_Text' to integer\n",
    "titles['Year'] = titles['Year'].astype(int)\n",
    "\n",
    "# Create a dictionary to map years to titles\n",
    "year_to_title = dict(zip(titles['Year'], titles['Text']))\n",
    "\n",
    "# Iterate through the frames to update layout with annotations\n",
    "for k in range(len(fig.frames)):\n",
    "    frame_time = int(fig.frames[k].name)\n",
    "    annotation_text = year_to_title.get(frame_time, \"\")  # Get title from the dictionary\n",
    "    \n",
    "    if annotation_text:\n",
    "        fig.frames[k].layout.title = annotation_text  # Set the title text\n",
    "\n",
    "fig.update_traces(\n",
    "    marker=dict(opacity=0.7), \n",
    "    selector=dict(mode='markers')\n",
    ")\n",
    "\n",
    "fig.update_layout(\n",
    "    updatemenus=[\n",
    "        dict(type='buttons',\n",
    "             showactive=False,\n",
    "             buttons=[\n",
    "                 dict(label='Play',\n",
    "                      method='animate',\n",
    "                      args=[None, dict(frame=dict(duration=5000), fromcurrent=True, transition=dict(duration=0))]\n",
    "                     ),\n",
    "                 dict(label='Pause',\n",
    "                      method='animate',\n",
    "                      args=[[None], dict(frame=dict(duration=0), mode='immediate', transition=dict(duration=0))]\n",
    "                     )\n",
    "             ]\n",
    "            )\n",
    "        ],\n",
    "    sliders=[dict(steps=[dict(args=[[f.name], dict(mode='immediate', redraw=True)],\n",
    "                              label=str(f.name),\n",
    "                              method='animate') for f in fig.frames],\n",
    "                transition=dict(duration=0),\n",
    "                x=0.1,  # Slider starting position\n",
    "                len=1.0  # Slider length\n",
    "               )\n",
    "            ],\n",
    "    title=dict(\n",
    "        text='Chronology of Inflation and Nominal Risk-Free Interest Rates',  # Set initial title\n",
    "        font=dict(size=18, color=\"white\")\n",
    "    )\n",
    ")\n",
    "\n",
    "fig.show()\n"
   ]
  },
  {
   "cell_type": "code",
   "execution_count": null,
   "id": "62676080-43c8-4427-b2bb-230c00876b8d",
   "metadata": {},
   "outputs": [],
   "source": []
  }
 ],
 "metadata": {
  "kernelspec": {
   "display_name": "Python 3 (ipykernel)",
   "language": "python",
   "name": "python3"
  },
  "language_info": {
   "codemirror_mode": {
    "name": "ipython",
    "version": 3
   },
   "file_extension": ".py",
   "mimetype": "text/x-python",
   "name": "python",
   "nbconvert_exporter": "python",
   "pygments_lexer": "ipython3",
   "version": "3.8.8"
  }
 },
 "nbformat": 4,
 "nbformat_minor": 5
}
